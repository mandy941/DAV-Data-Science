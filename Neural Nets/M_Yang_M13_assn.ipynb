{
  "nbformat": 4,
  "nbformat_minor": 0,
  "metadata": {
    "kernelspec": {
      "display_name": "Python 3",
      "language": "python",
      "name": "python3"
    },
    "language_info": {
      "codemirror_mode": {
        "name": "ipython",
        "version": 3
      },
      "file_extension": ".py",
      "mimetype": "text/x-python",
      "name": "python",
      "nbconvert_exporter": "python",
      "pygments_lexer": "ipython3",
      "version": "3.7.3"
    },
    "colab": {
      "name": "Project3.ipynb",
      "provenance": [],
      "collapsed_sections": []
    }
  },
  "cells": [
    {
      "cell_type": "markdown",
      "metadata": {
        "id": "lpctjbOMCuOy",
        "colab_type": "text"
      },
      "source": [
        "# DAV 6150 Module 13\n",
        "\n",
        "- by Group Manling Yang, Xiaojia He, Qi Sun\n",
        "\n",
        "***\n",
        "## Introduction\n",
        "\n",
        "The purpose of this study is to build neural network models to predict the cut class of a given diamond. We'll build three models with different parameters, evaluate their performances, and choose a best one.\n",
        "\n",
        "<img src=\"https://raw.githubusercontent.com/susanqisun/DAV-6150/master/assignments/picture/gia-diagramcut.jpg\" width=\"500\">\n",
        "\n",
        "This dataset is comprised of 53940 observations with 10 variables.\n",
        "\n",
        "**Independent variables:**\n",
        "\n",
        "1. price: price in US dollars (\\$326--\\$18,823), continuous data.\n",
        "\n",
        "2. carat: weight of the diamond (0.2--5.01), continuous data.\n",
        "\n",
        "3. color: diamond colour, from D (best) to J (worst), ordinal data.\n",
        "\n",
        "4. clarity: a measurement of how clear the diamond is (I1 (worst), SI2, SI1, VS2, VS1, VVS2, VVS1, IF (best)), categorical data.\n",
        "\n",
        "5. x: length in mm (0--10.74), continuous data.\n",
        "\n",
        "6. y: width in mm (0--58.9), continuous data.\n",
        "\n",
        "7. z: depth in mm (0--31.8), continuous data.\n",
        "\n",
        "8. depth: total depth percentage = z / mean(x, y) = 2 * z / (x + y) (43--79), , continuous data.\n",
        "\n",
        "9. table: width of top of diamond relative to widest point (43--95), continuous data.\n",
        "\n",
        "**Dependent variable:**\n",
        "\n",
        "**cut**: quality of the cut (Fair, Good, Very Good, Premium, Ideal), ordinal data\n",
        "\n",
        "<img src=\"https://raw.githubusercontent.com/susanqisun/DAV-6150/master/assignments/picture/6PannTm.jpg\" width=\"500\">\n",
        "\n",
        "Reference: https://ggplot2.tidyverse.org/reference/diamonds.html \n",
        "\n",
        "**Domain Knowledge:**\n",
        "\n",
        "A diamond’s cut refers to the style in which the stone is shaped. Cut does not mean the jewel’s shape itself but rather the proportions and facets of its design. It's a diamond’s cut that determines its overall look as well as its ability to reflect light. This makes it one of the most important aspects affecting its value.\n",
        "\n",
        "Diamond cut is defined by five main factors: table, depth, symmetry, polish, and cut grade. These factors are evaluated using the attributes of brilliance, fire, and scintillation. \n",
        "\n",
        "https://www.brilliance.com/diamonds/factors-diamond-cut-quality-comparison\n",
        "\n",
        "In conjunction with diamond cut grade, the carat size of a diamond would affect the physical diameter (face-up size) that an observer sees.\n",
        "\n",
        "https://beyond4cs.com/carat/weight-vs-cut/\n",
        "\n",
        "As we know, diamond prices can vary hugely depending on a diamond's shape, cut quality, clarity and color. Therefore, we can assume the price could also predict the diamond cut. The higher price, the better diamond cut. \n"
      ]
    },
    {
      "cell_type": "code",
      "metadata": {
        "id": "5vxMzD_1CuOz",
        "colab_type": "code",
        "colab": {}
      },
      "source": [
        "# Importing required libraries.\n",
        "\n",
        "import pandas as pd\n",
        "import numpy as np\n",
        "\n",
        "import seaborn as sns #visualisation\n",
        "import matplotlib.pyplot as plt #visualisation\n",
        "%matplotlib inline \n",
        "sns.set(color_codes=True)\n",
        "\n",
        "#disable chained assignments\n",
        "pd.options.mode.chained_assignment = None "
      ],
      "execution_count": null,
      "outputs": []
    },
    {
      "cell_type": "markdown",
      "metadata": {
        "id": "i8DyXBthCuO1",
        "colab_type": "text"
      },
      "source": [
        "***\n",
        "## Step 1: Load data into the data frame from GitHub\n",
        "\n",
        "After reading the dataset from Github\n",
        "\n",
        "`.head()` returns the first 5 rows of the dataset. "
      ]
    },
    {
      "cell_type": "code",
      "metadata": {
        "id": "YC1aAgH8CuO2",
        "colab_type": "code",
        "colab": {
          "base_uri": "https://localhost:8080/",
          "height": 202
        },
        "outputId": "2a38d983-9742-45c9-e4d2-55b571a50fae"
      },
      "source": [
        "# read the data from Github\n",
        "data = pd.read_csv('https://raw.githubusercontent.com/mandy941/DAV-Data-Science/master/Gradient%20Descent%20%2B%20Gradient%20Boosting/Project3_Data.csv')\n",
        "data.head()\n"
      ],
      "execution_count": null,
      "outputs": [
        {
          "output_type": "execute_result",
          "data": {
            "text/html": [
              "<div>\n",
              "<style scoped>\n",
              "    .dataframe tbody tr th:only-of-type {\n",
              "        vertical-align: middle;\n",
              "    }\n",
              "\n",
              "    .dataframe tbody tr th {\n",
              "        vertical-align: top;\n",
              "    }\n",
              "\n",
              "    .dataframe thead th {\n",
              "        text-align: right;\n",
              "    }\n",
              "</style>\n",
              "<table border=\"1\" class=\"dataframe\">\n",
              "  <thead>\n",
              "    <tr style=\"text-align: right;\">\n",
              "      <th></th>\n",
              "      <th>carat</th>\n",
              "      <th>cut</th>\n",
              "      <th>color</th>\n",
              "      <th>clarity</th>\n",
              "      <th>depth</th>\n",
              "      <th>table</th>\n",
              "      <th>price</th>\n",
              "      <th>x</th>\n",
              "      <th>y</th>\n",
              "      <th>z</th>\n",
              "    </tr>\n",
              "  </thead>\n",
              "  <tbody>\n",
              "    <tr>\n",
              "      <th>0</th>\n",
              "      <td>0.23</td>\n",
              "      <td>Ideal</td>\n",
              "      <td>E</td>\n",
              "      <td>SI2</td>\n",
              "      <td>61.5</td>\n",
              "      <td>55.0</td>\n",
              "      <td>326</td>\n",
              "      <td>3.95</td>\n",
              "      <td>3.98</td>\n",
              "      <td>2.43</td>\n",
              "    </tr>\n",
              "    <tr>\n",
              "      <th>1</th>\n",
              "      <td>0.21</td>\n",
              "      <td>Premium</td>\n",
              "      <td>E</td>\n",
              "      <td>SI1</td>\n",
              "      <td>59.8</td>\n",
              "      <td>61.0</td>\n",
              "      <td>326</td>\n",
              "      <td>3.89</td>\n",
              "      <td>3.84</td>\n",
              "      <td>2.31</td>\n",
              "    </tr>\n",
              "    <tr>\n",
              "      <th>2</th>\n",
              "      <td>0.23</td>\n",
              "      <td>Good</td>\n",
              "      <td>E</td>\n",
              "      <td>VS1</td>\n",
              "      <td>56.9</td>\n",
              "      <td>65.0</td>\n",
              "      <td>327</td>\n",
              "      <td>4.05</td>\n",
              "      <td>4.07</td>\n",
              "      <td>2.31</td>\n",
              "    </tr>\n",
              "    <tr>\n",
              "      <th>3</th>\n",
              "      <td>0.29</td>\n",
              "      <td>Premium</td>\n",
              "      <td>I</td>\n",
              "      <td>VS2</td>\n",
              "      <td>62.4</td>\n",
              "      <td>58.0</td>\n",
              "      <td>334</td>\n",
              "      <td>4.20</td>\n",
              "      <td>4.23</td>\n",
              "      <td>2.63</td>\n",
              "    </tr>\n",
              "    <tr>\n",
              "      <th>4</th>\n",
              "      <td>0.31</td>\n",
              "      <td>Good</td>\n",
              "      <td>J</td>\n",
              "      <td>SI2</td>\n",
              "      <td>63.3</td>\n",
              "      <td>58.0</td>\n",
              "      <td>335</td>\n",
              "      <td>4.34</td>\n",
              "      <td>4.35</td>\n",
              "      <td>2.75</td>\n",
              "    </tr>\n",
              "  </tbody>\n",
              "</table>\n",
              "</div>"
            ],
            "text/plain": [
              "   carat      cut color clarity  depth  table  price     x     y     z\n",
              "0   0.23    Ideal     E     SI2   61.5   55.0    326  3.95  3.98  2.43\n",
              "1   0.21  Premium     E     SI1   59.8   61.0    326  3.89  3.84  2.31\n",
              "2   0.23     Good     E     VS1   56.9   65.0    327  4.05  4.07  2.31\n",
              "3   0.29  Premium     I     VS2   62.4   58.0    334  4.20  4.23  2.63\n",
              "4   0.31     Good     J     SI2   63.3   58.0    335  4.34  4.35  2.75"
            ]
          },
          "metadata": {
            "tags": []
          },
          "execution_count": 3
        }
      ]
    },
    {
      "cell_type": "markdown",
      "metadata": {
        "id": "m9903hq6CuO4",
        "colab_type": "text"
      },
      "source": [
        "***\n",
        "## Step 2: Exploratory Data Analysis"
      ]
    },
    {
      "cell_type": "markdown",
      "metadata": {
        "id": "3yEuh6yKCuO5",
        "colab_type": "text"
      },
      "source": [
        "\n",
        "### 1. Data exploration:\n",
        "`.shape` returns the number of rows by the number of columns for the dataset.\n",
        "\n",
        "`.describe()` summarizes the count, mean, standard deviation, min, and max for numeric variables. \n",
        "\n",
        "`.dtypes` identifies the Data Types.\n",
        "\n",
        "`.nunique()` returns the number of unique values for each variable.\n",
        "\n",
        "`.isnull().sum()` checks missing values for each column.\n",
        "\n",
        "`.count()` returns the count for each variable."
      ]
    },
    {
      "cell_type": "code",
      "metadata": {
        "id": "nvFWFScNCuO5",
        "colab_type": "code",
        "colab": {
          "base_uri": "https://localhost:8080/",
          "height": 34
        },
        "outputId": "9009ce4e-5c66-4bd0-e94f-2852daf7047b"
      },
      "source": [
        "df = data.copy()\n",
        "# check the shape for the dataframe\n",
        "df.shape"
      ],
      "execution_count": null,
      "outputs": [
        {
          "output_type": "execute_result",
          "data": {
            "text/plain": [
              "(53940, 10)"
            ]
          },
          "metadata": {
            "tags": []
          },
          "execution_count": 4
        }
      ]
    },
    {
      "cell_type": "code",
      "metadata": {
        "id": "gope9hKvCuO7",
        "colab_type": "code",
        "colab": {
          "base_uri": "https://localhost:8080/",
          "height": 263
        },
        "outputId": "b8faccb7-7953-4125-b4af-6f858cd9d917"
      },
      "source": [
        "# statistical summary of numeric variables:\n",
        "df.describe().T"
      ],
      "execution_count": null,
      "outputs": [
        {
          "output_type": "execute_result",
          "data": {
            "text/html": [
              "<div>\n",
              "<style scoped>\n",
              "    .dataframe tbody tr th:only-of-type {\n",
              "        vertical-align: middle;\n",
              "    }\n",
              "\n",
              "    .dataframe tbody tr th {\n",
              "        vertical-align: top;\n",
              "    }\n",
              "\n",
              "    .dataframe thead th {\n",
              "        text-align: right;\n",
              "    }\n",
              "</style>\n",
              "<table border=\"1\" class=\"dataframe\">\n",
              "  <thead>\n",
              "    <tr style=\"text-align: right;\">\n",
              "      <th></th>\n",
              "      <th>count</th>\n",
              "      <th>mean</th>\n",
              "      <th>std</th>\n",
              "      <th>min</th>\n",
              "      <th>25%</th>\n",
              "      <th>50%</th>\n",
              "      <th>75%</th>\n",
              "      <th>max</th>\n",
              "    </tr>\n",
              "  </thead>\n",
              "  <tbody>\n",
              "    <tr>\n",
              "      <th>carat</th>\n",
              "      <td>53940.0</td>\n",
              "      <td>0.797940</td>\n",
              "      <td>0.474011</td>\n",
              "      <td>0.2</td>\n",
              "      <td>0.40</td>\n",
              "      <td>0.70</td>\n",
              "      <td>1.04</td>\n",
              "      <td>5.01</td>\n",
              "    </tr>\n",
              "    <tr>\n",
              "      <th>depth</th>\n",
              "      <td>53940.0</td>\n",
              "      <td>61.749405</td>\n",
              "      <td>1.432621</td>\n",
              "      <td>43.0</td>\n",
              "      <td>61.00</td>\n",
              "      <td>61.80</td>\n",
              "      <td>62.50</td>\n",
              "      <td>79.00</td>\n",
              "    </tr>\n",
              "    <tr>\n",
              "      <th>table</th>\n",
              "      <td>53940.0</td>\n",
              "      <td>57.457184</td>\n",
              "      <td>2.234491</td>\n",
              "      <td>43.0</td>\n",
              "      <td>56.00</td>\n",
              "      <td>57.00</td>\n",
              "      <td>59.00</td>\n",
              "      <td>95.00</td>\n",
              "    </tr>\n",
              "    <tr>\n",
              "      <th>price</th>\n",
              "      <td>53940.0</td>\n",
              "      <td>3932.799722</td>\n",
              "      <td>3989.439738</td>\n",
              "      <td>326.0</td>\n",
              "      <td>950.00</td>\n",
              "      <td>2401.00</td>\n",
              "      <td>5324.25</td>\n",
              "      <td>18823.00</td>\n",
              "    </tr>\n",
              "    <tr>\n",
              "      <th>x</th>\n",
              "      <td>53940.0</td>\n",
              "      <td>5.731157</td>\n",
              "      <td>1.121761</td>\n",
              "      <td>0.0</td>\n",
              "      <td>4.71</td>\n",
              "      <td>5.70</td>\n",
              "      <td>6.54</td>\n",
              "      <td>10.74</td>\n",
              "    </tr>\n",
              "    <tr>\n",
              "      <th>y</th>\n",
              "      <td>53940.0</td>\n",
              "      <td>5.734526</td>\n",
              "      <td>1.142135</td>\n",
              "      <td>0.0</td>\n",
              "      <td>4.72</td>\n",
              "      <td>5.71</td>\n",
              "      <td>6.54</td>\n",
              "      <td>58.90</td>\n",
              "    </tr>\n",
              "    <tr>\n",
              "      <th>z</th>\n",
              "      <td>53940.0</td>\n",
              "      <td>3.538734</td>\n",
              "      <td>0.705699</td>\n",
              "      <td>0.0</td>\n",
              "      <td>2.91</td>\n",
              "      <td>3.53</td>\n",
              "      <td>4.04</td>\n",
              "      <td>31.80</td>\n",
              "    </tr>\n",
              "  </tbody>\n",
              "</table>\n",
              "</div>"
            ],
            "text/plain": [
              "         count         mean          std  ...      50%      75%       max\n",
              "carat  53940.0     0.797940     0.474011  ...     0.70     1.04      5.01\n",
              "depth  53940.0    61.749405     1.432621  ...    61.80    62.50     79.00\n",
              "table  53940.0    57.457184     2.234491  ...    57.00    59.00     95.00\n",
              "price  53940.0  3932.799722  3989.439738  ...  2401.00  5324.25  18823.00\n",
              "x      53940.0     5.731157     1.121761  ...     5.70     6.54     10.74\n",
              "y      53940.0     5.734526     1.142135  ...     5.71     6.54     58.90\n",
              "z      53940.0     3.538734     0.705699  ...     3.53     4.04     31.80\n",
              "\n",
              "[7 rows x 8 columns]"
            ]
          },
          "metadata": {
            "tags": []
          },
          "execution_count": 4
        }
      ]
    },
    {
      "cell_type": "code",
      "metadata": {
        "id": "8QVfoglECuO9",
        "colab_type": "code",
        "colab": {
          "base_uri": "https://localhost:8080/",
          "height": 410
        },
        "outputId": "ae875cd6-fdf4-433f-a077-78fc267cbcb8"
      },
      "source": [
        "#Identify the Data Types\n",
        "df_info = pd.DataFrame(df.dtypes,columns=['Dtype'])\n",
        "\n",
        "#Identify the unique values\n",
        "df_info['Nunique'] = df.nunique()\n",
        "\n",
        "#check missing values for each column\n",
        "df_info['MissingValues']=df.isnull().sum()\n",
        "\n",
        "# Identify the count for each variable\n",
        "df_info['Count']=df.count()\n",
        "\n",
        "# Identify the zero values for each variable\n",
        "df_info['ZeroValues']=(df==0).sum()\n",
        "\n",
        "# how many '?' values\n",
        "df_info['?Values']=(df=='?').sum()\n",
        "\n",
        "df_info"
      ],
      "execution_count": null,
      "outputs": [
        {
          "output_type": "stream",
          "text": [
            "/usr/local/lib/python3.6/dist-packages/pandas/core/ops/array_ops.py:253: FutureWarning: elementwise comparison failed; returning scalar instead, but in the future will perform elementwise comparison\n",
            "  res_values = method(rvalues)\n"
          ],
          "name": "stderr"
        },
        {
          "output_type": "execute_result",
          "data": {
            "text/html": [
              "<div>\n",
              "<style scoped>\n",
              "    .dataframe tbody tr th:only-of-type {\n",
              "        vertical-align: middle;\n",
              "    }\n",
              "\n",
              "    .dataframe tbody tr th {\n",
              "        vertical-align: top;\n",
              "    }\n",
              "\n",
              "    .dataframe thead th {\n",
              "        text-align: right;\n",
              "    }\n",
              "</style>\n",
              "<table border=\"1\" class=\"dataframe\">\n",
              "  <thead>\n",
              "    <tr style=\"text-align: right;\">\n",
              "      <th></th>\n",
              "      <th>Dtype</th>\n",
              "      <th>Nunique</th>\n",
              "      <th>MissingValues</th>\n",
              "      <th>Count</th>\n",
              "      <th>ZeroValues</th>\n",
              "      <th>?Values</th>\n",
              "    </tr>\n",
              "  </thead>\n",
              "  <tbody>\n",
              "    <tr>\n",
              "      <th>carat</th>\n",
              "      <td>float64</td>\n",
              "      <td>273</td>\n",
              "      <td>0</td>\n",
              "      <td>53940</td>\n",
              "      <td>0</td>\n",
              "      <td>0</td>\n",
              "    </tr>\n",
              "    <tr>\n",
              "      <th>cut</th>\n",
              "      <td>object</td>\n",
              "      <td>5</td>\n",
              "      <td>0</td>\n",
              "      <td>53940</td>\n",
              "      <td>0</td>\n",
              "      <td>0</td>\n",
              "    </tr>\n",
              "    <tr>\n",
              "      <th>color</th>\n",
              "      <td>object</td>\n",
              "      <td>7</td>\n",
              "      <td>0</td>\n",
              "      <td>53940</td>\n",
              "      <td>0</td>\n",
              "      <td>0</td>\n",
              "    </tr>\n",
              "    <tr>\n",
              "      <th>clarity</th>\n",
              "      <td>object</td>\n",
              "      <td>8</td>\n",
              "      <td>0</td>\n",
              "      <td>53940</td>\n",
              "      <td>0</td>\n",
              "      <td>0</td>\n",
              "    </tr>\n",
              "    <tr>\n",
              "      <th>depth</th>\n",
              "      <td>float64</td>\n",
              "      <td>184</td>\n",
              "      <td>0</td>\n",
              "      <td>53940</td>\n",
              "      <td>0</td>\n",
              "      <td>0</td>\n",
              "    </tr>\n",
              "    <tr>\n",
              "      <th>table</th>\n",
              "      <td>float64</td>\n",
              "      <td>127</td>\n",
              "      <td>0</td>\n",
              "      <td>53940</td>\n",
              "      <td>0</td>\n",
              "      <td>0</td>\n",
              "    </tr>\n",
              "    <tr>\n",
              "      <th>price</th>\n",
              "      <td>int64</td>\n",
              "      <td>11602</td>\n",
              "      <td>0</td>\n",
              "      <td>53940</td>\n",
              "      <td>0</td>\n",
              "      <td>0</td>\n",
              "    </tr>\n",
              "    <tr>\n",
              "      <th>x</th>\n",
              "      <td>float64</td>\n",
              "      <td>554</td>\n",
              "      <td>0</td>\n",
              "      <td>53940</td>\n",
              "      <td>8</td>\n",
              "      <td>0</td>\n",
              "    </tr>\n",
              "    <tr>\n",
              "      <th>y</th>\n",
              "      <td>float64</td>\n",
              "      <td>552</td>\n",
              "      <td>0</td>\n",
              "      <td>53940</td>\n",
              "      <td>7</td>\n",
              "      <td>0</td>\n",
              "    </tr>\n",
              "    <tr>\n",
              "      <th>z</th>\n",
              "      <td>float64</td>\n",
              "      <td>375</td>\n",
              "      <td>0</td>\n",
              "      <td>53940</td>\n",
              "      <td>20</td>\n",
              "      <td>0</td>\n",
              "    </tr>\n",
              "  </tbody>\n",
              "</table>\n",
              "</div>"
            ],
            "text/plain": [
              "           Dtype  Nunique  MissingValues  Count  ZeroValues  ?Values\n",
              "carat    float64      273              0  53940           0        0\n",
              "cut       object        5              0  53940           0        0\n",
              "color     object        7              0  53940           0        0\n",
              "clarity   object        8              0  53940           0        0\n",
              "depth    float64      184              0  53940           0        0\n",
              "table    float64      127              0  53940           0        0\n",
              "price      int64    11602              0  53940           0        0\n",
              "x        float64      554              0  53940           8        0\n",
              "y        float64      552              0  53940           7        0\n",
              "z        float64      375              0  53940          20        0"
            ]
          },
          "metadata": {
            "tags": []
          },
          "execution_count": 5
        }
      ]
    },
    {
      "cell_type": "markdown",
      "metadata": {
        "id": "a24y5w1TCuPA",
        "colab_type": "text"
      },
      "source": [
        "There is no 0mm length, width, or depth diamond in the world. So, there are some mistakes in observations where x, y, or z columns have zero values. Consider we have 53940 observations and fewer zero values in column x, y, z, we will drop them later. "
      ]
    },
    {
      "cell_type": "markdown",
      "metadata": {
        "id": "nP3d-lpyCuPC",
        "colab_type": "text"
      },
      "source": [
        "### 2. Visualize numerical variables"
      ]
    },
    {
      "cell_type": "code",
      "metadata": {
        "id": "qXyBeWwBCuPD",
        "colab_type": "code",
        "colab": {
          "base_uri": "https://localhost:8080/",
          "height": 68
        },
        "outputId": "4890ea9b-162c-42a8-8bee-d9bfa3bfa960"
      },
      "source": [
        "# define numerical, categorical, and boolean data\n",
        "numerical_columns = []\n",
        "boolean_column = []\n",
        "categorical_columns = []\n",
        "\n",
        "for i in df.columns[:]:\n",
        "    if(df[i].dtype=='object'):\n",
        "        categorical_columns.append(i)\n",
        "    elif (df[i].dtype=='bool'):\n",
        "        boolean_column.append(i)\n",
        "    else:\n",
        "        numerical_columns.append(i)\n",
        "        \n",
        "print('1. Numerical variables:',numerical_columns)\n",
        "print('2. Boolean variable:',boolean_column)\n",
        "print('3. Categorical variables:',categorical_columns)\n"
      ],
      "execution_count": null,
      "outputs": [
        {
          "output_type": "stream",
          "text": [
            "1. Numerical variables: ['carat', 'depth', 'table', 'price', 'x', 'y', 'z']\n",
            "2. Boolean variable: []\n",
            "3. Categorical variables: ['cut', 'color', 'clarity']\n"
          ],
          "name": "stdout"
        }
      ]
    },
    {
      "cell_type": "code",
      "metadata": {
        "id": "NbFecntOCuPF",
        "colab_type": "code",
        "colab": {
          "base_uri": "https://localhost:8080/",
          "height": 783
        },
        "outputId": "bc9c7fc4-7971-4b6c-a3d4-ea13ef282c54"
      },
      "source": [
        "# Distributions for each of numerical variables.\n",
        "df[numerical_columns].hist(figsize=(15, 10), bins=20, xlabelsize=10, ylabelsize=10)"
      ],
      "execution_count": null,
      "outputs": [
        {
          "output_type": "execute_result",
          "data": {
            "text/plain": [
              "array([[<matplotlib.axes._subplots.AxesSubplot object at 0x7f152b560d68>,\n",
              "        <matplotlib.axes._subplots.AxesSubplot object at 0x7f152b4c33c8>,\n",
              "        <matplotlib.axes._subplots.AxesSubplot object at 0x7f152b474a20>],\n",
              "       [<matplotlib.axes._subplots.AxesSubplot object at 0x7f152b4300b8>,\n",
              "        <matplotlib.axes._subplots.AxesSubplot object at 0x7f152b45f710>,\n",
              "        <matplotlib.axes._subplots.AxesSubplot object at 0x7f152b40ed68>],\n",
              "       [<matplotlib.axes._subplots.AxesSubplot object at 0x7f152b3cd400>,\n",
              "        <matplotlib.axes._subplots.AxesSubplot object at 0x7f152b37da20>,\n",
              "        <matplotlib.axes._subplots.AxesSubplot object at 0x7f152b37da90>]],\n",
              "      dtype=object)"
            ]
          },
          "metadata": {
            "tags": []
          },
          "execution_count": 7
        },
        {
          "output_type": "display_data",
          "data": {
            "image/png": "[encoded data removed]",
            "text/plain": [
              "<Figure size 1080x720 with 9 Axes>"
            ]
          },
          "metadata": {
            "tags": [],
            "needs_background": "light"
          }
        }
      ]
    },
    {
      "cell_type": "markdown",
      "metadata": {
        "id": "fY-TLCIiWYvv",
        "colab_type": "text"
      },
      "source": [
        "1. In the dataset, most of the diamonds are equal or less than 1 carat. Their width of the top of the diamond relative to the widest point is less than 60, and their price is less than 5000 dollars. \n",
        "2. Most of the diamonds have 4-5 lengths, 3-9 width, and 2-5 depth. "
      ]
    },
    {
      "cell_type": "markdown",
      "metadata": {
        "id": "xenbZEvvCuPH",
        "colab_type": "text"
      },
      "source": [
        "### 3. Visualize categorical variables"
      ]
    },
    {
      "cell_type": "code",
      "metadata": {
        "id": "CFkkTljYCuPH",
        "colab_type": "code",
        "colab": {
          "base_uri": "https://localhost:8080/",
          "height": 431
        },
        "outputId": "5bbd4b43-9a05-4790-9983-2ae081a1db62"
      },
      "source": [
        "# create bar chart for categorical data\n",
        "fig, ax = plt.subplots(1, 3, figsize=(19, 6))\n",
        "for variable, subplot in zip(categorical_columns, ax.flatten()):\n",
        "    sns.countplot(df[variable], ax=subplot)\n",
        "    for label in subplot.get_xticklabels():\n",
        "        label.set_rotation(45)"
      ],
      "execution_count": null,
      "outputs": [
        {
          "output_type": "display_data",
          "data": {
            "image/png": "[encoded data removed]",
            "text/plain": [
              "<Figure size 1368x432 with 3 Axes>"
            ]
          },
          "metadata": {
            "tags": [],
            "needs_background": "light"
          }
        }
      ]
    },
    {
      "cell_type": "markdown",
      "metadata": {
        "id": "irqHH7faWaTn",
        "colab_type": "text"
      },
      "source": [
        "1. Ideal, Premium, and Very Good level are the top 3 cut levels in all diamonds. There are around 5000 diamonds are in Good cut level. Approximately 2500 diamonds are in a Fair cut level.\n",
        "2. Most of the diamonds are closed to the best and middle-level colors.  E, G, and F  are the most common  Color levels.  \n",
        "3. Most of the diamonds are SI1 and VS2 clarity levels. "
      ]
    },
    {
      "cell_type": "markdown",
      "metadata": {
        "id": "MRCXv30oCuPJ",
        "colab_type": "text"
      },
      "source": [
        "### 4. Check the relationship between independent variables and the dependent variable\n"
      ]
    },
    {
      "cell_type": "code",
      "metadata": {
        "id": "Nzs-QTrkCuPJ",
        "colab_type": "code",
        "colab": {
          "base_uri": "https://localhost:8080/",
          "height": 632
        },
        "outputId": "5d5016c2-9d9d-4683-8565-9cab1775ce4c"
      },
      "source": [
        "plt.rcParams['figure.figsize'] = (10, 5)\n",
        "\n",
        "# show the relationship of color and cut\n",
        "plt.subplot(121)\n",
        "sns.countplot(x='cut',hue= 'color', data=df, palette = 'husl')\n",
        "plt.title('Color vs. Cut')\n",
        "\n",
        "# check the different cut percentages in every color \n",
        "ax= plt.subplot(122)\n",
        "c_c = pd.crosstab(df.color, df.cut)\n",
        "c_c.div(c_c .sum(1).astype(float), axis=0).plot(kind='bar', stacked=True, ax=ax)\n",
        "plt.title('Cut Percentage by color')\n",
        "plt.xlabel('color')\n",
        "plt.xticks(rotation=0)\n",
        "plt.ylabel('Percentage of cut')\n",
        "\n",
        "c_c"
      ],
      "execution_count": null,
      "outputs": [
        {
          "output_type": "execute_result",
          "data": {
            "text/html": [
              "<div>\n",
              "<style scoped>\n",
              "    .dataframe tbody tr th:only-of-type {\n",
              "        vertical-align: middle;\n",
              "    }\n",
              "\n",
              "    .dataframe tbody tr th {\n",
              "        vertical-align: top;\n",
              "    }\n",
              "\n",
              "    .dataframe thead th {\n",
              "        text-align: right;\n",
              "    }\n",
              "</style>\n",
              "<table border=\"1\" class=\"dataframe\">\n",
              "  <thead>\n",
              "    <tr style=\"text-align: right;\">\n",
              "      <th>cut</th>\n",
              "      <th>Fair</th>\n",
              "      <th>Good</th>\n",
              "      <th>Ideal</th>\n",
              "      <th>Premium</th>\n",
              "      <th>Very Good</th>\n",
              "    </tr>\n",
              "    <tr>\n",
              "      <th>color</th>\n",
              "      <th></th>\n",
              "      <th></th>\n",
              "      <th></th>\n",
              "      <th></th>\n",
              "      <th></th>\n",
              "    </tr>\n",
              "  </thead>\n",
              "  <tbody>\n",
              "    <tr>\n",
              "      <th>D</th>\n",
              "      <td>163</td>\n",
              "      <td>662</td>\n",
              "      <td>2834</td>\n",
              "      <td>1603</td>\n",
              "      <td>1513</td>\n",
              "    </tr>\n",
              "    <tr>\n",
              "      <th>E</th>\n",
              "      <td>224</td>\n",
              "      <td>933</td>\n",
              "      <td>3903</td>\n",
              "      <td>2337</td>\n",
              "      <td>2400</td>\n",
              "    </tr>\n",
              "    <tr>\n",
              "      <th>F</th>\n",
              "      <td>312</td>\n",
              "      <td>909</td>\n",
              "      <td>3826</td>\n",
              "      <td>2331</td>\n",
              "      <td>2164</td>\n",
              "    </tr>\n",
              "    <tr>\n",
              "      <th>G</th>\n",
              "      <td>314</td>\n",
              "      <td>871</td>\n",
              "      <td>4884</td>\n",
              "      <td>2924</td>\n",
              "      <td>2299</td>\n",
              "    </tr>\n",
              "    <tr>\n",
              "      <th>H</th>\n",
              "      <td>303</td>\n",
              "      <td>702</td>\n",
              "      <td>3115</td>\n",
              "      <td>2360</td>\n",
              "      <td>1824</td>\n",
              "    </tr>\n",
              "    <tr>\n",
              "      <th>I</th>\n",
              "      <td>175</td>\n",
              "      <td>522</td>\n",
              "      <td>2093</td>\n",
              "      <td>1428</td>\n",
              "      <td>1204</td>\n",
              "    </tr>\n",
              "    <tr>\n",
              "      <th>J</th>\n",
              "      <td>119</td>\n",
              "      <td>307</td>\n",
              "      <td>896</td>\n",
              "      <td>808</td>\n",
              "      <td>678</td>\n",
              "    </tr>\n",
              "  </tbody>\n",
              "</table>\n",
              "</div>"
            ],
            "text/plain": [
              "cut    Fair  Good  Ideal  Premium  Very Good\n",
              "color                                       \n",
              "D       163   662   2834     1603       1513\n",
              "E       224   933   3903     2337       2400\n",
              "F       312   909   3826     2331       2164\n",
              "G       314   871   4884     2924       2299\n",
              "H       303   702   3115     2360       1824\n",
              "I       175   522   2093     1428       1204\n",
              "J       119   307    896      808        678"
            ]
          },
          "metadata": {
            "tags": []
          },
          "execution_count": 9
        },
        {
          "output_type": "display_data",
          "data": {
            "image/png": "[encoded data removed]",
            "text/plain": [
              "<Figure size 720x360 with 2 Axes>"
            ]
          },
          "metadata": {
            "tags": [],
            "needs_background": "light"
          }
        }
      ]
    },
    {
      "cell_type": "markdown",
      "metadata": {
        "id": "nWknLnZ0CuPL",
        "colab_type": "text"
      },
      "source": [
        "1. Most of the diamonds have an ideal, premium, very Good level cut. \n",
        "2. Color may appear to be relatively more “predictive” of the response variable because each color contains all types of diamonds cutting level. It is beneficial for us to predict which of the five cut values is most likely to apply to a given observation."
      ]
    },
    {
      "cell_type": "code",
      "metadata": {
        "id": "YbmWyZGVCuPM",
        "colab_type": "code",
        "colab": {
          "base_uri": "https://localhost:8080/",
          "height": 663
        },
        "outputId": "926b8bc5-9652-47de-802d-7e374fee7a5a"
      },
      "source": [
        "plt.rcParams['figure.figsize'] = (10, 5)\n",
        "\n",
        "# compare the clarity with cut\n",
        "plt.subplot(121)\n",
        "sns.countplot(x='cut',hue= 'clarity', data=df, palette = 'husl')\n",
        "plt.title('Color vs.Clarity')\n",
        "\n",
        "# check the cur percentage of clarity\n",
        "ax= plt.subplot(122)\n",
        "c2_c = pd.crosstab(df.clarity, df.cut)\n",
        "c2_c.div(c2_c .sum(1).astype(float), axis=0).plot(kind='bar', stacked=True, ax=ax)\n",
        "plt.title('Cut Percentage by clarity')\n",
        "plt.xlabel('clarity')\n",
        "plt.xticks(rotation=0)\n",
        "plt.ylabel('Percentage of cut')\n",
        "\n",
        "c2_c"
      ],
      "execution_count": null,
      "outputs": [
        {
          "output_type": "execute_result",
          "data": {
            "text/html": [
              "<div>\n",
              "<style scoped>\n",
              "    .dataframe tbody tr th:only-of-type {\n",
              "        vertical-align: middle;\n",
              "    }\n",
              "\n",
              "    .dataframe tbody tr th {\n",
              "        vertical-align: top;\n",
              "    }\n",
              "\n",
              "    .dataframe thead th {\n",
              "        text-align: right;\n",
              "    }\n",
              "</style>\n",
              "<table border=\"1\" class=\"dataframe\">\n",
              "  <thead>\n",
              "    <tr style=\"text-align: right;\">\n",
              "      <th>cut</th>\n",
              "      <th>Fair</th>\n",
              "      <th>Good</th>\n",
              "      <th>Ideal</th>\n",
              "      <th>Premium</th>\n",
              "      <th>Very Good</th>\n",
              "    </tr>\n",
              "    <tr>\n",
              "      <th>clarity</th>\n",
              "      <th></th>\n",
              "      <th></th>\n",
              "      <th></th>\n",
              "      <th></th>\n",
              "      <th></th>\n",
              "    </tr>\n",
              "  </thead>\n",
              "  <tbody>\n",
              "    <tr>\n",
              "      <th>I1</th>\n",
              "      <td>210</td>\n",
              "      <td>96</td>\n",
              "      <td>146</td>\n",
              "      <td>205</td>\n",
              "      <td>84</td>\n",
              "    </tr>\n",
              "    <tr>\n",
              "      <th>IF</th>\n",
              "      <td>9</td>\n",
              "      <td>71</td>\n",
              "      <td>1212</td>\n",
              "      <td>230</td>\n",
              "      <td>268</td>\n",
              "    </tr>\n",
              "    <tr>\n",
              "      <th>SI1</th>\n",
              "      <td>408</td>\n",
              "      <td>1560</td>\n",
              "      <td>4282</td>\n",
              "      <td>3575</td>\n",
              "      <td>3240</td>\n",
              "    </tr>\n",
              "    <tr>\n",
              "      <th>SI2</th>\n",
              "      <td>466</td>\n",
              "      <td>1081</td>\n",
              "      <td>2598</td>\n",
              "      <td>2949</td>\n",
              "      <td>2100</td>\n",
              "    </tr>\n",
              "    <tr>\n",
              "      <th>VS1</th>\n",
              "      <td>170</td>\n",
              "      <td>648</td>\n",
              "      <td>3589</td>\n",
              "      <td>1989</td>\n",
              "      <td>1775</td>\n",
              "    </tr>\n",
              "    <tr>\n",
              "      <th>VS2</th>\n",
              "      <td>261</td>\n",
              "      <td>978</td>\n",
              "      <td>5071</td>\n",
              "      <td>3357</td>\n",
              "      <td>2591</td>\n",
              "    </tr>\n",
              "    <tr>\n",
              "      <th>VVS1</th>\n",
              "      <td>17</td>\n",
              "      <td>186</td>\n",
              "      <td>2047</td>\n",
              "      <td>616</td>\n",
              "      <td>789</td>\n",
              "    </tr>\n",
              "    <tr>\n",
              "      <th>VVS2</th>\n",
              "      <td>69</td>\n",
              "      <td>286</td>\n",
              "      <td>2606</td>\n",
              "      <td>870</td>\n",
              "      <td>1235</td>\n",
              "    </tr>\n",
              "  </tbody>\n",
              "</table>\n",
              "</div>"
            ],
            "text/plain": [
              "cut      Fair  Good  Ideal  Premium  Very Good\n",
              "clarity                                       \n",
              "I1        210    96    146      205         84\n",
              "IF          9    71   1212      230        268\n",
              "SI1       408  1560   4282     3575       3240\n",
              "SI2       466  1081   2598     2949       2100\n",
              "VS1       170   648   3589     1989       1775\n",
              "VS2       261   978   5071     3357       2591\n",
              "VVS1       17   186   2047      616        789\n",
              "VVS2       69   286   2606      870       1235"
            ]
          },
          "metadata": {
            "tags": []
          },
          "execution_count": 10
        },
        {
          "output_type": "display_data",
          "data": {
            "image/png": "[encoded data removed]",
            "text/plain": [
              "<Figure size 720x360 with 2 Axes>"
            ]
          },
          "metadata": {
            "tags": [],
            "needs_background": "light"
          }
        }
      ]
    },
    {
      "cell_type": "markdown",
      "metadata": {
        "id": "Db2T01mNCuPP",
        "colab_type": "text"
      },
      "source": [
        "1. Similar to the color, clarity may appear to be relatively more “predictive” of the response variable.\n",
        "2. SI1 and VS2 are the top 2 popular clarity types in each diamond's cutti"
      ]
    },
    {
      "cell_type": "code",
      "metadata": {
        "id": "7n1bmfpZ2wNk",
        "colab_type": "code",
        "colab": {
          "base_uri": "https://localhost:8080/",
          "height": 369
        },
        "outputId": "909b6a9e-c3f0-440b-c3c0-18a66e937172"
      },
      "source": [
        "# plot price vs cut\n",
        "sns.catplot(x='cut', y='price', data=df, kind='box' ,aspect=1.5 )\n",
        "\n",
        "plt.xlabel('cut')\n",
        "plt.ylabel('price')\n",
        "plt.show()"
      ],
      "execution_count": null,
      "outputs": [
        {
          "output_type": "display_data",
          "data": {
            "image/png": "[encoded data removed]",
            "text/plain": [
              "<Figure size 540x360 with 1 Axes>"
            ]
          },
          "metadata": {
            "tags": [],
            "needs_background": "light"
          }
        }
      ]
    },
    {
      "cell_type": "markdown",
      "metadata": {
        "id": "1ptMUtOGmBKJ",
        "colab_type": "text"
      },
      "source": [
        "Premium cut level diamonds has the largest price range and highest median price in all cut levels. And the Ideal cut level diamonds have the lowest median price. "
      ]
    },
    {
      "cell_type": "code",
      "metadata": {
        "id": "NnNVHr0G5Fqb",
        "colab_type": "code",
        "colab": {
          "base_uri": "https://localhost:8080/",
          "height": 369
        },
        "outputId": "9eeac2ae-6a52-4b25-8357-f2d64ba175cb"
      },
      "source": [
        "# plot Carat vs cut\n",
        "sns.catplot(x='cut', y='carat', data=df, kind='box' ,aspect=1.5 )\n",
        "\n",
        "plt.xlabel('cut')\n",
        "plt.ylabel('Carat')\n",
        "plt.show()"
      ],
      "execution_count": null,
      "outputs": [
        {
          "output_type": "display_data",
          "data": {
            "image/png": "[encoded data removed]",
            "text/plain": [
              "<Figure size 540x360 with 1 Axes>"
            ]
          },
          "metadata": {
            "tags": [],
            "needs_background": "light"
          }
        }
      ]
    },
    {
      "cell_type": "markdown",
      "metadata": {
        "id": "oD6z-raKmYRC",
        "colab_type": "text"
      },
      "source": [
        "Similar to the price, Premium cut level diamonds have the largest range and highest median carat in all cut levels. And the Ideal cut level diamonds have the lowest median carat. "
      ]
    },
    {
      "cell_type": "code",
      "metadata": {
        "id": "sITw80Yys0Eu",
        "colab_type": "code",
        "colab": {
          "base_uri": "https://localhost:8080/",
          "height": 369
        },
        "outputId": "2a3acc2a-b259-4484-8e8b-ca3c1107b23e"
      },
      "source": [
        "# plot depth vs cut\n",
        "sns.catplot(x='cut', y='depth', data=df, kind='box' ,aspect=1.5 )\n",
        "\n",
        "plt.xlabel('cut')\n",
        "plt.ylabel('depth')\n",
        "plt.show()"
      ],
      "execution_count": null,
      "outputs": [
        {
          "output_type": "display_data",
          "data": {
            "image/png": "[encoded data removed]",
            "text/plain": [
              "<Figure size 540x360 with 1 Axes>"
            ]
          },
          "metadata": {
            "tags": [],
            "needs_background": "light"
          }
        }
      ]
    },
    {
      "cell_type": "markdown",
      "metadata": {
        "id": "UdKxFff_mbJ8",
        "colab_type": "text"
      },
      "source": [
        "\n",
        "Good cut level diamonds have the largest range. Fair cut level diamonds have the highest median diamonds' depth at all cut levels.  And the Premium cut level diamonds have the lowest median price. "
      ]
    },
    {
      "cell_type": "code",
      "metadata": {
        "id": "MTEHrfKItIZd",
        "colab_type": "code",
        "colab": {
          "base_uri": "https://localhost:8080/",
          "height": 369
        },
        "outputId": "562b475b-6fb5-45ed-fa4c-fbdeb69f0a27"
      },
      "source": [
        "# plot table vs cut\n",
        "sns.catplot(x='cut', y='table', data=df, kind='box' ,aspect=1.5 )\n",
        "\n",
        "plt.xlabel('cut')\n",
        "plt.ylabel('table')\n",
        "plt.show()"
      ],
      "execution_count": null,
      "outputs": [
        {
          "output_type": "display_data",
          "data": {
            "image/png": "[encoded data removed]",
            "text/plain": [
              "<Figure size 540x360 with 1 Axes>"
            ]
          },
          "metadata": {
            "tags": [],
            "needs_background": "light"
          }
        }
      ]
    },
    {
      "cell_type": "markdown",
      "metadata": {
        "id": "4TC1no_DnR-4",
        "colab_type": "text"
      },
      "source": [
        "Good cut level diamonds have the largest range. Premium cut level diamonds have the highest median diamonds' width of the top of diamond relative to widest point at all cut levels.  And the Ideal cut level diamonds have the lowest median width of the top of the diamond relative to the widest point. "
      ]
    },
    {
      "cell_type": "markdown",
      "metadata": {
        "id": "6zbSQK_wCuPU",
        "colab_type": "text"
      },
      "source": [
        "***\n",
        "## Step 3: Data Cleaning\n"
      ]
    },
    {
      "cell_type": "markdown",
      "metadata": {
        "id": "n8y_PVjtVGbZ",
        "colab_type": "text"
      },
      "source": [
        "### 1. Label the dependent variable"
      ]
    },
    {
      "cell_type": "code",
      "metadata": {
        "id": "JC7i9poZVK0R",
        "colab_type": "code",
        "colab": {
          "base_uri": "https://localhost:8080/",
          "height": 202
        },
        "outputId": "1542710e-b2e3-460c-a4a5-5fdfccf43542"
      },
      "source": [
        "df1 = df.copy()\n",
        "\n",
        "# use number to replace category in 'cut' column\n",
        "df2 = df1.replace({'cut': {'Fair':0,'Good':1, 'Ideal': 2, 'Premium':3, 'Very Good': 4}})\n",
        "df2.head()"
      ],
      "execution_count": null,
      "outputs": [
        {
          "output_type": "execute_result",
          "data": {
            "text/html": [
              "<div>\n",
              "<style scoped>\n",
              "    .dataframe tbody tr th:only-of-type {\n",
              "        vertical-align: middle;\n",
              "    }\n",
              "\n",
              "    .dataframe tbody tr th {\n",
              "        vertical-align: top;\n",
              "    }\n",
              "\n",
              "    .dataframe thead th {\n",
              "        text-align: right;\n",
              "    }\n",
              "</style>\n",
              "<table border=\"1\" class=\"dataframe\">\n",
              "  <thead>\n",
              "    <tr style=\"text-align: right;\">\n",
              "      <th></th>\n",
              "      <th>carat</th>\n",
              "      <th>cut</th>\n",
              "      <th>color</th>\n",
              "      <th>clarity</th>\n",
              "      <th>depth</th>\n",
              "      <th>table</th>\n",
              "      <th>price</th>\n",
              "      <th>x</th>\n",
              "      <th>y</th>\n",
              "      <th>z</th>\n",
              "    </tr>\n",
              "  </thead>\n",
              "  <tbody>\n",
              "    <tr>\n",
              "      <th>0</th>\n",
              "      <td>0.23</td>\n",
              "      <td>2</td>\n",
              "      <td>E</td>\n",
              "      <td>SI2</td>\n",
              "      <td>61.5</td>\n",
              "      <td>55.0</td>\n",
              "      <td>326</td>\n",
              "      <td>3.95</td>\n",
              "      <td>3.98</td>\n",
              "      <td>2.43</td>\n",
              "    </tr>\n",
              "    <tr>\n",
              "      <th>1</th>\n",
              "      <td>0.21</td>\n",
              "      <td>3</td>\n",
              "      <td>E</td>\n",
              "      <td>SI1</td>\n",
              "      <td>59.8</td>\n",
              "      <td>61.0</td>\n",
              "      <td>326</td>\n",
              "      <td>3.89</td>\n",
              "      <td>3.84</td>\n",
              "      <td>2.31</td>\n",
              "    </tr>\n",
              "    <tr>\n",
              "      <th>2</th>\n",
              "      <td>0.23</td>\n",
              "      <td>1</td>\n",
              "      <td>E</td>\n",
              "      <td>VS1</td>\n",
              "      <td>56.9</td>\n",
              "      <td>65.0</td>\n",
              "      <td>327</td>\n",
              "      <td>4.05</td>\n",
              "      <td>4.07</td>\n",
              "      <td>2.31</td>\n",
              "    </tr>\n",
              "    <tr>\n",
              "      <th>3</th>\n",
              "      <td>0.29</td>\n",
              "      <td>3</td>\n",
              "      <td>I</td>\n",
              "      <td>VS2</td>\n",
              "      <td>62.4</td>\n",
              "      <td>58.0</td>\n",
              "      <td>334</td>\n",
              "      <td>4.20</td>\n",
              "      <td>4.23</td>\n",
              "      <td>2.63</td>\n",
              "    </tr>\n",
              "    <tr>\n",
              "      <th>4</th>\n",
              "      <td>0.31</td>\n",
              "      <td>1</td>\n",
              "      <td>J</td>\n",
              "      <td>SI2</td>\n",
              "      <td>63.3</td>\n",
              "      <td>58.0</td>\n",
              "      <td>335</td>\n",
              "      <td>4.34</td>\n",
              "      <td>4.35</td>\n",
              "      <td>2.75</td>\n",
              "    </tr>\n",
              "  </tbody>\n",
              "</table>\n",
              "</div>"
            ],
            "text/plain": [
              "   carat  cut color clarity  depth  table  price     x     y     z\n",
              "0   0.23    2     E     SI2   61.5   55.0    326  3.95  3.98  2.43\n",
              "1   0.21    3     E     SI1   59.8   61.0    326  3.89  3.84  2.31\n",
              "2   0.23    1     E     VS1   56.9   65.0    327  4.05  4.07  2.31\n",
              "3   0.29    3     I     VS2   62.4   58.0    334  4.20  4.23  2.63\n",
              "4   0.31    1     J     SI2   63.3   58.0    335  4.34  4.35  2.75"
            ]
          },
          "metadata": {
            "tags": []
          },
          "execution_count": 6
        }
      ]
    },
    {
      "cell_type": "markdown",
      "metadata": {
        "id": "6FRGig77CuPU",
        "colab_type": "text"
      },
      "source": [
        "### 2. Handle the zero value\n",
        "\n",
        "There are some rows with zero values in the columns of x (length), y(width), or z(depth), N=20. We'll delete the rows with zero x,y or z since the dimond's length, width and depth should not be 0.\n"
      ]
    },
    {
      "cell_type": "code",
      "metadata": {
        "id": "xBy-HzFfCuPV",
        "colab_type": "code",
        "colab": {
          "base_uri": "https://localhost:8080/",
          "height": 662
        },
        "outputId": "e60c202c-26d9-4ba2-aed2-ec00be4ca21d"
      },
      "source": [
        "# extract the rows that contain 0 value \n",
        "null_data = df2.loc[(df2['x']==0) | (df2['y']==0) | (df2['z']==0)]\n",
        "null_data"
      ],
      "execution_count": null,
      "outputs": [
        {
          "output_type": "execute_result",
          "data": {
            "text/html": [
              "<div>\n",
              "<style scoped>\n",
              "    .dataframe tbody tr th:only-of-type {\n",
              "        vertical-align: middle;\n",
              "    }\n",
              "\n",
              "    .dataframe tbody tr th {\n",
              "        vertical-align: top;\n",
              "    }\n",
              "\n",
              "    .dataframe thead th {\n",
              "        text-align: right;\n",
              "    }\n",
              "</style>\n",
              "<table border=\"1\" class=\"dataframe\">\n",
              "  <thead>\n",
              "    <tr style=\"text-align: right;\">\n",
              "      <th></th>\n",
              "      <th>carat</th>\n",
              "      <th>cut</th>\n",
              "      <th>color</th>\n",
              "      <th>clarity</th>\n",
              "      <th>depth</th>\n",
              "      <th>table</th>\n",
              "      <th>price</th>\n",
              "      <th>x</th>\n",
              "      <th>y</th>\n",
              "      <th>z</th>\n",
              "    </tr>\n",
              "  </thead>\n",
              "  <tbody>\n",
              "    <tr>\n",
              "      <th>2207</th>\n",
              "      <td>1.00</td>\n",
              "      <td>3</td>\n",
              "      <td>G</td>\n",
              "      <td>SI2</td>\n",
              "      <td>59.1</td>\n",
              "      <td>59.0</td>\n",
              "      <td>3142</td>\n",
              "      <td>6.55</td>\n",
              "      <td>6.48</td>\n",
              "      <td>0.0</td>\n",
              "    </tr>\n",
              "    <tr>\n",
              "      <th>2314</th>\n",
              "      <td>1.01</td>\n",
              "      <td>3</td>\n",
              "      <td>H</td>\n",
              "      <td>I1</td>\n",
              "      <td>58.1</td>\n",
              "      <td>59.0</td>\n",
              "      <td>3167</td>\n",
              "      <td>6.66</td>\n",
              "      <td>6.60</td>\n",
              "      <td>0.0</td>\n",
              "    </tr>\n",
              "    <tr>\n",
              "      <th>4791</th>\n",
              "      <td>1.10</td>\n",
              "      <td>3</td>\n",
              "      <td>G</td>\n",
              "      <td>SI2</td>\n",
              "      <td>63.0</td>\n",
              "      <td>59.0</td>\n",
              "      <td>3696</td>\n",
              "      <td>6.50</td>\n",
              "      <td>6.47</td>\n",
              "      <td>0.0</td>\n",
              "    </tr>\n",
              "    <tr>\n",
              "      <th>5471</th>\n",
              "      <td>1.01</td>\n",
              "      <td>3</td>\n",
              "      <td>F</td>\n",
              "      <td>SI2</td>\n",
              "      <td>59.2</td>\n",
              "      <td>58.0</td>\n",
              "      <td>3837</td>\n",
              "      <td>6.50</td>\n",
              "      <td>6.47</td>\n",
              "      <td>0.0</td>\n",
              "    </tr>\n",
              "    <tr>\n",
              "      <th>10167</th>\n",
              "      <td>1.50</td>\n",
              "      <td>1</td>\n",
              "      <td>G</td>\n",
              "      <td>I1</td>\n",
              "      <td>64.0</td>\n",
              "      <td>61.0</td>\n",
              "      <td>4731</td>\n",
              "      <td>7.15</td>\n",
              "      <td>7.04</td>\n",
              "      <td>0.0</td>\n",
              "    </tr>\n",
              "    <tr>\n",
              "      <th>11182</th>\n",
              "      <td>1.07</td>\n",
              "      <td>2</td>\n",
              "      <td>F</td>\n",
              "      <td>SI2</td>\n",
              "      <td>61.6</td>\n",
              "      <td>56.0</td>\n",
              "      <td>4954</td>\n",
              "      <td>0.00</td>\n",
              "      <td>6.62</td>\n",
              "      <td>0.0</td>\n",
              "    </tr>\n",
              "    <tr>\n",
              "      <th>11963</th>\n",
              "      <td>1.00</td>\n",
              "      <td>4</td>\n",
              "      <td>H</td>\n",
              "      <td>VS2</td>\n",
              "      <td>63.3</td>\n",
              "      <td>53.0</td>\n",
              "      <td>5139</td>\n",
              "      <td>0.00</td>\n",
              "      <td>0.00</td>\n",
              "      <td>0.0</td>\n",
              "    </tr>\n",
              "    <tr>\n",
              "      <th>13601</th>\n",
              "      <td>1.15</td>\n",
              "      <td>2</td>\n",
              "      <td>G</td>\n",
              "      <td>VS2</td>\n",
              "      <td>59.2</td>\n",
              "      <td>56.0</td>\n",
              "      <td>5564</td>\n",
              "      <td>6.88</td>\n",
              "      <td>6.83</td>\n",
              "      <td>0.0</td>\n",
              "    </tr>\n",
              "    <tr>\n",
              "      <th>15951</th>\n",
              "      <td>1.14</td>\n",
              "      <td>0</td>\n",
              "      <td>G</td>\n",
              "      <td>VS1</td>\n",
              "      <td>57.5</td>\n",
              "      <td>67.0</td>\n",
              "      <td>6381</td>\n",
              "      <td>0.00</td>\n",
              "      <td>0.00</td>\n",
              "      <td>0.0</td>\n",
              "    </tr>\n",
              "    <tr>\n",
              "      <th>24394</th>\n",
              "      <td>2.18</td>\n",
              "      <td>3</td>\n",
              "      <td>H</td>\n",
              "      <td>SI2</td>\n",
              "      <td>59.4</td>\n",
              "      <td>61.0</td>\n",
              "      <td>12631</td>\n",
              "      <td>8.49</td>\n",
              "      <td>8.45</td>\n",
              "      <td>0.0</td>\n",
              "    </tr>\n",
              "    <tr>\n",
              "      <th>24520</th>\n",
              "      <td>1.56</td>\n",
              "      <td>2</td>\n",
              "      <td>G</td>\n",
              "      <td>VS2</td>\n",
              "      <td>62.2</td>\n",
              "      <td>54.0</td>\n",
              "      <td>12800</td>\n",
              "      <td>0.00</td>\n",
              "      <td>0.00</td>\n",
              "      <td>0.0</td>\n",
              "    </tr>\n",
              "    <tr>\n",
              "      <th>26123</th>\n",
              "      <td>2.25</td>\n",
              "      <td>3</td>\n",
              "      <td>I</td>\n",
              "      <td>SI1</td>\n",
              "      <td>61.3</td>\n",
              "      <td>58.0</td>\n",
              "      <td>15397</td>\n",
              "      <td>8.52</td>\n",
              "      <td>8.42</td>\n",
              "      <td>0.0</td>\n",
              "    </tr>\n",
              "    <tr>\n",
              "      <th>26243</th>\n",
              "      <td>1.20</td>\n",
              "      <td>3</td>\n",
              "      <td>D</td>\n",
              "      <td>VVS1</td>\n",
              "      <td>62.1</td>\n",
              "      <td>59.0</td>\n",
              "      <td>15686</td>\n",
              "      <td>0.00</td>\n",
              "      <td>0.00</td>\n",
              "      <td>0.0</td>\n",
              "    </tr>\n",
              "    <tr>\n",
              "      <th>27112</th>\n",
              "      <td>2.20</td>\n",
              "      <td>3</td>\n",
              "      <td>H</td>\n",
              "      <td>SI1</td>\n",
              "      <td>61.2</td>\n",
              "      <td>59.0</td>\n",
              "      <td>17265</td>\n",
              "      <td>8.42</td>\n",
              "      <td>8.37</td>\n",
              "      <td>0.0</td>\n",
              "    </tr>\n",
              "    <tr>\n",
              "      <th>27429</th>\n",
              "      <td>2.25</td>\n",
              "      <td>3</td>\n",
              "      <td>H</td>\n",
              "      <td>SI2</td>\n",
              "      <td>62.8</td>\n",
              "      <td>59.0</td>\n",
              "      <td>18034</td>\n",
              "      <td>0.00</td>\n",
              "      <td>0.00</td>\n",
              "      <td>0.0</td>\n",
              "    </tr>\n",
              "    <tr>\n",
              "      <th>27503</th>\n",
              "      <td>2.02</td>\n",
              "      <td>3</td>\n",
              "      <td>H</td>\n",
              "      <td>VS2</td>\n",
              "      <td>62.7</td>\n",
              "      <td>53.0</td>\n",
              "      <td>18207</td>\n",
              "      <td>8.02</td>\n",
              "      <td>7.95</td>\n",
              "      <td>0.0</td>\n",
              "    </tr>\n",
              "    <tr>\n",
              "      <th>27739</th>\n",
              "      <td>2.80</td>\n",
              "      <td>1</td>\n",
              "      <td>G</td>\n",
              "      <td>SI2</td>\n",
              "      <td>63.8</td>\n",
              "      <td>58.0</td>\n",
              "      <td>18788</td>\n",
              "      <td>8.90</td>\n",
              "      <td>8.85</td>\n",
              "      <td>0.0</td>\n",
              "    </tr>\n",
              "    <tr>\n",
              "      <th>49556</th>\n",
              "      <td>0.71</td>\n",
              "      <td>1</td>\n",
              "      <td>F</td>\n",
              "      <td>SI2</td>\n",
              "      <td>64.1</td>\n",
              "      <td>60.0</td>\n",
              "      <td>2130</td>\n",
              "      <td>0.00</td>\n",
              "      <td>0.00</td>\n",
              "      <td>0.0</td>\n",
              "    </tr>\n",
              "    <tr>\n",
              "      <th>49557</th>\n",
              "      <td>0.71</td>\n",
              "      <td>1</td>\n",
              "      <td>F</td>\n",
              "      <td>SI2</td>\n",
              "      <td>64.1</td>\n",
              "      <td>60.0</td>\n",
              "      <td>2130</td>\n",
              "      <td>0.00</td>\n",
              "      <td>0.00</td>\n",
              "      <td>0.0</td>\n",
              "    </tr>\n",
              "    <tr>\n",
              "      <th>51506</th>\n",
              "      <td>1.12</td>\n",
              "      <td>3</td>\n",
              "      <td>G</td>\n",
              "      <td>I1</td>\n",
              "      <td>60.4</td>\n",
              "      <td>59.0</td>\n",
              "      <td>2383</td>\n",
              "      <td>6.71</td>\n",
              "      <td>6.67</td>\n",
              "      <td>0.0</td>\n",
              "    </tr>\n",
              "  </tbody>\n",
              "</table>\n",
              "</div>"
            ],
            "text/plain": [
              "       carat  cut color clarity  depth  table  price     x     y    z\n",
              "2207    1.00    3     G     SI2   59.1   59.0   3142  6.55  6.48  0.0\n",
              "2314    1.01    3     H      I1   58.1   59.0   3167  6.66  6.60  0.0\n",
              "4791    1.10    3     G     SI2   63.0   59.0   3696  6.50  6.47  0.0\n",
              "5471    1.01    3     F     SI2   59.2   58.0   3837  6.50  6.47  0.0\n",
              "10167   1.50    1     G      I1   64.0   61.0   4731  7.15  7.04  0.0\n",
              "11182   1.07    2     F     SI2   61.6   56.0   4954  0.00  6.62  0.0\n",
              "11963   1.00    4     H     VS2   63.3   53.0   5139  0.00  0.00  0.0\n",
              "13601   1.15    2     G     VS2   59.2   56.0   5564  6.88  6.83  0.0\n",
              "15951   1.14    0     G     VS1   57.5   67.0   6381  0.00  0.00  0.0\n",
              "24394   2.18    3     H     SI2   59.4   61.0  12631  8.49  8.45  0.0\n",
              "24520   1.56    2     G     VS2   62.2   54.0  12800  0.00  0.00  0.0\n",
              "26123   2.25    3     I     SI1   61.3   58.0  15397  8.52  8.42  0.0\n",
              "26243   1.20    3     D    VVS1   62.1   59.0  15686  0.00  0.00  0.0\n",
              "27112   2.20    3     H     SI1   61.2   59.0  17265  8.42  8.37  0.0\n",
              "27429   2.25    3     H     SI2   62.8   59.0  18034  0.00  0.00  0.0\n",
              "27503   2.02    3     H     VS2   62.7   53.0  18207  8.02  7.95  0.0\n",
              "27739   2.80    1     G     SI2   63.8   58.0  18788  8.90  8.85  0.0\n",
              "49556   0.71    1     F     SI2   64.1   60.0   2130  0.00  0.00  0.0\n",
              "49557   0.71    1     F     SI2   64.1   60.0   2130  0.00  0.00  0.0\n",
              "51506   1.12    3     G      I1   60.4   59.0   2383  6.71  6.67  0.0"
            ]
          },
          "metadata": {
            "tags": []
          },
          "execution_count": 7
        }
      ]
    },
    {
      "cell_type": "code",
      "metadata": {
        "id": "oNm4Ffa8g92h",
        "colab_type": "code",
        "colab": {
          "base_uri": "https://localhost:8080/",
          "height": 34
        },
        "outputId": "17fe1fd7-00b8-417a-b0e0-e1effe08d35a"
      },
      "source": [
        "# get the length of null data\n",
        "len(null_data)"
      ],
      "execution_count": null,
      "outputs": [
        {
          "output_type": "execute_result",
          "data": {
            "text/plain": [
              "20"
            ]
          },
          "metadata": {
            "tags": []
          },
          "execution_count": 8
        }
      ]
    },
    {
      "cell_type": "code",
      "metadata": {
        "id": "1KV_tSg3o0xr",
        "colab_type": "code",
        "colab": {}
      },
      "source": [
        "# Dropping Rows with 'Zero'.\n",
        "df3 = df2[(df2[['x','y','z']] != 0).all(axis=1)]"
      ],
      "execution_count": null,
      "outputs": []
    },
    {
      "cell_type": "code",
      "metadata": {
        "id": "YK22L1E6uCJW",
        "colab_type": "code",
        "colab": {
          "base_uri": "https://localhost:8080/",
          "height": 49
        },
        "outputId": "66aa8aab-1693-41c0-b398-e2d2a87dc123"
      },
      "source": [
        "# Just to Confirm the zero \n",
        "df3.loc[(df3['x']==0) | (df3['y']==0) | (df3['z']==0)]"
      ],
      "execution_count": null,
      "outputs": [
        {
          "output_type": "execute_result",
          "data": {
            "text/html": [
              "<div>\n",
              "<style scoped>\n",
              "    .dataframe tbody tr th:only-of-type {\n",
              "        vertical-align: middle;\n",
              "    }\n",
              "\n",
              "    .dataframe tbody tr th {\n",
              "        vertical-align: top;\n",
              "    }\n",
              "\n",
              "    .dataframe thead th {\n",
              "        text-align: right;\n",
              "    }\n",
              "</style>\n",
              "<table border=\"1\" class=\"dataframe\">\n",
              "  <thead>\n",
              "    <tr style=\"text-align: right;\">\n",
              "      <th></th>\n",
              "      <th>carat</th>\n",
              "      <th>cut</th>\n",
              "      <th>color</th>\n",
              "      <th>clarity</th>\n",
              "      <th>depth</th>\n",
              "      <th>table</th>\n",
              "      <th>price</th>\n",
              "      <th>x</th>\n",
              "      <th>y</th>\n",
              "      <th>z</th>\n",
              "    </tr>\n",
              "  </thead>\n",
              "  <tbody>\n",
              "  </tbody>\n",
              "</table>\n",
              "</div>"
            ],
            "text/plain": [
              "Empty DataFrame\n",
              "Columns: [carat, cut, color, clarity, depth, table, price, x, y, z]\n",
              "Index: []"
            ]
          },
          "metadata": {
            "tags": []
          },
          "execution_count": 10
        }
      ]
    },
    {
      "cell_type": "markdown",
      "metadata": {
        "id": "nErIRzoLqEi9",
        "colab_type": "text"
      },
      "source": [
        "### 3. Create a New Feature 'Volume'\n",
        "\n",
        "We discover feature x, y, and z is multicollinearity above, they can seem like as one feature. Consider a formula, diamond's depth * width * length = the diamond's volume, we decide to drop x, y, and z columns and create the Volume column. "
      ]
    },
    {
      "cell_type": "code",
      "metadata": {
        "id": "53maVqw9qCPM",
        "colab_type": "code",
        "colab": {
          "base_uri": "https://localhost:8080/",
          "height": 202
        },
        "outputId": "71d0d30e-b7ff-4859-e180-5dc06dba469c"
      },
      "source": [
        "df3['volume'] = df3['x']*df3['y']*df3['z']\n",
        "df3.head()"
      ],
      "execution_count": null,
      "outputs": [
        {
          "output_type": "execute_result",
          "data": {
            "text/html": [
              "<div>\n",
              "<style scoped>\n",
              "    .dataframe tbody tr th:only-of-type {\n",
              "        vertical-align: middle;\n",
              "    }\n",
              "\n",
              "    .dataframe tbody tr th {\n",
              "        vertical-align: top;\n",
              "    }\n",
              "\n",
              "    .dataframe thead th {\n",
              "        text-align: right;\n",
              "    }\n",
              "</style>\n",
              "<table border=\"1\" class=\"dataframe\">\n",
              "  <thead>\n",
              "    <tr style=\"text-align: right;\">\n",
              "      <th></th>\n",
              "      <th>carat</th>\n",
              "      <th>cut</th>\n",
              "      <th>color</th>\n",
              "      <th>clarity</th>\n",
              "      <th>depth</th>\n",
              "      <th>table</th>\n",
              "      <th>price</th>\n",
              "      <th>x</th>\n",
              "      <th>y</th>\n",
              "      <th>z</th>\n",
              "      <th>volume</th>\n",
              "    </tr>\n",
              "  </thead>\n",
              "  <tbody>\n",
              "    <tr>\n",
              "      <th>0</th>\n",
              "      <td>0.23</td>\n",
              "      <td>2</td>\n",
              "      <td>E</td>\n",
              "      <td>SI2</td>\n",
              "      <td>61.5</td>\n",
              "      <td>55.0</td>\n",
              "      <td>326</td>\n",
              "      <td>3.95</td>\n",
              "      <td>3.98</td>\n",
              "      <td>2.43</td>\n",
              "      <td>38.202030</td>\n",
              "    </tr>\n",
              "    <tr>\n",
              "      <th>1</th>\n",
              "      <td>0.21</td>\n",
              "      <td>3</td>\n",
              "      <td>E</td>\n",
              "      <td>SI1</td>\n",
              "      <td>59.8</td>\n",
              "      <td>61.0</td>\n",
              "      <td>326</td>\n",
              "      <td>3.89</td>\n",
              "      <td>3.84</td>\n",
              "      <td>2.31</td>\n",
              "      <td>34.505856</td>\n",
              "    </tr>\n",
              "    <tr>\n",
              "      <th>2</th>\n",
              "      <td>0.23</td>\n",
              "      <td>1</td>\n",
              "      <td>E</td>\n",
              "      <td>VS1</td>\n",
              "      <td>56.9</td>\n",
              "      <td>65.0</td>\n",
              "      <td>327</td>\n",
              "      <td>4.05</td>\n",
              "      <td>4.07</td>\n",
              "      <td>2.31</td>\n",
              "      <td>38.076885</td>\n",
              "    </tr>\n",
              "    <tr>\n",
              "      <th>3</th>\n",
              "      <td>0.29</td>\n",
              "      <td>3</td>\n",
              "      <td>I</td>\n",
              "      <td>VS2</td>\n",
              "      <td>62.4</td>\n",
              "      <td>58.0</td>\n",
              "      <td>334</td>\n",
              "      <td>4.20</td>\n",
              "      <td>4.23</td>\n",
              "      <td>2.63</td>\n",
              "      <td>46.724580</td>\n",
              "    </tr>\n",
              "    <tr>\n",
              "      <th>4</th>\n",
              "      <td>0.31</td>\n",
              "      <td>1</td>\n",
              "      <td>J</td>\n",
              "      <td>SI2</td>\n",
              "      <td>63.3</td>\n",
              "      <td>58.0</td>\n",
              "      <td>335</td>\n",
              "      <td>4.34</td>\n",
              "      <td>4.35</td>\n",
              "      <td>2.75</td>\n",
              "      <td>51.917250</td>\n",
              "    </tr>\n",
              "  </tbody>\n",
              "</table>\n",
              "</div>"
            ],
            "text/plain": [
              "   carat  cut color clarity  depth  table  price     x     y     z     volume\n",
              "0   0.23    2     E     SI2   61.5   55.0    326  3.95  3.98  2.43  38.202030\n",
              "1   0.21    3     E     SI1   59.8   61.0    326  3.89  3.84  2.31  34.505856\n",
              "2   0.23    1     E     VS1   56.9   65.0    327  4.05  4.07  2.31  38.076885\n",
              "3   0.29    3     I     VS2   62.4   58.0    334  4.20  4.23  2.63  46.724580\n",
              "4   0.31    1     J     SI2   63.3   58.0    335  4.34  4.35  2.75  51.917250"
            ]
          },
          "metadata": {
            "tags": []
          },
          "execution_count": 11
        }
      ]
    },
    {
      "cell_type": "markdown",
      "metadata": {
        "id": "2Ghgybdrvt0S",
        "colab_type": "text"
      },
      "source": [
        "### 4. Drop the fatures of x, y, z"
      ]
    },
    {
      "cell_type": "code",
      "metadata": {
        "id": "ghrRHRIJqDix",
        "colab_type": "code",
        "colab": {}
      },
      "source": [
        "# drop the features\n",
        "df3.drop(['x','y','z'], axis=1, inplace= True)"
      ],
      "execution_count": null,
      "outputs": []
    },
    {
      "cell_type": "code",
      "metadata": {
        "id": "-WJ9NyAEy076",
        "colab_type": "code",
        "colab": {
          "base_uri": "https://localhost:8080/",
          "height": 69
        },
        "outputId": "5b0715fb-8276-4c20-f161-0896a14b5417"
      },
      "source": [
        "df3.columns"
      ],
      "execution_count": null,
      "outputs": [
        {
          "output_type": "execute_result",
          "data": {
            "text/plain": [
              "Index(['carat', 'cut', 'color', 'clarity', 'depth', 'table', 'price',\n",
              "       'volume'],\n",
              "      dtype='object')"
            ]
          },
          "metadata": {
            "tags": []
          },
          "execution_count": 13
        }
      ]
    },
    {
      "cell_type": "markdown",
      "metadata": {
        "id": "FmopydTdCuPZ",
        "colab_type": "text"
      },
      "source": [
        "### 5. Convert categorical variable into dummy variables"
      ]
    },
    {
      "cell_type": "code",
      "metadata": {
        "id": "3V3iOWuyCuPZ",
        "colab_type": "code",
        "colab": {}
      },
      "source": [
        "categorical_independent = ['color', 'clarity']"
      ],
      "execution_count": null,
      "outputs": []
    },
    {
      "cell_type": "code",
      "metadata": {
        "id": "57bDXAZeCuPc",
        "colab_type": "code",
        "colab": {
          "base_uri": "https://localhost:8080/",
          "height": 222
        },
        "outputId": "c2fe5c83-d100-4e01-a755-2be64a15c65e"
      },
      "source": [
        "df_dummy = pd.get_dummies(df3,columns=categorical_independent)\n",
        "df_dummy.head()"
      ],
      "execution_count": null,
      "outputs": [
        {
          "output_type": "execute_result",
          "data": {
            "text/html": [
              "<div>\n",
              "<style scoped>\n",
              "    .dataframe tbody tr th:only-of-type {\n",
              "        vertical-align: middle;\n",
              "    }\n",
              "\n",
              "    .dataframe tbody tr th {\n",
              "        vertical-align: top;\n",
              "    }\n",
              "\n",
              "    .dataframe thead th {\n",
              "        text-align: right;\n",
              "    }\n",
              "</style>\n",
              "<table border=\"1\" class=\"dataframe\">\n",
              "  <thead>\n",
              "    <tr style=\"text-align: right;\">\n",
              "      <th></th>\n",
              "      <th>carat</th>\n",
              "      <th>cut</th>\n",
              "      <th>depth</th>\n",
              "      <th>table</th>\n",
              "      <th>price</th>\n",
              "      <th>volume</th>\n",
              "      <th>color_D</th>\n",
              "      <th>color_E</th>\n",
              "      <th>color_F</th>\n",
              "      <th>color_G</th>\n",
              "      <th>color_H</th>\n",
              "      <th>color_I</th>\n",
              "      <th>color_J</th>\n",
              "      <th>clarity_I1</th>\n",
              "      <th>clarity_IF</th>\n",
              "      <th>clarity_SI1</th>\n",
              "      <th>clarity_SI2</th>\n",
              "      <th>clarity_VS1</th>\n",
              "      <th>clarity_VS2</th>\n",
              "      <th>clarity_VVS1</th>\n",
              "      <th>clarity_VVS2</th>\n",
              "    </tr>\n",
              "  </thead>\n",
              "  <tbody>\n",
              "    <tr>\n",
              "      <th>0</th>\n",
              "      <td>0.23</td>\n",
              "      <td>2</td>\n",
              "      <td>61.5</td>\n",
              "      <td>55.0</td>\n",
              "      <td>326</td>\n",
              "      <td>38.202030</td>\n",
              "      <td>0</td>\n",
              "      <td>1</td>\n",
              "      <td>0</td>\n",
              "      <td>0</td>\n",
              "      <td>0</td>\n",
              "      <td>0</td>\n",
              "      <td>0</td>\n",
              "      <td>0</td>\n",
              "      <td>0</td>\n",
              "      <td>0</td>\n",
              "      <td>1</td>\n",
              "      <td>0</td>\n",
              "      <td>0</td>\n",
              "      <td>0</td>\n",
              "      <td>0</td>\n",
              "    </tr>\n",
              "    <tr>\n",
              "      <th>1</th>\n",
              "      <td>0.21</td>\n",
              "      <td>3</td>\n",
              "      <td>59.8</td>\n",
              "      <td>61.0</td>\n",
              "      <td>326</td>\n",
              "      <td>34.505856</td>\n",
              "      <td>0</td>\n",
              "      <td>1</td>\n",
              "      <td>0</td>\n",
              "      <td>0</td>\n",
              "      <td>0</td>\n",
              "      <td>0</td>\n",
              "      <td>0</td>\n",
              "      <td>0</td>\n",
              "      <td>0</td>\n",
              "      <td>1</td>\n",
              "      <td>0</td>\n",
              "      <td>0</td>\n",
              "      <td>0</td>\n",
              "      <td>0</td>\n",
              "      <td>0</td>\n",
              "    </tr>\n",
              "    <tr>\n",
              "      <th>2</th>\n",
              "      <td>0.23</td>\n",
              "      <td>1</td>\n",
              "      <td>56.9</td>\n",
              "      <td>65.0</td>\n",
              "      <td>327</td>\n",
              "      <td>38.076885</td>\n",
              "      <td>0</td>\n",
              "      <td>1</td>\n",
              "      <td>0</td>\n",
              "      <td>0</td>\n",
              "      <td>0</td>\n",
              "      <td>0</td>\n",
              "      <td>0</td>\n",
              "      <td>0</td>\n",
              "      <td>0</td>\n",
              "      <td>0</td>\n",
              "      <td>0</td>\n",
              "      <td>1</td>\n",
              "      <td>0</td>\n",
              "      <td>0</td>\n",
              "      <td>0</td>\n",
              "    </tr>\n",
              "    <tr>\n",
              "      <th>3</th>\n",
              "      <td>0.29</td>\n",
              "      <td>3</td>\n",
              "      <td>62.4</td>\n",
              "      <td>58.0</td>\n",
              "      <td>334</td>\n",
              "      <td>46.724580</td>\n",
              "      <td>0</td>\n",
              "      <td>0</td>\n",
              "      <td>0</td>\n",
              "      <td>0</td>\n",
              "      <td>0</td>\n",
              "      <td>1</td>\n",
              "      <td>0</td>\n",
              "      <td>0</td>\n",
              "      <td>0</td>\n",
              "      <td>0</td>\n",
              "      <td>0</td>\n",
              "      <td>0</td>\n",
              "      <td>1</td>\n",
              "      <td>0</td>\n",
              "      <td>0</td>\n",
              "    </tr>\n",
              "    <tr>\n",
              "      <th>4</th>\n",
              "      <td>0.31</td>\n",
              "      <td>1</td>\n",
              "      <td>63.3</td>\n",
              "      <td>58.0</td>\n",
              "      <td>335</td>\n",
              "      <td>51.917250</td>\n",
              "      <td>0</td>\n",
              "      <td>0</td>\n",
              "      <td>0</td>\n",
              "      <td>0</td>\n",
              "      <td>0</td>\n",
              "      <td>0</td>\n",
              "      <td>1</td>\n",
              "      <td>0</td>\n",
              "      <td>0</td>\n",
              "      <td>0</td>\n",
              "      <td>1</td>\n",
              "      <td>0</td>\n",
              "      <td>0</td>\n",
              "      <td>0</td>\n",
              "      <td>0</td>\n",
              "    </tr>\n",
              "  </tbody>\n",
              "</table>\n",
              "</div>"
            ],
            "text/plain": [
              "   carat  cut  depth  ...  clarity_VS2  clarity_VVS1  clarity_VVS2\n",
              "0   0.23    2   61.5  ...            0             0             0\n",
              "1   0.21    3   59.8  ...            0             0             0\n",
              "2   0.23    1   56.9  ...            0             0             0\n",
              "3   0.29    3   62.4  ...            1             0             0\n",
              "4   0.31    1   63.3  ...            0             0             0\n",
              "\n",
              "[5 rows x 21 columns]"
            ]
          },
          "metadata": {
            "tags": []
          },
          "execution_count": 15
        }
      ]
    },
    {
      "cell_type": "code",
      "metadata": {
        "id": "fVAuQ_SWCuPd",
        "colab_type": "code",
        "colab": {
          "base_uri": "https://localhost:8080/",
          "height": 106
        },
        "outputId": "78e71321-8c91-448f-a6ae-1ea79130d7a4"
      },
      "source": [
        "print(\"check the column names:\", df_dummy.columns.tolist())\n",
        "print(\"\\n\")\n",
        "print(\"total number of columns: \", len(df_dummy.columns.tolist()))"
      ],
      "execution_count": null,
      "outputs": [
        {
          "output_type": "stream",
          "text": [
            "check the column names: ['carat', 'cut', 'depth', 'table', 'price', 'volume', 'color_D', 'color_E', 'color_F', 'color_G', 'color_H', 'color_I', 'color_J', 'clarity_I1', 'clarity_IF', 'clarity_SI1', 'clarity_SI2', 'clarity_VS1', 'clarity_VS2', 'clarity_VVS1', 'clarity_VVS2']\n",
            "\n",
            "\n",
            "total number of columns:  21\n"
          ],
          "name": "stdout"
        }
      ]
    },
    {
      "cell_type": "markdown",
      "metadata": {
        "id": "oYIhifyZ1CUD",
        "colab_type": "text"
      },
      "source": [
        "### 6. Split the data into train and test"
      ]
    },
    {
      "cell_type": "code",
      "metadata": {
        "id": "m1VZumRD1C8x",
        "colab_type": "code",
        "colab": {}
      },
      "source": [
        "from sklearn.model_selection import train_test_split\n",
        "\n",
        "X = df_dummy.drop(['cut'], axis=1)\n",
        "y = df_dummy['cut']\n",
        "\n",
        "X_train, X_test, y_train, y_test = train_test_split(X,y,test_size=0.2, random_state=0)"
      ],
      "execution_count": null,
      "outputs": []
    },
    {
      "cell_type": "markdown",
      "metadata": {
        "id": "vESz53Y7znLn",
        "colab_type": "text"
      },
      "source": [
        "### 7. Feature Scaling - MinMaxScaler\n",
        "\n",
        "We'll use the MinMaxScaler to rescale variables into the range [0,1]."
      ]
    },
    {
      "cell_type": "code",
      "metadata": {
        "id": "PxuTjmqe0A2S",
        "colab_type": "code",
        "colab": {
          "base_uri": "https://localhost:8080/",
          "height": 382
        },
        "outputId": "46894b2a-cb06-459b-a64b-688525d9d238"
      },
      "source": [
        "# plot numerical features (non-dummy features) before scaling\n",
        "sns.catplot(data=df3 , kind='box' , aspect=1.5)\n"
      ],
      "execution_count": null,
      "outputs": [
        {
          "output_type": "execute_result",
          "data": {
            "text/plain": [
              "<seaborn.axisgrid.FacetGrid at 0x7f22b2a38f28>"
            ]
          },
          "metadata": {
            "tags": []
          },
          "execution_count": 19
        },
        {
          "output_type": "display_data",
          "data": {
            "image/png": "[encoded data removed]",
            "text/plain": [
              "<Figure size 540x360 with 1 Axes>"
            ]
          },
          "metadata": {
            "tags": []
          }
        }
      ]
    },
    {
      "cell_type": "code",
      "metadata": {
        "id": "hwUjv2ta0ipb",
        "colab_type": "code",
        "colab": {}
      },
      "source": [
        "from sklearn.preprocessing import MinMaxScaler\n",
        "\n",
        "columns_std = ['carat', 'depth', 'table', 'price', 'volume']\n",
        "\n",
        "# Applying Feature Scaling\n",
        "sc = MinMaxScaler()\n",
        "X_train[columns_std] = sc.fit_transform(X_train[columns_std])\n",
        "\n",
        "X_test[columns_std] = sc.transform(X_test[columns_std])"
      ],
      "execution_count": null,
      "outputs": []
    },
    {
      "cell_type": "code",
      "metadata": {
        "id": "_Q6u5bMU6WYv",
        "colab_type": "code",
        "colab": {
          "base_uri": "https://localhost:8080/",
          "height": 382
        },
        "outputId": "e43ad3ec-00d4-4067-dccf-1375e0ca8f97"
      },
      "source": [
        "# plot after Applying Feature Scaling ( MinMaxScaler )\n",
        "sns.catplot(data=X_train[columns_std] , kind='box' , aspect=1.5)\n"
      ],
      "execution_count": null,
      "outputs": [
        {
          "output_type": "execute_result",
          "data": {
            "text/plain": [
              "<seaborn.axisgrid.FacetGrid at 0x7f09f686e7b8>"
            ]
          },
          "metadata": {
            "tags": []
          },
          "execution_count": 22
        },
        {
          "output_type": "display_data",
          "data": {
            "image/png": "[encoded data removed]",
            "text/plain": [
              "<Figure size 540x360 with 1 Axes>"
            ]
          },
          "metadata": {
            "tags": []
          }
        }
      ]
    },
    {
      "cell_type": "markdown",
      "metadata": {
        "id": "OMdnEyLKpA_h",
        "colab_type": "text"
      },
      "source": [
        "After Applying Feature Scaling,  the price of diamonds has the largest range. The depth of diamonds has the highest median (around 0.5).  The volume and carat have the lowest median. "
      ]
    },
    {
      "cell_type": "markdown",
      "metadata": {
        "id": "78R4PrQyCuPf",
        "colab_type": "text"
      },
      "source": [
        "***\n",
        "## Step 4:Prepped Data Review\n",
        "\n",
        "#### 1) Check columns: \n",
        "\n",
        "The total number of columns has changed from 10 to 21."
      ]
    },
    {
      "cell_type": "code",
      "metadata": {
        "id": "uGTIBjN08G7w",
        "colab_type": "code",
        "colab": {
          "base_uri": "https://localhost:8080/",
          "height": 106
        },
        "outputId": "bcaff8b3-6f2d-42c6-a5ab-d6e7fae251b4"
      },
      "source": [
        "print(\"check the column names:\", df_dummy.columns.tolist())\n",
        "print(\"\\n\")\n",
        "print(\"total number of columns: \", len(df_dummy.columns.tolist()))"
      ],
      "execution_count": null,
      "outputs": [
        {
          "output_type": "stream",
          "text": [
            "check the column names: ['carat', 'cut', 'depth', 'table', 'price', 'volume', 'color_D', 'color_E', 'color_F', 'color_G', 'color_H', 'color_I', 'color_J', 'clarity_I1', 'clarity_IF', 'clarity_SI1', 'clarity_SI2', 'clarity_VS1', 'clarity_VS2', 'clarity_VVS1', 'clarity_VVS2']\n",
            "\n",
            "\n",
            "total number of columns:  21\n"
          ],
          "name": "stdout"
        }
      ]
    },
    {
      "cell_type": "markdown",
      "metadata": {
        "id": "ozv4j-QH9hxN",
        "colab_type": "text"
      },
      "source": [
        "#### 2) Check the shape of the training set and the testing set"
      ]
    },
    {
      "cell_type": "code",
      "metadata": {
        "id": "htORfheA8YEV",
        "colab_type": "code",
        "colab": {
          "base_uri": "https://localhost:8080/",
          "height": 52
        },
        "outputId": "e7365bc7-be29-4cf7-db0e-b9fd4f9e9ee1"
      },
      "source": [
        "print('Training Features Shape:', X_train.shape)\n",
        "print('Testing Features Shape:', X_test.shape)"
      ],
      "execution_count": null,
      "outputs": [
        {
          "output_type": "stream",
          "text": [
            "Training Features Shape: (43136, 20)\n",
            "Testing Features Shape: (10784, 20)\n"
          ],
          "name": "stdout"
        }
      ]
    },
    {
      "cell_type": "markdown",
      "metadata": {
        "id": "i9JarZxWA_rp",
        "colab_type": "text"
      },
      "source": [
        "#### 3) Check distributions for each of numerical variables"
      ]
    },
    {
      "cell_type": "code",
      "metadata": {
        "id": "a9PygCZZCuPh",
        "colab_type": "code",
        "colab": {
          "base_uri": "https://localhost:8080/",
          "height": 728
        },
        "outputId": "0f1e7cf5-9e46-48bf-a0ce-e587212a754a"
      },
      "source": [
        "# Distributions for each of numerical variables\n",
        "X_train[columns_std].hist(figsize=(15, 10), bins=20, xlabelsize=10, ylabelsize=10)"
      ],
      "execution_count": null,
      "outputs": [
        {
          "output_type": "execute_result",
          "data": {
            "text/plain": [
              "array([[<matplotlib.axes._subplots.AxesSubplot object at 0x7f5e34d10320>,\n",
              "        <matplotlib.axes._subplots.AxesSubplot object at 0x7f5e34d910f0>],\n",
              "       [<matplotlib.axes._subplots.AxesSubplot object at 0x7f5e34d24630>,\n",
              "        <matplotlib.axes._subplots.AxesSubplot object at 0x7f5e34d65080>],\n",
              "       [<matplotlib.axes._subplots.AxesSubplot object at 0x7f5e34604630>,\n",
              "        <matplotlib.axes._subplots.AxesSubplot object at 0x7f5e346be978>]],\n",
              "      dtype=object)"
            ]
          },
          "metadata": {
            "tags": []
          },
          "execution_count": 31
        },
        {
          "output_type": "display_data",
          "data": {
            "image/png": "[encoded data removed]",
            "text/plain": [
              "<Figure size 1080x720 with 6 Axes>"
            ]
          },
          "metadata": {
            "tags": []
          }
        }
      ]
    },
    {
      "cell_type": "markdown",
      "metadata": {
        "id": "Ti9Tj1esCuPi",
        "colab_type": "text"
      },
      "source": [
        "After data preparation, there is no much change for each numerical column.\n",
        "\n",
        "#### 4) Check volume (new feature) vs cut"
      ]
    },
    {
      "cell_type": "code",
      "metadata": {
        "id": "CWMsMbaG-3D2",
        "colab_type": "code",
        "colab": {
          "base_uri": "https://localhost:8080/",
          "height": 365
        },
        "outputId": "40002c6d-8565-4115-ef9b-d5157f227723"
      },
      "source": [
        "# plot volume vs cut\n",
        "# merge training set\n",
        "df_train = pd.concat([X_train, y_train], axis=1)\n",
        "\n",
        "sns.catplot(x='cut', y='volume', data=df_train, kind='box' ,aspect=1.5 )\n",
        "\n",
        "plt.xlabel('cut')\n",
        "plt.ylabel('volume')\n",
        "plt.show()"
      ],
      "execution_count": null,
      "outputs": [
        {
          "output_type": "display_data",
          "data": {
            "image/png": "[encoded data removed]",
            "text/plain": [
              "<Figure size 540x360 with 1 Axes>"
            ]
          },
          "metadata": {
            "tags": []
          }
        }
      ]
    },
    {
      "cell_type": "markdown",
      "metadata": {
        "id": "1vUMY7EysHOS",
        "colab_type": "text"
      },
      "source": [
        "Premium cut level diamonds have the largest range. Fair cut level's diamonds have the highest median price in all cut levels. And the Ideal cut level diamonds have the lowest median price. "
      ]
    },
    {
      "cell_type": "markdown",
      "metadata": {
        "id": "ZCaAZIGZCuPp",
        "colab_type": "text"
      },
      "source": [
        "***\n",
        "## Step 5. Neural Network Modeling + Select Models\n",
        "\n",
        "We'll perform feature selection firstly. Then, we'll build  three different Python-based feed-forward, back propagating neural network models using the same explanatory variables for each model. \n",
        "\n",
        "We'll firstly build a model using the default parameters. Then we'll use the method of sklearn-deap `EvolutionaryAlgorithmSearchCV` to optimize parameters for the second model. Next, we'll use `RandomizedSearchCV`  for optimizing parameters for the third model. \n",
        "\n",
        "https://towardsdatascience.com/hyperparameter-tuning-c5619e7e6624\n",
        "\n",
        "https://towardsdatascience.com/hyperparameter-tuning-the-random-forest-in-python-using-scikit-learn-28d2aa77dd74\n",
        "\n",
        "Also, we'll compare the model performance by using 5-fold cross validation and evaluate models based on accuracy, recall, and F1. Since the dependent variable is multi-class not binary class, we'll use macro-averaged Recall and F1 scores, which calculate metrics for each class individually and then takes unweighted mean of the measures. For the accuracy, we'll check and compare it with the null error rate. \n",
        "\n",
        "**Check null error rate:**\n",
        "\n",
        "Null error rate: it is used to define how many times your prediction would be wrong if you can predict the majority class.\n",
        "\n"
      ]
    },
    {
      "cell_type": "code",
      "metadata": {
        "id": "b9woxCI1M1jB",
        "colab_type": "code",
        "colab": {
          "base_uri": "https://localhost:8080/",
          "height": 51
        },
        "outputId": "8566b3b4-53aa-46c6-d5a8-a6e6a8b35865"
      },
      "source": [
        "# https://www.ritchieng.com/machine-learning-evaluate-classification-model/\n",
        "# calculate null error rate (for multi-class classification problems)\n",
        "y_test.value_counts().head(1)/len(y_test)"
      ],
      "execution_count": null,
      "outputs": [
        {
          "output_type": "execute_result",
          "data": {
            "text/plain": [
              "2    0.401057\n",
              "Name: cut, dtype: float64"
            ]
          },
          "metadata": {
            "tags": []
          },
          "execution_count": 20
        }
      ]
    },
    {
      "cell_type": "code",
      "metadata": {
        "id": "SlMZyXK3jVWb",
        "colab_type": "code",
        "colab": {
          "base_uri": "https://localhost:8080/",
          "height": 119
        },
        "outputId": "7dee0fba-862d-4406-900c-3c2d6f1d8275"
      },
      "source": [
        "y_test.value_counts()"
      ],
      "execution_count": null,
      "outputs": [
        {
          "output_type": "execute_result",
          "data": {
            "text/plain": [
              "2    4325\n",
              "3    2768\n",
              "4    2363\n",
              "1     988\n",
              "0     340\n",
              "Name: cut, dtype: int64"
            ]
          },
          "metadata": {
            "tags": []
          },
          "execution_count": 21
        }
      ]
    },
    {
      "cell_type": "markdown",
      "metadata": {
        "id": "mqV53UdNjZLd",
        "colab_type": "text"
      },
      "source": [
        "This means that a dumb model that always predicts the majority class (2) would be right 40% of the time. It's a good way to know the minimum we should achieve with our models. "
      ]
    },
    {
      "cell_type": "markdown",
      "metadata": {
        "id": "22xhH-aKM2It",
        "colab_type": "text"
      },
      "source": [
        "**Create a function for model evaluation on the training set:**"
      ]
    },
    {
      "cell_type": "code",
      "metadata": {
        "id": "HQKnNcRnCv2D",
        "colab_type": "code",
        "colab": {}
      },
      "source": [
        "from sklearn.model_selection import cross_val_score\n",
        "from sklearn import metrics\n",
        "\n",
        "# Create a function for Model Evaluation Using Cross-Validation\n",
        "def cross_val_score_multilabel (model, X_train, y_train):\n",
        "    accuracy_scores = cross_val_score(model, X_train, y_train, cv=5, scoring='accuracy')\n",
        "    recall = cross_val_score(model, X_train, y_train, cv=5, scoring='recall_macro')\n",
        "    f1 = cross_val_score(model, X_train, y_train, cv=5, scoring='f1_macro')\n",
        "    print('Model Mean Accuracy (training set):{} '.format(np.mean(accuracy_scores)))\n",
        "    print('Macro Recall (training set):{} '.format(np.mean(recall)))\n",
        "    print('Macro F1 score (training set):{} '.format(np.mean(f1)))"
      ],
      "execution_count": null,
      "outputs": []
    },
    {
      "cell_type": "markdown",
      "metadata": {
        "id": "T96-IKuPCuPt",
        "colab_type": "text"
      },
      "source": [
        "### 5.1 Feature Selection - Tree-based `SelectFromModel`\n",
        "\n",
        "We'll also use SelectFromModel RandomForest to select features based on feature importance. We calculate feature importance using node impurities in each decision tree. In Random forest, the final feature importance is the average of all decision tree feature importance.\n",
        "\n",
        "https://towardsdatascience.com/the-5-feature-selection-algorithms-every-data-scientist-need-to-know-3a6b566efd2\n",
        "\n"
      ]
    },
    {
      "cell_type": "code",
      "metadata": {
        "id": "IirkaY7CCuPt",
        "colab_type": "code",
        "colab": {
          "base_uri": "https://localhost:8080/",
          "height": 34
        },
        "outputId": "010e4d93-b17e-4372-b361-f4d12a217cb2"
      },
      "source": [
        "from sklearn.feature_selection import SelectFromModel\n",
        "from sklearn.ensemble import RandomForestClassifier\n",
        "\n",
        "embeded_rf_selector = SelectFromModel(RandomForestClassifier(n_estimators=100), max_features=20)\n",
        "embeded_rf_selector.fit(X_train, y_train.values.ravel())\n",
        "\n",
        "embeded_rf_support = embeded_rf_selector.get_support()\n",
        "embeded_rf_feature = X_train.loc[:,embeded_rf_support].columns.tolist()\n",
        "print(str(len(embeded_rf_feature)), 'selected features')"
      ],
      "execution_count": null,
      "outputs": [
        {
          "output_type": "stream",
          "text": [
            "5 selected features\n"
          ],
          "name": "stdout"
        }
      ]
    },
    {
      "cell_type": "code",
      "metadata": {
        "id": "CHWVJCmgMSR2",
        "colab_type": "code",
        "colab": {
          "base_uri": "https://localhost:8080/",
          "height": 34
        },
        "outputId": "64cef974-e23c-436a-b813-ce61475836e8"
      },
      "source": [
        "embeded_rf_feature"
      ],
      "execution_count": null,
      "outputs": [
        {
          "output_type": "execute_result",
          "data": {
            "text/plain": [
              "['carat', 'depth', 'table', 'price', 'volume']"
            ]
          },
          "metadata": {
            "tags": []
          },
          "execution_count": 26
        }
      ]
    },
    {
      "cell_type": "markdown",
      "metadata": {
        "id": "Lwu2jrsJHpIK",
        "colab_type": "text"
      },
      "source": [
        "The features selected in this step corresponds to our domain knowledge findings. Therefore, we'll use 5 features for Classifier Modeling, they are 'carat', 'depth', 'table', 'price', and 'volume'. \n"
      ]
    },
    {
      "cell_type": "code",
      "metadata": {
        "id": "Hp-cuG_BxHqL",
        "colab_type": "code",
        "colab": {
          "base_uri": "https://localhost:8080/",
          "height": 52
        },
        "outputId": "c583f5d8-fa75-422f-8dd0-d9299ca44eb2"
      },
      "source": [
        "# Model with five features:\n",
        "X_train_new = X_train[['carat', 'depth', 'table', 'price', 'volume']]\n",
        "\n",
        "X_test_new = X_test[['carat', 'depth', 'table', 'price', 'volume']]\n",
        "\n",
        "print('Training Features Shape:', X_train_new.shape)\n",
        "print('Testing Features Shape:', X_test_new.shape)"
      ],
      "execution_count": null,
      "outputs": [
        {
          "output_type": "stream",
          "text": [
            "Training Features Shape: (43136, 5)\n",
            "Testing Features Shape: (10784, 5)\n"
          ],
          "name": "stdout"
        }
      ]
    },
    {
      "cell_type": "markdown",
      "metadata": {
        "id": "uHvTgCJuh1wM",
        "colab_type": "text"
      },
      "source": [
        "### 5.2 Neural Network Modeling\n",
        "\n",
        "A neural network executes in two phases: Feed-Forward and Back Propagation. One cycle of feed-forward and back propagation is called one \"epoch\". The process of creating a neural network begins with the perceptron. The perceptron receives inputs, multiplies them by some weights, and then passes them into an activation function (such as logistic, relu, tanh, identity) to produce an output. This process continues until a reasonable accuracy is achieved. For this study, we'll build neural network machine learning models using scikit-learn. \n",
        "\n",
        "We will use `MLPClassifier()`(the Multi-Layer Perceptron Classifier model) to create our neural network that can perform this classification task. The parameter of 'max_iter' denotes the number of epochs.\n",
        "\n",
        "First of all, we'll build a Neural Network model with the default parameters. Then, we will explore two different methods for optimizing hyperparameters:\n",
        "* sklearn-deap using evolutionary (algorithms instead of gridsearch in scikit-learn)\n",
        "\n",
        " https://scikit-learn.org/stable/related_projects.html#related-projects\n",
        " \n",
        "* Random Search\n",
        "\n",
        "#### 1) Model 01. Model with default hyperparameters\n"
      ]
    },
    {
      "cell_type": "code",
      "metadata": {
        "id": "dEjWa_LKz-N-",
        "colab_type": "code",
        "colab": {}
      },
      "source": [
        "from  warnings import simplefilter\n",
        "from sklearn.exceptions import ConvergenceWarning\n",
        "simplefilter(\"ignore\", category=ConvergenceWarning)\n"
      ],
      "execution_count": null,
      "outputs": []
    },
    {
      "cell_type": "code",
      "metadata": {
        "id": "VgBNtyIaiK8w",
        "colab_type": "code",
        "colab": {
          "base_uri": "https://localhost:8080/",
          "height": 442
        },
        "outputId": "5a32981b-7fdd-4d7a-a0e1-a6280bbd3a3f"
      },
      "source": [
        "# print all the default parameters in the Neural Network model\n",
        "from sklearn.neural_network import MLPClassifier\n",
        "\n",
        "#Initializing the MLPClassifier\n",
        "classifier01 = MLPClassifier()\n",
        "\n",
        "from pprint import pprint\n",
        "\n",
        "# Look at default parameters \n",
        "print('Parameters currently in use:\\n')\n",
        "pprint(classifier01.get_params())"
      ],
      "execution_count": null,
      "outputs": [
        {
          "output_type": "stream",
          "text": [
            "Parameters currently in use:\n",
            "\n",
            "{'activation': 'relu',\n",
            " 'alpha': 0.0001,\n",
            " 'batch_size': 'auto',\n",
            " 'beta_1': 0.9,\n",
            " 'beta_2': 0.999,\n",
            " 'early_stopping': False,\n",
            " 'epsilon': 1e-08,\n",
            " 'hidden_layer_sizes': (100,),\n",
            " 'learning_rate': 'constant',\n",
            " 'learning_rate_init': 0.001,\n",
            " 'max_fun': 15000,\n",
            " 'max_iter': 200,\n",
            " 'momentum': 0.9,\n",
            " 'n_iter_no_change': 10,\n",
            " 'nesterovs_momentum': True,\n",
            " 'power_t': 0.5,\n",
            " 'random_state': None,\n",
            " 'shuffle': True,\n",
            " 'solver': 'adam',\n",
            " 'tol': 0.0001,\n",
            " 'validation_fraction': 0.1,\n",
            " 'verbose': False,\n",
            " 'warm_start': False}\n"
          ],
          "name": "stdout"
        }
      ]
    },
    {
      "cell_type": "code",
      "metadata": {
        "id": "BQN3NJHbn6de",
        "colab_type": "code",
        "colab": {
          "base_uri": "https://localhost:8080/",
          "height": 156
        },
        "outputId": "c1d964aa-e613-4c6c-d766-6d79ee5cc175"
      },
      "source": [
        "### Model 01 ###\n",
        "\n",
        "#Initializing the MLPClassifier\n",
        "classifier01 = MLPClassifier()\n",
        "\n",
        "#Fitting the training data\n",
        "classifier01.fit(X_train_new, y_train)\n"
      ],
      "execution_count": null,
      "outputs": [
        {
          "output_type": "execute_result",
          "data": {
            "text/plain": [
              "MLPClassifier(activation='relu', alpha=0.0001, batch_size='auto', beta_1=0.9,\n",
              "              beta_2=0.999, early_stopping=False, epsilon=1e-08,\n",
              "              hidden_layer_sizes=(100,), learning_rate='constant',\n",
              "              learning_rate_init=0.001, max_fun=15000, max_iter=200,\n",
              "              momentum=0.9, n_iter_no_change=10, nesterovs_momentum=True,\n",
              "              power_t=0.5, random_state=None, shuffle=True, solver='adam',\n",
              "              tol=0.0001, validation_fraction=0.1, verbose=False,\n",
              "              warm_start=False)"
            ]
          },
          "metadata": {
            "tags": []
          },
          "execution_count": 30
        }
      ]
    },
    {
      "cell_type": "markdown",
      "metadata": {
        "id": "PJA1cF1XmiSa",
        "colab_type": "text"
      },
      "source": [
        "#### 2) Model 02. Tune hyperparameters by using sklearn-deap `EvolutionaryAlgorithmSearchCV `\n",
        "\n",
        "We'll use evolutionary algorithms instead of gridsearch in scikit-learn. This allows us to reduce the time required to find the best parameters for your estimator. Instead of trying out every possible combination of parameters, evolve only the combinations that give the best results.\n",
        "\n",
        "https://github.com/rsteca/sklearn-deap\n",
        "\n",
        "\n",
        "There are several hyperparameters but we will try to adjust the following set of them since we think them may be more affected in our models:\n",
        "\n",
        "1. hidden_layer_sizes: is used to set the size of the hidden layers. \n",
        "\n",
        "2. activation: the activation function for the hidden layer.\n",
        "* ‘identity’, no-op activation, useful to implement linear bottleneck, returns f(x) = x\n",
        "* ‘logistic’, the logistic sigmoid function, returns f(x) = 1 / (1 + exp(-x)).\n",
        "* ‘tanh’, the hyperbolic tan function, returns f(x) = tanh(x).\n",
        "* ‘relu’, the rectified linear unit function, returns f(x) = max(0, x)\n",
        "\n",
        "3. solver: this parameter specifies the algorithm for weight optimization across the nodes.\n",
        "* ‘lbfgs’ is an optimizer in the family of quasi-Newton methods.\n",
        "* ‘sgd’ refers to stochastic gradient descent.\n",
        "* ‘adam’ refers to a stochastic gradient-based optimizer proposed by Kingma, Diederik, and Jimmy Ba\n",
        "\n",
        "4. max_iter: It denotes the number of epochs.\n",
        "\n",
        "5. learning_rate: Learning rate schedule for weight updates. It inlcude‘constant’, ‘invscaling’, and ‘adaptive’, default=’constant’. \n",
        "\n",
        "6. alpha: default=0.0001, L2 penalty (regularization term) parameter.\n",
        "\n",
        "\n"
      ]
    },
    {
      "cell_type": "code",
      "metadata": {
        "id": "Bqh3iSuwPeSe",
        "colab_type": "code",
        "colab": {}
      },
      "source": [
        "param_grid = {\n",
        "    'activation' : ['tanh', 'relu'],\n",
        "    'solver' : ['sgd', 'adam'],\n",
        "    'hidden_layer_sizes': [(1,),(2,),(3,),(4,),(5,),(6,),(7,),(8,),(9,),(10,)],\n",
        "    'max_iter': [100, 200, 300, 500],\n",
        "    'alpha': [0.0001, 0.05],\n",
        "    'learning_rate': [\"constant\", \"invscaling\", \"adaptive\"],\n",
        "}\n"
      ],
      "execution_count": null,
      "outputs": []
    },
    {
      "cell_type": "code",
      "metadata": {
        "id": "v-vU-_s75Mfo",
        "colab_type": "code",
        "colab": {
          "base_uri": "https://localhost:8080/",
          "height": 242
        },
        "outputId": "9b949346-f33d-4fa0-885d-9a4e3e7ee4a9"
      },
      "source": [
        "# https://github.com/rsteca/sklearn-deap/blob/master/test.ipynb\n",
        "from sklearn.neural_network import MLPClassifier\n",
        "from evolutionary_search import EvolutionaryAlgorithmSearchCV\n",
        "from sklearn.model_selection import StratifiedKFold\n",
        "\n",
        "if __name__==\"__main__\":\n",
        "    #pool = Pool(4)\n",
        "    cv = EvolutionaryAlgorithmSearchCV(estimator=MLPClassifier(),\n",
        "                                       params=param_grid,\n",
        "                                       scoring=\"accuracy\",\n",
        "                                       cv=StratifiedKFold(n_splits=2),\n",
        "                                       verbose=True,\n",
        "                                       population_size=50,\n",
        "                                       gene_mutation_prob=0.10,\n",
        "                                       tournament_size=3,\n",
        "                                       generations_number=5)\n",
        "                                       #pmap = pool.map)\n",
        "    %time cv.fit(X_train_new, y_train)"
      ],
      "execution_count": null,
      "outputs": [
        {
          "output_type": "stream",
          "text": [
            "Types [1, 1, 1, 1, 2, 1] and maxint [1, 1, 9, 3, 1, 2] detected\n",
            "--- Evolve in 960 possible combinations ---\n",
            "gen\tnevals\tavg    \tmin     \tmax     \tstd     \n",
            "0  \t50    \t0.54132\t0.245989\t0.686642\t0.101927\n",
            "1  \t36    \t0.606131\t0.48201 \t0.700946\t0.0423914\n",
            "2  \t25    \t0.627799\t0.391738\t0.700946\t0.0415297\n",
            "3  \t20    \t0.655472\t0.581347\t0.700946\t0.0269992\n",
            "4  \t32    \t0.671204\t0.581255\t0.700946\t0.0252584\n",
            "5  \t35    \t0.680341\t0.590389\t0.700946\t0.0242719\n",
            "Best individual is: {'activation': 'relu', 'solver': 'adam', 'hidden_layer_sizes': (7,), 'max_iter': 500, 'alpha': 0.0001, 'learning_rate': 'constant'}\n",
            "with fitness: 0.7009458456973294\n",
            "CPU times: user 45min 6s, sys: 24.2 s, total: 45min 30s\n",
            "Wall time: 45min 9s\n"
          ],
          "name": "stdout"
        }
      ]
    },
    {
      "cell_type": "code",
      "metadata": {
        "id": "khKz76vERYks",
        "colab_type": "code",
        "colab": {
          "base_uri": "https://localhost:8080/",
          "height": 156
        },
        "outputId": "a1e36ec2-2501-49e2-ac6f-3f977b62aba4"
      },
      "source": [
        "### Model02 with tuned parameters ###\n",
        "\n",
        "classifier02 = MLPClassifier(activation='relu', alpha=0.0001, batch_size='auto', beta_1=0.9,\n",
        "              beta_2=0.999, early_stopping=False, epsilon=1e-08,\n",
        "              hidden_layer_sizes=(7,), learning_rate='constant',\n",
        "              learning_rate_init=0.001, max_fun=15000, max_iter=500,\n",
        "              momentum=0.9, n_iter_no_change=10, nesterovs_momentum=True,\n",
        "              power_t=0.5, random_state=0, shuffle=True, solver='adam',\n",
        "              tol=0.0001, validation_fraction=0.1, verbose=False,\n",
        "              warm_start=False)\n",
        "\n",
        "classifier02.fit(X_train_new,y_train.values.ravel())\n"
      ],
      "execution_count": null,
      "outputs": [
        {
          "output_type": "execute_result",
          "data": {
            "text/plain": [
              "MLPClassifier(activation='relu', alpha=0.0001, batch_size='auto', beta_1=0.9,\n",
              "              beta_2=0.999, early_stopping=False, epsilon=1e-08,\n",
              "              hidden_layer_sizes=(7,), learning_rate='constant',\n",
              "              learning_rate_init=0.001, max_fun=15000, max_iter=500,\n",
              "              momentum=0.9, n_iter_no_change=10, nesterovs_momentum=True,\n",
              "              power_t=0.5, random_state=0, shuffle=True, solver='adam',\n",
              "              tol=0.0001, validation_fraction=0.1, verbose=False,\n",
              "              warm_start=False)"
            ]
          },
          "metadata": {
            "tags": []
          },
          "execution_count": 25
        }
      ]
    },
    {
      "cell_type": "markdown",
      "metadata": {
        "id": "zy0jg253ST7O",
        "colab_type": "text"
      },
      "source": [
        "#### 3) Model 03. Tune hyperparameters by using `RandomizedSearchCV`\n",
        "\n",
        "Next we'll use `RandomizedSearchCV` for optimizing parameters. Random search differs from grid search mainly in that it searches the specified subset of hyperparameters randomly instead of exhaustively. `RandomizedSearchCV` decreases the processing time since it goes through only a fixed number of hyperparameter settings. It moves within the grid in random fashion to find the best set hyperparameters. This approach reduces unnecessary computation.\n",
        "\n",
        "Very similar to evolutionary search above, we define the hyperparameters to search over before running the search. We'll use the same grid of parameters for `RandomizedSearchCV`.\n",
        "\n",
        "https://towardsdatascience.com/hyperparameter-tuning-c5619e7e6624\n"
      ]
    },
    {
      "cell_type": "code",
      "metadata": {
        "id": "kmToGdi7RYgJ",
        "colab_type": "code",
        "colab": {
          "base_uri": "https://localhost:8080/",
          "height": 54
        },
        "outputId": "4f57be1a-2418-475d-9e50-324ddb56f8f8"
      },
      "source": [
        "from sklearn.model_selection import RandomizedSearchCV \n",
        "from sklearn.neural_network import MLPClassifier\n",
        "\n",
        "# Instantiating RandomizedSearchCV object \n",
        "clf02 = RandomizedSearchCV(MLPClassifier(random_state=0), param_grid, cv=3,\n",
        "                           scoring='accuracy')\n",
        "\n",
        "clf02.fit(X_train_new, y_train.values.ravel()) \n",
        "\n",
        "print(\"Best parameters from RandomizedSearchCV: {}\".format(clf02.best_params_)) \n"
      ],
      "execution_count": null,
      "outputs": [
        {
          "output_type": "stream",
          "text": [
            "Best parameters from RandomizedSearchCV: {'solver': 'adam', 'max_iter': 500, 'learning_rate': 'invscaling', 'hidden_layer_sizes': (9,), 'alpha': 0.0001, 'activation': 'tanh'}\n"
          ],
          "name": "stdout"
        }
      ]
    },
    {
      "cell_type": "code",
      "metadata": {
        "id": "DnW74X6NXM9_",
        "colab_type": "code",
        "colab": {
          "base_uri": "https://localhost:8080/",
          "height": 156
        },
        "outputId": "6fd651ec-4444-4546-f984-5f8f6828821a"
      },
      "source": [
        "### Model03 with tuned parameters ###\n",
        "\n",
        "classifier03 = MLPClassifier(activation='tanh', alpha=0.0001, batch_size='auto', beta_1=0.9,\n",
        "              beta_2=0.999, early_stopping=False, epsilon=1e-08,\n",
        "              hidden_layer_sizes=(9,), learning_rate='invscaling',\n",
        "              learning_rate_init=0.001, max_fun=15000, max_iter=500,\n",
        "              momentum=0.9, n_iter_no_change=10, nesterovs_momentum=True,\n",
        "              power_t=0.5, random_state=0, shuffle=True, solver='adam',\n",
        "              tol=0.0001, validation_fraction=0.1, verbose=False,\n",
        "              warm_start=False)\n",
        "\n",
        "classifier03.fit(X_train_new,y_train.values.ravel())"
      ],
      "execution_count": null,
      "outputs": [
        {
          "output_type": "execute_result",
          "data": {
            "text/plain": [
              "MLPClassifier(activation='tanh', alpha=0.0001, batch_size='auto', beta_1=0.9,\n",
              "              beta_2=0.999, early_stopping=False, epsilon=1e-08,\n",
              "              hidden_layer_sizes=(9,), learning_rate='invscaling',\n",
              "              learning_rate_init=0.001, max_fun=15000, max_iter=500,\n",
              "              momentum=0.9, n_iter_no_change=10, nesterovs_momentum=True,\n",
              "              power_t=0.5, random_state=0, shuffle=True, solver='adam',\n",
              "              tol=0.0001, validation_fraction=0.1, verbose=False,\n",
              "              warm_start=False)"
            ]
          },
          "metadata": {
            "tags": []
          },
          "execution_count": 26
        }
      ]
    },
    {
      "cell_type": "markdown",
      "metadata": {
        "id": "rWF8loo0WgJS",
        "colab_type": "text"
      },
      "source": [
        "### 5.3 Neural Network Model Evaluation on training set\n",
        "\n",
        "We'll compare the models by using 5-fold cross validation on the training set and evaluate models based on accuracy, recall, and F1. Since the dependent variable is multi-class not binary class, we'll use macro-averaged Recall and F1 scores, which calculate metrics for each class individually and then takes unweighted mean of the measures. For the accuracy, we'll check and compare it with the null error rate.\n"
      ]
    },
    {
      "cell_type": "code",
      "metadata": {
        "id": "oBTW4owymh9L",
        "colab_type": "code",
        "colab": {
          "base_uri": "https://localhost:8080/",
          "height": 68
        },
        "outputId": "fa5b4c27-b8e4-44dc-9718-ba518d48e50e"
      },
      "source": [
        "# Model 01:\n",
        "cross_val_score_multilabel (classifier01, X_train_new, y_train.values.ravel())"
      ],
      "execution_count": null,
      "outputs": [
        {
          "output_type": "stream",
          "text": [
            "Model Mean Accuracy (training set):0.7131398125334425 \n",
            "Macro Recall (training set):0.6551837611492694 \n",
            "Macro F1 score (training set):0.6673258713404552 \n"
          ],
          "name": "stdout"
        }
      ]
    },
    {
      "cell_type": "code",
      "metadata": {
        "id": "OrgxmvGJmht_",
        "colab_type": "code",
        "colab": {
          "base_uri": "https://localhost:8080/",
          "height": 69
        },
        "outputId": "b0f7dec3-cc26-4e47-e05d-2a98a1757683"
      },
      "source": [
        "# Model 02:\n",
        "cross_val_score_multilabel (classifier02, X_train_new, y_train.values.ravel())\n"
      ],
      "execution_count": null,
      "outputs": [
        {
          "output_type": "stream",
          "text": [
            "Model Mean Accuracy (training set):0.7046782591489807 \n",
            "Macro Recall (training set):0.6494868823241093 \n",
            "Macro F1 score (training set):0.6598178983587775 \n"
          ],
          "name": "stdout"
        }
      ]
    },
    {
      "cell_type": "code",
      "metadata": {
        "id": "iuKumLmLmg5J",
        "colab_type": "code",
        "colab": {
          "base_uri": "https://localhost:8080/",
          "height": 69
        },
        "outputId": "cf4d5f2b-35db-4920-95dd-8869880640f2"
      },
      "source": [
        "# Model 03:\n",
        "cross_val_score_multilabel (classifier03, X_train_new, y_train.values.ravel())"
      ],
      "execution_count": null,
      "outputs": [
        {
          "output_type": "stream",
          "text": [
            "Model Mean Accuracy (training set):0.6818897248716026 \n",
            "Macro Recall (training set):0.6073629405523061 \n",
            "Macro F1 score (training set):0.6193722752499513 \n"
          ],
          "name": "stdout"
        }
      ]
    },
    {
      "cell_type": "markdown",
      "metadata": {
        "id": "TRTK_Gl7Xamt",
        "colab_type": "text"
      },
      "source": [
        "**Neural Network Model Evaluation Results:**\n",
        "\n",
        "\n",
        "| Metric        | Model 01 | Model 02 | Model 03 |\n",
        "| ------------- | ------- | ------- | ------- |\n",
        "| # Indep. Vars |  5     |   5     |   5     |    \n",
        "| The Accuracy of the model  | 0.705  | 0.682 |  0.682      |\n",
        "| Macro F1 Score      | 0.667  |0.66 |  0.619      |\n",
        "| Macro Recall           |0.655 | 0.649 |  0.607  |"
      ]
    },
    {
      "cell_type": "markdown",
      "metadata": {
        "id": "LN3XEYMecjAT",
        "colab_type": "text"
      },
      "source": [
        "**Results:**\n",
        "\n",
        "From the results above, the Model01 performs better than the other two models. We can see that the Model01 with default parameters has the highest accuracy, macro F1, and macro recall scores that means the Model01 works better. The accuacy is higher than the null error rate. Also, the Model01 spent the least time to run. Therefore, for the Neural Network model, we select the Model01 with 5 features and default parameters as our best model."
      ]
    },
    {
      "cell_type": "markdown",
      "metadata": {
        "id": "1sCU7r-lmlbT",
        "colab_type": "text"
      },
      "source": [
        "\n",
        "\n",
        "\n",
        "\n",
        "### 5.4 Apply the final preferred model to the testing subset:\n",
        "\n",
        "Since this is a multi-class classification, we'll use `multilabel_confusion_matrix` to compute a confusion matrix for each class. "
      ]
    },
    {
      "cell_type": "code",
      "metadata": {
        "id": "mdmd1ufPCJVB",
        "colab_type": "code",
        "colab": {}
      },
      "source": [
        "#predict on the testing set\n",
        "y_pred_final = classifier01.predict(X_test_new)"
      ],
      "execution_count": null,
      "outputs": []
    },
    {
      "cell_type": "code",
      "metadata": {
        "id": "VkOj8hMgnfiU",
        "colab_type": "code",
        "colab": {
          "base_uri": "https://localhost:8080/",
          "height": 520
        },
        "outputId": "592d69bc-472e-4a36-c799-77628b218820"
      },
      "source": [
        "from sklearn.metrics import classification_report\n",
        "from sklearn.metrics import multilabel_confusion_matrix\n",
        "\n",
        "print(\"Best Neural Network Model model:\")\n",
        "mcm01 = multilabel_confusion_matrix(y_test, y_pred_final)\n",
        "print(\"Multi-label Confusion Matrix\\n{}\".format(mcm01))\n",
        "print(\"Classification Report\")\n",
        "print(classification_report(y_test, y_pred_final))"
      ],
      "execution_count": null,
      "outputs": [
        {
          "output_type": "stream",
          "text": [
            "Best Neural Network Model model:\n",
            "Multi-label Confusion Matrix\n",
            "[[[10408    36]\n",
            "  [   79   261]]\n",
            "\n",
            " [[ 9459   337]\n",
            "  [  374   614]]\n",
            "\n",
            " [[ 5528   931]\n",
            "  [  351  3974]]\n",
            "\n",
            " [[ 6844  1172]\n",
            "  [  607  2161]]\n",
            "\n",
            " [[ 7825   596]\n",
            "  [ 1661   702]]]\n",
            "Classification Report\n",
            "              precision    recall  f1-score   support\n",
            "\n",
            "           0       0.88      0.77      0.82       340\n",
            "           1       0.65      0.62      0.63       988\n",
            "           2       0.81      0.92      0.86      4325\n",
            "           3       0.65      0.78      0.71      2768\n",
            "           4       0.54      0.30      0.38      2363\n",
            "\n",
            "    accuracy                           0.72     10784\n",
            "   macro avg       0.70      0.68      0.68     10784\n",
            "weighted avg       0.70      0.72      0.70     10784\n",
            "\n"
          ],
          "name": "stdout"
        }
      ]
    },
    {
      "cell_type": "code",
      "metadata": {
        "id": "SadO-gadnqN1",
        "colab_type": "code",
        "colab": {
          "base_uri": "https://localhost:8080/",
          "height": 502
        },
        "outputId": "bff2ab7c-8f93-4663-d979-5d3609fa8463"
      },
      "source": [
        "#predict on the training set\n",
        "y_pred_train = classifier01.predict(X_train_new)\n",
        "\n",
        "mcm02 = multilabel_confusion_matrix(y_train, y_pred_train)\n",
        "print(\"Multi-label Confusion Matrix\\n{}\".format(mcm02))\n",
        "print(\"Classification Report\")\n",
        "print(classification_report(y_train, y_pred_train))"
      ],
      "execution_count": null,
      "outputs": [
        {
          "output_type": "stream",
          "text": [
            "Multi-label Confusion Matrix\n",
            "[[[41743   124]\n",
            "  [  300   969]]\n",
            "\n",
            " [[37941  1281]\n",
            "  [ 1501  2413]]\n",
            "\n",
            " [[22332  3581]\n",
            "  [ 1503 15720]]\n",
            "\n",
            " [[27334  4790]\n",
            "  [ 2319  8693]]\n",
            "\n",
            " [[30941  2477]\n",
            "  [ 6630  3088]]]\n",
            "Classification Report\n",
            "              precision    recall  f1-score   support\n",
            "\n",
            "           0       0.89      0.76      0.82      1269\n",
            "           1       0.65      0.62      0.63      3914\n",
            "           2       0.81      0.91      0.86     17223\n",
            "           3       0.64      0.79      0.71     11012\n",
            "           4       0.55      0.32      0.40      9718\n",
            "\n",
            "    accuracy                           0.72     43136\n",
            "   macro avg       0.71      0.68      0.69     43136\n",
            "weighted avg       0.70      0.72      0.70     43136\n",
            "\n"
          ],
          "name": "stdout"
        }
      ]
    },
    {
      "cell_type": "markdown",
      "metadata": {
        "id": "wSKzAVhan_pQ",
        "colab_type": "text"
      },
      "source": [
        "**Compare train and test - Neural Network Model Evaluation:**\n",
        "\n",
        "\n",
        "| Metric        | Model used in training set | Model used in testing set|\n",
        "| ------------- | ------- | ------- | \n",
        "| # Indep. Vars |  5     |   5    |     \n",
        "| The Accuracy of the model  | 0.72  | 0.72  | \n",
        "| macro F1 Score      | 0.69  | 0.68  | \n",
        "| macro Recall           |0.68  | 0.68 | \n",
        "\n",
        "\n",
        "\n",
        "From the results above, the Neural Network Model01 performs as well as expected in the testing set. "
      ]
    },
    {
      "cell_type": "markdown",
      "metadata": {
        "id": "Owz8_NSrz12T",
        "colab_type": "text"
      },
      "source": [
        "***\n",
        "## Step 6. Conclusion\n",
        "\n",
        "### Feature Importances with ELI5:\n",
        "\n",
        "We'll use ELI5 to inspect the feature importance for the best Neural Network model we selected above. The `PermutationImportance` is a way to understand blackbox models. We'll import eli5 and use `show_weights` to visualise the weights of our model, which shows relative importance among the features. \n",
        "\n",
        "https://eli5.readthedocs.io/en/latest/blackbox/permutation_importance.html\n"
      ]
    },
    {
      "cell_type": "code",
      "metadata": {
        "id": "ytTvEkL-6vKG",
        "colab_type": "code",
        "colab": {}
      },
      "source": [
        "import eli5\n",
        "from eli5.sklearn import PermutationImportance"
      ],
      "execution_count": null,
      "outputs": []
    },
    {
      "cell_type": "code",
      "metadata": {
        "id": "LNifXjpa606w",
        "colab_type": "code",
        "colab": {
          "base_uri": "https://localhost:8080/",
          "height": 121
        },
        "outputId": "15559910-cca6-42d5-ddac-f630c3922aa0"
      },
      "source": [
        "perm = PermutationImportance(classifier01).fit(X_test_new, y_test)\n",
        "eli5.show_weights(perm,feature_names=list(X_test_new.columns), show_feature_values=True)"
      ],
      "execution_count": null,
      "outputs": [
        {
          "output_type": "execute_result",
          "data": {
            "text/html": [
              "\n",
              "    <style>\n",
              "    table.eli5-weights tr:hover {\n",
              "        filter: brightness(85%);\n",
              "    }\n",
              "</style>\n",
              "\n",
              "\n",
              "\n",
              "    \n",
              "\n",
              "    \n",
              "\n",
              "    \n",
              "\n",
              "    \n",
              "\n",
              "    \n",
              "\n",
              "    \n",
              "\n",
              "\n",
              "    \n",
              "\n",
              "    \n",
              "\n",
              "    \n",
              "\n",
              "    \n",
              "\n",
              "    \n",
              "\n",
              "    \n",
              "\n",
              "\n",
              "    \n",
              "\n",
              "    \n",
              "\n",
              "    \n",
              "\n",
              "    \n",
              "\n",
              "    \n",
              "        <table class=\"eli5-weights eli5-feature-importances\" style=\"border-collapse: collapse; border: none; margin-top: 0em; table-layout: auto;\">\n",
              "    <thead>\n",
              "    <tr style=\"border: none;\">\n",
              "        <th style=\"padding: 0 1em 0 0.5em; text-align: right; border: none;\">Weight</th>\n",
              "        <th style=\"padding: 0 0.5em 0 0.5em; text-align: left; border: none;\">Feature</th>\n",
              "    </tr>\n",
              "    </thead>\n",
              "    <tbody>\n",
              "    \n",
              "        <tr style=\"background-color: hsl(120, 100.00%, 80.00%); border: none;\">\n",
              "            <td style=\"padding: 0 1em 0 0.5em; text-align: right; border: none;\">\n",
              "                0.2653\n",
              "                \n",
              "                    &plusmn; 0.0064\n",
              "                \n",
              "            </td>\n",
              "            <td style=\"padding: 0 0.5em 0 0.5em; text-align: left; border: none;\">\n",
              "                table\n",
              "            </td>\n",
              "        </tr>\n",
              "    \n",
              "        <tr style=\"background-color: hsl(120, 100.00%, 81.49%); border: none;\">\n",
              "            <td style=\"padding: 0 1em 0 0.5em; text-align: right; border: none;\">\n",
              "                0.2376\n",
              "                \n",
              "                    &plusmn; 0.0031\n",
              "                \n",
              "            </td>\n",
              "            <td style=\"padding: 0 0.5em 0 0.5em; text-align: left; border: none;\">\n",
              "                carat\n",
              "            </td>\n",
              "        </tr>\n",
              "    \n",
              "        <tr style=\"background-color: hsl(120, 100.00%, 84.53%); border: none;\">\n",
              "            <td style=\"padding: 0 1em 0 0.5em; text-align: right; border: none;\">\n",
              "                0.1839\n",
              "                \n",
              "                    &plusmn; 0.0055\n",
              "                \n",
              "            </td>\n",
              "            <td style=\"padding: 0 0.5em 0 0.5em; text-align: left; border: none;\">\n",
              "                depth\n",
              "            </td>\n",
              "        </tr>\n",
              "    \n",
              "        <tr style=\"background-color: hsl(120, 100.00%, 86.98%); border: none;\">\n",
              "            <td style=\"padding: 0 1em 0 0.5em; text-align: right; border: none;\">\n",
              "                0.1438\n",
              "                \n",
              "                    &plusmn; 0.0035\n",
              "                \n",
              "            </td>\n",
              "            <td style=\"padding: 0 0.5em 0 0.5em; text-align: left; border: none;\">\n",
              "                price\n",
              "            </td>\n",
              "        </tr>\n",
              "    \n",
              "        <tr style=\"background-color: hsl(120, 100.00%, 87.45%); border: none;\">\n",
              "            <td style=\"padding: 0 1em 0 0.5em; text-align: right; border: none;\">\n",
              "                0.1364\n",
              "                \n",
              "                    &plusmn; 0.0067\n",
              "                \n",
              "            </td>\n",
              "            <td style=\"padding: 0 0.5em 0 0.5em; text-align: left; border: none;\">\n",
              "                volume\n",
              "            </td>\n",
              "        </tr>\n",
              "    \n",
              "    \n",
              "    </tbody>\n",
              "</table>\n",
              "    \n",
              "\n",
              "    \n",
              "\n",
              "\n",
              "    \n",
              "\n",
              "    \n",
              "\n",
              "    \n",
              "\n",
              "    \n",
              "\n",
              "    \n",
              "\n",
              "    \n",
              "\n",
              "\n",
              "\n"
            ],
            "text/plain": [
              "<IPython.core.display.HTML object>"
            ]
          },
          "metadata": {
            "tags": []
          },
          "execution_count": 50
        }
      ]
    },
    {
      "cell_type": "markdown",
      "metadata": {
        "id": "B5iOkman3361",
        "colab_type": "text"
      },
      "source": [
        "**Results:**\n",
        "\n",
        "The table abve gives average importance and standard deviation. The results of this table shows that the most important feature to predict a diamond cut is the diamond table. It means when we use this model on new data to predict diamond cut, the most important thing it will need to get the prediction right is the class of a diamond table. Next is diamond carat. The diamond volume is the least important feature to make a prediction. "
      ]
    },
    {
      "cell_type": "code",
      "metadata": {
        "id": "K2I2yNbUKVyj",
        "colab_type": "code",
        "colab": {}
      },
      "source": [
        ""
      ],
      "execution_count": null,
      "outputs": []
    }
  ]
}