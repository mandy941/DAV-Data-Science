{
  "nbformat": 4,
  "nbformat_minor": 0,
  "metadata": {
    "kernelspec": {
      "display_name": "Python 3",
      "language": "python",
      "name": "python3"
    },
    "language_info": {
      "codemirror_mode": {
        "name": "ipython",
        "version": 3
      },
      "file_extension": ".py",
      "mimetype": "text/x-python",
      "name": "python",
      "nbconvert_exporter": "python",
      "pygments_lexer": "ipython3",
      "version": "3.7.3"
    },
    "colab": {
      "name": "project3.ipynb",
      "provenance": [],
      "collapsed_sections": []
    }
  },
  "cells": [
    {
      "cell_type": "markdown",
      "metadata": {
        "id": "lpctjbOMCuOy",
        "colab_type": "text"
      },
      "source": [
        "# DAV 6150 Project 3\n",
        "\n",
        "- by Group Manling Yang, Xiaojia He, Qi Sun\n",
        "- The video link: https://screencast-o-matic.com/watch/cYjee1EPqN\n",
        "\n",
        "***\n",
        "## Introduction\n",
        "\n",
        "The purpose of this study is to construct a series of different models to predict diamond cut category. This dataset is comprised of 53940 observations with 10 variables.\n",
        "\n",
        "<img src=\"https://raw.githubusercontent.com/susanqisun/DAV-6150/master/assignments/picture/gia-diagramcut.jpg\" width=\"500\">\n",
        "\n",
        "\n",
        "**Independent variables:**\n",
        "\n",
        "1. price: price in US dollars (\\$326--\\$18,823), continuous data.\n",
        "\n",
        "2. carat: weight of the diamond (0.2--5.01), continuous data.\n",
        "\n",
        "3. color: diamond colour, from D (best) to J (worst), ordinal data.\n",
        "\n",
        "4. clarity: a measurement of how clear the diamond is (I1 (worst), SI2, SI1, VS2, VS1, VVS2, VVS1, IF (best)), categorical data.\n",
        "\n",
        "5. x: length in mm (0--10.74), continuous data.\n",
        "\n",
        "6. y: width in mm (0--58.9), continuous data.\n",
        "\n",
        "7. z: depth in mm (0--31.8), continuous data.\n",
        "\n",
        "8. depth: total depth percentage = z / mean(x, y) = 2 * z / (x + y) (43--79), , continuous data.\n",
        "\n",
        "9. table: width of top of diamond relative to widest point (43--95), continuous data.\n",
        "\n",
        "**Dependent variable:**\n",
        "\n",
        "**cut**: quality of the cut (Fair, Good, Very Good, Premium, Ideal), ordinal data\n",
        "\n",
        "<img src=\"https://raw.githubusercontent.com/susanqisun/DAV-6150/master/assignments/picture/6PannTm.jpg\" width=\"500\">\n",
        "\n",
        "Reference: https://ggplot2.tidyverse.org/reference/diamonds.html \n",
        "\n",
        "**Domain Knowledge:**\n",
        "\n",
        "A diamond’s cut refers to the style in which the stone is shaped. Cut does not mean the jewel’s shape itself but rather the proportions and facets of its design. It's a diamond’s cut that determines its overall look as well as its ability to reflect light. This makes it one of the most important aspects affecting its value.\n",
        "\n",
        "Diamond cut is defined by five main factors: table, depth, symmetry, polish, and cut grade. These factors are evaluated using the attributes of brilliance, fire, and scintillation. \n",
        "\n",
        "https://www.brilliance.com/diamonds/factors-diamond-cut-quality-comparison\n",
        "\n",
        "In conjunction with diamond cut grade, the carat size of a diamond would affect the physical diameter (face-up size) that an observer sees.\n",
        "\n",
        "https://beyond4cs.com/carat/weight-vs-cut/\n",
        "\n",
        "As we know, diamond prices can vary hugely depending on a diamond's shape, cut quality, clarity and color. Therefore, we can assume the price could also predict the diamond cut. The higher price, the better diamond cut. \n"
      ]
    },
    {
      "cell_type": "code",
      "metadata": {
        "id": "5vxMzD_1CuOz",
        "colab_type": "code",
        "colab": {}
      },
      "source": [
        "# Importing required libraries.\n",
        "\n",
        "import pandas as pd\n",
        "import numpy as np\n",
        "\n",
        "import seaborn as sns #visualisation\n",
        "import matplotlib.pyplot as plt #visualisation\n",
        "%matplotlib inline \n",
        "sns.set(color_codes=True)\n",
        "\n",
        "#disable chained assignments\n",
        "pd.options.mode.chained_assignment = None "
      ],
      "execution_count": null,
      "outputs": []
    },
    {
      "cell_type": "markdown",
      "metadata": {
        "id": "i8DyXBthCuO1",
        "colab_type": "text"
      },
      "source": [
        "***\n",
        "## Step 1: Load data into the data frame from GitHub\n",
        "\n",
        "After reading the dataset from Github\n",
        "\n",
        "`.head()` returns the first 5 rows of the dataset. "
      ]
    },
    {
      "cell_type": "code",
      "metadata": {
        "id": "YC1aAgH8CuO2",
        "colab_type": "code",
        "colab": {
          "base_uri": "https://localhost:8080/",
          "height": 204
        },
        "outputId": "857382e5-a0da-40a5-ebc8-f536cb0b6252"
      },
      "source": [
        "# read the data from Github\n",
        "data = pd.read_csv('https://raw.githubusercontent.com/mandy941/DAV-Data-Science/master/Gradient%20Descent%20%2B%20Gradient%20Boosting/Project3_Data.csv')\n",
        "data.head()\n"
      ],
      "execution_count": null,
      "outputs": [
        {
          "output_type": "execute_result",
          "data": {
            "text/html": [
              "<div>\n",
              "<style scoped>\n",
              "    .dataframe tbody tr th:only-of-type {\n",
              "        vertical-align: middle;\n",
              "    }\n",
              "\n",
              "    .dataframe tbody tr th {\n",
              "        vertical-align: top;\n",
              "    }\n",
              "\n",
              "    .dataframe thead th {\n",
              "        text-align: right;\n",
              "    }\n",
              "</style>\n",
              "<table border=\"1\" class=\"dataframe\">\n",
              "  <thead>\n",
              "    <tr style=\"text-align: right;\">\n",
              "      <th></th>\n",
              "      <th>carat</th>\n",
              "      <th>cut</th>\n",
              "      <th>color</th>\n",
              "      <th>clarity</th>\n",
              "      <th>depth</th>\n",
              "      <th>table</th>\n",
              "      <th>price</th>\n",
              "      <th>x</th>\n",
              "      <th>y</th>\n",
              "      <th>z</th>\n",
              "    </tr>\n",
              "  </thead>\n",
              "  <tbody>\n",
              "    <tr>\n",
              "      <th>0</th>\n",
              "      <td>0.23</td>\n",
              "      <td>Ideal</td>\n",
              "      <td>E</td>\n",
              "      <td>SI2</td>\n",
              "      <td>61.5</td>\n",
              "      <td>55.0</td>\n",
              "      <td>326</td>\n",
              "      <td>3.95</td>\n",
              "      <td>3.98</td>\n",
              "      <td>2.43</td>\n",
              "    </tr>\n",
              "    <tr>\n",
              "      <th>1</th>\n",
              "      <td>0.21</td>\n",
              "      <td>Premium</td>\n",
              "      <td>E</td>\n",
              "      <td>SI1</td>\n",
              "      <td>59.8</td>\n",
              "      <td>61.0</td>\n",
              "      <td>326</td>\n",
              "      <td>3.89</td>\n",
              "      <td>3.84</td>\n",
              "      <td>2.31</td>\n",
              "    </tr>\n",
              "    <tr>\n",
              "      <th>2</th>\n",
              "      <td>0.23</td>\n",
              "      <td>Good</td>\n",
              "      <td>E</td>\n",
              "      <td>VS1</td>\n",
              "      <td>56.9</td>\n",
              "      <td>65.0</td>\n",
              "      <td>327</td>\n",
              "      <td>4.05</td>\n",
              "      <td>4.07</td>\n",
              "      <td>2.31</td>\n",
              "    </tr>\n",
              "    <tr>\n",
              "      <th>3</th>\n",
              "      <td>0.29</td>\n",
              "      <td>Premium</td>\n",
              "      <td>I</td>\n",
              "      <td>VS2</td>\n",
              "      <td>62.4</td>\n",
              "      <td>58.0</td>\n",
              "      <td>334</td>\n",
              "      <td>4.20</td>\n",
              "      <td>4.23</td>\n",
              "      <td>2.63</td>\n",
              "    </tr>\n",
              "    <tr>\n",
              "      <th>4</th>\n",
              "      <td>0.31</td>\n",
              "      <td>Good</td>\n",
              "      <td>J</td>\n",
              "      <td>SI2</td>\n",
              "      <td>63.3</td>\n",
              "      <td>58.0</td>\n",
              "      <td>335</td>\n",
              "      <td>4.34</td>\n",
              "      <td>4.35</td>\n",
              "      <td>2.75</td>\n",
              "    </tr>\n",
              "  </tbody>\n",
              "</table>\n",
              "</div>"
            ],
            "text/plain": [
              "   carat      cut color clarity  depth  table  price     x     y     z\n",
              "0   0.23    Ideal     E     SI2   61.5   55.0    326  3.95  3.98  2.43\n",
              "1   0.21  Premium     E     SI1   59.8   61.0    326  3.89  3.84  2.31\n",
              "2   0.23     Good     E     VS1   56.9   65.0    327  4.05  4.07  2.31\n",
              "3   0.29  Premium     I     VS2   62.4   58.0    334  4.20  4.23  2.63\n",
              "4   0.31     Good     J     SI2   63.3   58.0    335  4.34  4.35  2.75"
            ]
          },
          "metadata": {
            "tags": []
          },
          "execution_count": 6
        }
      ]
    },
    {
      "cell_type": "markdown",
      "metadata": {
        "id": "m9903hq6CuO4",
        "colab_type": "text"
      },
      "source": [
        "***\n",
        "## Step 2: Exploratory Data Analysis"
      ]
    },
    {
      "cell_type": "markdown",
      "metadata": {
        "id": "3yEuh6yKCuO5",
        "colab_type": "text"
      },
      "source": [
        "\n",
        "### 1. Data exploration:\n",
        "`.shape` returns the number of rows by the number of columns for the dataset.\n",
        "\n",
        "`.describe()` summarizes the count, mean, standard deviation, min, and max for numeric variables. \n",
        "\n",
        "`.dtypes` identifies the Data Types.\n",
        "\n",
        "`.nunique()` returns the number of unique values for each variable.\n",
        "\n",
        "`.isnull().sum()` checks missing values for each column.\n",
        "\n",
        "`.count()` returns the count for each variable."
      ]
    },
    {
      "cell_type": "code",
      "metadata": {
        "id": "nvFWFScNCuO5",
        "colab_type": "code",
        "colab": {
          "base_uri": "https://localhost:8080/",
          "height": 34
        },
        "outputId": "0e4afb25-f38f-4cbf-fd34-88d4644823b0"
      },
      "source": [
        "df = data.copy()\n",
        "# check the shape for the dataframe\n",
        "df.shape"
      ],
      "execution_count": null,
      "outputs": [
        {
          "output_type": "execute_result",
          "data": {
            "text/plain": [
              "(53940, 10)"
            ]
          },
          "metadata": {
            "tags": []
          },
          "execution_count": 7
        }
      ]
    },
    {
      "cell_type": "code",
      "metadata": {
        "id": "gope9hKvCuO7",
        "colab_type": "code",
        "colab": {
          "base_uri": "https://localhost:8080/",
          "height": 263
        },
        "outputId": "b8faccb7-7953-4125-b4af-6f858cd9d917"
      },
      "source": [
        "# statistical summary of numeric variables:\n",
        "df.describe().T"
      ],
      "execution_count": null,
      "outputs": [
        {
          "output_type": "execute_result",
          "data": {
            "text/html": [
              "<div>\n",
              "<style scoped>\n",
              "    .dataframe tbody tr th:only-of-type {\n",
              "        vertical-align: middle;\n",
              "    }\n",
              "\n",
              "    .dataframe tbody tr th {\n",
              "        vertical-align: top;\n",
              "    }\n",
              "\n",
              "    .dataframe thead th {\n",
              "        text-align: right;\n",
              "    }\n",
              "</style>\n",
              "<table border=\"1\" class=\"dataframe\">\n",
              "  <thead>\n",
              "    <tr style=\"text-align: right;\">\n",
              "      <th></th>\n",
              "      <th>count</th>\n",
              "      <th>mean</th>\n",
              "      <th>std</th>\n",
              "      <th>min</th>\n",
              "      <th>25%</th>\n",
              "      <th>50%</th>\n",
              "      <th>75%</th>\n",
              "      <th>max</th>\n",
              "    </tr>\n",
              "  </thead>\n",
              "  <tbody>\n",
              "    <tr>\n",
              "      <th>carat</th>\n",
              "      <td>53940.0</td>\n",
              "      <td>0.797940</td>\n",
              "      <td>0.474011</td>\n",
              "      <td>0.2</td>\n",
              "      <td>0.40</td>\n",
              "      <td>0.70</td>\n",
              "      <td>1.04</td>\n",
              "      <td>5.01</td>\n",
              "    </tr>\n",
              "    <tr>\n",
              "      <th>depth</th>\n",
              "      <td>53940.0</td>\n",
              "      <td>61.749405</td>\n",
              "      <td>1.432621</td>\n",
              "      <td>43.0</td>\n",
              "      <td>61.00</td>\n",
              "      <td>61.80</td>\n",
              "      <td>62.50</td>\n",
              "      <td>79.00</td>\n",
              "    </tr>\n",
              "    <tr>\n",
              "      <th>table</th>\n",
              "      <td>53940.0</td>\n",
              "      <td>57.457184</td>\n",
              "      <td>2.234491</td>\n",
              "      <td>43.0</td>\n",
              "      <td>56.00</td>\n",
              "      <td>57.00</td>\n",
              "      <td>59.00</td>\n",
              "      <td>95.00</td>\n",
              "    </tr>\n",
              "    <tr>\n",
              "      <th>price</th>\n",
              "      <td>53940.0</td>\n",
              "      <td>3932.799722</td>\n",
              "      <td>3989.439738</td>\n",
              "      <td>326.0</td>\n",
              "      <td>950.00</td>\n",
              "      <td>2401.00</td>\n",
              "      <td>5324.25</td>\n",
              "      <td>18823.00</td>\n",
              "    </tr>\n",
              "    <tr>\n",
              "      <th>x</th>\n",
              "      <td>53940.0</td>\n",
              "      <td>5.731157</td>\n",
              "      <td>1.121761</td>\n",
              "      <td>0.0</td>\n",
              "      <td>4.71</td>\n",
              "      <td>5.70</td>\n",
              "      <td>6.54</td>\n",
              "      <td>10.74</td>\n",
              "    </tr>\n",
              "    <tr>\n",
              "      <th>y</th>\n",
              "      <td>53940.0</td>\n",
              "      <td>5.734526</td>\n",
              "      <td>1.142135</td>\n",
              "      <td>0.0</td>\n",
              "      <td>4.72</td>\n",
              "      <td>5.71</td>\n",
              "      <td>6.54</td>\n",
              "      <td>58.90</td>\n",
              "    </tr>\n",
              "    <tr>\n",
              "      <th>z</th>\n",
              "      <td>53940.0</td>\n",
              "      <td>3.538734</td>\n",
              "      <td>0.705699</td>\n",
              "      <td>0.0</td>\n",
              "      <td>2.91</td>\n",
              "      <td>3.53</td>\n",
              "      <td>4.04</td>\n",
              "      <td>31.80</td>\n",
              "    </tr>\n",
              "  </tbody>\n",
              "</table>\n",
              "</div>"
            ],
            "text/plain": [
              "         count         mean          std  ...      50%      75%       max\n",
              "carat  53940.0     0.797940     0.474011  ...     0.70     1.04      5.01\n",
              "depth  53940.0    61.749405     1.432621  ...    61.80    62.50     79.00\n",
              "table  53940.0    57.457184     2.234491  ...    57.00    59.00     95.00\n",
              "price  53940.0  3932.799722  3989.439738  ...  2401.00  5324.25  18823.00\n",
              "x      53940.0     5.731157     1.121761  ...     5.70     6.54     10.74\n",
              "y      53940.0     5.734526     1.142135  ...     5.71     6.54     58.90\n",
              "z      53940.0     3.538734     0.705699  ...     3.53     4.04     31.80\n",
              "\n",
              "[7 rows x 8 columns]"
            ]
          },
          "metadata": {
            "tags": []
          },
          "execution_count": 4
        }
      ]
    },
    {
      "cell_type": "code",
      "metadata": {
        "id": "8QVfoglECuO9",
        "colab_type": "code",
        "colab": {
          "base_uri": "https://localhost:8080/",
          "height": 410
        },
        "outputId": "ae875cd6-fdf4-433f-a077-78fc267cbcb8"
      },
      "source": [
        "#Identify the Data Types\n",
        "df_info = pd.DataFrame(df.dtypes,columns=['Dtype'])\n",
        "\n",
        "#Identify the unique values\n",
        "df_info['Nunique'] = df.nunique()\n",
        "\n",
        "#check missing values for each column\n",
        "df_info['MissingValues']=df.isnull().sum()\n",
        "\n",
        "# Identify the count for each variable\n",
        "df_info['Count']=df.count()\n",
        "\n",
        "# Identify the zero values for each variable\n",
        "df_info['ZeroValues']=(df==0).sum()\n",
        "\n",
        "# how many '?' values\n",
        "df_info['?Values']=(df=='?').sum()\n",
        "\n",
        "df_info"
      ],
      "execution_count": null,
      "outputs": [
        {
          "output_type": "stream",
          "text": [
            "/usr/local/lib/python3.6/dist-packages/pandas/core/ops/array_ops.py:253: FutureWarning: elementwise comparison failed; returning scalar instead, but in the future will perform elementwise comparison\n",
            "  res_values = method(rvalues)\n"
          ],
          "name": "stderr"
        },
        {
          "output_type": "execute_result",
          "data": {
            "text/html": [
              "<div>\n",
              "<style scoped>\n",
              "    .dataframe tbody tr th:only-of-type {\n",
              "        vertical-align: middle;\n",
              "    }\n",
              "\n",
              "    .dataframe tbody tr th {\n",
              "        vertical-align: top;\n",
              "    }\n",
              "\n",
              "    .dataframe thead th {\n",
              "        text-align: right;\n",
              "    }\n",
              "</style>\n",
              "<table border=\"1\" class=\"dataframe\">\n",
              "  <thead>\n",
              "    <tr style=\"text-align: right;\">\n",
              "      <th></th>\n",
              "      <th>Dtype</th>\n",
              "      <th>Nunique</th>\n",
              "      <th>MissingValues</th>\n",
              "      <th>Count</th>\n",
              "      <th>ZeroValues</th>\n",
              "      <th>?Values</th>\n",
              "    </tr>\n",
              "  </thead>\n",
              "  <tbody>\n",
              "    <tr>\n",
              "      <th>carat</th>\n",
              "      <td>float64</td>\n",
              "      <td>273</td>\n",
              "      <td>0</td>\n",
              "      <td>53940</td>\n",
              "      <td>0</td>\n",
              "      <td>0</td>\n",
              "    </tr>\n",
              "    <tr>\n",
              "      <th>cut</th>\n",
              "      <td>object</td>\n",
              "      <td>5</td>\n",
              "      <td>0</td>\n",
              "      <td>53940</td>\n",
              "      <td>0</td>\n",
              "      <td>0</td>\n",
              "    </tr>\n",
              "    <tr>\n",
              "      <th>color</th>\n",
              "      <td>object</td>\n",
              "      <td>7</td>\n",
              "      <td>0</td>\n",
              "      <td>53940</td>\n",
              "      <td>0</td>\n",
              "      <td>0</td>\n",
              "    </tr>\n",
              "    <tr>\n",
              "      <th>clarity</th>\n",
              "      <td>object</td>\n",
              "      <td>8</td>\n",
              "      <td>0</td>\n",
              "      <td>53940</td>\n",
              "      <td>0</td>\n",
              "      <td>0</td>\n",
              "    </tr>\n",
              "    <tr>\n",
              "      <th>depth</th>\n",
              "      <td>float64</td>\n",
              "      <td>184</td>\n",
              "      <td>0</td>\n",
              "      <td>53940</td>\n",
              "      <td>0</td>\n",
              "      <td>0</td>\n",
              "    </tr>\n",
              "    <tr>\n",
              "      <th>table</th>\n",
              "      <td>float64</td>\n",
              "      <td>127</td>\n",
              "      <td>0</td>\n",
              "      <td>53940</td>\n",
              "      <td>0</td>\n",
              "      <td>0</td>\n",
              "    </tr>\n",
              "    <tr>\n",
              "      <th>price</th>\n",
              "      <td>int64</td>\n",
              "      <td>11602</td>\n",
              "      <td>0</td>\n",
              "      <td>53940</td>\n",
              "      <td>0</td>\n",
              "      <td>0</td>\n",
              "    </tr>\n",
              "    <tr>\n",
              "      <th>x</th>\n",
              "      <td>float64</td>\n",
              "      <td>554</td>\n",
              "      <td>0</td>\n",
              "      <td>53940</td>\n",
              "      <td>8</td>\n",
              "      <td>0</td>\n",
              "    </tr>\n",
              "    <tr>\n",
              "      <th>y</th>\n",
              "      <td>float64</td>\n",
              "      <td>552</td>\n",
              "      <td>0</td>\n",
              "      <td>53940</td>\n",
              "      <td>7</td>\n",
              "      <td>0</td>\n",
              "    </tr>\n",
              "    <tr>\n",
              "      <th>z</th>\n",
              "      <td>float64</td>\n",
              "      <td>375</td>\n",
              "      <td>0</td>\n",
              "      <td>53940</td>\n",
              "      <td>20</td>\n",
              "      <td>0</td>\n",
              "    </tr>\n",
              "  </tbody>\n",
              "</table>\n",
              "</div>"
            ],
            "text/plain": [
              "           Dtype  Nunique  MissingValues  Count  ZeroValues  ?Values\n",
              "carat    float64      273              0  53940           0        0\n",
              "cut       object        5              0  53940           0        0\n",
              "color     object        7              0  53940           0        0\n",
              "clarity   object        8              0  53940           0        0\n",
              "depth    float64      184              0  53940           0        0\n",
              "table    float64      127              0  53940           0        0\n",
              "price      int64    11602              0  53940           0        0\n",
              "x        float64      554              0  53940           8        0\n",
              "y        float64      552              0  53940           7        0\n",
              "z        float64      375              0  53940          20        0"
            ]
          },
          "metadata": {
            "tags": []
          },
          "execution_count": 5
        }
      ]
    },
    {
      "cell_type": "markdown",
      "metadata": {
        "id": "a24y5w1TCuPA",
        "colab_type": "text"
      },
      "source": [
        "There is no 0mm length, width, or depth diamond in the world. So, there are some mistakes in observations where x, y, or z columns have zero values. Consider we have 53940 observations and fewer zero values in column x, y, z, we will drop them later. "
      ]
    },
    {
      "cell_type": "markdown",
      "metadata": {
        "id": "nP3d-lpyCuPC",
        "colab_type": "text"
      },
      "source": [
        "### 2. Visualize numerical variables"
      ]
    },
    {
      "cell_type": "code",
      "metadata": {
        "id": "qXyBeWwBCuPD",
        "colab_type": "code",
        "colab": {
          "base_uri": "https://localhost:8080/",
          "height": 68
        },
        "outputId": "2959b855-7a7f-47d8-aafe-9fc7a2b23f61"
      },
      "source": [
        "# define numerical, categorical, and boolean data\n",
        "numerical_columns = []\n",
        "boolean_column = []\n",
        "categorical_columns = []\n",
        "\n",
        "for i in df.columns[:]:\n",
        "    if(df[i].dtype=='object'):\n",
        "        categorical_columns.append(i)\n",
        "    elif (df[i].dtype=='bool'):\n",
        "        boolean_column.append(i)\n",
        "    else:\n",
        "        numerical_columns.append(i)\n",
        "        \n",
        "print('1. Numerical variables:',numerical_columns)\n",
        "print('2. Boolean variable:',boolean_column)\n",
        "print('3. Categorical variables:',categorical_columns)\n"
      ],
      "execution_count": null,
      "outputs": [
        {
          "output_type": "stream",
          "text": [
            "1. Numerical variables: ['carat', 'depth', 'table', 'price', 'x', 'y', 'z']\n",
            "2. Boolean variable: []\n",
            "3. Categorical variables: ['cut', 'color', 'clarity']\n"
          ],
          "name": "stdout"
        }
      ]
    },
    {
      "cell_type": "code",
      "metadata": {
        "id": "NbFecntOCuPF",
        "colab_type": "code",
        "colab": {
          "base_uri": "https://localhost:8080/",
          "height": 783
        },
        "outputId": "bc9c7fc4-7971-4b6c-a3d4-ea13ef282c54"
      },
      "source": [
        "# Distributions for each of numerical variables.\n",
        "df[numerical_columns].hist(figsize=(15, 10), bins=20, xlabelsize=10, ylabelsize=10)"
      ],
      "execution_count": null,
      "outputs": [
        {
          "output_type": "execute_result",
          "data": {
            "text/plain": [
              "array([[<matplotlib.axes._subplots.AxesSubplot object at 0x7f152b560d68>,\n",
              "        <matplotlib.axes._subplots.AxesSubplot object at 0x7f152b4c33c8>,\n",
              "        <matplotlib.axes._subplots.AxesSubplot object at 0x7f152b474a20>],\n",
              "       [<matplotlib.axes._subplots.AxesSubplot object at 0x7f152b4300b8>,\n",
              "        <matplotlib.axes._subplots.AxesSubplot object at 0x7f152b45f710>,\n",
              "        <matplotlib.axes._subplots.AxesSubplot object at 0x7f152b40ed68>],\n",
              "       [<matplotlib.axes._subplots.AxesSubplot object at 0x7f152b3cd400>,\n",
              "        <matplotlib.axes._subplots.AxesSubplot object at 0x7f152b37da20>,\n",
              "        <matplotlib.axes._subplots.AxesSubplot object at 0x7f152b37da90>]],\n",
              "      dtype=object)"
            ]
          },
          "metadata": {
            "tags": []
          },
          "execution_count": 7
        },
        {
          "output_type": "display_data",
          "data": {
            "image/png": "[encoded data removed]",
            "text/plain": [
              "<Figure size 1080x720 with 9 Axes>"
            ]
          },
          "metadata": {
            "tags": [],
            "needs_background": "light"
          }
        }
      ]
    },
    {
      "cell_type": "markdown",
      "metadata": {
        "id": "fY-TLCIiWYvv",
        "colab_type": "text"
      },
      "source": [
        "1. In the dataset, most of the diamonds are equal or less than 1 carat. Their width of the top of the diamond relative to the widest point is less than 60, and their price is less than 5000 dollars. \n",
        "2. Most of the diamonds have 4-5 lengths, 3-9 width, and 2-5 depth. "
      ]
    },
    {
      "cell_type": "markdown",
      "metadata": {
        "id": "xenbZEvvCuPH",
        "colab_type": "text"
      },
      "source": [
        "### 3. Visualize categorical variables"
      ]
    },
    {
      "cell_type": "code",
      "metadata": {
        "id": "CFkkTljYCuPH",
        "colab_type": "code",
        "colab": {
          "base_uri": "https://localhost:8080/",
          "height": 431
        },
        "outputId": "5bbd4b43-9a05-4790-9983-2ae081a1db62"
      },
      "source": [
        "# create bar chart for categorical data\n",
        "fig, ax = plt.subplots(1, 3, figsize=(19, 6))\n",
        "for variable, subplot in zip(categorical_columns, ax.flatten()):\n",
        "    sns.countplot(df[variable], ax=subplot)\n",
        "    for label in subplot.get_xticklabels():\n",
        "        label.set_rotation(45)"
      ],
      "execution_count": null,
      "outputs": [
        {
          "output_type": "display_data",
          "data": {
            "image/png": "[encoded data removed]",
            "text/plain": [
              "<Figure size 1368x432 with 3 Axes>"
            ]
          },
          "metadata": {
            "tags": [],
            "needs_background": "light"
          }
        }
      ]
    },
    {
      "cell_type": "markdown",
      "metadata": {
        "id": "irqHH7faWaTn",
        "colab_type": "text"
      },
      "source": [
        "1. Ideal, Premium, and Very Good level are the top 3 cut levels in all diamonds. There are around 5000 diamonds are in Good cut level. Approximately 2500 diamonds are in a Fair cut level.\n",
        "2. Most of the diamonds are closed to the best and middle-level colors.  E, G, and F  are the most common  Color levels.  \n",
        "3. Most of the diamonds are SI1 and VS2 clarity levels. "
      ]
    },
    {
      "cell_type": "markdown",
      "metadata": {
        "id": "MRCXv30oCuPJ",
        "colab_type": "text"
      },
      "source": [
        "### 4. Check the relationship between independent variables and the dependent variable\n"
      ]
    },
    {
      "cell_type": "code",
      "metadata": {
        "id": "Nzs-QTrkCuPJ",
        "colab_type": "code",
        "colab": {
          "base_uri": "https://localhost:8080/",
          "height": 632
        },
        "outputId": "5d5016c2-9d9d-4683-8565-9cab1775ce4c"
      },
      "source": [
        "plt.rcParams['figure.figsize'] = (10, 5)\n",
        "\n",
        "# show the relationship of color and cut\n",
        "plt.subplot(121)\n",
        "sns.countplot(x='cut',hue= 'color', data=df, palette = 'husl')\n",
        "plt.title('Color vs. Cut')\n",
        "\n",
        "# check the different cut percentages in every color \n",
        "ax= plt.subplot(122)\n",
        "c_c = pd.crosstab(df.color, df.cut)\n",
        "c_c.div(c_c .sum(1).astype(float), axis=0).plot(kind='bar', stacked=True, ax=ax)\n",
        "plt.title('Cut Percentage by color')\n",
        "plt.xlabel('color')\n",
        "plt.xticks(rotation=0)\n",
        "plt.ylabel('Percentage of cut')\n",
        "\n",
        "c_c"
      ],
      "execution_count": null,
      "outputs": [
        {
          "output_type": "execute_result",
          "data": {
            "text/html": [
              "<div>\n",
              "<style scoped>\n",
              "    .dataframe tbody tr th:only-of-type {\n",
              "        vertical-align: middle;\n",
              "    }\n",
              "\n",
              "    .dataframe tbody tr th {\n",
              "        vertical-align: top;\n",
              "    }\n",
              "\n",
              "    .dataframe thead th {\n",
              "        text-align: right;\n",
              "    }\n",
              "</style>\n",
              "<table border=\"1\" class=\"dataframe\">\n",
              "  <thead>\n",
              "    <tr style=\"text-align: right;\">\n",
              "      <th>cut</th>\n",
              "      <th>Fair</th>\n",
              "      <th>Good</th>\n",
              "      <th>Ideal</th>\n",
              "      <th>Premium</th>\n",
              "      <th>Very Good</th>\n",
              "    </tr>\n",
              "    <tr>\n",
              "      <th>color</th>\n",
              "      <th></th>\n",
              "      <th></th>\n",
              "      <th></th>\n",
              "      <th></th>\n",
              "      <th></th>\n",
              "    </tr>\n",
              "  </thead>\n",
              "  <tbody>\n",
              "    <tr>\n",
              "      <th>D</th>\n",
              "      <td>163</td>\n",
              "      <td>662</td>\n",
              "      <td>2834</td>\n",
              "      <td>1603</td>\n",
              "      <td>1513</td>\n",
              "    </tr>\n",
              "    <tr>\n",
              "      <th>E</th>\n",
              "      <td>224</td>\n",
              "      <td>933</td>\n",
              "      <td>3903</td>\n",
              "      <td>2337</td>\n",
              "      <td>2400</td>\n",
              "    </tr>\n",
              "    <tr>\n",
              "      <th>F</th>\n",
              "      <td>312</td>\n",
              "      <td>909</td>\n",
              "      <td>3826</td>\n",
              "      <td>2331</td>\n",
              "      <td>2164</td>\n",
              "    </tr>\n",
              "    <tr>\n",
              "      <th>G</th>\n",
              "      <td>314</td>\n",
              "      <td>871</td>\n",
              "      <td>4884</td>\n",
              "      <td>2924</td>\n",
              "      <td>2299</td>\n",
              "    </tr>\n",
              "    <tr>\n",
              "      <th>H</th>\n",
              "      <td>303</td>\n",
              "      <td>702</td>\n",
              "      <td>3115</td>\n",
              "      <td>2360</td>\n",
              "      <td>1824</td>\n",
              "    </tr>\n",
              "    <tr>\n",
              "      <th>I</th>\n",
              "      <td>175</td>\n",
              "      <td>522</td>\n",
              "      <td>2093</td>\n",
              "      <td>1428</td>\n",
              "      <td>1204</td>\n",
              "    </tr>\n",
              "    <tr>\n",
              "      <th>J</th>\n",
              "      <td>119</td>\n",
              "      <td>307</td>\n",
              "      <td>896</td>\n",
              "      <td>808</td>\n",
              "      <td>678</td>\n",
              "    </tr>\n",
              "  </tbody>\n",
              "</table>\n",
              "</div>"
            ],
            "text/plain": [
              "cut    Fair  Good  Ideal  Premium  Very Good\n",
              "color                                       \n",
              "D       163   662   2834     1603       1513\n",
              "E       224   933   3903     2337       2400\n",
              "F       312   909   3826     2331       2164\n",
              "G       314   871   4884     2924       2299\n",
              "H       303   702   3115     2360       1824\n",
              "I       175   522   2093     1428       1204\n",
              "J       119   307    896      808        678"
            ]
          },
          "metadata": {
            "tags": []
          },
          "execution_count": 9
        },
        {
          "output_type": "display_data",
          "data": {
            "image/png": "[encoded data removed]",
            "text/plain": [
              "<Figure size 720x360 with 2 Axes>"
            ]
          },
          "metadata": {
            "tags": [],
            "needs_background": "light"
          }
        }
      ]
    },
    {
      "cell_type": "markdown",
      "metadata": {
        "id": "nWknLnZ0CuPL",
        "colab_type": "text"
      },
      "source": [
        "1. Most of the diamonds have an ideal, premium, very Good level cut. \n",
        "2. Color may appear to be relatively more “predictive” of the response variable because each color contains all types of diamonds cutting level. It is beneficial for us to predict which of the five cut values is most likely to apply to a given observation."
      ]
    },
    {
      "cell_type": "code",
      "metadata": {
        "id": "YbmWyZGVCuPM",
        "colab_type": "code",
        "colab": {
          "base_uri": "https://localhost:8080/",
          "height": 663
        },
        "outputId": "926b8bc5-9652-47de-802d-7e374fee7a5a"
      },
      "source": [
        "plt.rcParams['figure.figsize'] = (10, 5)\n",
        "\n",
        "# compare the clarity with cut\n",
        "plt.subplot(121)\n",
        "sns.countplot(x='cut',hue= 'clarity', data=df, palette = 'husl')\n",
        "plt.title('Color vs.Clarity')\n",
        "\n",
        "# check the cur percentage of clarity\n",
        "ax= plt.subplot(122)\n",
        "c2_c = pd.crosstab(df.clarity, df.cut)\n",
        "c2_c.div(c2_c .sum(1).astype(float), axis=0).plot(kind='bar', stacked=True, ax=ax)\n",
        "plt.title('Cut Percentage by clarity')\n",
        "plt.xlabel('clarity')\n",
        "plt.xticks(rotation=0)\n",
        "plt.ylabel('Percentage of cut')\n",
        "\n",
        "c2_c"
      ],
      "execution_count": null,
      "outputs": [
        {
          "output_type": "execute_result",
          "data": {
            "text/html": [
              "<div>\n",
              "<style scoped>\n",
              "    .dataframe tbody tr th:only-of-type {\n",
              "        vertical-align: middle;\n",
              "    }\n",
              "\n",
              "    .dataframe tbody tr th {\n",
              "        vertical-align: top;\n",
              "    }\n",
              "\n",
              "    .dataframe thead th {\n",
              "        text-align: right;\n",
              "    }\n",
              "</style>\n",
              "<table border=\"1\" class=\"dataframe\">\n",
              "  <thead>\n",
              "    <tr style=\"text-align: right;\">\n",
              "      <th>cut</th>\n",
              "      <th>Fair</th>\n",
              "      <th>Good</th>\n",
              "      <th>Ideal</th>\n",
              "      <th>Premium</th>\n",
              "      <th>Very Good</th>\n",
              "    </tr>\n",
              "    <tr>\n",
              "      <th>clarity</th>\n",
              "      <th></th>\n",
              "      <th></th>\n",
              "      <th></th>\n",
              "      <th></th>\n",
              "      <th></th>\n",
              "    </tr>\n",
              "  </thead>\n",
              "  <tbody>\n",
              "    <tr>\n",
              "      <th>I1</th>\n",
              "      <td>210</td>\n",
              "      <td>96</td>\n",
              "      <td>146</td>\n",
              "      <td>205</td>\n",
              "      <td>84</td>\n",
              "    </tr>\n",
              "    <tr>\n",
              "      <th>IF</th>\n",
              "      <td>9</td>\n",
              "      <td>71</td>\n",
              "      <td>1212</td>\n",
              "      <td>230</td>\n",
              "      <td>268</td>\n",
              "    </tr>\n",
              "    <tr>\n",
              "      <th>SI1</th>\n",
              "      <td>408</td>\n",
              "      <td>1560</td>\n",
              "      <td>4282</td>\n",
              "      <td>3575</td>\n",
              "      <td>3240</td>\n",
              "    </tr>\n",
              "    <tr>\n",
              "      <th>SI2</th>\n",
              "      <td>466</td>\n",
              "      <td>1081</td>\n",
              "      <td>2598</td>\n",
              "      <td>2949</td>\n",
              "      <td>2100</td>\n",
              "    </tr>\n",
              "    <tr>\n",
              "      <th>VS1</th>\n",
              "      <td>170</td>\n",
              "      <td>648</td>\n",
              "      <td>3589</td>\n",
              "      <td>1989</td>\n",
              "      <td>1775</td>\n",
              "    </tr>\n",
              "    <tr>\n",
              "      <th>VS2</th>\n",
              "      <td>261</td>\n",
              "      <td>978</td>\n",
              "      <td>5071</td>\n",
              "      <td>3357</td>\n",
              "      <td>2591</td>\n",
              "    </tr>\n",
              "    <tr>\n",
              "      <th>VVS1</th>\n",
              "      <td>17</td>\n",
              "      <td>186</td>\n",
              "      <td>2047</td>\n",
              "      <td>616</td>\n",
              "      <td>789</td>\n",
              "    </tr>\n",
              "    <tr>\n",
              "      <th>VVS2</th>\n",
              "      <td>69</td>\n",
              "      <td>286</td>\n",
              "      <td>2606</td>\n",
              "      <td>870</td>\n",
              "      <td>1235</td>\n",
              "    </tr>\n",
              "  </tbody>\n",
              "</table>\n",
              "</div>"
            ],
            "text/plain": [
              "cut      Fair  Good  Ideal  Premium  Very Good\n",
              "clarity                                       \n",
              "I1        210    96    146      205         84\n",
              "IF          9    71   1212      230        268\n",
              "SI1       408  1560   4282     3575       3240\n",
              "SI2       466  1081   2598     2949       2100\n",
              "VS1       170   648   3589     1989       1775\n",
              "VS2       261   978   5071     3357       2591\n",
              "VVS1       17   186   2047      616        789\n",
              "VVS2       69   286   2606      870       1235"
            ]
          },
          "metadata": {
            "tags": []
          },
          "execution_count": 10
        },
        {
          "output_type": "display_data",
          "data": {
            "image/png": "[encoded data removed]",
            "text/plain": [
              "<Figure size 720x360 with 2 Axes>"
            ]
          },
          "metadata": {
            "tags": [],
            "needs_background": "light"
          }
        }
      ]
    },
    {
      "cell_type": "markdown",
      "metadata": {
        "id": "Db2T01mNCuPP",
        "colab_type": "text"
      },
      "source": [
        "1. Similar to the color, clarity may appear to be relatively more “predictive” of the response variable.\n",
        "2. SI1 and VS2 are the top 2 popular clarity types in each diamond's cutti"
      ]
    },
    {
      "cell_type": "code",
      "metadata": {
        "id": "7n1bmfpZ2wNk",
        "colab_type": "code",
        "colab": {
          "base_uri": "https://localhost:8080/",
          "height": 369
        },
        "outputId": "909b6a9e-c3f0-440b-c3c0-18a66e937172"
      },
      "source": [
        "# plot price vs cut\n",
        "sns.catplot(x='cut', y='price', data=df, kind='box' ,aspect=1.5 )\n",
        "\n",
        "plt.xlabel('cut')\n",
        "plt.ylabel('price')\n",
        "plt.show()"
      ],
      "execution_count": null,
      "outputs": [
        {
          "output_type": "display_data",
          "data": {
            "image/png": "[encoded data removed]",
            "text/plain": [
              "<Figure size 540x360 with 1 Axes>"
            ]
          },
          "metadata": {
            "tags": [],
            "needs_background": "light"
          }
        }
      ]
    },
    {
      "cell_type": "markdown",
      "metadata": {
        "id": "1ptMUtOGmBKJ",
        "colab_type": "text"
      },
      "source": [
        "Premium cut level diamonds has the largest price range and highest median price in all cut levels. And the Ideal cut level diamonds have the lowest median price. "
      ]
    },
    {
      "cell_type": "code",
      "metadata": {
        "id": "NnNVHr0G5Fqb",
        "colab_type": "code",
        "colab": {
          "base_uri": "https://localhost:8080/",
          "height": 369
        },
        "outputId": "9eeac2ae-6a52-4b25-8357-f2d64ba175cb"
      },
      "source": [
        "# plot Carat vs cut\n",
        "sns.catplot(x='cut', y='carat', data=df, kind='box' ,aspect=1.5 )\n",
        "\n",
        "plt.xlabel('cut')\n",
        "plt.ylabel('Carat')\n",
        "plt.show()"
      ],
      "execution_count": null,
      "outputs": [
        {
          "output_type": "display_data",
          "data": {
            "image/png": "[encoded data removed]",
            "text/plain": [
              "<Figure size 540x360 with 1 Axes>"
            ]
          },
          "metadata": {
            "tags": [],
            "needs_background": "light"
          }
        }
      ]
    },
    {
      "cell_type": "markdown",
      "metadata": {
        "id": "oD6z-raKmYRC",
        "colab_type": "text"
      },
      "source": [
        "Similar to the price, Premium cut level diamonds have the largest range and highest median carat in all cut levels. And the Ideal cut level diamonds have the lowest median carat. "
      ]
    },
    {
      "cell_type": "code",
      "metadata": {
        "id": "sITw80Yys0Eu",
        "colab_type": "code",
        "colab": {
          "base_uri": "https://localhost:8080/",
          "height": 369
        },
        "outputId": "2a3acc2a-b259-4484-8e8b-ca3c1107b23e"
      },
      "source": [
        "# plot depth vs cut\n",
        "sns.catplot(x='cut', y='depth', data=df, kind='box' ,aspect=1.5 )\n",
        "\n",
        "plt.xlabel('cut')\n",
        "plt.ylabel('depth')\n",
        "plt.show()"
      ],
      "execution_count": null,
      "outputs": [
        {
          "output_type": "display_data",
          "data": {
            "image/png": "[encoded data removed]",
            "text/plain": [
              "<Figure size 540x360 with 1 Axes>"
            ]
          },
          "metadata": {
            "tags": [],
            "needs_background": "light"
          }
        }
      ]
    },
    {
      "cell_type": "markdown",
      "metadata": {
        "id": "UdKxFff_mbJ8",
        "colab_type": "text"
      },
      "source": [
        "\n",
        "Good cut level diamonds have the largest range. Fair cut level diamonds have the highest median diamonds' depth at all cut levels.  And the Premium cut level diamonds have the lowest median price. "
      ]
    },
    {
      "cell_type": "code",
      "metadata": {
        "id": "MTEHrfKItIZd",
        "colab_type": "code",
        "colab": {
          "base_uri": "https://localhost:8080/",
          "height": 369
        },
        "outputId": "562b475b-6fb5-45ed-fa4c-fbdeb69f0a27"
      },
      "source": [
        "# plot table vs cut\n",
        "sns.catplot(x='cut', y='table', data=df, kind='box' ,aspect=1.5 )\n",
        "\n",
        "plt.xlabel('cut')\n",
        "plt.ylabel('table')\n",
        "plt.show()"
      ],
      "execution_count": null,
      "outputs": [
        {
          "output_type": "display_data",
          "data": {
            "image/png": "[encoded data removed]",
            "text/plain": [
              "<Figure size 540x360 with 1 Axes>"
            ]
          },
          "metadata": {
            "tags": [],
            "needs_background": "light"
          }
        }
      ]
    },
    {
      "cell_type": "markdown",
      "metadata": {
        "id": "4TC1no_DnR-4",
        "colab_type": "text"
      },
      "source": [
        "Good cut level diamonds have the largest range. Premium cut level diamonds have the highest median diamonds' width of the top of diamond relative to widest point at all cut levels.  And the Ideal cut level diamonds have the lowest median width of the top of the diamond relative to the widest point. "
      ]
    },
    {
      "cell_type": "markdown",
      "metadata": {
        "id": "mJZE8gsrCuPP",
        "colab_type": "text"
      },
      "source": [
        "### 5. Correlation between independent variable and numerical dependent variable."
      ]
    },
    {
      "cell_type": "code",
      "metadata": {
        "id": "b6oCXNxQCuPQ",
        "colab_type": "code",
        "colab": {
          "base_uri": "https://localhost:8080/",
          "height": 204
        },
        "outputId": "f1a05c4f-7fb5-4fd5-adae-239c44e0e34c"
      },
      "source": [
        "df1 = df.copy()\n",
        "# use number to replace category in 'cut' column\n",
        "df2 = df1.replace({'cut': {'Fair':0,'Good':1, 'Ideal': 2, 'Premium':3, 'Very Good': 4}})\n",
        "df2.head()"
      ],
      "execution_count": null,
      "outputs": [
        {
          "output_type": "execute_result",
          "data": {
            "text/html": [
              "<div>\n",
              "<style scoped>\n",
              "    .dataframe tbody tr th:only-of-type {\n",
              "        vertical-align: middle;\n",
              "    }\n",
              "\n",
              "    .dataframe tbody tr th {\n",
              "        vertical-align: top;\n",
              "    }\n",
              "\n",
              "    .dataframe thead th {\n",
              "        text-align: right;\n",
              "    }\n",
              "</style>\n",
              "<table border=\"1\" class=\"dataframe\">\n",
              "  <thead>\n",
              "    <tr style=\"text-align: right;\">\n",
              "      <th></th>\n",
              "      <th>carat</th>\n",
              "      <th>cut</th>\n",
              "      <th>color</th>\n",
              "      <th>clarity</th>\n",
              "      <th>depth</th>\n",
              "      <th>table</th>\n",
              "      <th>price</th>\n",
              "      <th>x</th>\n",
              "      <th>y</th>\n",
              "      <th>z</th>\n",
              "    </tr>\n",
              "  </thead>\n",
              "  <tbody>\n",
              "    <tr>\n",
              "      <th>0</th>\n",
              "      <td>0.23</td>\n",
              "      <td>2</td>\n",
              "      <td>E</td>\n",
              "      <td>SI2</td>\n",
              "      <td>61.5</td>\n",
              "      <td>55.0</td>\n",
              "      <td>326</td>\n",
              "      <td>3.95</td>\n",
              "      <td>3.98</td>\n",
              "      <td>2.43</td>\n",
              "    </tr>\n",
              "    <tr>\n",
              "      <th>1</th>\n",
              "      <td>0.21</td>\n",
              "      <td>3</td>\n",
              "      <td>E</td>\n",
              "      <td>SI1</td>\n",
              "      <td>59.8</td>\n",
              "      <td>61.0</td>\n",
              "      <td>326</td>\n",
              "      <td>3.89</td>\n",
              "      <td>3.84</td>\n",
              "      <td>2.31</td>\n",
              "    </tr>\n",
              "    <tr>\n",
              "      <th>2</th>\n",
              "      <td>0.23</td>\n",
              "      <td>1</td>\n",
              "      <td>E</td>\n",
              "      <td>VS1</td>\n",
              "      <td>56.9</td>\n",
              "      <td>65.0</td>\n",
              "      <td>327</td>\n",
              "      <td>4.05</td>\n",
              "      <td>4.07</td>\n",
              "      <td>2.31</td>\n",
              "    </tr>\n",
              "    <tr>\n",
              "      <th>3</th>\n",
              "      <td>0.29</td>\n",
              "      <td>3</td>\n",
              "      <td>I</td>\n",
              "      <td>VS2</td>\n",
              "      <td>62.4</td>\n",
              "      <td>58.0</td>\n",
              "      <td>334</td>\n",
              "      <td>4.20</td>\n",
              "      <td>4.23</td>\n",
              "      <td>2.63</td>\n",
              "    </tr>\n",
              "    <tr>\n",
              "      <th>4</th>\n",
              "      <td>0.31</td>\n",
              "      <td>1</td>\n",
              "      <td>J</td>\n",
              "      <td>SI2</td>\n",
              "      <td>63.3</td>\n",
              "      <td>58.0</td>\n",
              "      <td>335</td>\n",
              "      <td>4.34</td>\n",
              "      <td>4.35</td>\n",
              "      <td>2.75</td>\n",
              "    </tr>\n",
              "  </tbody>\n",
              "</table>\n",
              "</div>"
            ],
            "text/plain": [
              "   carat  cut color clarity  depth  table  price     x     y     z\n",
              "0   0.23    2     E     SI2   61.5   55.0    326  3.95  3.98  2.43\n",
              "1   0.21    3     E     SI1   59.8   61.0    326  3.89  3.84  2.31\n",
              "2   0.23    1     E     VS1   56.9   65.0    327  4.05  4.07  2.31\n",
              "3   0.29    3     I     VS2   62.4   58.0    334  4.20  4.23  2.63\n",
              "4   0.31    1     J     SI2   63.3   58.0    335  4.34  4.35  2.75"
            ]
          },
          "metadata": {
            "tags": []
          },
          "execution_count": 9
        }
      ]
    },
    {
      "cell_type": "code",
      "metadata": {
        "scrolled": true,
        "id": "JuG8ECN7CuPS",
        "colab_type": "code",
        "colab": {
          "base_uri": "https://localhost:8080/",
          "height": 519
        },
        "outputId": "663ececd-13ae-437d-f7f8-3b65bc0102f1"
      },
      "source": [
        "# Finding the correlation bewteen the Features.\n",
        "plt.figure(figsize=(10,8))\n",
        "\n",
        "corr = df2.corr()# plot the heatmap\n",
        "sns.heatmap(corr, xticklabels=corr.columns, yticklabels=corr.columns, \n",
        "            annot=True, cmap=sns.diverging_palette(220, 20, as_cmap=True))\n",
        "plt.title('Figure: Correlation')"
      ],
      "execution_count": null,
      "outputs": [
        {
          "output_type": "execute_result",
          "data": {
            "text/plain": [
              "Text(0.5, 1.0, 'Figure: Correlation')"
            ]
          },
          "metadata": {
            "tags": []
          },
          "execution_count": 17
        },
        {
          "output_type": "display_data",
          "data": {
            "image/png": "[encoded data removed]",
            "text/plain": [
              "<Figure size 720x576 with 2 Axes>"
            ]
          },
          "metadata": {
            "tags": [],
            "needs_background": "light"
          }
        }
      ]
    },
    {
      "cell_type": "markdown",
      "metadata": {
        "id": "23keO2ukCuPT",
        "colab_type": "text"
      },
      "source": [
        "According to the correlation, we can know depth and table appear to be relatively more “predictive” to the response variable because their absolute correlations are higher than others'. \n",
        "\n",
        "The feature x, y, and z have a strong positive relationship between one and other. Their correlations are equal to or more than 0.95. Therefore, x, y, and z are multicollinearity.\n",
        "\n",
        "Although there are some very high correlation coefficients, decision trees and boosted trees algorithms are immune to multicollinearity by nature. \n"
      ]
    },
    {
      "cell_type": "markdown",
      "metadata": {
        "id": "6zbSQK_wCuPU",
        "colab_type": "text"
      },
      "source": [
        "***\n",
        "## Step 3: Data Cleaning\n"
      ]
    },
    {
      "cell_type": "markdown",
      "metadata": {
        "id": "6FRGig77CuPU",
        "colab_type": "text"
      },
      "source": [
        "### 1. Handle the zero value\n",
        "\n",
        "There are some rows with zero values in the columns of x (length), y(width), or z(depth), N=20. We'll delete the rows with zero x,y or z since the dimond's length, width and depth should not be 0.\n"
      ]
    },
    {
      "cell_type": "code",
      "metadata": {
        "id": "xBy-HzFfCuPV",
        "colab_type": "code",
        "colab": {
          "base_uri": "https://localhost:8080/",
          "height": 669
        },
        "outputId": "95fff634-e558-4324-f52c-3d812037924d"
      },
      "source": [
        "# extract the rows that contain 0 value \n",
        "null_data = df2.loc[(df2['x']==0) | (df2['y']==0) | (df2['z']==0)]\n",
        "null_data"
      ],
      "execution_count": null,
      "outputs": [
        {
          "output_type": "execute_result",
          "data": {
            "text/html": [
              "<div>\n",
              "<style scoped>\n",
              "    .dataframe tbody tr th:only-of-type {\n",
              "        vertical-align: middle;\n",
              "    }\n",
              "\n",
              "    .dataframe tbody tr th {\n",
              "        vertical-align: top;\n",
              "    }\n",
              "\n",
              "    .dataframe thead th {\n",
              "        text-align: right;\n",
              "    }\n",
              "</style>\n",
              "<table border=\"1\" class=\"dataframe\">\n",
              "  <thead>\n",
              "    <tr style=\"text-align: right;\">\n",
              "      <th></th>\n",
              "      <th>carat</th>\n",
              "      <th>cut</th>\n",
              "      <th>color</th>\n",
              "      <th>clarity</th>\n",
              "      <th>depth</th>\n",
              "      <th>table</th>\n",
              "      <th>price</th>\n",
              "      <th>x</th>\n",
              "      <th>y</th>\n",
              "      <th>z</th>\n",
              "    </tr>\n",
              "  </thead>\n",
              "  <tbody>\n",
              "    <tr>\n",
              "      <th>2207</th>\n",
              "      <td>1.00</td>\n",
              "      <td>3</td>\n",
              "      <td>G</td>\n",
              "      <td>SI2</td>\n",
              "      <td>59.1</td>\n",
              "      <td>59.0</td>\n",
              "      <td>3142</td>\n",
              "      <td>6.55</td>\n",
              "      <td>6.48</td>\n",
              "      <td>0.0</td>\n",
              "    </tr>\n",
              "    <tr>\n",
              "      <th>2314</th>\n",
              "      <td>1.01</td>\n",
              "      <td>3</td>\n",
              "      <td>H</td>\n",
              "      <td>I1</td>\n",
              "      <td>58.1</td>\n",
              "      <td>59.0</td>\n",
              "      <td>3167</td>\n",
              "      <td>6.66</td>\n",
              "      <td>6.60</td>\n",
              "      <td>0.0</td>\n",
              "    </tr>\n",
              "    <tr>\n",
              "      <th>4791</th>\n",
              "      <td>1.10</td>\n",
              "      <td>3</td>\n",
              "      <td>G</td>\n",
              "      <td>SI2</td>\n",
              "      <td>63.0</td>\n",
              "      <td>59.0</td>\n",
              "      <td>3696</td>\n",
              "      <td>6.50</td>\n",
              "      <td>6.47</td>\n",
              "      <td>0.0</td>\n",
              "    </tr>\n",
              "    <tr>\n",
              "      <th>5471</th>\n",
              "      <td>1.01</td>\n",
              "      <td>3</td>\n",
              "      <td>F</td>\n",
              "      <td>SI2</td>\n",
              "      <td>59.2</td>\n",
              "      <td>58.0</td>\n",
              "      <td>3837</td>\n",
              "      <td>6.50</td>\n",
              "      <td>6.47</td>\n",
              "      <td>0.0</td>\n",
              "    </tr>\n",
              "    <tr>\n",
              "      <th>10167</th>\n",
              "      <td>1.50</td>\n",
              "      <td>1</td>\n",
              "      <td>G</td>\n",
              "      <td>I1</td>\n",
              "      <td>64.0</td>\n",
              "      <td>61.0</td>\n",
              "      <td>4731</td>\n",
              "      <td>7.15</td>\n",
              "      <td>7.04</td>\n",
              "      <td>0.0</td>\n",
              "    </tr>\n",
              "    <tr>\n",
              "      <th>11182</th>\n",
              "      <td>1.07</td>\n",
              "      <td>2</td>\n",
              "      <td>F</td>\n",
              "      <td>SI2</td>\n",
              "      <td>61.6</td>\n",
              "      <td>56.0</td>\n",
              "      <td>4954</td>\n",
              "      <td>0.00</td>\n",
              "      <td>6.62</td>\n",
              "      <td>0.0</td>\n",
              "    </tr>\n",
              "    <tr>\n",
              "      <th>11963</th>\n",
              "      <td>1.00</td>\n",
              "      <td>4</td>\n",
              "      <td>H</td>\n",
              "      <td>VS2</td>\n",
              "      <td>63.3</td>\n",
              "      <td>53.0</td>\n",
              "      <td>5139</td>\n",
              "      <td>0.00</td>\n",
              "      <td>0.00</td>\n",
              "      <td>0.0</td>\n",
              "    </tr>\n",
              "    <tr>\n",
              "      <th>13601</th>\n",
              "      <td>1.15</td>\n",
              "      <td>2</td>\n",
              "      <td>G</td>\n",
              "      <td>VS2</td>\n",
              "      <td>59.2</td>\n",
              "      <td>56.0</td>\n",
              "      <td>5564</td>\n",
              "      <td>6.88</td>\n",
              "      <td>6.83</td>\n",
              "      <td>0.0</td>\n",
              "    </tr>\n",
              "    <tr>\n",
              "      <th>15951</th>\n",
              "      <td>1.14</td>\n",
              "      <td>0</td>\n",
              "      <td>G</td>\n",
              "      <td>VS1</td>\n",
              "      <td>57.5</td>\n",
              "      <td>67.0</td>\n",
              "      <td>6381</td>\n",
              "      <td>0.00</td>\n",
              "      <td>0.00</td>\n",
              "      <td>0.0</td>\n",
              "    </tr>\n",
              "    <tr>\n",
              "      <th>24394</th>\n",
              "      <td>2.18</td>\n",
              "      <td>3</td>\n",
              "      <td>H</td>\n",
              "      <td>SI2</td>\n",
              "      <td>59.4</td>\n",
              "      <td>61.0</td>\n",
              "      <td>12631</td>\n",
              "      <td>8.49</td>\n",
              "      <td>8.45</td>\n",
              "      <td>0.0</td>\n",
              "    </tr>\n",
              "    <tr>\n",
              "      <th>24520</th>\n",
              "      <td>1.56</td>\n",
              "      <td>2</td>\n",
              "      <td>G</td>\n",
              "      <td>VS2</td>\n",
              "      <td>62.2</td>\n",
              "      <td>54.0</td>\n",
              "      <td>12800</td>\n",
              "      <td>0.00</td>\n",
              "      <td>0.00</td>\n",
              "      <td>0.0</td>\n",
              "    </tr>\n",
              "    <tr>\n",
              "      <th>26123</th>\n",
              "      <td>2.25</td>\n",
              "      <td>3</td>\n",
              "      <td>I</td>\n",
              "      <td>SI1</td>\n",
              "      <td>61.3</td>\n",
              "      <td>58.0</td>\n",
              "      <td>15397</td>\n",
              "      <td>8.52</td>\n",
              "      <td>8.42</td>\n",
              "      <td>0.0</td>\n",
              "    </tr>\n",
              "    <tr>\n",
              "      <th>26243</th>\n",
              "      <td>1.20</td>\n",
              "      <td>3</td>\n",
              "      <td>D</td>\n",
              "      <td>VVS1</td>\n",
              "      <td>62.1</td>\n",
              "      <td>59.0</td>\n",
              "      <td>15686</td>\n",
              "      <td>0.00</td>\n",
              "      <td>0.00</td>\n",
              "      <td>0.0</td>\n",
              "    </tr>\n",
              "    <tr>\n",
              "      <th>27112</th>\n",
              "      <td>2.20</td>\n",
              "      <td>3</td>\n",
              "      <td>H</td>\n",
              "      <td>SI1</td>\n",
              "      <td>61.2</td>\n",
              "      <td>59.0</td>\n",
              "      <td>17265</td>\n",
              "      <td>8.42</td>\n",
              "      <td>8.37</td>\n",
              "      <td>0.0</td>\n",
              "    </tr>\n",
              "    <tr>\n",
              "      <th>27429</th>\n",
              "      <td>2.25</td>\n",
              "      <td>3</td>\n",
              "      <td>H</td>\n",
              "      <td>SI2</td>\n",
              "      <td>62.8</td>\n",
              "      <td>59.0</td>\n",
              "      <td>18034</td>\n",
              "      <td>0.00</td>\n",
              "      <td>0.00</td>\n",
              "      <td>0.0</td>\n",
              "    </tr>\n",
              "    <tr>\n",
              "      <th>27503</th>\n",
              "      <td>2.02</td>\n",
              "      <td>3</td>\n",
              "      <td>H</td>\n",
              "      <td>VS2</td>\n",
              "      <td>62.7</td>\n",
              "      <td>53.0</td>\n",
              "      <td>18207</td>\n",
              "      <td>8.02</td>\n",
              "      <td>7.95</td>\n",
              "      <td>0.0</td>\n",
              "    </tr>\n",
              "    <tr>\n",
              "      <th>27739</th>\n",
              "      <td>2.80</td>\n",
              "      <td>1</td>\n",
              "      <td>G</td>\n",
              "      <td>SI2</td>\n",
              "      <td>63.8</td>\n",
              "      <td>58.0</td>\n",
              "      <td>18788</td>\n",
              "      <td>8.90</td>\n",
              "      <td>8.85</td>\n",
              "      <td>0.0</td>\n",
              "    </tr>\n",
              "    <tr>\n",
              "      <th>49556</th>\n",
              "      <td>0.71</td>\n",
              "      <td>1</td>\n",
              "      <td>F</td>\n",
              "      <td>SI2</td>\n",
              "      <td>64.1</td>\n",
              "      <td>60.0</td>\n",
              "      <td>2130</td>\n",
              "      <td>0.00</td>\n",
              "      <td>0.00</td>\n",
              "      <td>0.0</td>\n",
              "    </tr>\n",
              "    <tr>\n",
              "      <th>49557</th>\n",
              "      <td>0.71</td>\n",
              "      <td>1</td>\n",
              "      <td>F</td>\n",
              "      <td>SI2</td>\n",
              "      <td>64.1</td>\n",
              "      <td>60.0</td>\n",
              "      <td>2130</td>\n",
              "      <td>0.00</td>\n",
              "      <td>0.00</td>\n",
              "      <td>0.0</td>\n",
              "    </tr>\n",
              "    <tr>\n",
              "      <th>51506</th>\n",
              "      <td>1.12</td>\n",
              "      <td>3</td>\n",
              "      <td>G</td>\n",
              "      <td>I1</td>\n",
              "      <td>60.4</td>\n",
              "      <td>59.0</td>\n",
              "      <td>2383</td>\n",
              "      <td>6.71</td>\n",
              "      <td>6.67</td>\n",
              "      <td>0.0</td>\n",
              "    </tr>\n",
              "  </tbody>\n",
              "</table>\n",
              "</div>"
            ],
            "text/plain": [
              "       carat  cut color clarity  depth  table  price     x     y    z\n",
              "2207    1.00    3     G     SI2   59.1   59.0   3142  6.55  6.48  0.0\n",
              "2314    1.01    3     H      I1   58.1   59.0   3167  6.66  6.60  0.0\n",
              "4791    1.10    3     G     SI2   63.0   59.0   3696  6.50  6.47  0.0\n",
              "5471    1.01    3     F     SI2   59.2   58.0   3837  6.50  6.47  0.0\n",
              "10167   1.50    1     G      I1   64.0   61.0   4731  7.15  7.04  0.0\n",
              "11182   1.07    2     F     SI2   61.6   56.0   4954  0.00  6.62  0.0\n",
              "11963   1.00    4     H     VS2   63.3   53.0   5139  0.00  0.00  0.0\n",
              "13601   1.15    2     G     VS2   59.2   56.0   5564  6.88  6.83  0.0\n",
              "15951   1.14    0     G     VS1   57.5   67.0   6381  0.00  0.00  0.0\n",
              "24394   2.18    3     H     SI2   59.4   61.0  12631  8.49  8.45  0.0\n",
              "24520   1.56    2     G     VS2   62.2   54.0  12800  0.00  0.00  0.0\n",
              "26123   2.25    3     I     SI1   61.3   58.0  15397  8.52  8.42  0.0\n",
              "26243   1.20    3     D    VVS1   62.1   59.0  15686  0.00  0.00  0.0\n",
              "27112   2.20    3     H     SI1   61.2   59.0  17265  8.42  8.37  0.0\n",
              "27429   2.25    3     H     SI2   62.8   59.0  18034  0.00  0.00  0.0\n",
              "27503   2.02    3     H     VS2   62.7   53.0  18207  8.02  7.95  0.0\n",
              "27739   2.80    1     G     SI2   63.8   58.0  18788  8.90  8.85  0.0\n",
              "49556   0.71    1     F     SI2   64.1   60.0   2130  0.00  0.00  0.0\n",
              "49557   0.71    1     F     SI2   64.1   60.0   2130  0.00  0.00  0.0\n",
              "51506   1.12    3     G      I1   60.4   59.0   2383  6.71  6.67  0.0"
            ]
          },
          "metadata": {
            "tags": []
          },
          "execution_count": 10
        }
      ]
    },
    {
      "cell_type": "code",
      "metadata": {
        "id": "oNm4Ffa8g92h",
        "colab_type": "code",
        "colab": {
          "base_uri": "https://localhost:8080/",
          "height": 34
        },
        "outputId": "42a3253c-37ad-457c-87d9-b9039990e3ac"
      },
      "source": [
        "# get the length of null data\n",
        "len(null_data)"
      ],
      "execution_count": null,
      "outputs": [
        {
          "output_type": "execute_result",
          "data": {
            "text/plain": [
              "20"
            ]
          },
          "metadata": {
            "tags": []
          },
          "execution_count": 11
        }
      ]
    },
    {
      "cell_type": "code",
      "metadata": {
        "id": "1KV_tSg3o0xr",
        "colab_type": "code",
        "colab": {}
      },
      "source": [
        "# Dropping Rows with 'Zero'.\n",
        "df3 = df2[(df2[['x','y','z']] != 0).all(axis=1)]"
      ],
      "execution_count": null,
      "outputs": []
    },
    {
      "cell_type": "code",
      "metadata": {
        "id": "YK22L1E6uCJW",
        "colab_type": "code",
        "colab": {
          "base_uri": "https://localhost:8080/",
          "height": 49
        },
        "outputId": "558fdceb-33de-435c-f613-6afaa1c1c3bf"
      },
      "source": [
        "# Just to Confirm the zero \n",
        "df3.loc[(df3['x']==0) | (df3['y']==0) | (df3['z']==0)]"
      ],
      "execution_count": null,
      "outputs": [
        {
          "output_type": "execute_result",
          "data": {
            "text/html": [
              "<div>\n",
              "<style scoped>\n",
              "    .dataframe tbody tr th:only-of-type {\n",
              "        vertical-align: middle;\n",
              "    }\n",
              "\n",
              "    .dataframe tbody tr th {\n",
              "        vertical-align: top;\n",
              "    }\n",
              "\n",
              "    .dataframe thead th {\n",
              "        text-align: right;\n",
              "    }\n",
              "</style>\n",
              "<table border=\"1\" class=\"dataframe\">\n",
              "  <thead>\n",
              "    <tr style=\"text-align: right;\">\n",
              "      <th></th>\n",
              "      <th>carat</th>\n",
              "      <th>cut</th>\n",
              "      <th>color</th>\n",
              "      <th>clarity</th>\n",
              "      <th>depth</th>\n",
              "      <th>table</th>\n",
              "      <th>price</th>\n",
              "      <th>x</th>\n",
              "      <th>y</th>\n",
              "      <th>z</th>\n",
              "    </tr>\n",
              "  </thead>\n",
              "  <tbody>\n",
              "  </tbody>\n",
              "</table>\n",
              "</div>"
            ],
            "text/plain": [
              "Empty DataFrame\n",
              "Columns: [carat, cut, color, clarity, depth, table, price, x, y, z]\n",
              "Index: []"
            ]
          },
          "metadata": {
            "tags": []
          },
          "execution_count": 12
        }
      ]
    },
    {
      "cell_type": "markdown",
      "metadata": {
        "id": "nErIRzoLqEi9",
        "colab_type": "text"
      },
      "source": [
        "### 2. Create a New Feature 'Volume'\n",
        "\n",
        "We discover feature x, y, and z is multicollinearity above, they can seem like as one feature. Consider a formula, diamond's depth * width * length = the diamond's volume, we decide to drop x, y, and z columns and create the Volume column. "
      ]
    },
    {
      "cell_type": "code",
      "metadata": {
        "id": "53maVqw9qCPM",
        "colab_type": "code",
        "colab": {
          "base_uri": "https://localhost:8080/",
          "height": 204
        },
        "outputId": "ae89584b-d478-4f3f-b391-3a5f8f738c7a"
      },
      "source": [
        "df3['volume'] = df3['x']*df3['y']*df3['z']\n",
        "df3.head()"
      ],
      "execution_count": null,
      "outputs": [
        {
          "output_type": "execute_result",
          "data": {
            "text/html": [
              "<div>\n",
              "<style scoped>\n",
              "    .dataframe tbody tr th:only-of-type {\n",
              "        vertical-align: middle;\n",
              "    }\n",
              "\n",
              "    .dataframe tbody tr th {\n",
              "        vertical-align: top;\n",
              "    }\n",
              "\n",
              "    .dataframe thead th {\n",
              "        text-align: right;\n",
              "    }\n",
              "</style>\n",
              "<table border=\"1\" class=\"dataframe\">\n",
              "  <thead>\n",
              "    <tr style=\"text-align: right;\">\n",
              "      <th></th>\n",
              "      <th>carat</th>\n",
              "      <th>cut</th>\n",
              "      <th>color</th>\n",
              "      <th>clarity</th>\n",
              "      <th>depth</th>\n",
              "      <th>table</th>\n",
              "      <th>price</th>\n",
              "      <th>x</th>\n",
              "      <th>y</th>\n",
              "      <th>z</th>\n",
              "      <th>volume</th>\n",
              "    </tr>\n",
              "  </thead>\n",
              "  <tbody>\n",
              "    <tr>\n",
              "      <th>0</th>\n",
              "      <td>0.23</td>\n",
              "      <td>2</td>\n",
              "      <td>E</td>\n",
              "      <td>SI2</td>\n",
              "      <td>61.5</td>\n",
              "      <td>55.0</td>\n",
              "      <td>326</td>\n",
              "      <td>3.95</td>\n",
              "      <td>3.98</td>\n",
              "      <td>2.43</td>\n",
              "      <td>38.202030</td>\n",
              "    </tr>\n",
              "    <tr>\n",
              "      <th>1</th>\n",
              "      <td>0.21</td>\n",
              "      <td>3</td>\n",
              "      <td>E</td>\n",
              "      <td>SI1</td>\n",
              "      <td>59.8</td>\n",
              "      <td>61.0</td>\n",
              "      <td>326</td>\n",
              "      <td>3.89</td>\n",
              "      <td>3.84</td>\n",
              "      <td>2.31</td>\n",
              "      <td>34.505856</td>\n",
              "    </tr>\n",
              "    <tr>\n",
              "      <th>2</th>\n",
              "      <td>0.23</td>\n",
              "      <td>1</td>\n",
              "      <td>E</td>\n",
              "      <td>VS1</td>\n",
              "      <td>56.9</td>\n",
              "      <td>65.0</td>\n",
              "      <td>327</td>\n",
              "      <td>4.05</td>\n",
              "      <td>4.07</td>\n",
              "      <td>2.31</td>\n",
              "      <td>38.076885</td>\n",
              "    </tr>\n",
              "    <tr>\n",
              "      <th>3</th>\n",
              "      <td>0.29</td>\n",
              "      <td>3</td>\n",
              "      <td>I</td>\n",
              "      <td>VS2</td>\n",
              "      <td>62.4</td>\n",
              "      <td>58.0</td>\n",
              "      <td>334</td>\n",
              "      <td>4.20</td>\n",
              "      <td>4.23</td>\n",
              "      <td>2.63</td>\n",
              "      <td>46.724580</td>\n",
              "    </tr>\n",
              "    <tr>\n",
              "      <th>4</th>\n",
              "      <td>0.31</td>\n",
              "      <td>1</td>\n",
              "      <td>J</td>\n",
              "      <td>SI2</td>\n",
              "      <td>63.3</td>\n",
              "      <td>58.0</td>\n",
              "      <td>335</td>\n",
              "      <td>4.34</td>\n",
              "      <td>4.35</td>\n",
              "      <td>2.75</td>\n",
              "      <td>51.917250</td>\n",
              "    </tr>\n",
              "  </tbody>\n",
              "</table>\n",
              "</div>"
            ],
            "text/plain": [
              "   carat  cut color clarity  depth  table  price     x     y     z     volume\n",
              "0   0.23    2     E     SI2   61.5   55.0    326  3.95  3.98  2.43  38.202030\n",
              "1   0.21    3     E     SI1   59.8   61.0    326  3.89  3.84  2.31  34.505856\n",
              "2   0.23    1     E     VS1   56.9   65.0    327  4.05  4.07  2.31  38.076885\n",
              "3   0.29    3     I     VS2   62.4   58.0    334  4.20  4.23  2.63  46.724580\n",
              "4   0.31    1     J     SI2   63.3   58.0    335  4.34  4.35  2.75  51.917250"
            ]
          },
          "metadata": {
            "tags": []
          },
          "execution_count": 13
        }
      ]
    },
    {
      "cell_type": "markdown",
      "metadata": {
        "id": "2Ghgybdrvt0S",
        "colab_type": "text"
      },
      "source": [
        "###3. Drop the fatures of x, y, z"
      ]
    },
    {
      "cell_type": "code",
      "metadata": {
        "id": "ghrRHRIJqDix",
        "colab_type": "code",
        "colab": {}
      },
      "source": [
        "# drop the features\n",
        "df3.drop(['x','y','z'], axis=1, inplace= True)"
      ],
      "execution_count": null,
      "outputs": []
    },
    {
      "cell_type": "code",
      "metadata": {
        "id": "-WJ9NyAEy076",
        "colab_type": "code",
        "colab": {
          "base_uri": "https://localhost:8080/",
          "height": 68
        },
        "outputId": "b376e3a9-7979-4e5f-8831-acaa2bcede54"
      },
      "source": [
        "df3.columns"
      ],
      "execution_count": null,
      "outputs": [
        {
          "output_type": "execute_result",
          "data": {
            "text/plain": [
              "Index(['carat', 'cut', 'color', 'clarity', 'depth', 'table', 'price',\n",
              "       'volume'],\n",
              "      dtype='object')"
            ]
          },
          "metadata": {
            "tags": []
          },
          "execution_count": 15
        }
      ]
    },
    {
      "cell_type": "markdown",
      "metadata": {
        "id": "FmopydTdCuPZ",
        "colab_type": "text"
      },
      "source": [
        "### 4. Convert categorical variable into dummy variables"
      ]
    },
    {
      "cell_type": "code",
      "metadata": {
        "id": "3V3iOWuyCuPZ",
        "colab_type": "code",
        "colab": {}
      },
      "source": [
        "categorical_independent = ['color', 'clarity']"
      ],
      "execution_count": null,
      "outputs": []
    },
    {
      "cell_type": "code",
      "metadata": {
        "id": "57bDXAZeCuPc",
        "colab_type": "code",
        "colab": {
          "base_uri": "https://localhost:8080/",
          "height": 224
        },
        "outputId": "17f98d50-061b-4b18-efd4-9aa776d8d93c"
      },
      "source": [
        "df_dummy = pd.get_dummies(df3,columns=categorical_independent)\n",
        "df_dummy.head()"
      ],
      "execution_count": null,
      "outputs": [
        {
          "output_type": "execute_result",
          "data": {
            "text/html": [
              "<div>\n",
              "<style scoped>\n",
              "    .dataframe tbody tr th:only-of-type {\n",
              "        vertical-align: middle;\n",
              "    }\n",
              "\n",
              "    .dataframe tbody tr th {\n",
              "        vertical-align: top;\n",
              "    }\n",
              "\n",
              "    .dataframe thead th {\n",
              "        text-align: right;\n",
              "    }\n",
              "</style>\n",
              "<table border=\"1\" class=\"dataframe\">\n",
              "  <thead>\n",
              "    <tr style=\"text-align: right;\">\n",
              "      <th></th>\n",
              "      <th>carat</th>\n",
              "      <th>cut</th>\n",
              "      <th>depth</th>\n",
              "      <th>table</th>\n",
              "      <th>price</th>\n",
              "      <th>volume</th>\n",
              "      <th>color_D</th>\n",
              "      <th>color_E</th>\n",
              "      <th>color_F</th>\n",
              "      <th>color_G</th>\n",
              "      <th>color_H</th>\n",
              "      <th>color_I</th>\n",
              "      <th>color_J</th>\n",
              "      <th>clarity_I1</th>\n",
              "      <th>clarity_IF</th>\n",
              "      <th>clarity_SI1</th>\n",
              "      <th>clarity_SI2</th>\n",
              "      <th>clarity_VS1</th>\n",
              "      <th>clarity_VS2</th>\n",
              "      <th>clarity_VVS1</th>\n",
              "      <th>clarity_VVS2</th>\n",
              "    </tr>\n",
              "  </thead>\n",
              "  <tbody>\n",
              "    <tr>\n",
              "      <th>0</th>\n",
              "      <td>0.23</td>\n",
              "      <td>2</td>\n",
              "      <td>61.5</td>\n",
              "      <td>55.0</td>\n",
              "      <td>326</td>\n",
              "      <td>38.202030</td>\n",
              "      <td>0</td>\n",
              "      <td>1</td>\n",
              "      <td>0</td>\n",
              "      <td>0</td>\n",
              "      <td>0</td>\n",
              "      <td>0</td>\n",
              "      <td>0</td>\n",
              "      <td>0</td>\n",
              "      <td>0</td>\n",
              "      <td>0</td>\n",
              "      <td>1</td>\n",
              "      <td>0</td>\n",
              "      <td>0</td>\n",
              "      <td>0</td>\n",
              "      <td>0</td>\n",
              "    </tr>\n",
              "    <tr>\n",
              "      <th>1</th>\n",
              "      <td>0.21</td>\n",
              "      <td>3</td>\n",
              "      <td>59.8</td>\n",
              "      <td>61.0</td>\n",
              "      <td>326</td>\n",
              "      <td>34.505856</td>\n",
              "      <td>0</td>\n",
              "      <td>1</td>\n",
              "      <td>0</td>\n",
              "      <td>0</td>\n",
              "      <td>0</td>\n",
              "      <td>0</td>\n",
              "      <td>0</td>\n",
              "      <td>0</td>\n",
              "      <td>0</td>\n",
              "      <td>1</td>\n",
              "      <td>0</td>\n",
              "      <td>0</td>\n",
              "      <td>0</td>\n",
              "      <td>0</td>\n",
              "      <td>0</td>\n",
              "    </tr>\n",
              "    <tr>\n",
              "      <th>2</th>\n",
              "      <td>0.23</td>\n",
              "      <td>1</td>\n",
              "      <td>56.9</td>\n",
              "      <td>65.0</td>\n",
              "      <td>327</td>\n",
              "      <td>38.076885</td>\n",
              "      <td>0</td>\n",
              "      <td>1</td>\n",
              "      <td>0</td>\n",
              "      <td>0</td>\n",
              "      <td>0</td>\n",
              "      <td>0</td>\n",
              "      <td>0</td>\n",
              "      <td>0</td>\n",
              "      <td>0</td>\n",
              "      <td>0</td>\n",
              "      <td>0</td>\n",
              "      <td>1</td>\n",
              "      <td>0</td>\n",
              "      <td>0</td>\n",
              "      <td>0</td>\n",
              "    </tr>\n",
              "    <tr>\n",
              "      <th>3</th>\n",
              "      <td>0.29</td>\n",
              "      <td>3</td>\n",
              "      <td>62.4</td>\n",
              "      <td>58.0</td>\n",
              "      <td>334</td>\n",
              "      <td>46.724580</td>\n",
              "      <td>0</td>\n",
              "      <td>0</td>\n",
              "      <td>0</td>\n",
              "      <td>0</td>\n",
              "      <td>0</td>\n",
              "      <td>1</td>\n",
              "      <td>0</td>\n",
              "      <td>0</td>\n",
              "      <td>0</td>\n",
              "      <td>0</td>\n",
              "      <td>0</td>\n",
              "      <td>0</td>\n",
              "      <td>1</td>\n",
              "      <td>0</td>\n",
              "      <td>0</td>\n",
              "    </tr>\n",
              "    <tr>\n",
              "      <th>4</th>\n",
              "      <td>0.31</td>\n",
              "      <td>1</td>\n",
              "      <td>63.3</td>\n",
              "      <td>58.0</td>\n",
              "      <td>335</td>\n",
              "      <td>51.917250</td>\n",
              "      <td>0</td>\n",
              "      <td>0</td>\n",
              "      <td>0</td>\n",
              "      <td>0</td>\n",
              "      <td>0</td>\n",
              "      <td>0</td>\n",
              "      <td>1</td>\n",
              "      <td>0</td>\n",
              "      <td>0</td>\n",
              "      <td>0</td>\n",
              "      <td>1</td>\n",
              "      <td>0</td>\n",
              "      <td>0</td>\n",
              "      <td>0</td>\n",
              "      <td>0</td>\n",
              "    </tr>\n",
              "  </tbody>\n",
              "</table>\n",
              "</div>"
            ],
            "text/plain": [
              "   carat  cut  depth  ...  clarity_VS2  clarity_VVS1  clarity_VVS2\n",
              "0   0.23    2   61.5  ...            0             0             0\n",
              "1   0.21    3   59.8  ...            0             0             0\n",
              "2   0.23    1   56.9  ...            0             0             0\n",
              "3   0.29    3   62.4  ...            1             0             0\n",
              "4   0.31    1   63.3  ...            0             0             0\n",
              "\n",
              "[5 rows x 21 columns]"
            ]
          },
          "metadata": {
            "tags": []
          },
          "execution_count": 17
        }
      ]
    },
    {
      "cell_type": "code",
      "metadata": {
        "id": "fVAuQ_SWCuPd",
        "colab_type": "code",
        "colab": {
          "base_uri": "https://localhost:8080/",
          "height": 105
        },
        "outputId": "22f29f09-53bf-4007-ef79-cc6e7f49a710"
      },
      "source": [
        "print(\"check the column names:\", df_dummy.columns.tolist())\n",
        "print(\"\\n\")\n",
        "print(\"total number of columns: \", len(df_dummy.columns.tolist()))"
      ],
      "execution_count": null,
      "outputs": [
        {
          "output_type": "stream",
          "text": [
            "check the column names: ['carat', 'cut', 'depth', 'table', 'price', 'volume', 'color_D', 'color_E', 'color_F', 'color_G', 'color_H', 'color_I', 'color_J', 'clarity_I1', 'clarity_IF', 'clarity_SI1', 'clarity_SI2', 'clarity_VS1', 'clarity_VS2', 'clarity_VVS1', 'clarity_VVS2']\n",
            "\n",
            "\n",
            "total number of columns:  21\n"
          ],
          "name": "stdout"
        }
      ]
    },
    {
      "cell_type": "markdown",
      "metadata": {
        "id": "oYIhifyZ1CUD",
        "colab_type": "text"
      },
      "source": [
        "### 5. Split the data into train and test"
      ]
    },
    {
      "cell_type": "code",
      "metadata": {
        "id": "m1VZumRD1C8x",
        "colab_type": "code",
        "colab": {}
      },
      "source": [
        "from sklearn.model_selection import train_test_split\n",
        "\n",
        "X = df_dummy.drop(['cut'], axis=1)\n",
        "y = df_dummy['cut']\n",
        "\n",
        "X_train, X_test, y_train, y_test = train_test_split(X,y,test_size=0.2, random_state=0)"
      ],
      "execution_count": null,
      "outputs": []
    },
    {
      "cell_type": "markdown",
      "metadata": {
        "id": "vESz53Y7znLn",
        "colab_type": "text"
      },
      "source": [
        "###6. Feature Scaling - MinMaxScaler\n",
        "\n",
        "We'll use the MinMaxScaler to rescale variables into the range [0,1]."
      ]
    },
    {
      "cell_type": "code",
      "metadata": {
        "id": "PxuTjmqe0A2S",
        "colab_type": "code",
        "colab": {
          "base_uri": "https://localhost:8080/",
          "height": 382
        },
        "outputId": "46894b2a-cb06-459b-a64b-688525d9d238"
      },
      "source": [
        "# plot numerical features (non-dummy features) before scaling\n",
        "sns.catplot(data=df3 , kind='box' , aspect=1.5)\n"
      ],
      "execution_count": null,
      "outputs": [
        {
          "output_type": "execute_result",
          "data": {
            "text/plain": [
              "<seaborn.axisgrid.FacetGrid at 0x7f22b2a38f28>"
            ]
          },
          "metadata": {
            "tags": []
          },
          "execution_count": 19
        },
        {
          "output_type": "display_data",
          "data": {
            "image/png": "[encoded data removed]",
            "text/plain": [
              "<Figure size 540x360 with 1 Axes>"
            ]
          },
          "metadata": {
            "tags": []
          }
        }
      ]
    },
    {
      "cell_type": "code",
      "metadata": {
        "id": "hwUjv2ta0ipb",
        "colab_type": "code",
        "colab": {}
      },
      "source": [
        "from sklearn.preprocessing import MinMaxScaler\n",
        "\n",
        "columns_std = ['carat', 'depth', 'table', 'price', 'volume']\n",
        "\n",
        "# Applying Feature Scaling\n",
        "sc = MinMaxScaler()\n",
        "X_train[columns_std] = sc.fit_transform(X_train[columns_std])\n",
        "\n",
        "X_test[columns_std] = sc.transform(X_test[columns_std])"
      ],
      "execution_count": null,
      "outputs": []
    },
    {
      "cell_type": "code",
      "metadata": {
        "id": "_Q6u5bMU6WYv",
        "colab_type": "code",
        "colab": {
          "base_uri": "https://localhost:8080/",
          "height": 382
        },
        "outputId": "e43ad3ec-00d4-4067-dccf-1375e0ca8f97"
      },
      "source": [
        "# plot after Applying Feature Scaling ( MinMaxScaler )\n",
        "sns.catplot(data=X_train[columns_std] , kind='box' , aspect=1.5)\n"
      ],
      "execution_count": null,
      "outputs": [
        {
          "output_type": "execute_result",
          "data": {
            "text/plain": [
              "<seaborn.axisgrid.FacetGrid at 0x7f09f686e7b8>"
            ]
          },
          "metadata": {
            "tags": []
          },
          "execution_count": 22
        },
        {
          "output_type": "display_data",
          "data": {
            "image/png": "[encoded data removed]",
            "text/plain": [
              "<Figure size 540x360 with 1 Axes>"
            ]
          },
          "metadata": {
            "tags": []
          }
        }
      ]
    },
    {
      "cell_type": "markdown",
      "metadata": {
        "id": "OMdnEyLKpA_h",
        "colab_type": "text"
      },
      "source": [
        "After Applying Feature Scaling,  the price of diamonds has the largest range. The depth of diamonds has the highest median (around 0.5).  The volume and carat have the lowest median. "
      ]
    },
    {
      "cell_type": "markdown",
      "metadata": {
        "id": "78R4PrQyCuPf",
        "colab_type": "text"
      },
      "source": [
        "***\n",
        "## Step 4:Prepped Data Review\n",
        "\n",
        "#### 1) Check columns: \n",
        "\n",
        "The total number of columns has changed from 10 to 21."
      ]
    },
    {
      "cell_type": "code",
      "metadata": {
        "id": "uGTIBjN08G7w",
        "colab_type": "code",
        "colab": {
          "base_uri": "https://localhost:8080/",
          "height": 105
        },
        "outputId": "f276aef3-18d8-47fc-cf9f-69fbaae9aa23"
      },
      "source": [
        "print(\"check the column names:\", df_dummy.columns.tolist())\n",
        "print(\"\\n\")\n",
        "print(\"total number of columns: \", len(df_dummy.columns.tolist()))"
      ],
      "execution_count": null,
      "outputs": [
        {
          "output_type": "stream",
          "text": [
            "check the column names: ['carat', 'cut', 'depth', 'table', 'price', 'volume', 'color_D', 'color_E', 'color_F', 'color_G', 'color_H', 'color_I', 'color_J', 'clarity_I1', 'clarity_IF', 'clarity_SI1', 'clarity_SI2', 'clarity_VS1', 'clarity_VS2', 'clarity_VVS1', 'clarity_VVS2']\n",
            "\n",
            "\n",
            "total number of columns:  21\n"
          ],
          "name": "stdout"
        }
      ]
    },
    {
      "cell_type": "markdown",
      "metadata": {
        "id": "ozv4j-QH9hxN",
        "colab_type": "text"
      },
      "source": [
        "#### 2) Check the shape of the training set and the testing set"
      ]
    },
    {
      "cell_type": "code",
      "metadata": {
        "id": "htORfheA8YEV",
        "colab_type": "code",
        "colab": {
          "base_uri": "https://localhost:8080/",
          "height": 51
        },
        "outputId": "fc437936-cab0-46e1-c791-aa8e40d8f044"
      },
      "source": [
        "print('Training Features Shape:', X_train.shape)\n",
        "print('Testing Features Shape:', X_test.shape)"
      ],
      "execution_count": null,
      "outputs": [
        {
          "output_type": "stream",
          "text": [
            "Training Features Shape: (43136, 20)\n",
            "Testing Features Shape: (10784, 20)\n"
          ],
          "name": "stdout"
        }
      ]
    },
    {
      "cell_type": "markdown",
      "metadata": {
        "id": "i9JarZxWA_rp",
        "colab_type": "text"
      },
      "source": [
        "#### 3) Check distributions for each of numerical variables"
      ]
    },
    {
      "cell_type": "code",
      "metadata": {
        "id": "a9PygCZZCuPh",
        "colab_type": "code",
        "colab": {
          "base_uri": "https://localhost:8080/",
          "height": 728
        },
        "outputId": "0f1e7cf5-9e46-48bf-a0ce-e587212a754a"
      },
      "source": [
        "# Distributions for each of numerical variables\n",
        "X_train[columns_std].hist(figsize=(15, 10), bins=20, xlabelsize=10, ylabelsize=10)"
      ],
      "execution_count": null,
      "outputs": [
        {
          "output_type": "execute_result",
          "data": {
            "text/plain": [
              "array([[<matplotlib.axes._subplots.AxesSubplot object at 0x7f5e34d10320>,\n",
              "        <matplotlib.axes._subplots.AxesSubplot object at 0x7f5e34d910f0>],\n",
              "       [<matplotlib.axes._subplots.AxesSubplot object at 0x7f5e34d24630>,\n",
              "        <matplotlib.axes._subplots.AxesSubplot object at 0x7f5e34d65080>],\n",
              "       [<matplotlib.axes._subplots.AxesSubplot object at 0x7f5e34604630>,\n",
              "        <matplotlib.axes._subplots.AxesSubplot object at 0x7f5e346be978>]],\n",
              "      dtype=object)"
            ]
          },
          "metadata": {
            "tags": []
          },
          "execution_count": 31
        },
        {
          "output_type": "display_data",
          "data": {
            "image/png": "[encoded data removed]",
            "text/plain": [
              "<Figure size 1080x720 with 6 Axes>"
            ]
          },
          "metadata": {
            "tags": []
          }
        }
      ]
    },
    {
      "cell_type": "markdown",
      "metadata": {
        "id": "Ti9Tj1esCuPi",
        "colab_type": "text"
      },
      "source": [
        "After data preparation, there is no much change for each numerical column.\n",
        "\n",
        "#### 4) Check volume (new feature) vs cut"
      ]
    },
    {
      "cell_type": "code",
      "metadata": {
        "id": "CWMsMbaG-3D2",
        "colab_type": "code",
        "colab": {
          "base_uri": "https://localhost:8080/",
          "height": 365
        },
        "outputId": "40002c6d-8565-4115-ef9b-d5157f227723"
      },
      "source": [
        "# plot volume vs cut\n",
        "# merge training set\n",
        "df_train = pd.concat([X_train, y_train], axis=1)\n",
        "\n",
        "sns.catplot(x='cut', y='volume', data=df_train, kind='box' ,aspect=1.5 )\n",
        "\n",
        "plt.xlabel('cut')\n",
        "plt.ylabel('volume')\n",
        "plt.show()"
      ],
      "execution_count": null,
      "outputs": [
        {
          "output_type": "display_data",
          "data": {
            "image/png": "[encoded data removed]",
            "text/plain": [
              "<Figure size 540x360 with 1 Axes>"
            ]
          },
          "metadata": {
            "tags": []
          }
        }
      ]
    },
    {
      "cell_type": "markdown",
      "metadata": {
        "id": "1vUMY7EysHOS",
        "colab_type": "text"
      },
      "source": [
        "Premium cut level diamonds have the largest range. Fair cut level's diamonds have the highest median price in all cut levels. And the Ideal cut level diamonds have the lowest median price. "
      ]
    },
    {
      "cell_type": "markdown",
      "metadata": {
        "id": "ZCaAZIGZCuPp",
        "colab_type": "text"
      },
      "source": [
        "***\n",
        "## Step 5. Classifier Modeling + Select Models\n",
        "\n",
        "We'll perform feature selection firstly. Then, we'll build Decision Tree, Random Forest, Gradient Boosting Classifier, Stochastic Gradient Descent Classifier, and XG Boost Classifier. \n",
        "\n",
        "For each classifier, we'll build baseline model using the default parameters. Then we'll use `RandomizedSearchCV` here for optimizing parameters. Random search differs from grid search mainly in that it searches the specified subset of hyperparameters randomly instead of exhaustively. `RandomizedSearchCV` decreases the processing time since it goes through only a fixed number of hyperparameter settings. It moves within the grid in random fashion to find the best set hyperparameters. This approach reduces unnecessary computation.\n",
        "\n",
        "https://towardsdatascience.com/hyperparameter-tuning-c5619e7e6624\n",
        "\n",
        "https://towardsdatascience.com/hyperparameter-tuning-the-random-forest-in-python-using-scikit-learn-28d2aa77dd74\n",
        "\n",
        "Also, we'll compare the base model and the tuned model by using 5-fold cross validation and evaluate models based on accuracy, recall, and F1. Since the dependent variable is multi-class not binary class, we'll use macro-averaged Recall and F1 scores, which calculate metrics for each class individually and then takes unweighted mean of the measures. For the accuracy, we'll check and compare it with the null error rate. \n",
        "\n",
        "**Check null error rate:**\n",
        "\n",
        "Null error rate: This term is used to define how many times your prediction would be wrong if you can predict the majority class.\n",
        "\n"
      ]
    },
    {
      "cell_type": "code",
      "metadata": {
        "id": "b9woxCI1M1jB",
        "colab_type": "code",
        "colab": {
          "base_uri": "https://localhost:8080/",
          "height": 51
        },
        "outputId": "7ec57c8d-f83d-4471-853f-efe5cd27c908"
      },
      "source": [
        "# https://www.ritchieng.com/machine-learning-evaluate-classification-model/\n",
        "# calculate null error rate (for multi-class classification problems)\n",
        "y_test.value_counts().head(1)/len(y_test)"
      ],
      "execution_count": null,
      "outputs": [
        {
          "output_type": "execute_result",
          "data": {
            "text/plain": [
              "2    0.401057\n",
              "Name: cut, dtype: float64"
            ]
          },
          "metadata": {
            "tags": []
          },
          "execution_count": 20
        }
      ]
    },
    {
      "cell_type": "code",
      "metadata": {
        "id": "SlMZyXK3jVWb",
        "colab_type": "code",
        "colab": {
          "base_uri": "https://localhost:8080/",
          "height": 119
        },
        "outputId": "5071984a-b520-457f-c6fe-c6632ad66172"
      },
      "source": [
        "y_test.value_counts()"
      ],
      "execution_count": null,
      "outputs": [
        {
          "output_type": "execute_result",
          "data": {
            "text/plain": [
              "2    4325\n",
              "3    2768\n",
              "4    2363\n",
              "1     988\n",
              "0     340\n",
              "Name: cut, dtype: int64"
            ]
          },
          "metadata": {
            "tags": []
          },
          "execution_count": 164
        }
      ]
    },
    {
      "cell_type": "markdown",
      "metadata": {
        "id": "mqV53UdNjZLd",
        "colab_type": "text"
      },
      "source": [
        "This means that a dumb model that always predicts the majority class (2) would be right 40% of the time. It's a good way to know the minimum we should achieve with our models. "
      ]
    },
    {
      "cell_type": "markdown",
      "metadata": {
        "id": "22xhH-aKM2It",
        "colab_type": "text"
      },
      "source": [
        "**Create a function for model evaluation on the training set:**"
      ]
    },
    {
      "cell_type": "code",
      "metadata": {
        "id": "HQKnNcRnCv2D",
        "colab_type": "code",
        "colab": {}
      },
      "source": [
        "from sklearn.model_selection import cross_val_score\n",
        "from sklearn import metrics\n",
        "\n",
        "# Create a function for Model Evaluation Using Cross-Validation\n",
        "def cross_val_score_multilabel (model, X_train, y_train):\n",
        "    accuracy_scores = cross_val_score(model, X_train, y_train, cv=5, scoring='accuracy')\n",
        "    recall = cross_val_score(model, X_train, y_train, cv=5, scoring='recall_macro')\n",
        "    f1 = cross_val_score(model, X_train, y_train, cv=5, scoring='f1_macro')\n",
        "    print('Model Mean Accuracy (training set):{} '.format(np.mean(accuracy_scores)))\n",
        "    print('Macro Recall (training set):{} '.format(np.mean(recall)))\n",
        "    print('Macro F1 score (training set):{} '.format(np.mean(f1)))"
      ],
      "execution_count": null,
      "outputs": []
    },
    {
      "cell_type": "markdown",
      "metadata": {
        "id": "T96-IKuPCuPt",
        "colab_type": "text"
      },
      "source": [
        "### 5.1 Feature Selection - Tree-based `SelectFromModel`\n",
        "\n",
        "We'll also use SelectFromModel RandomForest to select features based on feature importance. We calculate feature importance using node impurities in each decision tree. In Random forest, the final feature importance is the average of all decision tree feature importance.\n",
        "\n",
        "https://towardsdatascience.com/the-5-feature-selection-algorithms-every-data-scientist-need-to-know-3a6b566efd2\n",
        "\n"
      ]
    },
    {
      "cell_type": "code",
      "metadata": {
        "id": "IirkaY7CCuPt",
        "colab_type": "code",
        "colab": {
          "base_uri": "https://localhost:8080/",
          "height": 34
        },
        "outputId": "010e4d93-b17e-4372-b361-f4d12a217cb2"
      },
      "source": [
        "from sklearn.feature_selection import SelectFromModel\n",
        "from sklearn.ensemble import RandomForestClassifier\n",
        "\n",
        "embeded_rf_selector = SelectFromModel(RandomForestClassifier(n_estimators=100), max_features=20)\n",
        "embeded_rf_selector.fit(X_train, y_train.values.ravel())\n",
        "\n",
        "embeded_rf_support = embeded_rf_selector.get_support()\n",
        "embeded_rf_feature = X_train.loc[:,embeded_rf_support].columns.tolist()\n",
        "print(str(len(embeded_rf_feature)), 'selected features')"
      ],
      "execution_count": null,
      "outputs": [
        {
          "output_type": "stream",
          "text": [
            "5 selected features\n"
          ],
          "name": "stdout"
        }
      ]
    },
    {
      "cell_type": "code",
      "metadata": {
        "id": "CHWVJCmgMSR2",
        "colab_type": "code",
        "colab": {
          "base_uri": "https://localhost:8080/",
          "height": 34
        },
        "outputId": "64cef974-e23c-436a-b813-ce61475836e8"
      },
      "source": [
        "embeded_rf_feature"
      ],
      "execution_count": null,
      "outputs": [
        {
          "output_type": "execute_result",
          "data": {
            "text/plain": [
              "['carat', 'depth', 'table', 'price', 'volume']"
            ]
          },
          "metadata": {
            "tags": []
          },
          "execution_count": 26
        }
      ]
    },
    {
      "cell_type": "markdown",
      "metadata": {
        "id": "Lwu2jrsJHpIK",
        "colab_type": "text"
      },
      "source": [
        "The features selected in this step corresponds to our domain knowledge findings. Therefore, we'll use 5 features for Classifier Modeling, they are 'carat', 'depth', 'table', 'price', and 'volume'. \n"
      ]
    },
    {
      "cell_type": "code",
      "metadata": {
        "id": "Hp-cuG_BxHqL",
        "colab_type": "code",
        "colab": {
          "base_uri": "https://localhost:8080/",
          "height": 51
        },
        "outputId": "e9b45b23-77bb-497b-e82d-cf832ade1bb4"
      },
      "source": [
        "# Model with five features:\n",
        "X_train_new = X_train[['carat', 'depth', 'table', 'price', 'volume']]\n",
        "\n",
        "X_test_new = X_test[['carat', 'depth', 'table', 'price', 'volume']]\n",
        "\n",
        "print('Training Features Shape:', X_train_new.shape)\n",
        "print('Testing Features Shape:', X_test_new.shape)"
      ],
      "execution_count": null,
      "outputs": [
        {
          "output_type": "stream",
          "text": [
            "Training Features Shape: (43136, 5)\n",
            "Testing Features Shape: (10784, 5)\n"
          ],
          "name": "stdout"
        }
      ]
    },
    {
      "cell_type": "markdown",
      "metadata": {
        "id": "ncg1qNi0xQl1",
        "colab_type": "text"
      },
      "source": [
        "### 5.2 Decision Tree"
      ]
    },
    {
      "cell_type": "markdown",
      "metadata": {
        "id": "bM_NASwxE3yS",
        "colab_type": "text"
      },
      "source": [
        "#### 1) Check default hyperparameters of Decision Tree Model:"
      ]
    },
    {
      "cell_type": "code",
      "metadata": {
        "id": "SkvtXFQkCOiQ",
        "colab_type": "code",
        "colab": {
          "base_uri": "https://localhost:8080/",
          "height": 289
        },
        "outputId": "f0a1d829-5ac2-4179-d2b7-9cd0660dffe9"
      },
      "source": [
        "\n",
        "# print all the default parameters in the DecisionTree model\n",
        "from sklearn.tree import DecisionTreeClassifier\n",
        "dtc01 = DecisionTreeClassifier(random_state = 0)\n",
        "from pprint import pprint\n",
        "\n",
        "# Look at default parameters \n",
        "print('Parameters currently in use:\\n')\n",
        "pprint(dtc01.get_params())"
      ],
      "execution_count": null,
      "outputs": [
        {
          "output_type": "stream",
          "text": [
            "Parameters currently in use:\n",
            "\n",
            "{'ccp_alpha': 0.0,\n",
            " 'class_weight': None,\n",
            " 'criterion': 'gini',\n",
            " 'max_depth': None,\n",
            " 'max_features': None,\n",
            " 'max_leaf_nodes': None,\n",
            " 'min_impurity_decrease': 0.0,\n",
            " 'min_impurity_split': None,\n",
            " 'min_samples_leaf': 1,\n",
            " 'min_samples_split': 2,\n",
            " 'min_weight_fraction_leaf': 0.0,\n",
            " 'presort': 'deprecated',\n",
            " 'random_state': 0,\n",
            " 'splitter': 'best'}\n"
          ],
          "name": "stdout"
        }
      ]
    },
    {
      "cell_type": "markdown",
      "metadata": {
        "id": "d7PUYG8ArAlR",
        "colab_type": "text"
      },
      "source": [
        "#### 2) Create Decision Tree model with default hyperparameters:\n",
        "\n",
        "We will use five features deriving from our feature selection to build the decision tree model, they are 'carat', 'depth', 'table', 'price', 'volume'. "
      ]
    },
    {
      "cell_type": "code",
      "metadata": {
        "id": "TFeGBw_MCOv4",
        "colab_type": "code",
        "colab": {
          "base_uri": "https://localhost:8080/",
          "height": 119
        },
        "outputId": "92efe8cd-530c-4c99-8aee-ceb193ad10a7"
      },
      "source": [
        "\n",
        "from sklearn.tree import DecisionTreeClassifier\n",
        "\n",
        "# Instantiate\n",
        "# default criterion=gini\n",
        "dtc01 = DecisionTreeClassifier(random_state=0)\n",
        "\n",
        "dtc01.fit(X_train_new, y_train)"
      ],
      "execution_count": null,
      "outputs": [
        {
          "output_type": "execute_result",
          "data": {
            "text/plain": [
              "DecisionTreeClassifier(ccp_alpha=0.0, class_weight=None, criterion='gini',\n",
              "                       max_depth=None, max_features=None, max_leaf_nodes=None,\n",
              "                       min_impurity_decrease=0.0, min_impurity_split=None,\n",
              "                       min_samples_leaf=1, min_samples_split=2,\n",
              "                       min_weight_fraction_leaf=0.0, presort='deprecated',\n",
              "                       random_state=0, splitter='best')"
            ]
          },
          "metadata": {
            "tags": []
          },
          "execution_count": 61
        }
      ]
    },
    {
      "cell_type": "markdown",
      "metadata": {
        "id": "eBS0rf80sxEM",
        "colab_type": "text"
      },
      "source": [
        "#### 3) Tune Hyperparameter - Decision Tree Model\n",
        "\n",
        "To find the best decision Tree model, we should find out the most appropriate Hyperparameter and then using the tunning Hyperparameter to build model.\n",
        "\n",
        "We'll  adjust the following set of parameters since we think them may be more affected in our models:\n",
        "\n",
        "max_depth: the first parameter to tune is max_depth. This indicates how deep the tree can be. The deeper the tree, the more splits it has and it captures more information about the data.\n",
        "\n",
        "max_features: it represents the number of features to consider when looking for the best split.\n",
        "\n",
        "min_samples_leaf: it is the minimum number of samples required to be at a leaf node. \n",
        "\n",
        "min_samples_split: it represents the minimum number of samples required to split an internal node. \n",
        "\n",
        "criterion: it measures the quality of a split. Supported criteria are “gini” for the Gini impurity and “entropy” for the information gain."
      ]
    },
    {
      "cell_type": "code",
      "metadata": {
        "id": "c9P6lrqTCO1G",
        "colab_type": "code",
        "colab": {
          "base_uri": "https://localhost:8080/",
          "height": 52
        },
        "outputId": "b5a718a9-ba85-42df-a994-2f96ca7118b4"
      },
      "source": [
        "from scipy.stats import randint \n",
        "from sklearn.tree import DecisionTreeClassifier \n",
        "from sklearn.model_selection import RandomizedSearchCV \n",
        "\n",
        "# Creating the hyperparameter grid  \n",
        "param_dist = {\"max_depth\": [3,5,6,7,8], \n",
        "              'max_features': ['auto', 'sqrt', 'log2'],\n",
        "              \"min_samples_leaf\": randint(1, 9), \n",
        "              'min_samples_split': [2, 4, 6],\n",
        "              \"criterion\": [\"gini\", \"entropy\"]} \n",
        "  \n",
        "# Instantiating Decision Tree classifier \n",
        "tree = DecisionTreeClassifier() \n",
        "  \n",
        "# Instantiating RandomizedSearchCV object \n",
        "tree_cv = RandomizedSearchCV(tree, param_dist, cv = 5) \n",
        "  \n",
        "tree_cv.fit(X_train_new, y_train.values.ravel()) \n",
        "  \n",
        "# Print the tuned parameters and score \n",
        "print(\"Tuned Decision Tree Parameters: {}\".format(tree_cv.best_params_)) \n",
        "print(\"Best score is {}\".format(tree_cv.best_score_))"
      ],
      "execution_count": null,
      "outputs": [
        {
          "output_type": "stream",
          "text": [
            "Tuned Decision Tree Parameters: {'criterion': 'entropy', 'max_depth': 8, 'max_features': 'log2', 'min_samples_leaf': 1, 'min_samples_split': 2}\n",
            "Best score is 0.7194683202605011\n"
          ],
          "name": "stdout"
        }
      ]
    },
    {
      "cell_type": "markdown",
      "metadata": {
        "id": "FO-3AAzgt3oA",
        "colab_type": "text"
      },
      "source": [
        "From above we get the tuned tree parameters, then we'll use these parameters to build tree model again and compare their score."
      ]
    },
    {
      "cell_type": "code",
      "metadata": {
        "id": "bD4yjMRtCO7j",
        "colab_type": "code",
        "colab": {
          "base_uri": "https://localhost:8080/",
          "height": 119
        },
        "outputId": "553726df-ffe0-46ca-b6ce-7a0646cb5889"
      },
      "source": [
        "# tuned model:\n",
        "dtc001 = DecisionTreeClassifier(random_state = 0, max_depth = 8, max_features='log2', criterion= 'entropy',    \n",
        "                                      min_samples_split = 2, min_samples_leaf= 1)\n",
        "\n",
        "dtc001.fit(X_train_new,y_train.values.ravel())"
      ],
      "execution_count": null,
      "outputs": [
        {
          "output_type": "execute_result",
          "data": {
            "text/plain": [
              "DecisionTreeClassifier(ccp_alpha=0.0, class_weight=None, criterion='entropy',\n",
              "                       max_depth=8, max_features='log2', max_leaf_nodes=None,\n",
              "                       min_impurity_decrease=0.0, min_impurity_split=None,\n",
              "                       min_samples_leaf=1, min_samples_split=2,\n",
              "                       min_weight_fraction_leaf=0.0, presort='deprecated',\n",
              "                       random_state=0, splitter='best')"
            ]
          },
          "metadata": {
            "tags": []
          },
          "execution_count": 63
        }
      ]
    },
    {
      "cell_type": "markdown",
      "metadata": {
        "id": "M1Zh4blpxh-O",
        "colab_type": "text"
      },
      "source": [
        "#### 4) Decision Tree Model Evaluation on training set\n"
      ]
    },
    {
      "cell_type": "code",
      "metadata": {
        "id": "D8bFrgxoCPFm",
        "colab_type": "code",
        "colab": {
          "base_uri": "https://localhost:8080/",
          "height": 68
        },
        "outputId": "39f0a13e-4cd5-4127-d8ae-213ed31e2b08"
      },
      "source": [
        "# base model:\n",
        "cross_val_score_multilabel (dtc01, X_train_new, y_train.values.ravel())"
      ],
      "execution_count": null,
      "outputs": [
        {
          "output_type": "stream",
          "text": [
            "Model Mean Accuracy (training set):0.6383762496144894 \n",
            "Macro Recall (training set):0.6415435943122301 \n",
            "Macro F1 score (training set):0.6413009973319292 \n"
          ],
          "name": "stdout"
        }
      ]
    },
    {
      "cell_type": "code",
      "metadata": {
        "id": "zjvUdgdBxwTs",
        "colab_type": "code",
        "colab": {
          "base_uri": "https://localhost:8080/",
          "height": 68
        },
        "outputId": "c43d01ca-7a88-41b9-c349-0b8cff73082f"
      },
      "source": [
        "# tuned model:\n",
        "cross_val_score_multilabel (dtc001, X_train_new, y_train.values.ravel())"
      ],
      "execution_count": null,
      "outputs": [
        {
          "output_type": "stream",
          "text": [
            "Model Mean Accuracy (training set):0.70901303972891 \n",
            "Macro Recall (training set):0.6495522721417262 \n",
            "Macro F1 score (training set):0.6525255053688201 \n"
          ],
          "name": "stdout"
        }
      ]
    },
    {
      "cell_type": "markdown",
      "metadata": {
        "id": "BKrQq9tzyMCa",
        "colab_type": "text"
      },
      "source": [
        "**Results - Decision Tree Model Evaluation:**\n",
        "\n",
        "Build a chart to show their Accuracy, Macro F1 Score, and Macro Recall.\n",
        "\n",
        "\n",
        "| Metric        | Base Decision Tree Model  | Tuned Decision Tree Model\n",
        "| ------------- | ------- | ------- | \n",
        "| # Indep. Vars |  5     |   5     |   \n",
        "| The Accuracy of the model  | 0.638  | 0.709 |\n",
        "| Macro F1 Score      | 0.641  |0.653 |  \n",
        "| Macro Recall           |0.642 | 0.65 |\n",
        "\n",
        "\n",
        "From the results above, the tuned Decision Tree model did perform better than the base model. We can see that the tuned model has  higher accuracy, macro F1, and macro recall scores that means the tuned model works better. The accuacy is higher than the null error rate. So in our Decisison Tree models, we select tuned model with 5 features as our best model.\n"
      ]
    },
    {
      "cell_type": "markdown",
      "metadata": {
        "id": "Wt4Fh2K-CL0o",
        "colab_type": "text"
      },
      "source": [
        "### 5.3 Random Forest\n",
        "\n",
        "Just like the decision tree model, we'll tune the hyperparameters for random model. Then, compare the performance of the base Random Forest models with the tuned models.\n",
        "\n",
        "####1) Check default hyperparameters of Random Forest model "
      ]
    },
    {
      "cell_type": "code",
      "metadata": {
        "id": "ODCAyKEA0Ays",
        "colab_type": "code",
        "colab": {
          "base_uri": "https://localhost:8080/",
          "height": 374
        },
        "outputId": "3f3f0fdd-c64d-4f8e-963d-a71e2231d41b"
      },
      "source": [
        "from sklearn.ensemble import RandomForestClassifier\n",
        "rf01 = RandomForestClassifier(random_state = 0)\n",
        "from pprint import pprint\n",
        "\n",
        "# Look at default parameters \n",
        "print('Parameters currently in use:\\n')\n",
        "pprint(rf01.get_params())"
      ],
      "execution_count": null,
      "outputs": [
        {
          "output_type": "stream",
          "text": [
            "Parameters currently in use:\n",
            "\n",
            "{'bootstrap': True,\n",
            " 'ccp_alpha': 0.0,\n",
            " 'class_weight': None,\n",
            " 'criterion': 'gini',\n",
            " 'max_depth': None,\n",
            " 'max_features': 'auto',\n",
            " 'max_leaf_nodes': None,\n",
            " 'max_samples': None,\n",
            " 'min_impurity_decrease': 0.0,\n",
            " 'min_impurity_split': None,\n",
            " 'min_samples_leaf': 1,\n",
            " 'min_samples_split': 2,\n",
            " 'min_weight_fraction_leaf': 0.0,\n",
            " 'n_estimators': 100,\n",
            " 'n_jobs': None,\n",
            " 'oob_score': False,\n",
            " 'random_state': 0,\n",
            " 'verbose': 0,\n",
            " 'warm_start': False}\n"
          ],
          "name": "stdout"
        }
      ]
    },
    {
      "cell_type": "markdown",
      "metadata": {
        "id": "cv6pNVBn2POX",
        "colab_type": "text"
      },
      "source": [
        "#### 2) Define and Train the Base Model with default hyperparameters\n"
      ]
    },
    {
      "cell_type": "code",
      "metadata": {
        "id": "RlqizURx2eKi",
        "colab_type": "code",
        "colab": {
          "base_uri": "https://localhost:8080/",
          "height": 153
        },
        "outputId": "d51366b2-e070-4912-d236-46bdd1800bb3"
      },
      "source": [
        "rf_base01 = RandomForestClassifier(random_state=0)\n",
        "rf_base01.fit(X_train_new, y_train.values.ravel())"
      ],
      "execution_count": null,
      "outputs": [
        {
          "output_type": "execute_result",
          "data": {
            "text/plain": [
              "RandomForestClassifier(bootstrap=True, ccp_alpha=0.0, class_weight=None,\n",
              "                       criterion='gini', max_depth=None, max_features='auto',\n",
              "                       max_leaf_nodes=None, max_samples=None,\n",
              "                       min_impurity_decrease=0.0, min_impurity_split=None,\n",
              "                       min_samples_leaf=1, min_samples_split=2,\n",
              "                       min_weight_fraction_leaf=0.0, n_estimators=100,\n",
              "                       n_jobs=None, oob_score=False, random_state=0, verbose=0,\n",
              "                       warm_start=False)"
            ]
          },
          "metadata": {
            "tags": []
          },
          "execution_count": 86
        }
      ]
    },
    {
      "cell_type": "markdown",
      "metadata": {
        "id": "Z_x3j6G80yT1",
        "colab_type": "text"
      },
      "source": [
        "#### 3) Use `RandomizedSearchCV` for optimizing parameters\n",
        "\n",
        "There are several hyperparameters but we will try to adjust the following set of them since we think them may be more affected in our models:\n",
        "\n",
        "n_estimators = number of trees in the foreset\n",
        "\n",
        "max_features = max number of features considered for splitting a node\n",
        "\n",
        "max_depth = max number of levels in each decision tree\n",
        "\n",
        "min_samples_split = min number of data points placed in a node before the node is split\n",
        "\n",
        "criterion measures the quality of a split. Supported criteria are “gini” for the Gini impurity and “entropy” for the information gain. Note: this parameter is tree-specific.\n",
        "\n",
        "\n"
      ]
    },
    {
      "cell_type": "code",
      "metadata": {
        "id": "oOD89m56OWh4",
        "colab_type": "code",
        "colab": {
          "base_uri": "https://localhost:8080/",
          "height": 71
        },
        "outputId": "ce2c6deb-2a45-43b5-f95b-e3d3e06c3e5f"
      },
      "source": [
        "# Creating the hyperparameter grid \n",
        "model_params = { \n",
        "    'n_estimators': [100, 200, 500],\n",
        "    'max_features': ['auto', 'sqrt', 'log2'],\n",
        "    'max_depth' : [3,4,5,6,7,8],\n",
        "    'min_samples_split': [2, 4, 6],\n",
        "    \"criterion\": [\"gini\", \"entropy\"]\n",
        "}\n",
        "\n",
        "# create random forest classifier model\n",
        "rf_model001 = RandomForestClassifier(random_state=0)\n",
        "\n",
        "# Instantiating RandomizedSearchCV object \n",
        "clf001 = RandomizedSearchCV(rf_model001, model_params, cv=5)\n",
        "\n",
        "clf001.fit(X_train_new, y_train.values.ravel()) \n",
        "\n",
        "# Print the tuned parameters and score \n",
        "print(\"Tuned Random Forest Parameters: {}\".format(clf001.best_params_)) \n",
        "print(\"Best score is {}\".format(clf001.best_score_)) "
      ],
      "execution_count": null,
      "outputs": [
        {
          "output_type": "stream",
          "text": [
            "Tuned Random Forest Parameters: {'n_estimators': 200, 'min_samples_split': 4, 'max_features': 'log2', 'max_depth': 8, 'criterion': 'entropy'}\n",
            "Best score is 0.738269585643374\n"
          ],
          "name": "stdout"
        }
      ]
    },
    {
      "cell_type": "code",
      "metadata": {
        "id": "80XMYvbV3ckD",
        "colab_type": "code",
        "colab": {
          "base_uri": "https://localhost:8080/",
          "height": 153
        },
        "outputId": "80140c7e-a0ab-42a9-8593-ab1d5a8f8f9e"
      },
      "source": [
        "# tuned model:\n",
        "tuned_model001 = RandomForestClassifier(bootstrap=True, ccp_alpha=0.0, class_weight=None,\n",
        "                       criterion='entropy', max_depth=8, max_features='log2',\n",
        "                       max_leaf_nodes=None, max_samples=None,\n",
        "                       min_impurity_decrease=0.0, min_impurity_split=None,\n",
        "                       min_samples_leaf=1, min_samples_split=4,\n",
        "                       min_weight_fraction_leaf=0.0, n_estimators=200,\n",
        "                       n_jobs=None, oob_score=False, random_state=0, verbose=0,\n",
        "                       warm_start=False)\n",
        "\n",
        "tuned_model001.fit(X_train_new,y_train.values.ravel())"
      ],
      "execution_count": null,
      "outputs": [
        {
          "output_type": "execute_result",
          "data": {
            "text/plain": [
              "RandomForestClassifier(bootstrap=True, ccp_alpha=0.0, class_weight=None,\n",
              "                       criterion='entropy', max_depth=8, max_features='log2',\n",
              "                       max_leaf_nodes=None, max_samples=None,\n",
              "                       min_impurity_decrease=0.0, min_impurity_split=None,\n",
              "                       min_samples_leaf=1, min_samples_split=4,\n",
              "                       min_weight_fraction_leaf=0.0, n_estimators=200,\n",
              "                       n_jobs=None, oob_score=False, random_state=0, verbose=0,\n",
              "                       warm_start=False)"
            ]
          },
          "metadata": {
            "tags": []
          },
          "execution_count": 92
        }
      ]
    },
    {
      "cell_type": "markdown",
      "metadata": {
        "id": "CQr1gXls8fOV",
        "colab_type": "text"
      },
      "source": [
        "For tuned Random Forest model, the winning values of max_features, n_estimators, max_depth, min_samples_split, and criterion were 'log2', 200, 8, 4, and 'entropy' respectively."
      ]
    },
    {
      "cell_type": "markdown",
      "metadata": {
        "id": "IY1_ktsCLTXR",
        "colab_type": "text"
      },
      "source": [
        "#### 4) Random Forest Model Evaluation on training set\n",
        "\n",
        "\n",
        "\n"
      ]
    },
    {
      "cell_type": "code",
      "metadata": {
        "id": "TJMPS_XY6kSb",
        "colab_type": "code",
        "colab": {
          "base_uri": "https://localhost:8080/",
          "height": 68
        },
        "outputId": "cbb0eda1-1925-45c3-e57b-3ba4179e2171"
      },
      "source": [
        "# base model:\n",
        "cross_val_score_multilabel (rf_base01, X_train_new, y_train.values.ravel())"
      ],
      "execution_count": null,
      "outputs": [
        {
          "output_type": "stream",
          "text": [
            "Model Mean Accuracy (training set):0.7128383713432384 \n",
            "Macro Recall (training set):0.7001847371097005 \n",
            "Macro F1 score (training set):0.703588375663385 \n"
          ],
          "name": "stdout"
        }
      ]
    },
    {
      "cell_type": "code",
      "metadata": {
        "id": "RopC5O6GS17K",
        "colab_type": "code",
        "colab": {
          "base_uri": "https://localhost:8080/",
          "height": 68
        },
        "outputId": "ee910583-c1c3-43e4-c1c6-b7e9d96a68d8"
      },
      "source": [
        "# tuned model:\n",
        "cross_val_score_multilabel (tuned_model001, X_train_new, y_train.values.ravel())"
      ],
      "execution_count": null,
      "outputs": [
        {
          "output_type": "stream",
          "text": [
            "Model Mean Accuracy (training set):0.738269585643374 \n",
            "Macro Recall (training set):0.7128811441124367 \n",
            "Macro F1 score (training set):0.7144994026012605 \n"
          ],
          "name": "stdout"
        }
      ]
    },
    {
      "cell_type": "markdown",
      "metadata": {
        "id": "T28F4HgsNeyr",
        "colab_type": "text"
      },
      "source": [
        "**Random Forest Model Evaluation Results:**\n",
        "\n",
        "\n",
        "| Metric        | Base Random Forest Model  | Tuned Random Forest Model\n",
        "| ------------- | ------- | ------- | \n",
        "| # Indep. Vars |  5     |   5     |   \n",
        "| The Accuracy of the model  | 0.713  | 0.738 |\n",
        "| Macro F1 Score      | 0.700  |0.713 |  \n",
        "| Macro Recall           |0.703 | 0.714 |\n",
        "\n",
        "\n",
        "From the results above, the tuned model performed better than the base model, having higher accuracy, Macro F1 Score, and macro Recall score. The accuacy is higher than the null error rate. We prefer the tuned model for Random Forest. \n"
      ]
    },
    {
      "cell_type": "markdown",
      "metadata": {
        "id": "tcZGhSXHxEH_",
        "colab_type": "text"
      },
      "source": [
        "\n",
        "\n",
        "### 5.4 Gradient Boosting Classifier\n",
        "\n",
        "#### 1) Check default hyperparameters of Gradient Boosting Model"
      ]
    },
    {
      "cell_type": "code",
      "metadata": {
        "id": "zbWJFV0tWboa",
        "colab_type": "code",
        "colab": {
          "base_uri": "https://localhost:8080/",
          "height": 425
        },
        "outputId": "daddfa9f-e75e-497d-e20e-64d2e976de20"
      },
      "source": [
        "# print all the default parameters in the GradientBoosting model\n",
        "from sklearn.ensemble import GradientBoostingClassifier\n",
        "gb01 = GradientBoostingClassifier()\n",
        "\n",
        "from pprint import pprint\n",
        "# Look at default parameters \n",
        "print('Parameters currently in use:\\n')\n",
        "pprint(gb01.get_params())"
      ],
      "execution_count": null,
      "outputs": [
        {
          "output_type": "stream",
          "text": [
            "Parameters currently in use:\n",
            "\n",
            "{'ccp_alpha': 0.0,\n",
            " 'criterion': 'friedman_mse',\n",
            " 'init': None,\n",
            " 'learning_rate': 0.1,\n",
            " 'loss': 'deviance',\n",
            " 'max_depth': 3,\n",
            " 'max_features': None,\n",
            " 'max_leaf_nodes': None,\n",
            " 'min_impurity_decrease': 0.0,\n",
            " 'min_impurity_split': None,\n",
            " 'min_samples_leaf': 1,\n",
            " 'min_samples_split': 2,\n",
            " 'min_weight_fraction_leaf': 0.0,\n",
            " 'n_estimators': 100,\n",
            " 'n_iter_no_change': None,\n",
            " 'presort': 'deprecated',\n",
            " 'random_state': None,\n",
            " 'subsample': 1.0,\n",
            " 'tol': 0.0001,\n",
            " 'validation_fraction': 0.1,\n",
            " 'verbose': 0,\n",
            " 'warm_start': False}\n"
          ],
          "name": "stdout"
        }
      ]
    },
    {
      "cell_type": "markdown",
      "metadata": {
        "id": "19HiRs4mxbGL",
        "colab_type": "text"
      },
      "source": [
        "#### 2) Define and Train the Base Model with default hyperparameters"
      ]
    },
    {
      "cell_type": "code",
      "metadata": {
        "id": "jFQ86ltvxX2F",
        "colab_type": "code",
        "colab": {
          "base_uri": "https://localhost:8080/",
          "height": 187
        },
        "outputId": "66f5681e-8aea-41bf-ecbf-b94cd6e18097"
      },
      "source": [
        "# base model\n",
        "from sklearn.model_selection import cross_val_score\n",
        "\n",
        "base_gb = GradientBoostingClassifier()\n",
        "base_gb.fit(X_train_new, y_train)"
      ],
      "execution_count": null,
      "outputs": [
        {
          "output_type": "execute_result",
          "data": {
            "text/plain": [
              "GradientBoostingClassifier(ccp_alpha=0.0, criterion='friedman_mse', init=None,\n",
              "                           learning_rate=0.1, loss='deviance', max_depth=3,\n",
              "                           max_features=None, max_leaf_nodes=None,\n",
              "                           min_impurity_decrease=0.0, min_impurity_split=None,\n",
              "                           min_samples_leaf=1, min_samples_split=2,\n",
              "                           min_weight_fraction_leaf=0.0, n_estimators=100,\n",
              "                           n_iter_no_change=None, presort='deprecated',\n",
              "                           random_state=None, subsample=1.0, tol=0.0001,\n",
              "                           validation_fraction=0.1, verbose=0,\n",
              "                           warm_start=False)"
            ]
          },
          "metadata": {
            "tags": []
          },
          "execution_count": 144
        }
      ]
    },
    {
      "cell_type": "markdown",
      "metadata": {
        "id": "EywUjqCJ2P0E",
        "colab_type": "text"
      },
      "source": [
        "#### 3) Parameter Tuning in Gradient Boosting\n",
        "\n",
        "The overall parameters of Gradient Boosting model can be divided into 3 categories:\n",
        "(https://www.analyticsvidhya.com/blog/2016/02/complete-guide-parameter-tuning-gradient-boosting-gbm-python/) \n",
        "\n",
        "* Tree-Specific Parameters: These affect each individual tree in the model.\n",
        "* Boosting Parameters: These affect the boosting operation in the model.\n",
        "* Miscellaneous Parameters: Other parameters for overall functioning.\n",
        "\n",
        "Most data scientist see number of trees, tree depth and the learning rate as most crucial parameters. We will start off with the n_estimators, ans then move to learning_rate, and max_depth.\n",
        "\n",
        "We did many rounds of tuning parameter, but we cannot get the results after it run many hours. Therefore, we'll only tune these 3 parameters.\n",
        "\n",
        "https://www.datacareer.ch/blog/parameter-tuning-in-gradient-boosting-gbm-with-python/\n",
        "\n",
        "**a) Tuning n_estimators:**\n",
        "\n",
        "The n_estimators captures the number of trees that we add to the model. \n"
      ]
    },
    {
      "cell_type": "code",
      "metadata": {
        "id": "c8jsKRgXEB9I",
        "colab_type": "code",
        "colab": {
          "base_uri": "https://localhost:8080/",
          "height": 530
        },
        "outputId": "0edcd845-b4fc-4b8d-d3f1-36132e005f7f"
      },
      "source": [
        "# 1. Creating the hyperparameter grid - n_estimators.\n",
        "gbc = GradientBoostingClassifier()\n",
        "parameters01 = {\n",
        "    \"n_estimators\":[100,250,500]\n",
        "}\n",
        "\n",
        "# Use the RandomizedSearchCV() for the cross -validation\n",
        "from sklearn.model_selection import RandomizedSearchCV \n",
        "\n",
        "tuned_gb01 = RandomizedSearchCV(gbc,parameters01,cv=2,random_state=0)\n",
        "tuned_gb01.fit(X_train_new,y_train.values.ravel())\n"
      ],
      "execution_count": null,
      "outputs": [
        {
          "output_type": "stream",
          "text": [
            "/usr/local/lib/python3.6/dist-packages/sklearn/model_selection/_search.py:281: UserWarning: The total space of parameters 3 is smaller than n_iter=10. Running 3 iterations. For exhaustive searches, use GridSearchCV.\n",
            "  % (grid_size, self.n_iter, grid_size), UserWarning)\n"
          ],
          "name": "stderr"
        },
        {
          "output_type": "execute_result",
          "data": {
            "text/plain": [
              "RandomizedSearchCV(cv=5, error_score=nan,\n",
              "                   estimator=GradientBoostingClassifier(ccp_alpha=0.0,\n",
              "                                                        criterion='friedman_mse',\n",
              "                                                        init=None,\n",
              "                                                        learning_rate=0.1,\n",
              "                                                        loss='deviance',\n",
              "                                                        max_depth=3,\n",
              "                                                        max_features=None,\n",
              "                                                        max_leaf_nodes=None,\n",
              "                                                        min_impurity_decrease=0.0,\n",
              "                                                        min_impurity_split=None,\n",
              "                                                        min_samples_leaf=1,\n",
              "                                                        min_samples_split=2,\n",
              "                                                        min_weight_fraction_leaf=0.0,\n",
              "                                                        n_estimators=100,\n",
              "                                                        n_iter_no_change=None,\n",
              "                                                        presort='deprecated',\n",
              "                                                        random_state=None,\n",
              "                                                        subsample=1.0,\n",
              "                                                        tol=0.0001,\n",
              "                                                        validation_fraction=0.1,\n",
              "                                                        verbose=0,\n",
              "                                                        warm_start=False),\n",
              "                   iid='deprecated', n_iter=10, n_jobs=None,\n",
              "                   param_distributions={'n_estimators': [100, 250, 500]},\n",
              "                   pre_dispatch='2*n_jobs', random_state=0, refit=True,\n",
              "                   return_train_score=False, scoring=None, verbose=0)"
            ]
          },
          "metadata": {
            "tags": []
          },
          "execution_count": 44
        }
      ]
    },
    {
      "cell_type": "code",
      "metadata": {
        "id": "3e9x1uzpEhMM",
        "colab_type": "code",
        "colab": {
          "base_uri": "https://localhost:8080/",
          "height": 51
        },
        "outputId": "c206c80e-ab69-49f4-8e88-9ddde8ba20d4"
      },
      "source": [
        "# Print the tuned parameters and score \n",
        "print(\"Tuned Gradient Boosting Parameter: {}\".format(tuned_gb01.best_params_)) \n",
        "print(\"Best score is {}\".format(tuned_gb01.best_score_)) \n"
      ],
      "execution_count": null,
      "outputs": [
        {
          "output_type": "stream",
          "text": [
            "Tuned Gradient Boosting Parameter: {'n_estimators': 500}\n",
            "Best score is 0.7434624956988601\n"
          ],
          "name": "stdout"
        }
      ]
    },
    {
      "cell_type": "markdown",
      "metadata": {
        "id": "tCFwtjnQ8IJQ",
        "colab_type": "text"
      },
      "source": [
        "**b) Tuning Learning rate:**\n",
        "\n",
        "The learning rate shrinks the contribution of each tree by learning_rate.\n"
      ]
    },
    {
      "cell_type": "code",
      "metadata": {
        "id": "SO7MBZz761yi",
        "colab_type": "code",
        "colab": {
          "base_uri": "https://localhost:8080/",
          "height": 51
        },
        "outputId": "32f59e8d-0c0b-4a95-bf57-666a40a1c908"
      },
      "source": [
        "# 2. Creating the hyperparameter grid - learning_rate.\n",
        "gbc02 = GradientBoostingClassifier(n_estimators=500)\n",
        "parameters02 = {\n",
        "    \"learning_rate\":[0.01,0.1,1]\n",
        "}\n",
        "\n",
        "# Use the RandomizedSearchCV() for the cross -validation\n",
        "from sklearn.model_selection import RandomizedSearchCV \n",
        "\n",
        "tuned_gb02 = RandomizedSearchCV(gbc02,parameters02,cv=5,random_state=0)\n",
        "tuned_gb02.fit(X_train_new,y_train.values.ravel())\n",
        "\n",
        "# Print the tuned parameters and score \n",
        "print(\"Tuned Gradient Boosting Parameter: {}\".format(tuned_gb02.best_params_)) \n",
        "print(\"Best score is {}\".format(tuned_gb02.best_score_)) "
      ],
      "execution_count": null,
      "outputs": [
        {
          "output_type": "stream",
          "text": [
            "Tuned Gradient Boosting Parameter: {'learning_rate': 0.1}\n",
            "Best score is 0.7409123946398728\n"
          ],
          "name": "stdout"
        }
      ]
    },
    {
      "cell_type": "markdown",
      "metadata": {
        "id": "4GjKZpak8yDb",
        "colab_type": "text"
      },
      "source": [
        "**c) Tuning max_depth:**\n",
        "\n",
        "The max_depth bounds the maximum depth of the tree. "
      ]
    },
    {
      "cell_type": "code",
      "metadata": {
        "id": "Sf280O7s9lf7",
        "colab_type": "code",
        "colab": {
          "base_uri": "https://localhost:8080/",
          "height": 51
        },
        "outputId": "ba9b279b-b94d-4d0f-aec6-43647a3f7a11"
      },
      "source": [
        "# 3. Creating the hyperparameter grid - max_depth.\n",
        "gbc03 = GradientBoostingClassifier(n_estimators=500, learning_rate=0.1)\n",
        "parameters03 = {\n",
        "    \"max_depth\":[2,3,4]\n",
        "}\n",
        "\n",
        "tuned_gb03 = RandomizedSearchCV(gbc03,parameters03,cv=5,random_state=0)\n",
        "tuned_gb03.fit(X_train_new,y_train.values.ravel())\n",
        "\n",
        "# Print the tuned parameters and score \n",
        "print(\"Tuned Gradient Boosting Parameter: {}\".format(tuned_gb03.best_params_)) \n",
        "print(\"Best score is {}\".format(tuned_gb03.best_score_)) "
      ],
      "execution_count": null,
      "outputs": [
        {
          "output_type": "stream",
          "text": [
            "Tuned Gradient Boosting Parameter: {'max_depth': 4}\n",
            "Best score is 0.7439957000154609\n"
          ],
          "name": "stdout"
        }
      ]
    },
    {
      "cell_type": "markdown",
      "metadata": {
        "id": "DMyLEBmg_cbI",
        "colab_type": "text"
      },
      "source": [
        "From the results above, the max_depth of the tuned Gradient Boosting model has changed from 3 to 4. The 'n_estimators' has changed from 100 to 500. But the learning_rate didn't change and keep the same as the learning_rate of the base model(0.1)."
      ]
    },
    {
      "cell_type": "code",
      "metadata": {
        "id": "Jirla2f7_OY0",
        "colab_type": "code",
        "colab": {
          "base_uri": "https://localhost:8080/",
          "height": 187
        },
        "outputId": "4a17fec2-5625-4521-9cc6-96437bbc9312"
      },
      "source": [
        "# tuned Gradient Boosting model:\n",
        "tuned_gb = GradientBoostingClassifier(random_state = 0, n_estimators = 500, max_depth=4, learning_rate=0.1)\n",
        "tuned_gb.fit(X_train_new, y_train)\n"
      ],
      "execution_count": null,
      "outputs": [
        {
          "output_type": "execute_result",
          "data": {
            "text/plain": [
              "GradientBoostingClassifier(ccp_alpha=0.0, criterion='friedman_mse', init=None,\n",
              "                           learning_rate=0.1, loss='deviance', max_depth=4,\n",
              "                           max_features=None, max_leaf_nodes=None,\n",
              "                           min_impurity_decrease=0.0, min_impurity_split=None,\n",
              "                           min_samples_leaf=1, min_samples_split=2,\n",
              "                           min_weight_fraction_leaf=0.0, n_estimators=500,\n",
              "                           n_iter_no_change=None, presort='deprecated',\n",
              "                           random_state=0, subsample=1.0, tol=0.0001,\n",
              "                           validation_fraction=0.1, verbose=0,\n",
              "                           warm_start=False)"
            ]
          },
          "metadata": {
            "tags": []
          },
          "execution_count": 24
        }
      ]
    },
    {
      "cell_type": "markdown",
      "metadata": {
        "id": "mhzRCwPeCRCD",
        "colab_type": "text"
      },
      "source": [
        "#### 4) Gradient Boosting Model Evaluation on training set\n"
      ]
    },
    {
      "cell_type": "code",
      "metadata": {
        "id": "h8Hj_G4QCAll",
        "colab_type": "code",
        "colab": {
          "base_uri": "https://localhost:8080/",
          "height": 68
        },
        "outputId": "83197066-8ada-4bdf-cfd9-b51d7054deb2"
      },
      "source": [
        "# base Gradient Boosting model:\n",
        "cross_val_score_multilabel (base_gb, X_train_new, y_train)"
      ],
      "execution_count": null,
      "outputs": [
        {
          "output_type": "stream",
          "text": [
            "Model Mean Accuracy (training set):0.7408660285798289 \n",
            "Macro Recall (training set):0.7219254684180936 \n",
            "Macro F1 score s(training set):0.7252224848785971 \n"
          ],
          "name": "stdout"
        }
      ]
    },
    {
      "cell_type": "code",
      "metadata": {
        "id": "OBbR1-i2DWMl",
        "colab_type": "code",
        "colab": {
          "base_uri": "https://localhost:8080/",
          "height": 68
        },
        "outputId": "8ff5735f-1617-441d-e19d-a80cf5796bea"
      },
      "source": [
        "# Tuned Gradient Boosting model:\n",
        "cross_val_score_multilabel (tuned_gb, X_train_new, y_train)"
      ],
      "execution_count": null,
      "outputs": [
        {
          "output_type": "stream",
          "text": [
            "Model Mean Accuracy (training set):0.7433002332973765 \n",
            "Macro Recall (training set):0.7245572558846568 \n",
            "Macro F1 score s(training set):0.7279518263384455 \n"
          ],
          "name": "stdout"
        }
      ]
    },
    {
      "cell_type": "markdown",
      "metadata": {
        "id": "9KKBTvFpEJiw",
        "colab_type": "text"
      },
      "source": [
        "**Gradient Boosting Model Evaluation Results:**\n",
        "\n",
        "As shown below, the tuned Gradient Boosting model has higher Macro F1 and recall scores, and the acuracy score is higher than the null error rate. Therefore, we prefer the tuned Model for Gradient Boosting.\n",
        "\n",
        "| Metric        | Base Gradient Boosting Model  | Tuned Gradient Boosting Model\n",
        "| ------------- | ------- | ------- | \n",
        "| # Indep. Vars |  5     |   5     |   \n",
        "| The Accuracy of the model  | 0.741  | 0.743 |\n",
        "| Macro F1 Score      | 0.725  |0.728 |  \n",
        "| Macro Recall           |0.722 | 0.725 |\n",
        "\n"
      ]
    },
    {
      "cell_type": "markdown",
      "metadata": {
        "id": "y9VcRRC1EoeR",
        "colab_type": "text"
      },
      "source": [
        "### 5.5 Stochastic Gradient Descent Classifier\n",
        "\n",
        "#### 1) Check default hyperparameters of Stochastic Gradient Descent model"
      ]
    },
    {
      "cell_type": "code",
      "metadata": {
        "id": "UmW0pH24IQ9u",
        "colab_type": "code",
        "colab": {
          "base_uri": "https://localhost:8080/",
          "height": 408
        },
        "outputId": "778344ad-c7cf-4e3a-d890-ea86f3da3112"
      },
      "source": [
        "# print all the default parameters in the Stochastic Gradient Descent model\n",
        "from sklearn.linear_model import SGDClassifier\n",
        "sgd01 = SGDClassifier()\n",
        "\n",
        "from pprint import pprint\n",
        "# Look at default parameters \n",
        "print('Parameters currently in use:\\n')\n",
        "pprint(sgd01.get_params())\n"
      ],
      "execution_count": null,
      "outputs": [
        {
          "output_type": "stream",
          "text": [
            "Parameters currently in use:\n",
            "\n",
            "{'alpha': 0.0001,\n",
            " 'average': False,\n",
            " 'class_weight': None,\n",
            " 'early_stopping': False,\n",
            " 'epsilon': 0.1,\n",
            " 'eta0': 0.0,\n",
            " 'fit_intercept': True,\n",
            " 'l1_ratio': 0.15,\n",
            " 'learning_rate': 'optimal',\n",
            " 'loss': 'hinge',\n",
            " 'max_iter': 1000,\n",
            " 'n_iter_no_change': 5,\n",
            " 'n_jobs': None,\n",
            " 'penalty': 'l2',\n",
            " 'power_t': 0.5,\n",
            " 'random_state': None,\n",
            " 'shuffle': True,\n",
            " 'tol': 0.001,\n",
            " 'validation_fraction': 0.1,\n",
            " 'verbose': 0,\n",
            " 'warm_start': False}\n"
          ],
          "name": "stdout"
        }
      ]
    },
    {
      "cell_type": "markdown",
      "metadata": {
        "id": "Aqevd46uJTYg",
        "colab_type": "text"
      },
      "source": [
        "#### 2) Define and Train the Base Model with default hyperparameters"
      ]
    },
    {
      "cell_type": "code",
      "metadata": {
        "id": "W7SiCsmwJhLG",
        "colab_type": "code",
        "colab": {
          "base_uri": "https://localhost:8080/",
          "height": 119
        },
        "outputId": "9207884f-8a83-4c19-bbbb-98a7b2ed92ad"
      },
      "source": [
        "# base model\n",
        "base_sgd = SGDClassifier()\n",
        "base_sgd.fit(X_train_new, y_train)"
      ],
      "execution_count": null,
      "outputs": [
        {
          "output_type": "execute_result",
          "data": {
            "text/plain": [
              "SGDClassifier(alpha=0.0001, average=False, class_weight=None,\n",
              "              early_stopping=False, epsilon=0.1, eta0=0.0, fit_intercept=True,\n",
              "              l1_ratio=0.15, learning_rate='optimal', loss='hinge',\n",
              "              max_iter=1000, n_iter_no_change=5, n_jobs=None, penalty='l2',\n",
              "              power_t=0.5, random_state=None, shuffle=True, tol=0.001,\n",
              "              validation_fraction=0.1, verbose=0, warm_start=False)"
            ]
          },
          "metadata": {
            "tags": []
          },
          "execution_count": 37
        }
      ]
    },
    {
      "cell_type": "markdown",
      "metadata": {
        "id": "uJUmuG56Jico",
        "colab_type": "text"
      },
      "source": [
        "#### 3) Use `RandomizedSearchCV` for optimizing parameters\n",
        "\n",
        "We'll tune the following parameters:\n",
        "\n",
        "loss: the concrete loss function can be set via the loss parameter. SGDClassifier supports the following loss functions:\n",
        "loss=\"hinge\": (soft-margin) linear Support Vector Machine,\n",
        "loss=\"modified_huber\": smoothed hinge loss,\n",
        "loss=\"log\": logistic regression;\n",
        "\n",
        "penalty: the concrete penalty can be set via the penalty parameter. SGD supports the following penalties:\n",
        "penalty=\"l2\": L2 norm penalty on coef_.\n",
        "penalty=\"l1\": L1 norm penalty on coef_.\n",
        "penalty=\"elasticnet\": Convex combination of L2 and L1;\n",
        "\n",
        "alpha: constant that multiplies the regularization term. The higher the value, the stronger the regularization. \n",
        "\n",
        "learning_rate, class_weight, and eta0."
      ]
    },
    {
      "cell_type": "code",
      "metadata": {
        "id": "QMs1TN2pH2k6",
        "colab_type": "code",
        "colab": {}
      },
      "source": [
        "# https://towardsdatascience.com/hyperparameter-tuning-c5619e7e6624\n",
        "\n",
        "loss = ['hinge', 'log', 'modified_huber', 'squared_hinge', 'perceptron']\n",
        "penalty = ['l1', 'l2', 'elasticnet']\n",
        "alpha = [0.0001, 0.001, 0.01, 0.1, 1, 10, 100, 1000]\n",
        "learning_rate = ['constant', 'optimal', 'invscaling', 'adaptive']\n",
        "class_weight = [{1:0.5, 0:0.5}, {1:0.4, 0:0.6}, {1:0.6, 0:0.4}, {1:0.7, 0:0.3}]\n",
        "eta0 = [1, 10, 100]\n",
        "\n",
        "param_distributions = dict(loss=loss,\n",
        "                           penalty=penalty,\n",
        "                           alpha=alpha,\n",
        "                           learning_rate=learning_rate,\n",
        "                           class_weight=class_weight,\n",
        "                           eta0=eta0)"
      ],
      "execution_count": null,
      "outputs": []
    },
    {
      "cell_type": "code",
      "metadata": {
        "id": "uHKt-cocuBLt",
        "colab_type": "code",
        "colab": {
          "base_uri": "https://localhost:8080/",
          "height": 71
        },
        "outputId": "f9d4d0c9-56a2-491d-d7b8-a9a67a70ab2c"
      },
      "source": [
        "# Use the RandomizedSearchCV() for the cross -validation\n",
        "from sklearn.model_selection import RandomizedSearchCV \n",
        "\n",
        "sgd02 = SGDClassifier()\n",
        "\n",
        "tuned_sgd = RandomizedSearchCV(sgd02,param_distributions,cv=3,random_state=0)\n",
        "tuned_sgd.fit(X_train_new,y_train.values.ravel())\n",
        "\n",
        "# Print the tuned parameters and score \n",
        "print(\"Tuned Stochastic Gradient Descent Parameter: {}\".format(tuned_sgd.best_params_)) \n",
        "print(\"Best score is {}\".format(tuned_sgd.best_score_)) "
      ],
      "execution_count": null,
      "outputs": [
        {
          "output_type": "stream",
          "text": [
            "Tuned Gradient Boosting Parameter: {'penalty': 'l1', 'loss': 'hinge', 'learning_rate': 'adaptive', 'eta0': 100, 'class_weight': {1: 0.7, 0: 0.3}, 'alpha': 0.0001}\n",
            "Best score is 0.560390924768564\n"
          ],
          "name": "stdout"
        }
      ]
    },
    {
      "cell_type": "code",
      "metadata": {
        "id": "irSd5RfCv3oB",
        "colab_type": "code",
        "colab": {
          "base_uri": "https://localhost:8080/",
          "height": 119
        },
        "outputId": "cdebd828-4292-49c1-df6a-6d1b3bdac35b"
      },
      "source": [
        "# tuned sgd model:\n",
        "tuned_sgd02 = SGDClassifier(alpha=0.0001, average=False, class_weight={1: 0.7, 0: 0.3},\n",
        "              early_stopping=False, epsilon=0.1, eta0=100, fit_intercept=True,\n",
        "              l1_ratio=0.15, learning_rate='adaptive', loss='hinge',\n",
        "              max_iter=1000, n_iter_no_change=5, n_jobs=None, penalty='l1',\n",
        "              power_t=0.5, random_state=None, shuffle=True, tol=0.001,\n",
        "              validation_fraction=0.1, verbose=0, warm_start=False)\n",
        "\n",
        "tuned_sgd02.fit(X_train_new,y_train.values.ravel())"
      ],
      "execution_count": null,
      "outputs": [
        {
          "output_type": "execute_result",
          "data": {
            "text/plain": [
              "SGDClassifier(alpha=0.0001, average=False, class_weight={0: 0.3, 1: 0.7},\n",
              "              early_stopping=False, epsilon=0.1, eta0=100, fit_intercept=True,\n",
              "              l1_ratio=0.15, learning_rate='adaptive', loss='hinge',\n",
              "              max_iter=1000, n_iter_no_change=5, n_jobs=None, penalty='l1',\n",
              "              power_t=0.5, random_state=None, shuffle=True, tol=0.001,\n",
              "              validation_fraction=0.1, verbose=0, warm_start=False)"
            ]
          },
          "metadata": {
            "tags": []
          },
          "execution_count": 43
        }
      ]
    },
    {
      "cell_type": "markdown",
      "metadata": {
        "id": "nhkF0_Iiu6Ga",
        "colab_type": "text"
      },
      "source": [
        "#### 4) Stochastic Gradient Descent Model Evaluation on training set"
      ]
    },
    {
      "cell_type": "code",
      "metadata": {
        "id": "O8PPoCkuugUw",
        "colab_type": "code",
        "colab": {
          "base_uri": "https://localhost:8080/",
          "height": 68
        },
        "outputId": "84e85b44-c54b-4f49-b8aa-3811d532fd94"
      },
      "source": [
        "# base sgd model:\n",
        "cross_val_score_multilabel (base_sgd, X_train_new, y_train.values.ravel())"
      ],
      "execution_count": null,
      "outputs": [
        {
          "output_type": "stream",
          "text": [
            "Model Mean Accuracy (training set):0.5500976411831212 \n",
            "Macro Recall (training set):0.4086437323844014 \n",
            "Macro F1 score (training set):0.38092172936844365 \n"
          ],
          "name": "stdout"
        }
      ]
    },
    {
      "cell_type": "code",
      "metadata": {
        "id": "25p8jh9Kvg8c",
        "colab_type": "code",
        "colab": {
          "base_uri": "https://localhost:8080/",
          "height": 68
        },
        "outputId": "a0451238-1ea5-4976-9e06-ee2d98511dc2"
      },
      "source": [
        "# tuned sgd model:\n",
        "cross_val_score_multilabel (tuned_sgd02, X_train_new, y_train.values.ravel())"
      ],
      "execution_count": null,
      "outputs": [
        {
          "output_type": "stream",
          "text": [
            "Model Mean Accuracy (training set):0.5460396194436298 \n",
            "Macro Recall (training set):0.4574410809939403 \n",
            "Macro F1 score (training set):0.42375959497218263 \n"
          ],
          "name": "stdout"
        }
      ]
    },
    {
      "cell_type": "markdown",
      "metadata": {
        "id": "dy22ZgxOFLpZ",
        "colab_type": "text"
      },
      "source": [
        "**Stochastic Gradient Descent Model Evaluation Results:**\n",
        "\n",
        "From the table below, the tuned Stochastic Gradient Descent Model performed better than the base model. The accuacy is higher than the null error rate. We'll pick the tuned model as the best Stochastic Gradient Descent Model.\n",
        "\n",
        "| Metric        | Base Stochastic Gradient Descent Model  | Tuned Stochastic Gradient Descent Model\n",
        "| ------------- | ------- | ------- | \n",
        "| # Indep. Vars |  5     |   5     |   \n",
        "| The Accuracy of the model  | 0.55  | 0.546 |\n",
        "| Macro F1 Score      | 0.38  |0.424|  \n",
        "| Macro Recall           |0.409 | 0.457 |"
      ]
    },
    {
      "cell_type": "markdown",
      "metadata": {
        "id": "moLz_7EcxhEk",
        "colab_type": "text"
      },
      "source": [
        "### 5.6 XG Boost Classifier\n",
        "XG Boost is the famous Kaggle winning package. \n",
        "\n",
        "#### 1) Check default hyperparameters of Stochastic Gradient Descent model"
      ]
    },
    {
      "cell_type": "code",
      "metadata": {
        "id": "MirfFjnWxTBt",
        "colab_type": "code",
        "colab": {
          "base_uri": "https://localhost:8080/",
          "height": 442
        },
        "outputId": "fe4aa188-8753-4646-c9f7-703b2505b9eb"
      },
      "source": [
        "from xgboost import XGBClassifier\n",
        "\n",
        "xgb01 = XGBClassifier()\n",
        "\n",
        "from pprint import pprint\n",
        "# Look at default parameters \n",
        "print('Parameters currently in use:\\n')\n",
        "pprint(xgb01.get_params())\n"
      ],
      "execution_count": null,
      "outputs": [
        {
          "output_type": "stream",
          "text": [
            "Parameters currently in use:\n",
            "\n",
            "{'base_score': 0.5,\n",
            " 'booster': 'gbtree',\n",
            " 'colsample_bylevel': 1,\n",
            " 'colsample_bynode': 1,\n",
            " 'colsample_bytree': 1,\n",
            " 'gamma': 0,\n",
            " 'learning_rate': 0.1,\n",
            " 'max_delta_step': 0,\n",
            " 'max_depth': 3,\n",
            " 'min_child_weight': 1,\n",
            " 'missing': None,\n",
            " 'n_estimators': 100,\n",
            " 'n_jobs': 1,\n",
            " 'nthread': None,\n",
            " 'objective': 'binary:logistic',\n",
            " 'random_state': 0,\n",
            " 'reg_alpha': 0,\n",
            " 'reg_lambda': 1,\n",
            " 'scale_pos_weight': 1,\n",
            " 'seed': None,\n",
            " 'silent': None,\n",
            " 'subsample': 1,\n",
            " 'verbosity': 1}\n"
          ],
          "name": "stdout"
        }
      ]
    },
    {
      "cell_type": "markdown",
      "metadata": {
        "id": "67n10MOf1VQb",
        "colab_type": "text"
      },
      "source": [
        "####2) Define and Train the Base Model with default hyperparameters"
      ]
    },
    {
      "cell_type": "code",
      "metadata": {
        "id": "9rD_jBbU0noE",
        "colab_type": "code",
        "colab": {
          "base_uri": "https://localhost:8080/",
          "height": 136
        },
        "outputId": "50017ad8-85b2-4e0a-fd31-53a26ae952bd"
      },
      "source": [
        "# base XGB model\n",
        "base_xgb = XGBClassifier()\n",
        "base_xgb.fit(X_train_new, y_train)"
      ],
      "execution_count": null,
      "outputs": [
        {
          "output_type": "execute_result",
          "data": {
            "text/plain": [
              "XGBClassifier(base_score=0.5, booster='gbtree', colsample_bylevel=1,\n",
              "              colsample_bynode=1, colsample_bytree=1, gamma=0,\n",
              "              learning_rate=0.1, max_delta_step=0, max_depth=3,\n",
              "              min_child_weight=1, missing=None, n_estimators=100, n_jobs=1,\n",
              "              nthread=None, objective='multi:softprob', random_state=0,\n",
              "              reg_alpha=0, reg_lambda=1, scale_pos_weight=1, seed=None,\n",
              "              silent=None, subsample=1, verbosity=1)"
            ]
          },
          "metadata": {
            "tags": []
          },
          "execution_count": 51
        }
      ]
    },
    {
      "cell_type": "markdown",
      "metadata": {
        "id": "GNex-Rwr1y0s",
        "colab_type": "text"
      },
      "source": [
        "#### 3) Use `RandomizedSearchCV` for optimizing parameters\n"
      ]
    },
    {
      "cell_type": "code",
      "metadata": {
        "id": "agLpE0dtGJ9A",
        "colab_type": "code",
        "colab": {}
      },
      "source": [
        "# https://gist.github.com/wrwr/3f6b66bf4ee01bf48be965f60d14454d\n",
        "\n",
        "xgb02 = XGBClassifier()\n",
        "\n",
        "param_grid = {\n",
        "        'silent': [False],\n",
        "        'max_depth': [6, 10, 15, 20],\n",
        "        'learning_rate': [0.001, 0.01, 0.1, 0.2, 0,3],\n",
        "        'subsample': [0.5, 0.6, 0.7, 0.8, 0.9, 1.0],\n",
        "        'colsample_bytree': [0.4, 0.5, 0.6, 0.7, 0.8, 0.9, 1.0],\n",
        "        'colsample_bylevel': [0.4, 0.5, 0.6, 0.7, 0.8, 0.9, 1.0],\n",
        "        'min_child_weight': [0.5, 1.0, 3.0, 5.0, 7.0, 10.0],\n",
        "        'gamma': [0, 0.25, 0.5, 1.0],\n",
        "        'reg_lambda': [0.1, 1.0, 5.0, 10.0, 50.0, 100.0],\n",
        "        'n_estimators': [100]}\n",
        "\n",
        "tuned_xgb = RandomizedSearchCV(xgb02, param_grid, n_iter=20,\n",
        "                            n_jobs=1, verbose=2, cv=2,random_state=0)\n",
        "\n",
        "tuned_xgb.fit(X_train_new, y_train)"
      ],
      "execution_count": null,
      "outputs": []
    },
    {
      "cell_type": "code",
      "metadata": {
        "id": "xJP8YxBzGASd",
        "colab_type": "code",
        "colab": {
          "base_uri": "https://localhost:8080/",
          "height": 221
        },
        "outputId": "71a57e8c-87a2-4586-8dd4-e34c7a757bec"
      },
      "source": [
        "best_score = tuned_xgb.best_score_\n",
        "best_params = tuned_xgb.best_params_\n",
        "print(\"Best score: {}\".format(best_score))\n",
        "print(\"Best params: \")\n",
        "for param_name in sorted(best_params.keys()):\n",
        "    print('%s: %r' % (param_name, best_params[param_name]))"
      ],
      "execution_count": null,
      "outputs": [
        {
          "output_type": "stream",
          "text": [
            "Best score: 0.7398460682492582\n",
            "Best params: \n",
            "colsample_bylevel: 0.6\n",
            "colsample_bytree: 0.8\n",
            "gamma: 0\n",
            "learning_rate: 0.01\n",
            "max_depth: 15\n",
            "min_child_weight: 0.5\n",
            "n_estimators: 100\n",
            "reg_lambda: 10.0\n",
            "silent: False\n",
            "subsample: 0.7\n"
          ],
          "name": "stdout"
        }
      ]
    },
    {
      "cell_type": "code",
      "metadata": {
        "id": "n1XV3NsZ7Ytn",
        "colab_type": "code",
        "colab": {
          "base_uri": "https://localhost:8080/",
          "height": 136
        },
        "outputId": "e506ccf4-6f9a-4621-f943-d4cee38f843b"
      },
      "source": [
        "# tuned xgb model:\n",
        "tuned_xgb02 = XGBClassifier(base_score=0.5, booster='gbtree', colsample_bylevel=0.6,\n",
        "              colsample_bynode=1, colsample_bytree=0.8, gamma=0,\n",
        "              learning_rate=0.01, max_delta_step=0, max_depth=15,\n",
        "              min_child_weight=0.5, missing=None, n_estimators=100, n_jobs=1,\n",
        "              nthread=None, objective='multi:softprob', random_state=0,\n",
        "              reg_alpha=0, reg_lambda=10, scale_pos_weight=1, seed=None,\n",
        "              silent=False, subsample=0.7, verbosity=1)\n",
        "\n",
        "tuned_xgb02.fit(X_train_new,y_train.values.ravel())"
      ],
      "execution_count": null,
      "outputs": [
        {
          "output_type": "execute_result",
          "data": {
            "text/plain": [
              "XGBClassifier(base_score=0.5, booster='gbtree', colsample_bylevel=0.6,\n",
              "              colsample_bynode=1, colsample_bytree=0.8, gamma=0,\n",
              "              learning_rate=0.01, max_delta_step=0, max_depth=15,\n",
              "              min_child_weight=0.5, missing=None, n_estimators=100, n_jobs=1,\n",
              "              nthread=None, objective='multi:softprob', random_state=0,\n",
              "              reg_alpha=0, reg_lambda=10, scale_pos_weight=1, seed=None,\n",
              "              silent=False, subsample=0.7, verbosity=1)"
            ]
          },
          "metadata": {
            "tags": []
          },
          "execution_count": 55
        }
      ]
    },
    {
      "cell_type": "markdown",
      "metadata": {
        "id": "O51U8X3U_uxf",
        "colab_type": "text"
      },
      "source": [
        "#### 4) XG Boost Model Evaluation on training set"
      ]
    },
    {
      "cell_type": "code",
      "metadata": {
        "id": "Us_vySxF_d1h",
        "colab_type": "code",
        "colab": {
          "base_uri": "https://localhost:8080/",
          "height": 68
        },
        "outputId": "cf9d8198-4d2f-487b-fa9f-6bcaa5f4fb4a"
      },
      "source": [
        "# base xgb model:\n",
        "cross_val_score_multilabel (base_xgb, X_train_new, y_train.values.ravel())"
      ],
      "execution_count": null,
      "outputs": [
        {
          "output_type": "stream",
          "text": [
            "Model Mean Accuracy (training set):0.7396141879498865 \n",
            "Macro Recall (training set):0.7178202408737315 \n",
            "Macro F1 score (training set):0.7205363051776252 \n"
          ],
          "name": "stdout"
        }
      ]
    },
    {
      "cell_type": "code",
      "metadata": {
        "id": "CsMh94RIA3o2",
        "colab_type": "code",
        "colab": {
          "base_uri": "https://localhost:8080/",
          "height": 68
        },
        "outputId": "40c9db99-804e-4668-c8b9-398a997a1c41"
      },
      "source": [
        "# tuned xgb model:\n",
        "cross_val_score_multilabel (tuned_xgb02, X_train_new, y_train.values.ravel())"
      ],
      "execution_count": null,
      "outputs": [
        {
          "output_type": "stream",
          "text": [
            "Model Mean Accuracy (training set):0.7427669833025756 \n",
            "Macro Recall (training set):0.7191319646117815 \n",
            "Macro F1 score (training set):0.7250750375613391 \n"
          ],
          "name": "stdout"
        }
      ]
    },
    {
      "cell_type": "markdown",
      "metadata": {
        "id": "IyabopXpFwYV",
        "colab_type": "text"
      },
      "source": [
        "**XG Boost Model Evaluation Results:**\n",
        "\n",
        "From the table below, the tuned XG Boost Model performed better than the base model. The accuacy is higher than the null error rate. We'll pick the tuned model as the best XG Boost Model.\n",
        "\n",
        "| Metric        | Base XG Boost Model  | Tuned XG Boost Model\n",
        "| ------------- | ------- | ------- | \n",
        "| # Indep. Vars |  5     |   5     |   \n",
        "| The Accuracy of the model  | 0.7396  | 0.7428 |\n",
        "| Macro F1 Score      | 0.72  |0.725|  \n",
        "| Macro Recall           |0.7178 | 0.7191 |"
      ]
    },
    {
      "cell_type": "markdown",
      "metadata": {
        "id": "MszItITgc1Cq",
        "colab_type": "text"
      },
      "source": [
        "### 5.7 Compare Models\n",
        "\n",
        "\n",
        "| Metric        | Tuned Decision Tree Model| Tuned Random Forest Model | Tuned Gradient Boosting Model  | Tuned Stochastic Gradient Descent Model  | Tuned XG Boost Model \n",
        "| -------------  | ------- |  ------- | ------- | ------- | ------- | \n",
        "| # Indep. Vars |  5     |   5     |   5     |   5     |  5  |\n",
        "| The Accuracy of the model  | 0.709 | 0.738 | 0.743  |  0.546 | 0.7428 |\n",
        "| Macro F1 Score      | 0.653  |0.714 |  0.728 | 0.424| 0.725|  \n",
        "| Macro Recall           |0.65 | 0.713 | 0.725 | 0.457 | 0.7191 |\n"
      ]
    },
    {
      "cell_type": "markdown",
      "metadata": {
        "id": "1sCU7r-lmlbT",
        "colab_type": "text"
      },
      "source": [
        "**Results:**\n",
        "\n",
        "The Tuned Gradient Boosting Model\thas the highest accuracy, Macro F1 Score, and recall. The accuracy is higher than the null error rate. Finally, we choose the Tuned Gradient Boosting Model as our final model. \n",
        "\n",
        "#### 5.8 Apply the final preferred model to the testing subset:\n",
        "\n",
        "Since this is a multi-class classification, we'll use `multilabel_confusion_matrix` to compute a confusion matrix for each class. "
      ]
    },
    {
      "cell_type": "code",
      "metadata": {
        "id": "mdmd1ufPCJVB",
        "colab_type": "code",
        "colab": {}
      },
      "source": [
        "#predict on the testing set\n",
        "y_pred_final = tuned_gb.predict(X_test_new)"
      ],
      "execution_count": null,
      "outputs": []
    },
    {
      "cell_type": "code",
      "metadata": {
        "id": "VkOj8hMgnfiU",
        "colab_type": "code",
        "colab": {
          "base_uri": "https://localhost:8080/",
          "height": 510
        },
        "outputId": "814e64c5-03f9-457b-ee2f-24325c9614ee"
      },
      "source": [
        "from sklearn.metrics import classification_report\n",
        "from sklearn.metrics import multilabel_confusion_matrix\n",
        "\n",
        "print(\"Gradient Boosting Model Tuned model:\")\n",
        "mcm01 = multilabel_confusion_matrix(y_test, y_pred_final)\n",
        "print(\"Multi-label Confusion Matrix\\n{}\".format(mcm01))\n",
        "print(\"Classification Report\")\n",
        "print(classification_report(y_test, y_pred_final))"
      ],
      "execution_count": null,
      "outputs": [
        {
          "output_type": "stream",
          "text": [
            "Gradient Boosting Model Tuned model:\n",
            "Multi-label Confusion Matrix\n",
            "[[[10404    40]\n",
            "  [   40   300]]\n",
            "\n",
            " [[ 9609   187]\n",
            "  [  335   653]]\n",
            "\n",
            " [[ 5565   894]\n",
            "  [  345  3980]]\n",
            "\n",
            " [[ 6884  1132]\n",
            "  [  505  2263]]\n",
            "\n",
            " [[ 7945   476]\n",
            "  [ 1504   859]]]\n",
            "Classification Report\n",
            "              precision    recall  f1-score   support\n",
            "\n",
            "           0       0.88      0.88      0.88       340\n",
            "           1       0.78      0.66      0.71       988\n",
            "           2       0.82      0.92      0.87      4325\n",
            "           3       0.67      0.82      0.73      2768\n",
            "           4       0.64      0.36      0.46      2363\n",
            "\n",
            "    accuracy                           0.75     10784\n",
            "   macro avg       0.76      0.73      0.73     10784\n",
            "weighted avg       0.74      0.75      0.73     10784\n",
            "\n"
          ],
          "name": "stdout"
        }
      ]
    },
    {
      "cell_type": "code",
      "metadata": {
        "id": "SadO-gadnqN1",
        "colab_type": "code",
        "colab": {
          "base_uri": "https://localhost:8080/",
          "height": 493
        },
        "outputId": "395625e3-6b36-4eec-b507-3d000a7aea17"
      },
      "source": [
        "#predict on the training set\n",
        "y_pred_train = tuned_gb.predict(X_train_new)\n",
        "\n",
        "mcm02 = multilabel_confusion_matrix(y_train, y_pred_train)\n",
        "print(\"Multi-label Confusion Matrix\\n{}\".format(mcm02))\n",
        "print(\"Classification Report\")\n",
        "print(classification_report(y_train, y_pred_train))"
      ],
      "execution_count": null,
      "outputs": [
        {
          "output_type": "stream",
          "text": [
            "Multi-label Confusion Matrix\n",
            "[[[41851    16]\n",
            "  [   14  1255]]\n",
            "\n",
            " [[38894   328]\n",
            "  [  970  2944]]\n",
            "\n",
            " [[22811  3102]\n",
            "  [ 1104 16119]]\n",
            "\n",
            " [[28094  4030]\n",
            "  [ 1466  9546]]\n",
            "\n",
            " [[32173  1245]\n",
            "  [ 5167  4551]]]\n",
            "Classification Report\n",
            "              precision    recall  f1-score   support\n",
            "\n",
            "           0       0.99      0.99      0.99      1269\n",
            "           1       0.90      0.75      0.82      3914\n",
            "           2       0.84      0.94      0.88     17223\n",
            "           3       0.70      0.87      0.78     11012\n",
            "           4       0.79      0.47      0.59      9718\n",
            "\n",
            "    accuracy                           0.80     43136\n",
            "   macro avg       0.84      0.80      0.81     43136\n",
            "weighted avg       0.80      0.80      0.79     43136\n",
            "\n"
          ],
          "name": "stdout"
        }
      ]
    },
    {
      "cell_type": "markdown",
      "metadata": {
        "id": "wSKzAVhan_pQ",
        "colab_type": "text"
      },
      "source": [
        "**Compare train and test - Gradient Boosting Model Evaluation:**\n",
        "\n",
        "\n",
        "| Metric        | Model used in training set | Model used in testing set|\n",
        "| ------------- | ------- | ------- | \n",
        "| # Indep. Vars |  5     |   5    |     \n",
        "| The Accuracy of the model  | 0.80  | 0.75  | \n",
        "| macro F1 Score      | 0.81  | 0.73  | \n",
        "| macro Recall           |0.80  | 0.73 | \n",
        "\n",
        "\n",
        "\n",
        "From the results above, the Gradient Boosting model performs as well as expected in the testing set. "
      ]
    },
    {
      "cell_type": "markdown",
      "metadata": {
        "id": "Owz8_NSrz12T",
        "colab_type": "text"
      },
      "source": [
        "***\n",
        "## Step 6. Conclusion\n",
        "\n",
        "### Print out the variable importance:"
      ]
    },
    {
      "cell_type": "code",
      "metadata": {
        "id": "9vuzyTaVn6h0",
        "colab_type": "code",
        "colab": {
          "base_uri": "https://localhost:8080/",
          "height": 318
        },
        "outputId": "614a8b6a-3a76-44ae-e45b-2abfc783c3cf"
      },
      "source": [
        "print(tuned_gb.feature_importances_)\n",
        "importances = tuned_gb.feature_importances_\n",
        "indices = np.argsort(importances)\n",
        "features = X_train_new.columns\n",
        "plt.title('Feature Importances')\n",
        "plt.barh(range(len(indices)), importances[indices], color='g', align='center')\n",
        "plt.yticks(range(len(indices)), [features[i] for i in indices])\n",
        "plt.xlabel('Relative Importance')\n",
        "plt.show()"
      ],
      "execution_count": null,
      "outputs": [
        {
          "output_type": "stream",
          "text": [
            "[0.02418438 0.37486024 0.46836936 0.07004702 0.06253899]\n"
          ],
          "name": "stdout"
        },
        {
          "output_type": "display_data",
          "data": {
            "image/png": "[encoded data removed]",
            "text/plain": [
              "<Figure size 432x288 with 1 Axes>"
            ]
          },
          "metadata": {
            "tags": []
          }
        }
      ]
    },
    {
      "cell_type": "markdown",
      "metadata": {
        "id": "B5iOkman3361",
        "colab_type": "text"
      },
      "source": [
        "**Results:**\n",
        "\n",
        "\n",
        "From the plot above, we can see that the most important feature to predict the diamond cut is the diamond table. Next is diamond depth. The diamond carat is the least important feature to make predictions."
      ]
    },
    {
      "cell_type": "code",
      "metadata": {
        "id": "K2I2yNbUKVyj",
        "colab_type": "code",
        "colab": {}
      },
      "source": [
        ""
      ],
      "execution_count": null,
      "outputs": []
    }
  ]
}