{
 "cells": [
  {
   "cell_type": "markdown",
   "metadata": {},
   "source": [
    "# DAV 6150 Project 2\n",
    "-by Group Manling Yang, Xiaojia He, Qi Sun\n",
    "\n",
    "The link of the video: https://screencast-o-matic.com/watch/cYiYexE2rp\n",
    "\n",
    "\n",
    "## 1. Introduction\n",
    "\n",
    "The aim of this study is to segment the site visitors and use SVM to predict if web visitors will make a purchase. \n",
    "\n",
    "The dataset consists of feature vectors belonging to 12,330 sessions.\n",
    "\n",
    "**Attribute Information:**\n",
    "\n",
    "The first dataset consists of 14 numerical, 2 categorical attributes, and 1 boolean variable.\n",
    "The second dataset has one attribute -'Revenue' which is the actual class label. “Revenue” feature indicates whether the visit results in transaction finalization.\n",
    "\n",
    "\"Administrative\", \"Administrative Duration\", \"Informational\", \"Informational Duration\", \"Product Related\" and \"Product Related Duration\" represents the number of different types of pages visited by the visitor in that session and total time spent in each of these page categories. The values of these features are derived from the URL information of the pages visited by the user and updated in real-time when a user takes an action, e.g. moving from one page to another. \n",
    "\n",
    "The \"Bounce Rate\", \"Exit Rate\" and \"Page Value\" features represent the metrics measured by \"Google Analytics\" for each page in the e-commerce site. \n",
    "\n",
    "The value of the \"Bounce Rate\" feature for a web page refers to the percentage of visitors who enter the site from that page and then leave (\"bounce\") without triggering any other requests to the analytics server during that session. \n",
    "\n",
    "The value of the \"Exit Rate\" feature for a specific web page is calculated as for all pageviews to the page, the percentage that was the last in the session. \n",
    "\n",
    "The \"Page Value\" feature represents the average value for a web page that a user visited before completing an e-commerce transaction. \n",
    "\n",
    "The \"Special Day\" feature indicates the closeness of the site visiting time to a specific special day (e.g. Mother’s Day, Valentine's Day) in which the sessions are more likely to be finalized with the transaction. The value of this attribute is determined by considering the dynamics of e-commerce such as the duration between the order date and delivery date. For example, for Valentina’s day, this value takes a nonzero value between February 2 and February 12, zero before and after this date unless it is close to another special day, and its maximum value of 1 on February 8. \n",
    "\n",
    "The dataset also includes the operating system, browser, region, traffic type, visitor type as returning or new visitor, a Boolean value indicating whether the date of the visit is weekend, and month of the year.\n",
    "\n",
    "**Domain Knowledge:**\n",
    "\n",
    "https://pdfs.semanticscholar.org/43ee/b86bf2a9c4171b829703f2f82fac21c80791.pdf\n",
    "\n",
    "| Feature Name  | Feature Description \n",
    "| ------------- | ------- \n",
    "| Administrative |  Number of pages visited by the visitor about account management      \n",
    "| Administrative Duration      | Total amount of time (in seconds) spent by the visitor on account management related pages  \n",
    "| Informational      | Number of pages visited by the visitor about website, communication and address information of the shopping site \n",
    "| Informational Duration  | Total amount of time (in seconds) spent by the visitor on informational pages  \n",
    "| Product Related     | Number of pages visited by a visitor about product-related pages \n",
    "| Product Related Duration   | Total amount of time (in seconds) spent by the visitor on product related pages   \n",
    "| Bounce Rate   | the percentage of visitors who enter the site from that page and then leave (\"bounce\") without triggering any other requests to the analytics server during that session. \n",
    "| Exit Rate      | t is calculated as for all pageviews to the page, the percentage that was the last in the session. \n",
    "| Page Value           | the average value for a web page that a user visited before completing an e-commerce transaction.  \n",
    "| Special Day | Closeness of the site visiting time to a special day\n",
    "\n",
    "\n",
    "The traffic type is website traffic is a number of people who come to your site through various channels. Website traffic is categorized in different types depending on where the users came from. Types of website traffic include: Direct Traffic, Organic Traffic\n",
    "Paid Traffic， Referral Traffic，and Social Media Traffic.\n",
    "https://www.acmethemes.com/blog/types-of-website-traffic/\n",
    "\n",
    "\n",
    "The bounce rate is the percentage of single-page website visits. It tells us what % of the website visitors left after viewing only one page. Naturally, we want this number to be as low as possible. There are a number of factors that could contribute to a high bounce rate. Generally, a high bounce rate could point to the lack of relevant content, usability issues, poor presentation, etc. It should be noted that “single-page” visitors don’t necessarily mean there’s something wrong with your website design and development. A visitor may have come to your site to find your phone number, address, etc. Once they had the information they needed, there was no need to visit another page.\n",
    "https://www.purelybranded.com/insights/top-10-website-analytics-you-should-be-measuring-and-learning-from/\n"
   ]
  },
  {
   "cell_type": "code",
   "execution_count": 3,
   "metadata": {
    "ExecuteTime": {
     "end_time": "2020-07-19T18:02:02.013387Z",
     "start_time": "2020-07-19T18:02:01.192589Z"
    }
   },
   "outputs": [],
   "source": [
    "import pandas as pd\n",
    "import numpy as np\n",
    "\n",
    "import seaborn as sns #visualisation\n",
    "import matplotlib.pyplot as plt #visualisation\n",
    "%matplotlib inline \n",
    "sns.set(color_codes=True)\n",
    "\n",
    "from sklearn.preprocessing import StandardScaler\n",
    "\n",
    "from sklearn.metrics import classification_report\n",
    "from sklearn.model_selection import GridSearchCV\n",
    "from sklearn.model_selection import cross_val_score\n",
    "from sklearn.svm import SVC\n",
    "\n",
    "from sklearn import metrics\n",
    "from sklearn.metrics import accuracy_score\n",
    "from sklearn.metrics import precision_score, recall_score, confusion_matrix\n",
    "from sklearn.metrics import f1_score, roc_auc_score, roc_curve\n"
   ]
  },
  {
   "cell_type": "code",
   "execution_count": 4,
   "metadata": {
    "ExecuteTime": {
     "end_time": "2020-07-17T01:58:40.832901Z",
     "start_time": "2020-07-17T01:58:38.697859Z"
    }
   },
   "outputs": [
    {
     "data": {
      "text/html": [
       "<div>\n",
       "<style scoped>\n",
       "    .dataframe tbody tr th:only-of-type {\n",
       "        vertical-align: middle;\n",
       "    }\n",
       "\n",
       "    .dataframe tbody tr th {\n",
       "        vertical-align: top;\n",
       "    }\n",
       "\n",
       "    .dataframe thead th {\n",
       "        text-align: right;\n",
       "    }\n",
       "</style>\n",
       "<table border=\"1\" class=\"dataframe\">\n",
       "  <thead>\n",
       "    <tr style=\"text-align: right;\">\n",
       "      <th></th>\n",
       "      <th>Administrative</th>\n",
       "      <th>Administrative_Duration</th>\n",
       "      <th>Informational</th>\n",
       "      <th>Informational_Duration</th>\n",
       "      <th>ProductRelated</th>\n",
       "      <th>ProductRelated_Duration</th>\n",
       "      <th>BounceRates</th>\n",
       "      <th>ExitRates</th>\n",
       "      <th>PageValues</th>\n",
       "      <th>SpecialDay</th>\n",
       "      <th>Month</th>\n",
       "      <th>OperatingSystems</th>\n",
       "      <th>Browser</th>\n",
       "      <th>Region</th>\n",
       "      <th>TrafficType</th>\n",
       "      <th>VisitorType</th>\n",
       "      <th>Weekend</th>\n",
       "    </tr>\n",
       "  </thead>\n",
       "  <tbody>\n",
       "    <tr>\n",
       "      <th>0</th>\n",
       "      <td>0</td>\n",
       "      <td>0.0</td>\n",
       "      <td>0</td>\n",
       "      <td>0.0</td>\n",
       "      <td>8</td>\n",
       "      <td>222.000000</td>\n",
       "      <td>0.000000</td>\n",
       "      <td>0.028571</td>\n",
       "      <td>53.474571</td>\n",
       "      <td>0.0</td>\n",
       "      <td>May</td>\n",
       "      <td>1</td>\n",
       "      <td>1</td>\n",
       "      <td>1</td>\n",
       "      <td>2</td>\n",
       "      <td>New_Visitor</td>\n",
       "      <td>True</td>\n",
       "    </tr>\n",
       "    <tr>\n",
       "      <th>1</th>\n",
       "      <td>0</td>\n",
       "      <td>0.0</td>\n",
       "      <td>0</td>\n",
       "      <td>0.0</td>\n",
       "      <td>14</td>\n",
       "      <td>1037.500000</td>\n",
       "      <td>0.014286</td>\n",
       "      <td>0.047619</td>\n",
       "      <td>0.000000</td>\n",
       "      <td>0.0</td>\n",
       "      <td>Mar</td>\n",
       "      <td>2</td>\n",
       "      <td>2</td>\n",
       "      <td>4</td>\n",
       "      <td>2</td>\n",
       "      <td>Returning_Visitor</td>\n",
       "      <td>False</td>\n",
       "    </tr>\n",
       "    <tr>\n",
       "      <th>2</th>\n",
       "      <td>4</td>\n",
       "      <td>37.5</td>\n",
       "      <td>2</td>\n",
       "      <td>82.0</td>\n",
       "      <td>4</td>\n",
       "      <td>96.625000</td>\n",
       "      <td>0.000000</td>\n",
       "      <td>0.017500</td>\n",
       "      <td>0.000000</td>\n",
       "      <td>0.0</td>\n",
       "      <td>Nov</td>\n",
       "      <td>2</td>\n",
       "      <td>2</td>\n",
       "      <td>9</td>\n",
       "      <td>2</td>\n",
       "      <td>New_Visitor</td>\n",
       "      <td>False</td>\n",
       "    </tr>\n",
       "    <tr>\n",
       "      <th>3</th>\n",
       "      <td>4</td>\n",
       "      <td>115.7</td>\n",
       "      <td>0</td>\n",
       "      <td>0.0</td>\n",
       "      <td>16</td>\n",
       "      <td>655.383333</td>\n",
       "      <td>0.000000</td>\n",
       "      <td>0.012037</td>\n",
       "      <td>0.000000</td>\n",
       "      <td>0.0</td>\n",
       "      <td>Nov</td>\n",
       "      <td>1</td>\n",
       "      <td>1</td>\n",
       "      <td>2</td>\n",
       "      <td>3</td>\n",
       "      <td>Returning_Visitor</td>\n",
       "      <td>False</td>\n",
       "    </tr>\n",
       "    <tr>\n",
       "      <th>4</th>\n",
       "      <td>1</td>\n",
       "      <td>60.0</td>\n",
       "      <td>1</td>\n",
       "      <td>15.0</td>\n",
       "      <td>26</td>\n",
       "      <td>670.166667</td>\n",
       "      <td>0.000000</td>\n",
       "      <td>0.003846</td>\n",
       "      <td>0.000000</td>\n",
       "      <td>0.0</td>\n",
       "      <td>May</td>\n",
       "      <td>2</td>\n",
       "      <td>2</td>\n",
       "      <td>3</td>\n",
       "      <td>4</td>\n",
       "      <td>Returning_Visitor</td>\n",
       "      <td>False</td>\n",
       "    </tr>\n",
       "  </tbody>\n",
       "</table>\n",
       "</div>"
      ],
      "text/plain": [
       "   Administrative  Administrative_Duration  Informational  \\\n",
       "0               0                      0.0              0   \n",
       "1               0                      0.0              0   \n",
       "2               4                     37.5              2   \n",
       "3               4                    115.7              0   \n",
       "4               1                     60.0              1   \n",
       "\n",
       "   Informational_Duration  ProductRelated  ProductRelated_Duration  \\\n",
       "0                     0.0               8               222.000000   \n",
       "1                     0.0              14              1037.500000   \n",
       "2                    82.0               4                96.625000   \n",
       "3                     0.0              16               655.383333   \n",
       "4                    15.0              26               670.166667   \n",
       "\n",
       "   BounceRates  ExitRates  PageValues  SpecialDay Month  OperatingSystems  \\\n",
       "0     0.000000   0.028571   53.474571         0.0   May                 1   \n",
       "1     0.014286   0.047619    0.000000         0.0   Mar                 2   \n",
       "2     0.000000   0.017500    0.000000         0.0   Nov                 2   \n",
       "3     0.000000   0.012037    0.000000         0.0   Nov                 1   \n",
       "4     0.000000   0.003846    0.000000         0.0   May                 2   \n",
       "\n",
       "   Browser  Region  TrafficType        VisitorType  Weekend  \n",
       "0        1       1            2        New_Visitor     True  \n",
       "1        2       4            2  Returning_Visitor    False  \n",
       "2        2       9            2        New_Visitor    False  \n",
       "3        1       2            3  Returning_Visitor    False  \n",
       "4        2       3            4  Returning_Visitor    False  "
      ]
     },
     "execution_count": 4,
     "metadata": {},
     "output_type": "execute_result"
    }
   ],
   "source": [
    "# read data from Github\n",
    "df = pd.read_csv(\"https://raw.githubusercontent.com/susanqisun/DAV-6150/master/assignments/Project2_Data.csv\")\n",
    "\n",
    "# To display the top 5 rows\n",
    "df.head()"
   ]
  },
  {
   "cell_type": "code",
   "execution_count": 5,
   "metadata": {
    "ExecuteTime": {
     "end_time": "2020-07-18T18:02:42.866816Z",
     "start_time": "2020-07-18T18:02:41.203523Z"
    }
   },
   "outputs": [
    {
     "data": {
      "text/html": [
       "<div>\n",
       "<style scoped>\n",
       "    .dataframe tbody tr th:only-of-type {\n",
       "        vertical-align: middle;\n",
       "    }\n",
       "\n",
       "    .dataframe tbody tr th {\n",
       "        vertical-align: top;\n",
       "    }\n",
       "\n",
       "    .dataframe thead th {\n",
       "        text-align: right;\n",
       "    }\n",
       "</style>\n",
       "<table border=\"1\" class=\"dataframe\">\n",
       "  <thead>\n",
       "    <tr style=\"text-align: right;\">\n",
       "      <th></th>\n",
       "      <th>Revenue</th>\n",
       "    </tr>\n",
       "  </thead>\n",
       "  <tbody>\n",
       "    <tr>\n",
       "      <th>0</th>\n",
       "      <td>True</td>\n",
       "    </tr>\n",
       "    <tr>\n",
       "      <th>1</th>\n",
       "      <td>False</td>\n",
       "    </tr>\n",
       "    <tr>\n",
       "      <th>2</th>\n",
       "      <td>False</td>\n",
       "    </tr>\n",
       "    <tr>\n",
       "      <th>3</th>\n",
       "      <td>False</td>\n",
       "    </tr>\n",
       "    <tr>\n",
       "      <th>4</th>\n",
       "      <td>False</td>\n",
       "    </tr>\n",
       "  </tbody>\n",
       "</table>\n",
       "</div>"
      ],
      "text/plain": [
       "   Revenue\n",
       "0     True\n",
       "1    False\n",
       "2    False\n",
       "3    False\n",
       "4    False"
      ]
     },
     "execution_count": 5,
     "metadata": {},
     "output_type": "execute_result"
    }
   ],
   "source": [
    "# read data from Github\n",
    "df02 = pd.read_csv(\"https://raw.githubusercontent.com/susanqisun/DAV-6150/master/assignments/Project2_Data_Labels.csv\")\n",
    "\n",
    "# To display the top 5 rows\n",
    "df02.head()"
   ]
  },
  {
   "cell_type": "markdown",
   "metadata": {},
   "source": [
    "## 2. Pre-Clustering Exploratory Data Analysis"
   ]
  },
  {
   "cell_type": "code",
   "execution_count": 6,
   "metadata": {
    "ExecuteTime": {
     "end_time": "2020-07-17T23:36:09.187934Z",
     "start_time": "2020-07-17T23:36:09.041024Z"
    }
   },
   "outputs": [
    {
     "name": "stdout",
     "output_type": "stream",
     "text": [
      "(12330, 17)\n",
      "['Administrative', 'Administrative_Duration', 'Informational', 'Informational_Duration', 'ProductRelated', 'ProductRelated_Duration', 'BounceRates', 'ExitRates', 'PageValues', 'SpecialDay', 'Month', 'OperatingSystems', 'Browser', 'Region', 'TrafficType', 'VisitorType', 'Weekend']\n"
     ]
    }
   ],
   "source": [
    "print(df.shape)\n",
    "print(list(df.columns))"
   ]
  },
  {
   "cell_type": "code",
   "execution_count": 7,
   "metadata": {
    "ExecuteTime": {
     "end_time": "2020-07-18T00:17:54.333183Z",
     "start_time": "2020-07-18T00:17:54.133214Z"
    }
   },
   "outputs": [
    {
     "name": "stderr",
     "output_type": "stream",
     "text": [
      "C:\\Users\\13750\\Anaconda3\\lib\\site-packages\\pandas\\core\\ops\\__init__.py:1115: FutureWarning: elementwise comparison failed; returning scalar instead, but in the future will perform elementwise comparison\n",
      "  result = method(y)\n"
     ]
    },
    {
     "data": {
      "text/html": [
       "<div>\n",
       "<style scoped>\n",
       "    .dataframe tbody tr th:only-of-type {\n",
       "        vertical-align: middle;\n",
       "    }\n",
       "\n",
       "    .dataframe tbody tr th {\n",
       "        vertical-align: top;\n",
       "    }\n",
       "\n",
       "    .dataframe thead th {\n",
       "        text-align: right;\n",
       "    }\n",
       "</style>\n",
       "<table border=\"1\" class=\"dataframe\">\n",
       "  <thead>\n",
       "    <tr style=\"text-align: right;\">\n",
       "      <th></th>\n",
       "      <th>Dtype</th>\n",
       "      <th>Nunique</th>\n",
       "      <th>MissingValues</th>\n",
       "      <th>Count</th>\n",
       "      <th>ZeroValues</th>\n",
       "      <th>?Values</th>\n",
       "    </tr>\n",
       "  </thead>\n",
       "  <tbody>\n",
       "    <tr>\n",
       "      <th>Administrative</th>\n",
       "      <td>int64</td>\n",
       "      <td>27</td>\n",
       "      <td>0</td>\n",
       "      <td>12330</td>\n",
       "      <td>5768</td>\n",
       "      <td>0</td>\n",
       "    </tr>\n",
       "    <tr>\n",
       "      <th>Administrative_Duration</th>\n",
       "      <td>float64</td>\n",
       "      <td>3335</td>\n",
       "      <td>0</td>\n",
       "      <td>12330</td>\n",
       "      <td>5903</td>\n",
       "      <td>0</td>\n",
       "    </tr>\n",
       "    <tr>\n",
       "      <th>Informational</th>\n",
       "      <td>int64</td>\n",
       "      <td>17</td>\n",
       "      <td>0</td>\n",
       "      <td>12330</td>\n",
       "      <td>9699</td>\n",
       "      <td>0</td>\n",
       "    </tr>\n",
       "    <tr>\n",
       "      <th>Informational_Duration</th>\n",
       "      <td>float64</td>\n",
       "      <td>1258</td>\n",
       "      <td>0</td>\n",
       "      <td>12330</td>\n",
       "      <td>9925</td>\n",
       "      <td>0</td>\n",
       "    </tr>\n",
       "    <tr>\n",
       "      <th>ProductRelated</th>\n",
       "      <td>int64</td>\n",
       "      <td>311</td>\n",
       "      <td>0</td>\n",
       "      <td>12330</td>\n",
       "      <td>38</td>\n",
       "      <td>0</td>\n",
       "    </tr>\n",
       "    <tr>\n",
       "      <th>ProductRelated_Duration</th>\n",
       "      <td>float64</td>\n",
       "      <td>9551</td>\n",
       "      <td>0</td>\n",
       "      <td>12330</td>\n",
       "      <td>755</td>\n",
       "      <td>0</td>\n",
       "    </tr>\n",
       "    <tr>\n",
       "      <th>BounceRates</th>\n",
       "      <td>float64</td>\n",
       "      <td>1872</td>\n",
       "      <td>0</td>\n",
       "      <td>12330</td>\n",
       "      <td>5518</td>\n",
       "      <td>0</td>\n",
       "    </tr>\n",
       "    <tr>\n",
       "      <th>ExitRates</th>\n",
       "      <td>float64</td>\n",
       "      <td>4777</td>\n",
       "      <td>0</td>\n",
       "      <td>12330</td>\n",
       "      <td>76</td>\n",
       "      <td>0</td>\n",
       "    </tr>\n",
       "    <tr>\n",
       "      <th>PageValues</th>\n",
       "      <td>float64</td>\n",
       "      <td>2704</td>\n",
       "      <td>0</td>\n",
       "      <td>12330</td>\n",
       "      <td>9600</td>\n",
       "      <td>0</td>\n",
       "    </tr>\n",
       "    <tr>\n",
       "      <th>SpecialDay</th>\n",
       "      <td>float64</td>\n",
       "      <td>6</td>\n",
       "      <td>0</td>\n",
       "      <td>12330</td>\n",
       "      <td>11079</td>\n",
       "      <td>0</td>\n",
       "    </tr>\n",
       "    <tr>\n",
       "      <th>Month</th>\n",
       "      <td>object</td>\n",
       "      <td>10</td>\n",
       "      <td>0</td>\n",
       "      <td>12330</td>\n",
       "      <td>0</td>\n",
       "      <td>0</td>\n",
       "    </tr>\n",
       "    <tr>\n",
       "      <th>OperatingSystems</th>\n",
       "      <td>int64</td>\n",
       "      <td>8</td>\n",
       "      <td>0</td>\n",
       "      <td>12330</td>\n",
       "      <td>0</td>\n",
       "      <td>0</td>\n",
       "    </tr>\n",
       "    <tr>\n",
       "      <th>Browser</th>\n",
       "      <td>int64</td>\n",
       "      <td>13</td>\n",
       "      <td>0</td>\n",
       "      <td>12330</td>\n",
       "      <td>0</td>\n",
       "      <td>0</td>\n",
       "    </tr>\n",
       "    <tr>\n",
       "      <th>Region</th>\n",
       "      <td>int64</td>\n",
       "      <td>9</td>\n",
       "      <td>0</td>\n",
       "      <td>12330</td>\n",
       "      <td>0</td>\n",
       "      <td>0</td>\n",
       "    </tr>\n",
       "    <tr>\n",
       "      <th>TrafficType</th>\n",
       "      <td>int64</td>\n",
       "      <td>20</td>\n",
       "      <td>0</td>\n",
       "      <td>12330</td>\n",
       "      <td>0</td>\n",
       "      <td>0</td>\n",
       "    </tr>\n",
       "    <tr>\n",
       "      <th>VisitorType</th>\n",
       "      <td>object</td>\n",
       "      <td>3</td>\n",
       "      <td>0</td>\n",
       "      <td>12330</td>\n",
       "      <td>0</td>\n",
       "      <td>0</td>\n",
       "    </tr>\n",
       "    <tr>\n",
       "      <th>Weekend</th>\n",
       "      <td>bool</td>\n",
       "      <td>2</td>\n",
       "      <td>0</td>\n",
       "      <td>12330</td>\n",
       "      <td>9462</td>\n",
       "      <td>0</td>\n",
       "    </tr>\n",
       "  </tbody>\n",
       "</table>\n",
       "</div>"
      ],
      "text/plain": [
       "                           Dtype  Nunique  MissingValues  Count  ZeroValues  \\\n",
       "Administrative             int64       27              0  12330        5768   \n",
       "Administrative_Duration  float64     3335              0  12330        5903   \n",
       "Informational              int64       17              0  12330        9699   \n",
       "Informational_Duration   float64     1258              0  12330        9925   \n",
       "ProductRelated             int64      311              0  12330          38   \n",
       "ProductRelated_Duration  float64     9551              0  12330         755   \n",
       "BounceRates              float64     1872              0  12330        5518   \n",
       "ExitRates                float64     4777              0  12330          76   \n",
       "PageValues               float64     2704              0  12330        9600   \n",
       "SpecialDay               float64        6              0  12330       11079   \n",
       "Month                     object       10              0  12330           0   \n",
       "OperatingSystems           int64        8              0  12330           0   \n",
       "Browser                    int64       13              0  12330           0   \n",
       "Region                     int64        9              0  12330           0   \n",
       "TrafficType                int64       20              0  12330           0   \n",
       "VisitorType               object        3              0  12330           0   \n",
       "Weekend                     bool        2              0  12330        9462   \n",
       "\n",
       "                         ?Values  \n",
       "Administrative                 0  \n",
       "Administrative_Duration        0  \n",
       "Informational                  0  \n",
       "Informational_Duration         0  \n",
       "ProductRelated                 0  \n",
       "ProductRelated_Duration        0  \n",
       "BounceRates                    0  \n",
       "ExitRates                      0  \n",
       "PageValues                     0  \n",
       "SpecialDay                     0  \n",
       "Month                          0  \n",
       "OperatingSystems               0  \n",
       "Browser                        0  \n",
       "Region                         0  \n",
       "TrafficType                    0  \n",
       "VisitorType                    0  \n",
       "Weekend                        0  "
      ]
     },
     "execution_count": 7,
     "metadata": {},
     "output_type": "execute_result"
    }
   ],
   "source": [
    "#Identify the Data Types\n",
    "df_info = pd.DataFrame(df.dtypes,columns=['Dtype'])\n",
    "\n",
    "#Identify the unique values\n",
    "df_info['Nunique'] = df.nunique()\n",
    "\n",
    "#check missing values for each column\n",
    "df_info['MissingValues']=df.isnull().sum()\n",
    "\n",
    "# Identify the count for each variable\n",
    "df_info['Count']=df.count()\n",
    "\n",
    "# Identify the zero values for each variable\n",
    "df_info['ZeroValues']=(df==0).sum()\n",
    "\n",
    "# how many '?' values\n",
    "df_info['?Values']=(df=='?').sum()\n",
    "\n",
    "df_info"
   ]
  },
  {
   "cell_type": "markdown",
   "metadata": {},
   "source": [
    "There's no missing value in this dataset. The data types include int64, float64, bool, and object."
   ]
  },
  {
   "cell_type": "code",
   "execution_count": 36,
   "metadata": {},
   "outputs": [
    {
     "data": {
      "text/html": [
       "<div>\n",
       "<style scoped>\n",
       "    .dataframe tbody tr th:only-of-type {\n",
       "        vertical-align: middle;\n",
       "    }\n",
       "\n",
       "    .dataframe tbody tr th {\n",
       "        vertical-align: top;\n",
       "    }\n",
       "\n",
       "    .dataframe thead th {\n",
       "        text-align: right;\n",
       "    }\n",
       "</style>\n",
       "<table border=\"1\" class=\"dataframe\">\n",
       "  <thead>\n",
       "    <tr style=\"text-align: right;\">\n",
       "      <th></th>\n",
       "      <th>count</th>\n",
       "      <th>mean</th>\n",
       "      <th>std</th>\n",
       "      <th>min</th>\n",
       "      <th>25%</th>\n",
       "      <th>50%</th>\n",
       "      <th>75%</th>\n",
       "      <th>max</th>\n",
       "    </tr>\n",
       "  </thead>\n",
       "  <tbody>\n",
       "    <tr>\n",
       "      <th>Administrative</th>\n",
       "      <td>12330.0</td>\n",
       "      <td>2.315166</td>\n",
       "      <td>3.321784</td>\n",
       "      <td>0.0</td>\n",
       "      <td>0.000000</td>\n",
       "      <td>1.000000</td>\n",
       "      <td>4.000000</td>\n",
       "      <td>27.000000</td>\n",
       "    </tr>\n",
       "    <tr>\n",
       "      <th>Administrative_Duration</th>\n",
       "      <td>12330.0</td>\n",
       "      <td>80.818611</td>\n",
       "      <td>176.779107</td>\n",
       "      <td>0.0</td>\n",
       "      <td>0.000000</td>\n",
       "      <td>7.500000</td>\n",
       "      <td>93.256250</td>\n",
       "      <td>3398.750000</td>\n",
       "    </tr>\n",
       "    <tr>\n",
       "      <th>Informational</th>\n",
       "      <td>12330.0</td>\n",
       "      <td>0.503569</td>\n",
       "      <td>1.270156</td>\n",
       "      <td>0.0</td>\n",
       "      <td>0.000000</td>\n",
       "      <td>0.000000</td>\n",
       "      <td>0.000000</td>\n",
       "      <td>24.000000</td>\n",
       "    </tr>\n",
       "    <tr>\n",
       "      <th>Informational_Duration</th>\n",
       "      <td>12330.0</td>\n",
       "      <td>34.472398</td>\n",
       "      <td>140.749294</td>\n",
       "      <td>0.0</td>\n",
       "      <td>0.000000</td>\n",
       "      <td>0.000000</td>\n",
       "      <td>0.000000</td>\n",
       "      <td>2549.375000</td>\n",
       "    </tr>\n",
       "    <tr>\n",
       "      <th>ProductRelated</th>\n",
       "      <td>12330.0</td>\n",
       "      <td>31.731468</td>\n",
       "      <td>44.475503</td>\n",
       "      <td>0.0</td>\n",
       "      <td>7.000000</td>\n",
       "      <td>18.000000</td>\n",
       "      <td>38.000000</td>\n",
       "      <td>705.000000</td>\n",
       "    </tr>\n",
       "    <tr>\n",
       "      <th>ProductRelated_Duration</th>\n",
       "      <td>12330.0</td>\n",
       "      <td>1194.746220</td>\n",
       "      <td>1913.669288</td>\n",
       "      <td>0.0</td>\n",
       "      <td>184.137500</td>\n",
       "      <td>598.936905</td>\n",
       "      <td>1464.157213</td>\n",
       "      <td>63973.522230</td>\n",
       "    </tr>\n",
       "    <tr>\n",
       "      <th>BounceRates</th>\n",
       "      <td>12330.0</td>\n",
       "      <td>0.022191</td>\n",
       "      <td>0.048488</td>\n",
       "      <td>0.0</td>\n",
       "      <td>0.000000</td>\n",
       "      <td>0.003112</td>\n",
       "      <td>0.016813</td>\n",
       "      <td>0.200000</td>\n",
       "    </tr>\n",
       "    <tr>\n",
       "      <th>ExitRates</th>\n",
       "      <td>12330.0</td>\n",
       "      <td>0.043073</td>\n",
       "      <td>0.048597</td>\n",
       "      <td>0.0</td>\n",
       "      <td>0.014286</td>\n",
       "      <td>0.025156</td>\n",
       "      <td>0.050000</td>\n",
       "      <td>0.200000</td>\n",
       "    </tr>\n",
       "    <tr>\n",
       "      <th>PageValues</th>\n",
       "      <td>12330.0</td>\n",
       "      <td>5.889258</td>\n",
       "      <td>18.568437</td>\n",
       "      <td>0.0</td>\n",
       "      <td>0.000000</td>\n",
       "      <td>0.000000</td>\n",
       "      <td>0.000000</td>\n",
       "      <td>361.763742</td>\n",
       "    </tr>\n",
       "    <tr>\n",
       "      <th>SpecialDay</th>\n",
       "      <td>12330.0</td>\n",
       "      <td>0.061427</td>\n",
       "      <td>0.198917</td>\n",
       "      <td>0.0</td>\n",
       "      <td>0.000000</td>\n",
       "      <td>0.000000</td>\n",
       "      <td>0.000000</td>\n",
       "      <td>1.000000</td>\n",
       "    </tr>\n",
       "    <tr>\n",
       "      <th>OperatingSystems</th>\n",
       "      <td>12330.0</td>\n",
       "      <td>2.124006</td>\n",
       "      <td>0.911325</td>\n",
       "      <td>1.0</td>\n",
       "      <td>2.000000</td>\n",
       "      <td>2.000000</td>\n",
       "      <td>3.000000</td>\n",
       "      <td>8.000000</td>\n",
       "    </tr>\n",
       "    <tr>\n",
       "      <th>Browser</th>\n",
       "      <td>12330.0</td>\n",
       "      <td>2.357097</td>\n",
       "      <td>1.717277</td>\n",
       "      <td>1.0</td>\n",
       "      <td>2.000000</td>\n",
       "      <td>2.000000</td>\n",
       "      <td>2.000000</td>\n",
       "      <td>13.000000</td>\n",
       "    </tr>\n",
       "    <tr>\n",
       "      <th>Region</th>\n",
       "      <td>12330.0</td>\n",
       "      <td>3.147364</td>\n",
       "      <td>2.401591</td>\n",
       "      <td>1.0</td>\n",
       "      <td>1.000000</td>\n",
       "      <td>3.000000</td>\n",
       "      <td>4.000000</td>\n",
       "      <td>9.000000</td>\n",
       "    </tr>\n",
       "    <tr>\n",
       "      <th>TrafficType</th>\n",
       "      <td>12330.0</td>\n",
       "      <td>4.069586</td>\n",
       "      <td>4.025169</td>\n",
       "      <td>1.0</td>\n",
       "      <td>2.000000</td>\n",
       "      <td>2.000000</td>\n",
       "      <td>4.000000</td>\n",
       "      <td>20.000000</td>\n",
       "    </tr>\n",
       "  </tbody>\n",
       "</table>\n",
       "</div>"
      ],
      "text/plain": [
       "                           count         mean          std  min         25%  \\\n",
       "Administrative           12330.0     2.315166     3.321784  0.0    0.000000   \n",
       "Administrative_Duration  12330.0    80.818611   176.779107  0.0    0.000000   \n",
       "Informational            12330.0     0.503569     1.270156  0.0    0.000000   \n",
       "Informational_Duration   12330.0    34.472398   140.749294  0.0    0.000000   \n",
       "ProductRelated           12330.0    31.731468    44.475503  0.0    7.000000   \n",
       "ProductRelated_Duration  12330.0  1194.746220  1913.669288  0.0  184.137500   \n",
       "BounceRates              12330.0     0.022191     0.048488  0.0    0.000000   \n",
       "ExitRates                12330.0     0.043073     0.048597  0.0    0.014286   \n",
       "PageValues               12330.0     5.889258    18.568437  0.0    0.000000   \n",
       "SpecialDay               12330.0     0.061427     0.198917  0.0    0.000000   \n",
       "OperatingSystems         12330.0     2.124006     0.911325  1.0    2.000000   \n",
       "Browser                  12330.0     2.357097     1.717277  1.0    2.000000   \n",
       "Region                   12330.0     3.147364     2.401591  1.0    1.000000   \n",
       "TrafficType              12330.0     4.069586     4.025169  1.0    2.000000   \n",
       "\n",
       "                                50%          75%           max  \n",
       "Administrative             1.000000     4.000000     27.000000  \n",
       "Administrative_Duration    7.500000    93.256250   3398.750000  \n",
       "Informational              0.000000     0.000000     24.000000  \n",
       "Informational_Duration     0.000000     0.000000   2549.375000  \n",
       "ProductRelated            18.000000    38.000000    705.000000  \n",
       "ProductRelated_Duration  598.936905  1464.157213  63973.522230  \n",
       "BounceRates                0.003112     0.016813      0.200000  \n",
       "ExitRates                  0.025156     0.050000      0.200000  \n",
       "PageValues                 0.000000     0.000000    361.763742  \n",
       "SpecialDay                 0.000000     0.000000      1.000000  \n",
       "OperatingSystems           2.000000     3.000000      8.000000  \n",
       "Browser                    2.000000     2.000000     13.000000  \n",
       "Region                     3.000000     4.000000      9.000000  \n",
       "TrafficType                2.000000     4.000000     20.000000  "
      ]
     },
     "execution_count": 36,
     "metadata": {},
     "output_type": "execute_result"
    }
   ],
   "source": [
    "df.describe().T"
   ]
  },
  {
   "cell_type": "markdown",
   "metadata": {},
   "source": [
    "#### Findings: \n",
    ">1. The maximum value of attributes Administrative_Duration, Informational_Duration, ProductRelated, PageValues, and ProductRelated_Duration has a large difference to their 75% values. It will have a significant impact on model accuracy. So, we should standardize the numerical data.\n",
    "2. The attribute OperatingSystems, Browser, Region, and TrafficType are categorical data. We need to extract them before standardization. "
   ]
  },
  {
   "cell_type": "code",
   "execution_count": 8,
   "metadata": {
    "ExecuteTime": {
     "end_time": "2020-07-18T01:05:26.744370Z",
     "start_time": "2020-07-18T01:05:26.724002Z"
    }
   },
   "outputs": [
    {
     "name": "stdout",
     "output_type": "stream",
     "text": [
      "1. Numerical variables: ['Administrative', 'Administrative_Duration', 'Informational', 'Informational_Duration', 'ProductRelated', 'ProductRelated_Duration', 'BounceRates', 'ExitRates', 'PageValues', 'SpecialDay', 'OperatingSystems', 'Browser', 'Region', 'TrafficType']\n",
      "2. Boolean variable: ['Weekend']\n",
      "3. Categorical variables: ['Month', 'VisitorType']\n"
     ]
    }
   ],
   "source": [
    "# define numerical, categorical, and boolean data\n",
    "numerical_columns = []\n",
    "boolean_column = []\n",
    "categorical_columns = []\n",
    "\n",
    "for i in df.columns[:]:\n",
    "    if(df[i].dtype=='object'):\n",
    "        categorical_columns.append(i)\n",
    "    elif (df[i].dtype=='bool'):\n",
    "        boolean_column.append(i)\n",
    "    else:\n",
    "        numerical_columns.append(i)\n",
    "        \n",
    "print('1. Numerical variables:',numerical_columns)\n",
    "print('2. Boolean variable:',boolean_column)\n",
    "print('3. Categorical variables:',categorical_columns)\n"
   ]
  },
  {
   "cell_type": "code",
   "execution_count": 9,
   "metadata": {
    "ExecuteTime": {
     "end_time": "2020-07-18T01:16:25.328566Z",
     "start_time": "2020-07-18T01:16:09.749555Z"
    }
   },
   "outputs": [
    {
     "name": "stderr",
     "output_type": "stream",
     "text": [
      "C:\\Users\\13750\\Anaconda3\\lib\\site-packages\\pandas\\plotting\\_matplotlib\\tools.py:307: MatplotlibDeprecationWarning: \n",
      "The rowNum attribute was deprecated in Matplotlib 3.2 and will be removed two minor releases later. Use ax.get_subplotspec().rowspan.start instead.\n",
      "  layout[ax.rowNum, ax.colNum] = ax.get_visible()\n",
      "C:\\Users\\13750\\Anaconda3\\lib\\site-packages\\pandas\\plotting\\_matplotlib\\tools.py:307: MatplotlibDeprecationWarning: \n",
      "The colNum attribute was deprecated in Matplotlib 3.2 and will be removed two minor releases later. Use ax.get_subplotspec().colspan.start instead.\n",
      "  layout[ax.rowNum, ax.colNum] = ax.get_visible()\n",
      "C:\\Users\\13750\\Anaconda3\\lib\\site-packages\\pandas\\plotting\\_matplotlib\\tools.py:313: MatplotlibDeprecationWarning: \n",
      "The rowNum attribute was deprecated in Matplotlib 3.2 and will be removed two minor releases later. Use ax.get_subplotspec().rowspan.start instead.\n",
      "  if not layout[ax.rowNum + 1, ax.colNum]:\n",
      "C:\\Users\\13750\\Anaconda3\\lib\\site-packages\\pandas\\plotting\\_matplotlib\\tools.py:313: MatplotlibDeprecationWarning: \n",
      "The colNum attribute was deprecated in Matplotlib 3.2 and will be removed two minor releases later. Use ax.get_subplotspec().colspan.start instead.\n",
      "  if not layout[ax.rowNum + 1, ax.colNum]:\n"
     ]
    },
    {
     "data": {
      "text/plain": [
       "array([[<matplotlib.axes._subplots.AxesSubplot object at 0x0000020DC261A780>,\n",
       "        <matplotlib.axes._subplots.AxesSubplot object at 0x0000020DC29104E0>,\n",
       "        <matplotlib.axes._subplots.AxesSubplot object at 0x0000020DC2940B38>,\n",
       "        <matplotlib.axes._subplots.AxesSubplot object at 0x0000020DC297D1D0>],\n",
       "       [<matplotlib.axes._subplots.AxesSubplot object at 0x0000020DC2E2C828>,\n",
       "        <matplotlib.axes._subplots.AxesSubplot object at 0x0000020DC2E5EE80>,\n",
       "        <matplotlib.axes._subplots.AxesSubplot object at 0x0000020DC2E9C518>,\n",
       "        <matplotlib.axes._subplots.AxesSubplot object at 0x0000020DC2ECBB38>],\n",
       "       [<matplotlib.axes._subplots.AxesSubplot object at 0x0000020DC2ECBBA8>,\n",
       "        <matplotlib.axes._subplots.AxesSubplot object at 0x0000020DC2F38860>,\n",
       "        <matplotlib.axes._subplots.AxesSubplot object at 0x0000020DC2F68EB8>,\n",
       "        <matplotlib.axes._subplots.AxesSubplot object at 0x0000020DC2FA5550>],\n",
       "       [<matplotlib.axes._subplots.AxesSubplot object at 0x0000020DC2FD5BA8>,\n",
       "        <matplotlib.axes._subplots.AxesSubplot object at 0x0000020DC3014240>,\n",
       "        <matplotlib.axes._subplots.AxesSubplot object at 0x0000020DC3040898>,\n",
       "        <matplotlib.axes._subplots.AxesSubplot object at 0x0000020DC3073EF0>]],\n",
       "      dtype=object)"
      ]
     },
     "execution_count": 9,
     "metadata": {},
     "output_type": "execute_result"
    },
    {
     "data": {
      "image/png": "[encoded data removed]",
      "text/plain": [
       "<Figure size 1080x720 with 16 Axes>"
      ]
     },
     "metadata": {
      "needs_background": "light"
     },
     "output_type": "display_data"
    }
   ],
   "source": [
    "# Distributions for each of numerical variables.\n",
    "df[numerical_columns].hist(figsize=(15, 10), bins=20, xlabelsize=10, ylabelsize=10)\n"
   ]
  },
  {
   "cell_type": "markdown",
   "metadata": {},
   "source": [
    "#### Findings: \n",
    "From the plots above, we can see that most of them are extremely right-skewed.\n",
    " \n",
    "These visited values on different pages have a big difference. For example, most of the administrative value is between 0-10, which means visitors may not care much about the administration. However, the value of product-related websites is higher(0-200), which means visitors care more about the products' info and prefer to view these websites."
   ]
  },
  {
   "cell_type": "code",
   "execution_count": 10,
   "metadata": {
    "ExecuteTime": {
     "end_time": "2020-07-18T01:11:41.755052Z",
     "start_time": "2020-07-18T01:11:39.970871Z"
    }
   },
   "outputs": [
    {
     "data": {
      "image/png": "[encoded data removed]",
      "text/plain": [
       "<Figure size 576x288 with 2 Axes>"
      ]
     },
     "metadata": {
      "needs_background": "light"
     },
     "output_type": "display_data"
    }
   ],
   "source": [
    "# create the bar chart for each categorical columns\n",
    "fig, ax = plt.subplots(1, 2, figsize=(8, 4))\n",
    "for variable, subplot in zip(categorical_columns, ax.flatten()):\n",
    "    sns.countplot(df[variable], ax=subplot)\n",
    "    for label in subplot.get_xticklabels():\n",
    "        label.set_rotation(90)\n",
    "        "
   ]
  },
  {
   "cell_type": "markdown",
   "metadata": {},
   "source": [
    "For the month variable, May, Nov, and Dec have the most counts, and Feb has the least count. \n",
    "\n",
    "For the visitor type, most of the visitors are returning visitors. \n",
    "\n",
    "We can see that the page views have an obvious difference. In May, March, November, and December the page visited is noticeable higher than others. And most of the visitors are new to visite these pages(12000)."
   ]
  },
  {
   "cell_type": "code",
   "execution_count": 11,
   "metadata": {
    "ExecuteTime": {
     "end_time": "2020-07-19T14:20:17.497947Z",
     "start_time": "2020-07-19T14:20:17.096110Z"
    }
   },
   "outputs": [
    {
     "data": {
      "image/png": "[encoded data removed]",
      "text/plain": [
       "<Figure size 720x288 with 2 Axes>"
      ]
     },
     "metadata": {
      "needs_background": "light"
     },
     "output_type": "display_data"
    }
   ],
   "source": [
    "# checking the Distribution of customers on Revenue\n",
    "\n",
    "plt.rcParams['figure.figsize'] = (10, 4)\n",
    "\n",
    "plt.subplot(1, 2, 1)\n",
    "sns.countplot(df02['Revenue'], palette = 'pastel')\n",
    "plt.title('Buy or Not', fontsize = 20)\n",
    "plt.xlabel('Revenue or not', fontsize = 15)\n",
    "plt.ylabel('count', fontsize = 15)\n",
    "\n",
    "\n",
    "# checking the Distribution of customers on Weekend\n",
    "plt.subplot(1, 2, 2)\n",
    "sns.countplot(df['Weekend'])\n",
    "plt.title('Purchase on Weekends', fontsize = 20)\n",
    "plt.xlabel('Weekend or not', fontsize = 15)\n",
    "plt.ylabel('count', fontsize = 15)\n",
    "\n",
    "plt.show()"
   ]
  },
  {
   "cell_type": "markdown",
   "metadata": {},
   "source": [
    "From the plots above, more visitors didn't make any purchase. And most visitors made purchases on a weekday. \n",
    "\n",
    "\n",
    "## 3. Pre-Clustering Data Preparation\n",
    "\n",
    "### 3.1 Convert numberical variables into categorical variables\n",
    "\n",
    "Some numerical variables should be categorical, they are OperatingSystems, Browser, TrafficType, and Region. "
   ]
  },
  {
   "cell_type": "code",
   "execution_count": 12,
   "metadata": {
    "ExecuteTime": {
     "end_time": "2020-07-19T15:39:02.855691Z",
     "start_time": "2020-07-19T15:39:02.824287Z"
    }
   },
   "outputs": [],
   "source": [
    "df03 = df.copy()"
   ]
  },
  {
   "cell_type": "code",
   "execution_count": 13,
   "metadata": {
    "ExecuteTime": {
     "end_time": "2020-07-19T15:39:04.061890Z",
     "start_time": "2020-07-19T15:39:04.040714Z"
    }
   },
   "outputs": [],
   "source": [
    "# change data type for categorical feature\n",
    "df03['OperatingSystems'] = df03['OperatingSystems'].astype('object')\n",
    "df03['Browser'] = df03['Browser'].astype('object')\n",
    "df03['Region'] = df03['Region'].astype('object')\n",
    "df03['TrafficType'] = df03['TrafficType'].astype('object')\n"
   ]
  },
  {
   "cell_type": "markdown",
   "metadata": {},
   "source": [
    "### 3.2 Data transformation- boolean variables\n",
    "\n",
    "**Transform boolean variable in the first dataset:**"
   ]
  },
  {
   "cell_type": "code",
   "execution_count": 14,
   "metadata": {
    "ExecuteTime": {
     "end_time": "2020-07-19T15:39:05.619214Z",
     "start_time": "2020-07-19T15:39:05.604203Z"
    }
   },
   "outputs": [
    {
     "data": {
      "text/plain": [
       "False    9462\n",
       "True     2868\n",
       "Name: Weekend, dtype: int64"
      ]
     },
     "execution_count": 14,
     "metadata": {},
     "output_type": "execute_result"
    }
   ],
   "source": [
    "# check the number of each value\n",
    "df03['Weekend'].value_counts()"
   ]
  },
  {
   "cell_type": "code",
   "execution_count": 15,
   "metadata": {
    "ExecuteTime": {
     "end_time": "2020-07-19T15:39:06.907414Z",
     "start_time": "2020-07-19T15:39:06.888442Z"
    }
   },
   "outputs": [
    {
     "data": {
      "text/plain": [
       "0    9462\n",
       "1    2868\n",
       "Name: IsWeekend, dtype: int64"
      ]
     },
     "execution_count": 15,
     "metadata": {},
     "output_type": "execute_result"
    }
   ],
   "source": [
    "# Converting 'weekend' boolean to integer \n",
    "df03['IsWeekend']  = np.multiply(df03['Weekend'] , 1)\n",
    "df03['IsWeekend'].value_counts()"
   ]
  },
  {
   "cell_type": "markdown",
   "metadata": {},
   "source": [
    "**Transform boolean variable in the Project2_Data_Labels.csv file:**"
   ]
  },
  {
   "cell_type": "code",
   "execution_count": 16,
   "metadata": {
    "ExecuteTime": {
     "end_time": "2020-07-19T15:39:08.207711Z",
     "start_time": "2020-07-19T15:39:08.189590Z"
    }
   },
   "outputs": [
    {
     "data": {
      "text/plain": [
       "False    10422\n",
       "True      1908\n",
       "Name: Revenue, dtype: int64"
      ]
     },
     "execution_count": 16,
     "metadata": {},
     "output_type": "execute_result"
    }
   ],
   "source": [
    "# transfer boolean variable of the Project2_Data_Labels.csv\n",
    "df02['Revenue'].value_counts()"
   ]
  },
  {
   "cell_type": "code",
   "execution_count": 17,
   "metadata": {
    "ExecuteTime": {
     "end_time": "2020-07-19T15:39:09.526238Z",
     "start_time": "2020-07-19T15:39:09.509542Z"
    }
   },
   "outputs": [
    {
     "data": {
      "text/plain": [
       "0    10422\n",
       "1     1908\n",
       "Name: IsRevenue, dtype: int64"
      ]
     },
     "execution_count": 17,
     "metadata": {},
     "output_type": "execute_result"
    }
   ],
   "source": [
    "# Converting 'Revenue' boolean to integer \n",
    "df02['IsRevenue']  = np.multiply(df02['Revenue'] , 1)\n",
    "df02['IsRevenue'].value_counts()"
   ]
  },
  {
   "cell_type": "code",
   "execution_count": 18,
   "metadata": {
    "ExecuteTime": {
     "end_time": "2020-07-19T15:39:10.742645Z",
     "start_time": "2020-07-19T15:39:10.697606Z"
    }
   },
   "outputs": [],
   "source": [
    "# drop unmeaningful column\n",
    "df_Revenue = df02.drop(['Revenue'], axis=1)\n",
    "df04 = df03.drop(['Weekend'], axis=1)"
   ]
  },
  {
   "cell_type": "markdown",
   "metadata": {},
   "source": [
    "### 3.3 Convert categorical variable into dummy variables."
   ]
  },
  {
   "cell_type": "code",
   "execution_count": 19,
   "metadata": {
    "ExecuteTime": {
     "end_time": "2020-07-19T15:39:18.494714Z",
     "start_time": "2020-07-19T15:39:18.480459Z"
    }
   },
   "outputs": [
    {
     "name": "stdout",
     "output_type": "stream",
     "text": [
      "1. Numerical variables: ['Administrative', 'Administrative_Duration', 'Informational', 'Informational_Duration', 'ProductRelated', 'ProductRelated_Duration', 'BounceRates', 'ExitRates', 'PageValues', 'SpecialDay', 'IsWeekend']\n",
      "2. Boolean variable: []\n",
      "3. Categorical variables: ['Month', 'OperatingSystems', 'Browser', 'Region', 'TrafficType', 'VisitorType']\n"
     ]
    }
   ],
   "source": [
    "numerical_columns02 = []\n",
    "boolean_column02 = []\n",
    "categorical_columns02 = []\n",
    "\n",
    "for i in df04.columns[:]:\n",
    "    if(df04[i].dtype=='object'):\n",
    "        categorical_columns02.append(i)\n",
    "    elif (df04[i].dtype=='bool'):\n",
    "        boolean_column02.append(i)\n",
    "    else:\n",
    "        numerical_columns02.append(i)\n",
    "        \n",
    "print('1. Numerical variables:',numerical_columns02)\n",
    "print('2. Boolean variable:',boolean_column02)\n",
    "print('3. Categorical variables:',categorical_columns02)"
   ]
  },
  {
   "cell_type": "code",
   "execution_count": 20,
   "metadata": {
    "ExecuteTime": {
     "end_time": "2020-07-19T15:39:21.765804Z",
     "start_time": "2020-07-19T15:39:21.695098Z"
    }
   },
   "outputs": [
    {
     "data": {
      "text/plain": [
       "Index(['Administrative', 'Administrative_Duration', 'Informational',\n",
       "       'Informational_Duration', 'ProductRelated', 'ProductRelated_Duration',\n",
       "       'BounceRates', 'ExitRates', 'PageValues', 'SpecialDay', 'IsWeekend',\n",
       "       'Month_Aug', 'Month_Dec', 'Month_Feb', 'Month_Jul', 'Month_June',\n",
       "       'Month_Mar', 'Month_May', 'Month_Nov', 'Month_Oct', 'Month_Sep',\n",
       "       'OperatingSystems_1', 'OperatingSystems_2', 'OperatingSystems_3',\n",
       "       'OperatingSystems_4', 'OperatingSystems_5', 'OperatingSystems_6',\n",
       "       'OperatingSystems_7', 'OperatingSystems_8', 'Browser_1', 'Browser_2',\n",
       "       'Browser_3', 'Browser_4', 'Browser_5', 'Browser_6', 'Browser_7',\n",
       "       'Browser_8', 'Browser_9', 'Browser_10', 'Browser_11', 'Browser_12',\n",
       "       'Browser_13', 'Region_1', 'Region_2', 'Region_3', 'Region_4',\n",
       "       'Region_5', 'Region_6', 'Region_7', 'Region_8', 'Region_9',\n",
       "       'TrafficType_1', 'TrafficType_2', 'TrafficType_3', 'TrafficType_4',\n",
       "       'TrafficType_5', 'TrafficType_6', 'TrafficType_7', 'TrafficType_8',\n",
       "       'TrafficType_9', 'TrafficType_10', 'TrafficType_11', 'TrafficType_12',\n",
       "       'TrafficType_13', 'TrafficType_14', 'TrafficType_15', 'TrafficType_16',\n",
       "       'TrafficType_17', 'TrafficType_18', 'TrafficType_19', 'TrafficType_20',\n",
       "       'VisitorType_New_Visitor', 'VisitorType_Other',\n",
       "       'VisitorType_Returning_Visitor'],\n",
       "      dtype='object')"
      ]
     },
     "execution_count": 20,
     "metadata": {},
     "output_type": "execute_result"
    }
   ],
   "source": [
    "# create the dummy\n",
    "df05 = pd.get_dummies(df04)\n",
    "# show dummy column\n",
    "df05.columns"
   ]
  },
  {
   "cell_type": "markdown",
   "metadata": {},
   "source": [
    "### 3.4 Standardize the Variables\n",
    "\n",
    "But before applying Clustering and SVM, we have to normalize the data so that the scale of each variable is the same. For clustering, if the scale of the variables is not the same, the model might become biased towards the variables with a higher magnitude like ProductRelated_Duration or Administrative_Duration. For SVM, scaling is important since distance between the data points is important.\n",
    "\n",
    "We'll use the `StandardScaler()` and `fit_transform` to the data set. \n",
    "\n",
    "Since our dunny variables have only two values (0,1), we no need to standardize them.\n",
    "\n",
    "\n"
   ]
  },
  {
   "cell_type": "code",
   "execution_count": 21,
   "metadata": {
    "ExecuteTime": {
     "end_time": "2020-07-19T15:39:26.282976Z",
     "start_time": "2020-07-19T15:39:26.265299Z"
    }
   },
   "outputs": [],
   "source": [
    "df06 = df05.copy()"
   ]
  },
  {
   "cell_type": "code",
   "execution_count": 22,
   "metadata": {
    "ExecuteTime": {
     "end_time": "2020-07-19T15:39:35.493583Z",
     "start_time": "2020-07-19T15:39:35.487082Z"
    }
   },
   "outputs": [],
   "source": [
    "columns_std = ['Administrative', 'Administrative_Duration', 'Informational',\n",
    "       'Informational_Duration', 'ProductRelated', 'ProductRelated_Duration',\n",
    "       'BounceRates', 'ExitRates', 'PageValues', 'SpecialDay']"
   ]
  },
  {
   "cell_type": "code",
   "execution_count": 23,
   "metadata": {
    "ExecuteTime": {
     "end_time": "2020-07-19T15:39:43.815688Z",
     "start_time": "2020-07-19T15:39:43.697619Z"
    }
   },
   "outputs": [
    {
     "data": {
      "text/html": [
       "<div>\n",
       "<style scoped>\n",
       "    .dataframe tbody tr th:only-of-type {\n",
       "        vertical-align: middle;\n",
       "    }\n",
       "\n",
       "    .dataframe tbody tr th {\n",
       "        vertical-align: top;\n",
       "    }\n",
       "\n",
       "    .dataframe thead th {\n",
       "        text-align: right;\n",
       "    }\n",
       "</style>\n",
       "<table border=\"1\" class=\"dataframe\">\n",
       "  <thead>\n",
       "    <tr style=\"text-align: right;\">\n",
       "      <th></th>\n",
       "      <th>Administrative</th>\n",
       "      <th>Administrative_Duration</th>\n",
       "      <th>Informational</th>\n",
       "      <th>Informational_Duration</th>\n",
       "      <th>ProductRelated</th>\n",
       "      <th>ProductRelated_Duration</th>\n",
       "      <th>BounceRates</th>\n",
       "      <th>ExitRates</th>\n",
       "      <th>PageValues</th>\n",
       "      <th>SpecialDay</th>\n",
       "      <th>...</th>\n",
       "      <th>TrafficType_14</th>\n",
       "      <th>TrafficType_15</th>\n",
       "      <th>TrafficType_16</th>\n",
       "      <th>TrafficType_17</th>\n",
       "      <th>TrafficType_18</th>\n",
       "      <th>TrafficType_19</th>\n",
       "      <th>TrafficType_20</th>\n",
       "      <th>VisitorType_New_Visitor</th>\n",
       "      <th>VisitorType_Other</th>\n",
       "      <th>VisitorType_Returning_Visitor</th>\n",
       "    </tr>\n",
       "  </thead>\n",
       "  <tbody>\n",
       "    <tr>\n",
       "      <th>0</th>\n",
       "      <td>-0.696993</td>\n",
       "      <td>-0.457191</td>\n",
       "      <td>-0.396478</td>\n",
       "      <td>-0.244931</td>\n",
       "      <td>-0.533607</td>\n",
       "      <td>-0.508335</td>\n",
       "      <td>-0.457683</td>\n",
       "      <td>-0.298415</td>\n",
       "      <td>2.562803</td>\n",
       "      <td>-0.308821</td>\n",
       "      <td>...</td>\n",
       "      <td>0</td>\n",
       "      <td>0</td>\n",
       "      <td>0</td>\n",
       "      <td>0</td>\n",
       "      <td>0</td>\n",
       "      <td>0</td>\n",
       "      <td>0</td>\n",
       "      <td>1</td>\n",
       "      <td>0</td>\n",
       "      <td>0</td>\n",
       "    </tr>\n",
       "    <tr>\n",
       "      <th>1</th>\n",
       "      <td>-0.696993</td>\n",
       "      <td>-0.457191</td>\n",
       "      <td>-0.396478</td>\n",
       "      <td>-0.244931</td>\n",
       "      <td>-0.398696</td>\n",
       "      <td>-0.082173</td>\n",
       "      <td>-0.163049</td>\n",
       "      <td>0.093555</td>\n",
       "      <td>-0.317178</td>\n",
       "      <td>-0.308821</td>\n",
       "      <td>...</td>\n",
       "      <td>0</td>\n",
       "      <td>0</td>\n",
       "      <td>0</td>\n",
       "      <td>0</td>\n",
       "      <td>0</td>\n",
       "      <td>0</td>\n",
       "      <td>0</td>\n",
       "      <td>0</td>\n",
       "      <td>0</td>\n",
       "      <td>1</td>\n",
       "    </tr>\n",
       "    <tr>\n",
       "      <th>2</th>\n",
       "      <td>0.507228</td>\n",
       "      <td>-0.245054</td>\n",
       "      <td>1.178195</td>\n",
       "      <td>0.337689</td>\n",
       "      <td>-0.623548</td>\n",
       "      <td>-0.573853</td>\n",
       "      <td>-0.457683</td>\n",
       "      <td>-0.526248</td>\n",
       "      <td>-0.317178</td>\n",
       "      <td>-0.308821</td>\n",
       "      <td>...</td>\n",
       "      <td>0</td>\n",
       "      <td>0</td>\n",
       "      <td>0</td>\n",
       "      <td>0</td>\n",
       "      <td>0</td>\n",
       "      <td>0</td>\n",
       "      <td>0</td>\n",
       "      <td>1</td>\n",
       "      <td>0</td>\n",
       "      <td>0</td>\n",
       "    </tr>\n",
       "    <tr>\n",
       "      <th>3</th>\n",
       "      <td>0.507228</td>\n",
       "      <td>0.197324</td>\n",
       "      <td>-0.396478</td>\n",
       "      <td>-0.244931</td>\n",
       "      <td>-0.353725</td>\n",
       "      <td>-0.281859</td>\n",
       "      <td>-0.457683</td>\n",
       "      <td>-0.638667</td>\n",
       "      <td>-0.317178</td>\n",
       "      <td>-0.308821</td>\n",
       "      <td>...</td>\n",
       "      <td>0</td>\n",
       "      <td>0</td>\n",
       "      <td>0</td>\n",
       "      <td>0</td>\n",
       "      <td>0</td>\n",
       "      <td>0</td>\n",
       "      <td>0</td>\n",
       "      <td>0</td>\n",
       "      <td>0</td>\n",
       "      <td>1</td>\n",
       "    </tr>\n",
       "    <tr>\n",
       "      <th>4</th>\n",
       "      <td>-0.395938</td>\n",
       "      <td>-0.117771</td>\n",
       "      <td>0.390859</td>\n",
       "      <td>-0.138354</td>\n",
       "      <td>-0.128873</td>\n",
       "      <td>-0.274133</td>\n",
       "      <td>-0.457683</td>\n",
       "      <td>-0.807223</td>\n",
       "      <td>-0.317178</td>\n",
       "      <td>-0.308821</td>\n",
       "      <td>...</td>\n",
       "      <td>0</td>\n",
       "      <td>0</td>\n",
       "      <td>0</td>\n",
       "      <td>0</td>\n",
       "      <td>0</td>\n",
       "      <td>0</td>\n",
       "      <td>0</td>\n",
       "      <td>0</td>\n",
       "      <td>0</td>\n",
       "      <td>1</td>\n",
       "    </tr>\n",
       "  </tbody>\n",
       "</table>\n",
       "<p>5 rows × 74 columns</p>\n",
       "</div>"
      ],
      "text/plain": [
       "   Administrative  Administrative_Duration  Informational  \\\n",
       "0       -0.696993                -0.457191      -0.396478   \n",
       "1       -0.696993                -0.457191      -0.396478   \n",
       "2        0.507228                -0.245054       1.178195   \n",
       "3        0.507228                 0.197324      -0.396478   \n",
       "4       -0.395938                -0.117771       0.390859   \n",
       "\n",
       "   Informational_Duration  ProductRelated  ProductRelated_Duration  \\\n",
       "0               -0.244931       -0.533607                -0.508335   \n",
       "1               -0.244931       -0.398696                -0.082173   \n",
       "2                0.337689       -0.623548                -0.573853   \n",
       "3               -0.244931       -0.353725                -0.281859   \n",
       "4               -0.138354       -0.128873                -0.274133   \n",
       "\n",
       "   BounceRates  ExitRates  PageValues  SpecialDay  ...  TrafficType_14  \\\n",
       "0    -0.457683  -0.298415    2.562803   -0.308821  ...               0   \n",
       "1    -0.163049   0.093555   -0.317178   -0.308821  ...               0   \n",
       "2    -0.457683  -0.526248   -0.317178   -0.308821  ...               0   \n",
       "3    -0.457683  -0.638667   -0.317178   -0.308821  ...               0   \n",
       "4    -0.457683  -0.807223   -0.317178   -0.308821  ...               0   \n",
       "\n",
       "   TrafficType_15  TrafficType_16  TrafficType_17  TrafficType_18  \\\n",
       "0               0               0               0               0   \n",
       "1               0               0               0               0   \n",
       "2               0               0               0               0   \n",
       "3               0               0               0               0   \n",
       "4               0               0               0               0   \n",
       "\n",
       "   TrafficType_19  TrafficType_20  VisitorType_New_Visitor  VisitorType_Other  \\\n",
       "0               0               0                        1                  0   \n",
       "1               0               0                        0                  0   \n",
       "2               0               0                        1                  0   \n",
       "3               0               0                        0                  0   \n",
       "4               0               0                        0                  0   \n",
       "\n",
       "   VisitorType_Returning_Visitor  \n",
       "0                              0  \n",
       "1                              1  \n",
       "2                              0  \n",
       "3                              1  \n",
       "4                              1  \n",
       "\n",
       "[5 rows x 74 columns]"
      ]
     },
     "execution_count": 23,
     "metadata": {},
     "output_type": "execute_result"
    }
   ],
   "source": [
    "from sklearn.preprocessing import StandardScaler\n",
    "# Standardize the Variables\n",
    "sc = StandardScaler()\n",
    "df06[columns_std] = sc.fit_transform(df06[columns_std])\n",
    "df06.head()"
   ]
  },
  {
   "cell_type": "markdown",
   "metadata": {},
   "source": [
    "## 4. Cluster Modeling \n",
    "\n",
    "### 4.1 Hierarchical clustering\n",
    "\n",
    "The aim of this case is to segment the site visitors of online retailers based on a wide variety of metrics that were captured when someone accesses the web pages. We'll make clusters from this data that can segment similar site visitors together. \n",
    "\n",
    "We'll first draw a Dendrogram to identify optimal number of clusters. The dendrogram helps us decide the number of clusters for this case. We'll decide the threshold (cut-off point) of a dendrogram for clustering analysis. A simple way is to select a distance where the branches are longer. \n",
    "\n",
    "The linkage method takes the dataset and the method to minimize distances as parameters. We'll use 'ward' as the method since it minimizes then variants of distances between the clusters.\n",
    "\n",
    "\n",
    "Some codes we used in this step are from this webpage:\n",
    "http://www.customeranalytics.com.au/2019/05/27/a-beginners-guide-to-hierarchical-clustering-and-how-to-perform-it-in-python/\n"
   ]
  },
  {
   "cell_type": "code",
   "execution_count": 24,
   "metadata": {
    "ExecuteTime": {
     "end_time": "2020-07-19T15:39:57.289772Z",
     "start_time": "2020-07-19T15:39:57.261119Z"
    }
   },
   "outputs": [],
   "source": [
    "X = df06.copy()"
   ]
  },
  {
   "cell_type": "code",
   "execution_count": 25,
   "metadata": {
    "ExecuteTime": {
     "end_time": "2020-07-19T15:54:37.405302Z",
     "start_time": "2020-07-19T15:39:58.705965Z"
    }
   },
   "outputs": [
    {
     "data": {
      "image/png": "[encoded data removed]",
      "text/plain": [
       "<Figure size 720x288 with 1 Axes>"
      ]
     },
     "metadata": {
      "needs_background": "light"
     },
     "output_type": "display_data"
    }
   ],
   "source": [
    "#Creating a Dendrogram to identify optimal number of clusters\n",
    "\n",
    "import scipy.cluster.hierarchy as sch\n",
    "\n",
    "#Using Ward method to minimize variance within the clusters\n",
    "dendrogram=sch.dendrogram(sch.linkage(X, method = 'ward'))\n",
    "\n",
    "#Plotting the Dendrogram\n",
    "plt.title('Hierarchical Clustering Dendrogram')\n",
    "plt.ylabel('Distance')\n",
    "plt.show()\n",
    "\n"
   ]
  },
  {
   "cell_type": "code",
   "execution_count": 37,
   "metadata": {
    "ExecuteTime": {
     "end_time": "2020-07-19T16:07:12.113424Z",
     "start_time": "2020-07-19T15:56:34.772434Z"
    }
   },
   "outputs": [
    {
     "data": {
      "text/plain": [
       "<matplotlib.lines.Line2D at 0x20d8af4be10>"
      ]
     },
     "execution_count": 37,
     "metadata": {},
     "output_type": "execute_result"
    },
    {
     "data": {
      "image/png": "[encoded data removed]",
      "text/plain": [
       "<Figure size 720x504 with 1 Axes>"
      ]
     },
     "metadata": {
      "needs_background": "light"
     },
     "output_type": "display_data"
    }
   ],
   "source": [
    "plt.figure(figsize=(10, 7))  \n",
    "#Plotting the Dendrogram\n",
    "plt.title(\"Dendrogram\")  \n",
    "dend = sch.dendrogram(sch.linkage(X, method='ward'))\n",
    "plt.axhline(y=150, color='r', linestyle='--')\n"
   ]
  },
  {
   "cell_type": "markdown",
   "metadata": {},
   "source": [
    "1. All the single data observations are combined with it's nearest cluster to a new cluster and repeat this step.\n",
    "2. Finally, all the single clusters are merged into one cluster which has the highest similarity(200)\n",
    "3. The x-axis contains the samples and the y-axis represents the distance between these samples. The vertical line with maximum distance is the blue line and hence we can decide a threshold of 150 and cut the dendrogram.\n"
   ]
  },
  {
   "cell_type": "markdown",
   "metadata": {},
   "source": [
    "After we draw a horizontal line that passes through longest distance shown above, we get 3 clusters as this line cuts the dendrogram.\n",
    "\n",
    "\n",
    "### 4.2 K-means clustering\n",
    "\n",
    "We'll use the elbow method to determine K - the number of clusters.\n",
    "\n",
    "The aim of k-means clustering is to find these k clusters and their centers while reducing the total error.\n",
    "Two methods that can be useful to find this mysterious k in k-Means.These methods are:\n",
    "\n",
    "* The Elbow Method\n",
    "\n",
    "* The Silhouette Method\n",
    "\n",
    "\n",
    "### The Elbow Method:\n",
    "\n",
    "**Running K-Means with a range of k**\n",
    "\n",
    "The elbow method runs k-means clustering on the dataset for a range of values for k (from 1-10 in this case) and then for each value of k computes an average score for all clusters."
   ]
  },
  {
   "cell_type": "code",
   "execution_count": 27,
   "metadata": {
    "ExecuteTime": {
     "end_time": "2020-07-19T16:07:31.609598Z",
     "start_time": "2020-07-19T16:07:24.251673Z"
    }
   },
   "outputs": [],
   "source": [
    "from sklearn.cluster import KMeans\n",
    "# use K means to create the model\n",
    "distortions = []\n",
    "K = range(1,10)\n",
    "for k in K:\n",
    "    kmeanModel = KMeans(n_clusters=k)\n",
    "    kmeanModel.fit(X)\n",
    "    distortions.append(kmeanModel.inertia_)\n",
    "    "
   ]
  },
  {
   "cell_type": "code",
   "execution_count": 28,
   "metadata": {
    "ExecuteTime": {
     "end_time": "2020-07-19T16:07:34.464574Z",
     "start_time": "2020-07-19T16:07:33.961374Z"
    }
   },
   "outputs": [
    {
     "data": {
      "image/png": "[encoded data removed]",
      "text/plain": [
       "<Figure size 576x432 with 1 Axes>"
      ]
     },
     "metadata": {
      "needs_background": "light"
     },
     "output_type": "display_data"
    }
   ],
   "source": [
    "# plot Elbow\n",
    "plt.figure(figsize=(8,6))\n",
    "plt.plot(K, distortions, 'bx-')\n",
    "plt.xlabel('k')\n",
    "plt.ylabel('Distortion')\n",
    "plt.title('Elbow Method for Optimal k')\n",
    "plt.show()"
   ]
  },
  {
   "cell_type": "markdown",
   "metadata": {},
   "source": [
    "We can observe that the “elbow” is the number 3 which is optimal for this case, which means we could cluster the data set into 3 clusters.\n",
    "\n",
    "### The Silhouette Method\n",
    "\n",
    "The range of the Silhouette value is between +1 and -1. A high value is desirable and indicates that the point is placed in the correct cluster. If many points have a negative Silhouette value, it may indicate that we have created too many or too few clusters.\n",
    "\n",
    "#### Plot Silhouette score:"
   ]
  },
  {
   "cell_type": "code",
   "execution_count": 30,
   "metadata": {
    "ExecuteTime": {
     "end_time": "2020-07-20T01:23:05.193477Z",
     "start_time": "2020-07-20T01:22:04.160026Z"
    }
   },
   "outputs": [
    {
     "data": {
      "text/plain": [
       "Text(0, 0.5, 'Silhouette Score')"
      ]
     },
     "execution_count": 30,
     "metadata": {},
     "output_type": "execute_result"
    },
    {
     "data": {
      "image/png": "[encoded data removed]",
      "text/plain": [
       "<Figure size 576x288 with 1 Axes>"
      ]
     },
     "metadata": {
      "needs_background": "light"
     },
     "output_type": "display_data"
    }
   ],
   "source": [
    "#https://medium.com/analytics-vidhya/how-to-determine-the-optimal-k-for-k-means-708505d204eb\n",
    "\n",
    "from sklearn.metrics import silhouette_score\n",
    "\n",
    "sil = []\n",
    "kmax = 11\n",
    "\n",
    "# dissimilarity would not be defined for a single cluster, thus, minimum number of clusters should be 2\n",
    "for k in range(2, kmax+1):\n",
    "    kmeans = KMeans(n_clusters = k).fit(X)\n",
    "    labels = kmeans.labels_\n",
    "    sil.append(silhouette_score(X, labels, metric = 'euclidean'))\n",
    "    \n",
    "fig, ax = plt.subplots(figsize=(8, 4))\n",
    "pd.Series(sil).plot(ax=ax)\n",
    "ax.set_xlabel(\"K\")\n",
    "ax.set_ylabel(\"Silhouette Score\")\n"
   ]
  },
  {
   "cell_type": "markdown",
   "metadata": {},
   "source": [
    "#### Results of Silhouette  score:\n",
    "\n",
    "A high Silhouette Score is desirable. The Silhouette Score reaches its global maximum at the optimal k. This should ideally appear as a peak in the Silhouette Value-versus-k plot. There is a clear peak at k = 2. Hence, it is optimal. \n",
    "\n",
    "Also, we will use Silhouette analysis for selecting number of clusters for K-means clustering.\n",
    "\n",
    "#### Selecting the number of clusters with silhouette analysis on KMeans clustering:\n",
    "\n",
    "https://kapilddatascience.wordpress.com/2015/11/10/using-silhouette-analysis-for-selecting-the-number-of-cluster-for-k-means-clustering/\n",
    "\n",
    "Silhouette analysis is a way to measure how close each point in a cluster is to the points in its neighboring clusters. It's a neat way to find out the optimum value for k during k-means clustering. Silhouette values lie in the range of (-1, 1). A value of +1 indicates that the sample is far away from its neighboring cluster and very close to the cluster it's assigned. Similarly, the value of -1 indicates that the point is close to its neighboring cluster than to the cluster is assigned. And, a value of 0 means it's at the boundary of the distance between the two clusters. The value of +1 is the idea and -1 is least preferred. Hence, the higher the value better is the cluster configuration.\n",
    " \n",
    "For this to be a good value for the number of clusters, one should consider the following points:\n",
    " \n",
    "Firstly, The mean value should be as close to 1 as possible\n",
    "Secondly, The plot of each cluster should be above the mean value as much as possible. Any plot region below the mean value is not desirable.\n",
    "Lastly, the width of the plot should be as uniform as possible.\n",
    " \n",
    "The plots below display the silhouette score with a cluster size of 2,3,4,5,6."
   ]
  },
  {
   "cell_type": "code",
   "execution_count": 31,
   "metadata": {
    "ExecuteTime": {
     "end_time": "2020-07-19T16:11:37.800273Z",
     "start_time": "2020-07-19T16:10:49.715260Z"
    }
   },
   "outputs": [
    {
     "name": "stdout",
     "output_type": "stream",
     "text": [
      "Automatically created module for IPython interactive environment\n",
      "For n_clusters = 2 The average silhouette_score is : 0.30548080968008406\n",
      "For n_clusters = 3 The average silhouette_score is : 0.28886201632842073\n",
      "For n_clusters = 4 The average silhouette_score is : 0.24691959587628853\n",
      "For n_clusters = 5 The average silhouette_score is : 0.216296869775764\n",
      "For n_clusters = 6 The average silhouette_score is : 0.21788305186609916\n"
     ]
    },
    {
     "data": {
      "image/png": "[encoded data removed]",
      "text/plain": [
       "<Figure size 504x360 with 1 Axes>"
      ]
     },
     "metadata": {
      "needs_background": "light"
     },
     "output_type": "display_data"
    },
    {
     "data": {
      "image/png": "[encoded data removed]",
      "text/plain": [
       "<Figure size 504x360 with 1 Axes>"
      ]
     },
     "metadata": {
      "needs_background": "light"
     },
     "output_type": "display_data"
    },
    {
     "data": {
      "image/png": "[encoded data removed]",
      "text/plain": [
       "<Figure size 504x360 with 1 Axes>"
      ]
     },
     "metadata": {
      "needs_background": "light"
     },
     "output_type": "display_data"
    },
    {
     "data": {
      "image/png": "[encoded data removed]",
      "text/plain": [
       "<Figure size 504x360 with 1 Axes>"
      ]
     },
     "metadata": {
      "needs_background": "light"
     },
     "output_type": "display_data"
    },
    {
     "data": {
      "image/png": "[encoded data removed]",
      "text/plain": [
       "<Figure size 504x360 with 1 Axes>"
      ]
     },
     "metadata": {
      "needs_background": "light"
     },
     "output_type": "display_data"
    }
   ],
   "source": [
    "# https://docs.w3cub.com/scikit_learn/auto_examples/cluster/plot_kmeans_silhouette_analysis/#sphx-glr-auto-examples-cluster-plot-kmeans-silhouette-analysis-py\n",
    "\n",
    "from __future__ import print_function\n",
    "\n",
    "from sklearn.cluster import KMeans\n",
    "from sklearn.metrics import silhouette_samples, silhouette_score\n",
    "\n",
    "import matplotlib.cm as cm\n",
    "\n",
    "print(__doc__)\n",
    "\n",
    "# Generating the sample data from make_blobs\n",
    "# This particular setting has one distinct cluster and 3 clusters placed close\n",
    "# together.\n",
    "\n",
    "range_n_clusters = [2, 3, 4, 5, 6]\n",
    "\n",
    "for n_clusters in range_n_clusters:\n",
    "    # Create a subplot with 1 row and 2 columns\n",
    "    fig,(ax1) = plt.subplots(1, 1)\n",
    "    fig.set_size_inches(7, 5)\n",
    "\n",
    "    # The 1st subplot is the silhouette plot\n",
    "    # The silhouette coefficient can range from -1, 1 but in this example all\n",
    "    # lie within [-0.1, 1]\n",
    "    ax1.set_xlim([-0.3, 1])\n",
    "    # The (n_clusters+1)*10 is for inserting blank space between silhouette\n",
    "    # plots of individual clusters, to demarcate them clearly.\n",
    "    ax1.set_ylim([0, len(X) + (n_clusters + 1) * 10])\n",
    "\n",
    "    # Initialize the clusterer with n_clusters value and a random generator\n",
    "    # seed of 10 for reproducibility.\n",
    "    clusterer = KMeans(n_clusters=n_clusters, random_state=10)\n",
    "    cluster_labels = clusterer.fit_predict(X)\n",
    "\n",
    "    # The silhouette_score gives the average value for all the samples.\n",
    "    # This gives a perspective into the density and separation of the formed\n",
    "    # clusters\n",
    "    silhouette_avg = silhouette_score(X, cluster_labels)\n",
    "    print(\"For n_clusters =\", n_clusters,\n",
    "          \"The average silhouette_score is :\", silhouette_avg)\n",
    "\n",
    "    # Compute the silhouette scores for each sample\n",
    "    sample_silhouette_values = silhouette_samples(X, cluster_labels)\n",
    "\n",
    "    y_lower = 10\n",
    "    for i in range(n_clusters):\n",
    "        # Aggregate the silhouette scores for samples belonging to\n",
    "        # cluster i, and sort them\n",
    "        ith_cluster_silhouette_values = \\\n",
    "            sample_silhouette_values[cluster_labels == i]\n",
    "\n",
    "        ith_cluster_silhouette_values.sort()\n",
    "\n",
    "        size_cluster_i = ith_cluster_silhouette_values.shape[0]\n",
    "        y_upper = y_lower + size_cluster_i\n",
    "\n",
    "        color = cm.nipy_spectral(float(i) / n_clusters)\n",
    "        ax1.fill_betweenx(np.arange(y_lower, y_upper),\n",
    "                          0, ith_cluster_silhouette_values,\n",
    "                          facecolor=color, edgecolor=color, alpha=0.7)\n",
    "\n",
    "        # Label the silhouette plots with their cluster numbers at the middle\n",
    "        ax1.text(-0.05, y_lower + 0.5 * size_cluster_i, str(i))\n",
    "\n",
    "        # Compute the new y_lower for next plot\n",
    "        y_lower = y_upper + 10  # 10 for the 0 samples\n",
    "\n",
    "    ax1.set_title(\"The silhouette plot for the various clusters.\")\n",
    "    ax1.set_xlabel(\"The silhouette coefficient values\")\n",
    "    ax1.set_ylabel(\"Cluster label\")\n",
    "\n",
    "    # The vertical line for average silhouette score of all the values\n",
    "    ax1.axvline(x=silhouette_avg, color=\"red\", linestyle=\"--\")\n",
    "\n",
    "    ax1.set_yticks([])  # Clear the yaxis labels / ticks\n",
    "    ax1.set_xticks([-0.3, -0.2, -0.1, 0, 0.2, 0.4, 0.6, 0.8, 1])"
   ]
  },
  {
   "cell_type": "markdown",
   "metadata": {},
   "source": [
    "#### Results of Silhouette Analysis:\n",
    "\n",
    "FOR K=2: the black region is the plots of the Silhouette score belonging to cluster 0, whereas the green plot is the Silhouette score belonging to cluster 1. The red dotted line is the mean Silhouette score for the cluster in consideration. \n",
    "\n",
    "We found out that the cluster of size k=2 is the best cluster size amongst all we tried.\n",
    "\n",
    "FOR K=2: \n",
    "1. The average Silhouette score is 0.31\n",
    "2. The red dotted line in the plot is the x value of the average silhouette score. \n",
    "3. The 2 blocks of color black and green are the silhouette scores of all the samples belong to clusters 1 and 2 respectively. \n",
    "\n",
    "\n",
    "### Compare results between Silhouette and hierarchical Dendrogram\n",
    "\n",
    "According to our K-means analysis above, Elbow has k=3 which is our best clusters; Silhouette score plots indicate K=2 which is our best clusters. And for hierarchical clustering, we selected K=2 as the best hierarchical Dendrogram value. So in this case, we may predict to choose the k=2 as our optimal clusters \n"
   ]
  },
  {
   "cell_type": "markdown",
   "metadata": {},
   "source": [
    "\n",
    "### 4.3 Implement k-means with k=2\n",
    "\n",
    "We'll perform the k-means clustering model with k=2 and find the centers of 2 clusters formed from the data.\n",
    "\n",
    "We have stored the identified clusters in a new variable and we will add this to the original dataset.\n"
   ]
  },
  {
   "cell_type": "code",
   "execution_count": 32,
   "metadata": {
    "ExecuteTime": {
     "end_time": "2020-07-19T16:15:38.610019Z",
     "start_time": "2020-07-19T16:15:38.041005Z"
    }
   },
   "outputs": [],
   "source": [
    "#Modeling\n",
    "kmeans = KMeans(n_clusters=2)\n",
    "kfit = kmeans.fit(X)\n",
    "identified_clusters = kfit.predict(X)\n"
   ]
  },
  {
   "cell_type": "code",
   "execution_count": 33,
   "metadata": {
    "ExecuteTime": {
     "end_time": "2020-07-20T01:27:08.389144Z",
     "start_time": "2020-07-20T01:27:08.377425Z"
    }
   },
   "outputs": [],
   "source": [
    "#Appending the identified clusters to the original data\n",
    "clustered_data = df04.copy()\n",
    "clustered_data['Cluster'] = identified_clusters\n"
   ]
  },
  {
   "cell_type": "code",
   "execution_count": 34,
   "metadata": {
    "ExecuteTime": {
     "end_time": "2020-07-19T16:16:10.773647Z",
     "start_time": "2020-07-19T16:16:10.740809Z"
    }
   },
   "outputs": [
    {
     "data": {
      "text/plain": [
       "1    10457\n",
       "0     1873\n",
       "Name: Cluster, dtype: int64"
      ]
     },
     "execution_count": 34,
     "metadata": {},
     "output_type": "execute_result"
    }
   ],
   "source": [
    "clustered_data['Cluster'].value_counts()"
   ]
  },
  {
   "cell_type": "markdown",
   "metadata": {},
   "source": [
    "#### Findings:\n",
    "\n",
    "From the results above we can see that the groupings are obviously different. the 0 value(10457) grouping is much higher that 1(1873) value grouping. And the value 0 takes up about 84.8 percentage of all the groupings which means most of the visitors didn't purchase products.\n"
   ]
  },
  {
   "cell_type": "markdown",
   "metadata": {},
   "source": [
    "\n",
    "## 5. Post-Clustering Exploratory Data Analysis \n",
    "\n"
   ]
  },
  {
   "cell_type": "code",
   "execution_count": 40,
   "metadata": {
    "ExecuteTime": {
     "end_time": "2020-07-19T16:25:28.099041Z",
     "start_time": "2020-07-19T16:25:18.272325Z"
    }
   },
   "outputs": [
    {
     "data": {
      "text/plain": [
       "<matplotlib.collections.PathCollection at 0x20da17d9160>"
      ]
     },
     "execution_count": 40,
     "metadata": {},
     "output_type": "execute_result"
    },
    {
     "data": {
      "image/png": "[encoded data removed]",
      "text/plain": [
       "<Figure size 1440x1440 with 8 Axes>"
      ]
     },
     "metadata": {
      "needs_background": "light"
     },
     "output_type": "display_data"
    }
   ],
   "source": [
    "#Plotting the graph\n",
    "\n",
    "plt.rcParams['figure.figsize'] = (20, 20)\n",
    "\n",
    "plt.subplot(4, 2, 1)\n",
    "plt.xlabel('Administrative')\n",
    "plt.ylabel('Cluster')\n",
    "plt.scatter(clustered_data['Administrative'],clustered_data['Cluster'],c=clustered_data['Cluster'])\n",
    "\n",
    "plt.subplot(4, 2, 2)\n",
    "plt.xlabel('Administrative_Duration')\n",
    "plt.ylabel('Cluster')\n",
    "plt.scatter(clustered_data['Administrative_Duration'],clustered_data['Cluster'],c=clustered_data['Cluster'])\n",
    "\n",
    "plt.subplot(4, 2, 3)\n",
    "plt.xlabel('Informational')\n",
    "plt.ylabel('Cluster')\n",
    "plt.scatter(clustered_data['Informational'],clustered_data['Cluster'],c=clustered_data['Cluster'])\n",
    "\n",
    "plt.subplot(4, 2, 4)\n",
    "plt.xlabel('Informational_Duration')\n",
    "plt.ylabel('Cluster')\n",
    "plt.scatter(clustered_data['Informational_Duration'],clustered_data['Cluster'],c=clustered_data['Cluster'])\n",
    "\n",
    "plt.subplot(4, 2, 5)\n",
    "plt.xlabel('ProductRelated')\n",
    "plt.ylabel('Cluster')\n",
    "plt.scatter(clustered_data['ProductRelated'],clustered_data['Cluster'],c=clustered_data['Cluster'])\n",
    "\n",
    "plt.subplot(4, 2, 6)\n",
    "plt.xlabel('ProductRelated_Duration')\n",
    "plt.ylabel('Cluster')\n",
    "plt.scatter(clustered_data['ProductRelated_Duration'],clustered_data['Cluster'],c=clustered_data['Cluster'])\n",
    "\n",
    "plt.subplot(4, 2, 7)\n",
    "plt.xlabel('BounceRates')\n",
    "plt.ylabel('Cluster')\n",
    "plt.scatter(clustered_data['BounceRates'],clustered_data['Cluster'],c=clustered_data['Cluster'])\n",
    "\n",
    "plt.subplot(4, 2, 8)\n",
    "plt.xlabel('ExitRates')\n",
    "plt.ylabel('Cluster')\n",
    "plt.scatter(clustered_data['ExitRates'],clustered_data['Cluster'],c=clustered_data['Cluster'])\n",
    "\n"
   ]
  },
  {
   "cell_type": "markdown",
   "metadata": {},
   "source": [
    "From the plots above, we can see that when Administrative is more than 15, Administrative_Duration is more than 800, Informational is more than 5, Informational_Duration is more than 500,ProductRelated is more than 180, ProductRelated_Duration is more than 8000, the visitor is more likely to make a purchase when they spend more time."
   ]
  },
  {
   "cell_type": "code",
   "execution_count": 41,
   "metadata": {
    "ExecuteTime": {
     "end_time": "2020-07-19T16:27:22.912262Z",
     "start_time": "2020-07-19T16:27:12.153390Z"
    }
   },
   "outputs": [
    {
     "data": {
      "text/plain": [
       "<matplotlib.collections.PathCollection at 0x20d9fd41668>"
      ]
     },
     "execution_count": 41,
     "metadata": {},
     "output_type": "execute_result"
    },
    {
     "data": {
      "image/png": "[encoded data removed]",
      "text/plain": [
       "<Figure size 1440x1440 with 9 Axes>"
      ]
     },
     "metadata": {
      "needs_background": "light"
     },
     "output_type": "display_data"
    }
   ],
   "source": [
    "plt.rcParams['figure.figsize'] = (20, 20)\n",
    "\n",
    "plt.subplot(5, 2, 1)\n",
    "plt.xlabel('PageValues')\n",
    "plt.ylabel('Cluster')\n",
    "plt.scatter(clustered_data['PageValues'],clustered_data['Cluster'],c=clustered_data['Cluster'])\n",
    "\n",
    "plt.subplot(5, 2, 2)\n",
    "plt.xlabel('SpecialDay')\n",
    "plt.ylabel('Cluster')\n",
    "plt.scatter(clustered_data['SpecialDay'],clustered_data['Cluster'],c=clustered_data['Cluster'])\n",
    "\n",
    "plt.subplot(5, 2, 3)\n",
    "plt.xlabel('Month')\n",
    "plt.ylabel('Cluster')\n",
    "plt.scatter(clustered_data['Month'],clustered_data['Cluster'],c=clustered_data['Cluster'])\n",
    "\n",
    "plt.subplot(5, 2, 4)\n",
    "plt.xlabel('OperatingSystems')\n",
    "plt.ylabel('Cluster')\n",
    "plt.scatter(clustered_data['OperatingSystems'],clustered_data['Cluster'],c=clustered_data['Cluster'])\n",
    "\n",
    "plt.subplot(5, 2, 5)\n",
    "plt.xlabel('Browser')\n",
    "plt.ylabel('Cluster')\n",
    "plt.scatter(clustered_data['Browser'],clustered_data['Cluster'],c=clustered_data['Cluster'])\n",
    "\n",
    "plt.subplot(5, 2, 6)\n",
    "plt.xlabel('Region')\n",
    "plt.ylabel('Cluster')\n",
    "plt.scatter(clustered_data['Region'],clustered_data['Cluster'],c=clustered_data['Cluster'])\n",
    "\n",
    "plt.subplot(5, 2, 7)\n",
    "plt.xlabel('TrafficType')\n",
    "plt.ylabel('Cluster')\n",
    "plt.scatter(clustered_data['TrafficType'],clustered_data['Cluster'],c=clustered_data['Cluster'])\n",
    "\n",
    "plt.subplot(5, 2, 8)\n",
    "plt.xlabel('VisitorType')\n",
    "plt.ylabel('Cluster')\n",
    "plt.scatter(clustered_data['VisitorType'],clustered_data['Cluster'],c=clustered_data['Cluster'])\n",
    "\n",
    "plt.subplot(5, 2, 9)\n",
    "plt.xlabel('IsWeekend')\n",
    "plt.ylabel('Cluster')\n",
    "plt.scatter(clustered_data['IsWeekend'],clustered_data['Cluster'],c=clustered_data['Cluster'])\n",
    "\n",
    "\n"
   ]
  },
  {
   "cell_type": "markdown",
   "metadata": {},
   "source": [
    "For these categorical variables, it seems we can not directly see their relationships with the predicted groupings, so it's better for us to analyse them further below"
   ]
  },
  {
   "cell_type": "markdown",
   "metadata": {},
   "source": [
    "\n",
    "\n",
    "\n",
    "##  6. Clustering Output vs. Actual Labels "
   ]
  },
  {
   "cell_type": "code",
   "execution_count": 42,
   "metadata": {
    "ExecuteTime": {
     "end_time": "2020-07-19T16:33:07.304737Z",
     "start_time": "2020-07-19T16:33:07.215088Z"
    }
   },
   "outputs": [],
   "source": [
    "df11 = clustered_data.copy()"
   ]
  },
  {
   "cell_type": "code",
   "execution_count": 43,
   "metadata": {
    "ExecuteTime": {
     "end_time": "2020-07-19T16:33:09.014978Z",
     "start_time": "2020-07-19T16:33:08.979803Z"
    }
   },
   "outputs": [],
   "source": [
    "# Add a new column to your Pandas dataframe with the name Revenue\n",
    "df11 = df11.rename(columns = {\"Cluster\": \"Revenue\"}) "
   ]
  },
  {
   "cell_type": "code",
   "execution_count": 44,
   "metadata": {
    "ExecuteTime": {
     "end_time": "2020-07-19T16:33:13.660779Z",
     "start_time": "2020-07-19T16:33:13.648611Z"
    }
   },
   "outputs": [
    {
     "data": {
      "text/html": [
       "<div>\n",
       "<style scoped>\n",
       "    .dataframe tbody tr th:only-of-type {\n",
       "        vertical-align: middle;\n",
       "    }\n",
       "\n",
       "    .dataframe tbody tr th {\n",
       "        vertical-align: top;\n",
       "    }\n",
       "\n",
       "    .dataframe thead th {\n",
       "        text-align: right;\n",
       "    }\n",
       "</style>\n",
       "<table border=\"1\" class=\"dataframe\">\n",
       "  <thead>\n",
       "    <tr style=\"text-align: right;\">\n",
       "      <th></th>\n",
       "      <th>Revenue</th>\n",
       "      <th>IsRevenue</th>\n",
       "    </tr>\n",
       "  </thead>\n",
       "  <tbody>\n",
       "    <tr>\n",
       "      <th>0</th>\n",
       "      <td>True</td>\n",
       "      <td>1</td>\n",
       "    </tr>\n",
       "    <tr>\n",
       "      <th>1</th>\n",
       "      <td>False</td>\n",
       "      <td>0</td>\n",
       "    </tr>\n",
       "    <tr>\n",
       "      <th>2</th>\n",
       "      <td>False</td>\n",
       "      <td>0</td>\n",
       "    </tr>\n",
       "    <tr>\n",
       "      <th>3</th>\n",
       "      <td>False</td>\n",
       "      <td>0</td>\n",
       "    </tr>\n",
       "    <tr>\n",
       "      <th>4</th>\n",
       "      <td>False</td>\n",
       "      <td>0</td>\n",
       "    </tr>\n",
       "  </tbody>\n",
       "</table>\n",
       "</div>"
      ],
      "text/plain": [
       "   Revenue  IsRevenue\n",
       "0     True          1\n",
       "1    False          0\n",
       "2    False          0\n",
       "3    False          0\n",
       "4    False          0"
      ]
     },
     "execution_count": 44,
     "metadata": {},
     "output_type": "execute_result"
    }
   ],
   "source": [
    "# Project2_Data_Labels.csv file\n",
    "df02.head()"
   ]
  },
  {
   "cell_type": "code",
   "execution_count": 45,
   "metadata": {
    "ExecuteTime": {
     "end_time": "2020-07-19T16:33:17.247269Z",
     "start_time": "2020-07-19T16:33:17.182681Z"
    }
   },
   "outputs": [
    {
     "data": {
      "text/html": [
       "<div>\n",
       "<style scoped>\n",
       "    .dataframe tbody tr th:only-of-type {\n",
       "        vertical-align: middle;\n",
       "    }\n",
       "\n",
       "    .dataframe tbody tr th {\n",
       "        vertical-align: top;\n",
       "    }\n",
       "\n",
       "    .dataframe thead th {\n",
       "        text-align: right;\n",
       "    }\n",
       "</style>\n",
       "<table border=\"1\" class=\"dataframe\">\n",
       "  <thead>\n",
       "    <tr style=\"text-align: right;\">\n",
       "      <th></th>\n",
       "      <th>V_Revenue</th>\n",
       "    </tr>\n",
       "  </thead>\n",
       "  <tbody>\n",
       "    <tr>\n",
       "      <th>0</th>\n",
       "      <td>1</td>\n",
       "    </tr>\n",
       "    <tr>\n",
       "      <th>1</th>\n",
       "      <td>0</td>\n",
       "    </tr>\n",
       "    <tr>\n",
       "      <th>2</th>\n",
       "      <td>0</td>\n",
       "    </tr>\n",
       "    <tr>\n",
       "      <th>3</th>\n",
       "      <td>0</td>\n",
       "    </tr>\n",
       "    <tr>\n",
       "      <th>4</th>\n",
       "      <td>0</td>\n",
       "    </tr>\n",
       "  </tbody>\n",
       "</table>\n",
       "</div>"
      ],
      "text/plain": [
       "   V_Revenue\n",
       "0          1\n",
       "1          0\n",
       "2          0\n",
       "3          0\n",
       "4          0"
      ]
     },
     "execution_count": 45,
     "metadata": {},
     "output_type": "execute_result"
    }
   ],
   "source": [
    "# V_Revenue is actual classification labels \n",
    "df22 = df02.rename(columns = {\"IsRevenue\": \"V_Revenue\"}) \n",
    "\n",
    "df22 = df22.drop(['Revenue'], axis=1)\n",
    "\n",
    "df22.head()"
   ]
  },
  {
   "cell_type": "code",
   "execution_count": 46,
   "metadata": {
    "ExecuteTime": {
     "end_time": "2020-07-19T16:33:21.541664Z",
     "start_time": "2020-07-19T16:33:21.382468Z"
    }
   },
   "outputs": [
    {
     "data": {
      "text/html": [
       "<div>\n",
       "<style scoped>\n",
       "    .dataframe tbody tr th:only-of-type {\n",
       "        vertical-align: middle;\n",
       "    }\n",
       "\n",
       "    .dataframe tbody tr th {\n",
       "        vertical-align: top;\n",
       "    }\n",
       "\n",
       "    .dataframe thead th {\n",
       "        text-align: right;\n",
       "    }\n",
       "</style>\n",
       "<table border=\"1\" class=\"dataframe\">\n",
       "  <thead>\n",
       "    <tr style=\"text-align: right;\">\n",
       "      <th></th>\n",
       "      <th>Administrative</th>\n",
       "      <th>Administrative_Duration</th>\n",
       "      <th>Informational</th>\n",
       "      <th>Informational_Duration</th>\n",
       "      <th>ProductRelated</th>\n",
       "      <th>ProductRelated_Duration</th>\n",
       "      <th>BounceRates</th>\n",
       "      <th>ExitRates</th>\n",
       "      <th>PageValues</th>\n",
       "      <th>SpecialDay</th>\n",
       "      <th>Month</th>\n",
       "      <th>OperatingSystems</th>\n",
       "      <th>Browser</th>\n",
       "      <th>Region</th>\n",
       "      <th>TrafficType</th>\n",
       "      <th>VisitorType</th>\n",
       "      <th>IsWeekend</th>\n",
       "      <th>Revenue</th>\n",
       "      <th>V_Revenue</th>\n",
       "    </tr>\n",
       "  </thead>\n",
       "  <tbody>\n",
       "    <tr>\n",
       "      <th>0</th>\n",
       "      <td>0</td>\n",
       "      <td>0.0</td>\n",
       "      <td>0</td>\n",
       "      <td>0.0</td>\n",
       "      <td>8</td>\n",
       "      <td>222.000000</td>\n",
       "      <td>0.000000</td>\n",
       "      <td>0.028571</td>\n",
       "      <td>53.474571</td>\n",
       "      <td>0.0</td>\n",
       "      <td>May</td>\n",
       "      <td>1</td>\n",
       "      <td>1</td>\n",
       "      <td>1</td>\n",
       "      <td>2</td>\n",
       "      <td>New_Visitor</td>\n",
       "      <td>1</td>\n",
       "      <td>1</td>\n",
       "      <td>1</td>\n",
       "    </tr>\n",
       "    <tr>\n",
       "      <th>1</th>\n",
       "      <td>0</td>\n",
       "      <td>0.0</td>\n",
       "      <td>0</td>\n",
       "      <td>0.0</td>\n",
       "      <td>14</td>\n",
       "      <td>1037.500000</td>\n",
       "      <td>0.014286</td>\n",
       "      <td>0.047619</td>\n",
       "      <td>0.000000</td>\n",
       "      <td>0.0</td>\n",
       "      <td>Mar</td>\n",
       "      <td>2</td>\n",
       "      <td>2</td>\n",
       "      <td>4</td>\n",
       "      <td>2</td>\n",
       "      <td>Returning_Visitor</td>\n",
       "      <td>0</td>\n",
       "      <td>1</td>\n",
       "      <td>0</td>\n",
       "    </tr>\n",
       "    <tr>\n",
       "      <th>2</th>\n",
       "      <td>4</td>\n",
       "      <td>37.5</td>\n",
       "      <td>2</td>\n",
       "      <td>82.0</td>\n",
       "      <td>4</td>\n",
       "      <td>96.625000</td>\n",
       "      <td>0.000000</td>\n",
       "      <td>0.017500</td>\n",
       "      <td>0.000000</td>\n",
       "      <td>0.0</td>\n",
       "      <td>Nov</td>\n",
       "      <td>2</td>\n",
       "      <td>2</td>\n",
       "      <td>9</td>\n",
       "      <td>2</td>\n",
       "      <td>New_Visitor</td>\n",
       "      <td>0</td>\n",
       "      <td>1</td>\n",
       "      <td>0</td>\n",
       "    </tr>\n",
       "    <tr>\n",
       "      <th>3</th>\n",
       "      <td>4</td>\n",
       "      <td>115.7</td>\n",
       "      <td>0</td>\n",
       "      <td>0.0</td>\n",
       "      <td>16</td>\n",
       "      <td>655.383333</td>\n",
       "      <td>0.000000</td>\n",
       "      <td>0.012037</td>\n",
       "      <td>0.000000</td>\n",
       "      <td>0.0</td>\n",
       "      <td>Nov</td>\n",
       "      <td>1</td>\n",
       "      <td>1</td>\n",
       "      <td>2</td>\n",
       "      <td>3</td>\n",
       "      <td>Returning_Visitor</td>\n",
       "      <td>0</td>\n",
       "      <td>1</td>\n",
       "      <td>0</td>\n",
       "    </tr>\n",
       "    <tr>\n",
       "      <th>4</th>\n",
       "      <td>1</td>\n",
       "      <td>60.0</td>\n",
       "      <td>1</td>\n",
       "      <td>15.0</td>\n",
       "      <td>26</td>\n",
       "      <td>670.166667</td>\n",
       "      <td>0.000000</td>\n",
       "      <td>0.003846</td>\n",
       "      <td>0.000000</td>\n",
       "      <td>0.0</td>\n",
       "      <td>May</td>\n",
       "      <td>2</td>\n",
       "      <td>2</td>\n",
       "      <td>3</td>\n",
       "      <td>4</td>\n",
       "      <td>Returning_Visitor</td>\n",
       "      <td>0</td>\n",
       "      <td>1</td>\n",
       "      <td>0</td>\n",
       "    </tr>\n",
       "  </tbody>\n",
       "</table>\n",
       "</div>"
      ],
      "text/plain": [
       "   Administrative  Administrative_Duration  Informational  \\\n",
       "0               0                      0.0              0   \n",
       "1               0                      0.0              0   \n",
       "2               4                     37.5              2   \n",
       "3               4                    115.7              0   \n",
       "4               1                     60.0              1   \n",
       "\n",
       "   Informational_Duration  ProductRelated  ProductRelated_Duration  \\\n",
       "0                     0.0               8               222.000000   \n",
       "1                     0.0              14              1037.500000   \n",
       "2                    82.0               4                96.625000   \n",
       "3                     0.0              16               655.383333   \n",
       "4                    15.0              26               670.166667   \n",
       "\n",
       "   BounceRates  ExitRates  PageValues  SpecialDay Month OperatingSystems  \\\n",
       "0     0.000000   0.028571   53.474571         0.0   May                1   \n",
       "1     0.014286   0.047619    0.000000         0.0   Mar                2   \n",
       "2     0.000000   0.017500    0.000000         0.0   Nov                2   \n",
       "3     0.000000   0.012037    0.000000         0.0   Nov                1   \n",
       "4     0.000000   0.003846    0.000000         0.0   May                2   \n",
       "\n",
       "  Browser Region TrafficType        VisitorType  IsWeekend  Revenue  V_Revenue  \n",
       "0       1      1           2        New_Visitor          1        1          1  \n",
       "1       2      4           2  Returning_Visitor          0        1          0  \n",
       "2       2      9           2        New_Visitor          0        1          0  \n",
       "3       1      2           3  Returning_Visitor          0        1          0  \n",
       "4       2      3           4  Returning_Visitor          0        1          0  "
      ]
     },
     "execution_count": 46,
     "metadata": {},
     "output_type": "execute_result"
    }
   ],
   "source": [
    "# merge\n",
    "df_final = pd.concat([df11, df22], axis=1)\n",
    "\n",
    "df_final.head()\n"
   ]
  },
  {
   "cell_type": "code",
   "execution_count": 65,
   "metadata": {
    "ExecuteTime": {
     "end_time": "2020-07-19T22:53:22.876720Z",
     "start_time": "2020-07-19T22:53:22.456286Z"
    }
   },
   "outputs": [
    {
     "data": {
      "image/png": "[encoded data removed]",
      "text/plain": [
       "<Figure size 720x288 with 2 Axes>"
      ]
     },
     "metadata": {
      "needs_background": "light"
     },
     "output_type": "display_data"
    }
   ],
   "source": [
    "# checking the Distribution of customers on Revenue\n",
    "\n",
    "plt.rcParams['figure.figsize'] = (10, 4)\n",
    "\n",
    "plt.subplot(1, 2, 1)\n",
    "sns.countplot(df_final['Revenue'], palette = 'pastel')\n",
    "plt.title('Clustered Revenue', fontsize = 20)\n",
    "plt.xlabel('Revenue or not', fontsize = 15)\n",
    "plt.ylabel('count', fontsize = 15)\n",
    "\n",
    "\n",
    "# checking the Distribution of customers on Weekend\n",
    "plt.subplot(1, 2, 2)\n",
    "sns.countplot(df_final['V_Revenue'])\n",
    "plt.title('Actual Revenue', fontsize = 20)\n",
    "plt.xlabel('Revenue or not', fontsize = 15)\n",
    "plt.ylabel('count', fontsize = 15)\n",
    "\n",
    "plt.show()"
   ]
  },
  {
   "cell_type": "code",
   "execution_count": 66,
   "metadata": {
    "ExecuteTime": {
     "end_time": "2020-07-19T16:49:26.738506Z",
     "start_time": "2020-07-19T16:49:26.714725Z"
    }
   },
   "outputs": [
    {
     "data": {
      "text/plain": [
       "1    10457\n",
       "0     1873\n",
       "Name: Revenue, dtype: int64"
      ]
     },
     "execution_count": 66,
     "metadata": {},
     "output_type": "execute_result"
    }
   ],
   "source": [
    "df_final['Revenue'].value_counts()"
   ]
  },
  {
   "cell_type": "code",
   "execution_count": 67,
   "metadata": {
    "ExecuteTime": {
     "end_time": "2020-07-19T16:49:36.086837Z",
     "start_time": "2020-07-19T16:49:36.073423Z"
    }
   },
   "outputs": [
    {
     "data": {
      "text/plain": [
       "0    10422\n",
       "1     1908\n",
       "Name: V_Revenue, dtype: int64"
      ]
     },
     "execution_count": 67,
     "metadata": {},
     "output_type": "execute_result"
    }
   ],
   "source": [
    "df_final['V_Revenue'].value_counts()"
   ]
  },
  {
   "cell_type": "markdown",
   "metadata": {},
   "source": [
    "The revenue of the clustering algorithm seems indicate that 1873 (84.8%) of the web site visitor didn't make purchase. And the actual V_Revenue shows almost the same result(84.5%) that visitors didn't make purhase. So our k=2 seems works well in the k means mode."
   ]
  },
  {
   "cell_type": "markdown",
   "metadata": {},
   "source": [
    "## 7. SVM Modeling"
   ]
  },
  {
   "cell_type": "code",
   "execution_count": 68,
   "metadata": {
    "ExecuteTime": {
     "end_time": "2020-07-19T16:39:25.153676Z",
     "start_time": "2020-07-19T16:39:25.140070Z"
    }
   },
   "outputs": [],
   "source": [
    "df_final02 = df_final.copy()"
   ]
  },
  {
   "cell_type": "markdown",
   "metadata": {},
   "source": [
    "**Create dummy and the drop the first variable**"
   ]
  },
  {
   "cell_type": "code",
   "execution_count": 69,
   "metadata": {
    "ExecuteTime": {
     "end_time": "2020-07-19T19:51:31.941625Z",
     "start_time": "2020-07-19T19:51:31.743941Z"
    }
   },
   "outputs": [
    {
     "data": {
      "text/plain": [
       "Index(['Administrative', 'Administrative_Duration', 'Informational',\n",
       "       'Informational_Duration', 'ProductRelated', 'ProductRelated_Duration',\n",
       "       'BounceRates', 'ExitRates', 'PageValues', 'SpecialDay', 'IsWeekend',\n",
       "       'Revenue', 'V_Revenue', 'Month_Dec', 'Month_Feb', 'Month_Jul',\n",
       "       'Month_June', 'Month_Mar', 'Month_May', 'Month_Nov', 'Month_Oct',\n",
       "       'Month_Sep', 'OperatingSystems_2', 'OperatingSystems_3',\n",
       "       'OperatingSystems_4', 'OperatingSystems_5', 'OperatingSystems_6',\n",
       "       'OperatingSystems_7', 'OperatingSystems_8', 'Browser_2', 'Browser_3',\n",
       "       'Browser_4', 'Browser_5', 'Browser_6', 'Browser_7', 'Browser_8',\n",
       "       'Browser_9', 'Browser_10', 'Browser_11', 'Browser_12', 'Browser_13',\n",
       "       'Region_2', 'Region_3', 'Region_4', 'Region_5', 'Region_6', 'Region_7',\n",
       "       'Region_8', 'Region_9', 'TrafficType_2', 'TrafficType_3',\n",
       "       'TrafficType_4', 'TrafficType_5', 'TrafficType_6', 'TrafficType_7',\n",
       "       'TrafficType_8', 'TrafficType_9', 'TrafficType_10', 'TrafficType_11',\n",
       "       'TrafficType_12', 'TrafficType_13', 'TrafficType_14', 'TrafficType_15',\n",
       "       'TrafficType_16', 'TrafficType_17', 'TrafficType_18', 'TrafficType_19',\n",
       "       'TrafficType_20', 'VisitorType_Other', 'VisitorType_Returning_Visitor'],\n",
       "      dtype='object')"
      ]
     },
     "execution_count": 69,
     "metadata": {},
     "output_type": "execute_result"
    }
   ],
   "source": [
    "# Create dummy\n",
    "df_final03 = pd.get_dummies(df_final02, drop_first=True)\n",
    "\n",
    "df_final03.columns"
   ]
  },
  {
   "cell_type": "markdown",
   "metadata": {},
   "source": [
    "**Standardize the Numerical Variables (not including binary numerical variables)**"
   ]
  },
  {
   "cell_type": "code",
   "execution_count": 70,
   "metadata": {
    "ExecuteTime": {
     "end_time": "2020-07-19T19:51:41.720831Z",
     "start_time": "2020-07-19T19:51:41.711294Z"
    }
   },
   "outputs": [],
   "source": [
    "data_SVM = df_final03.copy()"
   ]
  },
  {
   "cell_type": "code",
   "execution_count": 71,
   "metadata": {},
   "outputs": [],
   "source": [
    "columns_std = ['Administrative', 'Administrative_Duration', 'Informational',\n",
    "       'Informational_Duration', 'ProductRelated', 'ProductRelated_Duration',\n",
    "       'BounceRates', 'ExitRates', 'PageValues', 'SpecialDay']"
   ]
  },
  {
   "cell_type": "code",
   "execution_count": 72,
   "metadata": {
    "ExecuteTime": {
     "end_time": "2020-07-19T19:51:46.304130Z",
     "start_time": "2020-07-19T19:51:46.076998Z"
    },
    "scrolled": true
   },
   "outputs": [
    {
     "data": {
      "text/html": [
       "<div>\n",
       "<style scoped>\n",
       "    .dataframe tbody tr th:only-of-type {\n",
       "        vertical-align: middle;\n",
       "    }\n",
       "\n",
       "    .dataframe tbody tr th {\n",
       "        vertical-align: top;\n",
       "    }\n",
       "\n",
       "    .dataframe thead th {\n",
       "        text-align: right;\n",
       "    }\n",
       "</style>\n",
       "<table border=\"1\" class=\"dataframe\">\n",
       "  <thead>\n",
       "    <tr style=\"text-align: right;\">\n",
       "      <th></th>\n",
       "      <th>Administrative</th>\n",
       "      <th>Administrative_Duration</th>\n",
       "      <th>Informational</th>\n",
       "      <th>Informational_Duration</th>\n",
       "      <th>ProductRelated</th>\n",
       "      <th>ProductRelated_Duration</th>\n",
       "      <th>BounceRates</th>\n",
       "      <th>ExitRates</th>\n",
       "      <th>PageValues</th>\n",
       "      <th>SpecialDay</th>\n",
       "      <th>...</th>\n",
       "      <th>TrafficType_13</th>\n",
       "      <th>TrafficType_14</th>\n",
       "      <th>TrafficType_15</th>\n",
       "      <th>TrafficType_16</th>\n",
       "      <th>TrafficType_17</th>\n",
       "      <th>TrafficType_18</th>\n",
       "      <th>TrafficType_19</th>\n",
       "      <th>TrafficType_20</th>\n",
       "      <th>VisitorType_Other</th>\n",
       "      <th>VisitorType_Returning_Visitor</th>\n",
       "    </tr>\n",
       "  </thead>\n",
       "  <tbody>\n",
       "    <tr>\n",
       "      <th>0</th>\n",
       "      <td>-0.696993</td>\n",
       "      <td>-0.457191</td>\n",
       "      <td>-0.396478</td>\n",
       "      <td>-0.244931</td>\n",
       "      <td>-0.533607</td>\n",
       "      <td>-0.508335</td>\n",
       "      <td>-0.457683</td>\n",
       "      <td>-0.298415</td>\n",
       "      <td>2.562803</td>\n",
       "      <td>-0.308821</td>\n",
       "      <td>...</td>\n",
       "      <td>0</td>\n",
       "      <td>0</td>\n",
       "      <td>0</td>\n",
       "      <td>0</td>\n",
       "      <td>0</td>\n",
       "      <td>0</td>\n",
       "      <td>0</td>\n",
       "      <td>0</td>\n",
       "      <td>0</td>\n",
       "      <td>0</td>\n",
       "    </tr>\n",
       "    <tr>\n",
       "      <th>1</th>\n",
       "      <td>-0.696993</td>\n",
       "      <td>-0.457191</td>\n",
       "      <td>-0.396478</td>\n",
       "      <td>-0.244931</td>\n",
       "      <td>-0.398696</td>\n",
       "      <td>-0.082173</td>\n",
       "      <td>-0.163049</td>\n",
       "      <td>0.093555</td>\n",
       "      <td>-0.317178</td>\n",
       "      <td>-0.308821</td>\n",
       "      <td>...</td>\n",
       "      <td>0</td>\n",
       "      <td>0</td>\n",
       "      <td>0</td>\n",
       "      <td>0</td>\n",
       "      <td>0</td>\n",
       "      <td>0</td>\n",
       "      <td>0</td>\n",
       "      <td>0</td>\n",
       "      <td>0</td>\n",
       "      <td>1</td>\n",
       "    </tr>\n",
       "    <tr>\n",
       "      <th>2</th>\n",
       "      <td>0.507228</td>\n",
       "      <td>-0.245054</td>\n",
       "      <td>1.178195</td>\n",
       "      <td>0.337689</td>\n",
       "      <td>-0.623548</td>\n",
       "      <td>-0.573853</td>\n",
       "      <td>-0.457683</td>\n",
       "      <td>-0.526248</td>\n",
       "      <td>-0.317178</td>\n",
       "      <td>-0.308821</td>\n",
       "      <td>...</td>\n",
       "      <td>0</td>\n",
       "      <td>0</td>\n",
       "      <td>0</td>\n",
       "      <td>0</td>\n",
       "      <td>0</td>\n",
       "      <td>0</td>\n",
       "      <td>0</td>\n",
       "      <td>0</td>\n",
       "      <td>0</td>\n",
       "      <td>0</td>\n",
       "    </tr>\n",
       "    <tr>\n",
       "      <th>3</th>\n",
       "      <td>0.507228</td>\n",
       "      <td>0.197324</td>\n",
       "      <td>-0.396478</td>\n",
       "      <td>-0.244931</td>\n",
       "      <td>-0.353725</td>\n",
       "      <td>-0.281859</td>\n",
       "      <td>-0.457683</td>\n",
       "      <td>-0.638667</td>\n",
       "      <td>-0.317178</td>\n",
       "      <td>-0.308821</td>\n",
       "      <td>...</td>\n",
       "      <td>0</td>\n",
       "      <td>0</td>\n",
       "      <td>0</td>\n",
       "      <td>0</td>\n",
       "      <td>0</td>\n",
       "      <td>0</td>\n",
       "      <td>0</td>\n",
       "      <td>0</td>\n",
       "      <td>0</td>\n",
       "      <td>1</td>\n",
       "    </tr>\n",
       "    <tr>\n",
       "      <th>4</th>\n",
       "      <td>-0.395938</td>\n",
       "      <td>-0.117771</td>\n",
       "      <td>0.390859</td>\n",
       "      <td>-0.138354</td>\n",
       "      <td>-0.128873</td>\n",
       "      <td>-0.274133</td>\n",
       "      <td>-0.457683</td>\n",
       "      <td>-0.807223</td>\n",
       "      <td>-0.317178</td>\n",
       "      <td>-0.308821</td>\n",
       "      <td>...</td>\n",
       "      <td>0</td>\n",
       "      <td>0</td>\n",
       "      <td>0</td>\n",
       "      <td>0</td>\n",
       "      <td>0</td>\n",
       "      <td>0</td>\n",
       "      <td>0</td>\n",
       "      <td>0</td>\n",
       "      <td>0</td>\n",
       "      <td>1</td>\n",
       "    </tr>\n",
       "  </tbody>\n",
       "</table>\n",
       "<p>5 rows × 70 columns</p>\n",
       "</div>"
      ],
      "text/plain": [
       "   Administrative  Administrative_Duration  Informational  \\\n",
       "0       -0.696993                -0.457191      -0.396478   \n",
       "1       -0.696993                -0.457191      -0.396478   \n",
       "2        0.507228                -0.245054       1.178195   \n",
       "3        0.507228                 0.197324      -0.396478   \n",
       "4       -0.395938                -0.117771       0.390859   \n",
       "\n",
       "   Informational_Duration  ProductRelated  ProductRelated_Duration  \\\n",
       "0               -0.244931       -0.533607                -0.508335   \n",
       "1               -0.244931       -0.398696                -0.082173   \n",
       "2                0.337689       -0.623548                -0.573853   \n",
       "3               -0.244931       -0.353725                -0.281859   \n",
       "4               -0.138354       -0.128873                -0.274133   \n",
       "\n",
       "   BounceRates  ExitRates  PageValues  SpecialDay  ...  TrafficType_13  \\\n",
       "0    -0.457683  -0.298415    2.562803   -0.308821  ...               0   \n",
       "1    -0.163049   0.093555   -0.317178   -0.308821  ...               0   \n",
       "2    -0.457683  -0.526248   -0.317178   -0.308821  ...               0   \n",
       "3    -0.457683  -0.638667   -0.317178   -0.308821  ...               0   \n",
       "4    -0.457683  -0.807223   -0.317178   -0.308821  ...               0   \n",
       "\n",
       "   TrafficType_14  TrafficType_15  TrafficType_16  TrafficType_17  \\\n",
       "0               0               0               0               0   \n",
       "1               0               0               0               0   \n",
       "2               0               0               0               0   \n",
       "3               0               0               0               0   \n",
       "4               0               0               0               0   \n",
       "\n",
       "   TrafficType_18  TrafficType_19  TrafficType_20  VisitorType_Other  \\\n",
       "0               0               0               0                  0   \n",
       "1               0               0               0                  0   \n",
       "2               0               0               0                  0   \n",
       "3               0               0               0                  0   \n",
       "4               0               0               0                  0   \n",
       "\n",
       "   VisitorType_Returning_Visitor  \n",
       "0                              0  \n",
       "1                              1  \n",
       "2                              0  \n",
       "3                              1  \n",
       "4                              1  \n",
       "\n",
       "[5 rows x 70 columns]"
      ]
     },
     "execution_count": 72,
     "metadata": {},
     "output_type": "execute_result"
    }
   ],
   "source": [
    "# StandardScaler data\n",
    "sc = StandardScaler()\n",
    "data_SVM[columns_std] = sc.fit_transform(df_final03[columns_std])\n",
    "data_SVM.head()"
   ]
  },
  {
   "cell_type": "markdown",
   "metadata": {},
   "source": [
    "**Set up the dataset for next step**"
   ]
  },
  {
   "cell_type": "code",
   "execution_count": 73,
   "metadata": {
    "ExecuteTime": {
     "end_time": "2020-07-19T19:51:56.562158Z",
     "start_time": "2020-07-19T19:51:56.545704Z"
    }
   },
   "outputs": [],
   "source": [
    "#create dataset\n",
    "X01 = data_SVM.drop(['Revenue','V_Revenue'], axis=1)\n",
    "\n",
    "y01 = data_SVM[['Revenue']]"
   ]
  },
  {
   "cell_type": "markdown",
   "metadata": {},
   "source": [
    "### 1. Feature Selection - Forward selection\n",
    "\n",
    "We'll use Forward selection to select features. The steps for forward selection technique are as follows:\n",
    "\n",
    "* Choose a significance level (e.g. SL = 0.05 with a 95% confidence).\n",
    "* Fit all possible simple regression models by considering one feature at a time. Total ’n’ models are possible. Select the feature with the lowest p-value.\n",
    "* Fit all possible models with one extra feature added to the previously selected feature(s).\n",
    "* Again, select the feature with minimum p-value. if p_value < significance level then go to Step 3, otherwise terminate the process."
   ]
  },
  {
   "cell_type": "code",
   "execution_count": 74,
   "metadata": {
    "ExecuteTime": {
     "end_time": "2020-07-19T19:52:08.401451Z",
     "start_time": "2020-07-19T19:52:08.346498Z"
    }
   },
   "outputs": [],
   "source": [
    "# https://towardsdatascience.com/feature-selection-using-wrapper-methods-in-python-f0d352b346f\n",
    "\n",
    "import statsmodels.api as sm\n",
    "\n",
    "def forward_selection(data, target, significance_level=0.05):\n",
    "    initial_features = data.columns.tolist()\n",
    "    best_features = []\n",
    "    while (len(initial_features)>0):\n",
    "        remaining_features = list(set(initial_features)-set(best_features))\n",
    "        new_pval = pd.Series(index=remaining_features)\n",
    "        for new_column in remaining_features:\n",
    "            model = sm.OLS(target, sm.add_constant(data[best_features+[new_column]])).fit()\n",
    "            new_pval[new_column] = model.pvalues[new_column]\n",
    "        min_p_value = new_pval.min()\n",
    "        if(min_p_value<significance_level):\n",
    "            best_features.append(new_pval.idxmin())\n",
    "        else:\n",
    "            break\n",
    "    return best_features"
   ]
  },
  {
   "cell_type": "code",
   "execution_count": 75,
   "metadata": {
    "ExecuteTime": {
     "end_time": "2020-07-19T19:52:38.557433Z",
     "start_time": "2020-07-19T19:52:12.754445Z"
    }
   },
   "outputs": [
    {
     "name": "stderr",
     "output_type": "stream",
     "text": [
      "C:\\Users\\13750\\Anaconda3\\lib\\site-packages\\numpy\\core\\fromnumeric.py:2495: FutureWarning: Method .ptp is deprecated and will be removed in a future version. Use numpy.ptp instead.\n",
      "  return ptp(axis=axis, out=out, **kwargs)\n",
      "C:\\Users\\13750\\Anaconda3\\lib\\site-packages\\numpy\\core\\fromnumeric.py:2495: FutureWarning: Method .ptp is deprecated and will be removed in a future version. Use numpy.ptp instead.\n",
      "  return ptp(axis=axis, out=out, **kwargs)\n",
      "C:\\Users\\13750\\Anaconda3\\lib\\site-packages\\numpy\\core\\fromnumeric.py:2495: FutureWarning: Method .ptp is deprecated and will be removed in a future version. Use numpy.ptp instead.\n",
      "  return ptp(axis=axis, out=out, **kwargs)\n",
      "C:\\Users\\13750\\Anaconda3\\lib\\site-packages\\numpy\\core\\fromnumeric.py:2495: FutureWarning: Method .ptp is deprecated and will be removed in a future version. Use numpy.ptp instead.\n",
      "  return ptp(axis=axis, out=out, **kwargs)\n",
      "C:\\Users\\13750\\Anaconda3\\lib\\site-packages\\numpy\\core\\fromnumeric.py:2495: FutureWarning: Method .ptp is deprecated and will be removed in a future version. Use numpy.ptp instead.\n",
      "  return ptp(axis=axis, out=out, **kwargs)\n",
      "C:\\Users\\13750\\Anaconda3\\lib\\site-packages\\numpy\\core\\fromnumeric.py:2495: FutureWarning: Method .ptp is deprecated and will be removed in a future version. Use numpy.ptp instead.\n",
      "  return ptp(axis=axis, out=out, **kwargs)\n",
      "C:\\Users\\13750\\Anaconda3\\lib\\site-packages\\numpy\\core\\fromnumeric.py:2495: FutureWarning: Method .ptp is deprecated and will be removed in a future version. Use numpy.ptp instead.\n",
      "  return ptp(axis=axis, out=out, **kwargs)\n",
      "C:\\Users\\13750\\Anaconda3\\lib\\site-packages\\numpy\\core\\fromnumeric.py:2495: FutureWarning: Method .ptp is deprecated and will be removed in a future version. Use numpy.ptp instead.\n",
      "  return ptp(axis=axis, out=out, **kwargs)\n",
      "C:\\Users\\13750\\Anaconda3\\lib\\site-packages\\numpy\\core\\fromnumeric.py:2495: FutureWarning: Method .ptp is deprecated and will be removed in a future version. Use numpy.ptp instead.\n",
      "  return ptp(axis=axis, out=out, **kwargs)\n",
      "C:\\Users\\13750\\Anaconda3\\lib\\site-packages\\numpy\\core\\fromnumeric.py:2495: FutureWarning: Method .ptp is deprecated and will be removed in a future version. Use numpy.ptp instead.\n",
      "  return ptp(axis=axis, out=out, **kwargs)\n",
      "C:\\Users\\13750\\Anaconda3\\lib\\site-packages\\numpy\\core\\fromnumeric.py:2495: FutureWarning: Method .ptp is deprecated and will be removed in a future version. Use numpy.ptp instead.\n",
      "  return ptp(axis=axis, out=out, **kwargs)\n",
      "C:\\Users\\13750\\Anaconda3\\lib\\site-packages\\numpy\\core\\fromnumeric.py:2495: FutureWarning: Method .ptp is deprecated and will be removed in a future version. Use numpy.ptp instead.\n",
      "  return ptp(axis=axis, out=out, **kwargs)\n",
      "C:\\Users\\13750\\Anaconda3\\lib\\site-packages\\numpy\\core\\fromnumeric.py:2495: FutureWarning: Method .ptp is deprecated and will be removed in a future version. Use numpy.ptp instead.\n",
      "  return ptp(axis=axis, out=out, **kwargs)\n",
      "C:\\Users\\13750\\Anaconda3\\lib\\site-packages\\numpy\\core\\fromnumeric.py:2495: FutureWarning: Method .ptp is deprecated and will be removed in a future version. Use numpy.ptp instead.\n",
      "  return ptp(axis=axis, out=out, **kwargs)\n",
      "C:\\Users\\13750\\Anaconda3\\lib\\site-packages\\numpy\\core\\fromnumeric.py:2495: FutureWarning: Method .ptp is deprecated and will be removed in a future version. Use numpy.ptp instead.\n",
      "  return ptp(axis=axis, out=out, **kwargs)\n",
      "C:\\Users\\13750\\Anaconda3\\lib\\site-packages\\numpy\\core\\fromnumeric.py:2495: FutureWarning: Method .ptp is deprecated and will be removed in a future version. Use numpy.ptp instead.\n",
      "  return ptp(axis=axis, out=out, **kwargs)\n",
      "C:\\Users\\13750\\Anaconda3\\lib\\site-packages\\numpy\\core\\fromnumeric.py:2495: FutureWarning: Method .ptp is deprecated and will be removed in a future version. Use numpy.ptp instead.\n",
      "  return ptp(axis=axis, out=out, **kwargs)\n",
      "C:\\Users\\13750\\Anaconda3\\lib\\site-packages\\numpy\\core\\fromnumeric.py:2495: FutureWarning: Method .ptp is deprecated and will be removed in a future version. Use numpy.ptp instead.\n",
      "  return ptp(axis=axis, out=out, **kwargs)\n",
      "C:\\Users\\13750\\Anaconda3\\lib\\site-packages\\numpy\\core\\fromnumeric.py:2495: FutureWarning: Method .ptp is deprecated and will be removed in a future version. Use numpy.ptp instead.\n",
      "  return ptp(axis=axis, out=out, **kwargs)\n",
      "C:\\Users\\13750\\Anaconda3\\lib\\site-packages\\numpy\\core\\fromnumeric.py:2495: FutureWarning: Method .ptp is deprecated and will be removed in a future version. Use numpy.ptp instead.\n",
      "  return ptp(axis=axis, out=out, **kwargs)\n",
      "C:\\Users\\13750\\Anaconda3\\lib\\site-packages\\numpy\\core\\fromnumeric.py:2495: FutureWarning: Method .ptp is deprecated and will be removed in a future version. Use numpy.ptp instead.\n",
      "  return ptp(axis=axis, out=out, **kwargs)\n",
      "C:\\Users\\13750\\Anaconda3\\lib\\site-packages\\numpy\\core\\fromnumeric.py:2495: FutureWarning: Method .ptp is deprecated and will be removed in a future version. Use numpy.ptp instead.\n",
      "  return ptp(axis=axis, out=out, **kwargs)\n",
      "C:\\Users\\13750\\Anaconda3\\lib\\site-packages\\numpy\\core\\fromnumeric.py:2495: FutureWarning: Method .ptp is deprecated and will be removed in a future version. Use numpy.ptp instead.\n",
      "  return ptp(axis=axis, out=out, **kwargs)\n",
      "C:\\Users\\13750\\Anaconda3\\lib\\site-packages\\numpy\\core\\fromnumeric.py:2495: FutureWarning: Method .ptp is deprecated and will be removed in a future version. Use numpy.ptp instead.\n",
      "  return ptp(axis=axis, out=out, **kwargs)\n",
      "C:\\Users\\13750\\Anaconda3\\lib\\site-packages\\numpy\\core\\fromnumeric.py:2495: FutureWarning: Method .ptp is deprecated and will be removed in a future version. Use numpy.ptp instead.\n",
      "  return ptp(axis=axis, out=out, **kwargs)\n",
      "C:\\Users\\13750\\Anaconda3\\lib\\site-packages\\numpy\\core\\fromnumeric.py:2495: FutureWarning: Method .ptp is deprecated and will be removed in a future version. Use numpy.ptp instead.\n",
      "  return ptp(axis=axis, out=out, **kwargs)\n",
      "C:\\Users\\13750\\Anaconda3\\lib\\site-packages\\numpy\\core\\fromnumeric.py:2495: FutureWarning: Method .ptp is deprecated and will be removed in a future version. Use numpy.ptp instead.\n",
      "  return ptp(axis=axis, out=out, **kwargs)\n",
      "C:\\Users\\13750\\Anaconda3\\lib\\site-packages\\numpy\\core\\fromnumeric.py:2495: FutureWarning: Method .ptp is deprecated and will be removed in a future version. Use numpy.ptp instead.\n",
      "  return ptp(axis=axis, out=out, **kwargs)\n",
      "C:\\Users\\13750\\Anaconda3\\lib\\site-packages\\numpy\\core\\fromnumeric.py:2495: FutureWarning: Method .ptp is deprecated and will be removed in a future version. Use numpy.ptp instead.\n",
      "  return ptp(axis=axis, out=out, **kwargs)\n",
      "C:\\Users\\13750\\Anaconda3\\lib\\site-packages\\numpy\\core\\fromnumeric.py:2495: FutureWarning: Method .ptp is deprecated and will be removed in a future version. Use numpy.ptp instead.\n",
      "  return ptp(axis=axis, out=out, **kwargs)\n",
      "C:\\Users\\13750\\Anaconda3\\lib\\site-packages\\numpy\\core\\fromnumeric.py:2495: FutureWarning: Method .ptp is deprecated and will be removed in a future version. Use numpy.ptp instead.\n",
      "  return ptp(axis=axis, out=out, **kwargs)\n",
      "C:\\Users\\13750\\Anaconda3\\lib\\site-packages\\numpy\\core\\fromnumeric.py:2495: FutureWarning: Method .ptp is deprecated and will be removed in a future version. Use numpy.ptp instead.\n",
      "  return ptp(axis=axis, out=out, **kwargs)\n",
      "C:\\Users\\13750\\Anaconda3\\lib\\site-packages\\numpy\\core\\fromnumeric.py:2495: FutureWarning: Method .ptp is deprecated and will be removed in a future version. Use numpy.ptp instead.\n",
      "  return ptp(axis=axis, out=out, **kwargs)\n",
      "C:\\Users\\13750\\Anaconda3\\lib\\site-packages\\numpy\\core\\fromnumeric.py:2495: FutureWarning: Method .ptp is deprecated and will be removed in a future version. Use numpy.ptp instead.\n",
      "  return ptp(axis=axis, out=out, **kwargs)\n",
      "C:\\Users\\13750\\Anaconda3\\lib\\site-packages\\numpy\\core\\fromnumeric.py:2495: FutureWarning: Method .ptp is deprecated and will be removed in a future version. Use numpy.ptp instead.\n",
      "  return ptp(axis=axis, out=out, **kwargs)\n",
      "C:\\Users\\13750\\Anaconda3\\lib\\site-packages\\numpy\\core\\fromnumeric.py:2495: FutureWarning: Method .ptp is deprecated and will be removed in a future version. Use numpy.ptp instead.\n",
      "  return ptp(axis=axis, out=out, **kwargs)\n",
      "C:\\Users\\13750\\Anaconda3\\lib\\site-packages\\numpy\\core\\fromnumeric.py:2495: FutureWarning: Method .ptp is deprecated and will be removed in a future version. Use numpy.ptp instead.\n",
      "  return ptp(axis=axis, out=out, **kwargs)\n",
      "C:\\Users\\13750\\Anaconda3\\lib\\site-packages\\numpy\\core\\fromnumeric.py:2495: FutureWarning: Method .ptp is deprecated and will be removed in a future version. Use numpy.ptp instead.\n",
      "  return ptp(axis=axis, out=out, **kwargs)\n"
     ]
    },
    {
     "name": "stderr",
     "output_type": "stream",
     "text": [
      "C:\\Users\\13750\\Anaconda3\\lib\\site-packages\\numpy\\core\\fromnumeric.py:2495: FutureWarning: Method .ptp is deprecated and will be removed in a future version. Use numpy.ptp instead.\n",
      "  return ptp(axis=axis, out=out, **kwargs)\n",
      "C:\\Users\\13750\\Anaconda3\\lib\\site-packages\\numpy\\core\\fromnumeric.py:2495: FutureWarning: Method .ptp is deprecated and will be removed in a future version. Use numpy.ptp instead.\n",
      "  return ptp(axis=axis, out=out, **kwargs)\n",
      "C:\\Users\\13750\\Anaconda3\\lib\\site-packages\\numpy\\core\\fromnumeric.py:2495: FutureWarning: Method .ptp is deprecated and will be removed in a future version. Use numpy.ptp instead.\n",
      "  return ptp(axis=axis, out=out, **kwargs)\n",
      "C:\\Users\\13750\\Anaconda3\\lib\\site-packages\\numpy\\core\\fromnumeric.py:2495: FutureWarning: Method .ptp is deprecated and will be removed in a future version. Use numpy.ptp instead.\n",
      "  return ptp(axis=axis, out=out, **kwargs)\n",
      "C:\\Users\\13750\\Anaconda3\\lib\\site-packages\\numpy\\core\\fromnumeric.py:2495: FutureWarning: Method .ptp is deprecated and will be removed in a future version. Use numpy.ptp instead.\n",
      "  return ptp(axis=axis, out=out, **kwargs)\n",
      "C:\\Users\\13750\\Anaconda3\\lib\\site-packages\\numpy\\core\\fromnumeric.py:2495: FutureWarning: Method .ptp is deprecated and will be removed in a future version. Use numpy.ptp instead.\n",
      "  return ptp(axis=axis, out=out, **kwargs)\n",
      "C:\\Users\\13750\\Anaconda3\\lib\\site-packages\\numpy\\core\\fromnumeric.py:2495: FutureWarning: Method .ptp is deprecated and will be removed in a future version. Use numpy.ptp instead.\n",
      "  return ptp(axis=axis, out=out, **kwargs)\n",
      "C:\\Users\\13750\\Anaconda3\\lib\\site-packages\\numpy\\core\\fromnumeric.py:2495: FutureWarning: Method .ptp is deprecated and will be removed in a future version. Use numpy.ptp instead.\n",
      "  return ptp(axis=axis, out=out, **kwargs)\n",
      "C:\\Users\\13750\\Anaconda3\\lib\\site-packages\\numpy\\core\\fromnumeric.py:2495: FutureWarning: Method .ptp is deprecated and will be removed in a future version. Use numpy.ptp instead.\n",
      "  return ptp(axis=axis, out=out, **kwargs)\n",
      "C:\\Users\\13750\\Anaconda3\\lib\\site-packages\\numpy\\core\\fromnumeric.py:2495: FutureWarning: Method .ptp is deprecated and will be removed in a future version. Use numpy.ptp instead.\n",
      "  return ptp(axis=axis, out=out, **kwargs)\n",
      "C:\\Users\\13750\\Anaconda3\\lib\\site-packages\\numpy\\core\\fromnumeric.py:2495: FutureWarning: Method .ptp is deprecated and will be removed in a future version. Use numpy.ptp instead.\n",
      "  return ptp(axis=axis, out=out, **kwargs)\n",
      "C:\\Users\\13750\\Anaconda3\\lib\\site-packages\\numpy\\core\\fromnumeric.py:2495: FutureWarning: Method .ptp is deprecated and will be removed in a future version. Use numpy.ptp instead.\n",
      "  return ptp(axis=axis, out=out, **kwargs)\n",
      "C:\\Users\\13750\\Anaconda3\\lib\\site-packages\\numpy\\core\\fromnumeric.py:2495: FutureWarning: Method .ptp is deprecated and will be removed in a future version. Use numpy.ptp instead.\n",
      "  return ptp(axis=axis, out=out, **kwargs)\n",
      "C:\\Users\\13750\\Anaconda3\\lib\\site-packages\\numpy\\core\\fromnumeric.py:2495: FutureWarning: Method .ptp is deprecated and will be removed in a future version. Use numpy.ptp instead.\n",
      "  return ptp(axis=axis, out=out, **kwargs)\n",
      "C:\\Users\\13750\\Anaconda3\\lib\\site-packages\\numpy\\core\\fromnumeric.py:2495: FutureWarning: Method .ptp is deprecated and will be removed in a future version. Use numpy.ptp instead.\n",
      "  return ptp(axis=axis, out=out, **kwargs)\n",
      "C:\\Users\\13750\\Anaconda3\\lib\\site-packages\\numpy\\core\\fromnumeric.py:2495: FutureWarning: Method .ptp is deprecated and will be removed in a future version. Use numpy.ptp instead.\n",
      "  return ptp(axis=axis, out=out, **kwargs)\n",
      "C:\\Users\\13750\\Anaconda3\\lib\\site-packages\\numpy\\core\\fromnumeric.py:2495: FutureWarning: Method .ptp is deprecated and will be removed in a future version. Use numpy.ptp instead.\n",
      "  return ptp(axis=axis, out=out, **kwargs)\n",
      "C:\\Users\\13750\\Anaconda3\\lib\\site-packages\\numpy\\core\\fromnumeric.py:2495: FutureWarning: Method .ptp is deprecated and will be removed in a future version. Use numpy.ptp instead.\n",
      "  return ptp(axis=axis, out=out, **kwargs)\n",
      "C:\\Users\\13750\\Anaconda3\\lib\\site-packages\\numpy\\core\\fromnumeric.py:2495: FutureWarning: Method .ptp is deprecated and will be removed in a future version. Use numpy.ptp instead.\n",
      "  return ptp(axis=axis, out=out, **kwargs)\n",
      "C:\\Users\\13750\\Anaconda3\\lib\\site-packages\\numpy\\core\\fromnumeric.py:2495: FutureWarning: Method .ptp is deprecated and will be removed in a future version. Use numpy.ptp instead.\n",
      "  return ptp(axis=axis, out=out, **kwargs)\n"
     ]
    },
    {
     "data": {
      "text/plain": [
       "['Administrative',\n",
       " 'Informational_Duration',\n",
       " 'ProductRelated_Duration',\n",
       " 'Informational',\n",
       " 'ProductRelated',\n",
       " 'Administrative_Duration',\n",
       " 'ExitRates',\n",
       " 'Month_Nov',\n",
       " 'VisitorType_Returning_Visitor',\n",
       " 'TrafficType_14',\n",
       " 'PageValues',\n",
       " 'TrafficType_2',\n",
       " 'BounceRates',\n",
       " 'Region_5',\n",
       " 'TrafficType_5',\n",
       " 'Month_Jul']"
      ]
     },
     "execution_count": 75,
     "metadata": {},
     "output_type": "execute_result"
    }
   ],
   "source": [
    "forward_selection(X01,y01)\n"
   ]
  },
  {
   "cell_type": "code",
   "execution_count": 83,
   "metadata": {},
   "outputs": [],
   "source": [
    "X_model01 = X01[['Administrative',\n",
    " 'Informational_Duration',\n",
    " 'ProductRelated_Duration',\n",
    " 'Informational',\n",
    " 'ProductRelated',\n",
    " 'Administrative_Duration',\n",
    " 'ExitRates',\n",
    " 'Month_Nov',\n",
    " 'VisitorType_Returning_Visitor',\n",
    " 'TrafficType_14',\n",
    " 'PageValues',\n",
    " 'TrafficType_2',\n",
    " 'BounceRates',\n",
    " 'Region_5',\n",
    " 'TrafficType_5',\n",
    " 'Month_Jul']]\n",
    "\n",
    "y_model01 = y01.copy()"
   ]
  },
  {
   "cell_type": "markdown",
   "metadata": {},
   "source": [
    "From forward_selection, 16 features were selected and will be used for SVM model01."
   ]
  },
  {
   "cell_type": "markdown",
   "metadata": {},
   "source": [
    "### 2. Feature selection - based on data type\n",
    "\n",
    "Also, we would like to use numerical vaiables in the original dataset for the second model."
   ]
  },
  {
   "cell_type": "code",
   "execution_count": 86,
   "metadata": {
    "ExecuteTime": {
     "end_time": "2020-07-19T17:21:32.004876Z",
     "start_time": "2020-07-19T17:21:31.996248Z"
    }
   },
   "outputs": [],
   "source": [
    "X_model02 = X01[['Administrative', 'Administrative_Duration', 'Informational',\n",
    "       'Informational_Duration', 'ProductRelated', 'ProductRelated_Duration',\n",
    "       'BounceRates', 'ExitRates', 'PageValues', 'SpecialDay', 'IsWeekend']]\n",
    "\n",
    "y_model02 = y01.copy()"
   ]
  },
  {
   "cell_type": "markdown",
   "metadata": {},
   "source": [
    "### 3. Over-sampling using SMOTE\n",
    "\n",
    "The dataset is not balanced, we'll use SMOTE to balance the dataset, and check the null error rate. "
   ]
  },
  {
   "cell_type": "code",
   "execution_count": 87,
   "metadata": {
    "ExecuteTime": {
     "end_time": "2020-07-19T19:54:51.960356Z",
     "start_time": "2020-07-19T19:54:50.491868Z"
    }
   },
   "outputs": [
    {
     "data": {
      "text/plain": [
       "<matplotlib.axes._subplots.AxesSubplot at 0x20da4b7df60>"
      ]
     },
     "execution_count": 87,
     "metadata": {},
     "output_type": "execute_result"
    },
    {
     "data": {
      "image/png": "[encoded data removed]",
      "text/plain": [
       "<Figure size 720x288 with 1 Axes>"
      ]
     },
     "metadata": {
      "needs_background": "light"
     },
     "output_type": "display_data"
    }
   ],
   "source": [
    "sns.countplot(x='Revenue', data=y01)\n"
   ]
  },
  {
   "cell_type": "code",
   "execution_count": 89,
   "metadata": {},
   "outputs": [
    {
     "name": "stdout",
     "output_type": "stream",
     "text": [
      "Training dataset shape: (9864, 16) (9864, 1)\n",
      "Testing dataset shape: (2466, 16) (2466, 1)\n"
     ]
    }
   ],
   "source": [
    "from sklearn.model_selection import train_test_split\n",
    "\n",
    "# Now split the data into training and testing subsets. \n",
    "X_train, X_test, y_train, y_test = train_test_split(X_model01, y_model01, test_size=0.2, random_state=0)\n",
    "\n",
    "# check the results\n",
    "print('Training dataset shape:', X_train.shape, y_train.shape)\n",
    "print('Testing dataset shape:', X_test.shape, y_test.shape)"
   ]
  },
  {
   "cell_type": "code",
   "execution_count": 90,
   "metadata": {
    "ExecuteTime": {
     "end_time": "2020-07-19T23:30:45.157733Z",
     "start_time": "2020-07-19T23:30:44.291273Z"
    }
   },
   "outputs": [
    {
     "name": "stdout",
     "output_type": "stream",
     "text": [
      "length of oversampled data is  20914\n",
      "Number of no Revenue in oversampled data 10457\n",
      "Number of Revenue 10457\n",
      "Proportion of no Revenue data in oversampled data is  0.5\n",
      "Proportion of Revenue data in oversampled data is  0.5\n"
     ]
    }
   ],
   "source": [
    "from imblearn.over_sampling import SMOTE\n",
    "\n",
    "os = SMOTE(random_state=0)\n",
    "columns = X_train.columns\n",
    "X_resampled_test,y_resampled_test=os.fit_sample(X01, y01)\n",
    "\n",
    "os_data_X = pd.DataFrame(data=X_resampled_test,columns=columns )\n",
    "os_data_y= pd.DataFrame(data=y_resampled_test,columns=['Revenue'])\n",
    "\n",
    "# we can Check the numbers of our data\n",
    "print(\"length of oversampled data is \",len(X_resampled_test))\n",
    "print(\"Number of no Revenue in oversampled data\",len(y_resampled_test[y_resampled_test['Revenue']==0]))\n",
    "print(\"Number of Revenue\",len(y_resampled_test[y_resampled_test['Revenue']==1]))\n",
    "print(\"Proportion of no Revenue data in oversampled data is \",len(y_resampled_test[y_resampled_test['Revenue']==0])/len(X_resampled_test))\n",
    "print(\"Proportion of Revenue data in oversampled data is \",len(y_resampled_test[y_resampled_test['Revenue']==1])/len(X_resampled_test))\n",
    "\n"
   ]
  },
  {
   "cell_type": "code",
   "execution_count": 91,
   "metadata": {
    "ExecuteTime": {
     "end_time": "2020-07-19T19:55:02.258247Z",
     "start_time": "2020-07-19T19:55:01.548004Z"
    },
    "scrolled": true
   },
   "outputs": [
    {
     "data": {
      "text/plain": [
       "<matplotlib.axes._subplots.AxesSubplot at 0x20da49615f8>"
      ]
     },
     "execution_count": 91,
     "metadata": {},
     "output_type": "execute_result"
    },
    {
     "data": {
      "image/png": "[encoded data removed]",
      "text/plain": [
       "<Figure size 720x288 with 1 Axes>"
      ]
     },
     "metadata": {
      "needs_background": "light"
     },
     "output_type": "display_data"
    }
   ],
   "source": [
    "# observe that data has been balanced\n",
    "sns.countplot(x='Revenue', data=os_data_y)"
   ]
  },
  {
   "cell_type": "markdown",
   "metadata": {},
   "source": [
    "**Check the null error rate:**\n",
    "\n",
    "Null Error Rate is how often you would be wrong if you always predicted the majority class.\n"
   ]
  },
  {
   "cell_type": "code",
   "execution_count": 95,
   "metadata": {
    "ExecuteTime": {
     "end_time": "2020-07-19T19:55:05.016219Z",
     "start_time": "2020-07-19T19:55:05.004955Z"
    }
   },
   "outputs": [
    {
     "data": {
      "text/plain": [
       "0.15190592051905916"
      ]
     },
     "execution_count": 95,
     "metadata": {},
     "output_type": "execute_result"
    }
   ],
   "source": [
    "# Null error rate of the original dataset\n",
    "1 - y01.Revenue.values.sum() / y01.shape[0]"
   ]
  },
  {
   "cell_type": "code",
   "execution_count": 96,
   "metadata": {
    "ExecuteTime": {
     "end_time": "2020-07-19T19:55:07.382369Z",
     "start_time": "2020-07-19T19:55:07.344196Z"
    }
   },
   "outputs": [
    {
     "data": {
      "text/plain": [
       "0.5"
      ]
     },
     "execution_count": 96,
     "metadata": {},
     "output_type": "execute_result"
    }
   ],
   "source": [
    "# null error rate of balanced dataset\n",
    "# set up dataset after SMOTE\n",
    "data_train = pd.concat([os_data_X, os_data_y], axis=1)\n",
    "\n",
    "# what percentage of the training set denied?\n",
    "data_train.Revenue.values.sum() / data_train.shape[0]"
   ]
  },
  {
   "cell_type": "markdown",
   "metadata": {},
   "source": [
    "The null error rate of the imbalanced trianing dataset is 85%, which is great but not reliable since the dataset is imbalanced. After using 'SMOTE' to balance the dataset, the null error rate for the balanced training dataset is reduced from 85% to 50%.\n",
    "\n",
    "### 4. Separate the dataframe into model training and testing subsets"
   ]
  },
  {
   "cell_type": "code",
   "execution_count": 487,
   "metadata": {
    "ExecuteTime": {
     "end_time": "2020-07-19T22:21:38.206694Z",
     "start_time": "2020-07-19T22:21:38.163628Z"
    }
   },
   "outputs": [
    {
     "name": "stdout",
     "output_type": "stream",
     "text": [
      "Training dataset shape: (16731, 68) (16731, 1)\n",
      "Testing dataset shape: (4183, 68) (4183, 1)\n"
     ]
    }
   ],
   "source": [
    "from sklearn.model_selection import train_test_split\n",
    "\n",
    "\n",
    "X_train, X_test, y_train, y_test = train_test_split(os_data_X, os_data_y, test_size=0.2, random_state=0)\n",
    "\n",
    "# check the results\n",
    "print('Training dataset shape:', X_train.shape, y_train.shape)\n",
    "print('Testing dataset shape:', X_test.shape, y_test.shape)\n"
   ]
  },
  {
   "cell_type": "code",
   "execution_count": 482,
   "metadata": {
    "ExecuteTime": {
     "end_time": "2020-07-19T22:19:37.435467Z",
     "start_time": "2020-07-19T22:19:37.334735Z"
    }
   },
   "outputs": [
    {
     "name": "stdout",
     "output_type": "stream",
     "text": [
      "Training dataset shape: (9864, 68) (9864, 1)\n",
      "Testing dataset shape: (2466, 68) (2466, 1)\n"
     ]
    }
   ],
   "source": [
    "X_train, X_test, y_train, y_test = train_test_split(X01, y01, test_size=0.2, random_state=0)\n",
    "\n",
    "# check the results\n",
    "print('Training dataset shape:', X_train.shape, y_train.shape)\n",
    "print('Testing dataset shape:', X_test.shape, y_test.shape)"
   ]
  },
  {
   "cell_type": "markdown",
   "metadata": {},
   "source": [
    "### 5. SVM model01\n",
    "\n",
    "The firsr SVM model consists of 16 variables."
   ]
  },
  {
   "cell_type": "code",
   "execution_count": 94,
   "metadata": {
    "ExecuteTime": {
     "end_time": "2020-07-19T22:29:28.317558Z",
     "start_time": "2020-07-19T22:29:27.670796Z"
    }
   },
   "outputs": [],
   "source": [
    "# train the model on train set \n",
    "SVM_model01 = SVC(kernel='linear', class_weight='balanced', C=1.0, random_state=0) \n",
    "\n",
    "#Create x_train and x_test variables.\n",
    "X_train_SVM01 = X_train[['ProductRelated',\n",
    " 'Informational',\n",
    " 'Administrative',\n",
    " 'Administrative_Duration',\n",
    " 'Informational_Duration',\n",
    " 'ExitRates',\n",
    " 'Month_Nov',\n",
    " 'VisitorType_Returning_Visitor',\n",
    " 'TrafficType_14',\n",
    " 'PageValues',\n",
    " 'TrafficType_2',\n",
    " 'BounceRates',\n",
    " 'Region_5',\n",
    " 'ProductRelated_Duration',\n",
    " 'TrafficType_5',\n",
    " 'Month_Jul']]\n",
    "\n",
    "X_test_SVM01 = X_test[['ProductRelated',\n",
    " 'Informational',\n",
    " 'Administrative',\n",
    " 'Administrative_Duration',\n",
    " 'Informational_Duration',\n",
    " 'ExitRates',\n",
    " 'Month_Nov',\n",
    " 'VisitorType_Returning_Visitor',\n",
    " 'TrafficType_14',\n",
    " 'PageValues',\n",
    " 'TrafficType_2',\n",
    " 'BounceRates',\n",
    " 'Region_5',\n",
    " 'ProductRelated_Duration',\n",
    " 'TrafficType_5',\n",
    " 'Month_Jul']]\n",
    "\n",
    "#fit the model\n",
    "SVM_model01.fit(X_train_SVM01, y_train.values.ravel()) \n",
    "\n",
    "#Predict test data set.\n",
    "y_pred01 = SVM_model01.predict(X_test_SVM01)\n"
   ]
  },
  {
   "cell_type": "markdown",
   "metadata": {},
   "source": [
    "### 6. SVM model02\n",
    "\n",
    "The second model has 11 features."
   ]
  },
  {
   "cell_type": "code",
   "execution_count": 504,
   "metadata": {
    "ExecuteTime": {
     "end_time": "2020-07-19T22:29:38.267806Z",
     "start_time": "2020-07-19T22:29:37.924828Z"
    }
   },
   "outputs": [],
   "source": [
    "# train the model on train set \n",
    "SVM_model02 = SVC(kernel='linear', class_weight='balanced', C=1.0, random_state=0) \n",
    "\n",
    "#Create x_train and x_test variables.\n",
    "X_train_SVM02 = X_train[['Administrative', 'Administrative_Duration', 'Informational',\n",
    "       'Informational_Duration', 'ProductRelated', 'ProductRelated_Duration',\n",
    "       'BounceRates', 'ExitRates', 'PageValues', 'SpecialDay', 'IsWeekend']]\n",
    "\n",
    "X_test_SVM02 = X_test[['Administrative', 'Administrative_Duration', 'Informational',\n",
    "       'Informational_Duration', 'ProductRelated', 'ProductRelated_Duration',\n",
    "       'BounceRates', 'ExitRates', 'PageValues', 'SpecialDay', 'IsWeekend']]\n",
    "\n",
    "#fit the model\n",
    "SVM_model02.fit(X_train_SVM02, y_train.values.ravel()) \n",
    "\n",
    "#Predict test data set.\n",
    "y_pred02 = SVM_model02.predict(X_test_SVM02)"
   ]
  },
  {
   "cell_type": "markdown",
   "metadata": {},
   "source": [
    "### 7. Evaluate SVM Models and Select a Final Model\n",
    "\n",
    "#### Create a function for model_report"
   ]
  },
  {
   "cell_type": "code",
   "execution_count": 490,
   "metadata": {
    "ExecuteTime": {
     "end_time": "2020-07-19T22:21:49.705314Z",
     "start_time": "2020-07-19T22:21:49.695895Z"
    }
   },
   "outputs": [],
   "source": [
    "def generate_model_report(y_actual, y_predicted):\n",
    "    print(\"Accuracy = \" , accuracy_score(y_actual, y_predicted))\n",
    "    print(\"Precision = \" ,precision_score(y_actual, y_predicted))\n",
    "    print(\"Recall = \" ,recall_score(y_actual, y_predicted))\n",
    "    print(\"F1 Score = \" ,f1_score(y_actual, y_predicted))\n",
    "    pass"
   ]
  },
  {
   "cell_type": "code",
   "execution_count": 505,
   "metadata": {
    "ExecuteTime": {
     "end_time": "2020-07-19T22:29:54.611490Z",
     "start_time": "2020-07-19T22:29:54.569786Z"
    }
   },
   "outputs": [
    {
     "name": "stdout",
     "output_type": "stream",
     "text": [
      "Model 01:\n",
      "Accuracy =  0.9980874970117141\n",
      "Precision =  0.9961832061068703\n",
      "Recall =  1.0\n",
      "F1 Score =  0.9980879541108987\n",
      "-------------------------------------------\n",
      "Model 02:\n",
      "Accuracy =  0.9978484341381784\n",
      "Precision =  0.9957081545064378\n",
      "Recall =  1.0\n",
      "F1 Score =  0.9978494623655914\n",
      "-------------------------------------------\n"
     ]
    }
   ],
   "source": [
    "# generate_model_report on the testing dataset\n",
    "print(\"Model 01:\")\n",
    "generate_model_report(y_test, y_pred01)\n",
    "print(\"-------------------------------------------\")\n",
    "\n",
    "print(\"Model 02:\")\n",
    "generate_model_report(y_test, y_pred02)\n",
    "print(\"-------------------------------------------\")"
   ]
  },
  {
   "cell_type": "markdown",
   "metadata": {},
   "source": [
    "**Create a function for Cross-Validation**"
   ]
  },
  {
   "cell_type": "code",
   "execution_count": 492,
   "metadata": {
    "ExecuteTime": {
     "end_time": "2020-07-19T22:21:56.593686Z",
     "start_time": "2020-07-19T22:21:56.586229Z"
    }
   },
   "outputs": [],
   "source": [
    "# Model Evaluation Using Cross-Validation\n",
    "def cv_scores (model, X_train, y_train):\n",
    "    cv_scores = cross_val_score(model, X_train, y_train, cv=10, scoring='accuracy',)\n",
    "    print('trainging dataset each cv score:',cv_scores)\n",
    "    print('Model Mean Accuracy (training datasert):{} '.format(np.mean(cv_scores)))\n",
    "    "
   ]
  },
  {
   "cell_type": "code",
   "execution_count": 501,
   "metadata": {
    "ExecuteTime": {
     "end_time": "2020-07-19T22:24:14.989817Z",
     "start_time": "2020-07-19T22:24:11.943108Z"
    }
   },
   "outputs": [
    {
     "name": "stdout",
     "output_type": "stream",
     "text": [
      "trainging dataset each cv score: [1.   1.   1.   0.99 1.   1.   1.   1.   1.   1.  ]\n",
      "Model Mean Accuracy (training datasert):0.9980275669302529 \n"
     ]
    }
   ],
   "source": [
    "# Cross-Validation\n",
    "cv_scores (SVM_model01, X_train_SVM01, y_train.values.ravel())"
   ]
  },
  {
   "cell_type": "code",
   "execution_count": 502,
   "metadata": {
    "ExecuteTime": {
     "end_time": "2020-07-19T22:24:19.352673Z",
     "start_time": "2020-07-19T22:24:17.147291Z"
    }
   },
   "outputs": [
    {
     "name": "stdout",
     "output_type": "stream",
     "text": [
      "trainging dataset each cv score: [1. 1. 1. 1. 1. 1. 1. 1. 1. 1.]\n",
      "Model Mean Accuracy (training datasert):0.9981470769498844 \n"
     ]
    }
   ],
   "source": [
    "# Cross-Validation\n",
    "cv_scores (SVM_model02, X_train_SVM02, y_train.values.ravel())"
   ]
  },
  {
   "cell_type": "markdown",
   "metadata": {},
   "source": [
    "**Compare model evaluation:**\n",
    "\n",
    "\n",
    "| Metric        | Model 1 | Model 2 | \n",
    "| ------------- | ------- | ------- | \n",
    "| # Indep. Vars |  16     |   11    |     \n",
    "| The Accuracy of the model  | 0.998  | 0.998  | \n",
    "| Accuracy      | 0.998  | 0.998  |  \n",
    "| Precision     | 0.996  | 0.997  |\n",
    "| F1 Score      | 0.998  | 0.998  | \n",
    "| Recall           |1  | 1 | "
   ]
  },
  {
   "cell_type": "markdown",
   "metadata": {},
   "source": [
    "#### Results:\n",
    "\n",
    "We performed Cross-Validation to evaluate the training model. Two models have the same accuracy score.\n",
    "\n",
    "For the test dataset, we performed accuracy, Precision, F1 Score, and Recall to evaluate the SVM models. Two models have almost the same results that means similar classification performance can be achieved with less number of features. We'll pick the second model as our model since it has less features than the first model.\n",
    "\n",
    "## 8. Clustering + SVM Output vs. Actual Labels "
   ]
  },
  {
   "cell_type": "code",
   "execution_count": 507,
   "metadata": {
    "ExecuteTime": {
     "end_time": "2020-07-19T22:40:07.842509Z",
     "start_time": "2020-07-19T22:40:07.505975Z"
    }
   },
   "outputs": [],
   "source": [
    "# use model02 to predice the revenue\n",
    "X_final = X01[['Administrative', 'Administrative_Duration', 'Informational',\n",
    "       'Informational_Duration', 'ProductRelated', 'ProductRelated_Duration',\n",
    "       'BounceRates', 'ExitRates', 'PageValues', 'SpecialDay', 'IsWeekend']]\n",
    "\n",
    "#fit the model\n",
    "SVM_model02.fit(X_final, y01.values.ravel()) \n",
    "\n",
    "#Predict test data set.\n",
    "y_pred_final = SVM_model02.predict(X_final)"
   ]
  },
  {
   "cell_type": "code",
   "execution_count": 515,
   "metadata": {
    "ExecuteTime": {
     "end_time": "2020-07-19T22:45:40.915667Z",
     "start_time": "2020-07-19T22:45:40.908151Z"
    }
   },
   "outputs": [],
   "source": [
    "# put data into a dataframe\n",
    "df_pred = pd.DataFrame(y_pred_final, columns=y01.columns)\n",
    "df_pred02 = df_pred.rename(columns = {\"Revenue\": \"Pred_Revenue\"}) \n"
   ]
  },
  {
   "cell_type": "code",
   "execution_count": 576,
   "metadata": {
    "ExecuteTime": {
     "end_time": "2020-07-20T00:10:18.701619Z",
     "start_time": "2020-07-20T00:10:18.644022Z"
    }
   },
   "outputs": [
    {
     "data": {
      "text/html": [
       "<div>\n",
       "<style scoped>\n",
       "    .dataframe tbody tr th:only-of-type {\n",
       "        vertical-align: middle;\n",
       "    }\n",
       "\n",
       "    .dataframe tbody tr th {\n",
       "        vertical-align: top;\n",
       "    }\n",
       "\n",
       "    .dataframe thead th {\n",
       "        text-align: right;\n",
       "    }\n",
       "</style>\n",
       "<table border=\"1\" class=\"dataframe\">\n",
       "  <thead>\n",
       "    <tr style=\"text-align: right;\">\n",
       "      <th></th>\n",
       "      <th>Administrative</th>\n",
       "      <th>Administrative_Duration</th>\n",
       "      <th>Informational</th>\n",
       "      <th>Informational_Duration</th>\n",
       "      <th>ProductRelated</th>\n",
       "      <th>ProductRelated_Duration</th>\n",
       "      <th>BounceRates</th>\n",
       "      <th>ExitRates</th>\n",
       "      <th>PageValues</th>\n",
       "      <th>SpecialDay</th>\n",
       "      <th>Month</th>\n",
       "      <th>OperatingSystems</th>\n",
       "      <th>Browser</th>\n",
       "      <th>Region</th>\n",
       "      <th>TrafficType</th>\n",
       "      <th>VisitorType</th>\n",
       "      <th>IsWeekend</th>\n",
       "      <th>Revenue</th>\n",
       "      <th>V_Revenue</th>\n",
       "      <th>Pred_Revenue</th>\n",
       "    </tr>\n",
       "  </thead>\n",
       "  <tbody>\n",
       "    <tr>\n",
       "      <th>0</th>\n",
       "      <td>0</td>\n",
       "      <td>0.0</td>\n",
       "      <td>0</td>\n",
       "      <td>0.0</td>\n",
       "      <td>8</td>\n",
       "      <td>222.000000</td>\n",
       "      <td>0.000000</td>\n",
       "      <td>0.028571</td>\n",
       "      <td>53.474571</td>\n",
       "      <td>0.0</td>\n",
       "      <td>May</td>\n",
       "      <td>1</td>\n",
       "      <td>1</td>\n",
       "      <td>1</td>\n",
       "      <td>2</td>\n",
       "      <td>New_Visitor</td>\n",
       "      <td>1</td>\n",
       "      <td>0</td>\n",
       "      <td>1</td>\n",
       "      <td>0</td>\n",
       "    </tr>\n",
       "    <tr>\n",
       "      <th>1</th>\n",
       "      <td>0</td>\n",
       "      <td>0.0</td>\n",
       "      <td>0</td>\n",
       "      <td>0.0</td>\n",
       "      <td>14</td>\n",
       "      <td>1037.500000</td>\n",
       "      <td>0.014286</td>\n",
       "      <td>0.047619</td>\n",
       "      <td>0.000000</td>\n",
       "      <td>0.0</td>\n",
       "      <td>Mar</td>\n",
       "      <td>2</td>\n",
       "      <td>2</td>\n",
       "      <td>4</td>\n",
       "      <td>2</td>\n",
       "      <td>Returning_Visitor</td>\n",
       "      <td>0</td>\n",
       "      <td>0</td>\n",
       "      <td>0</td>\n",
       "      <td>0</td>\n",
       "    </tr>\n",
       "    <tr>\n",
       "      <th>2</th>\n",
       "      <td>4</td>\n",
       "      <td>37.5</td>\n",
       "      <td>2</td>\n",
       "      <td>82.0</td>\n",
       "      <td>4</td>\n",
       "      <td>96.625000</td>\n",
       "      <td>0.000000</td>\n",
       "      <td>0.017500</td>\n",
       "      <td>0.000000</td>\n",
       "      <td>0.0</td>\n",
       "      <td>Nov</td>\n",
       "      <td>2</td>\n",
       "      <td>2</td>\n",
       "      <td>9</td>\n",
       "      <td>2</td>\n",
       "      <td>New_Visitor</td>\n",
       "      <td>0</td>\n",
       "      <td>0</td>\n",
       "      <td>0</td>\n",
       "      <td>0</td>\n",
       "    </tr>\n",
       "    <tr>\n",
       "      <th>3</th>\n",
       "      <td>4</td>\n",
       "      <td>115.7</td>\n",
       "      <td>0</td>\n",
       "      <td>0.0</td>\n",
       "      <td>16</td>\n",
       "      <td>655.383333</td>\n",
       "      <td>0.000000</td>\n",
       "      <td>0.012037</td>\n",
       "      <td>0.000000</td>\n",
       "      <td>0.0</td>\n",
       "      <td>Nov</td>\n",
       "      <td>1</td>\n",
       "      <td>1</td>\n",
       "      <td>2</td>\n",
       "      <td>3</td>\n",
       "      <td>Returning_Visitor</td>\n",
       "      <td>0</td>\n",
       "      <td>0</td>\n",
       "      <td>0</td>\n",
       "      <td>0</td>\n",
       "    </tr>\n",
       "    <tr>\n",
       "      <th>4</th>\n",
       "      <td>1</td>\n",
       "      <td>60.0</td>\n",
       "      <td>1</td>\n",
       "      <td>15.0</td>\n",
       "      <td>26</td>\n",
       "      <td>670.166667</td>\n",
       "      <td>0.000000</td>\n",
       "      <td>0.003846</td>\n",
       "      <td>0.000000</td>\n",
       "      <td>0.0</td>\n",
       "      <td>May</td>\n",
       "      <td>2</td>\n",
       "      <td>2</td>\n",
       "      <td>3</td>\n",
       "      <td>4</td>\n",
       "      <td>Returning_Visitor</td>\n",
       "      <td>0</td>\n",
       "      <td>0</td>\n",
       "      <td>0</td>\n",
       "      <td>0</td>\n",
       "    </tr>\n",
       "  </tbody>\n",
       "</table>\n",
       "</div>"
      ],
      "text/plain": [
       "   Administrative  Administrative_Duration  Informational  \\\n",
       "0               0                      0.0              0   \n",
       "1               0                      0.0              0   \n",
       "2               4                     37.5              2   \n",
       "3               4                    115.7              0   \n",
       "4               1                     60.0              1   \n",
       "\n",
       "   Informational_Duration  ProductRelated  ProductRelated_Duration  \\\n",
       "0                     0.0               8               222.000000   \n",
       "1                     0.0              14              1037.500000   \n",
       "2                    82.0               4                96.625000   \n",
       "3                     0.0              16               655.383333   \n",
       "4                    15.0              26               670.166667   \n",
       "\n",
       "   BounceRates  ExitRates  PageValues  SpecialDay Month OperatingSystems  \\\n",
       "0     0.000000   0.028571   53.474571         0.0   May                1   \n",
       "1     0.014286   0.047619    0.000000         0.0   Mar                2   \n",
       "2     0.000000   0.017500    0.000000         0.0   Nov                2   \n",
       "3     0.000000   0.012037    0.000000         0.0   Nov                1   \n",
       "4     0.000000   0.003846    0.000000         0.0   May                2   \n",
       "\n",
       "  Browser Region TrafficType        VisitorType  IsWeekend  Revenue  \\\n",
       "0       1      1           2        New_Visitor          1        0   \n",
       "1       2      4           2  Returning_Visitor          0        0   \n",
       "2       2      9           2        New_Visitor          0        0   \n",
       "3       1      2           3  Returning_Visitor          0        0   \n",
       "4       2      3           4  Returning_Visitor          0        0   \n",
       "\n",
       "   V_Revenue  Pred_Revenue  \n",
       "0          1             0  \n",
       "1          0             0  \n",
       "2          0             0  \n",
       "3          0             0  \n",
       "4          0             0  "
      ]
     },
     "execution_count": 576,
     "metadata": {},
     "output_type": "execute_result"
    }
   ],
   "source": [
    "# merge all together\n",
    "data_final = pd.concat([df_final, df_pred02], axis=1)\n",
    "\n",
    "data_final.head()"
   ]
  },
  {
   "cell_type": "code",
   "execution_count": 525,
   "metadata": {
    "ExecuteTime": {
     "end_time": "2020-07-19T22:55:36.739523Z",
     "start_time": "2020-07-19T22:55:36.053812Z"
    }
   },
   "outputs": [
    {
     "data": {
      "image/png": "[encoded data removed]",
      "text/plain": [
       "<Figure size 720x288 with 3 Axes>"
      ]
     },
     "metadata": {},
     "output_type": "display_data"
    }
   ],
   "source": [
    "# checking the Distribution of customers on Revenue\n",
    "\n",
    "plt.rcParams['figure.figsize'] = (10, 4)\n",
    "\n",
    "plt.subplot(1, 3, 1)\n",
    "sns.countplot(data_final['Pred_Revenue'], palette = 'pastel')\n",
    "plt.title('Revenue predicted by SVM', fontsize = 15)\n",
    "plt.xlabel('Revenue or not', fontsize = 15)\n",
    "plt.ylabel('count', fontsize = 15)\n",
    "\n",
    "# checking the Distribution of customers on Weekend\n",
    "plt.subplot(1, 3, 2)\n",
    "sns.countplot(data_final['Revenue'])\n",
    "plt.title('Clustered Revenue', fontsize = 15)\n",
    "plt.xlabel('Revenue or not', fontsize = 15)\n",
    "plt.ylabel('count', fontsize = 15)\n",
    "\n",
    "# checking the Distribution of customers on Weekend\n",
    "plt.subplot(1, 3, 3)\n",
    "sns.countplot(data_final['V_Revenue'])\n",
    "plt.title('Actual Revenue', fontsize = 15)\n",
    "plt.xlabel('Revenue or not', fontsize = 15)\n",
    "plt.ylabel('count', fontsize = 15)\n",
    "\n",
    "plt.show()"
   ]
  },
  {
   "cell_type": "markdown",
   "metadata": {},
   "source": [
    "From the plots above, we can see that the SVM, Clustering model, and actual classification have the similar total number of revenue=1. Next, we'll compare the values predicted by the models with the actual labels. \n",
    "\n",
    "**Clustered revenue vs. Actual revenue**"
   ]
  },
  {
   "cell_type": "code",
   "execution_count": 577,
   "metadata": {
    "ExecuteTime": {
     "end_time": "2020-07-20T00:10:22.886353Z",
     "start_time": "2020-07-20T00:10:22.856191Z"
    }
   },
   "outputs": [
    {
     "data": {
      "text/plain": [
       "yes    9591\n",
       "no     2739\n",
       "Name: compare_cluster, dtype: int64"
      ]
     },
     "execution_count": 577,
     "metadata": {},
     "output_type": "execute_result"
    }
   ],
   "source": [
    "# clustered revenue vs. actual revenue\n",
    "data_final['compare_cluster'] = np.where(data_final['Revenue']==data_final['V_Revenue'], \n",
    "                                           'yes', 'no')\n",
    "\n",
    "data_final['compare_cluster'].value_counts()"
   ]
  },
  {
   "cell_type": "code",
   "execution_count": 578,
   "metadata": {
    "ExecuteTime": {
     "end_time": "2020-07-20T00:10:25.819205Z",
     "start_time": "2020-07-20T00:10:25.787766Z"
    },
    "scrolled": true
   },
   "outputs": [
    {
     "name": "stdout",
     "output_type": "stream",
     "text": [
      "Proportion of cluster Revenue eaqual to the actual Revenue is  0.7778588807785888\n"
     ]
    }
   ],
   "source": [
    "print(\"Proportion of cluster Revenue eaqual to the actual Revenue is \",len(data_final[data_final['compare_cluster']=='yes'])/len(data_final))\n"
   ]
  },
  {
   "cell_type": "markdown",
   "metadata": {},
   "source": [
    "**SVM revenue vs. Actual revenue**"
   ]
  },
  {
   "cell_type": "code",
   "execution_count": 579,
   "metadata": {
    "ExecuteTime": {
     "end_time": "2020-07-20T00:10:28.520894Z",
     "start_time": "2020-07-20T00:10:28.476633Z"
    }
   },
   "outputs": [
    {
     "data": {
      "text/plain": [
       "yes    9552\n",
       "no     2778\n",
       "Name: compare_SVM, dtype: int64"
      ]
     },
     "execution_count": 579,
     "metadata": {},
     "output_type": "execute_result"
    }
   ],
   "source": [
    "# SVM revenue vs. actual revenue\n",
    "data_final['compare_SVM'] = np.where(data_final['Pred_Revenue']==data_final['V_Revenue'], \n",
    "                                           'yes', 'no')\n",
    "data_final['compare_SVM'].value_counts()"
   ]
  },
  {
   "cell_type": "code",
   "execution_count": 574,
   "metadata": {
    "ExecuteTime": {
     "end_time": "2020-07-19T23:42:19.657325Z",
     "start_time": "2020-07-19T23:42:19.628099Z"
    }
   },
   "outputs": [
    {
     "name": "stdout",
     "output_type": "stream",
     "text": [
      "Proportion of cluster Revenue eaqual to the actual Revenue is  0.7746958637469586\n"
     ]
    }
   ],
   "source": [
    "print(\"Proportion of cluster Revenue eaqual to the actual Revenue is \",len(data_final[data_final['compare_SVM']=='yes'])/len(data_final))\n"
   ]
  },
  {
   "cell_type": "markdown",
   "metadata": {},
   "source": [
    "#### Findings:\n",
    "\n",
    "1. The labels in the column of 'Revenue' are the results of the Clustering. The column of 'V_Revenue' includes the actual labels. The values in the column of 'Pred_Revenue' are the results of the SVM model.\n",
    "2. For the Clustering, 78% of the samples can be correctly predicted by using our clustering model.\n",
    "3. For SVM, 77% of the samples can be correctly predicted by using our SVM model.\n",
    "\n",
    "## 9. Conclusion:\n",
    "\n",
    "We'll compare how the SVM model can predict if a web site visitor made a purchase. "
   ]
  },
  {
   "cell_type": "code",
   "execution_count": 607,
   "metadata": {
    "ExecuteTime": {
     "end_time": "2020-07-20T00:33:02.440408Z",
     "start_time": "2020-07-20T00:33:02.263518Z"
    }
   },
   "outputs": [
    {
     "data": {
      "text/html": [
       "<div>\n",
       "<style scoped>\n",
       "    .dataframe tbody tr th:only-of-type {\n",
       "        vertical-align: middle;\n",
       "    }\n",
       "\n",
       "    .dataframe tbody tr th {\n",
       "        vertical-align: top;\n",
       "    }\n",
       "\n",
       "    .dataframe thead th {\n",
       "        text-align: right;\n",
       "    }\n",
       "</style>\n",
       "<table border=\"1\" class=\"dataframe\">\n",
       "  <thead>\n",
       "    <tr style=\"text-align: right;\">\n",
       "      <th></th>\n",
       "      <th>mean_Yes</th>\n",
       "      <th>max_Yes</th>\n",
       "      <th>mean_no</th>\n",
       "      <th>max_no</th>\n",
       "    </tr>\n",
       "  </thead>\n",
       "  <tbody>\n",
       "    <tr>\n",
       "      <th>Administrative</th>\n",
       "      <td>7.148496</td>\n",
       "      <td>26.000000</td>\n",
       "      <td>1.941860</td>\n",
       "      <td>13.000000</td>\n",
       "    </tr>\n",
       "    <tr>\n",
       "      <th>Administrative_Duration</th>\n",
       "      <td>278.853781</td>\n",
       "      <td>2086.750000</td>\n",
       "      <td>57.866147</td>\n",
       "      <td>702.000000</td>\n",
       "    </tr>\n",
       "    <tr>\n",
       "      <th>Informational</th>\n",
       "      <td>2.206767</td>\n",
       "      <td>12.000000</td>\n",
       "      <td>0.236919</td>\n",
       "      <td>5.000000</td>\n",
       "    </tr>\n",
       "    <tr>\n",
       "      <th>Informational_Duration</th>\n",
       "      <td>181.328325</td>\n",
       "      <td>1767.666667</td>\n",
       "      <td>9.779021</td>\n",
       "      <td>499.000000</td>\n",
       "    </tr>\n",
       "    <tr>\n",
       "      <th>ProductRelated</th>\n",
       "      <td>102.347744</td>\n",
       "      <td>534.000000</td>\n",
       "      <td>27.279070</td>\n",
       "      <td>161.000000</td>\n",
       "    </tr>\n",
       "    <tr>\n",
       "      <th>ProductRelated_Duration</th>\n",
       "      <td>4000.683564</td>\n",
       "      <td>27009.859430</td>\n",
       "      <td>1054.828698</td>\n",
       "      <td>6384.366987</td>\n",
       "    </tr>\n",
       "    <tr>\n",
       "      <th>BounceRates</th>\n",
       "      <td>0.004761</td>\n",
       "      <td>0.036207</td>\n",
       "      <td>0.005255</td>\n",
       "      <td>0.200000</td>\n",
       "    </tr>\n",
       "    <tr>\n",
       "      <th>ExitRates</th>\n",
       "      <td>0.016659</td>\n",
       "      <td>0.067625</td>\n",
       "      <td>0.020675</td>\n",
       "      <td>0.200000</td>\n",
       "    </tr>\n",
       "    <tr>\n",
       "      <th>PageValues</th>\n",
       "      <td>18.620821</td>\n",
       "      <td>214.306663</td>\n",
       "      <td>30.606413</td>\n",
       "      <td>361.763742</td>\n",
       "    </tr>\n",
       "    <tr>\n",
       "      <th>SpecialDay</th>\n",
       "      <td>0.007895</td>\n",
       "      <td>0.800000</td>\n",
       "      <td>0.029070</td>\n",
       "      <td>1.000000</td>\n",
       "    </tr>\n",
       "    <tr>\n",
       "      <th>IsWeekend</th>\n",
       "      <td>0.234962</td>\n",
       "      <td>1.000000</td>\n",
       "      <td>0.271802</td>\n",
       "      <td>1.000000</td>\n",
       "    </tr>\n",
       "    <tr>\n",
       "      <th>Revenue</th>\n",
       "      <td>0.979323</td>\n",
       "      <td>1.000000</td>\n",
       "      <td>0.000000</td>\n",
       "      <td>0.000000</td>\n",
       "    </tr>\n",
       "    <tr>\n",
       "      <th>V_Revenue</th>\n",
       "      <td>1.000000</td>\n",
       "      <td>1.000000</td>\n",
       "      <td>1.000000</td>\n",
       "      <td>1.000000</td>\n",
       "    </tr>\n",
       "    <tr>\n",
       "      <th>Pred_Revenue</th>\n",
       "      <td>1.000000</td>\n",
       "      <td>1.000000</td>\n",
       "      <td>0.000000</td>\n",
       "      <td>0.000000</td>\n",
       "    </tr>\n",
       "  </tbody>\n",
       "</table>\n",
       "</div>"
      ],
      "text/plain": [
       "                            mean_Yes       max_Yes      mean_no       max_no\n",
       "Administrative              7.148496     26.000000     1.941860    13.000000\n",
       "Administrative_Duration   278.853781   2086.750000    57.866147   702.000000\n",
       "Informational               2.206767     12.000000     0.236919     5.000000\n",
       "Informational_Duration    181.328325   1767.666667     9.779021   499.000000\n",
       "ProductRelated            102.347744    534.000000    27.279070   161.000000\n",
       "ProductRelated_Duration  4000.683564  27009.859430  1054.828698  6384.366987\n",
       "BounceRates                 0.004761      0.036207     0.005255     0.200000\n",
       "ExitRates                   0.016659      0.067625     0.020675     0.200000\n",
       "PageValues                 18.620821    214.306663    30.606413   361.763742\n",
       "SpecialDay                  0.007895      0.800000     0.029070     1.000000\n",
       "IsWeekend                   0.234962      1.000000     0.271802     1.000000\n",
       "Revenue                     0.979323      1.000000     0.000000     0.000000\n",
       "V_Revenue                   1.000000      1.000000     1.000000     1.000000\n",
       "Pred_Revenue                1.000000      1.000000     0.000000     0.000000"
      ]
     },
     "execution_count": 607,
     "metadata": {},
     "output_type": "execute_result"
    }
   ],
   "source": [
    "# a web site visitor made a purchase and can be predicted\n",
    "df_comp = data_final[(data_final['V_Revenue']==1) & (data_final['Pred_Revenue']==1)]\n",
    "df_comp02 = df_comp.describe().T[['mean','max']]\n",
    "df_comp02 = df_comp02.rename(columns = {\"mean\": \"mean_Yes\",\"max\": \"max_Yes\"}) \n",
    "\n",
    "## a web site visitor made a purchase and cannot be predicted\n",
    "df_comp03 = data_final[(data_final['V_Revenue']==1) & (data_final['Pred_Revenue']==0)]\n",
    "df_comp04 = df_comp03.describe().T[['mean','max']]\n",
    "df_comp04 = df_comp04.rename(columns = {\"mean\": \"mean_no\",\"max\": \"max_no\"}) \n",
    "\n",
    "# merge\n",
    "df_comp_final = pd.concat([df_comp02, df_comp04], axis=1)\n",
    "\n",
    "df_comp_final"
   ]
  },
  {
   "cell_type": "markdown",
   "metadata": {},
   "source": [
    "#### Findings:\n",
    "\n",
    "From the results above, **A web site visitor made a purchase and can be predicted** are those:\n",
    "in the SVM model02, \n",
    "\n",
    "1. Administrative >13\n",
    "2. Administrative_Duration >702\n",
    "3. Informational >5\n",
    "4. Informational_Duration >499\n",
    "5. ProductRelated >161\n",
    "6. ProductRelated_Duration >6384.37\n",
    "\n",
    "**A web site visitor made a purchase and cannot be predicted** are those:\n",
    "in the SVM model02, \n",
    "\n",
    "7. BounceRates >0.036\n",
    "8. ExitRates >0.068\n",
    "9. PageValues >214.3\n",
    "\n",
    "Also, the final SVM has 11 features: 'Administrative','Administrative_Duration','Informational',\n",
    "'Informational_Duration', 'ProductRelated', 'ProductRelated_Duration','BounceRates', 'ExitRates', 'PageValues', 'SpecialDay', 'IsWeekend'. \n"
   ]
  }
 ],
 "metadata": {
  "kernelspec": {
   "display_name": "Python 3",
   "language": "python",
   "name": "python3"
  },
  "language_info": {
   "codemirror_mode": {
    "name": "ipython",
    "version": 3
   },
   "file_extension": ".py",
   "mimetype": "text/x-python",
   "name": "python",
   "nbconvert_exporter": "python",
   "pygments_lexer": "ipython3",
   "version": "3.7.3"
  },
  "varInspector": {
   "cols": {
    "lenName": 16,
    "lenType": 16,
    "lenVar": 40
   },
   "kernels_config": {
    "python": {
     "delete_cmd_postfix": "",
     "delete_cmd_prefix": "del ",
     "library": "var_list.py",
     "varRefreshCmd": "print(var_dic_list())"
    },
    "r": {
     "delete_cmd_postfix": ") ",
     "delete_cmd_prefix": "rm(",
     "library": "var_list.r",
     "varRefreshCmd": "cat(var_dic_list()) "
    }
   },
   "types_to_exclude": [
    "module",
    "function",
    "builtin_function_or_method",
    "instance",
    "_Feature"
   ],
   "window_display": false
  }
 },
 "nbformat": 4,
 "nbformat_minor": 2
}
