{
 "cells": [
  {
   "cell_type": "markdown",
   "metadata": {
    "colab_type": "text",
    "id": "4WZNLrKSqPjh"
   },
   "source": [
    "## DAV 6150 Module 7 Assignment\n",
    "-by Group Manling Yang, Xiaojia He"
   ]
  },
  {
   "cell_type": "markdown",
   "metadata": {},
   "source": [
    "***\n",
    "## Introduction\n",
    "The purpose of this study is to find the best model to predict whether or not a given mortgage loan application is likely to be approved or denied. We'll conduct multiple logistic regression to predict the deny situation.  \n",
    "\n",
    "\n",
    "**Variables:**\n",
    "\n",
    "The original data set includes 7 categorical variables and 7 numerical variables.\n",
    "\n",
    "There are 12 variables that can be used as independent variables. \n",
    "\n",
    "The 'deny' variable will serve as the dependent variable for our regression model. \n",
    "\n",
    "**Procedures:**\n",
    "\n",
    "Here are main procedures of this project:\n",
    "\n",
    "Step 1: Load data into the data frame from GitHub\n",
    "\n",
    "Step 2: Exploratory Data Analysis\n",
    "\n",
    "Step 3: Data Cleaning\n",
    "\n",
    "Step 4: Feature Engineering and Feature Selection\n",
    "\n",
    "Step 5: Logistic Regression Creation\n",
    "\n",
    "Step 6: Model Eveluation\n",
    "\n",
    "Step 7: Conclusion\n",
    "\n",
    ">For **Step 2**, the main components of EDA include:\n",
    ">1. Data exploration\n",
    "2. Check numerical and categorical columns\n",
    "3. Visualize numerical columns\n",
    "4. Visualize categorical columns\n",
    "5. Check the missing value\n",
    "6. Check the correlation for each variables\n",
    "\n",
    "\n",
    ">For **Step 3**, it consists of 6 stages:\n",
    "1. Drop the missing value row\n",
    "2. Check Outliers\n",
    "3. Check deplicated data\n",
    "4. Rerun EDA\n",
    "\n",
    ">For **Step 4**, we'll perform:\n",
    "1. Encode categorical data - create dummy variables\n",
    "2. Split data into training and testing subsets\n",
    "3. Scaling numerical values using Standard Scale (except dummy variables)\n",
    "4. Feature Selection by using Correlation coefficients, RFECV, and VIFs:\n",
    " - 4a. Detect multicollinearity by using Correlation Coefficients and Set Correlation thresholds\n",
    " - 4b. Select features by using Recursive feature elimination with cross-validation (RFECV)\n",
    " - 4c. Reduce features further based on the correlation coefficients from step 4a and VIFs, including Check VIF of all features and Drop feature based on correlation coefficients and VIFs (need all VIFs<10). Then, Set up a final train and test datasets with the best features\n",
    "\n",
    ">For **Step 5**,we'll perform Logistic Regression.\n",
    "The procedures of this step include:\n",
    "- 1. Model creation\n",
    "- 2. Test the model to predict using the test dataset\n",
    "- 3. Use Statsmodels summary to get the final model's R^2, P value, intercept, and coefficients.\n",
    "- 4. Use the final Model for Prediction\n",
    "\n",
    "\n",
    "\n",
    "**Variable Descriptions:**\n",
    "1. dir: debt payments to total income ratio\n",
    "2. hir: housing expenses to income ratio\n",
    "3. lvr: ratio of size of loan to assessed value of property\n",
    "4. ccs: consumer credit score from 1 to 6 (a low value being a good score)\n",
    "5. mcs: mortgage credit score from 1 to 4 (a low value being a good score)\n",
    "6. pbcr: public bad credit record \n",
    "7. dmi: if denied mortgage insurance \n",
    "8. self if self employed \n",
    "9. single If the applicant is single \n",
    "10. uria: 1989 Massachusetts unemployment rate in the applicant's industry\n",
    "11. condominium: if the unit is a condominium. The mortgage rates on condominiums are usually higher than what the same borrower would pay if they were purchasing a single-family home on similar terms. That's because condominium mortgages are considered somewhat riskier loans than are mortgages for single-family homes. So, it is a valid attribute.\n",
    "12. black If the applicant is black \n",
    "13. deny: If mortgage application is denied "
   ]
  },
  {
   "cell_type": "code",
   "execution_count": 69,
   "metadata": {
    "ExecuteTime": {
     "end_time": "2020-06-13T23:10:15.887830Z",
     "start_time": "2020-06-13T23:10:15.865517Z"
    },
    "colab": {},
    "colab_type": "code",
    "id": "AQinGxy8qPji"
   },
   "outputs": [],
   "source": [
    "# Importing required libraries.\n",
    "\n",
    "import pandas as pd\n",
    "import numpy as np\n",
    "\n",
    "import seaborn as sns #visualisation\n",
    "import matplotlib.pyplot as plt #visualisation\n",
    "%matplotlib inline \n",
    "sns.set(color_codes=True)\n",
    "\n",
    "import missingno as msno \n",
    "from sklearn.experimental import enable_iterative_imputer\n",
    "from sklearn.impute import IterativeImputer\n",
    "\n",
    "from sklearn import linear_model\n",
    "from sklearn.model_selection import cross_val_score\n",
    "from sklearn.model_selection import train_test_split\n",
    "from sklearn.linear_model import LinearRegression\n",
    "import statsmodels.api as sm\n",
    "from sklearn.preprocessing import StandardScaler\n",
    "\n",
    "from patsy import dmatrices\n",
    "from sklearn.linear_model import LogisticRegression\n",
    "from sklearn import metrics"
   ]
  },
  {
   "cell_type": "markdown",
   "metadata": {
    "colab_type": "text",
    "id": "MWzk7wwdqPjk"
   },
   "source": [
    "***\n",
    "### Step 1: Load data into the data frame from GitHub\n",
    "\n",
    "After reading the dataset from Github, we find that there are no columns' names. So, we give the names for each columns base on the information from https://archive.ics.uci.edu/ml/datasets/Automobile.\n",
    "\n",
    "`.head()` returns the first 5 rows of the dataset. "
   ]
  },
  {
   "cell_type": "code",
   "execution_count": 70,
   "metadata": {
    "ExecuteTime": {
     "end_time": "2020-06-14T14:25:32.938769Z",
     "start_time": "2020-06-14T14:25:31.533791Z"
    },
    "colab": {
     "base_uri": "https://localhost:8080/",
     "height": 202
    },
    "colab_type": "code",
    "id": "gIkle8JLqPjl",
    "outputId": "f12ea47a-1fe5-40e9-b4cb-d54308078c9e"
   },
   "outputs": [
    {
     "data": {
      "text/html": [
       "<div>\n",
       "<style scoped>\n",
       "    .dataframe tbody tr th:only-of-type {\n",
       "        vertical-align: middle;\n",
       "    }\n",
       "\n",
       "    .dataframe tbody tr th {\n",
       "        vertical-align: top;\n",
       "    }\n",
       "\n",
       "    .dataframe thead th {\n",
       "        text-align: right;\n",
       "    }\n",
       "</style>\n",
       "<table border=\"1\" class=\"dataframe\">\n",
       "  <thead>\n",
       "    <tr style=\"text-align: right;\">\n",
       "      <th></th>\n",
       "      <th>Unnamed: 0</th>\n",
       "      <th>dir</th>\n",
       "      <th>hir</th>\n",
       "      <th>lvr</th>\n",
       "      <th>ccs</th>\n",
       "      <th>mcs</th>\n",
       "      <th>pbcr</th>\n",
       "      <th>dmi</th>\n",
       "      <th>self</th>\n",
       "      <th>single</th>\n",
       "      <th>uria</th>\n",
       "      <th>comdominiom</th>\n",
       "      <th>black</th>\n",
       "      <th>deny</th>\n",
       "    </tr>\n",
       "  </thead>\n",
       "  <tbody>\n",
       "    <tr>\n",
       "      <th>0</th>\n",
       "      <td>1</td>\n",
       "      <td>0.221</td>\n",
       "      <td>0.221</td>\n",
       "      <td>0.800000</td>\n",
       "      <td>5.0</td>\n",
       "      <td>2.0</td>\n",
       "      <td>no</td>\n",
       "      <td>no</td>\n",
       "      <td>no</td>\n",
       "      <td>no</td>\n",
       "      <td>3.9</td>\n",
       "      <td>0</td>\n",
       "      <td>no</td>\n",
       "      <td>no</td>\n",
       "    </tr>\n",
       "    <tr>\n",
       "      <th>1</th>\n",
       "      <td>2</td>\n",
       "      <td>0.265</td>\n",
       "      <td>0.265</td>\n",
       "      <td>0.921875</td>\n",
       "      <td>2.0</td>\n",
       "      <td>2.0</td>\n",
       "      <td>no</td>\n",
       "      <td>no</td>\n",
       "      <td>no</td>\n",
       "      <td>yes</td>\n",
       "      <td>3.2</td>\n",
       "      <td>0</td>\n",
       "      <td>no</td>\n",
       "      <td>no</td>\n",
       "    </tr>\n",
       "    <tr>\n",
       "      <th>2</th>\n",
       "      <td>3</td>\n",
       "      <td>0.372</td>\n",
       "      <td>0.248</td>\n",
       "      <td>0.920398</td>\n",
       "      <td>1.0</td>\n",
       "      <td>2.0</td>\n",
       "      <td>no</td>\n",
       "      <td>no</td>\n",
       "      <td>no</td>\n",
       "      <td>no</td>\n",
       "      <td>3.2</td>\n",
       "      <td>0</td>\n",
       "      <td>no</td>\n",
       "      <td>no</td>\n",
       "    </tr>\n",
       "    <tr>\n",
       "      <th>3</th>\n",
       "      <td>4</td>\n",
       "      <td>0.320</td>\n",
       "      <td>0.250</td>\n",
       "      <td>0.860465</td>\n",
       "      <td>1.0</td>\n",
       "      <td>2.0</td>\n",
       "      <td>no</td>\n",
       "      <td>no</td>\n",
       "      <td>no</td>\n",
       "      <td>no</td>\n",
       "      <td>4.3</td>\n",
       "      <td>0</td>\n",
       "      <td>no</td>\n",
       "      <td>no</td>\n",
       "    </tr>\n",
       "    <tr>\n",
       "      <th>4</th>\n",
       "      <td>5</td>\n",
       "      <td>0.360</td>\n",
       "      <td>0.350</td>\n",
       "      <td>0.600000</td>\n",
       "      <td>1.0</td>\n",
       "      <td>1.0</td>\n",
       "      <td>no</td>\n",
       "      <td>no</td>\n",
       "      <td>no</td>\n",
       "      <td>no</td>\n",
       "      <td>3.2</td>\n",
       "      <td>0</td>\n",
       "      <td>no</td>\n",
       "      <td>no</td>\n",
       "    </tr>\n",
       "  </tbody>\n",
       "</table>\n",
       "</div>"
      ],
      "text/plain": [
       "   Unnamed: 0    dir    hir       lvr  ccs  mcs pbcr dmi self single  uria  \\\n",
       "0           1  0.221  0.221  0.800000  5.0  2.0   no  no   no     no   3.9   \n",
       "1           2  0.265  0.265  0.921875  2.0  2.0   no  no   no    yes   3.2   \n",
       "2           3  0.372  0.248  0.920398  1.0  2.0   no  no   no     no   3.2   \n",
       "3           4  0.320  0.250  0.860465  1.0  2.0   no  no   no     no   4.3   \n",
       "4           5  0.360  0.350  0.600000  1.0  1.0   no  no   no     no   3.2   \n",
       "\n",
       "   comdominiom black deny  \n",
       "0            0    no   no  \n",
       "1            0    no   no  \n",
       "2            0    no   no  \n",
       "3            0    no   no  \n",
       "4            0    no   no  "
      ]
     },
     "execution_count": 70,
     "metadata": {},
     "output_type": "execute_result"
    }
   ],
   "source": [
    "# read datasource from Github and add column name\n",
    "df = pd.read_csv(\"https://raw.githubusercontent.com/XIAOJIA68/DAV-6150/master/M-DataSource/M7_Data.csv\")\n",
    "\n",
    "# To display the top 5 rows\n",
    "df.head()"
   ]
  },
  {
   "cell_type": "markdown",
   "metadata": {
    "colab_type": "text",
    "id": "JkkwNe_tqPjn"
   },
   "source": [
    "***\n",
    "### Step 2: Exploratory Data Analysis\n",
    "\n",
    "In this case, the steps of Exploratory Data Analysis consist of:\n",
    ">1. Data exploration\n",
    "2. Check numerical and categorical columns\n",
    "3. Visualize numerical columns\n",
    "4. Visualize categorical columns\n",
    "5. Check the missing value\n",
    "6. Check the correlation for each variables"
   ]
  },
  {
   "cell_type": "markdown",
   "metadata": {
    "colab_type": "text",
    "id": "_ihbk-trqPjn"
   },
   "source": [
    "\n",
    "#### 1. Data exploration:\n",
    "`.shape` returns the number of rows by the number of columns for the dataset. My output is (205, 26), meaning the dataset has 205 rows and 26 columns.\n",
    "\n",
    "`.describe()` summarizes the count, mean, standard deviation, min, and max for numeric variables. \n",
    "\n",
    "`.dtypes` identifies the Data Types.\n",
    "\n",
    "`.nunique()` returns the number of unique values for each variable.\n",
    "\n",
    "`.isnull().sum()` checks missing values for each column.\n",
    "\n",
    "`.count()` returns the count for each variable.\n"
   ]
  },
  {
   "cell_type": "code",
   "execution_count": 71,
   "metadata": {
    "ExecuteTime": {
     "end_time": "2020-06-13T03:20:40.957675Z",
     "start_time": "2020-06-13T03:20:40.949270Z"
    },
    "colab": {
     "base_uri": "https://localhost:8080/",
     "height": 35
    },
    "colab_type": "code",
    "id": "too0fzyKqPjo",
    "outputId": "8bdf4f0d-97d2-4b30-df51-dbe75f8b5dde"
   },
   "outputs": [
    {
     "data": {
      "text/plain": [
       "(2381, 14)"
      ]
     },
     "execution_count": 71,
     "metadata": {},
     "output_type": "execute_result"
    }
   ],
   "source": [
    "# check the shape for the dataframe\n",
    "df.shape"
   ]
  },
  {
   "cell_type": "code",
   "execution_count": 72,
   "metadata": {
    "colab": {
     "base_uri": "https://localhost:8080/",
     "height": 202
    },
    "colab_type": "code",
    "id": "Denv09zBqPjq",
    "outputId": "6e349b55-b0f2-424d-a087-64237e6ca114"
   },
   "outputs": [
    {
     "data": {
      "text/html": [
       "<div>\n",
       "<style scoped>\n",
       "    .dataframe tbody tr th:only-of-type {\n",
       "        vertical-align: middle;\n",
       "    }\n",
       "\n",
       "    .dataframe tbody tr th {\n",
       "        vertical-align: top;\n",
       "    }\n",
       "\n",
       "    .dataframe thead th {\n",
       "        text-align: right;\n",
       "    }\n",
       "</style>\n",
       "<table border=\"1\" class=\"dataframe\">\n",
       "  <thead>\n",
       "    <tr style=\"text-align: right;\">\n",
       "      <th></th>\n",
       "      <th>dir</th>\n",
       "      <th>hir</th>\n",
       "      <th>lvr</th>\n",
       "      <th>ccs</th>\n",
       "      <th>mcs</th>\n",
       "      <th>pbcr</th>\n",
       "      <th>dmi</th>\n",
       "      <th>self</th>\n",
       "      <th>single</th>\n",
       "      <th>uria</th>\n",
       "      <th>comdominiom</th>\n",
       "      <th>black</th>\n",
       "      <th>deny</th>\n",
       "    </tr>\n",
       "  </thead>\n",
       "  <tbody>\n",
       "    <tr>\n",
       "      <th>0</th>\n",
       "      <td>0.221</td>\n",
       "      <td>0.221</td>\n",
       "      <td>0.800000</td>\n",
       "      <td>5.0</td>\n",
       "      <td>2.0</td>\n",
       "      <td>no</td>\n",
       "      <td>no</td>\n",
       "      <td>no</td>\n",
       "      <td>no</td>\n",
       "      <td>3.9</td>\n",
       "      <td>0</td>\n",
       "      <td>no</td>\n",
       "      <td>no</td>\n",
       "    </tr>\n",
       "    <tr>\n",
       "      <th>1</th>\n",
       "      <td>0.265</td>\n",
       "      <td>0.265</td>\n",
       "      <td>0.921875</td>\n",
       "      <td>2.0</td>\n",
       "      <td>2.0</td>\n",
       "      <td>no</td>\n",
       "      <td>no</td>\n",
       "      <td>no</td>\n",
       "      <td>yes</td>\n",
       "      <td>3.2</td>\n",
       "      <td>0</td>\n",
       "      <td>no</td>\n",
       "      <td>no</td>\n",
       "    </tr>\n",
       "    <tr>\n",
       "      <th>2</th>\n",
       "      <td>0.372</td>\n",
       "      <td>0.248</td>\n",
       "      <td>0.920398</td>\n",
       "      <td>1.0</td>\n",
       "      <td>2.0</td>\n",
       "      <td>no</td>\n",
       "      <td>no</td>\n",
       "      <td>no</td>\n",
       "      <td>no</td>\n",
       "      <td>3.2</td>\n",
       "      <td>0</td>\n",
       "      <td>no</td>\n",
       "      <td>no</td>\n",
       "    </tr>\n",
       "    <tr>\n",
       "      <th>3</th>\n",
       "      <td>0.320</td>\n",
       "      <td>0.250</td>\n",
       "      <td>0.860465</td>\n",
       "      <td>1.0</td>\n",
       "      <td>2.0</td>\n",
       "      <td>no</td>\n",
       "      <td>no</td>\n",
       "      <td>no</td>\n",
       "      <td>no</td>\n",
       "      <td>4.3</td>\n",
       "      <td>0</td>\n",
       "      <td>no</td>\n",
       "      <td>no</td>\n",
       "    </tr>\n",
       "    <tr>\n",
       "      <th>4</th>\n",
       "      <td>0.360</td>\n",
       "      <td>0.350</td>\n",
       "      <td>0.600000</td>\n",
       "      <td>1.0</td>\n",
       "      <td>1.0</td>\n",
       "      <td>no</td>\n",
       "      <td>no</td>\n",
       "      <td>no</td>\n",
       "      <td>no</td>\n",
       "      <td>3.2</td>\n",
       "      <td>0</td>\n",
       "      <td>no</td>\n",
       "      <td>no</td>\n",
       "    </tr>\n",
       "  </tbody>\n",
       "</table>\n",
       "</div>"
      ],
      "text/plain": [
       "     dir    hir       lvr  ccs  mcs pbcr dmi self single  uria  comdominiom  \\\n",
       "0  0.221  0.221  0.800000  5.0  2.0   no  no   no     no   3.9            0   \n",
       "1  0.265  0.265  0.921875  2.0  2.0   no  no   no    yes   3.2            0   \n",
       "2  0.372  0.248  0.920398  1.0  2.0   no  no   no     no   3.2            0   \n",
       "3  0.320  0.250  0.860465  1.0  2.0   no  no   no     no   4.3            0   \n",
       "4  0.360  0.350  0.600000  1.0  1.0   no  no   no     no   3.2            0   \n",
       "\n",
       "  black deny  \n",
       "0    no   no  \n",
       "1    no   no  \n",
       "2    no   no  \n",
       "3    no   no  \n",
       "4    no   no  "
      ]
     },
     "execution_count": 72,
     "metadata": {},
     "output_type": "execute_result"
    }
   ],
   "source": [
    "#drop the first column\n",
    "\n",
    "df =df.drop(columns=['Unnamed: 0'])\n",
    "df.head()"
   ]
  },
  {
   "cell_type": "code",
   "execution_count": 73,
   "metadata": {
    "ExecuteTime": {
     "end_time": "2020-06-13T03:56:07.077658Z",
     "start_time": "2020-06-13T03:56:07.016262Z"
    },
    "colab": {
     "base_uri": "https://localhost:8080/",
     "height": 263
    },
    "colab_type": "code",
    "id": "Ak3kMIfCqPjs",
    "outputId": "03524db9-8672-43e0-abce-1513f8f4bf5e",
    "scrolled": true
   },
   "outputs": [
    {
     "data": {
      "text/html": [
       "<div>\n",
       "<style scoped>\n",
       "    .dataframe tbody tr th:only-of-type {\n",
       "        vertical-align: middle;\n",
       "    }\n",
       "\n",
       "    .dataframe tbody tr th {\n",
       "        vertical-align: top;\n",
       "    }\n",
       "\n",
       "    .dataframe thead th {\n",
       "        text-align: right;\n",
       "    }\n",
       "</style>\n",
       "<table border=\"1\" class=\"dataframe\">\n",
       "  <thead>\n",
       "    <tr style=\"text-align: right;\">\n",
       "      <th></th>\n",
       "      <th>count</th>\n",
       "      <th>mean</th>\n",
       "      <th>std</th>\n",
       "      <th>min</th>\n",
       "      <th>25%</th>\n",
       "      <th>50%</th>\n",
       "      <th>75%</th>\n",
       "      <th>max</th>\n",
       "    </tr>\n",
       "  </thead>\n",
       "  <tbody>\n",
       "    <tr>\n",
       "      <th>dir</th>\n",
       "      <td>2381.0</td>\n",
       "      <td>0.330814</td>\n",
       "      <td>0.107235</td>\n",
       "      <td>0.00</td>\n",
       "      <td>0.28000</td>\n",
       "      <td>0.330000</td>\n",
       "      <td>0.370000</td>\n",
       "      <td>3.00</td>\n",
       "    </tr>\n",
       "    <tr>\n",
       "      <th>hir</th>\n",
       "      <td>2381.0</td>\n",
       "      <td>0.255346</td>\n",
       "      <td>0.096635</td>\n",
       "      <td>0.00</td>\n",
       "      <td>0.21400</td>\n",
       "      <td>0.260000</td>\n",
       "      <td>0.298800</td>\n",
       "      <td>3.00</td>\n",
       "    </tr>\n",
       "    <tr>\n",
       "      <th>lvr</th>\n",
       "      <td>2381.0</td>\n",
       "      <td>0.737760</td>\n",
       "      <td>0.178715</td>\n",
       "      <td>0.02</td>\n",
       "      <td>0.65285</td>\n",
       "      <td>0.779412</td>\n",
       "      <td>0.868421</td>\n",
       "      <td>1.95</td>\n",
       "    </tr>\n",
       "    <tr>\n",
       "      <th>ccs</th>\n",
       "      <td>2381.0</td>\n",
       "      <td>2.116387</td>\n",
       "      <td>1.666370</td>\n",
       "      <td>1.00</td>\n",
       "      <td>1.00000</td>\n",
       "      <td>1.000000</td>\n",
       "      <td>2.000000</td>\n",
       "      <td>6.00</td>\n",
       "    </tr>\n",
       "    <tr>\n",
       "      <th>mcs</th>\n",
       "      <td>2381.0</td>\n",
       "      <td>1.721008</td>\n",
       "      <td>0.537169</td>\n",
       "      <td>1.00</td>\n",
       "      <td>1.00000</td>\n",
       "      <td>2.000000</td>\n",
       "      <td>2.000000</td>\n",
       "      <td>4.00</td>\n",
       "    </tr>\n",
       "    <tr>\n",
       "      <th>uria</th>\n",
       "      <td>2381.0</td>\n",
       "      <td>3.774496</td>\n",
       "      <td>2.026636</td>\n",
       "      <td>1.80</td>\n",
       "      <td>3.10000</td>\n",
       "      <td>3.200000</td>\n",
       "      <td>3.900000</td>\n",
       "      <td>10.60</td>\n",
       "    </tr>\n",
       "    <tr>\n",
       "      <th>comdominiom</th>\n",
       "      <td>2381.0</td>\n",
       "      <td>0.288114</td>\n",
       "      <td>0.452980</td>\n",
       "      <td>0.00</td>\n",
       "      <td>0.00000</td>\n",
       "      <td>0.000000</td>\n",
       "      <td>1.000000</td>\n",
       "      <td>1.00</td>\n",
       "    </tr>\n",
       "  </tbody>\n",
       "</table>\n",
       "</div>"
      ],
      "text/plain": [
       "              count      mean       std   min      25%       50%       75%  \\\n",
       "dir          2381.0  0.330814  0.107235  0.00  0.28000  0.330000  0.370000   \n",
       "hir          2381.0  0.255346  0.096635  0.00  0.21400  0.260000  0.298800   \n",
       "lvr          2381.0  0.737760  0.178715  0.02  0.65285  0.779412  0.868421   \n",
       "ccs          2381.0  2.116387  1.666370  1.00  1.00000  1.000000  2.000000   \n",
       "mcs          2381.0  1.721008  0.537169  1.00  1.00000  2.000000  2.000000   \n",
       "uria         2381.0  3.774496  2.026636  1.80  3.10000  3.200000  3.900000   \n",
       "comdominiom  2381.0  0.288114  0.452980  0.00  0.00000  0.000000  1.000000   \n",
       "\n",
       "               max  \n",
       "dir           3.00  \n",
       "hir           3.00  \n",
       "lvr           1.95  \n",
       "ccs           6.00  \n",
       "mcs           4.00  \n",
       "uria         10.60  \n",
       "comdominiom   1.00  "
      ]
     },
     "execution_count": 73,
     "metadata": {},
     "output_type": "execute_result"
    }
   ],
   "source": [
    "# statistical summary of numeric variables:\n",
    "df.describe().T"
   ]
  },
  {
   "cell_type": "code",
   "execution_count": 74,
   "metadata": {
    "ExecuteTime": {
     "end_time": "2020-06-13T03:21:14.621890Z",
     "start_time": "2020-06-13T03:21:14.579513Z"
    },
    "colab": {
     "base_uri": "https://localhost:8080/",
     "height": 447
    },
    "colab_type": "code",
    "id": "7rCgCv4gqPju",
    "outputId": "469cd4fa-c842-4168-a4d3-8017ca1d2e3f"
   },
   "outputs": [
    {
     "data": {
      "text/html": [
       "<div>\n",
       "<style scoped>\n",
       "    .dataframe tbody tr th:only-of-type {\n",
       "        vertical-align: middle;\n",
       "    }\n",
       "\n",
       "    .dataframe tbody tr th {\n",
       "        vertical-align: top;\n",
       "    }\n",
       "\n",
       "    .dataframe thead th {\n",
       "        text-align: right;\n",
       "    }\n",
       "</style>\n",
       "<table border=\"1\" class=\"dataframe\">\n",
       "  <thead>\n",
       "    <tr style=\"text-align: right;\">\n",
       "      <th></th>\n",
       "      <th>Dtype</th>\n",
       "      <th>Nunique</th>\n",
       "      <th>MissingValues</th>\n",
       "      <th>Count</th>\n",
       "      <th>ZeroValues</th>\n",
       "    </tr>\n",
       "  </thead>\n",
       "  <tbody>\n",
       "    <tr>\n",
       "      <th>dir</th>\n",
       "      <td>float64</td>\n",
       "      <td>520</td>\n",
       "      <td>0</td>\n",
       "      <td>2381</td>\n",
       "      <td>1</td>\n",
       "    </tr>\n",
       "    <tr>\n",
       "      <th>hir</th>\n",
       "      <td>float64</td>\n",
       "      <td>501</td>\n",
       "      <td>0</td>\n",
       "      <td>2381</td>\n",
       "      <td>3</td>\n",
       "    </tr>\n",
       "    <tr>\n",
       "      <th>lvr</th>\n",
       "      <td>float64</td>\n",
       "      <td>1538</td>\n",
       "      <td>0</td>\n",
       "      <td>2381</td>\n",
       "      <td>0</td>\n",
       "    </tr>\n",
       "    <tr>\n",
       "      <th>ccs</th>\n",
       "      <td>float64</td>\n",
       "      <td>7</td>\n",
       "      <td>0</td>\n",
       "      <td>2381</td>\n",
       "      <td>0</td>\n",
       "    </tr>\n",
       "    <tr>\n",
       "      <th>mcs</th>\n",
       "      <td>float64</td>\n",
       "      <td>5</td>\n",
       "      <td>0</td>\n",
       "      <td>2381</td>\n",
       "      <td>0</td>\n",
       "    </tr>\n",
       "    <tr>\n",
       "      <th>pbcr</th>\n",
       "      <td>object</td>\n",
       "      <td>2</td>\n",
       "      <td>1</td>\n",
       "      <td>2380</td>\n",
       "      <td>0</td>\n",
       "    </tr>\n",
       "    <tr>\n",
       "      <th>dmi</th>\n",
       "      <td>object</td>\n",
       "      <td>2</td>\n",
       "      <td>0</td>\n",
       "      <td>2381</td>\n",
       "      <td>0</td>\n",
       "    </tr>\n",
       "    <tr>\n",
       "      <th>self</th>\n",
       "      <td>object</td>\n",
       "      <td>2</td>\n",
       "      <td>1</td>\n",
       "      <td>2380</td>\n",
       "      <td>0</td>\n",
       "    </tr>\n",
       "    <tr>\n",
       "      <th>single</th>\n",
       "      <td>object</td>\n",
       "      <td>2</td>\n",
       "      <td>0</td>\n",
       "      <td>2381</td>\n",
       "      <td>0</td>\n",
       "    </tr>\n",
       "    <tr>\n",
       "      <th>uria</th>\n",
       "      <td>float64</td>\n",
       "      <td>11</td>\n",
       "      <td>0</td>\n",
       "      <td>2381</td>\n",
       "      <td>0</td>\n",
       "    </tr>\n",
       "    <tr>\n",
       "      <th>comdominiom</th>\n",
       "      <td>int64</td>\n",
       "      <td>2</td>\n",
       "      <td>0</td>\n",
       "      <td>2381</td>\n",
       "      <td>1695</td>\n",
       "    </tr>\n",
       "    <tr>\n",
       "      <th>black</th>\n",
       "      <td>object</td>\n",
       "      <td>2</td>\n",
       "      <td>0</td>\n",
       "      <td>2381</td>\n",
       "      <td>0</td>\n",
       "    </tr>\n",
       "    <tr>\n",
       "      <th>deny</th>\n",
       "      <td>object</td>\n",
       "      <td>2</td>\n",
       "      <td>0</td>\n",
       "      <td>2381</td>\n",
       "      <td>0</td>\n",
       "    </tr>\n",
       "  </tbody>\n",
       "</table>\n",
       "</div>"
      ],
      "text/plain": [
       "               Dtype  Nunique  MissingValues  Count  ZeroValues\n",
       "dir          float64      520              0   2381           1\n",
       "hir          float64      501              0   2381           3\n",
       "lvr          float64     1538              0   2381           0\n",
       "ccs          float64        7              0   2381           0\n",
       "mcs          float64        5              0   2381           0\n",
       "pbcr          object        2              1   2380           0\n",
       "dmi           object        2              0   2381           0\n",
       "self          object        2              1   2380           0\n",
       "single        object        2              0   2381           0\n",
       "uria         float64       11              0   2381           0\n",
       "comdominiom    int64        2              0   2381        1695\n",
       "black         object        2              0   2381           0\n",
       "deny          object        2              0   2381           0"
      ]
     },
     "execution_count": 74,
     "metadata": {},
     "output_type": "execute_result"
    }
   ],
   "source": [
    "#Identify the Data Types\n",
    "df_info = pd.DataFrame(df.dtypes,columns=['Dtype'])\n",
    "\n",
    "#Identify the unique values\n",
    "df_info['Nunique'] = df.nunique()\n",
    "\n",
    "#check missing values for each column\n",
    "df_info['MissingValues']=df.isnull().sum()\n",
    "\n",
    "# Identify the count for each variable\n",
    "df_info['Count']=df.count()\n",
    "\n",
    "# Identify the zero values for each variable\n",
    "df_info['ZeroValues']=(df==0).sum()\n",
    "\n",
    "\n",
    "df_info"
   ]
  },
  {
   "cell_type": "markdown",
   "metadata": {
    "colab_type": "text",
    "id": "dxKS6TmyqPjx"
   },
   "source": [
    "#### Findings:\n",
    "\n",
    ">1. The dataset consists of 14 variables and 2381 observations.\n",
    "2. There is only 1 missing value in column self and pbcr.\n",
    "3. The types of data are object, integer, and float, and some columns are not of the correct data type.\n",
    "4. There is no negative values."
   ]
  },
  {
   "cell_type": "markdown",
   "metadata": {
    "colab_type": "text",
    "id": "IBckQLxQqPjy"
   },
   "source": [
    "#### 2. Check numerical and categorical columns\n"
   ]
  },
  {
   "cell_type": "code",
   "execution_count": 75,
   "metadata": {
    "ExecuteTime": {
     "end_time": "2020-06-13T04:45:26.183087Z",
     "start_time": "2020-06-13T04:45:26.174423Z"
    },
    "colab": {
     "base_uri": "https://localhost:8080/",
     "height": 52
    },
    "colab_type": "code",
    "id": "nMfdB5-nqPjz",
    "outputId": "a8eabc98-265a-49ce-ccfd-37e050287e90"
   },
   "outputs": [
    {
     "name": "stdout",
     "output_type": "stream",
     "text": [
      "Numerical variables: ['dir', 'hir', 'lvr', 'ccs', 'mcs', 'uria']\n",
      "Categorical variables: ['pbcr', 'dmi', 'self', 'single', 'black', 'deny']\n"
     ]
    }
   ],
   "source": [
    "# since comdominiom is categorical variable, we will deal with it separately \n",
    "\n",
    "df11 =df.drop(columns=['comdominiom'])\n",
    "\n",
    "numerical_columns = []\n",
    "categorical_columns = []\n",
    "\n",
    "for i in df11.columns[:]:\n",
    "    if(df11[i].dtype=='object'):\n",
    "        categorical_columns.append(i)\n",
    "    else:\n",
    "        numerical_columns.append(i)\n",
    "        \n",
    "print('Numerical variables:',numerical_columns)\n",
    "print('Categorical variables:',categorical_columns)"
   ]
  },
  {
   "cell_type": "markdown",
   "metadata": {
    "colab_type": "text",
    "id": "aHo8svnqqPj1"
   },
   "source": [
    "#### Findings:\n",
    "> 1. We can know the numerical variables of the original dataset are 6 attributes, including dir, hir, lvr, ccs, mcs, uria.\n",
    "2. Although the data type of comdominiom is numerical, it is the categorical data. 0 represent the unit is not comdominiom, 1 represent the unit is comdominiom.\n",
    "3. The categorical variables of the original dataset include 16 attributes, including pbcr, dmi, self,single,black, deny and comdominiom."
   ]
  },
  {
   "cell_type": "markdown",
   "metadata": {
    "colab_type": "text",
    "id": "kyjL_UnvqPj2"
   },
   "source": [
    "#### 3. Visualize numerical columns"
   ]
  },
  {
   "cell_type": "code",
   "execution_count": 76,
   "metadata": {
    "ExecuteTime": {
     "end_time": "2020-06-13T04:49:19.081616Z",
     "start_time": "2020-06-13T04:49:13.494898Z"
    },
    "colab": {
     "base_uri": "https://localhost:8080/",
     "height": 454
    },
    "colab_type": "code",
    "id": "FXOFvbxVqPj2",
    "outputId": "3ac2561c-3349-446b-acdd-561ff0b2c492"
   },
   "outputs": [
    {
     "data": {
      "text/plain": [
       "<seaborn.axisgrid.FacetGrid at 0x22b787fec88>"
      ]
     },
     "execution_count": 76,
     "metadata": {},
     "output_type": "execute_result"
    },
    {
     "data": {
      "image/png": "[encoded data removed]",
      "text/plain": [
       "<Figure size 1080x432 with 6 Axes>"
      ]
     },
     "metadata": {},
     "output_type": "display_data"
    }
   ],
   "source": [
    "# Distributions for each of numerical variables.\n",
    "nd = pd.melt(df[numerical_columns])\n",
    "n1 = sns.FacetGrid (nd, col='variable', col_wrap=5, sharex=False, sharey = False)\n",
    "n1 = n1.map(sns.distplot, 'value')\n",
    "n1"
   ]
  },
  {
   "cell_type": "markdown",
   "metadata": {
    "colab_type": "text",
    "id": "qvdjdEyEqPj5"
   },
   "source": [
    "\n",
    "#### Findings: \n",
    ">1. From this visualization, we can see that dir and hir have outliers. \n",
    "2. Most of people have great consumer credit score(ccs), 1 or 2. \n",
    "3. Most of people have great mortgage credit score(mcs), 1 or 2.\n",
    "4. The main Massachusetts unemployment rate for each applicants' insduries in 1989 were around 3."
   ]
  },
  {
   "cell_type": "markdown",
   "metadata": {
    "colab_type": "text",
    "id": "WglVSumVqPj5"
   },
   "source": [
    "#### 4. Visualize categorical columns"
   ]
  },
  {
   "cell_type": "code",
   "execution_count": 77,
   "metadata": {
    "ExecuteTime": {
     "end_time": "2020-06-13T05:06:06.821088Z",
     "start_time": "2020-06-13T05:05:47.369042Z"
    },
    "colab": {
     "base_uri": "https://localhost:8080/",
     "height": 620
    },
    "colab_type": "code",
    "id": "65PsN7YoqPj5",
    "outputId": "285b4fb0-7271-4748-c19c-9b1941f34dc2"
   },
   "outputs": [
    {
     "data": {
      "image/png": "[encoded data removed]",
      "text/plain": [
       "<Figure size 1440x720 with 6 Axes>"
      ]
     },
     "metadata": {},
     "output_type": "display_data"
    }
   ],
   "source": [
    "# create the bar chart for each categorical columns\n",
    "fig, ax = plt.subplots(2, 3, figsize=(20, 10))\n",
    "for variable, subplot in zip(categorical_columns, ax.flatten()):\n",
    "    sns.countplot(df[variable], ax=subplot)\n",
    "    for label in subplot.get_xticklabels():\n",
    "        label.set_rotation(90)"
   ]
  },
  {
   "cell_type": "code",
   "execution_count": 78,
   "metadata": {
    "colab": {
     "base_uri": "https://localhost:8080/",
     "height": 282
    },
    "colab_type": "code",
    "id": "MbI_P0IRBvZz",
    "outputId": "6d83ea83-31b1-45d8-9b6c-94ead0bc72f6"
   },
   "outputs": [
    {
     "data": {
      "text/plain": [
       "<matplotlib.axes._subplots.AxesSubplot at 0x22b777da240>"
      ]
     },
     "execution_count": 78,
     "metadata": {},
     "output_type": "execute_result"
    },
    {
     "data": {
      "image/png": "[encoded data removed]",
      "text/plain": [
       "<Figure size 432x288 with 1 Axes>"
      ]
     },
     "metadata": {},
     "output_type": "display_data"
    }
   ],
   "source": [
    "# create the bar chart for categorical value comdominiom\n",
    "df['comdominiom'].value_counts().plot(kind='bar')"
   ]
  },
  {
   "cell_type": "markdown",
   "metadata": {
    "colab_type": "text",
    "id": "lF1iYGfHqPj8"
   },
   "source": [
    "#### Findings: \n",
    ">1. In categorical arrtibutes, most of applicants'situations are no. It means that most applicants are single, not black, do not self employed, do not have public bad credit record, or do not have mortage insurance. Many applicants may apply one or more features. \n",
    "2. There are less people get the mortage application denied. Most of applicants get mortage loan successfully.\n",
    "3. There are more not single applicants to apply mortage loan than single people."
   ]
  },
  {
   "cell_type": "markdown",
   "metadata": {
    "colab_type": "text",
    "id": "-QdBldJTvxOn"
   },
   "source": [
    "#### 5. Check the missing value"
   ]
  },
  {
   "cell_type": "code",
   "execution_count": 79,
   "metadata": {
    "colab": {
     "base_uri": "https://localhost:8080/",
     "height": 252
    },
    "colab_type": "code",
    "id": "yUQKcxJ8vwYM",
    "outputId": "32319d16-92df-43f6-d367-9bb071b332b7"
   },
   "outputs": [
    {
     "data": {
      "text/plain": [
       "dir            0\n",
       "hir            0\n",
       "lvr            0\n",
       "ccs            0\n",
       "mcs            0\n",
       "pbcr           1\n",
       "dmi            0\n",
       "self           1\n",
       "single         0\n",
       "uria           0\n",
       "comdominiom    0\n",
       "black          0\n",
       "deny           0\n",
       "dtype: int64"
      ]
     },
     "execution_count": 79,
     "metadata": {},
     "output_type": "execute_result"
    }
   ],
   "source": [
    " \n",
    "# Show missing value\n",
    "miss = df.isnull().sum()\n",
    "#miss = miss[miss > 0]\n",
    "#miss.sort_values(inplace=True)\n",
    "miss"
   ]
  },
  {
   "cell_type": "code",
   "execution_count": 80,
   "metadata": {
    "colab": {
     "base_uri": "https://localhost:8080/",
     "height": 750
    },
    "colab_type": "code",
    "id": "1Aealq6rwO0_",
    "outputId": "5ecfaba4-b036-4e90-89b3-9701d70b4e68"
   },
   "outputs": [
    {
     "data": {
      "text/plain": [
       "Text(0.5, 1.0, ' Percents of nonmissing data with missingno')"
      ]
     },
     "execution_count": 80,
     "metadata": {},
     "output_type": "execute_result"
    },
    {
     "data": {
      "image/png": "[encoded data removed]",
      "text/plain": [
       "<Figure size 1728x720 with 3 Axes>"
      ]
     },
     "metadata": {},
     "output_type": "display_data"
    }
   ],
   "source": [
    "# create the bar charts to show percents of nonmissing databy missingo function\n",
    "msno.bar(df)\n",
    "plt.title(' Percents of nonmissing data with missingno',fontsize=20)"
   ]
  },
  {
   "cell_type": "code",
   "execution_count": 81,
   "metadata": {
    "colab": {
     "base_uri": "https://localhost:8080/",
     "height": 67
    },
    "colab_type": "code",
    "id": "4HHELMRpwO3w",
    "outputId": "faa05ffb-6259-4afc-b5dc-869b45312a44"
   },
   "outputs": [
    {
     "data": {
      "text/plain": [
       "pbcr    0.00042\n",
       "self    0.00042\n",
       "dtype: float64"
      ]
     },
     "execution_count": 81,
     "metadata": {},
     "output_type": "execute_result"
    }
   ],
   "source": [
    "# percentage of colimns with missing values\n",
    "miss = df.isnull().sum()/len(df)\n",
    "# show the percentage of missing values for specific columns that contains missing values\n",
    "miss = miss[miss > 0]\n",
    "miss.sort_values(inplace=True)\n",
    "miss"
   ]
  },
  {
   "cell_type": "markdown",
   "metadata": {
    "colab_type": "text",
    "id": "RsDSesqCweeu"
   },
   "source": [
    "#### Findings: \n",
    ">1. There is only one missing value in cloumn pbcr and self. \n",
    "2. The percentage of missing value is less than 1%."
   ]
  },
  {
   "cell_type": "markdown",
   "metadata": {
    "colab_type": "text",
    "id": "YyR-20y4Eenm"
   },
   "source": [
    "#### 6. Correlation"
   ]
  },
  {
   "cell_type": "code",
   "execution_count": 82,
   "metadata": {
    "colab": {
     "base_uri": "https://localhost:8080/",
     "height": 644
    },
    "colab_type": "code",
    "id": "vK9UZ3-6wOyx",
    "outputId": "6d9e1935-0a0c-48b9-c338-9af7c75f4e8f"
   },
   "outputs": [
    {
     "data": {
      "text/plain": [
       "Text(0.5, 1.0, 'Figure 5: Correlations')"
      ]
     },
     "execution_count": 82,
     "metadata": {},
     "output_type": "execute_result"
    },
    {
     "data": {
      "image/png": "[encoded data removed]",
      "text/plain": [
       "<Figure size 720x720 with 2 Axes>"
      ]
     },
     "metadata": {},
     "output_type": "display_data"
    }
   ],
   "source": [
    "# Finding the correlation bewteen the Features.\n",
    "plt.figure(figsize=(10,10))\n",
    "\n",
    "corr = df.corr()# plot the heatmap\n",
    "sns.heatmap(corr, xticklabels=corr.columns, yticklabels=corr.columns, \n",
    "            annot=True, cmap=sns.diverging_palette(220, 20, as_cmap=True))\n",
    "plt.title('Figure 5: Correlations')"
   ]
  },
  {
   "cell_type": "markdown",
   "metadata": {},
   "source": [
    "#### Findings: \n",
    ">1. There are strong relationship between hir and dir. \n",
    "2. There are weak relationships (correlationno more than 0.2) in three groups which are between dir and lvr, mcs and ccs, mcs and lvr. \n",
    "3. There are no obvious relationship in dirrferent groups."
   ]
  },
  {
   "cell_type": "markdown",
   "metadata": {
    "colab_type": "text",
    "id": "VAGecX11qPj8"
   },
   "source": [
    "***\n",
    "### Step 3: Data Cleaning\n",
    "1. Drop the missing value row\n",
    "2. Check Outliers\n",
    "3. Check deplicated data\n",
    "4. Rerun EDA\n"
   ]
  },
  {
   "cell_type": "markdown",
   "metadata": {
    "colab_type": "text",
    "id": "G1bRJjXgqPj9"
   },
   "source": [
    "#### 1. Drop the missing value row\n",
    "Consider there is only one row that contains missing value and the percentage of total dataset is less than 1%, we decide to drop the row.\n"
   ]
  },
  {
   "cell_type": "code",
   "execution_count": 83,
   "metadata": {
    "colab": {
     "base_uri": "https://localhost:8080/",
     "height": 77
    },
    "colab_type": "code",
    "id": "szngLUais1ob",
    "outputId": "6f6384fa-dee9-4abc-afe4-e1ce79a6c4ff"
   },
   "outputs": [
    {
     "data": {
      "text/html": [
       "<div>\n",
       "<style scoped>\n",
       "    .dataframe tbody tr th:only-of-type {\n",
       "        vertical-align: middle;\n",
       "    }\n",
       "\n",
       "    .dataframe tbody tr th {\n",
       "        vertical-align: top;\n",
       "    }\n",
       "\n",
       "    .dataframe thead th {\n",
       "        text-align: right;\n",
       "    }\n",
       "</style>\n",
       "<table border=\"1\" class=\"dataframe\">\n",
       "  <thead>\n",
       "    <tr style=\"text-align: right;\">\n",
       "      <th></th>\n",
       "      <th>dir</th>\n",
       "      <th>hir</th>\n",
       "      <th>lvr</th>\n",
       "      <th>ccs</th>\n",
       "      <th>mcs</th>\n",
       "      <th>pbcr</th>\n",
       "      <th>dmi</th>\n",
       "      <th>self</th>\n",
       "      <th>single</th>\n",
       "      <th>uria</th>\n",
       "      <th>comdominiom</th>\n",
       "      <th>black</th>\n",
       "      <th>deny</th>\n",
       "    </tr>\n",
       "  </thead>\n",
       "  <tbody>\n",
       "    <tr>\n",
       "      <th>2380</th>\n",
       "      <td>0.330814</td>\n",
       "      <td>0.255346</td>\n",
       "      <td>0.700783</td>\n",
       "      <td>2.116387</td>\n",
       "      <td>1.721008</td>\n",
       "      <td>NaN</td>\n",
       "      <td>no</td>\n",
       "      <td>NaN</td>\n",
       "      <td>yes</td>\n",
       "      <td>3.774496</td>\n",
       "      <td>0</td>\n",
       "      <td>no</td>\n",
       "      <td>no</td>\n",
       "    </tr>\n",
       "  </tbody>\n",
       "</table>\n",
       "</div>"
      ],
      "text/plain": [
       "           dir       hir       lvr       ccs       mcs pbcr dmi self single  \\\n",
       "2380  0.330814  0.255346  0.700783  2.116387  1.721008  NaN  no  NaN    yes   \n",
       "\n",
       "          uria  comdominiom black deny  \n",
       "2380  3.774496            0    no   no  "
      ]
     },
     "execution_count": 83,
     "metadata": {},
     "output_type": "execute_result"
    }
   ],
   "source": [
    "# extract the rows that contain missing value \n",
    "null_data = df[df.isnull().any(axis=1)]\n",
    "null_data"
   ]
  },
  {
   "cell_type": "code",
   "execution_count": 84,
   "metadata": {
    "colab": {},
    "colab_type": "code",
    "id": "pdyLoCWns15g"
   },
   "outputs": [],
   "source": [
    "# drop the missing value row\n",
    "df = df.dropna()"
   ]
  },
  {
   "cell_type": "code",
   "execution_count": 85,
   "metadata": {
    "ExecuteTime": {
     "end_time": "2020-06-13T15:32:29.573222Z",
     "start_time": "2020-06-13T15:32:29.553041Z"
    },
    "colab": {
     "base_uri": "https://localhost:8080/",
     "height": 252
    },
    "colab_type": "code",
    "id": "WRdl-_wHqPj-",
    "outputId": "5cffb455-f957-4c74-aef7-85048c8830d7"
   },
   "outputs": [
    {
     "data": {
      "text/plain": [
       "dir            0\n",
       "hir            0\n",
       "lvr            0\n",
       "ccs            0\n",
       "mcs            0\n",
       "pbcr           0\n",
       "dmi            0\n",
       "self           0\n",
       "single         0\n",
       "uria           0\n",
       "comdominiom    0\n",
       "black          0\n",
       "deny           0\n",
       "dtype: int64"
      ]
     },
     "execution_count": 85,
     "metadata": {},
     "output_type": "execute_result"
    }
   ],
   "source": [
    " \n",
    "# Show missing value\n",
    "miss = df.isnull().sum()\n",
    "#miss = miss[miss > 0]\n",
    "#miss.sort_values(inplace=True)\n",
    "miss"
   ]
  },
  {
   "cell_type": "code",
   "execution_count": 86,
   "metadata": {
    "ExecuteTime": {
     "end_time": "2020-06-13T20:55:39.206833Z",
     "start_time": "2020-06-13T20:55:39.156712Z"
    },
    "colab": {
     "base_uri": "https://localhost:8080/",
     "height": 750
    },
    "colab_type": "code",
    "id": "HFJC7wawqPkH",
    "outputId": "72edf3c2-d5d0-4c30-f55e-5e7b18ae9d1c"
   },
   "outputs": [
    {
     "data": {
      "text/plain": [
       "Text(0.5, 1.0, ' Percents of nonmissing data with missingno')"
      ]
     },
     "execution_count": 86,
     "metadata": {},
     "output_type": "execute_result"
    },
    {
     "data": {
      "image/png": "[encoded data removed]",
      "text/plain": [
       "<Figure size 1728x720 with 3 Axes>"
      ]
     },
     "metadata": {},
     "output_type": "display_data"
    }
   ],
   "source": [
    "# recreate the bar charts to show percents of nonmissing databy missingo function\n",
    "msno.bar(df)\n",
    "plt.title(' Percents of nonmissing data with missingno',fontsize=20)"
   ]
  },
  {
   "cell_type": "markdown",
   "metadata": {
    "colab_type": "text",
    "id": "yx7e_-tYqPkJ"
   },
   "source": [
    "#### 4. Detect Outliers\n"
   ]
  },
  {
   "cell_type": "code",
   "execution_count": 87,
   "metadata": {
    "colab": {},
    "colab_type": "code",
    "id": "AqeOlKoIu0TN"
   },
   "outputs": [],
   "source": [
    "# use standard deviation to find the outliers for each numerical columns\n",
    "def remove_outliers(col_name):\n",
    "    \"\"\"\n",
    "    Removing the outliers that are 2.5 standard deviations away from the mean.\n",
    "    \"\"\"\n",
    "    return df[np.abs(df[col_name] - df[col_name].mean() ) > (2.5 * df[col_name].std() )]"
   ]
  },
  {
   "cell_type": "code",
   "execution_count": 88,
   "metadata": {
    "colab": {
     "base_uri": "https://localhost:8080/",
     "height": 67
    },
    "colab_type": "code",
    "id": "tOBO2yXD2ZEU",
    "outputId": "68fd20fa-1b95-4d7a-b733-913c421a866b"
   },
   "outputs": [
    {
     "name": "stdout",
     "output_type": "stream",
     "text": [
      "min: 0.0\n",
      "max 3.0\n",
      "number of outliers: 28\n"
     ]
    }
   ],
   "source": [
    "# find all rows that have dir values whose values are > 2.5 standard deviations from the mean of data in that column\n",
    "dir_outliers = remove_outliers('dir')\n",
    "print('min:',dir_outliers.dir.min())\n",
    "print('max',dir_outliers.dir.max())\n",
    "print('number of outliers:',dir_outliers.shape[0])"
   ]
  },
  {
   "cell_type": "markdown",
   "metadata": {},
   "source": [
    "According to the domain knowledge, over 50% debet income ration is high liabilities. In addition, hir and dir have high correlation, so we do not delete the outliers."
   ]
  },
  {
   "cell_type": "code",
   "execution_count": 89,
   "metadata": {
    "colab": {
     "base_uri": "https://localhost:8080/",
     "height": 67
    },
    "colab_type": "code",
    "id": "t7hZVZS42ZKo",
    "outputId": "65455d20-a243-474c-f0c0-7edbf76b5899"
   },
   "outputs": [
    {
     "name": "stdout",
     "output_type": "stream",
     "text": [
      "min: 0.02\n",
      "max 1.95\n",
      "number of outliers: 67\n"
     ]
    }
   ],
   "source": [
    "# find all rows that have lvr values whose values are > 2.5 standard deviations from the mean of data in that column\n",
    "lvr_outliers = remove_outliers('lvr')\n",
    "print('min:',lvr_outliers.lvr.min())\n",
    "print('max',lvr_outliers.lvr.max())\n",
    "print('number of outliers:', lvr_outliers.shape[0])"
   ]
  },
  {
   "cell_type": "code",
   "execution_count": 90,
   "metadata": {
    "colab": {
     "base_uri": "https://localhost:8080/",
     "height": 67
    },
    "colab_type": "code",
    "id": "Zx5J2VCI2ZI7",
    "outputId": "c0816507-3085-48f0-86b2-6f3a2df7dcee"
   },
   "outputs": [
    {
     "name": "stdout",
     "output_type": "stream",
     "text": [
      "min: 0.0\n",
      "max 3.0\n",
      "number of outliers: 24\n"
     ]
    }
   ],
   "source": [
    "# find all rows that have hir values whose values are > 2.5 standard deviations from the mean of data in that column\n",
    "hir_outliers = remove_outliers('hir')\n",
    "print('min:',hir_outliers.hir.min())\n",
    "print('max',hir_outliers.hir.max())\n",
    "print('number of outliers:',hir_outliers.shape[0])"
   ]
  },
  {
   "cell_type": "code",
   "execution_count": 91,
   "metadata": {
    "colab": {
     "base_uri": "https://localhost:8080/",
     "height": 67
    },
    "colab_type": "code",
    "id": "GpX44NE_5uLi",
    "outputId": "202525e3-55fe-43ef-ada2-e7578011137e"
   },
   "outputs": [
    {
     "name": "stdout",
     "output_type": "stream",
     "text": [
      "min: nan\n",
      "max nan\n",
      "number of outliers: 0\n"
     ]
    }
   ],
   "source": [
    "# find all rows that have ccs values whose values are > 2.5 standard deviations from the mean of data in that column\n",
    "ccs_outliers = remove_outliers('ccs')\n",
    "print('min:',ccs_outliers.ccs.min())\n",
    "print('max',ccs_outliers.ccs.max())\n",
    "print('number of outliers:',ccs_outliers.shape[0])"
   ]
  },
  {
   "cell_type": "markdown",
   "metadata": {
    "colab_type": "text",
    "id": "WV_rmVuP7qrF"
   },
   "source": [
    "There are no outliers in column ccs."
   ]
  },
  {
   "cell_type": "code",
   "execution_count": 92,
   "metadata": {
    "colab": {
     "base_uri": "https://localhost:8080/",
     "height": 67
    },
    "colab_type": "code",
    "id": "xoRJnpzr5uR3",
    "outputId": "5d086fae-7e50-428b-f0a4-309ccbb7fdfc"
   },
   "outputs": [
    {
     "name": "stdout",
     "output_type": "stream",
     "text": [
      "min: 4.0\n",
      "max 4.0\n",
      "number of outliers: 21\n"
     ]
    }
   ],
   "source": [
    "# find all rows that have mcs values whose values are > 2.5 standard deviations from the mean of data in that column\n",
    "mcs_outliers = remove_outliers('mcs')\n",
    "print('min:',mcs_outliers.mcs.min())\n",
    "print('max',mcs_outliers.mcs.max())\n",
    "print('number of outliers:',mcs_outliers.shape[0])"
   ]
  },
  {
   "cell_type": "markdown",
   "metadata": {
    "colab_type": "text",
    "id": "DTooIya46-XE"
   },
   "source": [
    "mortgage credit score from 1 to 4, so the outliers of mcs is valid and do not need to be removed."
   ]
  },
  {
   "cell_type": "code",
   "execution_count": 93,
   "metadata": {
    "colab": {
     "base_uri": "https://localhost:8080/",
     "height": 67
    },
    "colab_type": "code",
    "id": "al-4TpT85uP_",
    "outputId": "b741102d-a8be-4945-b627-c1a469eaba3c"
   },
   "outputs": [
    {
     "name": "stdout",
     "output_type": "stream",
     "text": [
      "min: 8.899999618999999\n",
      "max 10.60000038\n",
      "number of outliers: 175\n"
     ]
    }
   ],
   "source": [
    "# find all rows that have uria values whose values are > 2.5 standard deviations from the mean of data in that column\n",
    "uria_outliers = remove_outliers('uria')\n",
    "print('min:',uria_outliers.uria.min())\n",
    "print('max',uria_outliers.uria.max())\n",
    "print('number of outliers:',uria_outliers.shape[0])"
   ]
  },
  {
   "cell_type": "markdown",
   "metadata": {
    "colab_type": "text",
    "id": "rvUUsrwo7fYr"
   },
   "source": [
    "Although there appear to be outliers, we decided do not to remove any of them. "
   ]
  },
  {
   "cell_type": "markdown",
   "metadata": {
    "colab": {},
    "colab_type": "code",
    "id": "tgEp4O1P5uN9"
   },
   "source": [
    "### 3. Rerun EDA"
   ]
  },
  {
   "cell_type": "code",
   "execution_count": 94,
   "metadata": {
    "ExecuteTime": {
     "end_time": "2020-06-14T16:41:02.851863Z",
     "start_time": "2020-06-14T16:40:52.805748Z"
    },
    "colab": {
     "base_uri": "https://localhost:8080/",
     "height": 778
    },
    "colab_type": "code",
    "id": "7RFVX-KtqPkJ",
    "outputId": "41e958aa-a631-41b9-aef0-9ded5fee9606",
    "scrolled": true
   },
   "outputs": [
    {
     "name": "stderr",
     "output_type": "stream",
     "text": [
      "C:\\Users\\13750\\Anaconda3\\lib\\site-packages\\pandas\\plotting\\_matplotlib\\tools.py:307: MatplotlibDeprecationWarning: \n",
      "The rowNum attribute was deprecated in Matplotlib 3.2 and will be removed two minor releases later. Use ax.get_subplotspec().rowspan.start instead.\n",
      "  layout[ax.rowNum, ax.colNum] = ax.get_visible()\n",
      "C:\\Users\\13750\\Anaconda3\\lib\\site-packages\\pandas\\plotting\\_matplotlib\\tools.py:307: MatplotlibDeprecationWarning: \n",
      "The colNum attribute was deprecated in Matplotlib 3.2 and will be removed two minor releases later. Use ax.get_subplotspec().colspan.start instead.\n",
      "  layout[ax.rowNum, ax.colNum] = ax.get_visible()\n",
      "C:\\Users\\13750\\Anaconda3\\lib\\site-packages\\pandas\\plotting\\_matplotlib\\tools.py:313: MatplotlibDeprecationWarning: \n",
      "The rowNum attribute was deprecated in Matplotlib 3.2 and will be removed two minor releases later. Use ax.get_subplotspec().rowspan.start instead.\n",
      "  if not layout[ax.rowNum + 1, ax.colNum]:\n",
      "C:\\Users\\13750\\Anaconda3\\lib\\site-packages\\pandas\\plotting\\_matplotlib\\tools.py:313: MatplotlibDeprecationWarning: \n",
      "The colNum attribute was deprecated in Matplotlib 3.2 and will be removed two minor releases later. Use ax.get_subplotspec().colspan.start instead.\n",
      "  if not layout[ax.rowNum + 1, ax.colNum]:\n"
     ]
    },
    {
     "data": {
      "text/plain": [
       "array([[<matplotlib.axes._subplots.AxesSubplot object at 0x0000022B7AA1C080>,\n",
       "        <matplotlib.axes._subplots.AxesSubplot object at 0x0000022B7A8EAC50>],\n",
       "       [<matplotlib.axes._subplots.AxesSubplot object at 0x0000022B7A9272B0>,\n",
       "        <matplotlib.axes._subplots.AxesSubplot object at 0x0000022B7A9569E8>],\n",
       "       [<matplotlib.axes._subplots.AxesSubplot object at 0x0000022B7A993198>,\n",
       "        <matplotlib.axes._subplots.AxesSubplot object at 0x0000022B7A9BE908>]],\n",
       "      dtype=object)"
      ]
     },
     "execution_count": 94,
     "metadata": {},
     "output_type": "execute_result"
    },
    {
     "data": {
      "image/png": "[encoded data removed]",
      "text/plain": [
       "<Figure size 1080x720 with 6 Axes>"
      ]
     },
     "metadata": {},
     "output_type": "display_data"
    }
   ],
   "source": [
    "# create histogram for numerical columns\n",
    "df01 = df[numerical_columns]\n",
    "df01.hist(figsize=(15, 10), bins=20, xlabelsize=10, ylabelsize=10)"
   ]
  },
  {
   "cell_type": "code",
   "execution_count": 95,
   "metadata": {
    "colab": {
     "base_uri": "https://localhost:8080/",
     "height": 282
    },
    "colab_type": "code",
    "id": "qS0zjqWhC8tl",
    "outputId": "66d39def-c087-422b-e172-0df3677af6a1"
   },
   "outputs": [
    {
     "data": {
      "text/plain": [
       "<matplotlib.axes._subplots.AxesSubplot at 0x22b7abdd7f0>"
      ]
     },
     "execution_count": 95,
     "metadata": {},
     "output_type": "execute_result"
    },
    {
     "data": {
      "image/png": "[encoded data removed]",
      "text/plain": [
       "<Figure size 432x288 with 1 Axes>"
      ]
     },
     "metadata": {},
     "output_type": "display_data"
    }
   ],
   "source": [
    "# create the bar chart for categorical value comdominiom\n",
    "df['comdominiom'].value_counts().plot(kind='bar')"
   ]
  },
  {
   "cell_type": "markdown",
   "metadata": {
    "colab_type": "text",
    "id": "b4YWG0kIqPkL"
   },
   "source": [
    "#### Findings: \n",
    ">There are almost same with pervious EDA results."
   ]
  },
  {
   "cell_type": "markdown",
   "metadata": {
    "colab_type": "text",
    "id": "zKJeoxguqPkM"
   },
   "source": [
    "***\n",
    "### Step 4: Feature Engineering and Feature Selection\n",
    "\n",
    "For this step, we'll perform:\n",
    "   1. create dummy variables\n",
    "   2. Split data into training and testing subsets\n",
    "   3. Scaling numerical values using Standard Scale (except dummy variables)\n",
    "   4. Feature Selection by using Correlation coefficients, RFECV, and VIFs:\n",
    " - a. Detect multicollinearity by using Correlation Coefficients and Set Correlation thresholds\n",
    " - b. Select features by using Recursive feature elimination with cross-validation (RFECV)\n",
    " - c. Reduce features further based on the results from the step 4a and VIFs, including Check VIF of all features and Drop feature based based on VIF. Then, Set up a final train and test datasets with the best features\n"
   ]
  },
  {
   "cell_type": "markdown",
   "metadata": {
    "colab": {},
    "colab_type": "code",
    "id": "Q8_x6kyeE0ve"
   },
   "source": [
    "#### 1. create dummy variables\n",
    "\n",
    "We'll create dummy variables for categorical data and exclude the first dummy column.\n",
    "\n",
    "The comdominiom has already to be dummy and numerical, we do not do anything for it.\n",
    "\n",
    ">Steps:\n",
    "1. define the categorical attributes taht we want to process\n",
    "2. We'll define the list of categorical features that we want to process.\n",
    "3. We'll create dummy variables using `get_dummies()`, and we'll exclude the first dummy column to avoid dependency among the variables by using `drop_first=True`.\n",
    ". Results: the predictor variables increased from 13 to 10 after creating dummy variables.\n"
   ]
  },
  {
   "cell_type": "code",
   "execution_count": 96,
   "metadata": {},
   "outputs": [
    {
     "data": {
      "text/html": [
       "<div>\n",
       "<style scoped>\n",
       "    .dataframe tbody tr th:only-of-type {\n",
       "        vertical-align: middle;\n",
       "    }\n",
       "\n",
       "    .dataframe tbody tr th {\n",
       "        vertical-align: top;\n",
       "    }\n",
       "\n",
       "    .dataframe thead th {\n",
       "        text-align: right;\n",
       "    }\n",
       "</style>\n",
       "<table border=\"1\" class=\"dataframe\">\n",
       "  <thead>\n",
       "    <tr style=\"text-align: right;\">\n",
       "      <th></th>\n",
       "      <th>dir</th>\n",
       "      <th>hir</th>\n",
       "      <th>lvr</th>\n",
       "      <th>ccs</th>\n",
       "      <th>mcs</th>\n",
       "      <th>uria</th>\n",
       "      <th>comdominiom</th>\n",
       "      <th>pbcr_yes</th>\n",
       "      <th>dmi_yes</th>\n",
       "      <th>self_yes</th>\n",
       "      <th>single_yes</th>\n",
       "      <th>black_yes</th>\n",
       "      <th>deny_yes</th>\n",
       "    </tr>\n",
       "  </thead>\n",
       "  <tbody>\n",
       "    <tr>\n",
       "      <th>0</th>\n",
       "      <td>0.221</td>\n",
       "      <td>0.221</td>\n",
       "      <td>0.800000</td>\n",
       "      <td>5.0</td>\n",
       "      <td>2.0</td>\n",
       "      <td>3.9</td>\n",
       "      <td>0</td>\n",
       "      <td>0</td>\n",
       "      <td>0</td>\n",
       "      <td>0</td>\n",
       "      <td>0</td>\n",
       "      <td>0</td>\n",
       "      <td>0</td>\n",
       "    </tr>\n",
       "    <tr>\n",
       "      <th>1</th>\n",
       "      <td>0.265</td>\n",
       "      <td>0.265</td>\n",
       "      <td>0.921875</td>\n",
       "      <td>2.0</td>\n",
       "      <td>2.0</td>\n",
       "      <td>3.2</td>\n",
       "      <td>0</td>\n",
       "      <td>0</td>\n",
       "      <td>0</td>\n",
       "      <td>0</td>\n",
       "      <td>1</td>\n",
       "      <td>0</td>\n",
       "      <td>0</td>\n",
       "    </tr>\n",
       "    <tr>\n",
       "      <th>2</th>\n",
       "      <td>0.372</td>\n",
       "      <td>0.248</td>\n",
       "      <td>0.920398</td>\n",
       "      <td>1.0</td>\n",
       "      <td>2.0</td>\n",
       "      <td>3.2</td>\n",
       "      <td>0</td>\n",
       "      <td>0</td>\n",
       "      <td>0</td>\n",
       "      <td>0</td>\n",
       "      <td>0</td>\n",
       "      <td>0</td>\n",
       "      <td>0</td>\n",
       "    </tr>\n",
       "    <tr>\n",
       "      <th>3</th>\n",
       "      <td>0.320</td>\n",
       "      <td>0.250</td>\n",
       "      <td>0.860465</td>\n",
       "      <td>1.0</td>\n",
       "      <td>2.0</td>\n",
       "      <td>4.3</td>\n",
       "      <td>0</td>\n",
       "      <td>0</td>\n",
       "      <td>0</td>\n",
       "      <td>0</td>\n",
       "      <td>0</td>\n",
       "      <td>0</td>\n",
       "      <td>0</td>\n",
       "    </tr>\n",
       "    <tr>\n",
       "      <th>4</th>\n",
       "      <td>0.360</td>\n",
       "      <td>0.350</td>\n",
       "      <td>0.600000</td>\n",
       "      <td>1.0</td>\n",
       "      <td>1.0</td>\n",
       "      <td>3.2</td>\n",
       "      <td>0</td>\n",
       "      <td>0</td>\n",
       "      <td>0</td>\n",
       "      <td>0</td>\n",
       "      <td>0</td>\n",
       "      <td>0</td>\n",
       "      <td>0</td>\n",
       "    </tr>\n",
       "  </tbody>\n",
       "</table>\n",
       "</div>"
      ],
      "text/plain": [
       "     dir    hir       lvr  ccs  mcs  uria  comdominiom  pbcr_yes  dmi_yes  \\\n",
       "0  0.221  0.221  0.800000  5.0  2.0   3.9            0         0        0   \n",
       "1  0.265  0.265  0.921875  2.0  2.0   3.2            0         0        0   \n",
       "2  0.372  0.248  0.920398  1.0  2.0   3.2            0         0        0   \n",
       "3  0.320  0.250  0.860465  1.0  2.0   4.3            0         0        0   \n",
       "4  0.360  0.350  0.600000  1.0  1.0   3.2            0         0        0   \n",
       "\n",
       "   self_yes  single_yes  black_yes  deny_yes  \n",
       "0         0           0          0         0  \n",
       "1         0           1          0         0  \n",
       "2         0           0          0         0  \n",
       "3         0           0          0         0  \n",
       "4         0           0          0         0  "
      ]
     },
     "execution_count": 96,
     "metadata": {},
     "output_type": "execute_result"
    }
   ],
   "source": [
    "# create dummy for the columns pbcr,dmi,self,single,black,and deny\n",
    "df1= pd.get_dummies(df,columns=['pbcr','dmi','self','single','black','deny'], drop_first=True)\n",
    "df1.head()"
   ]
  },
  {
   "cell_type": "markdown",
   "metadata": {
    "colab_type": "text",
    "id": "7xBVwWpYqPkQ"
   },
   "source": [
    "#### 2. Split data into training and testing subsets\n",
    "\n",
    "Before doing feature selection,we'll split data into training and testing subsets by using the `train_test_split` function. The test_size=0.3 inside the function indicates the percentage of the data that should be held over for testing. It’s 70/30, 30% of the data for testing."
   ]
  },
  {
   "cell_type": "code",
   "execution_count": 97,
   "metadata": {
    "ExecuteTime": {
     "end_time": "2020-06-14T16:43:51.962403Z",
     "start_time": "2020-06-14T16:43:51.891900Z"
    },
    "colab": {
     "base_uri": "https://localhost:8080/",
     "height": 195
    },
    "colab_type": "code",
    "id": "8UW4ldSfqPkR",
    "outputId": "0e7254e9-8455-4185-ec75-3ee8c6bd5991"
   },
   "outputs": [],
   "source": [
    "# Create X and y\n",
    "X = df1.drop(columns = \"deny_yes\")\n",
    "y = df1[['deny_yes']]\n"
   ]
  },
  {
   "cell_type": "code",
   "execution_count": 98,
   "metadata": {
    "ExecuteTime": {
     "end_time": "2020-06-14T16:57:51.283817Z",
     "start_time": "2020-06-14T16:57:51.210607Z"
    },
    "colab": {
     "base_uri": "https://localhost:8080/",
     "height": 229
    },
    "colab_type": "code",
    "id": "yEbRtnD-qPkT",
    "outputId": "00f166c2-eb42-4df6-ddeb-416c6922e310"
   },
   "outputs": [
    {
     "name": "stdout",
     "output_type": "stream",
     "text": [
      "Training dataset shape: (1666, 12) (1666, 1)\n",
      "Testing dataset shape: (714, 12) (714, 1)\n"
     ]
    }
   ],
   "source": [
    "# evaluate the model by splitting into train and test sets\n",
    "\n",
    "# Now split the data into training and testing subsets. \n",
    "X_train, X_test, y_train, y_test = train_test_split(X, y, test_size=0.3, random_state=12)\n",
    "\n",
    "# check the results\n",
    "print('Training dataset shape:', X_train.shape, y_train.shape)\n",
    "print('Testing dataset shape:', X_test.shape, y_test.shape)"
   ]
  },
  {
   "cell_type": "markdown",
   "metadata": {
    "colab_type": "text",
    "id": "2_2uNGH0qPkV"
   },
   "source": [
    "#### 3. Scaling numerical values using Standard Scale (except dummy variables)\n",
    "\n",
    "Since some variables have different scales, we'll use `StandardScaler` to remove the mean and scale the data to unit variance.\n",
    "\n",
    "Standardization is a scaling technique where the values are centered around the mean with a unit standard deviation. This means that the mean of the attribute becomes zero and the resultant distribution has a unit standard deviation.\n",
    "\n",
    "We'll use `StandardScaler` for the train dataset, then do the same to the test dataset.\n"
   ]
  },
  {
   "cell_type": "code",
   "execution_count": 99,
   "metadata": {
    "colab": {},
    "colab_type": "code",
    "id": "LbjbNyk_qPkV"
   },
   "outputs": [],
   "source": [
    "# set up numerical variables\n",
    "\n",
    "Numerical_columns=['dir', 'hir', 'lvr', 'ccs', 'mcs', 'uria']\n"
   ]
  },
  {
   "cell_type": "code",
   "execution_count": 100,
   "metadata": {
    "colab": {},
    "colab_type": "code",
    "id": "_YKF8PxEqPkX",
    "outputId": "f7a5f0ca-e48a-43cc-b6b7-536ff5ef3b66"
   },
   "outputs": [
    {
     "data": {
      "text/html": [
       "<div>\n",
       "<style scoped>\n",
       "    .dataframe tbody tr th:only-of-type {\n",
       "        vertical-align: middle;\n",
       "    }\n",
       "\n",
       "    .dataframe tbody tr th {\n",
       "        vertical-align: top;\n",
       "    }\n",
       "\n",
       "    .dataframe thead th {\n",
       "        text-align: right;\n",
       "    }\n",
       "</style>\n",
       "<table border=\"1\" class=\"dataframe\">\n",
       "  <thead>\n",
       "    <tr style=\"text-align: right;\">\n",
       "      <th></th>\n",
       "      <th>dir</th>\n",
       "      <th>hir</th>\n",
       "      <th>lvr</th>\n",
       "      <th>ccs</th>\n",
       "      <th>mcs</th>\n",
       "      <th>uria</th>\n",
       "      <th>comdominiom</th>\n",
       "      <th>pbcr_yes</th>\n",
       "      <th>dmi_yes</th>\n",
       "      <th>self_yes</th>\n",
       "      <th>single_yes</th>\n",
       "      <th>black_yes</th>\n",
       "    </tr>\n",
       "  </thead>\n",
       "  <tbody>\n",
       "    <tr>\n",
       "      <th>2060</th>\n",
       "      <td>0.320568</td>\n",
       "      <td>0.705974</td>\n",
       "      <td>0.029044</td>\n",
       "      <td>-0.668449</td>\n",
       "      <td>0.531729</td>\n",
       "      <td>2.0</td>\n",
       "      <td>0</td>\n",
       "      <td>0</td>\n",
       "      <td>0</td>\n",
       "      <td>0</td>\n",
       "      <td>1</td>\n",
       "      <td>0</td>\n",
       "    </tr>\n",
       "    <tr>\n",
       "      <th>46</th>\n",
       "      <td>-0.537016</td>\n",
       "      <td>0.036318</td>\n",
       "      <td>0.338958</td>\n",
       "      <td>2.312376</td>\n",
       "      <td>0.531729</td>\n",
       "      <td>3.2</td>\n",
       "      <td>0</td>\n",
       "      <td>1</td>\n",
       "      <td>0</td>\n",
       "      <td>0</td>\n",
       "      <td>0</td>\n",
       "      <td>0</td>\n",
       "    </tr>\n",
       "    <tr>\n",
       "      <th>1161</th>\n",
       "      <td>-0.708533</td>\n",
       "      <td>-0.155012</td>\n",
       "      <td>-0.702182</td>\n",
       "      <td>-0.668449</td>\n",
       "      <td>0.531729</td>\n",
       "      <td>3.2</td>\n",
       "      <td>1</td>\n",
       "      <td>0</td>\n",
       "      <td>0</td>\n",
       "      <td>0</td>\n",
       "      <td>1</td>\n",
       "      <td>0</td>\n",
       "    </tr>\n",
       "    <tr>\n",
       "      <th>784</th>\n",
       "      <td>-0.526725</td>\n",
       "      <td>0.143464</td>\n",
       "      <td>-0.512334</td>\n",
       "      <td>1.120046</td>\n",
       "      <td>0.531729</td>\n",
       "      <td>3.2</td>\n",
       "      <td>1</td>\n",
       "      <td>0</td>\n",
       "      <td>0</td>\n",
       "      <td>0</td>\n",
       "      <td>1</td>\n",
       "      <td>1</td>\n",
       "    </tr>\n",
       "    <tr>\n",
       "      <th>105</th>\n",
       "      <td>0.149051</td>\n",
       "      <td>0.705974</td>\n",
       "      <td>1.063471</td>\n",
       "      <td>-0.668449</td>\n",
       "      <td>0.531729</td>\n",
       "      <td>3.9</td>\n",
       "      <td>0</td>\n",
       "      <td>0</td>\n",
       "      <td>1</td>\n",
       "      <td>0</td>\n",
       "      <td>1</td>\n",
       "      <td>0</td>\n",
       "    </tr>\n",
       "  </tbody>\n",
       "</table>\n",
       "</div>"
      ],
      "text/plain": [
       "           dir       hir       lvr       ccs       mcs  uria  comdominiom  \\\n",
       "2060  0.320568  0.705974  0.029044 -0.668449  0.531729   2.0            0   \n",
       "46   -0.537016  0.036318  0.338958  2.312376  0.531729   3.2            0   \n",
       "1161 -0.708533 -0.155012 -0.702182 -0.668449  0.531729   3.2            1   \n",
       "784  -0.526725  0.143464 -0.512334  1.120046  0.531729   3.2            1   \n",
       "105   0.149051  0.705974  1.063471 -0.668449  0.531729   3.9            0   \n",
       "\n",
       "      pbcr_yes  dmi_yes  self_yes  single_yes  black_yes  \n",
       "2060         0        0         0           1          0  \n",
       "46           1        0         0           0          0  \n",
       "1161         0        0         0           1          0  \n",
       "784          0        0         0           1          1  \n",
       "105          0        1         0           1          0  "
      ]
     },
     "execution_count": 100,
     "metadata": {},
     "output_type": "execute_result"
    }
   ],
   "source": [
    "# disable the 'SettingWithCopyWarning'\n",
    "pd.options.mode.chained_assignment = None\n",
    "\n",
    "#Feature Scaling on the train dataset\n",
    "sc = StandardScaler()\n",
    "\n",
    "for i in numerical_columns[:-1]:\n",
    "    X_train[i] = X_train[i].astype('float64')\n",
    "    X_train[i] =  sc.fit_transform(X_train[i].values.reshape(-1,1))\n",
    "    \n",
    "X_train.head()"
   ]
  },
  {
   "cell_type": "code",
   "execution_count": 101,
   "metadata": {
    "colab": {},
    "colab_type": "code",
    "id": "KYbalSQZqPkZ",
    "outputId": "8b9530dc-5ad8-4195-9a3d-41ff846f42e3"
   },
   "outputs": [
    {
     "data": {
      "text/html": [
       "<div>\n",
       "<style scoped>\n",
       "    .dataframe tbody tr th:only-of-type {\n",
       "        vertical-align: middle;\n",
       "    }\n",
       "\n",
       "    .dataframe tbody tr th {\n",
       "        vertical-align: top;\n",
       "    }\n",
       "\n",
       "    .dataframe thead th {\n",
       "        text-align: right;\n",
       "    }\n",
       "</style>\n",
       "<table border=\"1\" class=\"dataframe\">\n",
       "  <thead>\n",
       "    <tr style=\"text-align: right;\">\n",
       "      <th></th>\n",
       "      <th>dir</th>\n",
       "      <th>hir</th>\n",
       "      <th>lvr</th>\n",
       "      <th>ccs</th>\n",
       "      <th>mcs</th>\n",
       "      <th>uria</th>\n",
       "      <th>comdominiom</th>\n",
       "      <th>pbcr_yes</th>\n",
       "      <th>dmi_yes</th>\n",
       "      <th>self_yes</th>\n",
       "      <th>single_yes</th>\n",
       "      <th>black_yes</th>\n",
       "    </tr>\n",
       "  </thead>\n",
       "  <tbody>\n",
       "    <tr>\n",
       "      <th>2075</th>\n",
       "      <td>-0.377252</td>\n",
       "      <td>-0.591199</td>\n",
       "      <td>0.941267</td>\n",
       "      <td>-0.673675</td>\n",
       "      <td>0.492297</td>\n",
       "      <td>3.1</td>\n",
       "      <td>0</td>\n",
       "      <td>0</td>\n",
       "      <td>0</td>\n",
       "      <td>0</td>\n",
       "      <td>0</td>\n",
       "      <td>0</td>\n",
       "    </tr>\n",
       "    <tr>\n",
       "      <th>1981</th>\n",
       "      <td>1.644669</td>\n",
       "      <td>0.222034</td>\n",
       "      <td>0.594649</td>\n",
       "      <td>1.764875</td>\n",
       "      <td>0.492297</td>\n",
       "      <td>5.3</td>\n",
       "      <td>0</td>\n",
       "      <td>0</td>\n",
       "      <td>0</td>\n",
       "      <td>0</td>\n",
       "      <td>1</td>\n",
       "      <td>0</td>\n",
       "    </tr>\n",
       "    <tr>\n",
       "      <th>1597</th>\n",
       "      <td>1.398093</td>\n",
       "      <td>2.488424</td>\n",
       "      <td>-1.609046</td>\n",
       "      <td>-0.673675</td>\n",
       "      <td>-1.310268</td>\n",
       "      <td>3.6</td>\n",
       "      <td>1</td>\n",
       "      <td>0</td>\n",
       "      <td>0</td>\n",
       "      <td>0</td>\n",
       "      <td>0</td>\n",
       "      <td>0</td>\n",
       "    </tr>\n",
       "    <tr>\n",
       "      <th>1690</th>\n",
       "      <td>0.411790</td>\n",
       "      <td>-0.444551</td>\n",
       "      <td>-0.964415</td>\n",
       "      <td>-0.064038</td>\n",
       "      <td>0.492297</td>\n",
       "      <td>3.1</td>\n",
       "      <td>1</td>\n",
       "      <td>0</td>\n",
       "      <td>0</td>\n",
       "      <td>0</td>\n",
       "      <td>0</td>\n",
       "      <td>0</td>\n",
       "    </tr>\n",
       "    <tr>\n",
       "      <th>14</th>\n",
       "      <td>-1.807391</td>\n",
       "      <td>-1.377770</td>\n",
       "      <td>-2.088065</td>\n",
       "      <td>-0.673675</td>\n",
       "      <td>-1.310268</td>\n",
       "      <td>3.2</td>\n",
       "      <td>0</td>\n",
       "      <td>0</td>\n",
       "      <td>0</td>\n",
       "      <td>0</td>\n",
       "      <td>0</td>\n",
       "      <td>0</td>\n",
       "    </tr>\n",
       "  </tbody>\n",
       "</table>\n",
       "</div>"
      ],
      "text/plain": [
       "           dir       hir       lvr       ccs       mcs  uria  comdominiom  \\\n",
       "2075 -0.377252 -0.591199  0.941267 -0.673675  0.492297   3.1            0   \n",
       "1981  1.644669  0.222034  0.594649  1.764875  0.492297   5.3            0   \n",
       "1597  1.398093  2.488424 -1.609046 -0.673675 -1.310268   3.6            1   \n",
       "1690  0.411790 -0.444551 -0.964415 -0.064038  0.492297   3.1            1   \n",
       "14   -1.807391 -1.377770 -2.088065 -0.673675 -1.310268   3.2            0   \n",
       "\n",
       "      pbcr_yes  dmi_yes  self_yes  single_yes  black_yes  \n",
       "2075         0        0         0           0          0  \n",
       "1981         0        0         0           1          0  \n",
       "1597         0        0         0           0          0  \n",
       "1690         0        0         0           0          0  \n",
       "14           0        0         0           0          0  "
      ]
     },
     "execution_count": 101,
     "metadata": {},
     "output_type": "execute_result"
    }
   ],
   "source": [
    "# disable the 'SettingWithCopyWarning'\n",
    "pd.options.mode.chained_assignment = None\n",
    "\n",
    "#Feature Scaling on th train dataset\n",
    "sc = StandardScaler()\n",
    "\n",
    "for i in numerical_columns[:-1]:\n",
    "    X_test[i] = X_test[i].astype('float64')\n",
    "    X_test[i] =  sc.fit_transform(X_test[i].values.reshape(-1,1))\n",
    "    \n",
    "X_test.head()"
   ]
  },
  {
   "cell_type": "markdown",
   "metadata": {
    "colab_type": "text",
    "id": "94nkDP0IqPkb"
   },
   "source": [
    "#### 4 Feature Selection  by using Correlation coefficients, RFECV, and VIFs. \n",
    "\n",
    "**a. Detect multicollinearity by using Correlation Coefficients and Set Correlation thresholds**\n",
    "\n",
    "**Correlation Method**: By calculating the correlation coefficients between the variables we can get to know about the extent of multicollinearity in the data.\n",
    "\n",
    "In this case, an absolute correlation coefficient of >0.8 among two predictors indicates the presence of multicollinearity. \n",
    "\n",
    "Checking for multicollinearity is a very important step during the feature selection process. Multicollinearity can significantly reduce the model’s performance. Removing multicollinear features will both reduce the number of features and improve the model’s performance.\n"
   ]
  },
  {
   "cell_type": "code",
   "execution_count": 102,
   "metadata": {
    "colab": {},
    "colab_type": "code",
    "id": "UF83037zqPkb",
    "outputId": "48ee8acf-9bb9-49ca-8d1b-a362d18bd7ec"
   },
   "outputs": [
    {
     "data": {
      "text/plain": [
       "Text(0.5, 1.0, 'Figure 6: Correlations')"
      ]
     },
     "execution_count": 102,
     "metadata": {},
     "output_type": "execute_result"
    },
    {
     "data": {
      "image/png": "[encoded data removed]",
      "text/plain": [
       "<Figure size 720x648 with 2 Axes>"
      ]
     },
     "metadata": {},
     "output_type": "display_data"
    }
   ],
   "source": [
    "# Finding the correlation bewteen the Features.\n",
    "plt.figure(figsize=(10,9))\n",
    "\n",
    "corr = df1.corr()# plot the heatmap\n",
    "sns.heatmap(corr, xticklabels=corr.columns, yticklabels=corr.columns, \n",
    "            annot=True, cmap=sns.diverging_palette(220, 20, as_cmap=True))\n",
    "plt.title('Figure 6: Correlations')"
   ]
  },
  {
   "cell_type": "markdown",
   "metadata": {
    "colab_type": "text",
    "id": "ILWBuORNqPkd"
   },
   "source": [
    "#### Findings: \n",
    ">1. From this visualization, we can obviously see that the dir and hir are the multicollinearity which have 0.78 correlation values. \n",
    ">2. We need to delete one from them. However, we don't know which one should be deleted.\n",
    ">3. We'll use these r and VIF values later to decide which variable should be removed. \n",
    "4. According to the correlation, variable dr, ccs, pbcr, dmi, and black have the strongest relationships with deny even their correlations are no more than 0.36. These can be the first model exploratory variables.\n",
    "5. The correlations of variable hir, lvr, and mcs are more than 0.1 and less than 0.2. \n"
   ]
  },
  {
   "cell_type": "markdown",
   "metadata": {
    "colab_type": "text",
    "id": "xzy59DoDqPkf"
   },
   "source": [
    "#### 4b Select features by using Recursive feature elimination with cross-validation (RFECV)\n",
    "\n",
    "RFE requires a specified number of features to keep, **however it is usually not known in advance how many features are valid**. To find the optimal number of features, cross-validation is used with RFE to score different feature subsets and select the best scoring collection of features.\n",
    "\n",
    "reference: https://medium.com/analytics-vidhya/feature-selection-using-scikit-learn-5b4362e0c19b"
   ]
  },
  {
   "cell_type": "code",
   "execution_count": 103,
   "metadata": {
    "colab": {},
    "colab_type": "code",
    "id": "t32SIixdqPkf",
    "outputId": "45a880b7-351c-4210-884e-ae07d9845118"
   },
   "outputs": [
    {
     "name": "stderr",
     "output_type": "stream",
     "text": [
      "C:\\Users\\13750\\Anaconda3\\lib\\site-packages\\ipykernel_launcher.py:5: DataConversionWarning: A column-vector y was passed when a 1d array was expected. Please change the shape of y to (n_samples,), for example using ravel().\n",
      "  \"\"\"\n",
      "C:\\Users\\13750\\Anaconda3\\lib\\site-packages\\sklearn\\utils\\validation.py:760: DataConversionWarning: A column-vector y was passed when a 1d array was expected. Please change the shape of y to (n_samples, ), for example using ravel().\n",
      "  y = column_or_1d(y, warn=True)\n"
     ]
    }
   ],
   "source": [
    "from sklearn.ensemble import RandomForestClassifier\n",
    "from sklearn.feature_selection import RFECV\n",
    "\n",
    "cv_estimator = RandomForestClassifier(random_state =42)\n",
    "cv_estimator.fit(X_train, y_train)\n",
    "cv_selector = RFECV(cv_estimator, cv=10, step=1)\n",
    "cv_selector = cv_selector.fit(X_train, y_train)\n",
    "rfecv_mask = cv_selector.get_support() #list of booleans\n"
   ]
  },
  {
   "cell_type": "code",
   "execution_count": 104,
   "metadata": {
    "colab": {},
    "colab_type": "code",
    "id": "IcMbadsLqPkh",
    "outputId": "3140207f-ea67-4231-a7de-fe1745d31c51"
   },
   "outputs": [
    {
     "name": "stdout",
     "output_type": "stream",
     "text": [
      "Optimal number of features : 10\n",
      "Best features : ['dir', 'hir', 'lvr', 'ccs', 'mcs', 'uria', 'comdominiom', 'pbcr_yes', 'dmi_yes', 'black_yes']\n"
     ]
    },
    {
     "data": {
      "image/png": "[encoded data removed]",
      "text/plain": [
       "<Figure size 1080x1080 with 1 Axes>"
      ]
     },
     "metadata": {},
     "output_type": "display_data"
    }
   ],
   "source": [
    "rfecv_features = [] \n",
    "\n",
    "for bool, feature in zip(rfecv_mask, X_train.columns):\n",
    "    if bool:\n",
    "        rfecv_features.append(feature)\n",
    "\n",
    "print('Optimal number of features :', cv_selector.n_features_)\n",
    "print('Best features :', rfecv_features)\n",
    "\n",
    "n_features = X_train.shape[1]\n",
    "plt.figure(figsize=(15,15))\n",
    "plt.barh(range(n_features), cv_estimator.feature_importances_, align='center') \n",
    "plt.yticks(np.arange(n_features), X_train.columns.values) \n",
    "plt.xlabel('Feature importance')\n",
    "plt.ylabel('Feature')\n",
    "plt.show()"
   ]
  },
  {
   "cell_type": "markdown",
   "metadata": {
    "colab_type": "text",
    "id": "_BuPWw2vqPkk"
   },
   "source": [
    "#### Findings:\n",
    ">1. Finally, the number of features is reduced to 10 from 13, and we have the name of those features. \n",
    ">2. The next step is to double check these features by using correlation r values and VIFs to see if there's high multicollinearity between correlated features. \n",
    "\n",
    "\n",
    "#### c Reduce features further based on the results from step 4b and VIFs\n",
    "\n",
    "**VIF (Variance Inflation Factor) Method**: Firstly we fit a model with all the variables and then calculate the variance inflation factor (VIF) for each variable. VIF measures how much the variance of an estimated regression coefficient increases if our predictors are correlated. The higher the value of VIF for ith regressor, the more it is highly correlated to other variables.\n",
    "\n",
    "We use the statsmodels `variance_inflation_factor` to calculate VIF. There are some guidelines we can use to determine whether our VIFs are in an acceptable range. A rule of thumb commonly used in practice is if a **VIF is > 10**, you have high multicollinearity. Dropping one of the correlated features will help in bringing down the multicollinearity between correlated features.\n",
    "\n",
    "\n",
    "**Steps:**\n",
    "\n",
    ">1. Check VIFs of all 10 features\n",
    "2. Drop 'hir'and check VIF of the remaining features\n",
    "3. Drop 'dir' and 'length', and check VIF of remaining features\n",
    "4. Set up a final train and test datasets with the best features\n"
   ]
  },
  {
   "cell_type": "markdown",
   "metadata": {
    "colab_type": "text",
    "id": "V-8pWJEIqPkk"
   },
   "source": [
    "**01. Use all 10 features to check VIF**"
   ]
  },
  {
   "cell_type": "code",
   "execution_count": 105,
   "metadata": {
    "colab": {},
    "colab_type": "code",
    "id": "hOOx_sofqPkl"
   },
   "outputs": [],
   "source": [
    "# narrow down the X_train to 10 features\n",
    "X_train_new = X_train[['dir', 'hir', 'lvr', 'ccs', 'mcs', 'uria', 'comdominiom', 'pbcr_yes', 'dmi_yes', 'black_yes']]\n",
    "X_test_new = X_test[['dir', 'hir', 'lvr', 'ccs', 'mcs', 'uria', 'comdominiom', 'pbcr_yes', 'dmi_yes', 'black_yes']]                      "
   ]
  },
  {
   "cell_type": "code",
   "execution_count": 106,
   "metadata": {
    "colab": {},
    "colab_type": "code",
    "id": "bVdKdUpuqPkp",
    "outputId": "71339df8-3da8-4d01-d299-0391c60583f3"
   },
   "outputs": [
    {
     "name": "stderr",
     "output_type": "stream",
     "text": [
      "C:\\Users\\13750\\Anaconda3\\lib\\site-packages\\numpy\\core\\fromnumeric.py:2495: FutureWarning: Method .ptp is deprecated and will be removed in a future version. Use numpy.ptp instead.\n",
      "  return ptp(axis=axis, out=out, **kwargs)\n"
     ]
    },
    {
     "data": {
      "text/html": [
       "<div>\n",
       "<style scoped>\n",
       "    .dataframe tbody tr th:only-of-type {\n",
       "        vertical-align: middle;\n",
       "    }\n",
       "\n",
       "    .dataframe tbody tr th {\n",
       "        vertical-align: top;\n",
       "    }\n",
       "\n",
       "    .dataframe thead th {\n",
       "        text-align: right;\n",
       "    }\n",
       "</style>\n",
       "<table border=\"1\" class=\"dataframe\">\n",
       "  <thead>\n",
       "    <tr style=\"text-align: right;\">\n",
       "      <th></th>\n",
       "      <th>VIF Factor</th>\n",
       "      <th>features</th>\n",
       "    </tr>\n",
       "  </thead>\n",
       "  <tbody>\n",
       "    <tr>\n",
       "      <th>0</th>\n",
       "      <td>5.4</td>\n",
       "      <td>const</td>\n",
       "    </tr>\n",
       "    <tr>\n",
       "      <th>1</th>\n",
       "      <td>2.9</td>\n",
       "      <td>dir</td>\n",
       "    </tr>\n",
       "    <tr>\n",
       "      <th>2</th>\n",
       "      <td>2.9</td>\n",
       "      <td>hir</td>\n",
       "    </tr>\n",
       "    <tr>\n",
       "      <th>3</th>\n",
       "      <td>1.1</td>\n",
       "      <td>lvr</td>\n",
       "    </tr>\n",
       "    <tr>\n",
       "      <th>4</th>\n",
       "      <td>1.2</td>\n",
       "      <td>ccs</td>\n",
       "    </tr>\n",
       "    <tr>\n",
       "      <th>5</th>\n",
       "      <td>1.1</td>\n",
       "      <td>mcs</td>\n",
       "    </tr>\n",
       "    <tr>\n",
       "      <th>6</th>\n",
       "      <td>1.0</td>\n",
       "      <td>uria</td>\n",
       "    </tr>\n",
       "    <tr>\n",
       "      <th>7</th>\n",
       "      <td>1.1</td>\n",
       "      <td>comdominiom</td>\n",
       "    </tr>\n",
       "    <tr>\n",
       "      <th>8</th>\n",
       "      <td>1.1</td>\n",
       "      <td>pbcr_yes</td>\n",
       "    </tr>\n",
       "    <tr>\n",
       "      <th>9</th>\n",
       "      <td>1.0</td>\n",
       "      <td>dmi_yes</td>\n",
       "    </tr>\n",
       "    <tr>\n",
       "      <th>10</th>\n",
       "      <td>1.1</td>\n",
       "      <td>black_yes</td>\n",
       "    </tr>\n",
       "  </tbody>\n",
       "</table>\n",
       "</div>"
      ],
      "text/plain": [
       "    VIF Factor     features\n",
       "0          5.4        const\n",
       "1          2.9          dir\n",
       "2          2.9          hir\n",
       "3          1.1          lvr\n",
       "4          1.2          ccs\n",
       "5          1.1          mcs\n",
       "6          1.0         uria\n",
       "7          1.1  comdominiom\n",
       "8          1.1     pbcr_yes\n",
       "9          1.0      dmi_yes\n",
       "10         1.1    black_yes"
      ]
     },
     "execution_count": 106,
     "metadata": {},
     "output_type": "execute_result"
    }
   ],
   "source": [
    "from statsmodels.stats import outliers_influence\n",
    "from statsmodels.stats.outliers_influence import variance_inflation_factor\n",
    "\n",
    "# check all 10 features\n",
    "X3 = sm.add_constant(X_train_new)\n",
    "\n",
    "# For each X, calculate VIF and save in dataframe\n",
    "vif02 = pd.DataFrame()\n",
    "vif02[\"VIF Factor\"] = [variance_inflation_factor(X3.values, i) for i in range(X3.shape[1])]\n",
    "vif02[\"features\"] = X3.columns\n",
    "vif02.round(1)"
   ]
  },
  {
   "cell_type": "markdown",
   "metadata": {
    "colab_type": "text",
    "id": "WWAA2TbBqPks"
   },
   "source": [
    "#### Results:\n",
    ">1. All VIF values look good.\n",
    ">2. The dir and hir have the same VIF vaules.\n",
    ">3. Although the hir and dir have good VIF vaules, considering they have higher correlation coefficient(r=0.78) which means they may be very multipcolinearity. we decide to drop one of them. \n",
    ">3. The next step is to drop 'hir' and 'dir' separately and then fit the models using the left 9 features.\n",
    ">4. compare these two performance to decide whether we should drop 'dir' or 'hir' \n",
    "\n"
   ]
  },
  {
   "cell_type": "markdown",
   "metadata": {
    "colab_type": "text",
    "id": "eSXcGqvdqPks"
   },
   "source": [
    "**02. Drop 'hir' and check VIF of the remaining 9 features**"
   ]
  },
  {
   "cell_type": "code",
   "execution_count": 107,
   "metadata": {
    "colab": {},
    "colab_type": "code",
    "id": "O9SjzgSaqPkt",
    "outputId": "c273a5aa-f49c-45b2-f71e-24bac18e9c0b"
   },
   "outputs": [
    {
     "data": {
      "text/html": [
       "<div>\n",
       "<style scoped>\n",
       "    .dataframe tbody tr th:only-of-type {\n",
       "        vertical-align: middle;\n",
       "    }\n",
       "\n",
       "    .dataframe tbody tr th {\n",
       "        vertical-align: top;\n",
       "    }\n",
       "\n",
       "    .dataframe thead th {\n",
       "        text-align: right;\n",
       "    }\n",
       "</style>\n",
       "<table border=\"1\" class=\"dataframe\">\n",
       "  <thead>\n",
       "    <tr style=\"text-align: right;\">\n",
       "      <th></th>\n",
       "      <th>VIF Factor</th>\n",
       "      <th>features</th>\n",
       "    </tr>\n",
       "  </thead>\n",
       "  <tbody>\n",
       "    <tr>\n",
       "      <th>0</th>\n",
       "      <td>5.4</td>\n",
       "      <td>const</td>\n",
       "    </tr>\n",
       "    <tr>\n",
       "      <th>1</th>\n",
       "      <td>1.0</td>\n",
       "      <td>dir</td>\n",
       "    </tr>\n",
       "    <tr>\n",
       "      <th>2</th>\n",
       "      <td>1.1</td>\n",
       "      <td>lvr</td>\n",
       "    </tr>\n",
       "    <tr>\n",
       "      <th>3</th>\n",
       "      <td>1.2</td>\n",
       "      <td>ccs</td>\n",
       "    </tr>\n",
       "    <tr>\n",
       "      <th>4</th>\n",
       "      <td>1.1</td>\n",
       "      <td>mcs</td>\n",
       "    </tr>\n",
       "    <tr>\n",
       "      <th>5</th>\n",
       "      <td>1.0</td>\n",
       "      <td>uria</td>\n",
       "    </tr>\n",
       "    <tr>\n",
       "      <th>6</th>\n",
       "      <td>1.0</td>\n",
       "      <td>comdominiom</td>\n",
       "    </tr>\n",
       "    <tr>\n",
       "      <th>7</th>\n",
       "      <td>1.1</td>\n",
       "      <td>pbcr_yes</td>\n",
       "    </tr>\n",
       "    <tr>\n",
       "      <th>8</th>\n",
       "      <td>1.0</td>\n",
       "      <td>dmi_yes</td>\n",
       "    </tr>\n",
       "    <tr>\n",
       "      <th>9</th>\n",
       "      <td>1.1</td>\n",
       "      <td>black_yes</td>\n",
       "    </tr>\n",
       "  </tbody>\n",
       "</table>\n",
       "</div>"
      ],
      "text/plain": [
       "   VIF Factor     features\n",
       "0         5.4        const\n",
       "1         1.0          dir\n",
       "2         1.1          lvr\n",
       "3         1.2          ccs\n",
       "4         1.1          mcs\n",
       "5         1.0         uria\n",
       "6         1.0  comdominiom\n",
       "7         1.1     pbcr_yes\n",
       "8         1.0      dmi_yes\n",
       "9         1.1    black_yes"
      ]
     },
     "execution_count": 107,
     "metadata": {},
     "output_type": "execute_result"
    }
   ],
   "source": [
    "# this train dataset consists of 17 features after removing 'curb_weight'\n",
    "X_train_new02 = X_train[['dir', 'lvr', 'ccs', 'mcs', 'uria', 'comdominiom', 'pbcr_yes', 'dmi_yes', 'black_yes']]\n",
    "\n",
    "X4 = sm.add_constant(X_train_new02)\n",
    "\n",
    "# For each X, calculate VIF and save in dataframe\n",
    "vif03 = pd.DataFrame()\n",
    "vif03[\"VIF Factor\"] = [variance_inflation_factor(X4.values, i) for i in range(X4.shape[1])]\n",
    "vif03[\"features\"] = X4.columns\n",
    "vif03.round(1)"
   ]
  },
  {
   "cell_type": "markdown",
   "metadata": {
    "colab_type": "text",
    "id": "8PABU2y2qPkv"
   },
   "source": [
    "**03. Drop 'dir' and check VIF of the remaining 9 features**"
   ]
  },
  {
   "cell_type": "code",
   "execution_count": 108,
   "metadata": {
    "colab": {},
    "colab_type": "code",
    "id": "Pp7Lgj69qPkv",
    "outputId": "560c597f-763d-4c69-903f-fec0129efea0"
   },
   "outputs": [
    {
     "data": {
      "text/html": [
       "<div>\n",
       "<style scoped>\n",
       "    .dataframe tbody tr th:only-of-type {\n",
       "        vertical-align: middle;\n",
       "    }\n",
       "\n",
       "    .dataframe tbody tr th {\n",
       "        vertical-align: top;\n",
       "    }\n",
       "\n",
       "    .dataframe thead th {\n",
       "        text-align: right;\n",
       "    }\n",
       "</style>\n",
       "<table border=\"1\" class=\"dataframe\">\n",
       "  <thead>\n",
       "    <tr style=\"text-align: right;\">\n",
       "      <th></th>\n",
       "      <th>VIF Factor</th>\n",
       "      <th>features</th>\n",
       "    </tr>\n",
       "  </thead>\n",
       "  <tbody>\n",
       "    <tr>\n",
       "      <th>0</th>\n",
       "      <td>5.4</td>\n",
       "      <td>const</td>\n",
       "    </tr>\n",
       "    <tr>\n",
       "      <th>1</th>\n",
       "      <td>1.0</td>\n",
       "      <td>hir</td>\n",
       "    </tr>\n",
       "    <tr>\n",
       "      <th>2</th>\n",
       "      <td>1.1</td>\n",
       "      <td>lvr</td>\n",
       "    </tr>\n",
       "    <tr>\n",
       "      <th>3</th>\n",
       "      <td>1.2</td>\n",
       "      <td>ccs</td>\n",
       "    </tr>\n",
       "    <tr>\n",
       "      <th>4</th>\n",
       "      <td>1.1</td>\n",
       "      <td>mcs</td>\n",
       "    </tr>\n",
       "    <tr>\n",
       "      <th>5</th>\n",
       "      <td>1.0</td>\n",
       "      <td>uria</td>\n",
       "    </tr>\n",
       "    <tr>\n",
       "      <th>6</th>\n",
       "      <td>1.1</td>\n",
       "      <td>comdominiom</td>\n",
       "    </tr>\n",
       "    <tr>\n",
       "      <th>7</th>\n",
       "      <td>1.1</td>\n",
       "      <td>pbcr_yes</td>\n",
       "    </tr>\n",
       "    <tr>\n",
       "      <th>8</th>\n",
       "      <td>1.0</td>\n",
       "      <td>dmi_yes</td>\n",
       "    </tr>\n",
       "    <tr>\n",
       "      <th>9</th>\n",
       "      <td>1.1</td>\n",
       "      <td>black_yes</td>\n",
       "    </tr>\n",
       "  </tbody>\n",
       "</table>\n",
       "</div>"
      ],
      "text/plain": [
       "   VIF Factor     features\n",
       "0         5.4        const\n",
       "1         1.0          hir\n",
       "2         1.1          lvr\n",
       "3         1.2          ccs\n",
       "4         1.1          mcs\n",
       "5         1.0         uria\n",
       "6         1.1  comdominiom\n",
       "7         1.1     pbcr_yes\n",
       "8         1.0      dmi_yes\n",
       "9         1.1    black_yes"
      ]
     },
     "execution_count": 108,
     "metadata": {},
     "output_type": "execute_result"
    }
   ],
   "source": [
    "# this train dataset consists of 15 features after removing 'engine_size' and 'length'\n",
    "X_train_new03 = X_train[[ 'hir','lvr', 'ccs', 'mcs', 'uria', 'comdominiom', 'pbcr_yes', 'dmi_yes', 'black_yes']]\n",
    "\n",
    "X5 = sm.add_constant(X_train_new03)\n",
    "\n",
    "# For each X, calculate VIF and save in dataframe\n",
    "vif04 = pd.DataFrame()\n",
    "vif04[\"VIF Factor\"] = [variance_inflation_factor(X5.values, i) for i in range(X5.shape[1])]\n",
    "vif04[\"features\"] = X5.columns\n",
    "vif04.round(1)"
   ]
  },
  {
   "cell_type": "markdown",
   "metadata": {
    "colab_type": "text",
    "id": "3h42nDQDqPkx"
   },
   "source": [
    "#### Results:\n",
    ">1. All VIF values look good.\n",
    ">2. Comparing to these performances, most of the VIF values do not change, only comdominiom has a lower value(1.0) when we drop the 'hir' comparing to 1.1 when we drop 'dir'. So we ddecide to drop 'hir'.\n",
    ">3. The next step is to fit the models using the 9 features and check the performance.\n",
    " "
   ]
  },
  {
   "cell_type": "markdown",
   "metadata": {
    "colab_type": "text",
    "id": "NbzYbatgqPkx"
   },
   "source": [
    "**04. Set up a final train and test datasets with the best features**"
   ]
  },
  {
   "cell_type": "code",
   "execution_count": 109,
   "metadata": {
    "colab": {},
    "colab_type": "code",
    "id": "ewYl92LgqPky"
   },
   "outputs": [],
   "source": [
    "# columns with 9 selected features\n",
    "columns_final = [ 'dir','lvr', 'ccs', 'mcs', 'uria', 'comdominiom', 'pbcr_yes', 'dmi_yes', 'black_yes']"
   ]
  },
  {
   "cell_type": "code",
   "execution_count": 110,
   "metadata": {
    "ExecuteTime": {
     "end_time": "2020-06-14T16:43:57.453324Z",
     "start_time": "2020-06-14T16:43:57.442409Z"
    },
    "colab": {},
    "colab_type": "code",
    "id": "c7s04SAaqPk1"
   },
   "outputs": [],
   "source": [
    "# X_train\n",
    "X_train_final = X_train[columns_final]\n",
    "\n",
    "# X_test\n",
    "X_test_final = X_test[columns_final]\n",
    "\n",
    "# final dataset without splitting\n",
    "df_final = df1[['dir','lvr', 'ccs', 'mcs', 'uria', 'comdominiom', 'pbcr_yes', 'dmi_yes', 'black_yes','deny_yes']]\n",
    "\n"
   ]
  },
  {
   "cell_type": "code",
   "execution_count": 111,
   "metadata": {
    "colab": {},
    "colab_type": "code",
    "id": "w_aGxD-jqPk2",
    "outputId": "cd76a32e-638c-440c-dfb9-37d3c524416f"
   },
   "outputs": [
    {
     "name": "stdout",
     "output_type": "stream",
     "text": [
      "Training dataset shape: (1666, 9) (1666, 1)\n",
      "Testing dataset shape: (714, 9) (714, 1)\n"
     ]
    }
   ],
   "source": [
    "# check the results\n",
    "print('Training dataset shape:', X_train_final.shape, y_train.shape)\n",
    "print('Testing dataset shape:', X_test_final.shape, y_test.shape)"
   ]
  },
  {
   "cell_type": "markdown",
   "metadata": {
    "colab": {},
    "colab_type": "code",
    "id": "ng4QS28HqPk5"
   },
   "source": [
    "### Implementing the model"
   ]
  },
  {
   "cell_type": "markdown",
   "metadata": {},
   "source": [
    "#### Model01 \n",
    "\n",
    "Use the first 10 features which derived from RFECV  to build the model1：'dir', 'hir', 'lvr', 'ccs', 'mcs', 'uria', 'comdominiom', 'pbcr_yes', 'dmi_yes', 'black_yes' "
   ]
  },
  {
   "cell_type": "code",
   "execution_count": 112,
   "metadata": {},
   "outputs": [
    {
     "name": "stderr",
     "output_type": "stream",
     "text": [
      "C:\\Users\\13750\\Anaconda3\\lib\\site-packages\\sklearn\\utils\\validation.py:760: DataConversionWarning: A column-vector y was passed when a 1d array was expected. Please change the shape of y to (n_samples, ), for example using ravel().\n",
      "  y = column_or_1d(y, warn=True)\n",
      "C:\\Users\\13750\\Anaconda3\\lib\\site-packages\\sklearn\\utils\\validation.py:760: DataConversionWarning: A column-vector y was passed when a 1d array was expected. Please change the shape of y to (n_samples, ), for example using ravel().\n",
      "  y = column_or_1d(y, warn=True)\n",
      "C:\\Users\\13750\\Anaconda3\\lib\\site-packages\\sklearn\\utils\\validation.py:760: DataConversionWarning: A column-vector y was passed when a 1d array was expected. Please change the shape of y to (n_samples, ), for example using ravel().\n",
      "  y = column_or_1d(y, warn=True)\n",
      "C:\\Users\\13750\\Anaconda3\\lib\\site-packages\\sklearn\\utils\\validation.py:760: DataConversionWarning: A column-vector y was passed when a 1d array was expected. Please change the shape of y to (n_samples, ), for example using ravel().\n",
      "  y = column_or_1d(y, warn=True)\n",
      "C:\\Users\\13750\\Anaconda3\\lib\\site-packages\\sklearn\\utils\\validation.py:760: DataConversionWarning: A column-vector y was passed when a 1d array was expected. Please change the shape of y to (n_samples, ), for example using ravel().\n",
      "  y = column_or_1d(y, warn=True)\n",
      "C:\\Users\\13750\\Anaconda3\\lib\\site-packages\\sklearn\\utils\\validation.py:760: DataConversionWarning: A column-vector y was passed when a 1d array was expected. Please change the shape of y to (n_samples, ), for example using ravel().\n",
      "  y = column_or_1d(y, warn=True)\n",
      "C:\\Users\\13750\\Anaconda3\\lib\\site-packages\\sklearn\\utils\\validation.py:760: DataConversionWarning: A column-vector y was passed when a 1d array was expected. Please change the shape of y to (n_samples, ), for example using ravel().\n",
      "  y = column_or_1d(y, warn=True)\n",
      "C:\\Users\\13750\\Anaconda3\\lib\\site-packages\\sklearn\\utils\\validation.py:760: DataConversionWarning: A column-vector y was passed when a 1d array was expected. Please change the shape of y to (n_samples, ), for example using ravel().\n",
      "  y = column_or_1d(y, warn=True)\n",
      "C:\\Users\\13750\\Anaconda3\\lib\\site-packages\\sklearn\\utils\\validation.py:760: DataConversionWarning: A column-vector y was passed when a 1d array was expected. Please change the shape of y to (n_samples, ), for example using ravel().\n",
      "  y = column_or_1d(y, warn=True)\n"
     ]
    },
    {
     "name": "stdout",
     "output_type": "stream",
     "text": [
      "[0.89820359 0.90419162 0.89221557 0.89221557 0.89221557 0.90419162\n",
      " 0.89156627 0.90361446 0.92168675 0.92771084]\n",
      "Mean Accuracy: 0.9027811846187145\n"
     ]
    },
    {
     "name": "stderr",
     "output_type": "stream",
     "text": [
      "C:\\Users\\13750\\Anaconda3\\lib\\site-packages\\sklearn\\utils\\validation.py:760: DataConversionWarning: A column-vector y was passed when a 1d array was expected. Please change the shape of y to (n_samples, ), for example using ravel().\n",
      "  y = column_or_1d(y, warn=True)\n",
      "C:\\Users\\13750\\Anaconda3\\lib\\site-packages\\sklearn\\utils\\validation.py:760: DataConversionWarning: A column-vector y was passed when a 1d array was expected. Please change the shape of y to (n_samples, ), for example using ravel().\n",
      "  y = column_or_1d(y, warn=True)\n"
     ]
    }
   ],
   "source": [
    "# Build a model on ALL 15 features.\n",
    "# Instantiate model\n",
    "model01 = LogisticRegression()\n",
    "\n",
    "X_train01 = X_train_new\n",
    "model01.fit(X_train01, y_train)\n",
    "\n",
    "# fit the model using 10-fold cross validation\n",
    "scores01 = cross_val_score(model01, X_train01, y_train, cv=10)\n",
    "\n",
    "# print out the accuracy metrics derived from the K-fold cross validation process\n",
    "print (scores01)\n",
    "\n",
    "# calculate the average accuracy across all 10 folds\n",
    "print('Mean Accuracy:', np.mean(scores01))"
   ]
  },
  {
   "cell_type": "markdown",
   "metadata": {},
   "source": [
    "#### Model02\n",
    "\n",
    "Use the 9 attributes after the feature selection that we drop the hir feature to build the model02：'dir','lvr', 'ccs', 'mcs', 'uria', 'comdominiom', 'pbcr_yes', 'dmi_yes', 'black_yes','deny_yes'"
   ]
  },
  {
   "cell_type": "code",
   "execution_count": 113,
   "metadata": {},
   "outputs": [
    {
     "name": "stderr",
     "output_type": "stream",
     "text": [
      "C:\\Users\\13750\\Anaconda3\\lib\\site-packages\\sklearn\\utils\\validation.py:760: DataConversionWarning: A column-vector y was passed when a 1d array was expected. Please change the shape of y to (n_samples, ), for example using ravel().\n",
      "  y = column_or_1d(y, warn=True)\n",
      "C:\\Users\\13750\\Anaconda3\\lib\\site-packages\\sklearn\\utils\\validation.py:760: DataConversionWarning: A column-vector y was passed when a 1d array was expected. Please change the shape of y to (n_samples, ), for example using ravel().\n",
      "  y = column_or_1d(y, warn=True)\n",
      "C:\\Users\\13750\\Anaconda3\\lib\\site-packages\\sklearn\\utils\\validation.py:760: DataConversionWarning: A column-vector y was passed when a 1d array was expected. Please change the shape of y to (n_samples, ), for example using ravel().\n",
      "  y = column_or_1d(y, warn=True)\n",
      "C:\\Users\\13750\\Anaconda3\\lib\\site-packages\\sklearn\\utils\\validation.py:760: DataConversionWarning: A column-vector y was passed when a 1d array was expected. Please change the shape of y to (n_samples, ), for example using ravel().\n",
      "  y = column_or_1d(y, warn=True)\n",
      "C:\\Users\\13750\\Anaconda3\\lib\\site-packages\\sklearn\\utils\\validation.py:760: DataConversionWarning: A column-vector y was passed when a 1d array was expected. Please change the shape of y to (n_samples, ), for example using ravel().\n",
      "  y = column_or_1d(y, warn=True)\n",
      "C:\\Users\\13750\\Anaconda3\\lib\\site-packages\\sklearn\\utils\\validation.py:760: DataConversionWarning: A column-vector y was passed when a 1d array was expected. Please change the shape of y to (n_samples, ), for example using ravel().\n",
      "  y = column_or_1d(y, warn=True)\n",
      "C:\\Users\\13750\\Anaconda3\\lib\\site-packages\\sklearn\\utils\\validation.py:760: DataConversionWarning: A column-vector y was passed when a 1d array was expected. Please change the shape of y to (n_samples, ), for example using ravel().\n",
      "  y = column_or_1d(y, warn=True)\n",
      "C:\\Users\\13750\\Anaconda3\\lib\\site-packages\\sklearn\\utils\\validation.py:760: DataConversionWarning: A column-vector y was passed when a 1d array was expected. Please change the shape of y to (n_samples, ), for example using ravel().\n",
      "  y = column_or_1d(y, warn=True)\n",
      "C:\\Users\\13750\\Anaconda3\\lib\\site-packages\\sklearn\\utils\\validation.py:760: DataConversionWarning: A column-vector y was passed when a 1d array was expected. Please change the shape of y to (n_samples, ), for example using ravel().\n",
      "  y = column_or_1d(y, warn=True)\n",
      "C:\\Users\\13750\\Anaconda3\\lib\\site-packages\\sklearn\\utils\\validation.py:760: DataConversionWarning: A column-vector y was passed when a 1d array was expected. Please change the shape of y to (n_samples, ), for example using ravel().\n",
      "  y = column_or_1d(y, warn=True)\n"
     ]
    },
    {
     "name": "stdout",
     "output_type": "stream",
     "text": [
      "[0.91017964 0.90419162 0.89221557 0.89221557 0.89221557 0.90419162\n",
      " 0.89156627 0.90361446 0.92168675 0.92771084]\n",
      "Mean Accuracy: 0.9039787894091337\n"
     ]
    },
    {
     "name": "stderr",
     "output_type": "stream",
     "text": [
      "C:\\Users\\13750\\Anaconda3\\lib\\site-packages\\sklearn\\utils\\validation.py:760: DataConversionWarning: A column-vector y was passed when a 1d array was expected. Please change the shape of y to (n_samples, ), for example using ravel().\n",
      "  y = column_or_1d(y, warn=True)\n"
     ]
    }
   ],
   "source": [
    "# Build a model on ALL 15 features.\n",
    "# Instantiate model\n",
    "model02 = LogisticRegression()\n",
    "\n",
    "X_train02 = X_train_final\n",
    "model02.fit(X_train02, y_train)\n",
    "\n",
    "# fit the model using 10-fold cross validation\n",
    "scores02 = cross_val_score(model02, X_train02, y_train, cv=10)\n",
    "\n",
    "# print out the accuracy metrics derived from the K-fold cross validation process\n",
    "print (scores02)\n",
    "\n",
    "# calculate the average accuracy across all 10 folds\n",
    "print('Mean Accuracy:', np.mean(scores02))"
   ]
  },
  {
   "cell_type": "code",
   "execution_count": 114,
   "metadata": {},
   "outputs": [
    {
     "name": "stdout",
     "output_type": "stream",
     "text": [
      "                            OLS Regression Results                            \n",
      "==============================================================================\n",
      "Dep. Variable:               deny_yes   R-squared:                       0.273\n",
      "Model:                            OLS   Adj. R-squared:                  0.269\n",
      "Method:                 Least Squares   F-statistic:                     69.04\n",
      "Date:                Sun, 05 Jul 2020   Prob (F-statistic):          4.04e-108\n",
      "Time:                        23:19:34   Log-Likelihood:                -233.31\n",
      "No. Observations:                1666   AIC:                             486.6\n",
      "Df Residuals:                    1656   BIC:                             540.8\n",
      "Df Model:                           9                                         \n",
      "Covariance Type:            nonrobust                                         \n",
      "===============================================================================\n",
      "                  coef    std err          t      P>|t|      [0.025      0.975]\n",
      "-------------------------------------------------------------------------------\n",
      "const           0.0603      0.016      3.787      0.000       0.029       0.092\n",
      "dir             0.0531      0.007      7.626      0.000       0.039       0.067\n",
      "lvr             0.0164      0.007      2.287      0.022       0.002       0.030\n",
      "ccs             0.0532      0.007      7.248      0.000       0.039       0.068\n",
      "mcs             0.0002      0.007      0.027      0.979      -0.014       0.014\n",
      "uria            0.0037      0.003      1.110      0.267      -0.003       0.010\n",
      "comdominiom     0.0199      0.015      1.292      0.196      -0.010       0.050\n",
      "pbcr_yes        0.1968      0.028      7.052      0.000       0.142       0.252\n",
      "dmi_yes         0.7431      0.047     15.727      0.000       0.650       0.836\n",
      "black_yes       0.0694      0.021      3.349      0.001       0.029       0.110\n",
      "==============================================================================\n",
      "Omnibus:                      723.774   Durbin-Watson:                   1.994\n",
      "Prob(Omnibus):                  0.000   Jarque-Bera (JB):             2782.039\n",
      "Skew:                           2.168   Prob(JB):                         0.00\n",
      "Kurtosis:                       7.613   Cond. No.                         30.5\n",
      "==============================================================================\n",
      "\n",
      "Warnings:\n",
      "[1] Standard Errors assume that the covariance matrix of the errors is correctly specified.\n"
     ]
    },
    {
     "name": "stderr",
     "output_type": "stream",
     "text": [
      "C:\\Users\\13750\\Anaconda3\\lib\\site-packages\\numpy\\core\\fromnumeric.py:2495: FutureWarning: Method .ptp is deprecated and will be removed in a future version. Use numpy.ptp instead.\n",
      "  return ptp(axis=axis, out=out, **kwargs)\n"
     ]
    }
   ],
   "source": [
    "# compute with statsmodels, by adding intercept manually\n",
    "X02 = sm.add_constant(X_train02)\n",
    "result02 = sm.OLS(y_train, X02).fit()\n",
    "print(result02.summary())"
   ]
  },
  {
   "cell_type": "markdown",
   "metadata": {},
   "source": [
    "The p-values for most of the variables are smaller than 0.05, except mcs(0.97), uria(0.26) and comdominiom(0.19) variables, therefore, we will remove them."
   ]
  },
  {
   "cell_type": "markdown",
   "metadata": {},
   "source": [
    "#### Model03\n",
    "\n",
    "Use the 6 attributes after dropping the P-value >.05 to build the model03：'dir','lvr', 'ccs', 'pbcr_yes', 'dmi_yes', 'black_yes'"
   ]
  },
  {
   "cell_type": "code",
   "execution_count": 115,
   "metadata": {},
   "outputs": [
    {
     "name": "stderr",
     "output_type": "stream",
     "text": [
      "C:\\Users\\13750\\Anaconda3\\lib\\site-packages\\sklearn\\utils\\validation.py:760: DataConversionWarning: A column-vector y was passed when a 1d array was expected. Please change the shape of y to (n_samples, ), for example using ravel().\n",
      "  y = column_or_1d(y, warn=True)\n",
      "C:\\Users\\13750\\Anaconda3\\lib\\site-packages\\sklearn\\utils\\validation.py:760: DataConversionWarning: A column-vector y was passed when a 1d array was expected. Please change the shape of y to (n_samples, ), for example using ravel().\n",
      "  y = column_or_1d(y, warn=True)\n",
      "C:\\Users\\13750\\Anaconda3\\lib\\site-packages\\sklearn\\utils\\validation.py:760: DataConversionWarning: A column-vector y was passed when a 1d array was expected. Please change the shape of y to (n_samples, ), for example using ravel().\n",
      "  y = column_or_1d(y, warn=True)\n",
      "C:\\Users\\13750\\Anaconda3\\lib\\site-packages\\sklearn\\utils\\validation.py:760: DataConversionWarning: A column-vector y was passed when a 1d array was expected. Please change the shape of y to (n_samples, ), for example using ravel().\n",
      "  y = column_or_1d(y, warn=True)\n",
      "C:\\Users\\13750\\Anaconda3\\lib\\site-packages\\sklearn\\utils\\validation.py:760: DataConversionWarning: A column-vector y was passed when a 1d array was expected. Please change the shape of y to (n_samples, ), for example using ravel().\n",
      "  y = column_or_1d(y, warn=True)\n",
      "C:\\Users\\13750\\Anaconda3\\lib\\site-packages\\sklearn\\utils\\validation.py:760: DataConversionWarning: A column-vector y was passed when a 1d array was expected. Please change the shape of y to (n_samples, ), for example using ravel().\n",
      "  y = column_or_1d(y, warn=True)\n",
      "C:\\Users\\13750\\Anaconda3\\lib\\site-packages\\sklearn\\utils\\validation.py:760: DataConversionWarning: A column-vector y was passed when a 1d array was expected. Please change the shape of y to (n_samples, ), for example using ravel().\n",
      "  y = column_or_1d(y, warn=True)\n",
      "C:\\Users\\13750\\Anaconda3\\lib\\site-packages\\sklearn\\utils\\validation.py:760: DataConversionWarning: A column-vector y was passed when a 1d array was expected. Please change the shape of y to (n_samples, ), for example using ravel().\n",
      "  y = column_or_1d(y, warn=True)\n",
      "C:\\Users\\13750\\Anaconda3\\lib\\site-packages\\sklearn\\utils\\validation.py:760: DataConversionWarning: A column-vector y was passed when a 1d array was expected. Please change the shape of y to (n_samples, ), for example using ravel().\n",
      "  y = column_or_1d(y, warn=True)\n",
      "C:\\Users\\13750\\Anaconda3\\lib\\site-packages\\sklearn\\utils\\validation.py:760: DataConversionWarning: A column-vector y was passed when a 1d array was expected. Please change the shape of y to (n_samples, ), for example using ravel().\n",
      "  y = column_or_1d(y, warn=True)\n"
     ]
    },
    {
     "name": "stdout",
     "output_type": "stream",
     "text": [
      "[0.91616766 0.89221557 0.89820359 0.89221557 0.89221557 0.90419162\n",
      " 0.89759036 0.90361446 0.92168675 0.92771084]\n",
      "Mean Accuracy: 0.9045811990476877\n"
     ]
    },
    {
     "name": "stderr",
     "output_type": "stream",
     "text": [
      "C:\\Users\\13750\\Anaconda3\\lib\\site-packages\\sklearn\\utils\\validation.py:760: DataConversionWarning: A column-vector y was passed when a 1d array was expected. Please change the shape of y to (n_samples, ), for example using ravel().\n",
      "  y = column_or_1d(y, warn=True)\n"
     ]
    }
   ],
   "source": [
    "columns=['dir','lvr', 'ccs' , 'pbcr_yes', 'dmi_yes','black_yes']\n",
    "\n",
    "# Build a model on ALL 15 features.\n",
    "# Instantiate model\n",
    "model03 = LogisticRegression()\n",
    "\n",
    "X_train03 = X_train[columns]\n",
    "X_test03 = X_test[columns]\n",
    "model03.fit(X_train03, y_train)\n",
    "# fit the model using 10-fold cross validation\n",
    "scores03 = cross_val_score(model03, X_train03, y_train, cv=10)\n",
    "\n",
    "# print out the accuracy metrics derived from the K-fold cross validation process\n",
    "print (scores03)\n",
    "\n",
    "# calculate the average accuracy across all 10 folds\n",
    "print('Mean Accuracy:', np.mean(scores03))"
   ]
  },
  {
   "cell_type": "code",
   "execution_count": 116,
   "metadata": {},
   "outputs": [
    {
     "name": "stdout",
     "output_type": "stream",
     "text": [
      "                            OLS Regression Results                            \n",
      "==============================================================================\n",
      "Dep. Variable:               deny_yes   R-squared:                       0.272\n",
      "Model:                            OLS   Adj. R-squared:                  0.269\n",
      "Method:                 Least Squares   F-statistic:                     103.1\n",
      "Date:                Sun, 05 Jul 2020   Prob (F-statistic):          1.63e-110\n",
      "Time:                        23:19:34   Log-Likelihood:                -234.67\n",
      "No. Observations:                1666   AIC:                             483.3\n",
      "Df Residuals:                    1659   BIC:                             521.3\n",
      "Df Model:                           6                                         \n",
      "Covariance Type:            nonrobust                                         \n",
      "==============================================================================\n",
      "                 coef    std err          t      P>|t|      [0.025      0.975]\n",
      "------------------------------------------------------------------------------\n",
      "const          0.0799      0.008     10.423      0.000       0.065       0.095\n",
      "dir            0.0535      0.007      7.700      0.000       0.040       0.067\n",
      "lvr            0.0166      0.007      2.347      0.019       0.003       0.030\n",
      "ccs            0.0533      0.007      7.304      0.000       0.039       0.068\n",
      "pbcr_yes       0.1966      0.028      7.049      0.000       0.142       0.251\n",
      "dmi_yes        0.7432      0.047     15.760      0.000       0.651       0.836\n",
      "black_yes      0.0723      0.020      3.551      0.000       0.032       0.112\n",
      "==============================================================================\n",
      "Omnibus:                      726.119   Durbin-Watson:                   1.993\n",
      "Prob(Omnibus):                  0.000   Jarque-Bera (JB):             2801.361\n",
      "Skew:                           2.174   Prob(JB):                         0.00\n",
      "Kurtosis:                       7.631   Cond. No.                         7.60\n",
      "==============================================================================\n",
      "\n",
      "Warnings:\n",
      "[1] Standard Errors assume that the covariance matrix of the errors is correctly specified.\n"
     ]
    },
    {
     "name": "stderr",
     "output_type": "stream",
     "text": [
      "C:\\Users\\13750\\Anaconda3\\lib\\site-packages\\numpy\\core\\fromnumeric.py:2495: FutureWarning: Method .ptp is deprecated and will be removed in a future version. Use numpy.ptp instead.\n",
      "  return ptp(axis=axis, out=out, **kwargs)\n"
     ]
    }
   ],
   "source": [
    "# compute with statsmodels, by adding intercept manually\n",
    "X03 = sm.add_constant(X_train03)\n",
    "result03 = sm.OLS(y_train, X03).fit()\n",
    "print(result03.summary())"
   ]
  },
  {
   "cell_type": "markdown",
   "metadata": {},
   "source": [
    "#### Results:\n",
    ">1. All p values in this model are less than 0.05, which means they can significantly predict the dependent variable.\n",
    ">2. The multicollinearity warning disappeared."
   ]
  },
  {
   "cell_type": "markdown",
   "metadata": {
    "colab_type": "text",
    "id": "ncgnPc6vqPlC"
   },
   "source": [
    "## Model Evaluation \n",
    "we would use Accuracy and Confusion Matrix to evaluate the model"
   ]
  },
  {
   "cell_type": "markdown",
   "metadata": {},
   "source": [
    "##### 1. Average cross validated accurac score"
   ]
  },
  {
   "cell_type": "code",
   "execution_count": 117,
   "metadata": {},
   "outputs": [
    {
     "name": "stdout",
     "output_type": "stream",
     "text": [
      "model01-cross validated accuracy: 90.27811846187144 %\n",
      "model02-cross validated accuracy: 90.39787894091337 %\n",
      "model03-cross validated accuracy: 90.45811990476878 %\n"
     ]
    }
   ],
   "source": [
    "print('model01-cross validated accuracy:',np.mean(scores01)*100, '%')\n",
    "print('model02-cross validated accuracy:',np.mean(scores02)*100, '%')\n",
    "print('model03-cross validated accuracy:',np.mean(scores03)*100, '%')"
   ]
  },
  {
   "cell_type": "markdown",
   "metadata": {},
   "source": [
    "#### 2.Confusion Matrix\n",
    "\n",
    "Compute precision, recall, F-measure and support\n",
    "\n",
    "To quote from Scikit Learn:https://medium.com/@MohammedS/performance-metrics-for-classification-problems-in-machine-learning-part-i-b085d432082b\n",
    "\n",
    "The precision is the ratio tp / (tp + fp) where tp is the number of true positives and fp the number of false positives. The precision is intuitively the ability of the classifier to not label a sample as positive if it is negative.\n",
    "\n",
    "The recall is the ratio tp / (tp + fn) where tp is the number of true positives and fn the number of false negatives. The recall is intuitively the ability of the classifier to find all the positive samples.\n",
    "\n",
    "The F-beta score can be interpreted as a weighted harmonic mean of the precision and recall, where an F-beta score reaches its best value at 1 and worst score at 0.\n",
    "\n",
    "The F-beta score weights the recall more than the precision by a factor of beta. beta = 1.0 means recall and precision are equally important.\n",
    "\n",
    "The support is the number of occurrences of each class in y_test."
   ]
  },
  {
   "cell_type": "markdown",
   "metadata": {},
   "source": [
    "##### 1. classification_report of model1"
   ]
  },
  {
   "cell_type": "code",
   "execution_count": 119,
   "metadata": {},
   "outputs": [
    {
     "name": "stdout",
     "output_type": "stream",
     "text": [
      "Accuracy of logistic regression classifier on test set: 0.90\n",
      "[[619  12]\n",
      " [ 62  21]]\n"
     ]
    }
   ],
   "source": [
    "# compute the confusion_matrix01 for model01 \n",
    "from sklearn.metrics import confusion_matrix\n",
    "\n",
    "\n",
    "y_pred01 = model01.predict(X_test_new)\n",
    "print('Accuracy of logistic regression classifier on test set: {:.2f}'.format(model01.score(X_test_new, y_test)))\n",
    "\n",
    "confusion_matrix01 = confusion_matrix(y_test, y_pred01)\n",
    "print(confusion_matrix01)"
   ]
  },
  {
   "cell_type": "code",
   "execution_count": 122,
   "metadata": {},
   "outputs": [
    {
     "name": "stdout",
     "output_type": "stream",
     "text": [
      "              precision    recall  f1-score   support\n",
      "\n",
      "           0       0.91      0.98      0.94       631\n",
      "           1       0.64      0.25      0.36        83\n",
      "\n",
      "    accuracy                           0.90       714\n",
      "   macro avg       0.77      0.62      0.65       714\n",
      "weighted avg       0.88      0.90      0.88       714\n",
      "\n"
     ]
    }
   ],
   "source": [
    "# get the classification_report of model1\n",
    "\n",
    "from sklearn.metrics import classification_report\n",
    "print(classification_report(y_test, y_pred01))"
   ]
  },
  {
   "cell_type": "markdown",
   "metadata": {},
   "source": [
    "##### 2. classification_report of model2"
   ]
  },
  {
   "cell_type": "code",
   "execution_count": 123,
   "metadata": {},
   "outputs": [
    {
     "name": "stdout",
     "output_type": "stream",
     "text": [
      "Accuracy of logistic regression classifier on test set: 0.89\n",
      "[[619  12]\n",
      " [ 62  21]]\n"
     ]
    }
   ],
   "source": [
    "# compute the confusion_matrix01 for model01 \n",
    "from sklearn.metrics import confusion_matrix\n",
    "\n",
    "\n",
    "y_pred02 = model02.predict(X_test_final)\n",
    "print('Accuracy of logistic regression classifier on test set: {:.2f}'.format(model02.score(X_test_final, y_test)))\n",
    "\n",
    "confusion_matrix02 = confusion_matrix(y_test, y_pred02)\n",
    "print(confusion_matrix01)"
   ]
  },
  {
   "cell_type": "code",
   "execution_count": 124,
   "metadata": {},
   "outputs": [
    {
     "name": "stdout",
     "output_type": "stream",
     "text": [
      "              precision    recall  f1-score   support\n",
      "\n",
      "           0       0.91      0.98      0.94       631\n",
      "           1       0.62      0.25      0.36        83\n",
      "\n",
      "    accuracy                           0.89       714\n",
      "   macro avg       0.76      0.62      0.65       714\n",
      "weighted avg       0.87      0.89      0.87       714\n",
      "\n"
     ]
    }
   ],
   "source": [
    "# get the classification_report\n",
    "\n",
    "from sklearn.metrics import classification_report\n",
    "print(classification_report(y_test, y_pred02))"
   ]
  },
  {
   "cell_type": "markdown",
   "metadata": {},
   "source": [
    "##### 3. classification_report of model 3"
   ]
  },
  {
   "cell_type": "code",
   "execution_count": 128,
   "metadata": {},
   "outputs": [
    {
     "name": "stdout",
     "output_type": "stream",
     "text": [
      "Accuracy of logistic regression classifier on test set: 0.90\n",
      "[[622   9]\n",
      " [ 63  20]]\n"
     ]
    }
   ],
   "source": [
    "# compute the confusion_matrix01 for model01 \n",
    "from sklearn.metrics import confusion_matrix\n",
    "\n",
    "\n",
    "y_pred03 = model03.predict(X_test03)\n",
    "print('Accuracy of logistic regression classifier on test set: {:.2f}'.format(model03.score(X_test03, y_test)))\n",
    "\n",
    "confusion_matrix03 = confusion_matrix(y_test, y_pred03)\n",
    "print(confusion_matrix03)"
   ]
  },
  {
   "cell_type": "code",
   "execution_count": 129,
   "metadata": {},
   "outputs": [
    {
     "name": "stdout",
     "output_type": "stream",
     "text": [
      "              precision    recall  f1-score   support\n",
      "\n",
      "           0       0.91      0.99      0.95       631\n",
      "           1       0.69      0.24      0.36        83\n",
      "\n",
      "    accuracy                           0.90       714\n",
      "   macro avg       0.80      0.61      0.65       714\n",
      "weighted avg       0.88      0.90      0.88       714\n",
      "\n"
     ]
    }
   ],
   "source": [
    "# get the classification_report\n",
    "\n",
    "from sklearn.metrics import classification_report\n",
    "print(classification_report(y_test, y_pred03))"
   ]
  },
  {
   "cell_type": "markdown",
   "metadata": {},
   "source": [
    "Our main purpose is predicting whether or not a given mortgage loan application is likely to be approved or denied. In this case, we check the how many people get mortage loan, so we focuse on  measures the proportion of actual positive that are correctly identified. Therefore, the recall is our main matrics. \n",
    "For cross validated accuracy, the model03 has the highest value 90.45811990476878 % which means it's the best model\n",
    "For confusion_matrix, Model01 and model03 have the 90% accuracy, which iss better than model02. However, model03 has less features comparing to model01, so model03 is also our best choice. \n",
    "\n",
    "We would choose model03 as our best model."
   ]
  },
  {
   "cell_type": "code",
   "execution_count": 130,
   "metadata": {},
   "outputs": [
    {
     "data": {
      "text/plain": [
       "array([[0.9492254 , 0.0507746 ],\n",
       "       [0.64968633, 0.35031367],\n",
       "       [0.93992734, 0.06007266],\n",
       "       ...,\n",
       "       [0.84224775, 0.15775225],\n",
       "       [0.98302082, 0.01697918],\n",
       "       [0.94177951, 0.05822049]])"
      ]
     },
     "execution_count": 130,
     "metadata": {},
     "output_type": "execute_result"
    }
   ],
   "source": [
    "# generate class probabilities\n",
    "probs = model03.predict_proba(X_test03)\n",
    "probs"
   ]
  },
  {
   "cell_type": "code",
   "execution_count": 131,
   "metadata": {},
   "outputs": [
    {
     "name": "stdout",
     "output_type": "stream",
     "text": [
      "[0 0 0 0 0 0 0 0 0 0 0 0 0 0 0 0 0 0 0 0 1 0 0 0 0 0 0 0 0 0 0 0 0 0 0 0 0\n",
      " 0 0 1 0 0 0 0 0 0 0 0 0 0 0 0 0 0 0 0 0 0 0 0 0 0 0 0 0 0 0 0 0 0 0 0 0 0\n",
      " 0 0 0 0 0 1 0 0 0 0 0 0 0 0 0 0 0 0 0 0 0 0 0 0 1 0 0 0 0 0 0 0 0 0 0 0 0\n",
      " 0 0 0 0 1 0 0 0 0 0 0 0 0 0 0 0 0 0 0 0 0 0 0 0 0 0 0 0 0 0 0 0 0 0 0 0 0\n",
      " 0 0 0 0 0 0 0 0 0 0 0 0 0 0 0 0 1 0 0 0 0 0 0 0 0 0 0 0 0 0 0 0 0 0 0 0 0\n",
      " 0 0 0 0 0 0 0 0 0 0 0 0 0 0 0 0 0 0 0 0 0 0 0 0 0 0 0 0 0 0 0 0 0 0 0 0 0\n",
      " 0 0 0 0 0 0 0 0 0 0 0 0 0 0 0 0 0 0 0 0 0 0 0 0 0 0 0 0 0 0 0 0 0 0 0 1 0\n",
      " 0 0 0 0 0 0 0 0 0 0 0 0 0 0 0 0 0 0 1 0 0 0 0 0 0 0 0 0 0 0 0 0 0 0 0 0 0\n",
      " 0 0 0 0 1 0 0 1 0 1 1 0 0 0 0 0 0 0 0 0 0 0 0 0 0 0 0 0 0 0 0 0 0 0 0 0 0\n",
      " 0 0 0 0 0 0 0 0 0 0 0 0 0 0 0 0 0 0 0 0 0 0 0 0 0 0 0 0 0 0 0 0 1 0 0 0 0\n",
      " 0 0 0 0 1 0 0 0 0 1 0 0 0 0 0 0 0 0 0 0 0 0 0 0 0 0 0 0 0 0 0 0 0 0 0 0 0\n",
      " 0 0 0 0 0 0 0 0 0 0 0 0 0 0 0 0 0 0 0 0 0 0 0 0 0 0 0 0 0 0 0 0 0 0 0 0 0\n",
      " 0 0 0 0 0 0 0 0 0 0 0 0 0 0 0 0 0 0 0 0 0 0 0 0 0 0 0 1 0 0 0 0 0 1 0 0 0\n",
      " 0 0 0 0 0 0 0 0 0 0 1 0 1 0 0 0 0 0 1 0 1 0 0 0 0 0 0 0 0 1 0 0 0 0 0 0 0\n",
      " 0 0 0 0 0 0 0 0 0 0 0 0 0 0 0 0 0 0 0 0 1 0 0 0 0 0 0 0 0 0 0 0 0 0 0 0 0\n",
      " 0 0 0 0 0 0 0 0 0 0 0 0 0 0 0 0 0 0 0 0 0 0 0 0 0 0 0 0 0 0 0 0 0 0 0 0 0\n",
      " 0 0 0 1 1 0 0 0 0 0 0 0 0 0 0 0 0 1 0 0 0 0 0 0 0 0 1 0 0 0 0 0 0 0 0 0 0\n",
      " 0 0 0 0 0 0 0 0 0 0 0 0 0 0 0 0 0 0 0 0 0 0 0 0 0 1 0 0 0 0 0 0 0 0 0 0 0\n",
      " 0 0 0 0 0 0 0 0 0 0 0 0 0 0 0 0 0 0 0 0 0 0 0 0 0 0 0 0 0 0 0 0 0 1 0 0 0\n",
      " 0 0 0 0 0 0 0 0 0 0 0]\n"
     ]
    }
   ],
   "source": [
    "# predict class labels for the test set\n",
    "predicted = model03.predict(X_test03)\n",
    "print (predicted)"
   ]
  },
  {
   "cell_type": "code",
   "execution_count": 132,
   "metadata": {},
   "outputs": [
    {
     "name": "stdout",
     "output_type": "stream",
     "text": [
      "0.8991596638655462\n"
     ]
    }
   ],
   "source": [
    "# generate evaluation metrics\n",
    "print (metrics.accuracy_score(y_test, predicted))"
   ]
  },
  {
   "cell_type": "code",
   "execution_count": 135,
   "metadata": {},
   "outputs": [
    {
     "data": {
      "text/html": [
       "<div>\n",
       "<style scoped>\n",
       "    .dataframe tbody tr th:only-of-type {\n",
       "        vertical-align: middle;\n",
       "    }\n",
       "\n",
       "    .dataframe tbody tr th {\n",
       "        vertical-align: top;\n",
       "    }\n",
       "\n",
       "    .dataframe thead th {\n",
       "        text-align: right;\n",
       "    }\n",
       "</style>\n",
       "<table border=\"1\" class=\"dataframe\">\n",
       "  <thead>\n",
       "    <tr style=\"text-align: right;\">\n",
       "      <th></th>\n",
       "      <th>0</th>\n",
       "      <th>1</th>\n",
       "    </tr>\n",
       "  </thead>\n",
       "  <tbody>\n",
       "    <tr>\n",
       "      <th>0</th>\n",
       "      <td>dir</td>\n",
       "      <td>[0.5971410685222921]</td>\n",
       "    </tr>\n",
       "    <tr>\n",
       "      <th>1</th>\n",
       "      <td>lvr</td>\n",
       "      <td>[0.3458905457031332]</td>\n",
       "    </tr>\n",
       "    <tr>\n",
       "      <th>2</th>\n",
       "      <td>ccs</td>\n",
       "      <td>[0.5015722646328822]</td>\n",
       "    </tr>\n",
       "    <tr>\n",
       "      <th>3</th>\n",
       "      <td>pbcr_yes</td>\n",
       "      <td>[1.1272365663326933]</td>\n",
       "    </tr>\n",
       "    <tr>\n",
       "      <th>4</th>\n",
       "      <td>dmi_yes</td>\n",
       "      <td>[3.6801496880004136]</td>\n",
       "    </tr>\n",
       "    <tr>\n",
       "      <th>5</th>\n",
       "      <td>black_yes</td>\n",
       "      <td>[0.5786657066121361]</td>\n",
       "    </tr>\n",
       "  </tbody>\n",
       "</table>\n",
       "</div>"
      ],
      "text/plain": [
       "           0                     1\n",
       "0        dir  [0.5971410685222921]\n",
       "1        lvr  [0.3458905457031332]\n",
       "2        ccs  [0.5015722646328822]\n",
       "3   pbcr_yes  [1.1272365663326933]\n",
       "4    dmi_yes  [3.6801496880004136]\n",
       "5  black_yes  [0.5786657066121361]"
      ]
     },
     "execution_count": 135,
     "metadata": {},
     "output_type": "execute_result"
    }
   ],
   "source": [
    "# examine the coefficients\n",
    "pd.DataFrame(zip(X_train03.columns, np.transpose(model03.coef_)))"
   ]
  },
  {
   "cell_type": "markdown",
   "metadata": {
    "colab_type": "text",
    "id": "c6mrKXqzqPli"
   },
   "source": [
    "#### 4. Use the final Model for Prediction\n",
    "\n",
    "\n",
    "$y = \\beta_0 + \\beta_1x_1 + ... + \\beta_nx_n$\n",
    "\n",
    "In this case:\n",
    "\n",
    "$y = \\beta_0 + \\beta_1 \\times wheel base + \\beta_2 \\times horsepower + \\beta_3 \\times highway mpg + \\beta_4 \\times engine type ohc + \\beta_5 \\times fuel system mpfi $\n",
    "\n",
    "> ## **Final Model:**\n",
    "\n",
    ">$ predicted(deny) = 0.0799 + 0.5971410685222921 \\times dir + 0.3458905457031332 \\times lvr + 0.5015722646328822 \\times ccs + 1.1272365663326933 \\times pbcr_yes + 3.6801496880004136 \\times dmi_yes + 0.5786657066121361 \\times black_yes$\n"
   ]
  },
  {
   "cell_type": "markdown",
   "metadata": {
    "colab": {},
    "colab_type": "code",
    "id": "0vq_D2huqPli"
   },
   "source": [
    "# Conclusion"
   ]
  },
  {
   "cell_type": "markdown",
   "metadata": {},
   "source": [
    "\n",
    "    \n",
    "1. Finally, we choose 6 features to fit our best model.\n",
    "2. all the coefficients of the attributes are positive which means when we have higher value of dir(debt payments to total income),  lvr (ratio of size of loan to assessed value of property), ccs(consumer credit score), pbcr_yes(public bad credit record ), dmi(denied mortgage insurance) and customers are black, their loan are more likely to be denied. "
   ]
  },
  {
   "cell_type": "code",
   "execution_count": null,
   "metadata": {},
   "outputs": [],
   "source": []
  }
 ],
 "metadata": {
  "colab": {
   "name": "draft.Copy1.ipynb",
   "provenance": []
  },
  "kernelspec": {
   "display_name": "Python 3",
   "language": "python",
   "name": "python3"
  },
  "language_info": {
   "codemirror_mode": {
    "name": "ipython",
    "version": 3
   },
   "file_extension": ".py",
   "mimetype": "text/x-python",
   "name": "python",
   "nbconvert_exporter": "python",
   "pygments_lexer": "ipython3",
   "version": "3.7.3"
  },
  "varInspector": {
   "cols": {
    "lenName": 16,
    "lenType": 16,
    "lenVar": 40
   },
   "kernels_config": {
    "python": {
     "delete_cmd_postfix": "",
     "delete_cmd_prefix": "del ",
     "library": "var_list.py",
     "varRefreshCmd": "print(var_dic_list())"
    },
    "r": {
     "delete_cmd_postfix": ") ",
     "delete_cmd_prefix": "rm(",
     "library": "var_list.r",
     "varRefreshCmd": "cat(var_dic_list()) "
    }
   },
   "types_to_exclude": [
    "module",
    "function",
    "builtin_function_or_method",
    "instance",
    "_Feature"
   ],
   "window_display": false
  }
 },
 "nbformat": 4,
 "nbformat_minor": 1
}
