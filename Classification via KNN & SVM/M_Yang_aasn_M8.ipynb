{
 "cells": [
  {
   "cell_type": "markdown",
   "metadata": {
    "colab_type": "text",
    "id": "2776q3ilDML3"
   },
   "source": [
    "This assignment is made by Manlin Yang and Xiaojia He\n",
    "\n",
    "Final proposal Link: https://github.com/mandy941/DAV-Data-Science/blob/master/final%20project/M_Yang_FinalProjectProposal.pdf\n",
    "\n",
    "***\n",
    "## Introduction\n",
    "The purpose of this study is to find the best model to predict whether or not a given mortgage loan application is likely to be approved or denied. We'll conduct multiple logistic regression to predict the deny situation.  \n",
    "\n",
    "\n",
    "**Variables:**\n",
    "\n",
    "The original data set includes 7 categorical variables and 7 numerical variables.\n",
    "\n",
    "There are 12 variables that can be used as independent variables. \n",
    "\n",
    "The 'deny' variable will serve as the dependent variable for our regression model. \n",
    "\n",
    "**Procedures:**\n",
    "\n",
    "Here are main procedures of this project:\n",
    "\n",
    "Step 1: Load data into the data frame from GitHub\n",
    "\n",
    "Step 2: Exploratory Data Analysis\n",
    "\n",
    "Step 3: Data Cleaning and preparation\n",
    "\n",
    "Step 4: Feature Engineering and Feature Selection\n",
    "\n",
    "Step 5: Logistic Regression Creation\n",
    "\n",
    "Step 6: Model Eveluation\n",
    "\n",
    "Step 7: Evaluate performance and Comparison \n",
    "\n",
    "Step 8: Conclusion\n",
    "\n",
    ">For **Step 2**, the main components of EDA include:\n",
    ">1. Data exploration\n",
    "2. Check numerical and categorical columns\n",
    "3. Visualize numerical columns\n",
    "4. Visualize categorical columns\n",
    "5. Check the missing value\n",
    "6. Check the correlation for each variables\n",
    "\n",
    "\n",
    ">For **Step 3**, it consists of 5 stages:\n",
    "1. Drop the missing value row\n",
    "2. Check Outliers\n",
    "3. Check deplicated data\n",
    "4. Rerun EDA\n",
    "5. Encode categorical data - create dummy variables\n",
    "\n",
    ">For **Step 4**, we'll perform:\n",
    "1. Split data into training and testing subsets\n",
    "2. Scaling numerical values using Standard Scale (except dummy variables)\n",
    "3. Use Smote to balance data\n",
    "4. Feature Selection by using Correlation coefficients, RFECV:\n",
    " - 4a. Detect multicollinearity by using Correlation Coefficients and Set Correlation thresholds\n",
    " - 4b. Select features by using Recursive feature elimination with cross-validation (RFECV)\n",
    "\n",
    "\n",
    "**Variable Descriptions:**\n",
    "1. dir: debt payments to total income ratio, the ratio can be integer or float\n",
    "2. hir: housing expenses to income ratio, the ratio can be integer or float\n",
    "3. lvr: the ratio of size of loan to the assessed value of property\n",
    "4. ccs: consumer credit score from 1 to 6 (a low value is a good score), it should be integer\n",
    "5. mcs: mortgage credit score from 1 to 4 (a low value is a good score), it should be integer\n",
    "6. pbcr: if have public bad credit record, the record should be yes or no or NaN\n",
    "7. dmi: if denied mortgage insurance, the record should be yes or no or NaN \n",
    "8. self if self-employed, the record should be yes or no or NaN \n",
    "9. single If the applicant is single, the record should be yes or no or NaN \n",
    "10. uria: 1989 Massachusetts unemployment rate in the applicant's industry\n",
    "11. condominium: if the unit is a condominium. The mortgage rates on condominiums are usually higher than what the same borrower would pay if they were purchasing a single-family home on similar terms. That's because condominium mortgages are considered somewhat riskier loans than are mortgages for single-family homes. So, it is a valid attribute.\n",
    "12. black If the applicant is black, the record should be yes or no or NaN \n",
    "13. deny: If a mortgage application is denied, the record should be yes or no or NaN \n",
    "14. Unnamed: 0: It is the id of the each applicant, consider the pandas will generate new index columns from 0 to the end, we drop the old index column."
   ]
  },
  {
   "cell_type": "code",
   "execution_count": 2,
   "metadata": {
    "colab": {
     "base_uri": "https://localhost:8080/",
     "height": 72
    },
    "colab_type": "code",
    "id": "9q0uRq3ADML4",
    "outputId": "b02f43a2-4724-45c8-dbc5-98cc1d5ce003"
   },
   "outputs": [],
   "source": [
    "# Importing required libraries.\n",
    "\n",
    "import pandas as pd\n",
    "import numpy as np\n",
    "\n",
    "import seaborn as sns #visualisation\n",
    "import matplotlib.pyplot as plt #visualisation\n",
    "%matplotlib inline \n",
    "sns.set(color_codes=True)\n",
    "\n",
    "import missingno as msno \n",
    "from sklearn.experimental import enable_iterative_imputer\n",
    "from sklearn.impute import IterativeImputer\n",
    "\n",
    "from sklearn import linear_model\n",
    "from sklearn.model_selection import cross_val_score\n",
    "from sklearn.model_selection import train_test_split\n",
    "from sklearn.linear_model import LinearRegression\n",
    "import statsmodels.api as sm\n",
    "from sklearn.preprocessing import StandardScaler\n",
    "\n",
    "from patsy import dmatrices\n",
    "from sklearn.linear_model import LogisticRegression\n",
    "from sklearn import metrics"
   ]
  },
  {
   "cell_type": "markdown",
   "metadata": {
    "colab_type": "text",
    "id": "k9qard5wDML9"
   },
   "source": [
    "***\n",
    "### Step 1: Load data into the data frame from GitHub\n",
    "\n",
    "After reading the dataset from Github\n",
    "\n",
    "`.head()` returns the first 5 rows of the dataset. "
   ]
  },
  {
   "cell_type": "code",
   "execution_count": 3,
   "metadata": {
    "colab": {
     "base_uri": "https://localhost:8080/",
     "height": 202
    },
    "colab_type": "code",
    "id": "vDDKTsdNDML9",
    "outputId": "e57dbfd7-22a9-4e14-cd25-fd3f9ab32da2"
   },
   "outputs": [
    {
     "data": {
      "text/html": [
       "<div>\n",
       "<style scoped>\n",
       "    .dataframe tbody tr th:only-of-type {\n",
       "        vertical-align: middle;\n",
       "    }\n",
       "\n",
       "    .dataframe tbody tr th {\n",
       "        vertical-align: top;\n",
       "    }\n",
       "\n",
       "    .dataframe thead th {\n",
       "        text-align: right;\n",
       "    }\n",
       "</style>\n",
       "<table border=\"1\" class=\"dataframe\">\n",
       "  <thead>\n",
       "    <tr style=\"text-align: right;\">\n",
       "      <th></th>\n",
       "      <th>Unnamed: 0</th>\n",
       "      <th>dir</th>\n",
       "      <th>hir</th>\n",
       "      <th>lvr</th>\n",
       "      <th>ccs</th>\n",
       "      <th>mcs</th>\n",
       "      <th>pbcr</th>\n",
       "      <th>dmi</th>\n",
       "      <th>self</th>\n",
       "      <th>single</th>\n",
       "      <th>uria</th>\n",
       "      <th>comdominiom</th>\n",
       "      <th>black</th>\n",
       "      <th>deny</th>\n",
       "    </tr>\n",
       "  </thead>\n",
       "  <tbody>\n",
       "    <tr>\n",
       "      <th>0</th>\n",
       "      <td>1</td>\n",
       "      <td>0.221</td>\n",
       "      <td>0.221</td>\n",
       "      <td>0.800000</td>\n",
       "      <td>5.0</td>\n",
       "      <td>2.0</td>\n",
       "      <td>no</td>\n",
       "      <td>no</td>\n",
       "      <td>no</td>\n",
       "      <td>no</td>\n",
       "      <td>3.9</td>\n",
       "      <td>0</td>\n",
       "      <td>no</td>\n",
       "      <td>no</td>\n",
       "    </tr>\n",
       "    <tr>\n",
       "      <th>1</th>\n",
       "      <td>2</td>\n",
       "      <td>0.265</td>\n",
       "      <td>0.265</td>\n",
       "      <td>0.921875</td>\n",
       "      <td>2.0</td>\n",
       "      <td>2.0</td>\n",
       "      <td>no</td>\n",
       "      <td>no</td>\n",
       "      <td>no</td>\n",
       "      <td>yes</td>\n",
       "      <td>3.2</td>\n",
       "      <td>0</td>\n",
       "      <td>no</td>\n",
       "      <td>no</td>\n",
       "    </tr>\n",
       "    <tr>\n",
       "      <th>2</th>\n",
       "      <td>3</td>\n",
       "      <td>0.372</td>\n",
       "      <td>0.248</td>\n",
       "      <td>0.920398</td>\n",
       "      <td>1.0</td>\n",
       "      <td>2.0</td>\n",
       "      <td>no</td>\n",
       "      <td>no</td>\n",
       "      <td>no</td>\n",
       "      <td>no</td>\n",
       "      <td>3.2</td>\n",
       "      <td>0</td>\n",
       "      <td>no</td>\n",
       "      <td>no</td>\n",
       "    </tr>\n",
       "    <tr>\n",
       "      <th>3</th>\n",
       "      <td>4</td>\n",
       "      <td>0.320</td>\n",
       "      <td>0.250</td>\n",
       "      <td>0.860465</td>\n",
       "      <td>1.0</td>\n",
       "      <td>2.0</td>\n",
       "      <td>no</td>\n",
       "      <td>no</td>\n",
       "      <td>no</td>\n",
       "      <td>no</td>\n",
       "      <td>4.3</td>\n",
       "      <td>0</td>\n",
       "      <td>no</td>\n",
       "      <td>no</td>\n",
       "    </tr>\n",
       "    <tr>\n",
       "      <th>4</th>\n",
       "      <td>5</td>\n",
       "      <td>0.360</td>\n",
       "      <td>0.350</td>\n",
       "      <td>0.600000</td>\n",
       "      <td>1.0</td>\n",
       "      <td>1.0</td>\n",
       "      <td>no</td>\n",
       "      <td>no</td>\n",
       "      <td>no</td>\n",
       "      <td>no</td>\n",
       "      <td>3.2</td>\n",
       "      <td>0</td>\n",
       "      <td>no</td>\n",
       "      <td>no</td>\n",
       "    </tr>\n",
       "  </tbody>\n",
       "</table>\n",
       "</div>"
      ],
      "text/plain": [
       "   Unnamed: 0    dir    hir       lvr  ccs  mcs pbcr dmi self single  uria  \\\n",
       "0           1  0.221  0.221  0.800000  5.0  2.0   no  no   no     no   3.9   \n",
       "1           2  0.265  0.265  0.921875  2.0  2.0   no  no   no    yes   3.2   \n",
       "2           3  0.372  0.248  0.920398  1.0  2.0   no  no   no     no   3.2   \n",
       "3           4  0.320  0.250  0.860465  1.0  2.0   no  no   no     no   4.3   \n",
       "4           5  0.360  0.350  0.600000  1.0  1.0   no  no   no     no   3.2   \n",
       "\n",
       "   comdominiom black deny  \n",
       "0            0    no   no  \n",
       "1            0    no   no  \n",
       "2            0    no   no  \n",
       "3            0    no   no  \n",
       "4            0    no   no  "
      ]
     },
     "execution_count": 3,
     "metadata": {},
     "output_type": "execute_result"
    }
   ],
   "source": [
    "# read datasource from Github and add column name\n",
    "data = pd.read_csv(\"https://raw.githubusercontent.com/XIAOJIA68/DAV-6150/master/M-DataSource/M7_Data.csv\")\n",
    "# To display the top 5 rows\n",
    "data.head()"
   ]
  },
  {
   "cell_type": "markdown",
   "metadata": {
    "colab_type": "text",
    "id": "zUE7TgYpDMMC"
   },
   "source": [
    "***\n",
    "### Step 2: Exploratory Data Analysis\n",
    "\n",
    "In this case, the steps of Exploratory Data Analysis consist of:\n",
    ">1. Data exploration\n",
    "2. Check numerical and categorical columns\n",
    "3. Visualize numerical columns\n",
    "4. Visualize categorical columns\n",
    "5. Compare the response variables in each discrete and categorical explanatory variables\n",
    "6. Check Outliers\n",
    "7. Check Duplicated data\n",
    "8. Check Correlation\n"
   ]
  },
  {
   "cell_type": "markdown",
   "metadata": {
    "colab_type": "text",
    "id": "rGbKHgaYDMMC"
   },
   "source": [
    "\n",
    "#### 1. Data exploration:\n",
    "`.shape` returns the number of rows by the number of columns for the dataset.\n",
    "\n",
    "`.describe()` summarizes the count, mean, standard deviation, min, and max for numeric variables. \n",
    "\n",
    "`.dtypes` identifies the Data Types.\n",
    "\n",
    "`.nunique()` returns the number of unique values for each variable.\n",
    "\n",
    "`.isnull().sum()` checks missing values for each column.\n",
    "\n",
    "`.count()` returns the count for each variable."
   ]
  },
  {
   "cell_type": "code",
   "execution_count": 4,
   "metadata": {
    "colab": {
     "base_uri": "https://localhost:8080/",
     "height": 35
    },
    "colab_type": "code",
    "id": "4J3zlRu_DMMD",
    "outputId": "b3d0f828-9beb-4153-feaa-06f869d17740"
   },
   "outputs": [
    {
     "data": {
      "text/plain": [
       "(2381, 14)"
      ]
     },
     "execution_count": 4,
     "metadata": {},
     "output_type": "execute_result"
    }
   ],
   "source": [
    "# check the shape for the dataframe\n",
    "data.shape"
   ]
  },
  {
   "cell_type": "code",
   "execution_count": 5,
   "metadata": {
    "colab": {
     "base_uri": "https://localhost:8080/",
     "height": 202
    },
    "colab_type": "code",
    "id": "9IV-l4AGDMMG",
    "outputId": "8bda6086-583f-4959-8e8b-c8434028ed3f"
   },
   "outputs": [
    {
     "data": {
      "text/html": [
       "<div>\n",
       "<style scoped>\n",
       "    .dataframe tbody tr th:only-of-type {\n",
       "        vertical-align: middle;\n",
       "    }\n",
       "\n",
       "    .dataframe tbody tr th {\n",
       "        vertical-align: top;\n",
       "    }\n",
       "\n",
       "    .dataframe thead th {\n",
       "        text-align: right;\n",
       "    }\n",
       "</style>\n",
       "<table border=\"1\" class=\"dataframe\">\n",
       "  <thead>\n",
       "    <tr style=\"text-align: right;\">\n",
       "      <th></th>\n",
       "      <th>dir</th>\n",
       "      <th>hir</th>\n",
       "      <th>lvr</th>\n",
       "      <th>ccs</th>\n",
       "      <th>mcs</th>\n",
       "      <th>pbcr</th>\n",
       "      <th>dmi</th>\n",
       "      <th>self</th>\n",
       "      <th>single</th>\n",
       "      <th>uria</th>\n",
       "      <th>comdominiom</th>\n",
       "      <th>black</th>\n",
       "      <th>deny</th>\n",
       "    </tr>\n",
       "  </thead>\n",
       "  <tbody>\n",
       "    <tr>\n",
       "      <th>0</th>\n",
       "      <td>0.221</td>\n",
       "      <td>0.221</td>\n",
       "      <td>0.800000</td>\n",
       "      <td>5.0</td>\n",
       "      <td>2.0</td>\n",
       "      <td>no</td>\n",
       "      <td>no</td>\n",
       "      <td>no</td>\n",
       "      <td>no</td>\n",
       "      <td>3.9</td>\n",
       "      <td>0</td>\n",
       "      <td>no</td>\n",
       "      <td>no</td>\n",
       "    </tr>\n",
       "    <tr>\n",
       "      <th>1</th>\n",
       "      <td>0.265</td>\n",
       "      <td>0.265</td>\n",
       "      <td>0.921875</td>\n",
       "      <td>2.0</td>\n",
       "      <td>2.0</td>\n",
       "      <td>no</td>\n",
       "      <td>no</td>\n",
       "      <td>no</td>\n",
       "      <td>yes</td>\n",
       "      <td>3.2</td>\n",
       "      <td>0</td>\n",
       "      <td>no</td>\n",
       "      <td>no</td>\n",
       "    </tr>\n",
       "    <tr>\n",
       "      <th>2</th>\n",
       "      <td>0.372</td>\n",
       "      <td>0.248</td>\n",
       "      <td>0.920398</td>\n",
       "      <td>1.0</td>\n",
       "      <td>2.0</td>\n",
       "      <td>no</td>\n",
       "      <td>no</td>\n",
       "      <td>no</td>\n",
       "      <td>no</td>\n",
       "      <td>3.2</td>\n",
       "      <td>0</td>\n",
       "      <td>no</td>\n",
       "      <td>no</td>\n",
       "    </tr>\n",
       "    <tr>\n",
       "      <th>3</th>\n",
       "      <td>0.320</td>\n",
       "      <td>0.250</td>\n",
       "      <td>0.860465</td>\n",
       "      <td>1.0</td>\n",
       "      <td>2.0</td>\n",
       "      <td>no</td>\n",
       "      <td>no</td>\n",
       "      <td>no</td>\n",
       "      <td>no</td>\n",
       "      <td>4.3</td>\n",
       "      <td>0</td>\n",
       "      <td>no</td>\n",
       "      <td>no</td>\n",
       "    </tr>\n",
       "    <tr>\n",
       "      <th>4</th>\n",
       "      <td>0.360</td>\n",
       "      <td>0.350</td>\n",
       "      <td>0.600000</td>\n",
       "      <td>1.0</td>\n",
       "      <td>1.0</td>\n",
       "      <td>no</td>\n",
       "      <td>no</td>\n",
       "      <td>no</td>\n",
       "      <td>no</td>\n",
       "      <td>3.2</td>\n",
       "      <td>0</td>\n",
       "      <td>no</td>\n",
       "      <td>no</td>\n",
       "    </tr>\n",
       "  </tbody>\n",
       "</table>\n",
       "</div>"
      ],
      "text/plain": [
       "     dir    hir       lvr  ccs  mcs pbcr dmi self single  uria  comdominiom  \\\n",
       "0  0.221  0.221  0.800000  5.0  2.0   no  no   no     no   3.9            0   \n",
       "1  0.265  0.265  0.921875  2.0  2.0   no  no   no    yes   3.2            0   \n",
       "2  0.372  0.248  0.920398  1.0  2.0   no  no   no     no   3.2            0   \n",
       "3  0.320  0.250  0.860465  1.0  2.0   no  no   no     no   4.3            0   \n",
       "4  0.360  0.350  0.600000  1.0  1.0   no  no   no     no   3.2            0   \n",
       "\n",
       "  black deny  \n",
       "0    no   no  \n",
       "1    no   no  \n",
       "2    no   no  \n",
       "3    no   no  \n",
       "4    no   no  "
      ]
     },
     "execution_count": 5,
     "metadata": {},
     "output_type": "execute_result"
    }
   ],
   "source": [
    "#drop the first column\n",
    "df =data.drop(columns=['Unnamed: 0'])\n",
    "df.head()"
   ]
  },
  {
   "cell_type": "code",
   "execution_count": 6,
   "metadata": {
    "colab": {
     "base_uri": "https://localhost:8080/",
     "height": 263
    },
    "colab_type": "code",
    "id": "vuvYjczvDMMK",
    "outputId": "1ba1880d-500d-48e5-bc9a-b9ee259f544b"
   },
   "outputs": [
    {
     "data": {
      "text/html": [
       "<div>\n",
       "<style scoped>\n",
       "    .dataframe tbody tr th:only-of-type {\n",
       "        vertical-align: middle;\n",
       "    }\n",
       "\n",
       "    .dataframe tbody tr th {\n",
       "        vertical-align: top;\n",
       "    }\n",
       "\n",
       "    .dataframe thead th {\n",
       "        text-align: right;\n",
       "    }\n",
       "</style>\n",
       "<table border=\"1\" class=\"dataframe\">\n",
       "  <thead>\n",
       "    <tr style=\"text-align: right;\">\n",
       "      <th></th>\n",
       "      <th>count</th>\n",
       "      <th>mean</th>\n",
       "      <th>std</th>\n",
       "      <th>min</th>\n",
       "      <th>25%</th>\n",
       "      <th>50%</th>\n",
       "      <th>75%</th>\n",
       "      <th>max</th>\n",
       "    </tr>\n",
       "  </thead>\n",
       "  <tbody>\n",
       "    <tr>\n",
       "      <th>dir</th>\n",
       "      <td>2381.0</td>\n",
       "      <td>0.330814</td>\n",
       "      <td>0.107235</td>\n",
       "      <td>0.00</td>\n",
       "      <td>0.28000</td>\n",
       "      <td>0.330000</td>\n",
       "      <td>0.370000</td>\n",
       "      <td>3.00</td>\n",
       "    </tr>\n",
       "    <tr>\n",
       "      <th>hir</th>\n",
       "      <td>2381.0</td>\n",
       "      <td>0.255346</td>\n",
       "      <td>0.096635</td>\n",
       "      <td>0.00</td>\n",
       "      <td>0.21400</td>\n",
       "      <td>0.260000</td>\n",
       "      <td>0.298800</td>\n",
       "      <td>3.00</td>\n",
       "    </tr>\n",
       "    <tr>\n",
       "      <th>lvr</th>\n",
       "      <td>2381.0</td>\n",
       "      <td>0.737760</td>\n",
       "      <td>0.178715</td>\n",
       "      <td>0.02</td>\n",
       "      <td>0.65285</td>\n",
       "      <td>0.779412</td>\n",
       "      <td>0.868421</td>\n",
       "      <td>1.95</td>\n",
       "    </tr>\n",
       "    <tr>\n",
       "      <th>ccs</th>\n",
       "      <td>2381.0</td>\n",
       "      <td>2.116387</td>\n",
       "      <td>1.666370</td>\n",
       "      <td>1.00</td>\n",
       "      <td>1.00000</td>\n",
       "      <td>1.000000</td>\n",
       "      <td>2.000000</td>\n",
       "      <td>6.00</td>\n",
       "    </tr>\n",
       "    <tr>\n",
       "      <th>mcs</th>\n",
       "      <td>2381.0</td>\n",
       "      <td>1.721008</td>\n",
       "      <td>0.537169</td>\n",
       "      <td>1.00</td>\n",
       "      <td>1.00000</td>\n",
       "      <td>2.000000</td>\n",
       "      <td>2.000000</td>\n",
       "      <td>4.00</td>\n",
       "    </tr>\n",
       "    <tr>\n",
       "      <th>uria</th>\n",
       "      <td>2381.0</td>\n",
       "      <td>3.774496</td>\n",
       "      <td>2.026636</td>\n",
       "      <td>1.80</td>\n",
       "      <td>3.10000</td>\n",
       "      <td>3.200000</td>\n",
       "      <td>3.900000</td>\n",
       "      <td>10.60</td>\n",
       "    </tr>\n",
       "    <tr>\n",
       "      <th>comdominiom</th>\n",
       "      <td>2381.0</td>\n",
       "      <td>0.288114</td>\n",
       "      <td>0.452980</td>\n",
       "      <td>0.00</td>\n",
       "      <td>0.00000</td>\n",
       "      <td>0.000000</td>\n",
       "      <td>1.000000</td>\n",
       "      <td>1.00</td>\n",
       "    </tr>\n",
       "  </tbody>\n",
       "</table>\n",
       "</div>"
      ],
      "text/plain": [
       "              count      mean       std   min      25%       50%       75%  \\\n",
       "dir          2381.0  0.330814  0.107235  0.00  0.28000  0.330000  0.370000   \n",
       "hir          2381.0  0.255346  0.096635  0.00  0.21400  0.260000  0.298800   \n",
       "lvr          2381.0  0.737760  0.178715  0.02  0.65285  0.779412  0.868421   \n",
       "ccs          2381.0  2.116387  1.666370  1.00  1.00000  1.000000  2.000000   \n",
       "mcs          2381.0  1.721008  0.537169  1.00  1.00000  2.000000  2.000000   \n",
       "uria         2381.0  3.774496  2.026636  1.80  3.10000  3.200000  3.900000   \n",
       "comdominiom  2381.0  0.288114  0.452980  0.00  0.00000  0.000000  1.000000   \n",
       "\n",
       "               max  \n",
       "dir           3.00  \n",
       "hir           3.00  \n",
       "lvr           1.95  \n",
       "ccs           6.00  \n",
       "mcs           4.00  \n",
       "uria         10.60  \n",
       "comdominiom   1.00  "
      ]
     },
     "execution_count": 6,
     "metadata": {},
     "output_type": "execute_result"
    }
   ],
   "source": [
    "# statistical summary of numeric variables:\n",
    "df.describe().T"
   ]
  },
  {
   "cell_type": "code",
   "execution_count": 7,
   "metadata": {
    "colab": {
     "base_uri": "https://localhost:8080/",
     "height": 447
    },
    "colab_type": "code",
    "id": "a51ZO4SvDMMO",
    "outputId": "7b2b0eec-7508-4229-93c0-d3751523743a"
   },
   "outputs": [
    {
     "data": {
      "text/html": [
       "<div>\n",
       "<style scoped>\n",
       "    .dataframe tbody tr th:only-of-type {\n",
       "        vertical-align: middle;\n",
       "    }\n",
       "\n",
       "    .dataframe tbody tr th {\n",
       "        vertical-align: top;\n",
       "    }\n",
       "\n",
       "    .dataframe thead th {\n",
       "        text-align: right;\n",
       "    }\n",
       "</style>\n",
       "<table border=\"1\" class=\"dataframe\">\n",
       "  <thead>\n",
       "    <tr style=\"text-align: right;\">\n",
       "      <th></th>\n",
       "      <th>Dtype</th>\n",
       "      <th>Nunique</th>\n",
       "      <th>MissingValues</th>\n",
       "      <th>Count</th>\n",
       "      <th>ZeroValues</th>\n",
       "    </tr>\n",
       "  </thead>\n",
       "  <tbody>\n",
       "    <tr>\n",
       "      <th>dir</th>\n",
       "      <td>float64</td>\n",
       "      <td>520</td>\n",
       "      <td>0</td>\n",
       "      <td>2381</td>\n",
       "      <td>1</td>\n",
       "    </tr>\n",
       "    <tr>\n",
       "      <th>hir</th>\n",
       "      <td>float64</td>\n",
       "      <td>501</td>\n",
       "      <td>0</td>\n",
       "      <td>2381</td>\n",
       "      <td>3</td>\n",
       "    </tr>\n",
       "    <tr>\n",
       "      <th>lvr</th>\n",
       "      <td>float64</td>\n",
       "      <td>1538</td>\n",
       "      <td>0</td>\n",
       "      <td>2381</td>\n",
       "      <td>0</td>\n",
       "    </tr>\n",
       "    <tr>\n",
       "      <th>ccs</th>\n",
       "      <td>float64</td>\n",
       "      <td>7</td>\n",
       "      <td>0</td>\n",
       "      <td>2381</td>\n",
       "      <td>0</td>\n",
       "    </tr>\n",
       "    <tr>\n",
       "      <th>mcs</th>\n",
       "      <td>float64</td>\n",
       "      <td>5</td>\n",
       "      <td>0</td>\n",
       "      <td>2381</td>\n",
       "      <td>0</td>\n",
       "    </tr>\n",
       "    <tr>\n",
       "      <th>pbcr</th>\n",
       "      <td>object</td>\n",
       "      <td>2</td>\n",
       "      <td>1</td>\n",
       "      <td>2380</td>\n",
       "      <td>0</td>\n",
       "    </tr>\n",
       "    <tr>\n",
       "      <th>dmi</th>\n",
       "      <td>object</td>\n",
       "      <td>2</td>\n",
       "      <td>0</td>\n",
       "      <td>2381</td>\n",
       "      <td>0</td>\n",
       "    </tr>\n",
       "    <tr>\n",
       "      <th>self</th>\n",
       "      <td>object</td>\n",
       "      <td>2</td>\n",
       "      <td>1</td>\n",
       "      <td>2380</td>\n",
       "      <td>0</td>\n",
       "    </tr>\n",
       "    <tr>\n",
       "      <th>single</th>\n",
       "      <td>object</td>\n",
       "      <td>2</td>\n",
       "      <td>0</td>\n",
       "      <td>2381</td>\n",
       "      <td>0</td>\n",
       "    </tr>\n",
       "    <tr>\n",
       "      <th>uria</th>\n",
       "      <td>float64</td>\n",
       "      <td>11</td>\n",
       "      <td>0</td>\n",
       "      <td>2381</td>\n",
       "      <td>0</td>\n",
       "    </tr>\n",
       "    <tr>\n",
       "      <th>comdominiom</th>\n",
       "      <td>int64</td>\n",
       "      <td>2</td>\n",
       "      <td>0</td>\n",
       "      <td>2381</td>\n",
       "      <td>1695</td>\n",
       "    </tr>\n",
       "    <tr>\n",
       "      <th>black</th>\n",
       "      <td>object</td>\n",
       "      <td>2</td>\n",
       "      <td>0</td>\n",
       "      <td>2381</td>\n",
       "      <td>0</td>\n",
       "    </tr>\n",
       "    <tr>\n",
       "      <th>deny</th>\n",
       "      <td>object</td>\n",
       "      <td>2</td>\n",
       "      <td>0</td>\n",
       "      <td>2381</td>\n",
       "      <td>0</td>\n",
       "    </tr>\n",
       "  </tbody>\n",
       "</table>\n",
       "</div>"
      ],
      "text/plain": [
       "               Dtype  Nunique  MissingValues  Count  ZeroValues\n",
       "dir          float64      520              0   2381           1\n",
       "hir          float64      501              0   2381           3\n",
       "lvr          float64     1538              0   2381           0\n",
       "ccs          float64        7              0   2381           0\n",
       "mcs          float64        5              0   2381           0\n",
       "pbcr          object        2              1   2380           0\n",
       "dmi           object        2              0   2381           0\n",
       "self          object        2              1   2380           0\n",
       "single        object        2              0   2381           0\n",
       "uria         float64       11              0   2381           0\n",
       "comdominiom    int64        2              0   2381        1695\n",
       "black         object        2              0   2381           0\n",
       "deny          object        2              0   2381           0"
      ]
     },
     "execution_count": 7,
     "metadata": {},
     "output_type": "execute_result"
    }
   ],
   "source": [
    "#Identify the Data Types\n",
    "df_info = pd.DataFrame(df.dtypes,columns=['Dtype'])\n",
    "\n",
    "#Identify the unique values\n",
    "df_info['Nunique'] = df.nunique()\n",
    "\n",
    "#check missing values for each column\n",
    "df_info['MissingValues']=df.isnull().sum()\n",
    "\n",
    "# Identify the count for each variable\n",
    "df_info['Count']=df.count()\n",
    "\n",
    "# Identify the zero values for each variable\n",
    "df_info['ZeroValues']=(df==0).sum()\n",
    "\n",
    "df_info"
   ]
  },
  {
   "cell_type": "code",
   "execution_count": 8,
   "metadata": {
    "colab": {
     "base_uri": "https://localhost:8080/",
     "height": 604
    },
    "colab_type": "code",
    "id": "xGlD7OkyDMMS",
    "outputId": "5981e79a-32bb-43be-9b46-0fbe59ed6c0b"
   },
   "outputs": [
    {
     "data": {
      "text/plain": [
       "<matplotlib.axes._subplots.AxesSubplot at 0x258f912e320>"
      ]
     },
     "execution_count": 8,
     "metadata": {},
     "output_type": "execute_result"
    },
    {
     "data": {
      "image/png": "[encoded data removed]",
      "text/plain": [
       "<Figure size 1728x720 with 3 Axes>"
      ]
     },
     "metadata": {
      "needs_background": "light"
     },
     "output_type": "display_data"
    }
   ],
   "source": [
    "#first import missingno after pip install\n",
    "import missingno as msno\n",
    "#visualize the amount of missing data using missingno's bar chart\n",
    "msno.bar(df)"
   ]
  },
  {
   "cell_type": "markdown",
   "metadata": {
    "colab_type": "text",
    "id": "9aIPQQEwDMMV"
   },
   "source": [
    "#### Findings:\n",
    "\n",
    ">1. The dataset consists of 13 useful variables and 2381 observations.We drop 1 unnamed column. \n",
    "2. There is only 1 missing value in column self and pbcr.\n",
    "3. The types of data are the object, integer, and float, and comdominiom should be categorical attributes because it just contains 0 and 1.0 represent no, 1 represents yes.\n",
    "4. There are no negative values. All minimum values for each column are at least 0."
   ]
  },
  {
   "cell_type": "markdown",
   "metadata": {
    "colab_type": "text",
    "id": "CLTOoOcgDMMW"
   },
   "source": [
    "#### 2. Check numerical and categorical columns"
   ]
  },
  {
   "cell_type": "code",
   "execution_count": 9,
   "metadata": {
    "colab": {
     "base_uri": "https://localhost:8080/",
     "height": 52
    },
    "colab_type": "code",
    "id": "PBsR1CpJDMMW",
    "outputId": "9b5c1d6d-3c89-4951-a71e-d03ca30afe8f"
   },
   "outputs": [
    {
     "name": "stdout",
     "output_type": "stream",
     "text": [
      "Numerical variables: ['dir', 'hir', 'lvr', 'ccs', 'mcs', 'uria', 'comdominiom']\n",
      "Categorical variables: ['pbcr', 'dmi', 'self', 'single', 'black', 'deny']\n"
     ]
    }
   ],
   "source": [
    "# since comdominiom is categorical variable, we will deal with it separately \n",
    "\n",
    "numerical_columns = []\n",
    "categorical_columns = []\n",
    "\n",
    "for i in df.columns[:]:\n",
    "    if(df[i].dtype=='object'):\n",
    "        categorical_columns.append(i)\n",
    "    else:\n",
    "        numerical_columns.append(i)\n",
    "        \n",
    "print('Numerical variables:',numerical_columns)\n",
    "print('Categorical variables:',categorical_columns)"
   ]
  },
  {
   "cell_type": "markdown",
   "metadata": {
    "colab_type": "text",
    "id": "v-XDhtvyDMMb"
   },
   "source": [
    "#### Findings:\n",
    "> 1. We can know the numerical variables of the original dataset are 6 attributes, including dir, hir, lvr, ccs, mcs, uria.\n",
    "2. The categorical variables of the original dataset include 16 attributes, including pbcr, dmi, self, single, black, deny, and comdominiom."
   ]
  },
  {
   "cell_type": "markdown",
   "metadata": {
    "colab_type": "text",
    "id": "HfwSMhBmDMMb"
   },
   "source": [
    "#### 3. Visualize numerical columns"
   ]
  },
  {
   "cell_type": "code",
   "execution_count": 10,
   "metadata": {
    "colab": {
     "base_uri": "https://localhost:8080/",
     "height": 459
    },
    "colab_type": "code",
    "id": "CEthybI4DMMc",
    "outputId": "4368531a-da95-4a7b-ef71-d6fb8d76cc0a"
   },
   "outputs": [
    {
     "data": {
      "text/plain": [
       "<seaborn.axisgrid.FacetGrid at 0x258f93342b0>"
      ]
     },
     "execution_count": 10,
     "metadata": {},
     "output_type": "execute_result"
    },
    {
     "data": {
      "image/png": "[encoded data removed]",
      "text/plain": [
       "<Figure size 1080x432 with 7 Axes>"
      ]
     },
     "metadata": {
      "needs_background": "light"
     },
     "output_type": "display_data"
    }
   ],
   "source": [
    "# Distributions for each of numerical variables.\n",
    "nd = pd.melt(df[numerical_columns])\n",
    "n1 = sns.FacetGrid (nd, col='variable', col_wrap=5, sharex=False, sharey = False)\n",
    "n1 = n1.map(sns.distplot, 'value')\n",
    "n1"
   ]
  },
  {
   "cell_type": "markdown",
   "metadata": {
    "colab_type": "text",
    "id": "XsipgMMUDMMg"
   },
   "source": [
    "#### Findings: \n",
    ">1. From this visualization, we can see that dir and hir have outliers. \n",
    "2. Most people have a great consumer credit score(ccs), 1 or 2. \n",
    "3. Most people have a great mortgage credit score(mcs), 1 or 2.\n",
    "4. The main Massachusetts unemployment rate for each applicants' industries in 1989 was around 3.\n",
    "5. Although the data type of comdominiom is numerical, from the distribution we can see that it is the categorical data. 0 represents the unit is not comdominiom, 1 represents the unit is comdominiom.\n"
   ]
  },
  {
   "cell_type": "code",
   "execution_count": 11,
   "metadata": {
    "colab": {},
    "colab_type": "code",
    "id": "LD-WwOxKK_pK"
   },
   "outputs": [],
   "source": [
    "# Put comdominiom to the categorical variables\n",
    "numerical_columns = ['dir', 'hir', 'lvr', 'ccs', 'mcs', 'uria']\n",
    "categorical_columns = ['pbcr', 'dmi', 'self', 'single', 'black', 'comdominiom', 'deny']\n"
   ]
  },
  {
   "cell_type": "markdown",
   "metadata": {
    "colab_type": "text",
    "id": "y5TKPzr6DMMh"
   },
   "source": [
    "#### 4. Visualize categorical columns"
   ]
  },
  {
   "cell_type": "code",
   "execution_count": 12,
   "metadata": {
    "colab": {
     "base_uri": "https://localhost:8080/",
     "height": 607
    },
    "colab_type": "code",
    "id": "LB7zJkuqDMMi",
    "outputId": "5be6a84a-d86c-4888-ca20-3df85a5ce5ed"
   },
   "outputs": [
    {
     "data": {
      "image/png": "[encoded data removed]",
      "text/plain": [
       "<Figure size 1440x720 with 6 Axes>"
      ]
     },
     "metadata": {
      "needs_background": "light"
     },
     "output_type": "display_data"
    }
   ],
   "source": [
    "# create the bar chart for each categorical columns\n",
    "fig, ax = plt.subplots(2, 3, figsize=(20, 10))\n",
    "for variable, subplot in zip(categorical_columns, ax.flatten()):\n",
    "    sns.countplot(df[variable], ax=subplot)\n",
    "    for label in subplot.get_xticklabels():\n",
    "        label.set_rotation(90)"
   ]
  },
  {
   "cell_type": "code",
   "execution_count": 76,
   "metadata": {},
   "outputs": [
    {
     "data": {
      "text/plain": [
       "<matplotlib.axes._subplots.AxesSubplot at 0x258fa865588>"
      ]
     },
     "execution_count": 76,
     "metadata": {},
     "output_type": "execute_result"
    },
    {
     "data": {
      "image/png": "[encoded data removed]",
      "text/plain": [
       "<Figure size 432x288 with 1 Axes>"
      ]
     },
     "metadata": {
      "needs_background": "light"
     },
     "output_type": "display_data"
    }
   ],
   "source": [
    "# create the bar chart for categorical value comdominiom, 0 = no, 1 = yes\n",
    "df['deny'].value_counts().plot(kind='bar')"
   ]
  },
  {
   "cell_type": "code",
   "execution_count": 78,
   "metadata": {},
   "outputs": [
    {
     "data": {
      "text/plain": [
       "no     88.030239\n",
       "yes    11.969761\n",
       "Name: deny, dtype: float64"
      ]
     },
     "execution_count": 78,
     "metadata": {},
     "output_type": "execute_result"
    }
   ],
   "source": [
    "data['deny'].value_counts(normalize=True) * 100"
   ]
  },
  {
   "cell_type": "markdown",
   "metadata": {},
   "source": [
    "#### Findings:\n",
    "We can see the response variable - deny is imbalance data because the percentage of 'yes' (12%) is not equal or closed to 'no' (88%). To improve our model performance, we should make them in balance. So we will use the SMOTE algorithm to do it later."
   ]
  },
  {
   "cell_type": "markdown",
   "metadata": {
    "colab_type": "text",
    "id": "gX1xUp3QDMMu"
   },
   "source": [
    "#### 5. Compare the response variables in each discrete categorical explanatory variables \n",
    "-  The discrete attributes are ccs and mcs. Their range is from 1 to 6. A low value is a good score.\n",
    "-  The categorical variables contain pbcr, dmi, self, single, commdominiom, and black. They all just have 2 unique values except missing value. "
   ]
  },
  {
   "cell_type": "code",
   "execution_count": 13,
   "metadata": {
    "colab": {
     "base_uri": "https://localhost:8080/",
     "height": 649
    },
    "colab_type": "code",
    "id": "FMwErEmzDMMv",
    "outputId": "dbc64fea-0d7d-460c-b307-5a3ab0ad7633"
   },
   "outputs": [
    {
     "data": {
      "text/plain": [
       "Text(0, 0.5, 'Percentage')"
      ]
     },
     "execution_count": 13,
     "metadata": {},
     "output_type": "execute_result"
    },
    {
     "data": {
      "image/png": "[encoded data removed]",
      "text/plain": [
       "<Figure size 432x288 with 1 Axes>"
      ]
     },
     "metadata": {
      "needs_background": "light"
     },
     "output_type": "display_data"
    },
    {
     "data": {
      "image/png": "[encoded data removed]",
      "text/plain": [
       "<Figure size 432x288 with 1 Axes>"
      ]
     },
     "metadata": {
      "needs_background": "light"
     },
     "output_type": "display_data"
    }
   ],
   "source": [
    "# compare the deny difference in ccs\n",
    "sns.countplot(x='ccs',hue='deny', data=df)\n",
    "# check the deny percentage of ccs\n",
    "deny_ccs = pd.crosstab(df.ccs, df.deny)\n",
    "deny_ccs.div(deny_ccs.sum(1).astype(float), axis=0).plot(kind='bar', stacked=True)\n",
    "plt.title('Deny Percentage by ccs')\n",
    "plt.xlabel('Consumer Credict Score')\n",
    "plt.ylabel('Percentage')"
   ]
  },
  {
   "cell_type": "markdown",
   "metadata": {
    "colab_type": "text",
    "id": "fbdM-9ldDMM5"
   },
   "source": [
    "#### Findings: \n",
    ">1. From the graph above, we can see there is an outlier(2.1163). According to domain knowledge, the consumer credit score should be an integer. So we will check it out and delete this row.\n",
    "2. The number of mortgage application deny is higher when consumer credit scores are lower (1 or 2) and higher (5 or 6). The middle class of consumer credit scores (3 or 4) has low numbers of mortgage application pass, especially have 4 consumer credit scores.\n",
    "3. The lower consumer credit scores, the higher the number of mortgage applications passes, especially at low level (1 or 2) ccs. The other number of ccs may consider others' influence, so they do not fix this rule.\n"
   ]
  },
  {
   "cell_type": "code",
   "execution_count": 14,
   "metadata": {
    "colab": {
     "base_uri": "https://localhost:8080/",
     "height": 79
    },
    "colab_type": "code",
    "id": "tv88-LzuDMMz",
    "outputId": "9ce5e630-8417-4aed-ce50-6aac12d7c1d6"
   },
   "outputs": [
    {
     "data": {
      "text/html": [
       "<div>\n",
       "<style scoped>\n",
       "    .dataframe tbody tr th:only-of-type {\n",
       "        vertical-align: middle;\n",
       "    }\n",
       "\n",
       "    .dataframe tbody tr th {\n",
       "        vertical-align: top;\n",
       "    }\n",
       "\n",
       "    .dataframe thead th {\n",
       "        text-align: right;\n",
       "    }\n",
       "</style>\n",
       "<table border=\"1\" class=\"dataframe\">\n",
       "  <thead>\n",
       "    <tr style=\"text-align: right;\">\n",
       "      <th></th>\n",
       "      <th>dir</th>\n",
       "      <th>hir</th>\n",
       "      <th>lvr</th>\n",
       "      <th>ccs</th>\n",
       "      <th>mcs</th>\n",
       "      <th>pbcr</th>\n",
       "      <th>dmi</th>\n",
       "      <th>self</th>\n",
       "      <th>single</th>\n",
       "      <th>uria</th>\n",
       "      <th>comdominiom</th>\n",
       "      <th>black</th>\n",
       "      <th>deny</th>\n",
       "    </tr>\n",
       "  </thead>\n",
       "  <tbody>\n",
       "    <tr>\n",
       "      <th>2380</th>\n",
       "      <td>0.330814</td>\n",
       "      <td>0.255346</td>\n",
       "      <td>0.700783</td>\n",
       "      <td>2.116387</td>\n",
       "      <td>1.721008</td>\n",
       "      <td>NaN</td>\n",
       "      <td>no</td>\n",
       "      <td>NaN</td>\n",
       "      <td>yes</td>\n",
       "      <td>3.774496</td>\n",
       "      <td>0</td>\n",
       "      <td>no</td>\n",
       "      <td>no</td>\n",
       "    </tr>\n",
       "  </tbody>\n",
       "</table>\n",
       "</div>"
      ],
      "text/plain": [
       "           dir       hir       lvr       ccs       mcs pbcr dmi self single  \\\n",
       "2380  0.330814  0.255346  0.700783  2.116387  1.721008  NaN  no  NaN    yes   \n",
       "\n",
       "          uria  comdominiom black deny  \n",
       "2380  3.774496            0    no   no  "
      ]
     },
     "execution_count": 14,
     "metadata": {},
     "output_type": "execute_result"
    }
   ],
   "source": [
    "outlier_ccs = df[df['ccs'].isin(['2.116386555'])]\n",
    "outlier_ccs"
   ]
  },
  {
   "cell_type": "code",
   "execution_count": 15,
   "metadata": {
    "colab": {
     "base_uri": "https://localhost:8080/",
     "height": 699
    },
    "colab_type": "code",
    "id": "u42OILPrDMM6",
    "outputId": "c0522ce7-ace0-45cc-9e75-054c618a8ee0"
   },
   "outputs": [
    {
     "data": {
      "text/plain": [
       "Text(0, 0.5, 'Percentage')"
      ]
     },
     "execution_count": 15,
     "metadata": {},
     "output_type": "execute_result"
    },
    {
     "data": {
      "image/png": "[encoded data removed]",
      "text/plain": [
       "<Figure size 432x288 with 1 Axes>"
      ]
     },
     "metadata": {
      "needs_background": "light"
     },
     "output_type": "display_data"
    },
    {
     "data": {
      "image/png": "[encoded data removed]",
      "text/plain": [
       "<Figure size 432x288 with 1 Axes>"
      ]
     },
     "metadata": {
      "needs_background": "light"
     },
     "output_type": "display_data"
    }
   ],
   "source": [
    "# compare the deny difference in mcs\n",
    "sns.countplot(x='mcs',hue='deny', data=df)\n",
    "# check the deny percentage of mcs\n",
    "deny_mcs = pd.crosstab(df.mcs, df.deny)\n",
    "deny_mcs.div(deny_mcs.sum(1).astype(float), axis=0).plot(kind='bar', stacked=True)\n",
    "plt.title('Deny Percentage by mcs')\n",
    "plt.xlabel('Mortgage Credict Score')\n",
    "plt.ylabel('Percentage')"
   ]
  },
  {
   "cell_type": "markdown",
   "metadata": {
    "colab_type": "text",
    "id": "AO6HNQd1DMNA"
   },
   "source": [
    "#### Findings: \n",
    ">1. Similar to ccs, we should check and delete the row that mcs column has 1.7210084030000001 value.\n",
    "2. The percentage of applicants who have lower mortgage credict scores and has a higher mortgage loan pass rate.\n",
    "3. There are fewer people who have high mortgage credit scores applying for the mortgage loan. "
   ]
  },
  {
   "cell_type": "code",
   "execution_count": 16,
   "metadata": {
    "colab": {
     "base_uri": "https://localhost:8080/",
     "height": 79
    },
    "colab_type": "code",
    "id": "6S2C2icsDMM8",
    "outputId": "38acc3f6-a45e-44fd-cd29-18d8655e1a71"
   },
   "outputs": [
    {
     "data": {
      "text/html": [
       "<div>\n",
       "<style scoped>\n",
       "    .dataframe tbody tr th:only-of-type {\n",
       "        vertical-align: middle;\n",
       "    }\n",
       "\n",
       "    .dataframe tbody tr th {\n",
       "        vertical-align: top;\n",
       "    }\n",
       "\n",
       "    .dataframe thead th {\n",
       "        text-align: right;\n",
       "    }\n",
       "</style>\n",
       "<table border=\"1\" class=\"dataframe\">\n",
       "  <thead>\n",
       "    <tr style=\"text-align: right;\">\n",
       "      <th></th>\n",
       "      <th>dir</th>\n",
       "      <th>hir</th>\n",
       "      <th>lvr</th>\n",
       "      <th>ccs</th>\n",
       "      <th>mcs</th>\n",
       "      <th>pbcr</th>\n",
       "      <th>dmi</th>\n",
       "      <th>self</th>\n",
       "      <th>single</th>\n",
       "      <th>uria</th>\n",
       "      <th>comdominiom</th>\n",
       "      <th>black</th>\n",
       "      <th>deny</th>\n",
       "    </tr>\n",
       "  </thead>\n",
       "  <tbody>\n",
       "    <tr>\n",
       "      <th>2380</th>\n",
       "      <td>0.330814</td>\n",
       "      <td>0.255346</td>\n",
       "      <td>0.700783</td>\n",
       "      <td>2.116387</td>\n",
       "      <td>1.721008</td>\n",
       "      <td>NaN</td>\n",
       "      <td>no</td>\n",
       "      <td>NaN</td>\n",
       "      <td>yes</td>\n",
       "      <td>3.774496</td>\n",
       "      <td>0</td>\n",
       "      <td>no</td>\n",
       "      <td>no</td>\n",
       "    </tr>\n",
       "  </tbody>\n",
       "</table>\n",
       "</div>"
      ],
      "text/plain": [
       "           dir       hir       lvr       ccs       mcs pbcr dmi self single  \\\n",
       "2380  0.330814  0.255346  0.700783  2.116387  1.721008  NaN  no  NaN    yes   \n",
       "\n",
       "          uria  comdominiom black deny  \n",
       "2380  3.774496            0    no   no  "
      ]
     },
     "execution_count": 16,
     "metadata": {},
     "output_type": "execute_result"
    }
   ],
   "source": [
    "outlier_mcs = df[df['mcs'].isin(['1.7210084030000001'])]\n",
    "outlier_mcs"
   ]
  },
  {
   "cell_type": "code",
   "execution_count": 17,
   "metadata": {
    "colab": {
     "base_uri": "https://localhost:8080/",
     "height": 595
    },
    "colab_type": "code",
    "id": "5dIU5isLDMNB",
    "outputId": "f4365007-4837-4f47-8c90-b5263dd91a90"
   },
   "outputs": [
    {
     "data": {
      "text/plain": [
       "Text(0, 0.5, 'Percentage')"
      ]
     },
     "execution_count": 17,
     "metadata": {},
     "output_type": "execute_result"
    },
    {
     "data": {
      "image/png": "[encoded data removed]",
      "text/plain": [
       "<Figure size 432x288 with 1 Axes>"
      ]
     },
     "metadata": {
      "needs_background": "light"
     },
     "output_type": "display_data"
    },
    {
     "data": {
      "image/png": "[encoded data removed]",
      "text/plain": [
       "<Figure size 432x288 with 1 Axes>"
      ]
     },
     "metadata": {
      "needs_background": "light"
     },
     "output_type": "display_data"
    }
   ],
   "source": [
    "# compare the deny difference in pbcr\n",
    "sns.countplot(x='pbcr',hue='deny', data=df)\n",
    "# check the deny percentage of pbcr\n",
    "deny_pbcr = pd.crosstab(df.pbcr, df.deny)\n",
    "deny_pbcr.div(deny_pbcr.sum(1).astype(float), axis=0).plot(kind='bar', stacked=True)\n",
    "plt.title('Deny Percentage by pbcr')\n",
    "plt.xlabel('pbcr')\n",
    "plt.ylabel('Percentage')"
   ]
  },
  {
   "cell_type": "markdown",
   "metadata": {
    "colab_type": "text",
    "id": "a1clBuOWDMNG"
   },
   "source": [
    "#### Findings: \n",
    ">1. Most people who do not have a public bad credit record would apply for a mortgage loan. And they have a high probability to get the mortgage loan.\n",
    "2. For people who have a public credit record, they almost have the same number of mortgage applications deny and pass. \n",
    "3. The percentage of applicants who do noy have public bad record and has a higher mortgage loan pass rate."
   ]
  },
  {
   "cell_type": "code",
   "execution_count": 18,
   "metadata": {
    "colab": {
     "base_uri": "https://localhost:8080/",
     "height": 595
    },
    "colab_type": "code",
    "id": "JBbqB7fnDMNG",
    "outputId": "00d56121-944c-43a6-a664-179c54d1751e"
   },
   "outputs": [
    {
     "data": {
      "text/plain": [
       "Text(0, 0.5, 'Percentage')"
      ]
     },
     "execution_count": 18,
     "metadata": {},
     "output_type": "execute_result"
    },
    {
     "data": {
      "image/png": "[encoded data removed]",
      "text/plain": [
       "<Figure size 432x288 with 1 Axes>"
      ]
     },
     "metadata": {
      "needs_background": "light"
     },
     "output_type": "display_data"
    },
    {
     "data": {
      "image/png": "[encoded data removed]",
      "text/plain": [
       "<Figure size 432x288 with 1 Axes>"
      ]
     },
     "metadata": {
      "needs_background": "light"
     },
     "output_type": "display_data"
    }
   ],
   "source": [
    "# compare the deny difference in dmi\n",
    "sns.countplot(x='dmi',hue='deny', data=df)\n",
    "# check the deny percentage of dmi\n",
    "deny_dmi = pd.crosstab(df.dmi, df.deny)\n",
    "deny_dmi.div(deny_dmi.sum(1).astype(float), axis=0).plot(kind='bar', stacked=True)\n",
    "plt.title('Deny Percentage by dmi')\n",
    "plt.xlabel('dmi')\n",
    "plt.ylabel('Percentage')"
   ]
  },
  {
   "cell_type": "markdown",
   "metadata": {
    "colab_type": "text",
    "id": "tFf_xbLhDMNK"
   },
   "source": [
    "#### Findings: \n",
    ">1. Almost every applicant who reject mortgage insurance does not get the mortgage applications to pass.The percentage of applicants who refuse mortgage insurance and has a higher mortgage loan pass rate.\n",
    "2. Most applicants who accept mortgage insurance are passed the mortgage applications."
   ]
  },
  {
   "cell_type": "code",
   "execution_count": 19,
   "metadata": {
    "colab": {
     "base_uri": "https://localhost:8080/",
     "height": 595
    },
    "colab_type": "code",
    "id": "aNIZpDWfDMNL",
    "outputId": "15c7ba68-a694-4e25-adb7-f8f2f08dffbb"
   },
   "outputs": [
    {
     "data": {
      "text/plain": [
       "Text(0, 0.5, 'Percentage')"
      ]
     },
     "execution_count": 19,
     "metadata": {},
     "output_type": "execute_result"
    },
    {
     "data": {
      "image/png": "[encoded data removed]",
      "text/plain": [
       "<Figure size 432x288 with 1 Axes>"
      ]
     },
     "metadata": {
      "needs_background": "light"
     },
     "output_type": "display_data"
    },
    {
     "data": {
      "image/png": "[encoded data removed]",
      "text/plain": [
       "<Figure size 432x288 with 1 Axes>"
      ]
     },
     "metadata": {
      "needs_background": "light"
     },
     "output_type": "display_data"
    }
   ],
   "source": [
    "# compare the deny difference in self\n",
    "sns.countplot(x='self',hue='deny', data=df)\n",
    "# check the deny percentage of self\n",
    "deny_self = pd.crosstab(df.self, df.deny)\n",
    "deny_self.div(deny_self.sum(1).astype(float), axis=0).plot(kind='bar', stacked=True)\n",
    "plt.title('Deny Percentage by self')\n",
    "plt.xlabel('self-employed')\n",
    "plt.ylabel('Percentage')"
   ]
  },
  {
   "cell_type": "markdown",
   "metadata": {
    "colab_type": "text",
    "id": "YzMsQTo9DMNP"
   },
   "source": [
    "#### Findings: \n",
    ">1. Most applicants who are not self-employed are passed the mortgage applications.\n",
    "2. Most applicants who want to apply for a mortgage loan are not self-employed.\n",
    "3. The percentage of applicants who are not self-employed and has a higher mortgage loan pass rate."
   ]
  },
  {
   "cell_type": "code",
   "execution_count": 20,
   "metadata": {
    "colab": {
     "base_uri": "https://localhost:8080/",
     "height": 595
    },
    "colab_type": "code",
    "id": "ewGNbchNDMNQ",
    "outputId": "e2c877d6-8a1d-4033-f24f-dc033d2ceee1"
   },
   "outputs": [
    {
     "data": {
      "text/plain": [
       "Text(0, 0.5, 'Percentage')"
      ]
     },
     "execution_count": 20,
     "metadata": {},
     "output_type": "execute_result"
    },
    {
     "data": {
      "image/png": "[encoded data removed]",
      "text/plain": [
       "<Figure size 432x288 with 1 Axes>"
      ]
     },
     "metadata": {
      "needs_background": "light"
     },
     "output_type": "display_data"
    },
    {
     "data": {
      "image/png": "[encoded data removed]",
      "text/plain": [
       "<Figure size 432x288 with 1 Axes>"
      ]
     },
     "metadata": {
      "needs_background": "light"
     },
     "output_type": "display_data"
    }
   ],
   "source": [
    "# compare the deny difference in single\n",
    "sns.countplot(x='single',hue='deny', data=df)\n",
    "# check the deny percentage of single\n",
    "deny_single = pd.crosstab(df.single, df.deny)\n",
    "deny_single.div(deny_single.sum(1).astype(float), axis=0).plot(kind='bar', stacked=True)\n",
    "plt.title('Deny Percentage by Single')\n",
    "plt.xlabel('Single')\n",
    "plt.ylabel('Percentage')"
   ]
  },
  {
   "cell_type": "markdown",
   "metadata": {
    "colab_type": "text",
    "id": "tRoe3MxrDMNT"
   },
   "source": [
    "#### Findings: \n",
    ">1. Most, not single applicants would like to apply for a mortgage loan. \n",
    "2. The number of mortgage loans denies for single applicants is almost the same not single. Consider the total applicants of single is more than not single applicants, single applicants have higher mortgage application deny rate.\n",
    "3. The percentage of applicants who are not single and has a higher mortgage loan pass rate."
   ]
  },
  {
   "cell_type": "code",
   "execution_count": 21,
   "metadata": {
    "colab": {
     "base_uri": "https://localhost:8080/",
     "height": 583
    },
    "colab_type": "code",
    "id": "xEarBsZMDMNT",
    "outputId": "d4417a92-909d-49a8-cb65-cb32fd033779"
   },
   "outputs": [
    {
     "data": {
      "text/plain": [
       "Text(0, 0.5, 'Percentage')"
      ]
     },
     "execution_count": 21,
     "metadata": {},
     "output_type": "execute_result"
    },
    {
     "data": {
      "image/png": "[encoded data removed]",
      "text/plain": [
       "<Figure size 432x288 with 1 Axes>"
      ]
     },
     "metadata": {
      "needs_background": "light"
     },
     "output_type": "display_data"
    },
    {
     "data": {
      "image/png": "[encoded data removed]",
      "text/plain": [
       "<Figure size 432x288 with 1 Axes>"
      ]
     },
     "metadata": {
      "needs_background": "light"
     },
     "output_type": "display_data"
    }
   ],
   "source": [
    "# compare the deny difference in comdominiom\n",
    "sns.countplot(x='comdominiom',hue='deny', data=df)\n",
    "# check the deny percentage of comdominiom\n",
    "deny_comdominiom = pd.crosstab(df.comdominiom, df.deny)\n",
    "deny_comdominiom.div(deny_comdominiom.sum(1).astype(float), axis=0).plot(kind='bar', stacked=True)\n",
    "plt.title('Deny Percentage by Comdominiom')\n",
    "plt.xlabel('Comdominiom')\n",
    "plt.ylabel('Percentage')"
   ]
  },
  {
   "cell_type": "markdown",
   "metadata": {
    "colab_type": "text",
    "id": "Ec926amFDMNW"
   },
   "source": [
    "#### Findings: \n",
    ">1. Most applicants who own house types are not comdominiom.\n",
    "2. The percentage of applicants who own the house types is not comdominiom and has a higher mortgage loan pass rate."
   ]
  },
  {
   "cell_type": "code",
   "execution_count": 22,
   "metadata": {
    "colab": {
     "base_uri": "https://localhost:8080/",
     "height": 595
    },
    "colab_type": "code",
    "id": "q5ZwZcF3DMNW",
    "outputId": "b1850df9-d50b-44a5-9243-16527c61df09"
   },
   "outputs": [
    {
     "data": {
      "text/plain": [
       "Text(0, 0.5, 'Percentage')"
      ]
     },
     "execution_count": 22,
     "metadata": {},
     "output_type": "execute_result"
    },
    {
     "data": {
      "image/png": "[encoded data removed]",
      "text/plain": [
       "<Figure size 432x288 with 1 Axes>"
      ]
     },
     "metadata": {
      "needs_background": "light"
     },
     "output_type": "display_data"
    },
    {
     "data": {
      "image/png": "[encoded data removed]",
      "text/plain": [
       "<Figure size 432x288 with 1 Axes>"
      ]
     },
     "metadata": {
      "needs_background": "light"
     },
     "output_type": "display_data"
    }
   ],
   "source": [
    "# compare the deny difference in black\n",
    "sns.countplot(x='black',hue='deny', data=df)\n",
    "# check the deny percentage of black\n",
    "deny_black = pd.crosstab(df.black, df.deny)\n",
    "deny_black.div(deny_black.sum(1).astype(float), axis=0).plot(kind='bar', stacked=True)\n",
    "plt.title('Deny Percentage by Black')\n",
    "plt.xlabel('Black')\n",
    "plt.ylabel('Percentage')"
   ]
  },
  {
   "cell_type": "markdown",
   "metadata": {
    "colab_type": "text",
    "id": "TUerKGw7DMNZ"
   },
   "source": [
    "#### Findings: \n",
    ">1. There are fewer black people apply for the mortgage loan.\n",
    "3. The percentage of applicants who are not black have a higher mortgage loan pass rate."
   ]
  },
  {
   "cell_type": "markdown",
   "metadata": {
    "colab_type": "text",
    "id": "enLyAaeEDMNa"
   },
   "source": [
    "#### 6. Check Outliers\n",
    "   We use the standdard deviation to define the outliers whose Z scores are more than 3 (99.7% confident interval)."
   ]
  },
  {
   "cell_type": "code",
   "execution_count": 23,
   "metadata": {
    "colab": {},
    "colab_type": "code",
    "id": "0rYUZeWwDMNa"
   },
   "outputs": [],
   "source": [
    "def remove_outliers(col_name):\n",
    "    \"\"\"\n",
    "    Removing the outliers that are 2.5 standard deviations away from the mean.\n",
    "    \"\"\"\n",
    "    return df[np.abs(df[col_name] - df[col_name].mean() ) > (3 * df[col_name].std() )]"
   ]
  },
  {
   "cell_type": "code",
   "execution_count": 24,
   "metadata": {
    "colab": {
     "base_uri": "https://localhost:8080/",
     "height": 69
    },
    "colab_type": "code",
    "id": "PYYdCsQ7DMNd",
    "outputId": "d538d45b-4fbe-426d-e8d0-fda5eabe2aca"
   },
   "outputs": [
    {
     "name": "stdout",
     "output_type": "stream",
     "text": [
      "min: 0.0\n",
      "max 3.0\n",
      "number of outliers: 20\n"
     ]
    }
   ],
   "source": [
    "# find all rows that have dir values whose values are > 2.5 standard deviations from the mean of data in that column\n",
    "dir_outliers = remove_outliers('dir')\n",
    "print('min:',dir_outliers.dir.min())\n",
    "print('max',dir_outliers.dir.max())\n",
    "print('number of outliers:',dir_outliers.shape[0])"
   ]
  },
  {
   "cell_type": "code",
   "execution_count": 25,
   "metadata": {
    "colab": {
     "base_uri": "https://localhost:8080/",
     "height": 69
    },
    "colab_type": "code",
    "id": "Vf-n6e88DMNg",
    "outputId": "8e7262e0-7433-4a06-cd30-e300e0c2c5b8"
   },
   "outputs": [
    {
     "name": "stdout",
     "output_type": "stream",
     "text": [
      "min: 0.02\n",
      "max 1.95\n",
      "number of outliers: 32\n"
     ]
    }
   ],
   "source": [
    "# find all rows that have lvr values whose values are > 2.5 standard deviations from the mean of data in that column\n",
    "lvr_outliers = remove_outliers('lvr')\n",
    "print('min:',lvr_outliers.lvr.min())\n",
    "print('max',lvr_outliers.lvr.max())\n",
    "print('number of outliers:', lvr_outliers.shape[0])"
   ]
  },
  {
   "cell_type": "code",
   "execution_count": 26,
   "metadata": {
    "colab": {
     "base_uri": "https://localhost:8080/",
     "height": 69
    },
    "colab_type": "code",
    "id": "r52RSDrJDMNj",
    "outputId": "c140c9f0-9851-4854-ea89-b37654758a86"
   },
   "outputs": [
    {
     "name": "stdout",
     "output_type": "stream",
     "text": [
      "min: 0.58\n",
      "max 3.0\n",
      "number of outliers: 12\n"
     ]
    }
   ],
   "source": [
    "# find all rows that have hir values whose values are > 2.5 standard deviations from the mean of data in that column\n",
    "hir_outliers = remove_outliers('hir')\n",
    "print('min:',hir_outliers.hir.min())\n",
    "print('max',hir_outliers.hir.max())\n",
    "print('number of outliers:',hir_outliers.shape[0])"
   ]
  },
  {
   "cell_type": "code",
   "execution_count": 27,
   "metadata": {
    "colab": {
     "base_uri": "https://localhost:8080/",
     "height": 69
    },
    "colab_type": "code",
    "id": "YHx_W4FqDMNn",
    "outputId": "dce81ee4-de46-4a44-b471-0cd3b6f902c3"
   },
   "outputs": [
    {
     "name": "stdout",
     "output_type": "stream",
     "text": [
      "min: nan\n",
      "max nan\n",
      "number of outliers: 0\n"
     ]
    }
   ],
   "source": [
    "# find all rows that have ccs values whose values are > 2.5 standard deviations from the mean of data in that column\n",
    "ccs_outliers = remove_outliers('ccs')\n",
    "print('min:',ccs_outliers.ccs.min())\n",
    "print('max',ccs_outliers.ccs.max())\n",
    "print('number of outliers:',ccs_outliers.shape[0])"
   ]
  },
  {
   "cell_type": "code",
   "execution_count": 28,
   "metadata": {
    "colab": {
     "base_uri": "https://localhost:8080/",
     "height": 69
    },
    "colab_type": "code",
    "id": "3kZBRor0DMNp",
    "outputId": "bd1de844-b927-4f0b-83bb-bf2a0c3e771f"
   },
   "outputs": [
    {
     "name": "stdout",
     "output_type": "stream",
     "text": [
      "min: 4.0\n",
      "max 4.0\n",
      "number of outliers: 21\n"
     ]
    }
   ],
   "source": [
    "# find all rows that have mcs values whose values are > 2.5 standard deviations from the mean of data in that column\n",
    "mcs_outliers = remove_outliers('mcs')\n",
    "print('min:',mcs_outliers.mcs.min())\n",
    "print('max',mcs_outliers.mcs.max())\n",
    "print('number of outliers:',mcs_outliers.shape[0])"
   ]
  },
  {
   "cell_type": "code",
   "execution_count": 29,
   "metadata": {
    "colab": {
     "base_uri": "https://localhost:8080/",
     "height": 69
    },
    "colab_type": "code",
    "id": "c6BQP2n8DMNv",
    "outputId": "01cc8db5-4ebf-4aeb-ab78-c0090996672a"
   },
   "outputs": [
    {
     "name": "stdout",
     "output_type": "stream",
     "text": [
      "min: 10.60000038\n",
      "max 10.60000038\n",
      "number of outliers: 159\n"
     ]
    }
   ],
   "source": [
    "# find all rows that have uria values whose values are > 2.5 standard deviations from the mean of data in that column\n",
    "uria_outliers = remove_outliers('uria')\n",
    "print('min:',uria_outliers.uria.min())\n",
    "print('max',uria_outliers.uria.max())\n",
    "print('number of outliers:',uria_outliers.shape[0])"
   ]
  },
  {
   "cell_type": "markdown",
   "metadata": {
    "colab_type": "text",
    "id": "O8RdEB7gDMNx"
   },
   "source": [
    "Although there some outliers in the dataset, we will keep them. Because according to the domain knowledge, in the real world these outliers may still happen. For example, some people may have a very bad Debt-to-Income Ratio, so we think all outliers in each column are meaningful. \n",
    "\n",
    "Second, since our dataset is not enough large and the total outliers are about 250, to ensure the accuracy and integrity of the data, we decide that do not remove these outliers. "
   ]
  },
  {
   "cell_type": "markdown",
   "metadata": {
    "colab_type": "text",
    "id": "iLJVasHJDMNy"
   },
   "source": [
    "#### 7. Check Duplicated data"
   ]
  },
  {
   "cell_type": "code",
   "execution_count": 30,
   "metadata": {
    "colab": {
     "base_uri": "https://localhost:8080/",
     "height": 87
    },
    "colab_type": "code",
    "id": "YsNRKQfdDMNy",
    "outputId": "f5afd74b-6a39-4e1e-c442-ad19d8e2b0ab"
   },
   "outputs": [
    {
     "name": "stdout",
     "output_type": "stream",
     "text": [
      "Duplicate Rows except first occurrence based on all columns are :\n",
      "Empty DataFrame\n",
      "Columns: [Unnamed: 0, dir, hir, lvr, ccs, mcs, pbcr, dmi, self, single, uria, comdominiom, black, deny]\n",
      "Index: []\n"
     ]
    }
   ],
   "source": [
    "# Select duplicate rows except first occurrence based on all columns\n",
    "duplicateRowsDF = data[data.duplicated()]\n",
    "print(\"Duplicate Rows except first occurrence based on all columns are :\")\n",
    "print(duplicateRowsDF)"
   ]
  },
  {
   "cell_type": "markdown",
   "metadata": {
    "colab_type": "text",
    "id": "gpXX2z9kDMN0"
   },
   "source": [
    "There is no duplicated row base on Unnamed: 0 column which is the id of each applicant."
   ]
  },
  {
   "cell_type": "markdown",
   "metadata": {
    "colab_type": "text",
    "id": "jUB_8zD3DMN1"
   },
   "source": [
    "#### 8. Check Correlation "
   ]
  },
  {
   "cell_type": "code",
   "execution_count": 31,
   "metadata": {
    "colab": {
     "base_uri": "https://localhost:8080/",
     "height": 645
    },
    "colab_type": "code",
    "id": "3afLTX8wDMN1",
    "outputId": "dee5d55c-3ba5-4d2e-9ed5-8746595b3e49"
   },
   "outputs": [
    {
     "data": {
      "text/plain": [
       "Text(0.5, 1.0, 'Figure 5: Correlations')"
      ]
     },
     "execution_count": 31,
     "metadata": {},
     "output_type": "execute_result"
    },
    {
     "data": {
      "image/png": "[encoded data removed]",
      "text/plain": [
       "<Figure size 720x720 with 2 Axes>"
      ]
     },
     "metadata": {
      "needs_background": "light"
     },
     "output_type": "display_data"
    }
   ],
   "source": [
    "# Finding the correlation bewteen the Features.\n",
    "plt.figure(figsize=(10,10))\n",
    "\n",
    "corr = df.corr()# plot the heatmap\n",
    "sns.heatmap(corr, xticklabels=corr.columns, yticklabels=corr.columns, \n",
    "            annot=True, cmap=sns.diverging_palette(220, 20, as_cmap=True))\n",
    "plt.title('Figure 5: Correlations')"
   ]
  },
  {
   "cell_type": "markdown",
   "metadata": {
    "colab_type": "text",
    "id": "GknXSzWNDMN5"
   },
   "source": [
    "#### Findings: \n",
    ">1. There are strong relationship between hir and dir. \n",
    "2. There are weak relationships (correlationno more than 0.2) in three groups which are between dir and lvr, mcs and ccs, mcs and lvr. \n",
    "3. There are no obvious relationship in dirrferent groups."
   ]
  },
  {
   "cell_type": "markdown",
   "metadata": {
    "colab_type": "text",
    "id": "yLfrCfjhDMN6"
   },
   "source": [
    "***\n",
    "### Step 3: Data Cleaning\n",
    "1. Drop the missing value row and outliers cleaning\n",
    "2. Duplicated data Cleaning - There are no duplicated data, we do not need to clean it.\n",
    "3. Rerun EDA"
   ]
  },
  {
   "cell_type": "markdown",
   "metadata": {
    "colab_type": "text",
    "id": "jLhzEZzODMN6"
   },
   "source": [
    "#### 1. Drop the missing value row\n",
    "Consider there is only one row that contains missing value and the percentage of total dataset is less than 1%, we decide to drop the row. Also, the outlier of ccs and mcs is in the same row."
   ]
  },
  {
   "cell_type": "code",
   "execution_count": 32,
   "metadata": {
    "colab": {
     "base_uri": "https://localhost:8080/",
     "height": 79
    },
    "colab_type": "code",
    "id": "rA7LuwogDMN7",
    "outputId": "285ed5ba-d9ab-4084-fc31-d857f3e443ba"
   },
   "outputs": [
    {
     "data": {
      "text/html": [
       "<div>\n",
       "<style scoped>\n",
       "    .dataframe tbody tr th:only-of-type {\n",
       "        vertical-align: middle;\n",
       "    }\n",
       "\n",
       "    .dataframe tbody tr th {\n",
       "        vertical-align: top;\n",
       "    }\n",
       "\n",
       "    .dataframe thead th {\n",
       "        text-align: right;\n",
       "    }\n",
       "</style>\n",
       "<table border=\"1\" class=\"dataframe\">\n",
       "  <thead>\n",
       "    <tr style=\"text-align: right;\">\n",
       "      <th></th>\n",
       "      <th>dir</th>\n",
       "      <th>hir</th>\n",
       "      <th>lvr</th>\n",
       "      <th>ccs</th>\n",
       "      <th>mcs</th>\n",
       "      <th>pbcr</th>\n",
       "      <th>dmi</th>\n",
       "      <th>self</th>\n",
       "      <th>single</th>\n",
       "      <th>uria</th>\n",
       "      <th>comdominiom</th>\n",
       "      <th>black</th>\n",
       "      <th>deny</th>\n",
       "    </tr>\n",
       "  </thead>\n",
       "  <tbody>\n",
       "    <tr>\n",
       "      <th>2380</th>\n",
       "      <td>0.330814</td>\n",
       "      <td>0.255346</td>\n",
       "      <td>0.700783</td>\n",
       "      <td>2.116387</td>\n",
       "      <td>1.721008</td>\n",
       "      <td>NaN</td>\n",
       "      <td>no</td>\n",
       "      <td>NaN</td>\n",
       "      <td>yes</td>\n",
       "      <td>3.774496</td>\n",
       "      <td>0</td>\n",
       "      <td>no</td>\n",
       "      <td>no</td>\n",
       "    </tr>\n",
       "  </tbody>\n",
       "</table>\n",
       "</div>"
      ],
      "text/plain": [
       "           dir       hir       lvr       ccs       mcs pbcr dmi self single  \\\n",
       "2380  0.330814  0.255346  0.700783  2.116387  1.721008  NaN  no  NaN    yes   \n",
       "\n",
       "          uria  comdominiom black deny  \n",
       "2380  3.774496            0    no   no  "
      ]
     },
     "execution_count": 32,
     "metadata": {},
     "output_type": "execute_result"
    }
   ],
   "source": [
    "# extract the rows that contain missing value\n",
    "# this row also contains the outlier value 2.1163\n",
    "\n",
    "null_data = df[df.isnull().any(axis=1)]\n",
    "null_data"
   ]
  },
  {
   "cell_type": "code",
   "execution_count": 33,
   "metadata": {
    "colab": {
     "base_uri": "https://localhost:8080/",
     "height": 260
    },
    "colab_type": "code",
    "id": "tcp_GreSDMN_",
    "outputId": "ec8f2b7d-b405-4c2c-c30f-96a193974e4f"
   },
   "outputs": [
    {
     "data": {
      "text/plain": [
       "dir            0\n",
       "hir            0\n",
       "lvr            0\n",
       "ccs            0\n",
       "mcs            0\n",
       "pbcr           0\n",
       "dmi            0\n",
       "self           0\n",
       "single         0\n",
       "uria           0\n",
       "comdominiom    0\n",
       "black          0\n",
       "deny           0\n",
       "dtype: int64"
      ]
     },
     "execution_count": 33,
     "metadata": {},
     "output_type": "execute_result"
    }
   ],
   "source": [
    "# drop the missing value row\n",
    "df1 = df.dropna()\n",
    "# Show missing value\n",
    "miss = df1.isnull().sum()\n",
    "#miss = miss[miss > 0]\n",
    "#miss.sort_values(inplace=True)\n",
    "miss"
   ]
  },
  {
   "cell_type": "markdown",
   "metadata": {
    "colab_type": "text",
    "id": "Q7yx5dSKDMOE"
   },
   "source": [
    "#### Findings:\n",
    "\n",
    "1. There are 7 explanatory variables have missing values, including normalized_losses, num_of_doors, bore, storke, horsepower, peak_rpm, and price.\n",
    "2. The attributes of normalized_losses, bore, storke, and price  have approximately 20% missing values.\n",
    "3. There are 179 completed rows without any missing values."
   ]
  },
  {
   "cell_type": "code",
   "execution_count": 34,
   "metadata": {
    "colab": {
     "base_uri": "https://localhost:8080/",
     "height": 621
    },
    "colab_type": "code",
    "id": "ciKVMWvuDMOF",
    "outputId": "e423a167-bc08-4759-c3f6-022d9a37559e"
   },
   "outputs": [
    {
     "data": {
      "text/plain": [
       "Text(0.5, 1.0, ' Percents of nonmissing data with missingno')"
      ]
     },
     "execution_count": 34,
     "metadata": {},
     "output_type": "execute_result"
    },
    {
     "data": {
      "image/png": "[encoded data removed]",
      "text/plain": [
       "<Figure size 1728x720 with 3 Axes>"
      ]
     },
     "metadata": {
      "needs_background": "light"
     },
     "output_type": "display_data"
    }
   ],
   "source": [
    "# recreate the bar charts to show percents of nonmissing databy missingo function\n",
    "msno.bar(df1)\n",
    "plt.title(' Percents of nonmissing data with missingno',fontsize=20)"
   ]
  },
  {
   "cell_type": "markdown",
   "metadata": {
    "colab_type": "text",
    "id": "d1ms788IDMOI"
   },
   "source": [
    "#### 3. Rerun EDA"
   ]
  },
  {
   "cell_type": "code",
   "execution_count": 35,
   "metadata": {
    "colab": {
     "base_uri": "https://localhost:8080/",
     "height": 607
    },
    "colab_type": "code",
    "id": "bEJqRlycDMOK",
    "outputId": "073b33a7-4a75-4053-d1e9-6173663dd65e"
   },
   "outputs": [
    {
     "data": {
      "image/png": "[encoded data removed]",
      "text/plain": [
       "<Figure size 1440x720 with 6 Axes>"
      ]
     },
     "metadata": {
      "needs_background": "light"
     },
     "output_type": "display_data"
    }
   ],
   "source": [
    "# create the bar chart for each categorical columns\n",
    "fig, ax = plt.subplots(2, 3, figsize=(20, 10))\n",
    "for variable, subplot in zip(categorical_columns, ax.flatten()):\n",
    "    sns.countplot(df1[variable], ax=subplot)\n",
    "    for label in subplot.get_xticklabels():\n",
    "        label.set_rotation(90)"
   ]
  },
  {
   "cell_type": "markdown",
   "metadata": {
    "colab_type": "text",
    "id": "CrAj2h0GDMOQ"
   },
   "source": [
    "#### Findings: \n",
    ">1. From this visualization, we can obviously see that the compression_ration, engine_size, horsepower, normalized_losses,price and wheel_base variables are strongly right skewed.\n",
    "2. Since the scales of the numerical variables are different, we'll not remove outliers here."
   ]
  },
  {
   "cell_type": "markdown",
   "metadata": {},
   "source": [
    "#### 4. Create dummy for categorical variables\n",
    "Create dummy indicators for the categorical variables(include the \"deny\" response variable) - African_American, condo, single, self, dmi, pbcr, and deny. For example, the new dummy variable 'IsAfricanAmerican' contains a '1' if the 'African_American' value for an applicant is 'yes' and a '0' otherwise."
   ]
  },
  {
   "cell_type": "code",
   "execution_count": 36,
   "metadata": {},
   "outputs": [
    {
     "data": {
      "text/html": [
       "<div>\n",
       "<style scoped>\n",
       "    .dataframe tbody tr th:only-of-type {\n",
       "        vertical-align: middle;\n",
       "    }\n",
       "\n",
       "    .dataframe tbody tr th {\n",
       "        vertical-align: top;\n",
       "    }\n",
       "\n",
       "    .dataframe thead th {\n",
       "        text-align: right;\n",
       "    }\n",
       "</style>\n",
       "<table border=\"1\" class=\"dataframe\">\n",
       "  <thead>\n",
       "    <tr style=\"text-align: right;\">\n",
       "      <th></th>\n",
       "      <th>dir</th>\n",
       "      <th>hir</th>\n",
       "      <th>lvr</th>\n",
       "      <th>ccs</th>\n",
       "      <th>mcs</th>\n",
       "      <th>uria</th>\n",
       "      <th>comdominiom</th>\n",
       "      <th>pbcr_yes</th>\n",
       "      <th>dmi_yes</th>\n",
       "      <th>self_yes</th>\n",
       "      <th>single_yes</th>\n",
       "      <th>black_yes</th>\n",
       "      <th>deny_yes</th>\n",
       "    </tr>\n",
       "  </thead>\n",
       "  <tbody>\n",
       "    <tr>\n",
       "      <th>0</th>\n",
       "      <td>0.221</td>\n",
       "      <td>0.221</td>\n",
       "      <td>0.800000</td>\n",
       "      <td>5.0</td>\n",
       "      <td>2.0</td>\n",
       "      <td>3.9</td>\n",
       "      <td>0</td>\n",
       "      <td>0</td>\n",
       "      <td>0</td>\n",
       "      <td>0</td>\n",
       "      <td>0</td>\n",
       "      <td>0</td>\n",
       "      <td>0</td>\n",
       "    </tr>\n",
       "    <tr>\n",
       "      <th>1</th>\n",
       "      <td>0.265</td>\n",
       "      <td>0.265</td>\n",
       "      <td>0.921875</td>\n",
       "      <td>2.0</td>\n",
       "      <td>2.0</td>\n",
       "      <td>3.2</td>\n",
       "      <td>0</td>\n",
       "      <td>0</td>\n",
       "      <td>0</td>\n",
       "      <td>0</td>\n",
       "      <td>1</td>\n",
       "      <td>0</td>\n",
       "      <td>0</td>\n",
       "    </tr>\n",
       "    <tr>\n",
       "      <th>2</th>\n",
       "      <td>0.372</td>\n",
       "      <td>0.248</td>\n",
       "      <td>0.920398</td>\n",
       "      <td>1.0</td>\n",
       "      <td>2.0</td>\n",
       "      <td>3.2</td>\n",
       "      <td>0</td>\n",
       "      <td>0</td>\n",
       "      <td>0</td>\n",
       "      <td>0</td>\n",
       "      <td>0</td>\n",
       "      <td>0</td>\n",
       "      <td>0</td>\n",
       "    </tr>\n",
       "    <tr>\n",
       "      <th>3</th>\n",
       "      <td>0.320</td>\n",
       "      <td>0.250</td>\n",
       "      <td>0.860465</td>\n",
       "      <td>1.0</td>\n",
       "      <td>2.0</td>\n",
       "      <td>4.3</td>\n",
       "      <td>0</td>\n",
       "      <td>0</td>\n",
       "      <td>0</td>\n",
       "      <td>0</td>\n",
       "      <td>0</td>\n",
       "      <td>0</td>\n",
       "      <td>0</td>\n",
       "    </tr>\n",
       "    <tr>\n",
       "      <th>4</th>\n",
       "      <td>0.360</td>\n",
       "      <td>0.350</td>\n",
       "      <td>0.600000</td>\n",
       "      <td>1.0</td>\n",
       "      <td>1.0</td>\n",
       "      <td>3.2</td>\n",
       "      <td>0</td>\n",
       "      <td>0</td>\n",
       "      <td>0</td>\n",
       "      <td>0</td>\n",
       "      <td>0</td>\n",
       "      <td>0</td>\n",
       "      <td>0</td>\n",
       "    </tr>\n",
       "  </tbody>\n",
       "</table>\n",
       "</div>"
      ],
      "text/plain": [
       "     dir    hir       lvr  ccs  mcs  uria  comdominiom  pbcr_yes  dmi_yes  \\\n",
       "0  0.221  0.221  0.800000  5.0  2.0   3.9            0         0        0   \n",
       "1  0.265  0.265  0.921875  2.0  2.0   3.2            0         0        0   \n",
       "2  0.372  0.248  0.920398  1.0  2.0   3.2            0         0        0   \n",
       "3  0.320  0.250  0.860465  1.0  2.0   4.3            0         0        0   \n",
       "4  0.360  0.350  0.600000  1.0  1.0   3.2            0         0        0   \n",
       "\n",
       "   self_yes  single_yes  black_yes  deny_yes  \n",
       "0         0           0          0         0  \n",
       "1         0           1          0         0  \n",
       "2         0           0          0         0  \n",
       "3         0           0          0         0  \n",
       "4         0           0          0         0  "
      ]
     },
     "execution_count": 36,
     "metadata": {},
     "output_type": "execute_result"
    }
   ],
   "source": [
    "# create dummy for the columns pbcr,dmi,self,single,black,and deny\n",
    "df1= pd.get_dummies(df,columns=['pbcr','dmi','self','single','black','deny'], drop_first=True)\n",
    "df1.head()"
   ]
  },
  {
   "cell_type": "code",
   "execution_count": 37,
   "metadata": {
    "colab": {
     "base_uri": "https://localhost:8080/",
     "height": 645
    },
    "colab_type": "code",
    "id": "IhAVdsBvDMOR",
    "outputId": "ba2a0df3-10aa-42dc-b8e4-df963a46cba8"
   },
   "outputs": [
    {
     "data": {
      "text/plain": [
       "Text(0.5, 1.0, 'Figure 5: Correlations')"
      ]
     },
     "execution_count": 37,
     "metadata": {},
     "output_type": "execute_result"
    },
    {
     "data": {
      "image/png": "[encoded data removed]",
      "text/plain": [
       "<Figure size 720x720 with 2 Axes>"
      ]
     },
     "metadata": {
      "needs_background": "light"
     },
     "output_type": "display_data"
    }
   ],
   "source": [
    "# rerun the correlation bewteen the Features.\n",
    "plt.figure(figsize=(10,10))\n",
    "\n",
    "corr = df1.corr()# plot the heatmap\n",
    "sns.heatmap(corr, xticklabels=corr.columns, yticklabels=corr.columns, \n",
    "            annot=True, cmap=sns.diverging_palette(220, 20, as_cmap=True))\n",
    "plt.title('Figure 5: Correlations')"
   ]
  },
  {
   "cell_type": "markdown",
   "metadata": {
    "colab_type": "text",
    "id": "MCjdh8YhDMOV"
   },
   "source": [
    "1. According to the correlation, variable dir, ccs, pbcr, dmi, and black have the strongest relationships with deny even their correlations are no more than 0.36. These can be the first model exploratory variables.\n",
    "2. The correlations of variable hir, lvr, and mcs are more than 0.1 and less than 0.2. \n",
    "3. There are multicollinearity between hir and dir, we will use VIF to do further analysis to if we need to delete any of them. "
   ]
  },
  {
   "cell_type": "markdown",
   "metadata": {
    "colab_type": "text",
    "id": "HgzwtdC-DMOW"
   },
   "source": [
    "***\n",
    "### Step 4: Feature Engineering and Feature Selection\n",
    "\n",
    "For this step, we'll perform:\n",
    "   1. Split data into training and testing subsets\n",
    "   2. Scaling numerical values using Standard Scale (except dummy variables)\n",
    "   3. Use SMOTE to balance data\n",
    "   4. Perform Feature Selection by using Correlation coefficients, RFECV:\n",
    " - 4a. Detect multicollinearity by using Correlation Coefficients\n",
    " - 4b. Select features by using Recursive feature elimination with cross-validation (RFECV)"
   ]
  },
  {
   "cell_type": "markdown",
   "metadata": {},
   "source": [
    "#### 1. Split data into training and testing subsets\n",
    "\n",
    "Before doing feature selection,we'll split data into training and testing subsets by using the `train_test_split` function. The test_size=0.3 inside the function indicates the percentage of the data that should be held over for testing. It’s 70/30, 30% of the data for testing."
   ]
  },
  {
   "cell_type": "code",
   "execution_count": 38,
   "metadata": {},
   "outputs": [],
   "source": [
    "# Create X and y\n",
    "X = df1.drop(columns = \"deny_yes\")\n",
    "y = df1[['deny_yes']]"
   ]
  },
  {
   "cell_type": "code",
   "execution_count": 39,
   "metadata": {},
   "outputs": [
    {
     "name": "stdout",
     "output_type": "stream",
     "text": [
      "Training dataset shape: (1666, 12) (1666, 1)\n",
      "Testing dataset shape: (715, 12) (715, 1)\n"
     ]
    }
   ],
   "source": [
    "# evaluate the model by splitting into train and test sets\n",
    "\n",
    "# Now split the data into training and testing subsets. \n",
    "X_train, X_test, y_train, y_test = train_test_split(X, y, test_size=0.3, random_state=12)\n",
    "\n",
    "# check the results\n",
    "print('Training dataset shape:', X_train.shape, y_train.shape)\n",
    "print('Testing dataset shape:', X_test.shape, y_test.shape)"
   ]
  },
  {
   "cell_type": "markdown",
   "metadata": {
    "colab": {},
    "colab_type": "code",
    "id": "Es_d1x-NJz50"
   },
   "source": [
    "#### 2. Scaling numerical values using Standard Scale (except dummy variables)\n",
    "\n",
    "Since some variables have different scales, we'll use `StandardScaler` to remove the mean and scale the data to unit variance.\n",
    "\n",
    "Standardization is a scaling technique where the values are centered around the mean with a unit standard deviation. This means that the mean of the attribute becomes zero and the resultant distribution has a unit standard deviation.\n",
    "\n",
    "We'll use `StandardScaler` for the train dataset, then do the same to the test dataset.\n"
   ]
  },
  {
   "cell_type": "code",
   "execution_count": 40,
   "metadata": {},
   "outputs": [],
   "source": [
    "# set up numerical variables\n",
    "\n",
    "Numerical_columns=['dir', 'hir', 'lvr', 'ccs', 'mcs', 'uria']"
   ]
  },
  {
   "cell_type": "code",
   "execution_count": 41,
   "metadata": {},
   "outputs": [
    {
     "data": {
      "text/html": [
       "<div>\n",
       "<style scoped>\n",
       "    .dataframe tbody tr th:only-of-type {\n",
       "        vertical-align: middle;\n",
       "    }\n",
       "\n",
       "    .dataframe tbody tr th {\n",
       "        vertical-align: top;\n",
       "    }\n",
       "\n",
       "    .dataframe thead th {\n",
       "        text-align: right;\n",
       "    }\n",
       "</style>\n",
       "<table border=\"1\" class=\"dataframe\">\n",
       "  <thead>\n",
       "    <tr style=\"text-align: right;\">\n",
       "      <th></th>\n",
       "      <th>dir</th>\n",
       "      <th>hir</th>\n",
       "      <th>lvr</th>\n",
       "      <th>ccs</th>\n",
       "      <th>mcs</th>\n",
       "      <th>uria</th>\n",
       "      <th>comdominiom</th>\n",
       "      <th>pbcr_yes</th>\n",
       "      <th>dmi_yes</th>\n",
       "      <th>self_yes</th>\n",
       "      <th>single_yes</th>\n",
       "      <th>black_yes</th>\n",
       "    </tr>\n",
       "  </thead>\n",
       "  <tbody>\n",
       "    <tr>\n",
       "      <th>1117</th>\n",
       "      <td>-1.418060</td>\n",
       "      <td>-1.215843</td>\n",
       "      <td>-3.911159</td>\n",
       "      <td>-0.659918</td>\n",
       "      <td>0.507029</td>\n",
       "      <td>3.6</td>\n",
       "      <td>0</td>\n",
       "      <td>0</td>\n",
       "      <td>0</td>\n",
       "      <td>0</td>\n",
       "      <td>0</td>\n",
       "      <td>0</td>\n",
       "    </tr>\n",
       "    <tr>\n",
       "      <th>46</th>\n",
       "      <td>-0.547748</td>\n",
       "      <td>0.029640</td>\n",
       "      <td>0.335098</td>\n",
       "      <td>2.330898</td>\n",
       "      <td>0.507029</td>\n",
       "      <td>3.2</td>\n",
       "      <td>0</td>\n",
       "      <td>1</td>\n",
       "      <td>0</td>\n",
       "      <td>0</td>\n",
       "      <td>0</td>\n",
       "      <td>0</td>\n",
       "    </tr>\n",
       "    <tr>\n",
       "      <th>1379</th>\n",
       "      <td>0.148502</td>\n",
       "      <td>-0.449392</td>\n",
       "      <td>0.972651</td>\n",
       "      <td>-0.659918</td>\n",
       "      <td>-1.365944</td>\n",
       "      <td>3.1</td>\n",
       "      <td>1</td>\n",
       "      <td>0</td>\n",
       "      <td>0</td>\n",
       "      <td>0</td>\n",
       "      <td>1</td>\n",
       "      <td>0</td>\n",
       "    </tr>\n",
       "    <tr>\n",
       "      <th>2214</th>\n",
       "      <td>0.815161</td>\n",
       "      <td>0.405201</td>\n",
       "      <td>0.227284</td>\n",
       "      <td>-0.659918</td>\n",
       "      <td>0.507029</td>\n",
       "      <td>3.2</td>\n",
       "      <td>1</td>\n",
       "      <td>0</td>\n",
       "      <td>0</td>\n",
       "      <td>0</td>\n",
       "      <td>1</td>\n",
       "      <td>1</td>\n",
       "    </tr>\n",
       "    <tr>\n",
       "      <th>105</th>\n",
       "      <td>0.148502</td>\n",
       "      <td>0.700284</td>\n",
       "      <td>1.051681</td>\n",
       "      <td>-0.659918</td>\n",
       "      <td>0.507029</td>\n",
       "      <td>3.9</td>\n",
       "      <td>0</td>\n",
       "      <td>0</td>\n",
       "      <td>1</td>\n",
       "      <td>0</td>\n",
       "      <td>1</td>\n",
       "      <td>0</td>\n",
       "    </tr>\n",
       "  </tbody>\n",
       "</table>\n",
       "</div>"
      ],
      "text/plain": [
       "           dir       hir       lvr       ccs       mcs  uria  comdominiom  \\\n",
       "1117 -1.418060 -1.215843 -3.911159 -0.659918  0.507029   3.6            0   \n",
       "46   -0.547748  0.029640  0.335098  2.330898  0.507029   3.2            0   \n",
       "1379  0.148502 -0.449392  0.972651 -0.659918 -1.365944   3.1            1   \n",
       "2214  0.815161  0.405201  0.227284 -0.659918  0.507029   3.2            1   \n",
       "105   0.148502  0.700284  1.051681 -0.659918  0.507029   3.9            0   \n",
       "\n",
       "      pbcr_yes  dmi_yes  self_yes  single_yes  black_yes  \n",
       "1117         0        0         0           0          0  \n",
       "46           1        0         0           0          0  \n",
       "1379         0        0         0           1          0  \n",
       "2214         0        0         0           1          1  \n",
       "105          0        1         0           1          0  "
      ]
     },
     "execution_count": 41,
     "metadata": {},
     "output_type": "execute_result"
    }
   ],
   "source": [
    "# disable the 'SettingWithCopyWarning'\n",
    "pd.options.mode.chained_assignment = None\n",
    "\n",
    "#Feature Scaling on the train dataset\n",
    "sc = StandardScaler()\n",
    "\n",
    "for i in numerical_columns[:-1]:\n",
    "    X_train[i] = X_train[i].astype('float64')\n",
    "    X_train[i] =  sc.fit_transform(X_train[i].values.reshape(-1,1))\n",
    "    \n",
    "X_train.head()"
   ]
  },
  {
   "cell_type": "code",
   "execution_count": 42,
   "metadata": {},
   "outputs": [
    {
     "data": {
      "text/html": [
       "<div>\n",
       "<style scoped>\n",
       "    .dataframe tbody tr th:only-of-type {\n",
       "        vertical-align: middle;\n",
       "    }\n",
       "\n",
       "    .dataframe tbody tr th {\n",
       "        vertical-align: top;\n",
       "    }\n",
       "\n",
       "    .dataframe thead th {\n",
       "        text-align: right;\n",
       "    }\n",
       "</style>\n",
       "<table border=\"1\" class=\"dataframe\">\n",
       "  <thead>\n",
       "    <tr style=\"text-align: right;\">\n",
       "      <th></th>\n",
       "      <th>dir</th>\n",
       "      <th>hir</th>\n",
       "      <th>lvr</th>\n",
       "      <th>ccs</th>\n",
       "      <th>mcs</th>\n",
       "      <th>uria</th>\n",
       "      <th>comdominiom</th>\n",
       "      <th>pbcr_yes</th>\n",
       "      <th>dmi_yes</th>\n",
       "      <th>self_yes</th>\n",
       "      <th>single_yes</th>\n",
       "      <th>black_yes</th>\n",
       "    </tr>\n",
       "  </thead>\n",
       "  <tbody>\n",
       "    <tr>\n",
       "      <th>2147</th>\n",
       "      <td>0.799353</td>\n",
       "      <td>-0.136807</td>\n",
       "      <td>0.380930</td>\n",
       "      <td>-0.088987</td>\n",
       "      <td>0.548508</td>\n",
       "      <td>3.2</td>\n",
       "      <td>0</td>\n",
       "      <td>0</td>\n",
       "      <td>0</td>\n",
       "      <td>0</td>\n",
       "      <td>0</td>\n",
       "      <td>0</td>\n",
       "    </tr>\n",
       "    <tr>\n",
       "      <th>1906</th>\n",
       "      <td>4.788370</td>\n",
       "      <td>5.417276</td>\n",
       "      <td>0.380930</td>\n",
       "      <td>2.332165</td>\n",
       "      <td>0.548508</td>\n",
       "      <td>3.2</td>\n",
       "      <td>1</td>\n",
       "      <td>1</td>\n",
       "      <td>0</td>\n",
       "      <td>0</td>\n",
       "      <td>1</td>\n",
       "      <td>1</td>\n",
       "    </tr>\n",
       "    <tr>\n",
       "      <th>347</th>\n",
       "      <td>-2.149052</td>\n",
       "      <td>-1.747571</td>\n",
       "      <td>-2.391459</td>\n",
       "      <td>-0.694275</td>\n",
       "      <td>-1.290318</td>\n",
       "      <td>3.2</td>\n",
       "      <td>0</td>\n",
       "      <td>0</td>\n",
       "      <td>0</td>\n",
       "      <td>0</td>\n",
       "      <td>0</td>\n",
       "      <td>0</td>\n",
       "    </tr>\n",
       "    <tr>\n",
       "      <th>786</th>\n",
       "      <td>-0.183449</td>\n",
       "      <td>-0.818795</td>\n",
       "      <td>0.215906</td>\n",
       "      <td>-0.088987</td>\n",
       "      <td>0.548508</td>\n",
       "      <td>3.2</td>\n",
       "      <td>0</td>\n",
       "      <td>0</td>\n",
       "      <td>0</td>\n",
       "      <td>0</td>\n",
       "      <td>1</td>\n",
       "      <td>1</td>\n",
       "    </tr>\n",
       "    <tr>\n",
       "      <th>14</th>\n",
       "      <td>-1.686557</td>\n",
       "      <td>-1.349524</td>\n",
       "      <td>-2.145987</td>\n",
       "      <td>-0.694275</td>\n",
       "      <td>-1.290318</td>\n",
       "      <td>3.2</td>\n",
       "      <td>0</td>\n",
       "      <td>0</td>\n",
       "      <td>0</td>\n",
       "      <td>0</td>\n",
       "      <td>0</td>\n",
       "      <td>0</td>\n",
       "    </tr>\n",
       "  </tbody>\n",
       "</table>\n",
       "</div>"
      ],
      "text/plain": [
       "           dir       hir       lvr       ccs       mcs  uria  comdominiom  \\\n",
       "2147  0.799353 -0.136807  0.380930 -0.088987  0.548508   3.2            0   \n",
       "1906  4.788370  5.417276  0.380930  2.332165  0.548508   3.2            1   \n",
       "347  -2.149052 -1.747571 -2.391459 -0.694275 -1.290318   3.2            0   \n",
       "786  -0.183449 -0.818795  0.215906 -0.088987  0.548508   3.2            0   \n",
       "14   -1.686557 -1.349524 -2.145987 -0.694275 -1.290318   3.2            0   \n",
       "\n",
       "      pbcr_yes  dmi_yes  self_yes  single_yes  black_yes  \n",
       "2147         0        0         0           0          0  \n",
       "1906         1        0         0           1          1  \n",
       "347          0        0         0           0          0  \n",
       "786          0        0         0           1          1  \n",
       "14           0        0         0           0          0  "
      ]
     },
     "execution_count": 42,
     "metadata": {},
     "output_type": "execute_result"
    }
   ],
   "source": [
    "# disable the 'SettingWithCopyWarning'\n",
    "pd.options.mode.chained_assignment = None\n",
    "\n",
    "#Feature Scaling on th train dataset\n",
    "sc = StandardScaler()\n",
    "\n",
    "for i in numerical_columns[:-1]:\n",
    "    X_test[i] = X_test[i].astype('float64')\n",
    "    X_test[i] =  sc.fit_transform(X_test[i].values.reshape(-1,1))\n",
    "    \n",
    "X_test.head()"
   ]
  },
  {
   "cell_type": "markdown",
   "metadata": {},
   "source": [
    "#### 3. Over-sampling using SMOTE\n",
    "\n",
    "Balance data will perform a better classification than inbalance, however our data is imbalance class in the response we will use SMOTE to balance it.\n",
    "\n",
    "\n",
    "SMOTE (Synthetic Minority Over-sampling Technique) is a type of over-sampling procedure that is used to correct the imbalances in the groups. This technique creates new data instances of the minority groups by copying existing minority instances and making small changes to them. This makes SMOTE great at amplifying signals that already exist in the minority groups, but won’t create new information for those groups."
   ]
  },
  {
   "cell_type": "code",
   "execution_count": 52,
   "metadata": {},
   "outputs": [
    {
     "name": "stdout",
     "output_type": "stream",
     "text": [
      "length of oversampled data is  2922\n",
      "Number of no deny in oversampled data 1461\n",
      "Number of deny 1461\n",
      "Proportion of no deny data in oversampled data is  0.5\n",
      "Proportion of deny data in oversampled data is  0.5\n"
     ]
    }
   ],
   "source": [
    "from imblearn.over_sampling import SMOTE\n",
    "\n",
    "os = SMOTE(random_state=0)\n",
    "columns = X_train.columns\n",
    "X_smote,y_smote=os.fit_sample(X_train, y_train)\n",
    "\n",
    "os_data_X = pd.DataFrame(data=X_smote,columns=columns )\n",
    "os_data_y= pd.DataFrame(data=y_smote,columns=['deny_yes'])\n",
    "\n",
    "# we can Check the numbers of our data\n",
    "print(\"length of oversampled data is \",len(X_smote))\n",
    "print(\"Number of no deny in oversampled data\",len(y_smote[y_smote['deny_yes']==0]))\n",
    "print(\"Number of deny\",len(y_smote[y_smote['deny_yes']==1]))\n",
    "print(\"Proportion of no deny data in oversampled data is \",len(y_smote[y_smote['deny_yes']==0])/len(X_smote))\n",
    "print(\"Proportion of deny data in oversampled data is \",len(y_smote[y_smote['deny_yes']==1])/len(X_smote))"
   ]
  },
  {
   "cell_type": "code",
   "execution_count": 53,
   "metadata": {},
   "outputs": [
    {
     "data": {
      "text/plain": [
       "<matplotlib.axes._subplots.AxesSubplot at 0x258fbf430b8>"
      ]
     },
     "execution_count": 53,
     "metadata": {},
     "output_type": "execute_result"
    },
    {
     "data": {
      "image/png": "[encoded data removed]",
      "text/plain": [
       "<Figure size 432x288 with 1 Axes>"
      ]
     },
     "metadata": {
      "needs_background": "light"
     },
     "output_type": "display_data"
    }
   ],
   "source": [
    "# observe that data has been balanced\n",
    "sns.countplot(x='deny_yes', data=os_data_y)"
   ]
  },
  {
   "cell_type": "markdown",
   "metadata": {},
   "source": [
    "The training dataset has been banlanced."
   ]
  },
  {
   "cell_type": "markdown",
   "metadata": {},
   "source": [
    "#### 4. Perform Feature Selection by using Correlation coefficients, RFECV, and VIFs:\n",
    " - 4a. Detect multicollinearity by using Correlation Coefficients and Set Correlation thresholds"
   ]
  },
  {
   "cell_type": "code",
   "execution_count": 54,
   "metadata": {},
   "outputs": [
    {
     "data": {
      "text/html": [
       "<div>\n",
       "<style scoped>\n",
       "    .dataframe tbody tr th:only-of-type {\n",
       "        vertical-align: middle;\n",
       "    }\n",
       "\n",
       "    .dataframe tbody tr th {\n",
       "        vertical-align: top;\n",
       "    }\n",
       "\n",
       "    .dataframe thead th {\n",
       "        text-align: right;\n",
       "    }\n",
       "</style>\n",
       "<table border=\"1\" class=\"dataframe\">\n",
       "  <thead>\n",
       "    <tr style=\"text-align: right;\">\n",
       "      <th></th>\n",
       "      <th>dir</th>\n",
       "      <th>hir</th>\n",
       "      <th>lvr</th>\n",
       "      <th>ccs</th>\n",
       "      <th>mcs</th>\n",
       "      <th>uria</th>\n",
       "      <th>comdominiom</th>\n",
       "      <th>pbcr_yes</th>\n",
       "      <th>dmi_yes</th>\n",
       "      <th>self_yes</th>\n",
       "      <th>single_yes</th>\n",
       "      <th>black_yes</th>\n",
       "      <th>deny_yes</th>\n",
       "    </tr>\n",
       "  </thead>\n",
       "  <tbody>\n",
       "    <tr>\n",
       "      <th>0</th>\n",
       "      <td>-1.418060</td>\n",
       "      <td>-1.215843</td>\n",
       "      <td>-3.911159</td>\n",
       "      <td>-0.659918</td>\n",
       "      <td>0.507029</td>\n",
       "      <td>3.600000</td>\n",
       "      <td>0</td>\n",
       "      <td>0</td>\n",
       "      <td>0</td>\n",
       "      <td>0</td>\n",
       "      <td>0</td>\n",
       "      <td>0</td>\n",
       "      <td>0</td>\n",
       "    </tr>\n",
       "    <tr>\n",
       "      <th>1</th>\n",
       "      <td>-0.547748</td>\n",
       "      <td>0.029640</td>\n",
       "      <td>0.335098</td>\n",
       "      <td>2.330898</td>\n",
       "      <td>0.507029</td>\n",
       "      <td>3.200000</td>\n",
       "      <td>0</td>\n",
       "      <td>1</td>\n",
       "      <td>0</td>\n",
       "      <td>0</td>\n",
       "      <td>0</td>\n",
       "      <td>0</td>\n",
       "      <td>1</td>\n",
       "    </tr>\n",
       "    <tr>\n",
       "      <th>2</th>\n",
       "      <td>0.148502</td>\n",
       "      <td>-0.449392</td>\n",
       "      <td>0.972651</td>\n",
       "      <td>-0.659918</td>\n",
       "      <td>-1.365944</td>\n",
       "      <td>3.100000</td>\n",
       "      <td>1</td>\n",
       "      <td>0</td>\n",
       "      <td>0</td>\n",
       "      <td>0</td>\n",
       "      <td>1</td>\n",
       "      <td>0</td>\n",
       "      <td>0</td>\n",
       "    </tr>\n",
       "    <tr>\n",
       "      <th>3</th>\n",
       "      <td>0.815161</td>\n",
       "      <td>0.405201</td>\n",
       "      <td>0.227284</td>\n",
       "      <td>-0.659918</td>\n",
       "      <td>0.507029</td>\n",
       "      <td>3.200000</td>\n",
       "      <td>1</td>\n",
       "      <td>0</td>\n",
       "      <td>0</td>\n",
       "      <td>0</td>\n",
       "      <td>1</td>\n",
       "      <td>1</td>\n",
       "      <td>0</td>\n",
       "    </tr>\n",
       "    <tr>\n",
       "      <th>4</th>\n",
       "      <td>0.148502</td>\n",
       "      <td>0.700284</td>\n",
       "      <td>1.051681</td>\n",
       "      <td>-0.659918</td>\n",
       "      <td>0.507029</td>\n",
       "      <td>3.900000</td>\n",
       "      <td>0</td>\n",
       "      <td>0</td>\n",
       "      <td>1</td>\n",
       "      <td>0</td>\n",
       "      <td>1</td>\n",
       "      <td>0</td>\n",
       "      <td>1</td>\n",
       "    </tr>\n",
       "    <tr>\n",
       "      <th>...</th>\n",
       "      <td>...</td>\n",
       "      <td>...</td>\n",
       "      <td>...</td>\n",
       "      <td>...</td>\n",
       "      <td>...</td>\n",
       "      <td>...</td>\n",
       "      <td>...</td>\n",
       "      <td>...</td>\n",
       "      <td>...</td>\n",
       "      <td>...</td>\n",
       "      <td>...</td>\n",
       "      <td>...</td>\n",
       "      <td>...</td>\n",
       "    </tr>\n",
       "    <tr>\n",
       "      <th>2917</th>\n",
       "      <td>1.245507</td>\n",
       "      <td>0.833961</td>\n",
       "      <td>-0.406065</td>\n",
       "      <td>-0.381718</td>\n",
       "      <td>0.507029</td>\n",
       "      <td>3.200000</td>\n",
       "      <td>1</td>\n",
       "      <td>0</td>\n",
       "      <td>0</td>\n",
       "      <td>0</td>\n",
       "      <td>0</td>\n",
       "      <td>1</td>\n",
       "      <td>1</td>\n",
       "    </tr>\n",
       "    <tr>\n",
       "      <th>2918</th>\n",
       "      <td>-0.250742</td>\n",
       "      <td>0.245567</td>\n",
       "      <td>0.516801</td>\n",
       "      <td>-0.659918</td>\n",
       "      <td>0.507029</td>\n",
       "      <td>3.716246</td>\n",
       "      <td>0</td>\n",
       "      <td>0</td>\n",
       "      <td>0</td>\n",
       "      <td>0</td>\n",
       "      <td>1</td>\n",
       "      <td>0</td>\n",
       "      <td>1</td>\n",
       "    </tr>\n",
       "    <tr>\n",
       "      <th>2919</th>\n",
       "      <td>-0.115803</td>\n",
       "      <td>0.113912</td>\n",
       "      <td>0.449406</td>\n",
       "      <td>2.330898</td>\n",
       "      <td>0.507029</td>\n",
       "      <td>3.200000</td>\n",
       "      <td>1</td>\n",
       "      <td>0</td>\n",
       "      <td>0</td>\n",
       "      <td>0</td>\n",
       "      <td>1</td>\n",
       "      <td>1</td>\n",
       "      <td>1</td>\n",
       "    </tr>\n",
       "    <tr>\n",
       "      <th>2920</th>\n",
       "      <td>0.849087</td>\n",
       "      <td>0.992476</td>\n",
       "      <td>0.650869</td>\n",
       "      <td>2.141442</td>\n",
       "      <td>-1.365944</td>\n",
       "      <td>3.326692</td>\n",
       "      <td>0</td>\n",
       "      <td>0</td>\n",
       "      <td>0</td>\n",
       "      <td>0</td>\n",
       "      <td>0</td>\n",
       "      <td>0</td>\n",
       "      <td>1</td>\n",
       "    </tr>\n",
       "    <tr>\n",
       "      <th>2921</th>\n",
       "      <td>1.773368</td>\n",
       "      <td>0.086328</td>\n",
       "      <td>0.557005</td>\n",
       "      <td>2.042785</td>\n",
       "      <td>0.507029</td>\n",
       "      <td>2.577995</td>\n",
       "      <td>0</td>\n",
       "      <td>1</td>\n",
       "      <td>0</td>\n",
       "      <td>0</td>\n",
       "      <td>0</td>\n",
       "      <td>1</td>\n",
       "      <td>1</td>\n",
       "    </tr>\n",
       "  </tbody>\n",
       "</table>\n",
       "<p>2922 rows × 13 columns</p>\n",
       "</div>"
      ],
      "text/plain": [
       "           dir       hir       lvr       ccs       mcs      uria  comdominiom  \\\n",
       "0    -1.418060 -1.215843 -3.911159 -0.659918  0.507029  3.600000            0   \n",
       "1    -0.547748  0.029640  0.335098  2.330898  0.507029  3.200000            0   \n",
       "2     0.148502 -0.449392  0.972651 -0.659918 -1.365944  3.100000            1   \n",
       "3     0.815161  0.405201  0.227284 -0.659918  0.507029  3.200000            1   \n",
       "4     0.148502  0.700284  1.051681 -0.659918  0.507029  3.900000            0   \n",
       "...        ...       ...       ...       ...       ...       ...          ...   \n",
       "2917  1.245507  0.833961 -0.406065 -0.381718  0.507029  3.200000            1   \n",
       "2918 -0.250742  0.245567  0.516801 -0.659918  0.507029  3.716246            0   \n",
       "2919 -0.115803  0.113912  0.449406  2.330898  0.507029  3.200000            1   \n",
       "2920  0.849087  0.992476  0.650869  2.141442 -1.365944  3.326692            0   \n",
       "2921  1.773368  0.086328  0.557005  2.042785  0.507029  2.577995            0   \n",
       "\n",
       "      pbcr_yes  dmi_yes  self_yes  single_yes  black_yes  deny_yes  \n",
       "0            0        0         0           0          0         0  \n",
       "1            1        0         0           0          0         1  \n",
       "2            0        0         0           1          0         0  \n",
       "3            0        0         0           1          1         0  \n",
       "4            0        1         0           1          0         1  \n",
       "...        ...      ...       ...         ...        ...       ...  \n",
       "2917         0        0         0           0          1         1  \n",
       "2918         0        0         0           1          0         1  \n",
       "2919         0        0         0           1          1         1  \n",
       "2920         0        0         0           0          0         1  \n",
       "2921         1        0         0           0          1         1  \n",
       "\n",
       "[2922 rows x 13 columns]"
      ]
     },
     "execution_count": 54,
     "metadata": {},
     "output_type": "execute_result"
    }
   ],
   "source": [
    "# merge the new dataset that we have done the scaling and SMOTE process\n",
    "\n",
    "df2 = os_data_X.copy()\n",
    "df2['deny_yes'] = os_data_y\n",
    "df2"
   ]
  },
  {
   "cell_type": "code",
   "execution_count": 55,
   "metadata": {},
   "outputs": [
    {
     "data": {
      "text/plain": [
       "Text(0.5, 1.0, 'Figure 6: Correlations')"
      ]
     },
     "execution_count": 55,
     "metadata": {},
     "output_type": "execute_result"
    },
    {
     "data": {
      "image/png": "[encoded data removed]",
      "text/plain": [
       "<Figure size 720x648 with 2 Axes>"
      ]
     },
     "metadata": {
      "needs_background": "light"
     },
     "output_type": "display_data"
    }
   ],
   "source": [
    "# Finding the correlation bewteen the Features.\n",
    "plt.figure(figsize=(10,9))\n",
    "\n",
    "corr = df2.corr()# plot the heatmap\n",
    "sns.heatmap(corr, xticklabels=corr.columns, yticklabels=corr.columns, \n",
    "            annot=True, cmap=sns.diverging_palette(220, 20, as_cmap=True))\n",
    "plt.title('Figure 6: Correlations')"
   ]
  },
  {
   "cell_type": "markdown",
   "metadata": {},
   "source": [
    "#### Findings: \n",
    ">1. From this visualization, we can obviously see that the dir and hir are the multicollinearities which have 0.9 correlation values. \n",
    "2. We need to delete one from them. However, we can see that the coefficient of dir and hir with the response variable is 0.21, 0.16 respectively, so we decide to drop hir as it has less relationship to the deny."
   ]
  },
  {
   "cell_type": "code",
   "execution_count": 56,
   "metadata": {},
   "outputs": [],
   "source": [
    "# Drop hir feature\n",
    "os_data_X1 = os_data_X[['dir', 'lvr', 'ccs', 'mcs', 'uria', 'comdominiom', 'pbcr_yes', 'dmi_yes', 'single_yes', 'black_yes']]"
   ]
  },
  {
   "cell_type": "markdown",
   "metadata": {},
   "source": [
    "#### 4b Select features by using Recursive feature elimination with cross-validation (RFECV)\n",
    "\n",
    "RFE requires a specified number of features to keep, **however it is usually not known in advance how many features are valid**. To find the optimal number of features, cross-validation is used with RFE to score different feature subsets and select the best scoring collection of features.\n",
    "\n",
    "reference: https://medium.com/analytics-vidhya/feature-selection-using-scikit-learn-5b4362e0c19b"
   ]
  },
  {
   "cell_type": "code",
   "execution_count": 57,
   "metadata": {
    "scrolled": true
   },
   "outputs": [
    {
     "name": "stderr",
     "output_type": "stream",
     "text": [
      "C:\\Users\\13750\\Anaconda3\\lib\\site-packages\\ipykernel_launcher.py:5: DataConversionWarning: A column-vector y was passed when a 1d array was expected. Please change the shape of y to (n_samples,), for example using ravel().\n",
      "  \"\"\"\n",
      "C:\\Users\\13750\\Anaconda3\\lib\\site-packages\\sklearn\\utils\\validation.py:760: DataConversionWarning: A column-vector y was passed when a 1d array was expected. Please change the shape of y to (n_samples, ), for example using ravel().\n",
      "  y = column_or_1d(y, warn=True)\n"
     ]
    },
    {
     "name": "stdout",
     "output_type": "stream",
     "text": [
      "Optimal number of features : 10\n",
      "Best features : ['dir', 'lvr', 'ccs', 'mcs', 'uria', 'comdominiom', 'pbcr_yes', 'dmi_yes', 'single_yes', 'black_yes']\n"
     ]
    }
   ],
   "source": [
    "from sklearn.ensemble import RandomForestClassifier\n",
    "from sklearn.feature_selection import RFECV\n",
    "# use randomforestclassifier to find the best features\n",
    "cv_estimator = RandomForestClassifier(random_state =42)\n",
    "cv_estimator.fit(os_data_X1, os_data_y)\n",
    "cv_selector = RFECV(cv_estimator, cv=10, step=1)\n",
    "cv_selector = cv_selector.fit(os_data_X1, os_data_y)\n",
    "rfecv_mask = cv_selector.get_support() #list of booleans\n",
    "\n",
    "rfecv_features = [] \n",
    "\n",
    "for bool, feature in zip(rfecv_mask, os_data_X1.columns):\n",
    "    if bool:\n",
    "        rfecv_features.append(feature)\n",
    "\n",
    "print('Optimal number of features :', cv_selector.n_features_)\n",
    "print('Best features :', rfecv_features)"
   ]
  },
  {
   "cell_type": "markdown",
   "metadata": {},
   "source": [
    "So after the RFECV selection, our Optimal number of features is: 10\n",
    "\n",
    "Best features: ['dir', 'lvr', 'ccs', 'mcs', 'uria', 'comdominiom', 'pbcr_yes', 'dmi_yes', 'single_yes', 'black_yes']"
   ]
  },
  {
   "cell_type": "markdown",
   "metadata": {},
   "source": [
    "### Step 5: Classification Models: K-Nearest Neighbors (KNN), Support Vector Machines (SVM) "
   ]
  },
  {
   "cell_type": "markdown",
   "metadata": {},
   "source": [
    "We would build four models in total by different features:\n",
    "\n",
    "Model1: use the full features(12) before we do the feature selection for KNN\n",
    "\n",
    "Model2: use the features(10) after we did the feature selection for KNN \n",
    "\n",
    "Model3: use the full features(12) before we do the feature selection for SVM  \n",
    "\n",
    "Model4: use the full features(10) after we did the feature selection for SVM\n"
   ]
  },
  {
   "cell_type": "markdown",
   "metadata": {},
   "source": [
    "#### Model1:K-Nearest Neighbors\n",
    "K-Nearest Neighbors (KNN) is a supervised machine learning algorithm most frequently used for solving classification problems.\n",
    "\n",
    "KNN has two underlying assumptions:\n",
    " \n",
    "1) We can use a distance metric to calculate the “distance” between any two given data observations within a data set\n",
    " \n",
    "2) Data observations that are “near” to one another are likely to be similar to each other.\n",
    " \n",
    "“K” is a constant representing the number of nearby/neighboring training set data points (or data observations) to be used to predict a valid classification for a given data point.\n",
    " \n",
    "K= 5， Since small K may let our predictions become less stable and too high K may also increase our prediction error, we choose the n_neighbors = 5 for our model.\n",
    "\n",
    "###### In the model 01 and 03, we want to use all features to build the model because we find that our best features are 10. There are a total of 12 explanatory variables in the dataset. We want to see the performance of models' differences between all variables and the 10 best variables. "
   ]
  },
  {
   "cell_type": "code",
   "execution_count": 79,
   "metadata": {},
   "outputs": [
    {
     "name": "stderr",
     "output_type": "stream",
     "text": [
      "C:\\Users\\13750\\Anaconda3\\lib\\site-packages\\ipykernel_launcher.py:10: DataConversionWarning: A column-vector y was passed when a 1d array was expected. Please change the shape of y to (n_samples, ), for example using ravel().\n",
      "  # Remove the CWD from sys.path while we load stuff.\n"
     ]
    },
    {
     "data": {
      "text/plain": [
       "0.7146853146853147"
      ]
     },
     "execution_count": 79,
     "metadata": {},
     "output_type": "execute_result"
    }
   ],
   "source": [
    "#Create a KNN model with all features\n",
    "from sklearn.neighbors import KNeighborsClassifier\n",
    "\n",
    "# get features for model1\n",
    "Featuer1 = os_data_X\n",
    "\n",
    "KNN_Classifier1 = KNeighborsClassifier(n_neighbors = 5, p = 2, metric='minkowski')\n",
    "\n",
    "#Train the model\n",
    "KNN_Classifier1.fit(Featuer1, os_data_y)\n",
    "\n",
    "#Let's predict the classes for test data\n",
    "pred_test1 = KNN_Classifier1.predict(X_test)\n",
    "\n",
    "#predict the first one test data\n",
    "KNN_Classifier1.predict(X_test.iloc[[0]])\n",
    "#get the probability \n",
    "probability1 = KNN_Classifier1.predict_proba(X_test.iloc[[0]])\n",
    "#get the log probability\n",
    "#log_prob1 = KNN_Classifier1.predict_log_proba(X_test.iloc[[0]])\n",
    "\n",
    "#get scores for the model\n",
    "score1 = KNN_Classifier1.score(X_test, y_test)\n",
    "score1"
   ]
  },
  {
   "cell_type": "markdown",
   "metadata": {},
   "source": [
    "#### Model2: Use 10 features after we did the feature selection for KNN "
   ]
  },
  {
   "cell_type": "code",
   "execution_count": 59,
   "metadata": {},
   "outputs": [
    {
     "name": "stderr",
     "output_type": "stream",
     "text": [
      "C:\\Users\\13750\\Anaconda3\\lib\\site-packages\\ipykernel_launcher.py:15: DataConversionWarning: A column-vector y was passed when a 1d array was expected. Please change the shape of y to (n_samples, ), for example using ravel().\n",
      "  from ipykernel import kernelapp as app\n"
     ]
    },
    {
     "data": {
      "text/plain": [
       "0.7496503496503496"
      ]
     },
     "execution_count": 59,
     "metadata": {},
     "output_type": "execute_result"
    }
   ],
   "source": [
    "#Create a KNN model\n",
    "# Since small K may let our predictions become less stable and too high K may also increse our prediction error, \n",
    "# we choose the n_neighbors = 5 for our model.\n",
    "\n",
    "from sklearn.neighbors import KNeighborsClassifier\n",
    "\n",
    "# get features for model1\n",
    "Featuer2 = os_data_X[['dir', 'lvr', 'ccs', 'mcs', 'uria', 'comdominiom', 'pbcr_yes', 'dmi_yes', 'single_yes', 'black_yes']]\n",
    "X_test2 = X_test[['dir', 'lvr', 'ccs', 'mcs', 'uria', 'comdominiom', 'pbcr_yes', 'dmi_yes', 'single_yes', 'black_yes']]\n",
    "\n",
    "\n",
    "KNN_Classifier2 = KNeighborsClassifier(n_neighbors = 5, p = 2, metric='minkowski')\n",
    "\n",
    "#Train the model\n",
    "KNN_Classifier2.fit(Featuer2, os_data_y)\n",
    "\n",
    "#Let's predict the classes for test data\n",
    "pred_test2 = KNN_Classifier2.predict(X_test2)\n",
    "\n",
    "#predict the first one test data\n",
    "KNN_Classifier2.predict(X_test2.iloc[[0]])\n",
    "#get the probability \n",
    "probability2 = KNN_Classifier2.predict_proba(X_test2.iloc[[0]])\n",
    "#get the log probability\n",
    "#log_prob1 = KNN_Classifier1.predict_log_proba(X_test.iloc[[0]])\n",
    "\n",
    "#get scores for the model\n",
    "score2 = KNN_Classifier2.score(X_test2, y_test)\n",
    "score2"
   ]
  },
  {
   "cell_type": "markdown",
   "metadata": {},
   "source": [
    "#### Model3: Support Vector Machines\n",
    "\n",
    "Support Vector Machines (SVM) are supervised machine learning algorithms most frequently used for solving classification problems.\n",
    "\n",
    "SVM uses the concept of margin classification, wherein we attempt to identify classifications within a data set by deriving a decision boundary that maximizes the distance between groups of data points.\n",
    "SVM identifies parallel hyperplanes that separate the classes of data via the maximum distance possible relative to the constraints of the data set.\n",
    "\n",
    "Use full features after we did the feature selection for SVM"
   ]
  },
  {
   "cell_type": "code",
   "execution_count": 61,
   "metadata": {},
   "outputs": [
    {
     "name": "stderr",
     "output_type": "stream",
     "text": [
      "C:\\Users\\13750\\Anaconda3\\lib\\site-packages\\sklearn\\utils\\validation.py:760: DataConversionWarning: A column-vector y was passed when a 1d array was expected. Please change the shape of y to (n_samples, ), for example using ravel().\n",
      "  y = column_or_1d(y, warn=True)\n"
     ]
    },
    {
     "data": {
      "text/plain": [
       "0.7713894592744696"
      ]
     },
     "execution_count": 61,
     "metadata": {},
     "output_type": "execute_result"
    }
   ],
   "source": [
    "from sklearn.svm import SVC\n",
    "# get features for model1\n",
    "Featuer1 = os_data_X\n",
    "\n",
    "#Train the model\n",
    "svc3 = SVC(random_state=42, probability=True)\n",
    "svc3.fit(Featuer1, os_data_y)\n",
    "\n",
    "#Let's predict the classes for test data\n",
    "pred_test3 = svc3.predict(X_test)\n",
    "\n",
    "#get scores for the model\n",
    "score3 = svc3.score(Featuer1, os_data_y)\n",
    "\n",
    "score3"
   ]
  },
  {
   "cell_type": "markdown",
   "metadata": {},
   "source": [
    "#### Model4: SVM with 10 features after we did the feature selection "
   ]
  },
  {
   "cell_type": "code",
   "execution_count": 62,
   "metadata": {},
   "outputs": [
    {
     "name": "stderr",
     "output_type": "stream",
     "text": [
      "C:\\Users\\13750\\Anaconda3\\lib\\site-packages\\sklearn\\utils\\validation.py:760: DataConversionWarning: A column-vector y was passed when a 1d array was expected. Please change the shape of y to (n_samples, ), for example using ravel().\n",
      "  y = column_or_1d(y, warn=True)\n"
     ]
    },
    {
     "data": {
      "text/plain": [
       "0.7679671457905544"
      ]
     },
     "execution_count": 62,
     "metadata": {},
     "output_type": "execute_result"
    }
   ],
   "source": [
    "from sklearn.svm import SVC\n",
    "# get features for model1\n",
    "Featuer2 = os_data_X[['dir', 'lvr', 'ccs', 'mcs', 'uria', 'comdominiom', 'pbcr_yes', 'dmi_yes', 'single_yes', 'black_yes']]\n",
    "X_test2 = X_test[['dir', 'lvr', 'ccs', 'mcs', 'uria', 'comdominiom', 'pbcr_yes', 'dmi_yes', 'single_yes', 'black_yes']]\n",
    "\n",
    "\n",
    "#Train the model\n",
    "svc4 = SVC(random_state=42, probability=True)\n",
    "svc4.fit(Featuer2, os_data_y)\n",
    "\n",
    "#Let's predict the classes for test data\n",
    "pred_test4 = svc4.predict(X_test2)\n",
    "\n",
    "#get scores for the model\n",
    "score4 = svc4.score(Featuer2, os_data_y)\n",
    "score4"
   ]
  },
  {
   "cell_type": "markdown",
   "metadata": {},
   "source": [
    "### Step 6. Evaluate Models and Select a Final Model\n"
   ]
  },
  {
   "cell_type": "code",
   "execution_count": 63,
   "metadata": {},
   "outputs": [],
   "source": [
    "from sklearn import metrics\n",
    "from sklearn.metrics import accuracy_score\n",
    "from sklearn.metrics import precision_score, recall_score, confusion_matrix\n",
    "from sklearn.metrics import f1_score, roc_auc_score, roc_curve\n",
    "\n",
    "from sklearn.metrics import plot_confusion_matrix"
   ]
  },
  {
   "cell_type": "markdown",
   "metadata": {},
   "source": [
    "#### 1. Model Evaluation - confusion matrix\n",
    "The Confusion Matrix describes the predictions that the model made as either True (correct) or False (wrong). It compares these to the real truth. A perfect model would have only True Positives and True Negatives.\n"
   ]
  },
  {
   "cell_type": "code",
   "execution_count": 75,
   "metadata": {},
   "outputs": [
    {
     "name": "stdout",
     "output_type": "stream",
     "text": [
      "['Confusion matrix02']\n",
      "[[472 163]\n",
      " [ 41  39]]\n"
     ]
    },
    {
     "data": {
      "image/png": "[encoded data removed]",
      "text/plain": [
       "<Figure size 432x288 with 2 Axes>"
      ]
     },
     "metadata": {
      "needs_background": "light"
     },
     "output_type": "display_data"
    },
    {
     "name": "stdout",
     "output_type": "stream",
     "text": [
      "['Confusion matrix02']\n",
      "[[489 146]\n",
      " [ 33  47]]\n"
     ]
    },
    {
     "data": {
      "image/png": "[encoded data removed]",
      "text/plain": [
       "<Figure size 432x288 with 2 Axes>"
      ]
     },
     "metadata": {
      "needs_background": "light"
     },
     "output_type": "display_data"
    },
    {
     "name": "stdout",
     "output_type": "stream",
     "text": [
      "['Confusion matrix03']\n",
      "[[474 161]\n",
      " [ 28  52]]\n"
     ]
    },
    {
     "data": {
      "image/png": "[encoded data removed]",
      "text/plain": [
       "<Figure size 432x288 with 2 Axes>"
      ]
     },
     "metadata": {
      "needs_background": "light"
     },
     "output_type": "display_data"
    },
    {
     "name": "stdout",
     "output_type": "stream",
     "text": [
      "['Confusion matrix04']\n",
      "[[487 148]\n",
      " [ 29  51]]\n"
     ]
    },
    {
     "data": {
      "image/png": "[encoded data removed]",
      "text/plain": [
       "<Figure size 432x288 with 2 Axes>"
      ]
     },
     "metadata": {
      "needs_background": "light"
     },
     "output_type": "display_data"
    }
   ],
   "source": [
    "#print the Confusion matrix for test data set in each model\n",
    "\n",
    "np.set_printoptions(precision=2)\n",
    "\n",
    "# Plot non-normalized confusion matrix\n",
    "title = [\"Confusion matrix01\"]\n",
    "disp = plot_confusion_matrix(KNN_Classifier1, X_test, y_test, cmap=plt.cm.Blues)\n",
    "disp.ax_.set_title(titles_options)\n",
    "plt.grid(False)\n",
    "print(titles_options)\n",
    "print(disp.confusion_matrix)\n",
    "plt.show()\n",
    "\n",
    "np.set_printoptions(precision=2)\n",
    "\n",
    "# Plot non-normalized confusion matrix\n",
    "title = [\"Confusion matrix02\"]\n",
    "disp = plot_confusion_matrix(KNN_Classifier2, X_test2, y_test, cmap=plt.cm.Blues)\n",
    "disp.ax_.set_title(title)\n",
    "plt.grid(False)\n",
    "print(title)\n",
    "print(disp.confusion_matrix)\n",
    "plt.show()\n",
    "\n",
    "\n",
    "np.set_printoptions(precision=2)\n",
    "\n",
    "# Plot non-normalized confusion matrix\n",
    "title = [\"Confusion matrix03\"]\n",
    "disp = plot_confusion_matrix(svc3, X_test, y_test, cmap=plt.cm.Blues)\n",
    "disp.ax_.set_title(title)\n",
    "plt.grid(False)\n",
    "print(title)\n",
    "print(disp.confusion_matrix)\n",
    "plt.show()\n",
    "\n",
    "\n",
    "np.set_printoptions(precision=2)\n",
    "\n",
    "# Plot non-normalized confusion matrix\n",
    "title = [\"Confusion matrix04\"]\n",
    "disp =plot_confusion_matrix(svc4, X_test2, y_test, cmap=plt.cm.Blues)\n",
    "disp.ax_.set_title(title)\n",
    "plt.grid(False)\n",
    "print(title)\n",
    "print(disp.confusion_matrix)\n",
    "plt.show()"
   ]
  },
  {
   "cell_type": "markdown",
   "metadata": {},
   "source": [
    "#### 2. Model Evaluation - model_report\n",
    "To quote from Scikit Learn:https://medium.com/@MohammedS/performance-metrics-for-classification-problems-in-machine-learning-part-i-b085d432082b\n",
    "\n",
    "The precision is the ratio tp / (tp + fp) where tp is the number of true positives and fp the number of false positives. The precision is intuitively the ability of the classifier to not label a sample as positive if it is negative.\n",
    "\n",
    "The recall is the ratio tp / (tp + fn) where tp is the number of true positives and fn the number of false negatives. The recall is intuitively the ability of the classifier to find all the positive samples.\n",
    "\n",
    "The F-beta score can be interpreted as a weighted harmonic mean of the precision and recall, where an F-beta score reaches its best value at 1 and worst score at 0.\n",
    "\n",
    "The F-beta score weights the recall more than the precision by a factor of beta. beta = 1.0 means recall and precision are equally important."
   ]
  },
  {
   "cell_type": "code",
   "execution_count": 66,
   "metadata": {},
   "outputs": [
    {
     "name": "stdout",
     "output_type": "stream",
     "text": [
      "Model 1:\n",
      "Accuracy =  0.7146853146853147\n",
      "Precision =  0.19306930693069307\n",
      "Recall =  0.4875\n",
      "F1 Score =  0.2765957446808511\n",
      "-------------------------------------------\n",
      "Model 2:\n",
      "Accuracy =  0.7496503496503496\n",
      "Precision =  0.24352331606217617\n",
      "Recall =  0.5875\n",
      "F1 Score =  0.3443223443223444\n",
      "-------------------------------------------\n",
      "Model 3:\n",
      "Accuracy =  0.7356643356643356\n",
      "Precision =  0.24413145539906103\n",
      "Recall =  0.65\n",
      "F1 Score =  0.35494880546075086\n",
      "-------------------------------------------\n",
      "Model 4:\n",
      "Accuracy =  0.7524475524475525\n",
      "Precision =  0.2562814070351759\n",
      "Recall =  0.6375\n",
      "F1 Score =  0.3655913978494624\n",
      "-------------------------------------------\n"
     ]
    }
   ],
   "source": [
    "print(\"Model 1:\")\n",
    "print(\"Accuracy = \" , accuracy_score(y_test, pred_test1))\n",
    "print(\"Precision = \" ,precision_score(y_test, pred_test1))\n",
    "print(\"Recall = \" ,recall_score(y_test, pred_test1))\n",
    "print(\"F1 Score = \" ,f1_score(y_test, pred_test1))\n",
    "print(\"-------------------------------------------\")\n",
    "\n",
    "print(\"Model 2:\")\n",
    "print(\"Accuracy = \" , accuracy_score(y_test, pred_test2))\n",
    "print(\"Precision = \" ,precision_score(y_test, pred_test2))\n",
    "print(\"Recall = \" ,recall_score(y_test, pred_test2))\n",
    "print(\"F1 Score = \" ,f1_score(y_test, pred_test2))\n",
    "print(\"-------------------------------------------\")\n",
    "\n",
    "print(\"Model 3:\")\n",
    "print(\"Accuracy = \" , accuracy_score(y_test, pred_test3))\n",
    "print(\"Precision = \" ,precision_score(y_test, pred_test3))\n",
    "print(\"Recall = \" ,recall_score(y_test, pred_test3))\n",
    "print(\"F1 Score = \" ,f1_score(y_test, pred_test3))\n",
    "print(\"-------------------------------------------\")\n",
    "\n",
    "print(\"Model 4:\")\n",
    "print(\"Accuracy = \" , accuracy_score(y_test, pred_test4))\n",
    "print(\"Precision = \" ,precision_score(y_test, pred_test4))\n",
    "print(\"Recall = \" ,recall_score(y_test, pred_test4))\n",
    "print(\"F1 Score = \" ,f1_score(y_test, pred_test4))\n",
    "print(\"-------------------------------------------\")"
   ]
  },
  {
   "cell_type": "markdown",
   "metadata": {},
   "source": [
    "From these model report, we can see that the model4 has the highest Accuracy which is 0.75, and model1 has the lowest Accuracy which is 0.71. For the recall, our model3 has the highest recall value(0.65), and model1 has the lowest value(0.48).\n",
    "\n",
    "And comparing these two kinds of models, we can see that the SVM models have higher accuracy, recall, precision and F1 scores than the KNN models in this dataset."
   ]
  },
  {
   "cell_type": "markdown",
   "metadata": {},
   "source": [
    "#### 3. Model Evaluation - auc_roc_curve\n",
    "Receiver Operating Characteristic(ROC) curve is a plot of the true positive rate(Recall) against the false positive rate. It can measure the accuracy of a classification prediction.\n",
    " \n",
    "For the ROC curve, a perfect model would be a vertical line up the y-axis (100% True Positives, 0% False Positives).\n",
    " \n",
    "AUC score 1 represents a perfect classifier, and 0.5 represents a worthless classifier. The larger the area under the ROC curve, the higher will be the accuracy.\n"
   ]
  },
  {
   "cell_type": "code",
   "execution_count": 67,
   "metadata": {
    "scrolled": false
   },
   "outputs": [
    {
     "data": {
      "image/png": "[encoded data removed]",
      "text/plain": [
       "<Figure size 432x288 with 1 Axes>"
      ]
     },
     "metadata": {
      "needs_background": "light"
     },
     "output_type": "display_data"
    },
    {
     "data": {
      "image/png": "[encoded data removed]",
      "text/plain": [
       "<Figure size 432x288 with 1 Axes>"
      ]
     },
     "metadata": {
      "needs_background": "light"
     },
     "output_type": "display_data"
    },
    {
     "data": {
      "image/png": "[encoded data removed]",
      "text/plain": [
       "<Figure size 432x288 with 1 Axes>"
      ]
     },
     "metadata": {
      "needs_background": "light"
     },
     "output_type": "display_data"
    },
    {
     "data": {
      "image/png": "[encoded data removed]",
      "text/plain": [
       "<Figure size 432x288 with 1 Axes>"
      ]
     },
     "metadata": {
      "needs_background": "light"
     },
     "output_type": "display_data"
    }
   ],
   "source": [
    "# plot ROC Curve to see model accuracy \n",
    "\n",
    "y_pred_proba = KNN_Classifier1.predict_proba(X_test)[:, 1]\n",
    "fpr, tpr, thresholds = roc_curve(y_test, y_pred_proba)\n",
    "auc = roc_auc_score(y_test, y_pred_proba)\n",
    "plt.plot(fpr,tpr,label='AUC ROC Curve with Area Under the curve=%0.2f'%auc)\n",
    "plt.legend(loc=4)\n",
    "plt.show()\n",
    "\n",
    "\n",
    "y_pred_proba = KNN_Classifier2.predict_proba(X_test2)[:, 1]\n",
    "fpr, tpr, thresholds = roc_curve(y_test,  y_pred_proba)\n",
    "auc = roc_auc_score(y_test, y_pred_proba)\n",
    "plt.plot(fpr,tpr,label='AUC ROC Curve with Area Under the curve=%0.2f'%auc)\n",
    "plt.legend(loc=4)\n",
    "plt.show()\n",
    "\n",
    "\n",
    "y_pred_proba = svc3.predict_proba(X_test)[:, 1]\n",
    "fpr, tpr, thresholds = roc_curve(y_test,  y_pred_proba)\n",
    "auc = roc_auc_score(y_test, y_pred_proba)\n",
    "plt.plot(fpr,tpr,label='AUC ROC Curve with Area Under the curve=%0.2f'%auc)\n",
    "plt.legend(loc=4)\n",
    "plt.show()\n",
    "\n",
    "\n",
    "y_pred_proba = svc4.predict_proba(X_test2)[:, 1]\n",
    "fpr, tpr, thresholds = roc_curve(y_test,  y_pred_proba)\n",
    "auc = roc_auc_score(y_test, y_pred_proba)\n",
    "plt.plot(fpr,tpr,label='AUC ROC Curve with Area Under the curve=%0.2f'%auc)\n",
    "plt.legend(loc=4)\n",
    "plt.show()"
   ]
  },
  {
   "cell_type": "markdown",
   "metadata": {},
   "source": [
    "From the AUC ROC Curve, We can see model4 also has the  highest accuracy which is 0.78, and model1 has the lowest accuracy which is 0.66"
   ]
  },
  {
   "cell_type": "markdown",
   "metadata": {},
   "source": [
    "#### model evaluation Summery:\n",
    "\n",
    "Our main purpose is predicting whether or not a given mortgage loan application is likely to be approved or denied. In this case, we check the how many people get mortage loan, so we focuse on measuring the proportion of actual positive that is correctly identified. Therefore, the recall is our main matrics. For the recall, the model3 has the highest value 0.65 and model4 has a closer value 0.64. However, our model4 has fewer features comparing to model3 which means model4 is not complicated as model3, so for the recall, our best choice is model4. \n",
    "\n",
    "For our ROC curve, our model4 also has the highest value 0.78. SO we will choose model4 as our best performed model."
   ]
  },
  {
   "cell_type": "markdown",
   "metadata": {},
   "source": [
    "### Step7: Interpret best model \n",
    ">1. Test our model performance with the test dataset\n",
    "2. Compare the best model in the last assignment7"
   ]
  },
  {
   "cell_type": "markdown",
   "metadata": {},
   "source": [
    "#### 7.1 we choose the model4 as our best model. It's Supported vector Machine model which has the accuracy 0.75"
   ]
  },
  {
   "cell_type": "code",
   "execution_count": 68,
   "metadata": {},
   "outputs": [
    {
     "data": {
      "text/plain": [
       "array([[0.37, 0.63],\n",
       "       [0.02, 0.98],\n",
       "       [0.73, 0.27],\n",
       "       ...,\n",
       "       [0.31, 0.69],\n",
       "       [0.03, 0.97],\n",
       "       [0.36, 0.64]])"
      ]
     },
     "execution_count": 68,
     "metadata": {},
     "output_type": "execute_result"
    }
   ],
   "source": [
    "#apply the selected model to the training set and compare the outcomes of the actual values and the predicted ones\n",
    "\n",
    "# generate class probabilities\n",
    "probs4 = svc4.predict_proba(X_test2)\n",
    "probs4"
   ]
  },
  {
   "cell_type": "markdown",
   "metadata": {},
   "source": [
    "\n",
    "We see that the selected model is getting values that are distributed similarly, however the model seems to have a bit more applications that got denied over those that are not denied than before."
   ]
  },
  {
   "cell_type": "code",
   "execution_count": 69,
   "metadata": {},
   "outputs": [
    {
     "data": {
      "text/plain": [
       "Text(0.5, 1.0, 'Deny predicted in testing set')"
      ]
     },
     "execution_count": 69,
     "metadata": {},
     "output_type": "execute_result"
    },
    {
     "data": {
      "image/png": "[encoded data removed]",
      "text/plain": [
       "<Figure size 864x288 with 2 Axes>"
      ]
     },
     "metadata": {
      "needs_background": "light"
     },
     "output_type": "display_data"
    }
   ],
   "source": [
    "#plot distribution of predicted values and actual test values seperately to see the model perfrmance \n",
    "y_pred = pd.DataFrame(pred_test4, columns = ['deny'])\n",
    "\n",
    "plt.figure(figsize=(12,4))\n",
    "plt.subplot(1,2,1)\n",
    "y_pred['deny'].value_counts().plot(kind='bar');\n",
    "plt.title('Deny distribution in testing set')\n",
    "\n",
    "plt.subplot(1,2,2)\n",
    "\n",
    "sns.countplot(x=y_test[\"deny_yes\"], data=y_test)\n",
    "#y_test['deny'].value_counts().plot(kind='bar');\n",
    "plt.title('Deny predicted in testing set')"
   ]
  },
  {
   "cell_type": "markdown",
   "metadata": {},
   "source": [
    "From the plots above, we can see that they do have some distinct differences. Our model predicts less 'deny' than the actual 'deny'. But since our null error in this dataset is 0.5 after we use the SMOTE, and our accuracy(0.75) is higher. So our model still works well."
   ]
  },
  {
   "cell_type": "markdown",
   "metadata": {},
   "source": [
    "#### 7.2 Compare the selected best model4 with the best model we did in the last assignment7\n",
    "In assignment7, We choose model03 as our best model which is LogisticRegression and has features: ['dir','lvr', 'ccs' , 'pbcr_yes', 'dmi_yes','black_yes'] without fix the imbalance.\n"
   ]
  },
  {
   "cell_type": "code",
   "execution_count": 70,
   "metadata": {
    "scrolled": true
   },
   "outputs": [
    {
     "name": "stdout",
     "output_type": "stream",
     "text": [
      "Mean Accuracy: 0.902189596710194\n"
     ]
    },
    {
     "name": "stderr",
     "output_type": "stream",
     "text": [
      "C:\\Users\\13750\\Anaconda3\\lib\\site-packages\\sklearn\\utils\\validation.py:760: DataConversionWarning: A column-vector y was passed when a 1d array was expected. Please change the shape of y to (n_samples, ), for example using ravel().\n",
      "  y = column_or_1d(y, warn=True)\n",
      "C:\\Users\\13750\\Anaconda3\\lib\\site-packages\\sklearn\\utils\\validation.py:760: DataConversionWarning: A column-vector y was passed when a 1d array was expected. Please change the shape of y to (n_samples, ), for example using ravel().\n",
      "  y = column_or_1d(y, warn=True)\n",
      "C:\\Users\\13750\\Anaconda3\\lib\\site-packages\\sklearn\\utils\\validation.py:760: DataConversionWarning: A column-vector y was passed when a 1d array was expected. Please change the shape of y to (n_samples, ), for example using ravel().\n",
      "  y = column_or_1d(y, warn=True)\n",
      "C:\\Users\\13750\\Anaconda3\\lib\\site-packages\\sklearn\\utils\\validation.py:760: DataConversionWarning: A column-vector y was passed when a 1d array was expected. Please change the shape of y to (n_samples, ), for example using ravel().\n",
      "  y = column_or_1d(y, warn=True)\n",
      "C:\\Users\\13750\\Anaconda3\\lib\\site-packages\\sklearn\\utils\\validation.py:760: DataConversionWarning: A column-vector y was passed when a 1d array was expected. Please change the shape of y to (n_samples, ), for example using ravel().\n",
      "  y = column_or_1d(y, warn=True)\n",
      "C:\\Users\\13750\\Anaconda3\\lib\\site-packages\\sklearn\\utils\\validation.py:760: DataConversionWarning: A column-vector y was passed when a 1d array was expected. Please change the shape of y to (n_samples, ), for example using ravel().\n",
      "  y = column_or_1d(y, warn=True)\n",
      "C:\\Users\\13750\\Anaconda3\\lib\\site-packages\\sklearn\\utils\\validation.py:760: DataConversionWarning: A column-vector y was passed when a 1d array was expected. Please change the shape of y to (n_samples, ), for example using ravel().\n",
      "  y = column_or_1d(y, warn=True)\n",
      "C:\\Users\\13750\\Anaconda3\\lib\\site-packages\\sklearn\\utils\\validation.py:760: DataConversionWarning: A column-vector y was passed when a 1d array was expected. Please change the shape of y to (n_samples, ), for example using ravel().\n",
      "  y = column_or_1d(y, warn=True)\n",
      "C:\\Users\\13750\\Anaconda3\\lib\\site-packages\\sklearn\\utils\\validation.py:760: DataConversionWarning: A column-vector y was passed when a 1d array was expected. Please change the shape of y to (n_samples, ), for example using ravel().\n",
      "  y = column_or_1d(y, warn=True)\n",
      "C:\\Users\\13750\\Anaconda3\\lib\\site-packages\\sklearn\\utils\\validation.py:760: DataConversionWarning: A column-vector y was passed when a 1d array was expected. Please change the shape of y to (n_samples, ), for example using ravel().\n",
      "  y = column_or_1d(y, warn=True)\n",
      "C:\\Users\\13750\\Anaconda3\\lib\\site-packages\\sklearn\\utils\\validation.py:760: DataConversionWarning: A column-vector y was passed when a 1d array was expected. Please change the shape of y to (n_samples, ), for example using ravel().\n",
      "  y = column_or_1d(y, warn=True)\n"
     ]
    }
   ],
   "source": [
    "# review the best model03 in assignment7 \n",
    "\n",
    "columns=['dir','lvr', 'ccs' , 'pbcr_yes', 'dmi_yes','black_yes']\n",
    "\n",
    "# Build a model on ALL 15 features.\n",
    "# Instantiate model\n",
    "model03 = LogisticRegression()\n",
    "\n",
    "X_train03 = X_train[columns]\n",
    "X_test03 = X_test[columns]\n",
    "model03.fit(X_train03, y_train)\n",
    "# fit the model using 10-fold cross validation\n",
    "scores03 = cross_val_score(model03, X_train03, y_train, cv=10)\n",
    "\n",
    "# predict class labels for the test set\n",
    "predicted03 = model03.predict(X_test03)\n",
    "\n",
    "# calculate the average accuracy across all 10 folds\n",
    "print('Mean Accuracy:', np.mean(scores03))"
   ]
  },
  {
   "cell_type": "code",
   "execution_count": 71,
   "metadata": {},
   "outputs": [
    {
     "data": {
      "text/plain": [
       "Text(0.5, 1.0, 'Deny predicted in testing set')"
      ]
     },
     "execution_count": 71,
     "metadata": {},
     "output_type": "execute_result"
    },
    {
     "data": {
      "image/png": "[encoded data removed]",
      "text/plain": [
       "<Figure size 864x288 with 2 Axes>"
      ]
     },
     "metadata": {
      "needs_background": "light"
     },
     "output_type": "display_data"
    }
   ],
   "source": [
    "#plot distribution of predicted values and actual test values seperately to see the model perfrmance \n",
    "y_pred = pd.DataFrame(pred_test4, columns = ['deny'])\n",
    "y_test03 = pd.DataFrame(predicted03, columns = ['deny'])\n",
    "\n",
    "plt.figure(figsize=(12,4))\n",
    "plt.subplot(1,2,1)\n",
    "y_pred['deny'].value_counts().plot(kind='bar');\n",
    "plt.title('Deny distribution in testing set')\n",
    "\n",
    "plt.subplot(1,2,2)\n",
    "y_test03['deny'].value_counts().plot(kind='bar');\n",
    "plt.title('Deny predicted in testing set')"
   ]
  },
  {
   "cell_type": "markdown",
   "metadata": {},
   "source": [
    "From the plot, we can see that our Logisticregression modelo3 has more differences with our actual test dataset. This model03 predicts very few \"deny\" which maybe 20.\n",
    "So comparing this distribution with our best SVM model4, our SVM model4 is better than the logistic regression model to predict test data."
   ]
  },
  {
   "cell_type": "markdown",
   "metadata": {},
   "source": [
    "# Conclusion:\n",
    "##### 1. Exploratory Data Analysis:\n",
    " \n",
    " By previous EDA works, we find that this dataset is am imbalanced dataset, 88% are not denied the mortgage loan. So, we decide to utilize the SMOTE algorithm to make the response variable in balance. In addition, we use standard deviation to define the outliers. There are around 200 outliers in the dataset. However, consider all the outliers in each column are meaningful and our dataset is not large enough, we do not drop any outliers expect the row 2380 contains two missing values and two outliers.\n",
    "\n",
    "##### 2. Feature Selection\n",
    " We discover the best features are 10, including 'dir', 'lvr', 'ccs', 'mcs', 'uria', 'comdominiom', 'pbcr_yes', 'dmi_yes', 'single_yes', 'black_yes'. We want to see the performance of models' differences between all variables and the 10 best variables. And there are a total of 12 explanatory variables in the dataset. Therefore, we use all features to build model 01 and 03. Compare to that, we use the 10 best features to create the model 02 and 04.\n",
    "\n",
    "##### 3.  Model Eveluation:\n",
    " \n",
    " According to the recall metric and ROC, we believe that the model 04 which is SVM model and contains features 'dir', 'lvr', 'ccs', 'mcs', 'uria', 'comdominiom', 'pbcr_yes', 'dmi_yes', 'single_yes', 'black_yes' is the best model to predict the mortage deny. \n",
    "    "
   ]
  },
  {
   "cell_type": "markdown",
   "metadata": {},
   "source": [
    "From the coefficient correlation, we can see that the lvr is more correlated to \"deny\"  which mean when your ratio of size of loan to assessed value of property is higher you are more likely to be denied for the mortage. This does make sense."
   ]
  },
  {
   "cell_type": "code",
   "execution_count": null,
   "metadata": {},
   "outputs": [],
   "source": []
  }
 ],
 "metadata": {
  "colab": {
   "name": "M7 draft.ipynb",
   "provenance": []
  },
  "kernelspec": {
   "display_name": "Python 3",
   "language": "python",
   "name": "python3"
  },
  "language_info": {
   "codemirror_mode": {
    "name": "ipython",
    "version": 3
   },
   "file_extension": ".py",
   "mimetype": "text/x-python",
   "name": "python",
   "nbconvert_exporter": "python",
   "pygments_lexer": "ipython3",
   "version": "3.7.7"
  }
 },
 "nbformat": 4,
 "nbformat_minor": 1
}
