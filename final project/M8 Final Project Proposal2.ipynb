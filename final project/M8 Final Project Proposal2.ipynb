{
 "cells": [
  {
   "cell_type": "markdown",
   "metadata": {},
   "source": [
    "## Final Project Proposal\n",
    "-by Group Manling Yang, Xiaojia He, Qi Sun\n",
    "\n",
    "### Introduction:\n",
    "\n",
    "For the final project, we’ll do a research on employee attrition. The data used for this project was collected from the personnel records of employees in IBM. We downloaded this dataset from Kaggle. Although there are many works done by using this dataset, we believe if we use different set of features, use different methods to handle and transform the data, and use different machine learning algorithms and evaluation methods, we’ll get different results. \n",
    "\n",
    "Attrition is one of the important issues in an organization. Stovel, M. and Bontis, N. (2002) draw attention on controlling attrition, they state that the value of employees to an organization is a very crucial element in the success of the organization. When employees leave an organization, they carry with them invaluable knowledge which is often the source of competitive advantage for the business. Attrition is defined as the normal and uncontrollable reduction of a work force because of retirement, death, sickness, and relocation. The employee attrition is often unpredictable and can leave gaps in an organization. If organizations know why their employees leave, they can develop effective strategies for employee retention. The purposes of this study are to find out why employees left the organization and to develop a model that can predict how likely the employee quit the job.\n",
    "\n",
    "There are many reasons why employee leave the organization. \n",
    "\n",
    "Based on the research of Firth et al (2007), intention to quit is largely influenced by job dissatisfaction, lack of commitment to the organization and feelings of stress. The work overload and job ambiguity which are the factors that trigger the chain of psychological states that lead to intention to quit. Reducing attrition can save organizations the considerable financial cost and effort involved in the recruitment, induction and training of replacement staff.\n",
    "\n",
    "Griffeth et al. (2000) conclude that the predictors of employee turnover include job satisfaction, organizational commitment, job search, comparison of alternatives, withdrawal cognitions, and quit intentions. Also, job performance can foreshadow turnover. The pay and pay-related variables have a significant effect on employee turnover. The results of the gender-turnover correlation indicates that women turnover rate is similar to that of men. The gender age-turnover relationship demonstrates that women are more likely to remain as they age than are men. \n",
    "\n",
    "Louis (1980) states that attrition takes place because new employees compare their actual experience with their past work experiences. Past work experience plays a significant role in taking decisions to quit in case the new worker’s expectations are not met. \n",
    "\n",
    "All the researches mentioned above have been completed over ten years ago. In this study, we’ll examine if the factors mentioned above can also result in employee attrition in IBM. We’ll also develop a model to predict the employee attrition. The outcome of this research can be utilized for redesigning the HR policies and practices and take corrective actions to reduce the attrition rate.\n",
    "\n",
    "\n",
    "**References:**\n",
    "\n",
    "Stovel, M. and Bontis, N. (2002), \"Voluntary turnover: knowledge management – friend or foe?\", Journal of Intellectual Capital, Vol. 3 No. 3, pp. 303-322.\n",
    "https://pdfs.semanticscholar.org/1856/1de816a436871587869169369dfe086ecb6c.pdf\n",
    "\n",
    "Firth, L., Mellor, D.J., Moore, K.A. and Loquet, C. (2004), \"How can managers reduce employee intention to quit?\", Journal of Managerial Psychology, Vol. 19 No. 2, pp. 170-187. \n",
    "https://pdfs.semanticscholar.org/4ffe/89346438e0d97e4241ca76779e153247d91a.pdf?_ga=2.41973861.1951415783.1594600481-158954980.1590280415\n",
    "\n",
    " \n",
    "Griffeth RW, Hom PW, Gaertner S (2000). \"A meta-analysis of antecedents and correlates of employee turnover: update, moderator tests, and research implications for the next millennium\", J. Manage. 26 (3): 463-88.\n",
    "https://d1wqtxts1xzle7.cloudfront.net/42653895/A_Meta-Analysis_of_Antecedents_and_Corre20160213-22360-fjbwz8.pdf?1455393954=&response-content-disposition=inline%3B+filename%3DA_meta-analysis_of_antecedents_and_corre.pdf&Expires=1594604746&Signature=F6EiCVoswSyNtj9F0jOg-SYlIiP5ZdRS8zc16PjlQyPnJ4qpB07~aLkaINRqyFkmqi13NWogN0gaWnyawe6zuXuelwmMHQICvdZxsaiqO2AjkpDA1vZ8xkQKlEhwdtEvzCO-9NWLXcBDwHYAcHm1R1IpDHaMQ1YzmoV1FKN2qVd8ip0Wa4UGIfIb1VN5lNnV9Q-z0Nx-FlpoYks8BEnO-GvTbfZENTAMvzAVNaD59FOttbx1NH6AXUGfZCdYCKHYQolMzluDEybDEH9jbLWjSg2CHFK9lhKNvSu~Zz1XDFR-2Tnm0~stCwtX6KNX66KNWOig30lasiq9ynho-Vqnvw__&Key-Pair-Id=APKAJLOHF5GGSLRBV4ZA\n",
    "\n",
    "\n",
    "Louis, M.R. (1980), \"Surprise and sense-making: what newcomers experience in entering unfamiliar organizational settings\", Administrative Science Quarterly, Vol. 25 No.2, pp.226-51.\n",
    "http://pdfs.semanticscholar.org/80f2/e6d17eecc0f05dffed9b8c4d740d77373f25.pdf\n",
    "\n"
   ]
  },
  {
   "cell_type": "markdown",
   "metadata": {},
   "source": [
    "### Research Questions:\n",
    "The following research questions will guide the study.\n",
    "1. To what extent do independent variables predict the employee attrition? \n",
    "The results of this can help people know how well the model we build. In the project, we will create several models to find the best one by the confusion metrics report when the response variable is categorical data. In the real world, this result tells us if the models are meaningful. For example, if the accuracy of the model is less than the null error rate, this model is not meaningful. We should create the new model or select the other features. \n",
    "\n",
    "2. What are the relationships between attrition and other variables?\n",
    " According to the correlations between one and other variables, we can directly find out if there is any relationship between them. If yes, it is positive or negative. Moreover, if there are high correlations, they may have multicollinearity which must be judged if we need to delete it.  \n",
    "\n",
    "3. Which features are most contributed to the response variable?  \n",
    "The results are not only beneficial for us to reduce the model overfitting problems but also help us discover better features to predict the employees’ attrition. In the real world, the HR department can increase the performance of the most contributed features to decrease the employees’ leaving.\n",
    "\n",
    "4. What is the best model to predict employees’ attrition?  \n",
    "The best model can generate the best predictions of employees’ attrition based on different metrics. It is a useful way for us to discover what features are the main influence on employees’ attrition. In the real world, HR departments can figure out which employees want to quit the job. Other than that, HR may improve the main features which belong to the best model for employees to keep the highly qualified staff. \n",
    "\n",
    "5. What is the percentage of attrition in each independent variable? \n",
    "We can directly see the employees’ attrition differences and comparisons in each categorical independent variable to understand what has higher or lower numbers of employees’ attrition. We will know the basic employees’ attrition situations in different fields. According to the result, we can discover if the feature has a significant impact on attrition. If there is a significant effect, we should consider it to be a part of the models when we do feature selection.\n"
   ]
  },
  {
   "cell_type": "markdown",
   "metadata": {},
   "source": [
    "### Data to be used\n",
    "\n",
    "We are going to use the dataset is about IBM HR analytics employees’ attrition and performance from the Kaggle website https://www.kaggle.com/pavansubhasht/ibm-hr-analytics-attrition-dataset?select=WA_Fn-UseC_-HR-Employee-Attrition.csv . In this dataset, it has 1470 observations and 21 attributes which contains 8 numerical variables and 13 categorical variables. There is no unlabeled data. The explanations and data type descriptions are as follows list. If any value of observations is out of the range that I listed below, the value is invalid.\n",
    "1. Age: the age of employees, all of them are over 18. - int, continuous\n",
    "2. Attrition: if an employee quit the job. Yes or no - - Object, binary data, the response variable.\n",
    "3. BusinessTravel: how frequency of employees’ business travel. - object,categorical data\n",
    "4. DailyRate: the daily income each employee gets from company IBM. - positive integer, discrete\n",
    "5. DistanceFromHome: the distance between each employee’s address and company. - positive integer, continuous\n",
    "6. Education: the education level for each employee. 1 = 'Below College', 2 = 'College', 3 =  'Bachelor', 4 =  'Master', 5 =  'Doctor'   - positive integer  from 1 to 5, categorical data\n",
    "7. EmployeeNumber: the uniqueindex or id of each employee. - positive integer, continuous\n",
    "8. EnvironmentSatisfaction: how does each employee feel for the company working environment. The range is from low to high, 1= 'Low', 2= 'Medium', 3= 'High', 4= 'Very High'. - positive integer from 1 to 4, ordinal data\n",
    "9. Gender: the sex of each employee. Female or male - object, categorical data\n",
    "10. JobInvolvement: a state of psychological identification with each employee’s work—or the degree to which a job is central to a person's identity. 1 = 'Low', 2= 'Medium', 3= 'High', 4= 'Very High',  - positive integer from 1 to 4, ordinal data\n",
    "11. JobLevel: the level of job for each employee - positive integer, discrete\n",
    "12. JobRole: the job title for each employee - object, categorical\n",
    "13. JobSatisfaction: how does each employee feel about his or her job. It is from low to high. 1 = 'Low', 2= 'Medium', 3= 'High', 4= 'Very High',  - positive integer from 1 to 4, ordinal data\n",
    "14. MaritalStatus: the marital status for each employee. Single or Married - Object, categorical data\n",
    "15. OverTime: if the employee works always over time. Yes or no - Object, binary data\n",
    "16. PerformanceRating: the rating of each employee’s performance. 1 ='Low', 2='Good', 3= 'Excellent', 4= 'Outstanding' - positive integer from 1 to 4, ordinal data\n",
    "17. RelationshipSatisfaction:  how does each employee feel about his or her working relationship. 1 = 'Low', 2= 'Medium', 3= 'High', 4= 'Very High',  - positive integer from 1 to 4, ordinal data\n",
    "18. TrainingTimesLastYear: the total training time for each employee from last year. - positive integer or zero, continuous\n",
    "19. WorkLifeBalance: how does each employee feel about the work life balance. 1='Bad', 2= 'Good', 3= 'Better', 4= 'Best'  - positive integer from 1 to 4, ordinal data\n",
    "20. YearsAtCompany: the number of years that each employee stays at the company.  - positive integer or zero, continuous\n",
    "21. YearsWithCurrManager: the number of years that each employee works with the current direct manager.  - positive integer or zero, continuous\n",
    "\n",
    "\n",
    "\n",
    "\n",
    "\n",
    "In the research, we make ‘Attrition’ to be a response variable, others are explanatory variables. \n"
   ]
  },
  {
   "cell_type": "markdown",
   "metadata": {},
   "source": [
    "### **Approach:**"
   ]
  },
  {
   "cell_type": "markdown",
   "metadata": {},
   "source": [
    "After we download this excel, we upload it to the Github for store and for Jupyter use.\n",
    "\n",
    "For the whole approaches of this project. The first step is statistical analysis. We will check the percentage of attrition in each independent variable. Then, we plan to go through the distributions for numerical attributes and histograms for categorical variables. In addition, we can know the maximum, minimum, mean numbers of each numerical variable. We may use the domain knowledge to judge if there is any unmeaningful attribute or tell us if there are outliers that should be deleted. Other than that, we may utilize the mean or mode to impute the missing values if they are less than 5%. The correlations between one and other variables also are an important part of statistical analysis. We must check the correlations for each variable. It is beneficial for us to discover multicollinearity and do the feature selections.\n",
    "\n",
    "Second, we would use some plots to explain our data. We plan to use histograms and box plots to show the distribution and outliers for the EDA part. Then use heatmap to show the coefficient relationships between all variables. We may also use bar plots to show the relationships between some explanatory variables and response variables. Finally, we may use some other graphs to explain our model accuracy, like confusion mattrics and Area Under the Curve(AUC).\n",
    "\n",
    "Third, we will start to build models. We plan to use Logistic regression, KNN, SVM, Decision tree, and Random forest models to predict our response variable. And we will use metrics(Accuracy, precision, recall) and ROC (Receiver Operating Characteristic) Curve to evaluate their performances and select the best model depending on the main metric."
   ]
  },
  {
   "cell_type": "markdown",
   "metadata": {},
   "source": [
    "### **Ensemble Model:**\n",
    "\n",
    "The goal of this project is to develop a predictive model for employee attrition. This model could be useful to reduce the attrition rate. Since the dependent variable of this project is 'attrition' (yes/no) that is a binary variable, we'll develop a classification model to predict the class labels for the new data. The classification algorithms that we are going to use are Binary Logistic regression, KNN, SVM, Decision Trees, and Random Forest. \n",
    "\n",
    "Then, we'll use the ensemble methods to combine multiple models to improve the overall performance. By using ensemble methods, we’re able to increase the stability of the final model and reduce the errors.\n",
    "\n",
    "There are three main terms describing the ensemble of various models into one more effective model:\n",
    "\n",
    "* `Bagging` to decrease the model’s variance;\n",
    "* `Boosting` to decreasing the model’s bias, and;\n",
    "* `Stacking` to increasing the predictive force of the classifier.\n",
    "\n",
    "In this project, we'll use the `bagging` ensemble method to create bagging models.\n",
    "\n",
    "We'll use the ensemble of different classifiers in this study, including binary logistic regression, knn, SVM, Decision Trees, and Random Forest. In order to construct the ensemble classifier, we'll use sklearn's `VotingClassifier` to combine different classifiers and perform a vote on what the predicted class labels are for a record.\n",
    "\n",
    "We'll use `voting='soft'` for the `VotingClassifier`. In many cases, soft voting performs better than hard voting, since it takes into account how certain each voter is, rather than just a binary input from the voter. Soft voting arrives at the best result by averaging out the probabilities calculated by individual algorithms. Also, only soft voting produces prediction probabilities, and we need the probilities to plot ROC curve. \n",
    "\n",
    "Also, we'll use the `bagging` ensemble method via sklearn's `BaggingClassifier` to develop bagging models for each classifier, and perform a vote by using `VotingClassifier`. After voting, we'll get two ensemble models - one is the ensemble model of base classifiers, the other one is the ensemble model of bagged classifiers. \n",
    "\n",
    "The following diagram presents the workflow of developing ensemble models:\n",
    "\n",
    "<img src=\"https://raw.githubusercontent.com/susanqisun/DAV-6150/master/assignments/picture/Untitled%20Diagram%20(5).jpg\">\n",
    "\n",
    "\n",
    "\n"
   ]
  },
  {
   "cell_type": "markdown",
   "metadata": {},
   "source": [
    "Last but not least, considering this Data Science project is really helpful to strengthen our capabilities. All of our members would work together for every step, which could make sure we have the best performance. More importantly, we all could have a full understanding for the whole project."
   ]
  },
  {
   "cell_type": "code",
   "execution_count": null,
   "metadata": {},
   "outputs": [],
   "source": []
  }
 ],
 "metadata": {
  "kernelspec": {
   "display_name": "Python 3",
   "language": "python",
   "name": "python3"
  },
  "language_info": {
   "codemirror_mode": {
    "name": "ipython",
    "version": 3
   },
   "file_extension": ".py",
   "mimetype": "text/x-python",
   "name": "python",
   "nbconvert_exporter": "python",
   "pygments_lexer": "ipython3",
   "version": "3.7.3"
  },
  "varInspector": {
   "cols": {
    "lenName": 16,
    "lenType": 16,
    "lenVar": 40
   },
   "kernels_config": {
    "python": {
     "delete_cmd_postfix": "",
     "delete_cmd_prefix": "del ",
     "library": "var_list.py",
     "varRefreshCmd": "print(var_dic_list())"
    },
    "r": {
     "delete_cmd_postfix": ") ",
     "delete_cmd_prefix": "rm(",
     "library": "var_list.r",
     "varRefreshCmd": "cat(var_dic_list()) "
    }
   },
   "types_to_exclude": [
    "module",
    "function",
    "builtin_function_or_method",
    "instance",
    "_Feature"
   ],
   "window_display": false
  }
 },
 "nbformat": 4,
 "nbformat_minor": 2
}
