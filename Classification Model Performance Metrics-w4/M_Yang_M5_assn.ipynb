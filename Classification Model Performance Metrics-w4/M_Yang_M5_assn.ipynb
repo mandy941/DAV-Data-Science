{
 "cells": [
  {
   "cell_type": "markdown",
   "metadata": {},
   "source": [
    "## DAV 6150 Module 5 Assignment\n",
    "-by Group Manling Yang, Xiaojia He, Qi Sun"
   ]
  },
  {
   "cell_type": "markdown",
   "metadata": {},
   "source": [
    "***\n",
    "### Introduction\n",
    "The purpose of this assignment is to calculate a suite of classification model performance metrics via Python code functions that you\n",
    "create and then comparing our results to those of pre-built Python functions that automatically calculate those same metrics. \n",
    "\n",
    "#### The data set has three key columns we will use:\n",
    "1. class: the actual classification for the observation\n",
    "2. scored.class: the predicted classification for the observation (can only be ‘0’ or ‘1’; identified by comparing the classification model’s probability score (i.e., the likelihood that the correct classification for an observation is a ‘1’) for the observation against a 0.50 threshold))\n",
    "3. scored.probability: the classification model’s probability score (i.e., the likelihood that the correct classification for an observation is a ‘1’) for the observation\n",
    "\n",
    ">The order of our completed tasks: 1-9, 11, 12; Then, 10 and 13.\n"
   ]
  },
  {
   "cell_type": "code",
   "execution_count": 1,
   "metadata": {
    "ExecuteTime": {
     "end_time": "2020-06-22T01:24:34.516872Z",
     "start_time": "2020-06-22T01:24:32.163840Z"
    }
   },
   "outputs": [
    {
     "name": "stderr",
     "output_type": "stream",
     "text": [
      "/Users/yangyang/opt/anaconda3/lib/python3.7/site-packages/statsmodels/tools/_testing.py:19: FutureWarning: pandas.util.testing is deprecated. Use the functions in the public API at pandas.testing instead.\n",
      "  import pandas.util.testing as tm\n"
     ]
    }
   ],
   "source": [
    "# Importing required libraries.\n",
    "import pandas as pd\n",
    "import numpy as np\n",
    "\n",
    "import seaborn as sns #visualisation\n",
    "import matplotlib.pyplot as plt #visualisation\n",
    "%matplotlib inline \n",
    "sns.set(color_codes=True)"
   ]
  },
  {
   "cell_type": "markdown",
   "metadata": {},
   "source": [
    "### 1, 2) Load data"
   ]
  },
  {
   "cell_type": "code",
   "execution_count": 2,
   "metadata": {
    "ExecuteTime": {
     "end_time": "2020-06-22T01:24:45.625071Z",
     "start_time": "2020-06-22T01:24:44.349530Z"
    }
   },
   "outputs": [
    {
     "data": {
      "text/html": [
       "<div>\n",
       "<style scoped>\n",
       "    .dataframe tbody tr th:only-of-type {\n",
       "        vertical-align: middle;\n",
       "    }\n",
       "\n",
       "    .dataframe tbody tr th {\n",
       "        vertical-align: top;\n",
       "    }\n",
       "\n",
       "    .dataframe thead th {\n",
       "        text-align: right;\n",
       "    }\n",
       "</style>\n",
       "<table border=\"1\" class=\"dataframe\">\n",
       "  <thead>\n",
       "    <tr style=\"text-align: right;\">\n",
       "      <th></th>\n",
       "      <th>pregnant</th>\n",
       "      <th>glucose</th>\n",
       "      <th>diastolic</th>\n",
       "      <th>skinfold</th>\n",
       "      <th>insulin</th>\n",
       "      <th>bmi</th>\n",
       "      <th>pedigree</th>\n",
       "      <th>age</th>\n",
       "      <th>class</th>\n",
       "      <th>scored.class</th>\n",
       "      <th>scored.probability</th>\n",
       "    </tr>\n",
       "  </thead>\n",
       "  <tbody>\n",
       "    <tr>\n",
       "      <th>0</th>\n",
       "      <td>7</td>\n",
       "      <td>124</td>\n",
       "      <td>70</td>\n",
       "      <td>33</td>\n",
       "      <td>215</td>\n",
       "      <td>25.5</td>\n",
       "      <td>0.161</td>\n",
       "      <td>37</td>\n",
       "      <td>0</td>\n",
       "      <td>0</td>\n",
       "      <td>0.328452</td>\n",
       "    </tr>\n",
       "    <tr>\n",
       "      <th>1</th>\n",
       "      <td>2</td>\n",
       "      <td>122</td>\n",
       "      <td>76</td>\n",
       "      <td>27</td>\n",
       "      <td>200</td>\n",
       "      <td>35.9</td>\n",
       "      <td>0.483</td>\n",
       "      <td>26</td>\n",
       "      <td>0</td>\n",
       "      <td>0</td>\n",
       "      <td>0.273190</td>\n",
       "    </tr>\n",
       "    <tr>\n",
       "      <th>2</th>\n",
       "      <td>3</td>\n",
       "      <td>107</td>\n",
       "      <td>62</td>\n",
       "      <td>13</td>\n",
       "      <td>48</td>\n",
       "      <td>22.9</td>\n",
       "      <td>0.678</td>\n",
       "      <td>23</td>\n",
       "      <td>1</td>\n",
       "      <td>0</td>\n",
       "      <td>0.109660</td>\n",
       "    </tr>\n",
       "    <tr>\n",
       "      <th>3</th>\n",
       "      <td>1</td>\n",
       "      <td>91</td>\n",
       "      <td>64</td>\n",
       "      <td>24</td>\n",
       "      <td>0</td>\n",
       "      <td>29.2</td>\n",
       "      <td>0.192</td>\n",
       "      <td>21</td>\n",
       "      <td>0</td>\n",
       "      <td>0</td>\n",
       "      <td>0.055998</td>\n",
       "    </tr>\n",
       "    <tr>\n",
       "      <th>4</th>\n",
       "      <td>4</td>\n",
       "      <td>83</td>\n",
       "      <td>86</td>\n",
       "      <td>19</td>\n",
       "      <td>0</td>\n",
       "      <td>29.3</td>\n",
       "      <td>0.317</td>\n",
       "      <td>34</td>\n",
       "      <td>0</td>\n",
       "      <td>0</td>\n",
       "      <td>0.100491</td>\n",
       "    </tr>\n",
       "  </tbody>\n",
       "</table>\n",
       "</div>"
      ],
      "text/plain": [
       "   pregnant  glucose  diastolic  skinfold  insulin   bmi  pedigree  age  \\\n",
       "0         7      124         70        33      215  25.5     0.161   37   \n",
       "1         2      122         76        27      200  35.9     0.483   26   \n",
       "2         3      107         62        13       48  22.9     0.678   23   \n",
       "3         1       91         64        24        0  29.2     0.192   21   \n",
       "4         4       83         86        19        0  29.3     0.317   34   \n",
       "\n",
       "   class  scored.class  scored.probability  \n",
       "0      0             0            0.328452  \n",
       "1      0             0            0.273190  \n",
       "2      1             0            0.109660  \n",
       "3      0             0            0.055998  \n",
       "4      0             0            0.100491  "
      ]
     },
     "execution_count": 2,
     "metadata": {},
     "output_type": "execute_result"
    }
   ],
   "source": [
    "# read datasource from Github\n",
    "df = pd.read_csv(\"https://raw.githubusercontent.com/XIAOJIA68/DAV-6150/master/M5_Data.csv\")\n",
    "# To display the top 5 rows\n",
    "df.head()\n"
   ]
  },
  {
   "cell_type": "markdown",
   "metadata": {},
   "source": [
    "***\n",
    "### 3) Use Pandas’ `crosstab()` function to calculate the contents of a confusion matrix for the data.\n",
    "\n",
    "`df['class']` is the actual classification for the observation.\n",
    "\n",
    "`df['scored.class']` is the predicted classification for the observation.\n"
   ]
  },
  {
   "cell_type": "code",
   "execution_count": 3,
   "metadata": {
    "ExecuteTime": {
     "end_time": "2020-06-21T04:28:51.671164Z",
     "start_time": "2020-06-21T04:28:51.577199Z"
    }
   },
   "outputs": [
    {
     "data": {
      "text/html": [
       "<div>\n",
       "<style scoped>\n",
       "    .dataframe tbody tr th:only-of-type {\n",
       "        vertical-align: middle;\n",
       "    }\n",
       "\n",
       "    .dataframe tbody tr th {\n",
       "        vertical-align: top;\n",
       "    }\n",
       "\n",
       "    .dataframe thead th {\n",
       "        text-align: right;\n",
       "    }\n",
       "</style>\n",
       "<table border=\"1\" class=\"dataframe\">\n",
       "  <thead>\n",
       "    <tr style=\"text-align: right;\">\n",
       "      <th>Predicted</th>\n",
       "      <th>0</th>\n",
       "      <th>1</th>\n",
       "      <th>All</th>\n",
       "    </tr>\n",
       "    <tr>\n",
       "      <th>Actual</th>\n",
       "      <th></th>\n",
       "      <th></th>\n",
       "      <th></th>\n",
       "    </tr>\n",
       "  </thead>\n",
       "  <tbody>\n",
       "    <tr>\n",
       "      <th>0</th>\n",
       "      <td>119</td>\n",
       "      <td>5</td>\n",
       "      <td>124</td>\n",
       "    </tr>\n",
       "    <tr>\n",
       "      <th>1</th>\n",
       "      <td>30</td>\n",
       "      <td>27</td>\n",
       "      <td>57</td>\n",
       "    </tr>\n",
       "    <tr>\n",
       "      <th>All</th>\n",
       "      <td>149</td>\n",
       "      <td>32</td>\n",
       "      <td>181</td>\n",
       "    </tr>\n",
       "  </tbody>\n",
       "</table>\n",
       "</div>"
      ],
      "text/plain": [
       "Predicted    0   1  All\n",
       "Actual                 \n",
       "0          119   5  124\n",
       "1           30  27   57\n",
       "All        149  32  181"
      ]
     },
     "execution_count": 3,
     "metadata": {},
     "output_type": "execute_result"
    }
   ],
   "source": [
    "# use the crosstab() function to show the contents of a confusion matrix\n",
    "cm = pd.crosstab(df['class'], df['scored.class'], rownames=['Actual'], colnames=['Predicted'], margins=True)\n",
    "cm\n"
   ]
  },
  {
   "cell_type": "markdown",
   "metadata": {},
   "source": [
    ">1. For the output of confusion matrix, the rows represent the actual classification and the columns represent the predicted classification. \n",
    ">2. The total number of observations is 181.\n",
    ">3. The total number of the actual classification 0 value is 124. Among them, 119 observations were predicted correctly, and 5 observations were incorrectly predicted as 1. \n",
    ">4. The total number of the actual classification 1 value is 57. Among them, 27 observations were predicted correctly, and 30 observations were incorrectly predicted as 0. \n",
    "\n",
    "#### Check the output by using `value_counts()`"
   ]
  },
  {
   "cell_type": "code",
   "execution_count": 4,
   "metadata": {
    "ExecuteTime": {
     "end_time": "2020-06-21T01:11:19.962329Z",
     "start_time": "2020-06-21T01:11:19.934310Z"
    }
   },
   "outputs": [
    {
     "data": {
      "text/html": [
       "<div>\n",
       "<style scoped>\n",
       "    .dataframe tbody tr th:only-of-type {\n",
       "        vertical-align: middle;\n",
       "    }\n",
       "\n",
       "    .dataframe tbody tr th {\n",
       "        vertical-align: top;\n",
       "    }\n",
       "\n",
       "    .dataframe thead th {\n",
       "        text-align: right;\n",
       "    }\n",
       "</style>\n",
       "<table border=\"1\" class=\"dataframe\">\n",
       "  <thead>\n",
       "    <tr style=\"text-align: right;\">\n",
       "      <th></th>\n",
       "      <th>counts</th>\n",
       "    </tr>\n",
       "    <tr>\n",
       "      <th>actual class</th>\n",
       "      <th></th>\n",
       "    </tr>\n",
       "  </thead>\n",
       "  <tbody>\n",
       "    <tr>\n",
       "      <th>0</th>\n",
       "      <td>124</td>\n",
       "    </tr>\n",
       "    <tr>\n",
       "      <th>1</th>\n",
       "      <td>57</td>\n",
       "    </tr>\n",
       "  </tbody>\n",
       "</table>\n",
       "</div>"
      ],
      "text/plain": [
       "              counts\n",
       "actual class        \n",
       "0                124\n",
       "1                 57"
      ]
     },
     "execution_count": 4,
     "metadata": {},
     "output_type": "execute_result"
    }
   ],
   "source": [
    "# check counts of the actual observations\n",
    "df['class'].value_counts().rename_axis('actual class').to_frame('counts')"
   ]
  },
  {
   "cell_type": "code",
   "execution_count": 5,
   "metadata": {
    "ExecuteTime": {
     "end_time": "2020-06-21T01:11:22.354698Z",
     "start_time": "2020-06-21T01:11:22.339748Z"
    }
   },
   "outputs": [
    {
     "data": {
      "text/html": [
       "<div>\n",
       "<style scoped>\n",
       "    .dataframe tbody tr th:only-of-type {\n",
       "        vertical-align: middle;\n",
       "    }\n",
       "\n",
       "    .dataframe tbody tr th {\n",
       "        vertical-align: top;\n",
       "    }\n",
       "\n",
       "    .dataframe thead th {\n",
       "        text-align: right;\n",
       "    }\n",
       "</style>\n",
       "<table border=\"1\" class=\"dataframe\">\n",
       "  <thead>\n",
       "    <tr style=\"text-align: right;\">\n",
       "      <th></th>\n",
       "      <th>counts</th>\n",
       "    </tr>\n",
       "    <tr>\n",
       "      <th>predicted class</th>\n",
       "      <th></th>\n",
       "    </tr>\n",
       "  </thead>\n",
       "  <tbody>\n",
       "    <tr>\n",
       "      <th>0</th>\n",
       "      <td>149</td>\n",
       "    </tr>\n",
       "    <tr>\n",
       "      <th>1</th>\n",
       "      <td>32</td>\n",
       "    </tr>\n",
       "  </tbody>\n",
       "</table>\n",
       "</div>"
      ],
      "text/plain": [
       "                 counts\n",
       "predicted class        \n",
       "0                   149\n",
       "1                    32"
      ]
     },
     "execution_count": 5,
     "metadata": {},
     "output_type": "execute_result"
    }
   ],
   "source": [
    "# check counts of the predicted observations\n",
    "df['scored.class'].value_counts().rename_axis('predicted class').to_frame('counts')\n"
   ]
  },
  {
   "cell_type": "markdown",
   "metadata": {},
   "source": [
    "Combining to the data above, We can see that the results in our crosstab are the same with our results in value_counts."
   ]
  },
  {
   "cell_type": "markdown",
   "metadata": {},
   "source": [
    "***\n",
    "### 4) Extract the individual confusion matrix values"
   ]
  },
  {
   "cell_type": "code",
   "execution_count": 11,
   "metadata": {
    "ExecuteTime": {
     "end_time": "2020-06-21T04:29:29.962928Z",
     "start_time": "2020-06-21T04:29:29.956706Z"
    }
   },
   "outputs": [
    {
     "data": {
      "text/html": [
       "<div>\n",
       "<style scoped>\n",
       "    .dataframe tbody tr th:only-of-type {\n",
       "        vertical-align: middle;\n",
       "    }\n",
       "\n",
       "    .dataframe tbody tr th {\n",
       "        vertical-align: top;\n",
       "    }\n",
       "\n",
       "    .dataframe thead th {\n",
       "        text-align: right;\n",
       "    }\n",
       "</style>\n",
       "<table border=\"1\" class=\"dataframe\">\n",
       "  <thead>\n",
       "    <tr style=\"text-align: right;\">\n",
       "      <th></th>\n",
       "      <th>confusion matrix</th>\n",
       "      <th>count</th>\n",
       "    </tr>\n",
       "  </thead>\n",
       "  <tbody>\n",
       "    <tr>\n",
       "      <th>0</th>\n",
       "      <td>True_Negative</td>\n",
       "      <td>119</td>\n",
       "    </tr>\n",
       "    <tr>\n",
       "      <th>1</th>\n",
       "      <td>True_Positive</td>\n",
       "      <td>27</td>\n",
       "    </tr>\n",
       "    <tr>\n",
       "      <th>2</th>\n",
       "      <td>False_Negative</td>\n",
       "      <td>30</td>\n",
       "    </tr>\n",
       "    <tr>\n",
       "      <th>3</th>\n",
       "      <td>False_Positive</td>\n",
       "      <td>5</td>\n",
       "    </tr>\n",
       "  </tbody>\n",
       "</table>\n",
       "</div>"
      ],
      "text/plain": [
       "  confusion matrix  count\n",
       "0    True_Negative    119\n",
       "1    True_Positive     27\n",
       "2   False_Negative     30\n",
       "3   False_Positive      5"
      ]
     },
     "execution_count": 11,
     "metadata": {},
     "output_type": "execute_result"
    }
   ],
   "source": [
    "# extract the True Positive, False Positive, True Negative, False Negative\n",
    "\n",
    "TN = cm[0][0]\n",
    "TP = cm[1][1]\n",
    "FN = cm[0][1]\n",
    "FP = cm[1][0]\n",
    "\n",
    "# put extracted values into a data frame\n",
    "df02 = pd.DataFrame({'confusion matrix':['True_Negative', 'True_Positive','False_Negative','False_Positive'],\n",
    "                   'count': [TN,TP,FN,FP]})\n",
    "df02  "
   ]
  },
  {
   "cell_type": "markdown",
   "metadata": {},
   "source": [
    "##### Results:\n",
    ">TN(True Negative) is 119: Actual Observation is 0, and model is predicting them as 0.\n",
    "\n",
    ">TP(True Positive) is 27: Actual Observation is 1, and model is predicting them as 1.\n",
    "\n",
    ">FN(False Negative) is 30: Actual Observation is 1, and model is predicting them as 0.\n",
    "\n",
    ">FP(False Positive) is 5 : Actual Observation is 0, and model is predicting them as 1.\n",
    "\n",
    "***\n",
    "### 5) Define function -  Accuracy metric\n",
    "\n",
    "Overall, how often is the classifier correct? It's the percent of correct predictions"
   ]
  },
  {
   "cell_type": "code",
   "execution_count": 15,
   "metadata": {
    "ExecuteTime": {
     "end_time": "2020-06-21T05:01:23.667609Z",
     "start_time": "2020-06-21T05:01:23.660340Z"
    }
   },
   "outputs": [],
   "source": [
    "# Define a function to compute the accuracy\n",
    "def compute_accuracy(y_true, y_pred):\n",
    "    cm = pd.crosstab(y_true, y_pred, rownames=['Actual'], colnames=['Predicted'], margins=True)\n",
    "    TN = cm[0][0]\n",
    "    TP = cm[1][1]\n",
    "    FN = cm[0][1]\n",
    "    FP = cm[1][0]\n",
    "    func_accuracy = (TP + TN) / (TP + TN + FP + FN)\n",
    "    return func_accuracy"
   ]
  },
  {
   "cell_type": "markdown",
   "metadata": {},
   "source": [
    "***\n",
    "### 6) Define function -  Precision metric\n",
    "When a positive (1) value is predicted, how often is the prediction correct? It's the ability to find only relevant samples (not label a negative as a positive)"
   ]
  },
  {
   "cell_type": "code",
   "execution_count": 16,
   "metadata": {
    "ExecuteTime": {
     "end_time": "2020-06-21T05:02:10.974284Z",
     "start_time": "2020-06-21T05:02:10.963851Z"
    }
   },
   "outputs": [],
   "source": [
    "# Define a function to compute the precision\n",
    "def compute_precision(y_true, y_pred):\n",
    "    cm = pd.crosstab(y_true, y_pred, rownames=['Actual'], colnames=['Predicted'], margins=True)\n",
    "    TN = cm[0][0]\n",
    "    TP = cm[1][1]\n",
    "    FN = cm[0][1]\n",
    "    FP = cm[1][0]\n",
    "    func_precision = TP / (TP + FP)\n",
    "    return func_precision"
   ]
  },
  {
   "cell_type": "markdown",
   "metadata": {},
   "source": [
    "***\n",
    "### 7) Define function -  Sensitivity/Recall metric\n",
    "\n",
    "When the actual value is 1, how often is the prediction correct? It's the ability to find all positive samples"
   ]
  },
  {
   "cell_type": "code",
   "execution_count": 17,
   "metadata": {
    "ExecuteTime": {
     "end_time": "2020-06-21T05:02:43.088806Z",
     "start_time": "2020-06-21T05:02:43.080497Z"
    }
   },
   "outputs": [],
   "source": [
    "# Define a function to compute the recall\n",
    "def compute_sensitivity(y_true, y_pred):\n",
    "    cm = pd.crosstab(y_true, y_pred, rownames=['Actual'], colnames=['Predicted'], margins=True)\n",
    "    TN = cm[0][0]\n",
    "    TP = cm[1][1]\n",
    "    FN = cm[0][1]\n",
    "    FP = cm[1][0]\n",
    "    func_recall = TP / (TP + FN)\n",
    "    return func_recall"
   ]
  },
  {
   "cell_type": "markdown",
   "metadata": {},
   "source": [
    "***\n",
    "### 8) Define function -  Specificity metric\n",
    "\n",
    "When the actual value is 0, how often is the prediction correct? It's the exact opposite of Recall."
   ]
  },
  {
   "cell_type": "code",
   "execution_count": 18,
   "metadata": {
    "ExecuteTime": {
     "end_time": "2020-06-21T05:03:25.970079Z",
     "start_time": "2020-06-21T05:03:25.955056Z"
    }
   },
   "outputs": [],
   "source": [
    "# Define a function to compute the specificity\n",
    "def compute_specificity(y_true, y_pred):\n",
    "    cm = pd.crosstab(y_true, y_pred, rownames=['Actual'], colnames=['Predicted'], margins=True)\n",
    "    TN = cm[0][0]\n",
    "    TP = cm[1][1]\n",
    "    FN = cm[0][1]\n",
    "    FP = cm[1][0]    \n",
    "    func_specificity = TN/(TN + FP)\n",
    "    return func_specificity\n"
   ]
  },
  {
   "cell_type": "markdown",
   "metadata": {},
   "source": [
    "***\n",
    "### 9) Define function -  F1 Score metric\n",
    "\n",
    "It is difficult to compare two models with low precision and high recall or vice versa. So to make them comparable, we use F-Score. F-score helps to measure Recall and Precision at the same time. It uses Harmonic Mean in place of Arithmetic Mean by punishing the extreme values more.\n",
    "\n",
    "F1 Score = 2 * Precision * Recall / (Precision + Recall)"
   ]
  },
  {
   "cell_type": "code",
   "execution_count": 19,
   "metadata": {
    "ExecuteTime": {
     "end_time": "2020-06-21T05:03:56.579615Z",
     "start_time": "2020-06-21T05:03:56.570480Z"
    }
   },
   "outputs": [],
   "source": [
    "# Define a function to compute the f1 score\n",
    "def compute_F1_score(y_true, y_pred):\n",
    "    cm = pd.crosstab(y_true, y_pred, rownames=['Actual'], colnames=['Predicted'], margins=True)\n",
    "    TN = cm[0][0]\n",
    "    TP = cm[1][1]\n",
    "    FN = cm[0][1]\n",
    "    FP = cm[1][0]\n",
    "    f1_score = (2*(TP/(TP + FP))*(TP/(FN + TP))) / ((TP/(TP + FP))+(TP/(FN + TP)))\n",
    "    return f1_score\n"
   ]
  },
  {
   "cell_type": "markdown",
   "metadata": {},
   "source": [
    "***\n",
    "### 11) Apply the Python functions we’ve created to the relevant columns of the provided data set to produce the classification metrics "
   ]
  },
  {
   "cell_type": "code",
   "execution_count": 40,
   "metadata": {},
   "outputs": [
    {
     "data": {
      "text/plain": [
       "0.8066298342541437"
      ]
     },
     "execution_count": 40,
     "metadata": {},
     "output_type": "execute_result"
    }
   ],
   "source": [
    "# call the function to compute the accuracy\n",
    "\n",
    "func_accuracy = compute_accuracy(df['class'], df['scored.class'])\n",
    "func_accuracy"
   ]
  },
  {
   "cell_type": "code",
   "execution_count": 43,
   "metadata": {},
   "outputs": [
    {
     "data": {
      "text/plain": [
       "0.84375"
      ]
     },
     "execution_count": 43,
     "metadata": {},
     "output_type": "execute_result"
    }
   ],
   "source": [
    "# call the function to compute the precision\n",
    "\n",
    "func_precision = compute_precision(df['class'], df['scored.class'])\n",
    "func_precision"
   ]
  },
  {
   "cell_type": "code",
   "execution_count": 42,
   "metadata": {},
   "outputs": [
    {
     "data": {
      "text/plain": [
       "0.47368421052631576"
      ]
     },
     "execution_count": 42,
     "metadata": {},
     "output_type": "execute_result"
    }
   ],
   "source": [
    "# call the function to compute the sensitivity\n",
    "\n",
    "func_sensitivity = compute_sensitivity(df['class'], df['scored.class'])\n",
    "func_sensitivity"
   ]
  },
  {
   "cell_type": "code",
   "execution_count": 44,
   "metadata": {},
   "outputs": [
    {
     "data": {
      "text/plain": [
       "0.9596774193548387"
      ]
     },
     "execution_count": 44,
     "metadata": {},
     "output_type": "execute_result"
    }
   ],
   "source": [
    "# call the function to compute the specificity\n",
    "\n",
    "func_specificity = compute_specificity(df['class'], df['scored.class'])\n",
    "func_specificity"
   ]
  },
  {
   "cell_type": "code",
   "execution_count": 45,
   "metadata": {},
   "outputs": [
    {
     "data": {
      "text/plain": [
       "0.6067415730337079"
      ]
     },
     "execution_count": 45,
     "metadata": {},
     "output_type": "execute_result"
    }
   ],
   "source": [
    "# call a function to compute the f1 score\n",
    "\n",
    "func_f1score = compute_F1_score(df['class'], df['scored.class'])\n",
    "func_f1score"
   ]
  },
  {
   "cell_type": "markdown",
   "metadata": {},
   "source": [
    "***\n",
    "### 12) Compare the output of our functions against the output of the pre-built functions available within the scikit-learn library"
   ]
  },
  {
   "cell_type": "markdown",
   "metadata": {},
   "source": [
    "#### * Check the output by using `sklearn.metrics.confusion_matrix`"
   ]
  },
  {
   "cell_type": "code",
   "execution_count": 36,
   "metadata": {},
   "outputs": [
    {
     "data": {
      "text/html": [
       "<div>\n",
       "<style scoped>\n",
       "    .dataframe tbody tr th:only-of-type {\n",
       "        vertical-align: middle;\n",
       "    }\n",
       "\n",
       "    .dataframe tbody tr th {\n",
       "        vertical-align: top;\n",
       "    }\n",
       "\n",
       "    .dataframe thead th {\n",
       "        text-align: right;\n",
       "    }\n",
       "</style>\n",
       "<table border=\"1\" class=\"dataframe\">\n",
       "  <thead>\n",
       "    <tr style=\"text-align: right;\">\n",
       "      <th></th>\n",
       "      <th>Predict0</th>\n",
       "      <th>Predict1</th>\n",
       "    </tr>\n",
       "  </thead>\n",
       "  <tbody>\n",
       "    <tr>\n",
       "      <th>Actual0</th>\n",
       "      <td>119</td>\n",
       "      <td>5</td>\n",
       "    </tr>\n",
       "    <tr>\n",
       "      <th>Actual1</th>\n",
       "      <td>30</td>\n",
       "      <td>27</td>\n",
       "    </tr>\n",
       "  </tbody>\n",
       "</table>\n",
       "</div>"
      ],
      "text/plain": [
       "         Predict0  Predict1\n",
       "Actual0       119         5\n",
       "Actual1        30        27"
      ]
     },
     "execution_count": 36,
     "metadata": {},
     "output_type": "execute_result"
    }
   ],
   "source": [
    "from sklearn.metrics import confusion_matrix\n",
    "import matplotlib.pyplot as plt\n",
    "\n",
    "y_actual = df['class']\n",
    "y_predict = df['scored.class']\n",
    "cm02 = pd.DataFrame(confusion_matrix(y_actual, y_predict), columns=[\"Predict0\", \"Predict1\"],\n",
    "             index=[\"Actual0\",\"Actual1\"])\n",
    "\n",
    "cm02"
   ]
  },
  {
   "cell_type": "code",
   "execution_count": 37,
   "metadata": {},
   "outputs": [
    {
     "data": {
      "image/png": "[encoded data removed]",
      "text/plain": [
       "<Figure size 432x288 with 2 Axes>"
      ]
     },
     "metadata": {},
     "output_type": "display_data"
    }
   ],
   "source": [
    "#plot confusion matrix\n",
    "sns.heatmap(cm02, annot=True, fmt='g')\n",
    "plt.show()"
   ]
  },
  {
   "cell_type": "markdown",
   "metadata": {},
   "source": [
    "#### * Check the output by using `sklearn.metrics.accuracy_score`\n"
   ]
  },
  {
   "cell_type": "code",
   "execution_count": 47,
   "metadata": {},
   "outputs": [
    {
     "name": "stdout",
     "output_type": "stream",
     "text": [
      "Accuracy classification score: 0.8066298342541437\n",
      "the Accuracy in our built function 0.8066298342541437\n"
     ]
    }
   ],
   "source": [
    "# calculate accuracy score\n",
    "from sklearn.metrics import accuracy_score\n",
    "\n",
    "accuracy_score = accuracy_score(df['class'], df['scored.class'])\n",
    "print('Accuracy classification score:', accuracy_score)\n",
    "print('the Accuracy in our built function', func_accuracy)"
   ]
  },
  {
   "cell_type": "markdown",
   "metadata": {},
   "source": [
    "#### * Check the output by using `sklearn.metrics.precision_score`"
   ]
  },
  {
   "cell_type": "code",
   "execution_count": 48,
   "metadata": {},
   "outputs": [
    {
     "name": "stdout",
     "output_type": "stream",
     "text": [
      "Precision: 0.84375\n",
      "the Precision in our built function 0.84375\n"
     ]
    }
   ],
   "source": [
    "# calculate precision\n",
    "from sklearn.metrics import precision_score\n",
    "\n",
    "precision = precision_score(df['class'], df['scored.class'], average='binary')\n",
    "print('Precision:', precision)\n",
    "print('the Precision in our built function', func_precision)"
   ]
  },
  {
   "cell_type": "markdown",
   "metadata": {},
   "source": [
    "#### * Check the output by using `sklearn.metrics.recall_score`"
   ]
  },
  {
   "cell_type": "code",
   "execution_count": 49,
   "metadata": {},
   "outputs": [
    {
     "name": "stdout",
     "output_type": "stream",
     "text": [
      "Sensitivity: 0.47368421052631576\n",
      "the Sensitivity in our built function 0.47368421052631576\n"
     ]
    }
   ],
   "source": [
    "# calculate sensitivity\n",
    "from sklearn.metrics import recall_score\n",
    "\n",
    "recall = recall_score(df['class'], df['scored.class'], average='binary')\n",
    "print('Sensitivity:', recall)\n",
    "print('the Sensitivity in our built function', func_sensitivity)"
   ]
  },
  {
   "cell_type": "markdown",
   "metadata": {},
   "source": [
    "#### * Check the output by using `sklearn.metrics.f1_score`"
   ]
  },
  {
   "cell_type": "code",
   "execution_count": 50,
   "metadata": {},
   "outputs": [
    {
     "name": "stdout",
     "output_type": "stream",
     "text": [
      "F1 score: 0.6067415730337079\n",
      "the f1 score in our built function 0.6067415730337079\n"
     ]
    }
   ],
   "source": [
    "# calculate f1 score\n",
    "from sklearn.metrics import f1_score\n",
    "\n",
    "f1 = f1_score(df['class'], df['scored.class'])\n",
    "print('F1 score:', f1)\n",
    "print('the f1 score in our built function', func_f1score)"
   ]
  },
  {
   "cell_type": "markdown",
   "metadata": {},
   "source": [
    "#### * create classification report using the metrics.classification_report() function"
   ]
  },
  {
   "cell_type": "code",
   "execution_count": 51,
   "metadata": {},
   "outputs": [
    {
     "data": {
      "text/html": [
       "<div>\n",
       "<style scoped>\n",
       "    .dataframe tbody tr th:only-of-type {\n",
       "        vertical-align: middle;\n",
       "    }\n",
       "\n",
       "    .dataframe tbody tr th {\n",
       "        vertical-align: top;\n",
       "    }\n",
       "\n",
       "    .dataframe thead th {\n",
       "        text-align: right;\n",
       "    }\n",
       "</style>\n",
       "<table border=\"1\" class=\"dataframe\">\n",
       "  <thead>\n",
       "    <tr style=\"text-align: right;\">\n",
       "      <th></th>\n",
       "      <th>precision</th>\n",
       "      <th>recall</th>\n",
       "      <th>f1-score</th>\n",
       "      <th>support</th>\n",
       "    </tr>\n",
       "  </thead>\n",
       "  <tbody>\n",
       "    <tr>\n",
       "      <th>0</th>\n",
       "      <td>0.798658</td>\n",
       "      <td>0.959677</td>\n",
       "      <td>0.871795</td>\n",
       "      <td>124.00000</td>\n",
       "    </tr>\n",
       "    <tr>\n",
       "      <th>1</th>\n",
       "      <td>0.843750</td>\n",
       "      <td>0.473684</td>\n",
       "      <td>0.606742</td>\n",
       "      <td>57.00000</td>\n",
       "    </tr>\n",
       "    <tr>\n",
       "      <th>accuracy</th>\n",
       "      <td>0.806630</td>\n",
       "      <td>0.806630</td>\n",
       "      <td>0.806630</td>\n",
       "      <td>0.80663</td>\n",
       "    </tr>\n",
       "    <tr>\n",
       "      <th>macro avg</th>\n",
       "      <td>0.821204</td>\n",
       "      <td>0.716681</td>\n",
       "      <td>0.739268</td>\n",
       "      <td>181.00000</td>\n",
       "    </tr>\n",
       "    <tr>\n",
       "      <th>weighted avg</th>\n",
       "      <td>0.812858</td>\n",
       "      <td>0.806630</td>\n",
       "      <td>0.788325</td>\n",
       "      <td>181.00000</td>\n",
       "    </tr>\n",
       "  </tbody>\n",
       "</table>\n",
       "</div>"
      ],
      "text/plain": [
       "              precision    recall  f1-score    support\n",
       "0              0.798658  0.959677  0.871795  124.00000\n",
       "1              0.843750  0.473684  0.606742   57.00000\n",
       "accuracy       0.806630  0.806630  0.806630    0.80663\n",
       "macro avg      0.821204  0.716681  0.739268  181.00000\n",
       "weighted avg   0.812858  0.806630  0.788325  181.00000"
      ]
     },
     "execution_count": 51,
     "metadata": {},
     "output_type": "execute_result"
    }
   ],
   "source": [
    "# import accuracy_score library\n",
    "from sklearn.metrics import classification_report\n",
    "\n",
    "\n",
    "# use class,scored.classdata to create a metrics.classification_report()\n",
    "report = classification_report(df['class'],df['scored.class'],output_dict=True)\n",
    "# exchange array to dataframe\n",
    "report2 = pd.DataFrame(report).transpose()\n",
    "report2"
   ]
  },
  {
   "cell_type": "markdown",
   "metadata": {},
   "source": [
    "#### Findings:\n",
    ">1.Comparing the results from the scikit-learn library with those of the functions we’ve created, we can see that the results from two methods are the same. \n",
    "\n",
    ">2.Both of the Accuracy classification score is 0.8066298342541437, Precision is 0.84375, Sensitivity is 0.47368421052631576, and F1 score is 0.6067415730337079, which proves that our functions are correct."
   ]
  },
  {
   "cell_type": "markdown",
   "metadata": {},
   "source": [
    "***\n",
    "### 10) Create a python function to plot a ROC curve and also calculate AUC \n",
    "\n",
    "Reference: \n",
    "https://ethen8181.github.io/machine-learning/model_selection/auc/auc.html\n",
    "\n",
    "\n",
    "#### Step 01: Calculate tps, fps, and thresholds\n",
    "1.Calculate true and false positives per binary classification threshold. The calcuation makes the assumption that the positive case will always be labeled as 1.\n",
    " \n",
    "2.Parameters: \n",
    "\n",
    "    y_true : true targets/labels of binary classification\n",
    "    y_score : the classification model’s probability scores\n",
    "       \n",
    "3.Returns:\n",
    "\n",
    "    tps : 1d ndarray\n",
    "        True positives counts, index i records the number\n",
    "        of positive samples that got assigned a\n",
    "        score >= thresholds[i].\n",
    "        The total number of positive samples is equal to\n",
    "        tps[-1] (thus false negatives are given by tps[-1] - tps)\n",
    "\n",
    "    fps : 1d ndarray\n",
    "        False positives counts, index i records the number\n",
    "        of negative samples that got assigned a\n",
    "        score >= thresholds[i].\n",
    "        The total number of negative samples is equal to\n",
    "        fps[-1] (thus true negatives are given by fps[-1] - fps)\n",
    "\n",
    "    thresholds : 1d ndarray\n",
    "        Predicted score sorted in decreasing order"
   ]
  },
  {
   "cell_type": "code",
   "execution_count": 3,
   "metadata": {
    "ExecuteTime": {
     "end_time": "2020-06-22T01:34:23.186021Z",
     "start_time": "2020-06-22T01:34:23.157227Z"
    }
   },
   "outputs": [],
   "source": [
    "def _binary_clf_curve(y_true, y_score):\n",
    "    # sort predicted scores in descending order\n",
    "    # and also reorder corresponding truth values\n",
    "    desc_score_indices = np.argsort(y_score)[::-1]\n",
    "    y_score = y_score[desc_score_indices]\n",
    "    y_true = y_true[desc_score_indices]\n",
    "\n",
    "    # y_score typically consists of tied values. Here we extract\n",
    "    # the indices associated with the distinct values. We also\n",
    "    # concatenate a value for the end of the curve\n",
    "    distinct_indices = np.where(np.diff(y_score))[0]\n",
    "    end = np.array([y_true.size - 1])\n",
    "    threshold_indices = np.hstack((distinct_indices, end))\n",
    "\n",
    "    thresholds = y_score[threshold_indices]\n",
    "    tps = np.cumsum(y_true)[threshold_indices]\n",
    "\n",
    "    # (1 + threshold_indices) = the number of positives\n",
    "    # at each index, thus number of data points minus true\n",
    "    # positives = false positives\n",
    "    fps = (1 + threshold_indices) - tps\n",
    "    return tps, fps, thresholds"
   ]
  },
  {
   "cell_type": "markdown",
   "metadata": {
    "ExecuteTime": {
     "end_time": "2020-06-22T01:34:35.961162Z",
     "start_time": "2020-06-22T01:34:35.949982Z"
    }
   },
   "source": [
    "#### Step 02: Calculate AUC \n",
    "\n",
    "1.Compute Area Under the Curve (AUC) from prediction scores\n",
    "\n",
    "2.Parameters:\n",
    "\n",
    "     y_true : 1d ndarray, shape = [n_samples]\n",
    "     True targets/labels of binary classification\n",
    "\n",
    "     y_score : 1d ndarray, shape = [n_samples]\n",
    "     Estimated probabilities or scores\n",
    "\n",
    "3.Returns:\n",
    "\n",
    "     auc : float\n",
    " "
   ]
  },
  {
   "cell_type": "code",
   "execution_count": 5,
   "metadata": {
    "ExecuteTime": {
     "end_time": "2020-06-22T01:34:49.835475Z",
     "start_time": "2020-06-22T01:34:49.823159Z"
    }
   },
   "outputs": [],
   "source": [
    "def _roc_auc_score(y_true, y_score):\n",
    "    # ensure the target is binary\n",
    "    if np.unique(y_true).size != 2:\n",
    "        raise ValueError('Only two class should be present in y_true. ROC AUC score '\n",
    "                         'is not defined in that case.')\n",
    "    \n",
    "    tps, fps, _ = _binary_clf_curve(y_true, y_score)\n",
    "\n",
    "    # convert count to rate\n",
    "    tpr = tps / tps[-1]\n",
    "    fpr = fps / fps[-1]\n",
    "\n",
    "    # compute AUC using the trapezoidal rule;\n",
    "    # appending an extra 0 is just to ensure the length matches\n",
    "    zero = np.array([0])\n",
    "    tpr_diff = np.hstack((np.diff(tpr), zero))\n",
    "    fpr_diff = np.hstack((np.diff(fpr), zero))\n",
    "    auc = np.dot(tpr, fpr_diff) + np.dot(tpr_diff, fpr_diff) / 2\n",
    "    return auc"
   ]
  },
  {
   "cell_type": "markdown",
   "metadata": {},
   "source": [
    "#### Step 03: Plot ROC curve"
   ]
  },
  {
   "cell_type": "code",
   "execution_count": 12,
   "metadata": {
    "ExecuteTime": {
     "end_time": "2020-06-22T01:42:03.820818Z",
     "start_time": "2020-06-22T01:42:03.812192Z"
    }
   },
   "outputs": [],
   "source": [
    "def plot_roc_curve(y_true, y_score):\n",
    "    # convert count to rate, append 0 to\n",
    "    # both true positive and false positive\n",
    "    # so the visualization will start from origin (0, 0)\n",
    "    tpr = np.hstack((0, tps / tps[-1]))\n",
    "    fpr = np.hstack((0, fps / fps[-1]))\n",
    "    plt.plot(fpr, tpr, color='orange', label='AUC=%0.2f'%auc_score)\n",
    "    plt.plot([0, 1], [0, 1], color='darkblue', linestyle='--')\n",
    "    plt.xlabel('False Positive Rate')\n",
    "    plt.ylabel('True Positive Rate')\n",
    "    plt.title('Figure01: Receiver Operating Characteristic (ROC) Curve')\n",
    "    plt.legend()\n",
    "    plt.show()"
   ]
  },
  {
   "cell_type": "markdown",
   "metadata": {},
   "source": [
    "#### Step 04: Work with our data"
   ]
  },
  {
   "cell_type": "code",
   "execution_count": 7,
   "metadata": {
    "ExecuteTime": {
     "end_time": "2020-06-22T01:35:36.771098Z",
     "start_time": "2020-06-22T01:35:36.765953Z"
    }
   },
   "outputs": [],
   "source": [
    "# set up data\n",
    "y_true = np.array(df['class'])\n",
    "y_score = np.array(df['scored.probability'])"
   ]
  },
  {
   "cell_type": "code",
   "execution_count": 13,
   "metadata": {
    "ExecuteTime": {
     "end_time": "2020-06-22T01:42:06.992075Z",
     "start_time": "2020-06-22T01:42:06.546844Z"
    }
   },
   "outputs": [
    {
     "name": "stdout",
     "output_type": "stream",
     "text": [
      "auc score: 0.8503112620260328\n"
     ]
    },
    {
     "data": {
      "image/png": "[encoded data removed]",
      "text/plain": [
       "<Figure size 432x288 with 1 Axes>"
      ]
     },
     "metadata": {
      "needs_background": "light"
     },
     "output_type": "display_data"
    }
   ],
   "source": [
    "# Step01: Calculate tps, fps, and thresholds\n",
    "tps, fps, thresholds = _binary_clf_curve(y_true, y_score)\n",
    "\n",
    "# Step 02: Calculate AUC \n",
    "auc_score = _roc_auc_score(y_true, y_score)\n",
    "print('auc score:', auc_score)\n",
    "\n",
    "# Step 03: Plot ROC curve\n",
    "plot_roc_curve(y_true, y_score)\n"
   ]
  },
  {
   "cell_type": "markdown",
   "metadata": {},
   "source": [
    "***\n",
    "### 13) Using scikit-learn package  to generate a ROC plot and calculate AUC\n",
    "\n",
    "**a. Using `metrics.auc()` to calculate AUC**"
   ]
  },
  {
   "cell_type": "code",
   "execution_count": 9,
   "metadata": {
    "ExecuteTime": {
     "end_time": "2020-06-22T01:37:31.489604Z",
     "start_time": "2020-06-22T01:37:30.033775Z"
    }
   },
   "outputs": [
    {
     "name": "stdout",
     "output_type": "stream",
     "text": [
      "package auc socre: 0.8503112620260328\n"
     ]
    }
   ],
   "source": [
    "from sklearn.metrics import roc_auc_score\n",
    "\n",
    "# confirm with scikit-learn's result\n",
    "auc = roc_auc_score(df['class'], df['scored.probability'])\n",
    "print('package auc socre:', auc_score)"
   ]
  },
  {
   "cell_type": "markdown",
   "metadata": {},
   "source": [
    "**b. Using `sklearn.metrics.roc_curve` to generate a ROC plot**"
   ]
  },
  {
   "cell_type": "code",
   "execution_count": 14,
   "metadata": {
    "ExecuteTime": {
     "end_time": "2020-06-22T01:42:18.481238Z",
     "start_time": "2020-06-22T01:42:18.010198Z"
    }
   },
   "outputs": [
    {
     "data": {
      "image/png": "[encoded data removed]",
      "text/plain": [
       "<Figure size 432x288 with 1 Axes>"
      ]
     },
     "metadata": {
      "needs_background": "light"
     },
     "output_type": "display_data"
    }
   ],
   "source": [
    "from sklearn.metrics import roc_curve\n",
    "\n",
    "def plot_roc_curve(fpr, tpr, label=None):\n",
    "    plt.plot(fpr00, tpr00, color='green', label='AUC=%0.2f'%auc)\n",
    "    plt.plot([0, 1], [0, 1], color='darkred', linestyle='--')\n",
    "    plt.xlabel('False Positive Rate')\n",
    "    plt.ylabel('True Positive Rate')\n",
    "    plt.title('Figure02: ROC Curve')\n",
    "    plt.legend()\n",
    "    plt.show()\n",
    "\n",
    "fpr00, tpr00, thresholds = roc_curve(df['class'], df['scored.probability'])\n",
    "\n",
    "plot_roc_curve(fpr00, tpr00)\n"
   ]
  },
  {
   "cell_type": "markdown",
   "metadata": {},
   "source": [
    "#### Findings:\n",
    ">1. Figure01 was generated by using the function. Figure02 was generated by using scikit-learn package. \n",
    ">2. These two figures look the same. \n",
    ">3. The AUC score calculated by the function is 0.8503112620260328, which is the same as the AUC socre calculated by scikit-learn package."
   ]
  },
  {
   "cell_type": "code",
   "execution_count": null,
   "metadata": {},
   "outputs": [],
   "source": []
  }
 ],
 "metadata": {
  "kernelspec": {
   "display_name": "Python 3",
   "language": "python",
   "name": "python3"
  },
  "language_info": {
   "codemirror_mode": {
    "name": "ipython",
    "version": 3
   },
   "file_extension": ".py",
   "mimetype": "text/x-python",
   "name": "python",
   "nbconvert_exporter": "python",
   "pygments_lexer": "ipython3",
   "version": "3.7.4"
  },
  "varInspector": {
   "cols": {
    "lenName": 16,
    "lenType": 16,
    "lenVar": 40
   },
   "kernels_config": {
    "python": {
     "delete_cmd_postfix": "",
     "delete_cmd_prefix": "del ",
     "library": "var_list.py",
     "varRefreshCmd": "print(var_dic_list())"
    },
    "r": {
     "delete_cmd_postfix": ") ",
     "delete_cmd_prefix": "rm(",
     "library": "var_list.r",
     "varRefreshCmd": "cat(var_dic_list()) "
    }
   },
   "types_to_exclude": [
    "module",
    "function",
    "builtin_function_or_method",
    "instance",
    "_Feature"
   ],
   "window_display": false
  }
 },
 "nbformat": 4,
 "nbformat_minor": 2
}
